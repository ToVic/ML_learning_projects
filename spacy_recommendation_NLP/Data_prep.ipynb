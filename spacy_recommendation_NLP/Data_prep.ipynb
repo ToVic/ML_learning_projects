{
 "cells": [
  {
   "cell_type": "code",
   "execution_count": 1,
   "metadata": {},
   "outputs": [],
   "source": [
    "import numpy as np\n",
    "import pandas as pd\n",
    "import seaborn as sns\n",
    "from pylab import rcParams\n",
    "import matplotlib.pyplot as plt\n",
    "from matplotlib import rc\n",
    "%matplotlib inline\n",
    "%config InlineBackend.figure_format='retina'\n",
    "sns.set(style='whitegrid', palette='muted', font_scale=1.5)\n",
    "rcParams['figure.figsize'] = 16, 10\n",
    "RANDOM_SEED = 42\n",
    "np.random.seed(RANDOM_SEED)\n"
   ]
  },
  {
   "cell_type": "code",
   "execution_count": 2,
   "metadata": {
    "scrolled": false
   },
   "outputs": [
    {
     "data": {
      "text/html": [
       "<div>\n",
       "<style scoped>\n",
       "    .dataframe tbody tr th:only-of-type {\n",
       "        vertical-align: middle;\n",
       "    }\n",
       "\n",
       "    .dataframe tbody tr th {\n",
       "        vertical-align: top;\n",
       "    }\n",
       "\n",
       "    .dataframe thead th {\n",
       "        text-align: right;\n",
       "    }\n",
       "</style>\n",
       "<table border=\"1\" class=\"dataframe\">\n",
       "  <thead>\n",
       "    <tr style=\"text-align: right;\">\n",
       "      <th></th>\n",
       "      <th>Hotel_Address</th>\n",
       "      <th>Additional_Number_of_Scoring</th>\n",
       "      <th>Review_Date</th>\n",
       "      <th>Average_Score</th>\n",
       "      <th>Hotel_Name</th>\n",
       "      <th>Reviewer_Nationality</th>\n",
       "      <th>Negative_Review</th>\n",
       "      <th>Review_Total_Negative_Word_Counts</th>\n",
       "      <th>Total_Number_of_Reviews</th>\n",
       "      <th>Positive_Review</th>\n",
       "      <th>Review_Total_Positive_Word_Counts</th>\n",
       "      <th>Total_Number_of_Reviews_Reviewer_Has_Given</th>\n",
       "      <th>Reviewer_Score</th>\n",
       "      <th>Tags</th>\n",
       "      <th>days_since_review</th>\n",
       "      <th>lat</th>\n",
       "      <th>lng</th>\n",
       "    </tr>\n",
       "  </thead>\n",
       "  <tbody>\n",
       "    <tr>\n",
       "      <th>0</th>\n",
       "      <td>s Gravesandestraat 55 Oost 1092 AA Amsterdam ...</td>\n",
       "      <td>194</td>\n",
       "      <td>8/3/2017</td>\n",
       "      <td>7.7</td>\n",
       "      <td>Hotel Arena</td>\n",
       "      <td>Russia</td>\n",
       "      <td>I am so angry that i made this post available...</td>\n",
       "      <td>397</td>\n",
       "      <td>1403</td>\n",
       "      <td>Only the park outside of the hotel was beauti...</td>\n",
       "      <td>11</td>\n",
       "      <td>7</td>\n",
       "      <td>2.9</td>\n",
       "      <td>[' Leisure trip ', ' Couple ', ' Duplex Double...</td>\n",
       "      <td>0 days</td>\n",
       "      <td>52.360576</td>\n",
       "      <td>4.915968</td>\n",
       "    </tr>\n",
       "    <tr>\n",
       "      <th>1</th>\n",
       "      <td>s Gravesandestraat 55 Oost 1092 AA Amsterdam ...</td>\n",
       "      <td>194</td>\n",
       "      <td>8/3/2017</td>\n",
       "      <td>7.7</td>\n",
       "      <td>Hotel Arena</td>\n",
       "      <td>Ireland</td>\n",
       "      <td>No Negative</td>\n",
       "      <td>0</td>\n",
       "      <td>1403</td>\n",
       "      <td>No real complaints the hotel was great great ...</td>\n",
       "      <td>105</td>\n",
       "      <td>7</td>\n",
       "      <td>7.5</td>\n",
       "      <td>[' Leisure trip ', ' Couple ', ' Duplex Double...</td>\n",
       "      <td>0 days</td>\n",
       "      <td>52.360576</td>\n",
       "      <td>4.915968</td>\n",
       "    </tr>\n",
       "    <tr>\n",
       "      <th>2</th>\n",
       "      <td>s Gravesandestraat 55 Oost 1092 AA Amsterdam ...</td>\n",
       "      <td>194</td>\n",
       "      <td>7/31/2017</td>\n",
       "      <td>7.7</td>\n",
       "      <td>Hotel Arena</td>\n",
       "      <td>Australia</td>\n",
       "      <td>Rooms are nice but for elderly a bit difficul...</td>\n",
       "      <td>42</td>\n",
       "      <td>1403</td>\n",
       "      <td>Location was good and staff were ok It is cut...</td>\n",
       "      <td>21</td>\n",
       "      <td>9</td>\n",
       "      <td>7.1</td>\n",
       "      <td>[' Leisure trip ', ' Family with young childre...</td>\n",
       "      <td>3 days</td>\n",
       "      <td>52.360576</td>\n",
       "      <td>4.915968</td>\n",
       "    </tr>\n",
       "    <tr>\n",
       "      <th>3</th>\n",
       "      <td>s Gravesandestraat 55 Oost 1092 AA Amsterdam ...</td>\n",
       "      <td>194</td>\n",
       "      <td>7/31/2017</td>\n",
       "      <td>7.7</td>\n",
       "      <td>Hotel Arena</td>\n",
       "      <td>United Kingdom</td>\n",
       "      <td>My room was dirty and I was afraid to walk ba...</td>\n",
       "      <td>210</td>\n",
       "      <td>1403</td>\n",
       "      <td>Great location in nice surroundings the bar a...</td>\n",
       "      <td>26</td>\n",
       "      <td>1</td>\n",
       "      <td>3.8</td>\n",
       "      <td>[' Leisure trip ', ' Solo traveler ', ' Duplex...</td>\n",
       "      <td>3 days</td>\n",
       "      <td>52.360576</td>\n",
       "      <td>4.915968</td>\n",
       "    </tr>\n",
       "    <tr>\n",
       "      <th>4</th>\n",
       "      <td>s Gravesandestraat 55 Oost 1092 AA Amsterdam ...</td>\n",
       "      <td>194</td>\n",
       "      <td>7/24/2017</td>\n",
       "      <td>7.7</td>\n",
       "      <td>Hotel Arena</td>\n",
       "      <td>New Zealand</td>\n",
       "      <td>You When I booked with your company on line y...</td>\n",
       "      <td>140</td>\n",
       "      <td>1403</td>\n",
       "      <td>Amazing location and building Romantic setting</td>\n",
       "      <td>8</td>\n",
       "      <td>3</td>\n",
       "      <td>6.7</td>\n",
       "      <td>[' Leisure trip ', ' Couple ', ' Suite ', ' St...</td>\n",
       "      <td>10 days</td>\n",
       "      <td>52.360576</td>\n",
       "      <td>4.915968</td>\n",
       "    </tr>\n",
       "  </tbody>\n",
       "</table>\n",
       "</div>"
      ],
      "text/plain": [
       "                                       Hotel_Address  \\\n",
       "0   s Gravesandestraat 55 Oost 1092 AA Amsterdam ...   \n",
       "1   s Gravesandestraat 55 Oost 1092 AA Amsterdam ...   \n",
       "2   s Gravesandestraat 55 Oost 1092 AA Amsterdam ...   \n",
       "3   s Gravesandestraat 55 Oost 1092 AA Amsterdam ...   \n",
       "4   s Gravesandestraat 55 Oost 1092 AA Amsterdam ...   \n",
       "\n",
       "   Additional_Number_of_Scoring Review_Date  Average_Score   Hotel_Name  \\\n",
       "0                           194    8/3/2017            7.7  Hotel Arena   \n",
       "1                           194    8/3/2017            7.7  Hotel Arena   \n",
       "2                           194   7/31/2017            7.7  Hotel Arena   \n",
       "3                           194   7/31/2017            7.7  Hotel Arena   \n",
       "4                           194   7/24/2017            7.7  Hotel Arena   \n",
       "\n",
       "  Reviewer_Nationality                                    Negative_Review  \\\n",
       "0              Russia    I am so angry that i made this post available...   \n",
       "1             Ireland                                         No Negative   \n",
       "2           Australia    Rooms are nice but for elderly a bit difficul...   \n",
       "3      United Kingdom    My room was dirty and I was afraid to walk ba...   \n",
       "4         New Zealand    You When I booked with your company on line y...   \n",
       "\n",
       "   Review_Total_Negative_Word_Counts  Total_Number_of_Reviews  \\\n",
       "0                                397                     1403   \n",
       "1                                  0                     1403   \n",
       "2                                 42                     1403   \n",
       "3                                210                     1403   \n",
       "4                                140                     1403   \n",
       "\n",
       "                                     Positive_Review  \\\n",
       "0   Only the park outside of the hotel was beauti...   \n",
       "1   No real complaints the hotel was great great ...   \n",
       "2   Location was good and staff were ok It is cut...   \n",
       "3   Great location in nice surroundings the bar a...   \n",
       "4    Amazing location and building Romantic setting    \n",
       "\n",
       "   Review_Total_Positive_Word_Counts  \\\n",
       "0                                 11   \n",
       "1                                105   \n",
       "2                                 21   \n",
       "3                                 26   \n",
       "4                                  8   \n",
       "\n",
       "   Total_Number_of_Reviews_Reviewer_Has_Given  Reviewer_Score  \\\n",
       "0                                           7             2.9   \n",
       "1                                           7             7.5   \n",
       "2                                           9             7.1   \n",
       "3                                           1             3.8   \n",
       "4                                           3             6.7   \n",
       "\n",
       "                                                Tags days_since_review  \\\n",
       "0  [' Leisure trip ', ' Couple ', ' Duplex Double...            0 days   \n",
       "1  [' Leisure trip ', ' Couple ', ' Duplex Double...            0 days   \n",
       "2  [' Leisure trip ', ' Family with young childre...            3 days   \n",
       "3  [' Leisure trip ', ' Solo traveler ', ' Duplex...            3 days   \n",
       "4  [' Leisure trip ', ' Couple ', ' Suite ', ' St...           10 days   \n",
       "\n",
       "         lat       lng  \n",
       "0  52.360576  4.915968  \n",
       "1  52.360576  4.915968  \n",
       "2  52.360576  4.915968  \n",
       "3  52.360576  4.915968  \n",
       "4  52.360576  4.915968  "
      ]
     },
     "execution_count": 2,
     "metadata": {},
     "output_type": "execute_result"
    }
   ],
   "source": [
    "raw = pd.read_csv('Hotel_Reviews.csv')\n",
    "raw.head()"
   ]
  },
  {
   "cell_type": "code",
   "execution_count": 3,
   "metadata": {
    "scrolled": false
   },
   "outputs": [
    {
     "data": {
      "text/html": [
       "<div>\n",
       "<style scoped>\n",
       "    .dataframe tbody tr th:only-of-type {\n",
       "        vertical-align: middle;\n",
       "    }\n",
       "\n",
       "    .dataframe tbody tr th {\n",
       "        vertical-align: top;\n",
       "    }\n",
       "\n",
       "    .dataframe thead th {\n",
       "        text-align: right;\n",
       "    }\n",
       "</style>\n",
       "<table border=\"1\" class=\"dataframe\">\n",
       "  <thead>\n",
       "    <tr style=\"text-align: right;\">\n",
       "      <th></th>\n",
       "      <th>Hotel_Address</th>\n",
       "      <th>Additional_Number_of_Scoring</th>\n",
       "      <th>Review_Date</th>\n",
       "      <th>Average_Score</th>\n",
       "      <th>Hotel_Name</th>\n",
       "      <th>Reviewer_Nationality</th>\n",
       "      <th>Negative_Review</th>\n",
       "      <th>Review_Total_Negative_Word_Counts</th>\n",
       "      <th>Total_Number_of_Reviews</th>\n",
       "      <th>Positive_Review</th>\n",
       "      <th>Review_Total_Positive_Word_Counts</th>\n",
       "      <th>Total_Number_of_Reviews_Reviewer_Has_Given</th>\n",
       "      <th>Reviewer_Score</th>\n",
       "      <th>Tags</th>\n",
       "      <th>days_since_review</th>\n",
       "      <th>lat</th>\n",
       "      <th>lng</th>\n",
       "    </tr>\n",
       "  </thead>\n",
       "  <tbody>\n",
       "    <tr>\n",
       "      <th>1</th>\n",
       "      <td>s Gravesandestraat 55 Oost 1092 AA Amsterdam ...</td>\n",
       "      <td>194</td>\n",
       "      <td>8/3/2017</td>\n",
       "      <td>7.7</td>\n",
       "      <td>Hotel Arena</td>\n",
       "      <td>Ireland</td>\n",
       "      <td>No Negative</td>\n",
       "      <td>0</td>\n",
       "      <td>1403</td>\n",
       "      <td>No real complaints the hotel was great great ...</td>\n",
       "      <td>105</td>\n",
       "      <td>7</td>\n",
       "      <td>7.5</td>\n",
       "      <td>[' Leisure trip ', ' Couple ', ' Duplex Double...</td>\n",
       "      <td>0 days</td>\n",
       "      <td>52.360576</td>\n",
       "      <td>4.915968</td>\n",
       "    </tr>\n",
       "    <tr>\n",
       "      <th>8</th>\n",
       "      <td>s Gravesandestraat 55 Oost 1092 AA Amsterdam ...</td>\n",
       "      <td>194</td>\n",
       "      <td>7/9/2017</td>\n",
       "      <td>7.7</td>\n",
       "      <td>Hotel Arena</td>\n",
       "      <td>Belgium</td>\n",
       "      <td>Even though the pictures show very clean room...</td>\n",
       "      <td>34</td>\n",
       "      <td>1403</td>\n",
       "      <td>No Positive</td>\n",
       "      <td>0</td>\n",
       "      <td>3</td>\n",
       "      <td>6.5</td>\n",
       "      <td>[' Leisure trip ', ' Couple ', ' Duplex Double...</td>\n",
       "      <td>25 days</td>\n",
       "      <td>52.360576</td>\n",
       "      <td>4.915968</td>\n",
       "    </tr>\n",
       "    <tr>\n",
       "      <th>13</th>\n",
       "      <td>s Gravesandestraat 55 Oost 1092 AA Amsterdam ...</td>\n",
       "      <td>194</td>\n",
       "      <td>7/4/2017</td>\n",
       "      <td>7.7</td>\n",
       "      <td>Hotel Arena</td>\n",
       "      <td>Italy</td>\n",
       "      <td>No Negative</td>\n",
       "      <td>0</td>\n",
       "      <td>1403</td>\n",
       "      <td>This hotel is being renovated with great care...</td>\n",
       "      <td>59</td>\n",
       "      <td>6</td>\n",
       "      <td>9.2</td>\n",
       "      <td>[' Business trip ', ' Solo traveler ', ' Duple...</td>\n",
       "      <td>30 days</td>\n",
       "      <td>52.360576</td>\n",
       "      <td>4.915968</td>\n",
       "    </tr>\n",
       "    <tr>\n",
       "      <th>15</th>\n",
       "      <td>s Gravesandestraat 55 Oost 1092 AA Amsterdam ...</td>\n",
       "      <td>194</td>\n",
       "      <td>7/3/2017</td>\n",
       "      <td>7.7</td>\n",
       "      <td>Hotel Arena</td>\n",
       "      <td>Italy</td>\n",
       "      <td>No Negative</td>\n",
       "      <td>0</td>\n",
       "      <td>1403</td>\n",
       "      <td>This hotel is awesome I took it sincirely bec...</td>\n",
       "      <td>82</td>\n",
       "      <td>26</td>\n",
       "      <td>10.0</td>\n",
       "      <td>[' Leisure trip ', ' Couple ', ' Duplex Double...</td>\n",
       "      <td>31 days</td>\n",
       "      <td>52.360576</td>\n",
       "      <td>4.915968</td>\n",
       "    </tr>\n",
       "    <tr>\n",
       "      <th>18</th>\n",
       "      <td>s Gravesandestraat 55 Oost 1092 AA Amsterdam ...</td>\n",
       "      <td>194</td>\n",
       "      <td>6/29/2017</td>\n",
       "      <td>7.7</td>\n",
       "      <td>Hotel Arena</td>\n",
       "      <td>Netherlands</td>\n",
       "      <td>No Negative</td>\n",
       "      <td>0</td>\n",
       "      <td>1403</td>\n",
       "      <td>Public areas are lovely and the room was nice...</td>\n",
       "      <td>33</td>\n",
       "      <td>4</td>\n",
       "      <td>7.1</td>\n",
       "      <td>[' Business trip ', ' Group ', ' Duplex Double...</td>\n",
       "      <td>35 days</td>\n",
       "      <td>52.360576</td>\n",
       "      <td>4.915968</td>\n",
       "    </tr>\n",
       "    <tr>\n",
       "      <th>...</th>\n",
       "      <td>...</td>\n",
       "      <td>...</td>\n",
       "      <td>...</td>\n",
       "      <td>...</td>\n",
       "      <td>...</td>\n",
       "      <td>...</td>\n",
       "      <td>...</td>\n",
       "      <td>...</td>\n",
       "      <td>...</td>\n",
       "      <td>...</td>\n",
       "      <td>...</td>\n",
       "      <td>...</td>\n",
       "      <td>...</td>\n",
       "      <td>...</td>\n",
       "      <td>...</td>\n",
       "      <td>...</td>\n",
       "      <td>...</td>\n",
       "    </tr>\n",
       "    <tr>\n",
       "      <th>515724</th>\n",
       "      <td>Wurzbachgasse 21 15 Rudolfsheim F nfhaus 1150 ...</td>\n",
       "      <td>168</td>\n",
       "      <td>10/27/2015</td>\n",
       "      <td>8.1</td>\n",
       "      <td>Atlantis Hotel Vienna</td>\n",
       "      <td>India</td>\n",
       "      <td>No Negative</td>\n",
       "      <td>0</td>\n",
       "      <td>2823</td>\n",
       "      <td>Only location little far away from City</td>\n",
       "      <td>9</td>\n",
       "      <td>7</td>\n",
       "      <td>8.3</td>\n",
       "      <td>[' Leisure trip ', ' Family with young childre...</td>\n",
       "      <td>646 day</td>\n",
       "      <td>48.203745</td>\n",
       "      <td>16.335677</td>\n",
       "    </tr>\n",
       "    <tr>\n",
       "      <th>515729</th>\n",
       "      <td>Wurzbachgasse 21 15 Rudolfsheim F nfhaus 1150 ...</td>\n",
       "      <td>168</td>\n",
       "      <td>9/26/2015</td>\n",
       "      <td>8.1</td>\n",
       "      <td>Atlantis Hotel Vienna</td>\n",
       "      <td>Brazil</td>\n",
       "      <td>No Negative</td>\n",
       "      <td>0</td>\n",
       "      <td>2823</td>\n",
       "      <td>The breakfast was excelent lots of fress frui...</td>\n",
       "      <td>27</td>\n",
       "      <td>7</td>\n",
       "      <td>10.0</td>\n",
       "      <td>[' Leisure trip ', ' Couple ', ' Standard Doub...</td>\n",
       "      <td>677 day</td>\n",
       "      <td>48.203745</td>\n",
       "      <td>16.335677</td>\n",
       "    </tr>\n",
       "    <tr>\n",
       "      <th>515732</th>\n",
       "      <td>Wurzbachgasse 21 15 Rudolfsheim F nfhaus 1150 ...</td>\n",
       "      <td>168</td>\n",
       "      <td>9/6/2015</td>\n",
       "      <td>8.1</td>\n",
       "      <td>Atlantis Hotel Vienna</td>\n",
       "      <td>Kuwait</td>\n",
       "      <td>No Negative</td>\n",
       "      <td>0</td>\n",
       "      <td>2823</td>\n",
       "      <td>helpful staff allowed me to check in early as...</td>\n",
       "      <td>18</td>\n",
       "      <td>6</td>\n",
       "      <td>10.0</td>\n",
       "      <td>[' Leisure trip ', ' Family with young childre...</td>\n",
       "      <td>697 day</td>\n",
       "      <td>48.203745</td>\n",
       "      <td>16.335677</td>\n",
       "    </tr>\n",
       "    <tr>\n",
       "      <th>515735</th>\n",
       "      <td>Wurzbachgasse 21 15 Rudolfsheim F nfhaus 1150 ...</td>\n",
       "      <td>168</td>\n",
       "      <td>8/19/2015</td>\n",
       "      <td>8.1</td>\n",
       "      <td>Atlantis Hotel Vienna</td>\n",
       "      <td>Egypt</td>\n",
       "      <td>The ac was useless It was a hot week in vienn...</td>\n",
       "      <td>19</td>\n",
       "      <td>2823</td>\n",
       "      <td>No Positive</td>\n",
       "      <td>0</td>\n",
       "      <td>3</td>\n",
       "      <td>2.5</td>\n",
       "      <td>[' Leisure trip ', ' Family with older childre...</td>\n",
       "      <td>715 day</td>\n",
       "      <td>48.203745</td>\n",
       "      <td>16.335677</td>\n",
       "    </tr>\n",
       "    <tr>\n",
       "      <th>515736</th>\n",
       "      <td>Wurzbachgasse 21 15 Rudolfsheim F nfhaus 1150 ...</td>\n",
       "      <td>168</td>\n",
       "      <td>8/17/2015</td>\n",
       "      <td>8.1</td>\n",
       "      <td>Atlantis Hotel Vienna</td>\n",
       "      <td>Mexico</td>\n",
       "      <td>No Negative</td>\n",
       "      <td>0</td>\n",
       "      <td>2823</td>\n",
       "      <td>The rooms are enormous and really comfortable...</td>\n",
       "      <td>25</td>\n",
       "      <td>3</td>\n",
       "      <td>8.8</td>\n",
       "      <td>[' Leisure trip ', ' Group ', ' Standard Tripl...</td>\n",
       "      <td>717 day</td>\n",
       "      <td>48.203745</td>\n",
       "      <td>16.335677</td>\n",
       "    </tr>\n",
       "  </tbody>\n",
       "</table>\n",
       "<p>163709 rows × 17 columns</p>\n",
       "</div>"
      ],
      "text/plain": [
       "                                            Hotel_Address  \\\n",
       "1        s Gravesandestraat 55 Oost 1092 AA Amsterdam ...   \n",
       "8        s Gravesandestraat 55 Oost 1092 AA Amsterdam ...   \n",
       "13       s Gravesandestraat 55 Oost 1092 AA Amsterdam ...   \n",
       "15       s Gravesandestraat 55 Oost 1092 AA Amsterdam ...   \n",
       "18       s Gravesandestraat 55 Oost 1092 AA Amsterdam ...   \n",
       "...                                                   ...   \n",
       "515724  Wurzbachgasse 21 15 Rudolfsheim F nfhaus 1150 ...   \n",
       "515729  Wurzbachgasse 21 15 Rudolfsheim F nfhaus 1150 ...   \n",
       "515732  Wurzbachgasse 21 15 Rudolfsheim F nfhaus 1150 ...   \n",
       "515735  Wurzbachgasse 21 15 Rudolfsheim F nfhaus 1150 ...   \n",
       "515736  Wurzbachgasse 21 15 Rudolfsheim F nfhaus 1150 ...   \n",
       "\n",
       "        Additional_Number_of_Scoring Review_Date  Average_Score  \\\n",
       "1                                194    8/3/2017            7.7   \n",
       "8                                194    7/9/2017            7.7   \n",
       "13                               194    7/4/2017            7.7   \n",
       "15                               194    7/3/2017            7.7   \n",
       "18                               194   6/29/2017            7.7   \n",
       "...                              ...         ...            ...   \n",
       "515724                           168  10/27/2015            8.1   \n",
       "515729                           168   9/26/2015            8.1   \n",
       "515732                           168    9/6/2015            8.1   \n",
       "515735                           168   8/19/2015            8.1   \n",
       "515736                           168   8/17/2015            8.1   \n",
       "\n",
       "                   Hotel_Name Reviewer_Nationality  \\\n",
       "1                 Hotel Arena             Ireland    \n",
       "8                 Hotel Arena             Belgium    \n",
       "13                Hotel Arena               Italy    \n",
       "15                Hotel Arena               Italy    \n",
       "18                Hotel Arena         Netherlands    \n",
       "...                       ...                  ...   \n",
       "515724  Atlantis Hotel Vienna               India    \n",
       "515729  Atlantis Hotel Vienna              Brazil    \n",
       "515732  Atlantis Hotel Vienna              Kuwait    \n",
       "515735  Atlantis Hotel Vienna               Egypt    \n",
       "515736  Atlantis Hotel Vienna              Mexico    \n",
       "\n",
       "                                          Negative_Review  \\\n",
       "1                                             No Negative   \n",
       "8        Even though the pictures show very clean room...   \n",
       "13                                            No Negative   \n",
       "15                                            No Negative   \n",
       "18                                            No Negative   \n",
       "...                                                   ...   \n",
       "515724                                        No Negative   \n",
       "515729                                        No Negative   \n",
       "515732                                        No Negative   \n",
       "515735   The ac was useless It was a hot week in vienn...   \n",
       "515736                                        No Negative   \n",
       "\n",
       "        Review_Total_Negative_Word_Counts  Total_Number_of_Reviews  \\\n",
       "1                                       0                     1403   \n",
       "8                                      34                     1403   \n",
       "13                                      0                     1403   \n",
       "15                                      0                     1403   \n",
       "18                                      0                     1403   \n",
       "...                                   ...                      ...   \n",
       "515724                                  0                     2823   \n",
       "515729                                  0                     2823   \n",
       "515732                                  0                     2823   \n",
       "515735                                 19                     2823   \n",
       "515736                                  0                     2823   \n",
       "\n",
       "                                          Positive_Review  \\\n",
       "1        No real complaints the hotel was great great ...   \n",
       "8                                             No Positive   \n",
       "13       This hotel is being renovated with great care...   \n",
       "15       This hotel is awesome I took it sincirely bec...   \n",
       "18       Public areas are lovely and the room was nice...   \n",
       "...                                                   ...   \n",
       "515724           Only location little far away from City    \n",
       "515729   The breakfast was excelent lots of fress frui...   \n",
       "515732   helpful staff allowed me to check in early as...   \n",
       "515735                                        No Positive   \n",
       "515736   The rooms are enormous and really comfortable...   \n",
       "\n",
       "        Review_Total_Positive_Word_Counts  \\\n",
       "1                                     105   \n",
       "8                                       0   \n",
       "13                                     59   \n",
       "15                                     82   \n",
       "18                                     33   \n",
       "...                                   ...   \n",
       "515724                                  9   \n",
       "515729                                 27   \n",
       "515732                                 18   \n",
       "515735                                  0   \n",
       "515736                                 25   \n",
       "\n",
       "        Total_Number_of_Reviews_Reviewer_Has_Given  Reviewer_Score  \\\n",
       "1                                                7             7.5   \n",
       "8                                                3             6.5   \n",
       "13                                               6             9.2   \n",
       "15                                              26            10.0   \n",
       "18                                               4             7.1   \n",
       "...                                            ...             ...   \n",
       "515724                                           7             8.3   \n",
       "515729                                           7            10.0   \n",
       "515732                                           6            10.0   \n",
       "515735                                           3             2.5   \n",
       "515736                                           3             8.8   \n",
       "\n",
       "                                                     Tags days_since_review  \\\n",
       "1       [' Leisure trip ', ' Couple ', ' Duplex Double...            0 days   \n",
       "8       [' Leisure trip ', ' Couple ', ' Duplex Double...           25 days   \n",
       "13      [' Business trip ', ' Solo traveler ', ' Duple...           30 days   \n",
       "15      [' Leisure trip ', ' Couple ', ' Duplex Double...           31 days   \n",
       "18      [' Business trip ', ' Group ', ' Duplex Double...           35 days   \n",
       "...                                                   ...               ...   \n",
       "515724  [' Leisure trip ', ' Family with young childre...           646 day   \n",
       "515729  [' Leisure trip ', ' Couple ', ' Standard Doub...           677 day   \n",
       "515732  [' Leisure trip ', ' Family with young childre...           697 day   \n",
       "515735  [' Leisure trip ', ' Family with older childre...           715 day   \n",
       "515736  [' Leisure trip ', ' Group ', ' Standard Tripl...           717 day   \n",
       "\n",
       "              lat        lng  \n",
       "1       52.360576   4.915968  \n",
       "8       52.360576   4.915968  \n",
       "13      52.360576   4.915968  \n",
       "15      52.360576   4.915968  \n",
       "18      52.360576   4.915968  \n",
       "...           ...        ...  \n",
       "515724  48.203745  16.335677  \n",
       "515729  48.203745  16.335677  \n",
       "515732  48.203745  16.335677  \n",
       "515735  48.203745  16.335677  \n",
       "515736  48.203745  16.335677  \n",
       "\n",
       "[163709 rows x 17 columns]"
      ]
     },
     "execution_count": 3,
     "metadata": {},
     "output_type": "execute_result"
    }
   ],
   "source": [
    "raw[(raw['Negative_Review']=='No Negative')|(raw['Positive_Review']=='No Positive')]"
   ]
  },
  {
   "cell_type": "code",
   "execution_count": 4,
   "metadata": {},
   "outputs": [
    {
     "data": {
      "text/plain": [
       "227"
      ]
     },
     "execution_count": 4,
     "metadata": {},
     "output_type": "execute_result"
    }
   ],
   "source": [
    "raw['Reviewer_Nationality'].nunique()"
   ]
  },
  {
   "cell_type": "code",
   "execution_count": 5,
   "metadata": {},
   "outputs": [
    {
     "data": {
      "text/plain": [
       "(array([  3833.,   6895.,  11553.,  17948.,  12531.,  34091.,  60144.,\n",
       "         74769., 106167., 187807.]),\n",
       " array([ 2.5 ,  3.25,  4.  ,  4.75,  5.5 ,  6.25,  7.  ,  7.75,  8.5 ,\n",
       "         9.25, 10.  ]),\n",
       " <BarContainer object of 10 artists>)"
      ]
     },
     "execution_count": 5,
     "metadata": {},
     "output_type": "execute_result"
    },
    {
     "data": {
      "image/png": "[encoded data removed]",
      "text/plain": [
       "<Figure size 1152x720 with 1 Axes>"
      ]
     },
     "metadata": {
      "image/png": {
       "height": 583,
       "width": 971
      }
     },
     "output_type": "display_data"
    }
   ],
   "source": [
    "plt.hist(raw['Reviewer_Score'])"
   ]
  },
  {
   "cell_type": "code",
   "execution_count": 6,
   "metadata": {
    "scrolled": true
   },
   "outputs": [
    {
     "name": "stdout",
     "output_type": "stream",
     "text": [
      "Hotel_Address                                 52507\n",
      "Additional_Number_of_Scoring                  52507\n",
      "Review_Date                                   52507\n",
      "Average_Score                                 52507\n",
      "Hotel_Name                                    52507\n",
      "Reviewer_Nationality                          52507\n",
      "Negative_Review                               52507\n",
      "Review_Total_Negative_Word_Counts             52507\n",
      "Total_Number_of_Reviews                       52507\n",
      "Positive_Review                               52507\n",
      "Review_Total_Positive_Word_Counts             52507\n",
      "Total_Number_of_Reviews_Reviewer_Has_Given    52507\n",
      "Reviewer_Score                                52507\n",
      "Tags                                          52507\n",
      "days_since_review                             52507\n",
      "lat                                           52176\n",
      "lng                                           52176\n",
      "dtype: int64\n",
      "Hotel_Address                                 127585\n",
      "Additional_Number_of_Scoring                  127585\n",
      "Review_Date                                   127585\n",
      "Average_Score                                 127585\n",
      "Hotel_Name                                    127585\n",
      "Reviewer_Nationality                          127585\n",
      "Negative_Review                               127585\n",
      "Review_Total_Negative_Word_Counts             127585\n",
      "Total_Number_of_Reviews                       127585\n",
      "Positive_Review                               127585\n",
      "Review_Total_Positive_Word_Counts             127585\n",
      "Total_Number_of_Reviews_Reviewer_Has_Given    127585\n",
      "Reviewer_Score                                127585\n",
      "Tags                                          127585\n",
      "days_since_review                             127585\n",
      "lat                                           126730\n",
      "lng                                           126730\n",
      "dtype: int64\n",
      "Hotel_Address                                 335646\n",
      "Additional_Number_of_Scoring                  335646\n",
      "Review_Date                                   335646\n",
      "Average_Score                                 335646\n",
      "Hotel_Name                                    335646\n",
      "Reviewer_Nationality                          335646\n",
      "Negative_Review                               335646\n",
      "Review_Total_Negative_Word_Counts             335646\n",
      "Total_Number_of_Reviews                       335646\n",
      "Positive_Review                               335646\n",
      "Review_Total_Positive_Word_Counts             335646\n",
      "Total_Number_of_Reviews_Reviewer_Has_Given    335646\n",
      "Reviewer_Score                                335646\n",
      "Tags                                          335646\n",
      "days_since_review                             335646\n",
      "lat                                           333564\n",
      "lng                                           333564\n",
      "dtype: int64\n"
     ]
    }
   ],
   "source": [
    "print(raw[(raw['Reviewer_Score'] < 6)].count())\n",
    "print(raw[(raw['Reviewer_Score'] >= 6) & (raw['Reviewer_Score'] < 8)].count())\n",
    "print(raw[(raw['Reviewer_Score'] >= 8)].count())\n"
   ]
  },
  {
   "cell_type": "code",
   "execution_count": 7,
   "metadata": {},
   "outputs": [],
   "source": [
    "asd = raw.iloc[0:5]"
   ]
  },
  {
   "cell_type": "code",
   "execution_count": 8,
   "metadata": {
    "scrolled": true
   },
   "outputs": [
    {
     "data": {
      "text/html": [
       "<div>\n",
       "<style scoped>\n",
       "    .dataframe tbody tr th:only-of-type {\n",
       "        vertical-align: middle;\n",
       "    }\n",
       "\n",
       "    .dataframe tbody tr th {\n",
       "        vertical-align: top;\n",
       "    }\n",
       "\n",
       "    .dataframe thead th {\n",
       "        text-align: right;\n",
       "    }\n",
       "</style>\n",
       "<table border=\"1\" class=\"dataframe\">\n",
       "  <thead>\n",
       "    <tr style=\"text-align: right;\">\n",
       "      <th></th>\n",
       "      <th>Hotel_Address</th>\n",
       "      <th>Additional_Number_of_Scoring</th>\n",
       "      <th>Review_Date</th>\n",
       "      <th>Average_Score</th>\n",
       "      <th>Hotel_Name</th>\n",
       "      <th>Reviewer_Nationality</th>\n",
       "      <th>Negative_Review</th>\n",
       "      <th>Review_Total_Negative_Word_Counts</th>\n",
       "      <th>Total_Number_of_Reviews</th>\n",
       "      <th>Positive_Review</th>\n",
       "      <th>Review_Total_Positive_Word_Counts</th>\n",
       "      <th>Total_Number_of_Reviews_Reviewer_Has_Given</th>\n",
       "      <th>Reviewer_Score</th>\n",
       "      <th>Tags</th>\n",
       "      <th>days_since_review</th>\n",
       "      <th>lat</th>\n",
       "      <th>lng</th>\n",
       "    </tr>\n",
       "  </thead>\n",
       "  <tbody>\n",
       "    <tr>\n",
       "      <th>0</th>\n",
       "      <td>s Gravesandestraat 55 Oost 1092 AA Amsterdam ...</td>\n",
       "      <td>194</td>\n",
       "      <td>8/3/2017</td>\n",
       "      <td>7.7</td>\n",
       "      <td>Hotel Arena</td>\n",
       "      <td>Russia</td>\n",
       "      <td>I am so angry that i made this post available...</td>\n",
       "      <td>397</td>\n",
       "      <td>1403</td>\n",
       "      <td>Only the park outside of the hotel was beauti...</td>\n",
       "      <td>11</td>\n",
       "      <td>7</td>\n",
       "      <td>2.9</td>\n",
       "      <td>[' Leisure trip ', ' Couple ', ' Duplex Double...</td>\n",
       "      <td>0 days</td>\n",
       "      <td>52.360576</td>\n",
       "      <td>4.915968</td>\n",
       "    </tr>\n",
       "    <tr>\n",
       "      <th>1</th>\n",
       "      <td>s Gravesandestraat 55 Oost 1092 AA Amsterdam ...</td>\n",
       "      <td>194</td>\n",
       "      <td>8/3/2017</td>\n",
       "      <td>7.7</td>\n",
       "      <td>Hotel Arena</td>\n",
       "      <td>Ireland</td>\n",
       "      <td>No Negative</td>\n",
       "      <td>0</td>\n",
       "      <td>1403</td>\n",
       "      <td>No real complaints the hotel was great great ...</td>\n",
       "      <td>105</td>\n",
       "      <td>7</td>\n",
       "      <td>7.5</td>\n",
       "      <td>[' Leisure trip ', ' Couple ', ' Duplex Double...</td>\n",
       "      <td>0 days</td>\n",
       "      <td>52.360576</td>\n",
       "      <td>4.915968</td>\n",
       "    </tr>\n",
       "    <tr>\n",
       "      <th>2</th>\n",
       "      <td>s Gravesandestraat 55 Oost 1092 AA Amsterdam ...</td>\n",
       "      <td>194</td>\n",
       "      <td>7/31/2017</td>\n",
       "      <td>7.7</td>\n",
       "      <td>Hotel Arena</td>\n",
       "      <td>Australia</td>\n",
       "      <td>Rooms are nice but for elderly a bit difficul...</td>\n",
       "      <td>42</td>\n",
       "      <td>1403</td>\n",
       "      <td>Location was good and staff were ok It is cut...</td>\n",
       "      <td>21</td>\n",
       "      <td>9</td>\n",
       "      <td>7.1</td>\n",
       "      <td>[' Leisure trip ', ' Family with young childre...</td>\n",
       "      <td>3 days</td>\n",
       "      <td>52.360576</td>\n",
       "      <td>4.915968</td>\n",
       "    </tr>\n",
       "    <tr>\n",
       "      <th>3</th>\n",
       "      <td>s Gravesandestraat 55 Oost 1092 AA Amsterdam ...</td>\n",
       "      <td>194</td>\n",
       "      <td>7/31/2017</td>\n",
       "      <td>7.7</td>\n",
       "      <td>Hotel Arena</td>\n",
       "      <td>United Kingdom</td>\n",
       "      <td>My room was dirty and I was afraid to walk ba...</td>\n",
       "      <td>210</td>\n",
       "      <td>1403</td>\n",
       "      <td>Great location in nice surroundings the bar a...</td>\n",
       "      <td>26</td>\n",
       "      <td>1</td>\n",
       "      <td>3.8</td>\n",
       "      <td>[' Leisure trip ', ' Solo traveler ', ' Duplex...</td>\n",
       "      <td>3 days</td>\n",
       "      <td>52.360576</td>\n",
       "      <td>4.915968</td>\n",
       "    </tr>\n",
       "    <tr>\n",
       "      <th>4</th>\n",
       "      <td>s Gravesandestraat 55 Oost 1092 AA Amsterdam ...</td>\n",
       "      <td>194</td>\n",
       "      <td>7/24/2017</td>\n",
       "      <td>7.7</td>\n",
       "      <td>Hotel Arena</td>\n",
       "      <td>New Zealand</td>\n",
       "      <td>You When I booked with your company on line y...</td>\n",
       "      <td>140</td>\n",
       "      <td>1403</td>\n",
       "      <td>Amazing location and building Romantic setting</td>\n",
       "      <td>8</td>\n",
       "      <td>3</td>\n",
       "      <td>6.7</td>\n",
       "      <td>[' Leisure trip ', ' Couple ', ' Suite ', ' St...</td>\n",
       "      <td>10 days</td>\n",
       "      <td>52.360576</td>\n",
       "      <td>4.915968</td>\n",
       "    </tr>\n",
       "  </tbody>\n",
       "</table>\n",
       "</div>"
      ],
      "text/plain": [
       "                                       Hotel_Address  \\\n",
       "0   s Gravesandestraat 55 Oost 1092 AA Amsterdam ...   \n",
       "1   s Gravesandestraat 55 Oost 1092 AA Amsterdam ...   \n",
       "2   s Gravesandestraat 55 Oost 1092 AA Amsterdam ...   \n",
       "3   s Gravesandestraat 55 Oost 1092 AA Amsterdam ...   \n",
       "4   s Gravesandestraat 55 Oost 1092 AA Amsterdam ...   \n",
       "\n",
       "   Additional_Number_of_Scoring Review_Date  Average_Score   Hotel_Name  \\\n",
       "0                           194    8/3/2017            7.7  Hotel Arena   \n",
       "1                           194    8/3/2017            7.7  Hotel Arena   \n",
       "2                           194   7/31/2017            7.7  Hotel Arena   \n",
       "3                           194   7/31/2017            7.7  Hotel Arena   \n",
       "4                           194   7/24/2017            7.7  Hotel Arena   \n",
       "\n",
       "  Reviewer_Nationality                                    Negative_Review  \\\n",
       "0              Russia    I am so angry that i made this post available...   \n",
       "1             Ireland                                         No Negative   \n",
       "2           Australia    Rooms are nice but for elderly a bit difficul...   \n",
       "3      United Kingdom    My room was dirty and I was afraid to walk ba...   \n",
       "4         New Zealand    You When I booked with your company on line y...   \n",
       "\n",
       "   Review_Total_Negative_Word_Counts  Total_Number_of_Reviews  \\\n",
       "0                                397                     1403   \n",
       "1                                  0                     1403   \n",
       "2                                 42                     1403   \n",
       "3                                210                     1403   \n",
       "4                                140                     1403   \n",
       "\n",
       "                                     Positive_Review  \\\n",
       "0   Only the park outside of the hotel was beauti...   \n",
       "1   No real complaints the hotel was great great ...   \n",
       "2   Location was good and staff were ok It is cut...   \n",
       "3   Great location in nice surroundings the bar a...   \n",
       "4    Amazing location and building Romantic setting    \n",
       "\n",
       "   Review_Total_Positive_Word_Counts  \\\n",
       "0                                 11   \n",
       "1                                105   \n",
       "2                                 21   \n",
       "3                                 26   \n",
       "4                                  8   \n",
       "\n",
       "   Total_Number_of_Reviews_Reviewer_Has_Given  Reviewer_Score  \\\n",
       "0                                           7             2.9   \n",
       "1                                           7             7.5   \n",
       "2                                           9             7.1   \n",
       "3                                           1             3.8   \n",
       "4                                           3             6.7   \n",
       "\n",
       "                                                Tags days_since_review  \\\n",
       "0  [' Leisure trip ', ' Couple ', ' Duplex Double...            0 days   \n",
       "1  [' Leisure trip ', ' Couple ', ' Duplex Double...            0 days   \n",
       "2  [' Leisure trip ', ' Family with young childre...            3 days   \n",
       "3  [' Leisure trip ', ' Solo traveler ', ' Duplex...            3 days   \n",
       "4  [' Leisure trip ', ' Couple ', ' Suite ', ' St...           10 days   \n",
       "\n",
       "         lat       lng  \n",
       "0  52.360576  4.915968  \n",
       "1  52.360576  4.915968  \n",
       "2  52.360576  4.915968  \n",
       "3  52.360576  4.915968  \n",
       "4  52.360576  4.915968  "
      ]
     },
     "execution_count": 8,
     "metadata": {},
     "output_type": "execute_result"
    }
   ],
   "source": [
    "asd.head()"
   ]
  },
  {
   "cell_type": "code",
   "execution_count": 9,
   "metadata": {},
   "outputs": [
    {
     "data": {
      "text/plain": [
       "Index(['Hotel_Address', 'Additional_Number_of_Scoring', 'Review_Date',\n",
       "       'Average_Score', 'Hotel_Name', 'Reviewer_Nationality',\n",
       "       'Negative_Review', 'Review_Total_Negative_Word_Counts',\n",
       "       'Total_Number_of_Reviews', 'Positive_Review',\n",
       "       'Review_Total_Positive_Word_Counts',\n",
       "       'Total_Number_of_Reviews_Reviewer_Has_Given', 'Reviewer_Score', 'Tags',\n",
       "       'days_since_review', 'lat', 'lng'],\n",
       "      dtype='object')"
      ]
     },
     "execution_count": 9,
     "metadata": {},
     "output_type": "execute_result"
    }
   ],
   "source": [
    "asd.columns"
   ]
  },
  {
   "cell_type": "code",
   "execution_count": 10,
   "metadata": {},
   "outputs": [
    {
     "name": "stderr",
     "output_type": "stream",
     "text": [
      "<ipython-input-10-d8ad778d0337>:1: SettingWithCopyWarning: \n",
      "A value is trying to be set on a copy of a slice from a DataFrame.\n",
      "Try using .loc[row_indexer,col_indexer] = value instead\n",
      "\n",
      "See the caveats in the documentation: https://pandas.pydata.org/pandas-docs/stable/user_guide/indexing.html#returning-a-view-versus-a-copy\n",
      "  asd['merged'] = asd['Negative_Review']+asd['Positive_Review']\n"
     ]
    }
   ],
   "source": [
    "asd['merged'] = asd['Negative_Review']+asd['Positive_Review']\n"
   ]
  },
  {
   "cell_type": "code",
   "execution_count": 11,
   "metadata": {},
   "outputs": [
    {
     "data": {
      "text/plain": [
       "0     I am so angry that i made this post available...\n",
       "1    No Negative No real complaints the hotel was g...\n",
       "2     Rooms are nice but for elderly a bit difficul...\n",
       "3     My room was dirty and I was afraid to walk ba...\n",
       "4     You When I booked with your company on line y...\n",
       "Name: merged, dtype: object"
      ]
     },
     "execution_count": 11,
     "metadata": {},
     "output_type": "execute_result"
    }
   ],
   "source": [
    "asd['merged']"
   ]
  },
  {
   "cell_type": "code",
   "execution_count": 12,
   "metadata": {},
   "outputs": [],
   "source": [
    "raw1 = raw.copy()"
   ]
  },
  {
   "cell_type": "code",
   "execution_count": 13,
   "metadata": {},
   "outputs": [],
   "source": [
    "#there are streets called after cities...\n"
   ]
  },
  {
   "cell_type": "code",
   "execution_count": 14,
   "metadata": {},
   "outputs": [],
   "source": [
    "### adding cities\n",
    "link = \"https://en.wikipedia.org/wiki/Largest_capital_cities_of_the_European_Union\"\n",
    "link2 = 'https://en.wikipedia.org/wiki/List_of_European_cities_by_population_within_city_limits'\n",
    "\n",
    "table2 = pd.read_html(link2)[0]\n",
    "table = pd.read_html(link)[0]\n",
    "#cols_to_keep = ['City']\n",
    "table2 = table2['City']\n",
    "table = table['City']\n",
    "\n",
    "table2 = table2.replace(r\"\\[.*\\]\",\"\", regex = True)\n",
    "cities_to_append = pd.Series(['London', 'Barcelona', 'Oslo', 'Helsinki', 'Athens'])\n",
    "\n",
    "tab = table.append([table2, cities_to_append], ignore_index = True)\n",
    "\n",
    "def get_city(string):\n",
    "    string_short = string.split(' ')[-5:]\n",
    "    for city in tab:\n",
    "        if city in (string_short):\n",
    "            return city\n",
    "\n",
    "raw['City'] = raw['Hotel_Address'].apply(get_city)"
   ]
  },
  {
   "cell_type": "code",
   "execution_count": 15,
   "metadata": {},
   "outputs": [
    {
     "data": {
      "text/plain": [
       "London       262301\n",
       "Barcelona     60149\n",
       "Paris         59928\n",
       "Amsterdam     57214\n",
       "Vienna        38939\n",
       "Milan         37207\n",
       "Name: City, dtype: int64"
      ]
     },
     "execution_count": 15,
     "metadata": {},
     "output_type": "execute_result"
    }
   ],
   "source": [
    "raw['City'].value_counts()"
   ]
  },
  {
   "cell_type": "code",
   "execution_count": 16,
   "metadata": {},
   "outputs": [],
   "source": [
    "raw = raw[(raw['Negative_Review']!='No Negative')&(raw['Positive_Review']!='No Positive')&(raw['Reviewer_Score']>=8)]"
   ]
  },
  {
   "cell_type": "code",
   "execution_count": 17,
   "metadata": {},
   "outputs": [
    {
     "data": {
      "text/plain": [
       "210130"
      ]
     },
     "execution_count": 17,
     "metadata": {},
     "output_type": "execute_result"
    }
   ],
   "source": [
    "len(raw)"
   ]
  },
  {
   "cell_type": "code",
   "execution_count": 18,
   "metadata": {},
   "outputs": [
    {
     "data": {
      "text/plain": [
       "Index(['Hotel_Address', 'Additional_Number_of_Scoring', 'Review_Date',\n",
       "       'Average_Score', 'Hotel_Name', 'Reviewer_Nationality',\n",
       "       'Negative_Review', 'Review_Total_Negative_Word_Counts',\n",
       "       'Total_Number_of_Reviews', 'Positive_Review',\n",
       "       'Review_Total_Positive_Word_Counts',\n",
       "       'Total_Number_of_Reviews_Reviewer_Has_Given', 'Reviewer_Score', 'Tags',\n",
       "       'days_since_review', 'lat', 'lng', 'City'],\n",
       "      dtype='object')"
      ]
     },
     "execution_count": 18,
     "metadata": {},
     "output_type": "execute_result"
    }
   ],
   "source": [
    "raw.columns"
   ]
  },
  {
   "cell_type": "code",
   "execution_count": 19,
   "metadata": {},
   "outputs": [],
   "source": [
    "raw['merged_review_text'] = raw['Negative_Review']+raw['Positive_Review']"
   ]
  },
  {
   "cell_type": "code",
   "execution_count": 20,
   "metadata": {},
   "outputs": [],
   "source": [
    "raw10 = raw.sample(n=10000)"
   ]
  },
  {
   "cell_type": "code",
   "execution_count": 21,
   "metadata": {},
   "outputs": [
    {
     "data": {
      "text/plain": [
       "10000"
      ]
     },
     "execution_count": 21,
     "metadata": {},
     "output_type": "execute_result"
    }
   ],
   "source": [
    "len(raw10)"
   ]
  },
  {
   "cell_type": "code",
   "execution_count": 22,
   "metadata": {},
   "outputs": [
    {
     "data": {
      "text/plain": [
       "Index(['Hotel_Address', 'Additional_Number_of_Scoring', 'Review_Date',\n",
       "       'Average_Score', 'Hotel_Name', 'Reviewer_Nationality',\n",
       "       'Negative_Review', 'Review_Total_Negative_Word_Counts',\n",
       "       'Total_Number_of_Reviews', 'Positive_Review',\n",
       "       'Review_Total_Positive_Word_Counts',\n",
       "       'Total_Number_of_Reviews_Reviewer_Has_Given', 'Reviewer_Score', 'Tags',\n",
       "       'days_since_review', 'lat', 'lng', 'City', 'merged_review_text'],\n",
       "      dtype='object')"
      ]
     },
     "execution_count": 22,
     "metadata": {},
     "output_type": "execute_result"
    }
   ],
   "source": [
    "raw10.columns"
   ]
  },
  {
   "cell_type": "code",
   "execution_count": 23,
   "metadata": {},
   "outputs": [],
   "source": [
    "df = raw10[['Hotel_Address','City','merged_review_text','Reviewer_Score']]"
   ]
  },
  {
   "cell_type": "code",
   "execution_count": 24,
   "metadata": {
    "scrolled": true
   },
   "outputs": [],
   "source": [
    "df.reset_index(inplace=True)"
   ]
  },
  {
   "cell_type": "code",
   "execution_count": 25,
   "metadata": {},
   "outputs": [
    {
     "data": {
      "text/html": [
       "<div>\n",
       "<style scoped>\n",
       "    .dataframe tbody tr th:only-of-type {\n",
       "        vertical-align: middle;\n",
       "    }\n",
       "\n",
       "    .dataframe tbody tr th {\n",
       "        vertical-align: top;\n",
       "    }\n",
       "\n",
       "    .dataframe thead th {\n",
       "        text-align: right;\n",
       "    }\n",
       "</style>\n",
       "<table border=\"1\" class=\"dataframe\">\n",
       "  <thead>\n",
       "    <tr style=\"text-align: right;\">\n",
       "      <th></th>\n",
       "      <th>index</th>\n",
       "      <th>Hotel_Address</th>\n",
       "      <th>City</th>\n",
       "      <th>merged_review_text</th>\n",
       "      <th>Reviewer_Score</th>\n",
       "    </tr>\n",
       "  </thead>\n",
       "  <tbody>\n",
       "    <tr>\n",
       "      <th>0</th>\n",
       "      <td>79991</td>\n",
       "      <td>19 21 Penywern Road Kensington and Chelsea Lon...</td>\n",
       "      <td>London</td>\n",
       "      <td>The staff were a bit cold at first but they g...</td>\n",
       "      <td>8.3</td>\n",
       "    </tr>\n",
       "    <tr>\n",
       "      <th>1</th>\n",
       "      <td>451573</td>\n",
       "      <td>Singel 303 309 Amsterdam City Center 1012 WJ A...</td>\n",
       "      <td>Amsterdam</td>\n",
       "      <td>Nothing View from room Location</td>\n",
       "      <td>10.0</td>\n",
       "    </tr>\n",
       "    <tr>\n",
       "      <th>2</th>\n",
       "      <td>76898</td>\n",
       "      <td>18 Avenue De Suffren Entr e au 22 rue Jean Rey...</td>\n",
       "      <td>Paris</td>\n",
       "      <td>The Eiffel is blocked by another building we ...</td>\n",
       "      <td>10.0</td>\n",
       "    </tr>\n",
       "    <tr>\n",
       "      <th>3</th>\n",
       "      <td>353119</td>\n",
       "      <td>K rntner Ring 9 01 Innere Stadt 1010 Vienna Au...</td>\n",
       "      <td>Vienna</td>\n",
       "      <td>Nothing Attention to detail Glad and smiley s...</td>\n",
       "      <td>9.6</td>\n",
       "    </tr>\n",
       "    <tr>\n",
       "      <th>4</th>\n",
       "      <td>359287</td>\n",
       "      <td>Kleine Stadtgutgasse 4 02 Leopoldstadt 1020 Vi...</td>\n",
       "      <td>Vienna</td>\n",
       "      <td>Nothing negative to mention Great location 15...</td>\n",
       "      <td>8.8</td>\n",
       "    </tr>\n",
       "  </tbody>\n",
       "</table>\n",
       "</div>"
      ],
      "text/plain": [
       "    index                                      Hotel_Address       City  \\\n",
       "0   79991  19 21 Penywern Road Kensington and Chelsea Lon...     London   \n",
       "1  451573  Singel 303 309 Amsterdam City Center 1012 WJ A...  Amsterdam   \n",
       "2   76898  18 Avenue De Suffren Entr e au 22 rue Jean Rey...      Paris   \n",
       "3  353119  K rntner Ring 9 01 Innere Stadt 1010 Vienna Au...     Vienna   \n",
       "4  359287  Kleine Stadtgutgasse 4 02 Leopoldstadt 1020 Vi...     Vienna   \n",
       "\n",
       "                                  merged_review_text  Reviewer_Score  \n",
       "0   The staff were a bit cold at first but they g...             8.3  \n",
       "1                    Nothing View from room Location            10.0  \n",
       "2   The Eiffel is blocked by another building we ...            10.0  \n",
       "3   Nothing Attention to detail Glad and smiley s...             9.6  \n",
       "4   Nothing negative to mention Great location 15...             8.8  "
      ]
     },
     "execution_count": 25,
     "metadata": {},
     "output_type": "execute_result"
    }
   ],
   "source": [
    "df.head()"
   ]
  },
  {
   "cell_type": "code",
   "execution_count": 26,
   "metadata": {},
   "outputs": [
    {
     "data": {
      "text/plain": [
       "Index(['index', 'Hotel_Address', 'City', 'merged_review_text',\n",
       "       'Reviewer_Score'],\n",
       "      dtype='object')"
      ]
     },
     "execution_count": 26,
     "metadata": {},
     "output_type": "execute_result"
    }
   ],
   "source": [
    "df.columns"
   ]
  },
  {
   "cell_type": "code",
   "execution_count": 27,
   "metadata": {},
   "outputs": [],
   "source": [
    "df = df[['Hotel_Address','City', 'merged_review_text', 'Reviewer_Score']]"
   ]
  },
  {
   "cell_type": "code",
   "execution_count": 28,
   "metadata": {},
   "outputs": [
    {
     "data": {
      "text/html": [
       "<div>\n",
       "<style scoped>\n",
       "    .dataframe tbody tr th:only-of-type {\n",
       "        vertical-align: middle;\n",
       "    }\n",
       "\n",
       "    .dataframe tbody tr th {\n",
       "        vertical-align: top;\n",
       "    }\n",
       "\n",
       "    .dataframe thead th {\n",
       "        text-align: right;\n",
       "    }\n",
       "</style>\n",
       "<table border=\"1\" class=\"dataframe\">\n",
       "  <thead>\n",
       "    <tr style=\"text-align: right;\">\n",
       "      <th></th>\n",
       "      <th>Hotel_Address</th>\n",
       "      <th>City</th>\n",
       "      <th>merged_review_text</th>\n",
       "      <th>Reviewer_Score</th>\n",
       "    </tr>\n",
       "  </thead>\n",
       "  <tbody>\n",
       "    <tr>\n",
       "      <th>0</th>\n",
       "      <td>19 21 Penywern Road Kensington and Chelsea Lon...</td>\n",
       "      <td>London</td>\n",
       "      <td>The staff were a bit cold at first but they g...</td>\n",
       "      <td>8.3</td>\n",
       "    </tr>\n",
       "    <tr>\n",
       "      <th>1</th>\n",
       "      <td>Singel 303 309 Amsterdam City Center 1012 WJ A...</td>\n",
       "      <td>Amsterdam</td>\n",
       "      <td>Nothing View from room Location</td>\n",
       "      <td>10.0</td>\n",
       "    </tr>\n",
       "    <tr>\n",
       "      <th>2</th>\n",
       "      <td>18 Avenue De Suffren Entr e au 22 rue Jean Rey...</td>\n",
       "      <td>Paris</td>\n",
       "      <td>The Eiffel is blocked by another building we ...</td>\n",
       "      <td>10.0</td>\n",
       "    </tr>\n",
       "    <tr>\n",
       "      <th>3</th>\n",
       "      <td>K rntner Ring 9 01 Innere Stadt 1010 Vienna Au...</td>\n",
       "      <td>Vienna</td>\n",
       "      <td>Nothing Attention to detail Glad and smiley s...</td>\n",
       "      <td>9.6</td>\n",
       "    </tr>\n",
       "    <tr>\n",
       "      <th>4</th>\n",
       "      <td>Kleine Stadtgutgasse 4 02 Leopoldstadt 1020 Vi...</td>\n",
       "      <td>Vienna</td>\n",
       "      <td>Nothing negative to mention Great location 15...</td>\n",
       "      <td>8.8</td>\n",
       "    </tr>\n",
       "  </tbody>\n",
       "</table>\n",
       "</div>"
      ],
      "text/plain": [
       "                                       Hotel_Address       City  \\\n",
       "0  19 21 Penywern Road Kensington and Chelsea Lon...     London   \n",
       "1  Singel 303 309 Amsterdam City Center 1012 WJ A...  Amsterdam   \n",
       "2  18 Avenue De Suffren Entr e au 22 rue Jean Rey...      Paris   \n",
       "3  K rntner Ring 9 01 Innere Stadt 1010 Vienna Au...     Vienna   \n",
       "4  Kleine Stadtgutgasse 4 02 Leopoldstadt 1020 Vi...     Vienna   \n",
       "\n",
       "                                  merged_review_text  Reviewer_Score  \n",
       "0   The staff were a bit cold at first but they g...             8.3  \n",
       "1                    Nothing View from room Location            10.0  \n",
       "2   The Eiffel is blocked by another building we ...            10.0  \n",
       "3   Nothing Attention to detail Glad and smiley s...             9.6  \n",
       "4   Nothing negative to mention Great location 15...             8.8  "
      ]
     },
     "execution_count": 28,
     "metadata": {},
     "output_type": "execute_result"
    }
   ],
   "source": [
    "df.head()"
   ]
  },
  {
   "cell_type": "code",
   "execution_count": 29,
   "metadata": {},
   "outputs": [
    {
     "name": "stdout",
     "output_type": "stream",
     "text": [
      "Hotel_Address    Singel 303 309 Amsterdam City Center 1012 WJ A...\n",
      "City                                                     Amsterdam\n",
      "Name: 1, dtype: object\n",
      "Hotel_Address    4 18 Harrington Gardens Kensington and Chelsea...\n",
      "City                                                        London\n",
      "Name: 12, dtype: object\n",
      "Hotel_Address    83 avenue Kl ber 16th arr 75016 Paris France\n",
      "City                                                    Paris\n",
      "Name: 34, dtype: object\n",
      "Hotel_Address    Great Cumberland Place Westminster Borough Lon...\n",
      "City                                                        London\n",
      "Name: 576, dtype: object\n",
      "Hotel_Address    17 Avenue Kl ber 16th arr 75016 Paris France\n",
      "City                                                    Paris\n",
      "Name: 3245, dtype: object\n",
      "Hotel_Address    30 Rathbone Street West End Westminster Boroug...\n",
      "City                                                        London\n",
      "Name: 234, dtype: object\n",
      "Hotel_Address    69 Vincent Square Westminster Borough London S...\n",
      "City                                                        London\n",
      "Name: 1234, dtype: object\n",
      "Hotel_Address    61 Quai De Grenelle 15th arr 75015 Paris France\n",
      "City                                                       Paris\n",
      "Name: 4567, dtype: object\n",
      "Hotel_Address    Kleine Stadtgutgasse 4 02 Leopoldstadt 1020 Vi...\n",
      "City                                                        Vienna\n",
      "Name: 123, dtype: object\n",
      "Hotel_Address    123 boulevard S bastopol 2nd arr 75002 Paris F...\n",
      "City                                                         Paris\n",
      "Name: 1246, dtype: object\n",
      "Hotel_Address    Hollandstra e 3 02 Leopoldstadt 1020 Vienna Au...\n",
      "City                                                        Vienna\n",
      "Name: 9786, dtype: object\n",
      "Hotel_Address    10 Harrington Road Kensington and Chelsea Lond...\n",
      "City                                                        London\n",
      "Name: 7654, dtype: object\n",
      "Hotel_Address    12 Lancaster Gate Lancaster Gate Westminster B...\n",
      "City                                                        London\n",
      "Name: 6543, dtype: object\n"
     ]
    }
   ],
   "source": [
    "for i in [1,12,34,576,3245,234,1234,4567,123,1246,9786,7654,6543]:\n",
    "    print(df.iloc[i][['Hotel_Address','City']])"
   ]
  },
  {
   "cell_type": "code",
   "execution_count": 30,
   "metadata": {
    "scrolled": true
   },
   "outputs": [
    {
     "data": {
      "text/plain": [
       "London       5039\n",
       "Barcelona    1296\n",
       "Amsterdam    1128\n",
       "Paris        1092\n",
       "Vienna        769\n",
       "Milan         676\n",
       "Name: City, dtype: int64"
      ]
     },
     "execution_count": 30,
     "metadata": {},
     "output_type": "execute_result"
    }
   ],
   "source": [
    "df['City'].value_counts()"
   ]
  },
  {
   "cell_type": "code",
   "execution_count": 31,
   "metadata": {},
   "outputs": [],
   "source": [
    "df1 = df.copy()"
   ]
  },
  {
   "cell_type": "code",
   "execution_count": 32,
   "metadata": {},
   "outputs": [],
   "source": [
    "df.drop(df[(df['City']=='Sofia') | (df['City']=='Rome')].index, inplace=True)"
   ]
  },
  {
   "cell_type": "code",
   "execution_count": 33,
   "metadata": {},
   "outputs": [
    {
     "data": {
      "text/plain": [
       "London       5039\n",
       "Barcelona    1296\n",
       "Amsterdam    1128\n",
       "Paris        1092\n",
       "Vienna        769\n",
       "Milan         676\n",
       "Name: City, dtype: int64"
      ]
     },
     "execution_count": 33,
     "metadata": {},
     "output_type": "execute_result"
    }
   ],
   "source": [
    "df['City'].value_counts()"
   ]
  },
  {
   "cell_type": "code",
   "execution_count": 34,
   "metadata": {},
   "outputs": [
    {
     "data": {
      "text/plain": [
       "Index(['Hotel_Address', 'City', 'merged_review_text', 'Reviewer_Score'], dtype='object')"
      ]
     },
     "execution_count": 34,
     "metadata": {},
     "output_type": "execute_result"
    }
   ],
   "source": [
    "df.columns"
   ]
  },
  {
   "cell_type": "code",
   "execution_count": 35,
   "metadata": {},
   "outputs": [
    {
     "data": {
      "text/plain": [
       "' The staff were a bit cold at first but they grew warmer after a couple of days The elevator is a little too small so might consider that in terms of luggage  For this money we couldn t have asked for a better stay We got a great discount and ended up paying around 48 GBP per night for a double bed which is a steal for such a central location The room was small but had everything we needed and more including a safe The bathrobes and slippers were a nice touch The location was perfect Earl s Court tube station is around the corner and from there you can reach any part of the central London in minutes '"
      ]
     },
     "execution_count": 35,
     "metadata": {},
     "output_type": "execute_result"
    }
   ],
   "source": [
    "df['merged_review_text'][0]"
   ]
  },
  {
   "cell_type": "code",
   "execution_count": 36,
   "metadata": {},
   "outputs": [
    {
     "data": {
      "text/plain": [
       "' Shower head too close to wall Tub narrow Location was just a few tube stops from the center of the city but in a quiet and quaint area which was exactly what I wanted '"
      ]
     },
     "execution_count": 36,
     "metadata": {},
     "output_type": "execute_result"
    }
   ],
   "source": [
    "df['merged_review_text'][42]"
   ]
  },
  {
   "cell_type": "code",
   "execution_count": 37,
   "metadata": {},
   "outputs": [],
   "source": [
    "df.to_csv('cp.csv',index=False)"
   ]
  },
  {
   "cell_type": "code",
   "execution_count": 38,
   "metadata": {},
   "outputs": [
    {
     "data": {
      "text/plain": [
       "Hotel_Address         Piet Heinkade 11 Zeeburg 1019 BR Amsterdam Net...\n",
       "City                                                          Amsterdam\n",
       "merged_review_text     Late room Cleaning hours at 4 00 or 5 00 pm i...\n",
       "Reviewer_Score                                                      9.2\n",
       "Name: 442, dtype: object"
      ]
     },
     "execution_count": 38,
     "metadata": {},
     "output_type": "execute_result"
    }
   ],
   "source": [
    "df.iloc[442]"
   ]
  }
 ],
 "metadata": {
  "kernelspec": {
   "display_name": "Python 3",
   "language": "python",
   "name": "python3"
  },
  "language_info": {
   "codemirror_mode": {
    "name": "ipython",
    "version": 3
   },
   "file_extension": ".py",
   "mimetype": "text/x-python",
   "name": "python",
   "nbconvert_exporter": "python",
   "pygments_lexer": "ipython3",
   "version": "3.8.5"
  }
 },
 "nbformat": 4,
 "nbformat_minor": 4
}
