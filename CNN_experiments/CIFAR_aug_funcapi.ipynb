{
  "nbformat": 4,
  "nbformat_minor": 0,
  "metadata": {
    "colab": {
      "name": "CIFAR_aug_funcapi",
      "provenance": [],
      "collapsed_sections": []
    },
    "kernelspec": {
      "name": "python3",
      "display_name": "Python 3"
    },
    "accelerator": "GPU"
  },
  "cells": [
    {
      "cell_type": "code",
      "metadata": {
        "colab": {
          "base_uri": "https://localhost:8080/"
        },
        "id": "m9YDRS164qGA",
        "outputId": "ca223354-65e6-45a2-fa02-2df87b9b7b28"
      },
      "source": [
        "pip install -q tensorflow-gpu"
      ],
      "execution_count": 1,
      "outputs": [
        {
          "output_type": "stream",
          "text": [
            "\u001b[K     |████████████████████████████████| 320.4MB 50kB/s \n",
            "\u001b[?25h"
          ],
          "name": "stdout"
        }
      ]
    },
    {
      "cell_type": "code",
      "metadata": {
        "colab": {
          "base_uri": "https://localhost:8080/"
        },
        "id": "pBmUZtRw56UW",
        "outputId": "5a71f53a-8779-40eb-dcc9-d5ad4d077112"
      },
      "source": [
        "%tensorflow_version 2.x\n",
        "import tensorflow as tf\n",
        "device_name = tf.test.gpu_device_name()\n",
        "if device_name != '/device:GPU:0':\n",
        "  raise SystemError('GPU device not found')\n",
        "print('Found GPU at: {}'.format(device_name))"
      ],
      "execution_count": 1,
      "outputs": [
        {
          "output_type": "stream",
          "text": [
            "Found GPU at: /device:GPU:0\n"
          ],
          "name": "stdout"
        }
      ]
    },
    {
      "cell_type": "code",
      "metadata": {
        "id": "U-Y2TM774_hD"
      },
      "source": [
        "import tensorflow as tf\n",
        "import numpy as np\n",
        "import matplotlib.pyplot as plt\n",
        "from tensorflow.keras.layers import Input, Conv2D, Dense, Flatten, Dropout, GlobalMaxPooling2D, MaxPooling2D, BatchNormalization\n",
        "from tensorflow.keras.models import Model\n",
        "\n",
        "cifar = tf.keras.datasets.cifar10\n"
      ],
      "execution_count": 2,
      "outputs": []
    },
    {
      "cell_type": "code",
      "metadata": {
        "colab": {
          "base_uri": "https://localhost:8080/"
        },
        "id": "laTVTN4r4_5A",
        "outputId": "1971d3ad-7a0c-4408-bc34-9d3cc7d0ba59"
      },
      "source": [
        "(X_train, y_train),(X_test, y_test) = cifar.load_data()\n",
        "X_train, X_test = X_train / 255.0, X_test / 255.0 #range 0-1 and float type"
      ],
      "execution_count": 3,
      "outputs": [
        {
          "output_type": "stream",
          "text": [
            "Downloading data from https://www.cs.toronto.edu/~kriz/cifar-10-python.tar.gz\n",
            "170500096/170498071 [==============================] - 6s 0us/step\n"
          ],
          "name": "stdout"
        }
      ]
    },
    {
      "cell_type": "code",
      "metadata": {
        "colab": {
          "base_uri": "https://localhost:8080/"
        },
        "id": "pJ-DASo75AE_",
        "outputId": "ccfa3be6-09c4-45c3-df8b-09b2e04a8e86"
      },
      "source": [
        "y_train[0]"
      ],
      "execution_count": 4,
      "outputs": [
        {
          "output_type": "execute_result",
          "data": {
            "text/plain": [
              "array([6], dtype=uint8)"
            ]
          },
          "metadata": {
            "tags": []
          },
          "execution_count": 4
        }
      ]
    },
    {
      "cell_type": "code",
      "metadata": {
        "colab": {
          "base_uri": "https://localhost:8080/"
        },
        "id": "gWfSFpLo5OfQ",
        "outputId": "a63c820d-0900-419c-9057-697c7cc8b423"
      },
      "source": [
        "y_train, y_test = y_train.flatten(), y_test.flatten()\n",
        "y_train[0]"
      ],
      "execution_count": 5,
      "outputs": [
        {
          "output_type": "execute_result",
          "data": {
            "text/plain": [
              "6"
            ]
          },
          "metadata": {
            "tags": []
          },
          "execution_count": 5
        }
      ]
    },
    {
      "cell_type": "code",
      "metadata": {
        "colab": {
          "base_uri": "https://localhost:8080/"
        },
        "id": "uDkyXjG85Opg",
        "outputId": "29ce186e-1b37-4082-f809-9c0995e48164"
      },
      "source": [
        "print(X_train.shape, y_train.shape)"
      ],
      "execution_count": 6,
      "outputs": [
        {
          "output_type": "stream",
          "text": [
            "(50000, 32, 32, 3) (50000,)\n"
          ],
          "name": "stdout"
        }
      ]
    },
    {
      "cell_type": "code",
      "metadata": {
        "colab": {
          "base_uri": "https://localhost:8080/"
        },
        "id": "7lqzCXJS5OvG",
        "outputId": "53819404-8679-4416-de9e-cd461bf21f47"
      },
      "source": [
        "set(y_train) #we have 10 classes to consider"
      ],
      "execution_count": 7,
      "outputs": [
        {
          "output_type": "execute_result",
          "data": {
            "text/plain": [
              "{0, 1, 2, 3, 4, 5, 6, 7, 8, 9}"
            ]
          },
          "metadata": {
            "tags": []
          },
          "execution_count": 7
        }
      ]
    },
    {
      "cell_type": "code",
      "metadata": {
        "id": "8xUZifaE5O0V"
      },
      "source": [
        "#building the model using functional API \n",
        "\n",
        "i = Input(shape=X_train[0].shape) #[0] to get rid of the need to specify the element indices\n",
        "\n",
        "x = Conv2D(32, (3,3), activation = 'relu', padding = 'same')(i)\n",
        "x = BatchNormalization()(x)\n",
        "x = Conv2D(32, (3,3), activation = 'relu', padding = 'same')(x)\n",
        "x = BatchNormalization()(x)\n",
        "x = MaxPooling2D((2,2))(x) #no dropouts between convolutions, that makes no sense since we need to keep it as detailes as possible\n",
        "\n",
        "x = Conv2D(64, (3,3), activation = 'relu', padding = 'same')(x)\n",
        "x = BatchNormalization()(x)\n",
        "x = Conv2D(64, (3,3), activation = 'relu', padding = 'same')(x)\n",
        "x = BatchNormalization()(x)\n",
        "x = MaxPooling2D((2,2))(x)\n",
        "\n",
        "x = Conv2D(128, (3,3), activation = 'relu', padding = 'same')(x)\n",
        "x = BatchNormalization()(x)\n",
        "x = Conv2D(128, (3,3), activation = 'relu', padding = 'same')(x)\n",
        "x = BatchNormalization()(x)\n",
        "x = MaxPooling2D((2,2))(x)\n",
        "\n",
        "#x = GlobalMaxPooling2D()(x)\n",
        "x = Flatten()(x)\n",
        "x = Dropout(0.3)(x)\n",
        "x = Dense(1024, activation = 'relu')(x)\n",
        "x = Dropout(0.3)(x)\n",
        "x = Dense(len(set(y_train)), activation = 'softmax')(x)\n",
        "\n",
        "model = Model(i,x)"
      ],
      "execution_count": 12,
      "outputs": []
    },
    {
      "cell_type": "code",
      "metadata": {
        "id": "S83-yum45O4p"
      },
      "source": [
        "model.compile(loss='sparse_categorical_crossentropy', optimizer = 'nadam', metrics = ['accuracy'])"
      ],
      "execution_count": 13,
      "outputs": []
    },
    {
      "cell_type": "code",
      "metadata": {
        "colab": {
          "base_uri": "https://localhost:8080/"
        },
        "id": "1_BBbZ9d5O8c",
        "outputId": "465c97da-1cfb-459c-dc63-bafcf2f00ece"
      },
      "source": [
        "#adding augmentation \n",
        "batch_size = 32 #thats the tf default anyway\n",
        "\n",
        "data_generator = tf.keras.preprocessing.image.ImageDataGenerator(width_shift_range = 0.1, height_shift_range = 0.1,\n",
        "                                                                 rotation_range = 90, horizontal_flip = True) #this is quite brutal for such an architecture\n",
        "train_generator = data_generator.flow(X_train, y_train, batch_size)\n",
        "steps_per_epoch = X_train.shape[0] // batch_size #must be integer or None, we want to see every image\n",
        "\n",
        "conv = model.fit(train_generator, validation_data=(X_test, y_test), steps_per_epoch = steps_per_epoch, epochs = 50)"
      ],
      "execution_count": 14,
      "outputs": [
        {
          "output_type": "stream",
          "text": [
            "Epoch 1/50\n",
            "1562/1562 [==============================] - 54s 34ms/step - loss: 1.7978 - accuracy: 0.3655 - val_loss: 1.5388 - val_accuracy: 0.4384\n",
            "Epoch 2/50\n",
            "1562/1562 [==============================] - 54s 34ms/step - loss: 1.4647 - accuracy: 0.4724 - val_loss: 1.5097 - val_accuracy: 0.4744\n",
            "Epoch 3/50\n",
            "1562/1562 [==============================] - 54s 34ms/step - loss: 1.3223 - accuracy: 0.5313 - val_loss: 1.2569 - val_accuracy: 0.5676\n",
            "Epoch 4/50\n",
            "1562/1562 [==============================] - 54s 34ms/step - loss: 1.2333 - accuracy: 0.5650 - val_loss: 1.2519 - val_accuracy: 0.5852\n",
            "Epoch 5/50\n",
            "1562/1562 [==============================] - 53s 34ms/step - loss: 1.1540 - accuracy: 0.5955 - val_loss: 1.2543 - val_accuracy: 0.5923\n",
            "Epoch 6/50\n",
            "1562/1562 [==============================] - 54s 35ms/step - loss: 1.0842 - accuracy: 0.6207 - val_loss: 1.0872 - val_accuracy: 0.6321\n",
            "Epoch 7/50\n",
            "1562/1562 [==============================] - 54s 34ms/step - loss: 1.0333 - accuracy: 0.6426 - val_loss: 1.0505 - val_accuracy: 0.6393\n",
            "Epoch 8/50\n",
            "1562/1562 [==============================] - 54s 34ms/step - loss: 0.9917 - accuracy: 0.6571 - val_loss: 0.9054 - val_accuracy: 0.6943\n",
            "Epoch 9/50\n",
            "1562/1562 [==============================] - 53s 34ms/step - loss: 0.9503 - accuracy: 0.6707 - val_loss: 1.1217 - val_accuracy: 0.6218\n",
            "Epoch 10/50\n",
            "1562/1562 [==============================] - 54s 35ms/step - loss: 0.9112 - accuracy: 0.6839 - val_loss: 0.8441 - val_accuracy: 0.7177\n",
            "Epoch 11/50\n",
            "1562/1562 [==============================] - 53s 34ms/step - loss: 0.8840 - accuracy: 0.6931 - val_loss: 1.0037 - val_accuracy: 0.6657\n",
            "Epoch 12/50\n",
            "1562/1562 [==============================] - 52s 34ms/step - loss: 0.8545 - accuracy: 0.7045 - val_loss: 0.8464 - val_accuracy: 0.7169\n",
            "Epoch 13/50\n",
            "1562/1562 [==============================] - 52s 33ms/step - loss: 0.8320 - accuracy: 0.7136 - val_loss: 0.9970 - val_accuracy: 0.6668\n",
            "Epoch 14/50\n",
            "1562/1562 [==============================] - 52s 33ms/step - loss: 0.8177 - accuracy: 0.7175 - val_loss: 0.7552 - val_accuracy: 0.7441\n",
            "Epoch 15/50\n",
            "1562/1562 [==============================] - 52s 34ms/step - loss: 0.8019 - accuracy: 0.7228 - val_loss: 0.8004 - val_accuracy: 0.7323\n",
            "Epoch 16/50\n",
            "1562/1562 [==============================] - 53s 34ms/step - loss: 0.7836 - accuracy: 0.7299 - val_loss: 0.7746 - val_accuracy: 0.7412\n",
            "Epoch 17/50\n",
            "1562/1562 [==============================] - 52s 33ms/step - loss: 0.7654 - accuracy: 0.7350 - val_loss: 0.7435 - val_accuracy: 0.7474\n",
            "Epoch 18/50\n",
            "1562/1562 [==============================] - 52s 33ms/step - loss: 0.7532 - accuracy: 0.7405 - val_loss: 0.8747 - val_accuracy: 0.7063\n",
            "Epoch 19/50\n",
            "1562/1562 [==============================] - 53s 34ms/step - loss: 0.7426 - accuracy: 0.7441 - val_loss: 0.7625 - val_accuracy: 0.7498\n",
            "Epoch 20/50\n",
            "1562/1562 [==============================] - 54s 34ms/step - loss: 0.7330 - accuracy: 0.7491 - val_loss: 0.7037 - val_accuracy: 0.7619\n",
            "Epoch 21/50\n",
            "1562/1562 [==============================] - 53s 34ms/step - loss: 0.7248 - accuracy: 0.7506 - val_loss: 0.7079 - val_accuracy: 0.7566\n",
            "Epoch 22/50\n",
            "1562/1562 [==============================] - 53s 34ms/step - loss: 0.7138 - accuracy: 0.7544 - val_loss: 0.7814 - val_accuracy: 0.7468\n",
            "Epoch 23/50\n",
            "1562/1562 [==============================] - 52s 33ms/step - loss: 0.7081 - accuracy: 0.7546 - val_loss: 0.7007 - val_accuracy: 0.7668\n",
            "Epoch 24/50\n",
            "1562/1562 [==============================] - 52s 33ms/step - loss: 0.7018 - accuracy: 0.7583 - val_loss: 0.7613 - val_accuracy: 0.7510\n",
            "Epoch 25/50\n",
            "1562/1562 [==============================] - 52s 33ms/step - loss: 0.6889 - accuracy: 0.7647 - val_loss: 0.8185 - val_accuracy: 0.7387\n",
            "Epoch 26/50\n",
            "1562/1562 [==============================] - 51s 33ms/step - loss: 0.6850 - accuracy: 0.7647 - val_loss: 0.7171 - val_accuracy: 0.7634\n",
            "Epoch 27/50\n",
            "1562/1562 [==============================] - 52s 33ms/step - loss: 0.6761 - accuracy: 0.7687 - val_loss: 0.7133 - val_accuracy: 0.7688\n",
            "Epoch 28/50\n",
            "1562/1562 [==============================] - 53s 34ms/step - loss: 0.6665 - accuracy: 0.7700 - val_loss: 0.6425 - val_accuracy: 0.7865\n",
            "Epoch 29/50\n",
            "1562/1562 [==============================] - 53s 34ms/step - loss: 0.6636 - accuracy: 0.7712 - val_loss: 0.7219 - val_accuracy: 0.7668\n",
            "Epoch 30/50\n",
            "1562/1562 [==============================] - 54s 34ms/step - loss: 0.6558 - accuracy: 0.7745 - val_loss: 0.6680 - val_accuracy: 0.7771\n",
            "Epoch 31/50\n",
            "1562/1562 [==============================] - 54s 35ms/step - loss: 0.6530 - accuracy: 0.7755 - val_loss: 0.6825 - val_accuracy: 0.7758\n",
            "Epoch 32/50\n",
            "1562/1562 [==============================] - 54s 35ms/step - loss: 0.6454 - accuracy: 0.7793 - val_loss: 0.7236 - val_accuracy: 0.7627\n",
            "Epoch 33/50\n",
            "1562/1562 [==============================] - 54s 35ms/step - loss: 0.6366 - accuracy: 0.7823 - val_loss: 0.7005 - val_accuracy: 0.7750\n",
            "Epoch 34/50\n",
            "1562/1562 [==============================] - 54s 35ms/step - loss: 0.6341 - accuracy: 0.7834 - val_loss: 0.6396 - val_accuracy: 0.7848\n",
            "Epoch 35/50\n",
            "1562/1562 [==============================] - 55s 35ms/step - loss: 0.6292 - accuracy: 0.7836 - val_loss: 0.7317 - val_accuracy: 0.7664\n",
            "Epoch 36/50\n",
            "1562/1562 [==============================] - 55s 35ms/step - loss: 0.6277 - accuracy: 0.7854 - val_loss: 0.6914 - val_accuracy: 0.7748\n",
            "Epoch 37/50\n",
            "1562/1562 [==============================] - 55s 35ms/step - loss: 0.6254 - accuracy: 0.7859 - val_loss: 0.6158 - val_accuracy: 0.7926\n",
            "Epoch 38/50\n",
            "1562/1562 [==============================] - 55s 35ms/step - loss: 0.6146 - accuracy: 0.7878 - val_loss: 0.6183 - val_accuracy: 0.7965\n",
            "Epoch 39/50\n",
            "1562/1562 [==============================] - 55s 35ms/step - loss: 0.6110 - accuracy: 0.7885 - val_loss: 0.6309 - val_accuracy: 0.7900\n",
            "Epoch 40/50\n",
            "1562/1562 [==============================] - 56s 36ms/step - loss: 0.6097 - accuracy: 0.7923 - val_loss: 0.5747 - val_accuracy: 0.8108\n",
            "Epoch 41/50\n",
            "1562/1562 [==============================] - 56s 36ms/step - loss: 0.6026 - accuracy: 0.7920 - val_loss: 0.6969 - val_accuracy: 0.7739\n",
            "Epoch 42/50\n",
            "1562/1562 [==============================] - 56s 36ms/step - loss: 0.6010 - accuracy: 0.7940 - val_loss: 0.5788 - val_accuracy: 0.8080\n",
            "Epoch 43/50\n",
            "1562/1562 [==============================] - 55s 35ms/step - loss: 0.5887 - accuracy: 0.7963 - val_loss: 0.6749 - val_accuracy: 0.7813\n",
            "Epoch 44/50\n",
            "1562/1562 [==============================] - 55s 35ms/step - loss: 0.5976 - accuracy: 0.7949 - val_loss: 0.5622 - val_accuracy: 0.8139\n",
            "Epoch 45/50\n",
            "1562/1562 [==============================] - 55s 35ms/step - loss: 0.5905 - accuracy: 0.7996 - val_loss: 0.6274 - val_accuracy: 0.7973\n",
            "Epoch 46/50\n",
            "1562/1562 [==============================] - 55s 35ms/step - loss: 0.5858 - accuracy: 0.7988 - val_loss: 0.6329 - val_accuracy: 0.7917\n",
            "Epoch 47/50\n",
            "1562/1562 [==============================] - 55s 35ms/step - loss: 0.5825 - accuracy: 0.7989 - val_loss: 0.6129 - val_accuracy: 0.7969\n",
            "Epoch 48/50\n",
            "1562/1562 [==============================] - 55s 35ms/step - loss: 0.5781 - accuracy: 0.8021 - val_loss: 0.6019 - val_accuracy: 0.7970\n",
            "Epoch 49/50\n",
            "1562/1562 [==============================] - 55s 35ms/step - loss: 0.5771 - accuracy: 0.8024 - val_loss: 0.5721 - val_accuracy: 0.8082\n",
            "Epoch 50/50\n",
            "1562/1562 [==============================] - 55s 35ms/step - loss: 0.5782 - accuracy: 0.8022 - val_loss: 0.6295 - val_accuracy: 0.7900\n"
          ],
          "name": "stdout"
        }
      ]
    },
    {
      "cell_type": "code",
      "metadata": {
        "colab": {
          "base_uri": "https://localhost:8080/"
        },
        "id": "jBZJIedPA4KZ",
        "outputId": "033ebf75-bc31-4d41-a792-80aeb642c84d"
      },
      "source": [
        "model.summary()"
      ],
      "execution_count": 16,
      "outputs": [
        {
          "output_type": "stream",
          "text": [
            "Model: \"functional_3\"\n",
            "_________________________________________________________________\n",
            "Layer (type)                 Output Shape              Param #   \n",
            "=================================================================\n",
            "input_3 (InputLayer)         [(None, 32, 32, 3)]       0         \n",
            "_________________________________________________________________\n",
            "conv2d_7 (Conv2D)            (None, 32, 32, 32)        896       \n",
            "_________________________________________________________________\n",
            "batch_normalization_6 (Batch (None, 32, 32, 32)        128       \n",
            "_________________________________________________________________\n",
            "conv2d_8 (Conv2D)            (None, 32, 32, 32)        9248      \n",
            "_________________________________________________________________\n",
            "batch_normalization_7 (Batch (None, 32, 32, 32)        128       \n",
            "_________________________________________________________________\n",
            "max_pooling2d_3 (MaxPooling2 (None, 16, 16, 32)        0         \n",
            "_________________________________________________________________\n",
            "conv2d_9 (Conv2D)            (None, 16, 16, 64)        18496     \n",
            "_________________________________________________________________\n",
            "batch_normalization_8 (Batch (None, 16, 16, 64)        256       \n",
            "_________________________________________________________________\n",
            "conv2d_10 (Conv2D)           (None, 16, 16, 64)        36928     \n",
            "_________________________________________________________________\n",
            "batch_normalization_9 (Batch (None, 16, 16, 64)        256       \n",
            "_________________________________________________________________\n",
            "max_pooling2d_4 (MaxPooling2 (None, 8, 8, 64)          0         \n",
            "_________________________________________________________________\n",
            "conv2d_11 (Conv2D)           (None, 8, 8, 128)         73856     \n",
            "_________________________________________________________________\n",
            "batch_normalization_10 (Batc (None, 8, 8, 128)         512       \n",
            "_________________________________________________________________\n",
            "conv2d_12 (Conv2D)           (None, 8, 8, 128)         147584    \n",
            "_________________________________________________________________\n",
            "batch_normalization_11 (Batc (None, 8, 8, 128)         512       \n",
            "_________________________________________________________________\n",
            "max_pooling2d_5 (MaxPooling2 (None, 4, 4, 128)         0         \n",
            "_________________________________________________________________\n",
            "flatten_1 (Flatten)          (None, 2048)              0         \n",
            "_________________________________________________________________\n",
            "dropout_2 (Dropout)          (None, 2048)              0         \n",
            "_________________________________________________________________\n",
            "dense_2 (Dense)              (None, 1024)              2098176   \n",
            "_________________________________________________________________\n",
            "dropout_3 (Dropout)          (None, 1024)              0         \n",
            "_________________________________________________________________\n",
            "dense_3 (Dense)              (None, 10)                10250     \n",
            "=================================================================\n",
            "Total params: 2,397,226\n",
            "Trainable params: 2,396,330\n",
            "Non-trainable params: 896\n",
            "_________________________________________________________________\n"
          ],
          "name": "stdout"
        }
      ]
    },
    {
      "cell_type": "code",
      "metadata": {
        "colab": {
          "base_uri": "https://localhost:8080/",
          "height": 265
        },
        "id": "duHotpOi5O_8",
        "outputId": "51848785-3d79-41e9-ab92-04988204f04f"
      },
      "source": [
        "plt.plot(conv.history['loss'], label = 'Training loss')\n",
        "plt.plot(conv.history['val_loss'], label = 'Validation loss')\n",
        "plt.legend()\n",
        "plt.show()"
      ],
      "execution_count": 17,
      "outputs": [
        {
          "output_type": "display_data",
          "data": {
            "image/png": "[encoded data removed]",
            "text/plain": [
              "<Figure size 432x288 with 1 Axes>"
            ]
          },
          "metadata": {
            "tags": [],
            "needs_background": "light"
          }
        }
      ]
    },
    {
      "cell_type": "code",
      "metadata": {
        "colab": {
          "base_uri": "https://localhost:8080/",
          "height": 265
        },
        "id": "cR4yg8Zd5PDf",
        "outputId": "6193de0b-614a-461a-e4c2-40f3ed8084c4"
      },
      "source": [
        "plt.plot(conv.history['accuracy'], label = 'Training accuracy')\n",
        "plt.plot(conv.history['val_accuracy'], label = 'Validation accuracy')\n",
        "plt.legend()\n",
        "plt.show()"
      ],
      "execution_count": 18,
      "outputs": [
        {
          "output_type": "display_data",
          "data": {
            "image/png": "[encoded data removed]",
            "text/plain": [
              "<Figure size 432x288 with 1 Axes>"
            ]
          },
          "metadata": {
            "tags": [],
            "needs_background": "light"
          }
        }
      ]
    },
    {
      "cell_type": "code",
      "metadata": {
        "colab": {
          "base_uri": "https://localhost:8080/",
          "height": 498
        },
        "id": "9BwYZN3X5PGw",
        "outputId": "6deca967-11ee-4b40-de6f-130573b750e9"
      },
      "source": [
        "#lovely conf matrix function\n",
        "from sklearn.metrics import confusion_matrix\n",
        "import itertools\n",
        "\n",
        "def plot_cm(y_real, y_pred, normalize = False, title='Confusion Matrix',cmap=plt.cm.Greens):\n",
        "  cm = confusion_matrix(y_real, y_pred)\n",
        "  classes = list(range(len(set(y_real))))\n",
        "  if normalize:\n",
        "    cm = cm.astype('float')/ cm.sum(axis=1)[:, np.newaxis]\n",
        "    print(\"Normalized Confusion Matrix\")\n",
        "  else:\n",
        "    print('CM without Normalization')\n",
        "\n",
        "  print(cm)\n",
        "\n",
        "  plt.imshow(cm, interpolation='nearest',cmap=cmap)\n",
        "  plt.title(title)\n",
        "  plt.colorbar()\n",
        "  ticks = np.arange(len(classes))\n",
        "  plt.xticks(ticks, classes, rotation = 45)\n",
        "  plt.yticks(ticks, classes)\n",
        "  fmt = '.2f' if normalize else 'd'\n",
        "  threshold = cm.max() / 2.\n",
        "  for i, j in itertools.product(range(cm.shape[0]), range(cm.shape[1])):\n",
        "    plt.text(j, i, format(cm[i, j], fmt), horizontalalignment = 'center', color = 'white' if cm [i,j]>threshold else 'black')\n",
        "  plt.tight_layout()\n",
        "  plt.ylabel('True labels')\n",
        "  plt.xlabel('Predicted labels')\n",
        "  plt.show()\n",
        "\n",
        "preds = model.predict(X_test).argmax(axis=1) #we need the most probable class\n",
        "plot_cm(y_test, preds)\n"
      ],
      "execution_count": 21,
      "outputs": [
        {
          "output_type": "stream",
          "text": [
            "CM without Normalization\n",
            "[[781  35  36  16  17   0   5   4  69  37]\n",
            " [  4 959   1   2   0   0   2   0  13  19]\n",
            " [ 36  15 755  51  50  12  45   5  15  16]\n",
            " [ 18  19  48 718  34  39  43   8  33  40]\n",
            " [  9   3  80  45 787   4  45  11   8   8]\n",
            " [  7  17  57 187  53 566  38  21  30  24]\n",
            " [  3  10  25  61  20   2 855   1  11  12]\n",
            " [ 21  15  34  27 114  14  10 728   7  30]\n",
            " [ 29  32   8   5   5   0   0   1 898  22]\n",
            " [  8 112   0   4   3   0   1   0  19 853]]\n"
          ],
          "name": "stdout"
        },
        {
          "output_type": "display_data",
          "data": {
            "image/png": "[encoded data removed]",
            "text/plain": [
              "<Figure size 432x288 with 2 Axes>"
            ]
          },
          "metadata": {
            "tags": [],
            "needs_background": "light"
          }
        }
      ]
    },
    {
      "cell_type": "code",
      "metadata": {
        "id": "tW8hH4Fr5PJs"
      },
      "source": [
        "labels = ['airplane','automobile','bird','cat','deer','dog','frog','horse','ship','truck']"
      ],
      "execution_count": 19,
      "outputs": []
    },
    {
      "cell_type": "code",
      "metadata": {
        "colab": {
          "base_uri": "https://localhost:8080/",
          "height": 298
        },
        "id": "_5IOpDgz5PM0",
        "outputId": "4baec7d2-6530-4c3a-b33a-8d9d0ec68c18"
      },
      "source": [
        "missed_indices = np.where(preds != y_test)[0]\n",
        "rand = np.random.choice(missed_indices)\n",
        "plt.imshow(X_test[rand])\n",
        "plt.title('True label: %s | Prediction: %s' % (labels[y_test[rand]],labels[preds[rand]]))"
      ],
      "execution_count": 22,
      "outputs": [
        {
          "output_type": "execute_result",
          "data": {
            "text/plain": [
              "Text(0.5, 1.0, 'True label: frog | Prediction: cat')"
            ]
          },
          "metadata": {
            "tags": []
          },
          "execution_count": 22
        },
        {
          "output_type": "display_data",
          "data": {
            "image/png": "[encoded data removed]",
            "text/plain": [
              "<Figure size 432x288 with 1 Axes>"
            ]
          },
          "metadata": {
            "tags": [],
            "needs_background": "light"
          }
        }
      ]
    },
    {
      "cell_type": "code",
      "metadata": {
        "id": "GgqTPINJ5PP3"
      },
      "source": [
        ""
      ],
      "execution_count": null,
      "outputs": []
    },
    {
      "cell_type": "code",
      "metadata": {
        "id": "J9DKFSeK5PSp"
      },
      "source": [
        ""
      ],
      "execution_count": null,
      "outputs": []
    },
    {
      "cell_type": "code",
      "metadata": {
        "id": "ljuWfVVN5PVL"
      },
      "source": [
        ""
      ],
      "execution_count": null,
      "outputs": []
    },
    {
      "cell_type": "code",
      "metadata": {
        "id": "tTTSFwV65PXo"
      },
      "source": [
        ""
      ],
      "execution_count": null,
      "outputs": []
    },
    {
      "cell_type": "code",
      "metadata": {
        "id": "RmQDiM945PcG"
      },
      "source": [
        ""
      ],
      "execution_count": null,
      "outputs": []
    },
    {
      "cell_type": "code",
      "metadata": {
        "id": "96r4H_Un5Pe-"
      },
      "source": [
        ""
      ],
      "execution_count": null,
      "outputs": []
    },
    {
      "cell_type": "code",
      "metadata": {
        "id": "pU930xpq5AP5"
      },
      "source": [
        ""
      ],
      "execution_count": null,
      "outputs": []
    }
  ]
}