{
 "cells": [
  {
   "cell_type": "markdown",
   "metadata": {},
   "source": [
    "# Reseni projektu TimeDeposit_10K"
   ]
  },
  {
   "cell_type": "markdown",
   "metadata": {},
   "source": [
    "## Nahrani a prehled o datech\n",
    "Zakladni knihovny a prvni pohled na data, import pomoci pandas, kontrola poctu zaznamu, formatu, NaN "
   ]
  },
  {
   "cell_type": "code",
   "execution_count": 1,
   "metadata": {},
   "outputs": [
    {
     "data": {
      "text/html": [
       "<div>\n",
       "<style scoped>\n",
       "    .dataframe tbody tr th:only-of-type {\n",
       "        vertical-align: middle;\n",
       "    }\n",
       "\n",
       "    .dataframe tbody tr th {\n",
       "        vertical-align: top;\n",
       "    }\n",
       "\n",
       "    .dataframe thead th {\n",
       "        text-align: right;\n",
       "    }\n",
       "</style>\n",
       "<table border=\"1\" class=\"dataframe\">\n",
       "  <thead>\n",
       "    <tr style=\"text-align: right;\">\n",
       "      <th></th>\n",
       "      <th>Customer_ID</th>\n",
       "      <th>Gender</th>\n",
       "      <th>Birth_Date</th>\n",
       "      <th>Ref_Date</th>\n",
       "      <th>Marital_Status</th>\n",
       "      <th>Children_Num</th>\n",
       "      <th>Occupation_Category</th>\n",
       "      <th>Total_Income</th>\n",
       "      <th>Payroll_Flag</th>\n",
       "      <th>Business_Flag</th>\n",
       "      <th>...</th>\n",
       "      <th>Transfer_Trans_Amount</th>\n",
       "      <th>Credit_Cards_Installments</th>\n",
       "      <th>Credit_Cards_Payments_Num</th>\n",
       "      <th>Credit_Cards_Purchases_Num</th>\n",
       "      <th>Credit_Cards_Witrhdrawals_Num</th>\n",
       "      <th>Credit_Cards_Payments_Amount</th>\n",
       "      <th>Credit_Cards_Purchases_Amount</th>\n",
       "      <th>Credit_Cards_Witrhdrawals_Amount</th>\n",
       "      <th>Arrears_Months_Max</th>\n",
       "      <th>Time_Deposits_Flag</th>\n",
       "    </tr>\n",
       "  </thead>\n",
       "  <tbody>\n",
       "    <tr>\n",
       "      <th>0</th>\n",
       "      <td>5904453.0</td>\n",
       "      <td>Male</td>\n",
       "      <td>1960-10-17</td>\n",
       "      <td>2008-12-31</td>\n",
       "      <td>Married</td>\n",
       "      <td>2.0</td>\n",
       "      <td>Rentiers</td>\n",
       "      <td>14000.0</td>\n",
       "      <td>0.0</td>\n",
       "      <td>0.0</td>\n",
       "      <td>...</td>\n",
       "      <td>0.0</td>\n",
       "      <td>0.000000</td>\n",
       "      <td>0.0</td>\n",
       "      <td>0.0</td>\n",
       "      <td>0.0</td>\n",
       "      <td>0.000000</td>\n",
       "      <td>0.00</td>\n",
       "      <td>0.0</td>\n",
       "      <td>1.0</td>\n",
       "      <td>F</td>\n",
       "    </tr>\n",
       "    <tr>\n",
       "      <th>1</th>\n",
       "      <td>5904524.0</td>\n",
       "      <td>Male</td>\n",
       "      <td>1972-02-22</td>\n",
       "      <td>2008-12-31</td>\n",
       "      <td>Divorced</td>\n",
       "      <td>0.0</td>\n",
       "      <td>Employees</td>\n",
       "      <td>17577.0</td>\n",
       "      <td>0.0</td>\n",
       "      <td>0.0</td>\n",
       "      <td>...</td>\n",
       "      <td>0.0</td>\n",
       "      <td>0.000000</td>\n",
       "      <td>0.0</td>\n",
       "      <td>0.0</td>\n",
       "      <td>0.0</td>\n",
       "      <td>0.000000</td>\n",
       "      <td>0.00</td>\n",
       "      <td>0.0</td>\n",
       "      <td>1.0</td>\n",
       "      <td>F</td>\n",
       "    </tr>\n",
       "    <tr>\n",
       "      <th>2</th>\n",
       "      <td>5904672.0</td>\n",
       "      <td>Male</td>\n",
       "      <td>1953-06-24</td>\n",
       "      <td>2008-12-31</td>\n",
       "      <td>Married</td>\n",
       "      <td>1.0</td>\n",
       "      <td>Rentiers</td>\n",
       "      <td>3000.0</td>\n",
       "      <td>0.0</td>\n",
       "      <td>0.0</td>\n",
       "      <td>...</td>\n",
       "      <td>0.0</td>\n",
       "      <td>0.000000</td>\n",
       "      <td>0.0</td>\n",
       "      <td>0.0</td>\n",
       "      <td>0.0</td>\n",
       "      <td>0.000000</td>\n",
       "      <td>0.00</td>\n",
       "      <td>0.0</td>\n",
       "      <td>0.0</td>\n",
       "      <td>F</td>\n",
       "    </tr>\n",
       "    <tr>\n",
       "      <th>3</th>\n",
       "      <td>125603.0</td>\n",
       "      <td>Male</td>\n",
       "      <td>1952-09-19</td>\n",
       "      <td>2008-12-31</td>\n",
       "      <td>Married</td>\n",
       "      <td>0.0</td>\n",
       "      <td>Rentiers</td>\n",
       "      <td>14735.0</td>\n",
       "      <td>0.0</td>\n",
       "      <td>0.0</td>\n",
       "      <td>...</td>\n",
       "      <td>0.0</td>\n",
       "      <td>0.000000</td>\n",
       "      <td>0.0</td>\n",
       "      <td>0.0</td>\n",
       "      <td>0.0</td>\n",
       "      <td>0.000000</td>\n",
       "      <td>0.00</td>\n",
       "      <td>0.0</td>\n",
       "      <td>0.0</td>\n",
       "      <td>F</td>\n",
       "    </tr>\n",
       "    <tr>\n",
       "      <th>4</th>\n",
       "      <td>1065914.0</td>\n",
       "      <td>Male</td>\n",
       "      <td>1960-08-04</td>\n",
       "      <td>2008-12-31</td>\n",
       "      <td>Single</td>\n",
       "      <td>0.0</td>\n",
       "      <td>Business-Owners</td>\n",
       "      <td>99755.0</td>\n",
       "      <td>0.0</td>\n",
       "      <td>1.0</td>\n",
       "      <td>...</td>\n",
       "      <td>0.0</td>\n",
       "      <td>8.666667</td>\n",
       "      <td>3.5</td>\n",
       "      <td>2.0</td>\n",
       "      <td>0.0</td>\n",
       "      <td>275.833333</td>\n",
       "      <td>78.22</td>\n",
       "      <td>0.0</td>\n",
       "      <td>2.0</td>\n",
       "      <td>F</td>\n",
       "    </tr>\n",
       "  </tbody>\n",
       "</table>\n",
       "<p>5 rows × 46 columns</p>\n",
       "</div>"
      ],
      "text/plain": [
       "   Customer_ID Gender  Birth_Date    Ref_Date Marital_Status  Children_Num  \\\n",
       "0    5904453.0   Male  1960-10-17  2008-12-31        Married           2.0   \n",
       "1    5904524.0   Male  1972-02-22  2008-12-31       Divorced           0.0   \n",
       "2    5904672.0   Male  1953-06-24  2008-12-31        Married           1.0   \n",
       "3     125603.0   Male  1952-09-19  2008-12-31        Married           0.0   \n",
       "4    1065914.0   Male  1960-08-04  2008-12-31         Single           0.0   \n",
       "\n",
       "  Occupation_Category  Total_Income  Payroll_Flag  Business_Flag  ...  \\\n",
       "0            Rentiers       14000.0           0.0            0.0  ...   \n",
       "1           Employees       17577.0           0.0            0.0  ...   \n",
       "2            Rentiers        3000.0           0.0            0.0  ...   \n",
       "3            Rentiers       14735.0           0.0            0.0  ...   \n",
       "4     Business-Owners       99755.0           0.0            1.0  ...   \n",
       "\n",
       "   Transfer_Trans_Amount  Credit_Cards_Installments  \\\n",
       "0                    0.0                   0.000000   \n",
       "1                    0.0                   0.000000   \n",
       "2                    0.0                   0.000000   \n",
       "3                    0.0                   0.000000   \n",
       "4                    0.0                   8.666667   \n",
       "\n",
       "   Credit_Cards_Payments_Num  Credit_Cards_Purchases_Num  \\\n",
       "0                        0.0                         0.0   \n",
       "1                        0.0                         0.0   \n",
       "2                        0.0                         0.0   \n",
       "3                        0.0                         0.0   \n",
       "4                        3.5                         2.0   \n",
       "\n",
       "   Credit_Cards_Witrhdrawals_Num  Credit_Cards_Payments_Amount  \\\n",
       "0                            0.0                      0.000000   \n",
       "1                            0.0                      0.000000   \n",
       "2                            0.0                      0.000000   \n",
       "3                            0.0                      0.000000   \n",
       "4                            0.0                    275.833333   \n",
       "\n",
       "   Credit_Cards_Purchases_Amount  Credit_Cards_Witrhdrawals_Amount  \\\n",
       "0                           0.00                               0.0   \n",
       "1                           0.00                               0.0   \n",
       "2                           0.00                               0.0   \n",
       "3                           0.00                               0.0   \n",
       "4                          78.22                               0.0   \n",
       "\n",
       "   Arrears_Months_Max  Time_Deposits_Flag  \n",
       "0                 1.0                   F  \n",
       "1                 1.0                   F  \n",
       "2                 0.0                   F  \n",
       "3                 0.0                   F  \n",
       "4                 2.0                   F  \n",
       "\n",
       "[5 rows x 46 columns]"
      ]
     },
     "execution_count": 1,
     "metadata": {},
     "output_type": "execute_result"
    }
   ],
   "source": [
    "import pandas as pd\n",
    "import numpy as np\n",
    "import matplotlib.pyplot as plt\n",
    "%matplotlib inline\n",
    "\n",
    "raw = pd.read_csv('TimeDeposit_10K.csv', sep = ';')\n",
    "raw.head()"
   ]
  },
  {
   "cell_type": "code",
   "execution_count": 2,
   "metadata": {},
   "outputs": [
    {
     "data": {
      "text/plain": [
       "10000"
      ]
     },
     "execution_count": 2,
     "metadata": {},
     "output_type": "execute_result"
    }
   ],
   "source": [
    "len(raw)"
   ]
  },
  {
   "cell_type": "code",
   "execution_count": 3,
   "metadata": {},
   "outputs": [
    {
     "data": {
      "text/plain": [
       "Customer_ID                         0\n",
       "Gender                              0\n",
       "Birth_Date                          0\n",
       "Ref_Date                            0\n",
       "Marital_Status                      0\n",
       "Children_Num                        0\n",
       "Occupation_Category                 0\n",
       "Total_Income                        0\n",
       "Payroll_Flag                        0\n",
       "Business_Flag                       0\n",
       "Saving_Current_Accounts_Flag        0\n",
       "Investment_Products_Flag            0\n",
       "Insurance_Products_Flag             0\n",
       "Business_Loans_Flag                 0\n",
       "Housing_Loans_Flag                  0\n",
       "Consumer_Loans_Flag                 0\n",
       "Credit_Cards_Flag                   0\n",
       "Saving_Current_Balance              0\n",
       "Investment_Products_Balance         0\n",
       "Insurance_Balances                  0\n",
       "Business_Loans_Balance              0\n",
       "Housing_Loans_Balance               0\n",
       "Consumer_Loans_Balance              0\n",
       "Credit_Cards_Balance                0\n",
       "Branch_Trans_Num                    0\n",
       "ATM_Trans_Num                       0\n",
       "APS_Trans_Num                       0\n",
       "Phone_Trans_Num                     0\n",
       "Internet_Trans_Num                  0\n",
       "Deposit_Trans_Num                   0\n",
       "Withdrawl_Trans_Num                 0\n",
       "Payment_Trans_Num                   0\n",
       "Transfer_Trans_Num                  0\n",
       "Deposit_Trans_Amount                0\n",
       "Withdrawl_Trans_Amount              0\n",
       "Payment_Trans_Amount                0\n",
       "Transfer_Trans_Amount               0\n",
       "Credit_Cards_Installments           0\n",
       "Credit_Cards_Payments_Num           0\n",
       "Credit_Cards_Purchases_Num          0\n",
       "Credit_Cards_Witrhdrawals_Num       0\n",
       "Credit_Cards_Payments_Amount        0\n",
       "Credit_Cards_Purchases_Amount       0\n",
       "Credit_Cards_Witrhdrawals_Amount    0\n",
       "Arrears_Months_Max                  0\n",
       "Time_Deposits_Flag                  0\n",
       "dtype: int64"
      ]
     },
     "execution_count": 3,
     "metadata": {},
     "output_type": "execute_result"
    }
   ],
   "source": [
    "raw.isna().sum()"
   ]
  },
  {
   "cell_type": "code",
   "execution_count": 4,
   "metadata": {},
   "outputs": [
    {
     "data": {
      "text/plain": [
       "Customer_ID                            0\n",
       "Gender                                 0\n",
       "Birth_Date                             0\n",
       "Ref_Date                               0\n",
       "Marital_Status                         0\n",
       "Children_Num                        5909\n",
       "Occupation_Category                    0\n",
       "Total_Income                         506\n",
       "Payroll_Flag                        7479\n",
       "Business_Flag                       9211\n",
       "Saving_Current_Accounts_Flag        1348\n",
       "Investment_Products_Flag            9385\n",
       "Insurance_Products_Flag             8431\n",
       "Business_Loans_Flag                 9420\n",
       "Housing_Loans_Flag                  9409\n",
       "Consumer_Loans_Flag                 5491\n",
       "Credit_Cards_Flag                   2645\n",
       "Saving_Current_Balance              2083\n",
       "Investment_Products_Balance         9390\n",
       "Insurance_Balances                  8441\n",
       "Business_Loans_Balance              9424\n",
       "Housing_Loans_Balance               9415\n",
       "Consumer_Loans_Balance              5827\n",
       "Credit_Cards_Balance                5303\n",
       "Branch_Trans_Num                    3956\n",
       "ATM_Trans_Num                       6043\n",
       "APS_Trans_Num                       6085\n",
       "Phone_Trans_Num                     9881\n",
       "Internet_Trans_Num                  9729\n",
       "Deposit_Trans_Num                   5896\n",
       "Withdrawl_Trans_Num                 6207\n",
       "Payment_Trans_Num                   6268\n",
       "Transfer_Trans_Num                  9036\n",
       "Deposit_Trans_Amount                5896\n",
       "Withdrawl_Trans_Amount              6207\n",
       "Payment_Trans_Amount                6268\n",
       "Transfer_Trans_Amount               9036\n",
       "Credit_Cards_Installments           6453\n",
       "Credit_Cards_Payments_Num           6575\n",
       "Credit_Cards_Purchases_Num          7844\n",
       "Credit_Cards_Witrhdrawals_Num       8669\n",
       "Credit_Cards_Payments_Amount        6575\n",
       "Credit_Cards_Purchases_Amount       7844\n",
       "Credit_Cards_Witrhdrawals_Amount    8669\n",
       "Arrears_Months_Max                  5556\n",
       "Time_Deposits_Flag                     0\n",
       "dtype: int64"
      ]
     },
     "execution_count": 4,
     "metadata": {},
     "output_type": "execute_result"
    }
   ],
   "source": [
    "(raw == 0).astype(int).sum()"
   ]
  },
  {
   "cell_type": "code",
   "execution_count": 5,
   "metadata": {},
   "outputs": [
    {
     "data": {
      "text/plain": [
       "Customer_ID                         float64\n",
       "Gender                               object\n",
       "Birth_Date                           object\n",
       "Ref_Date                             object\n",
       "Marital_Status                       object\n",
       "Children_Num                        float64\n",
       "Occupation_Category                  object\n",
       "Total_Income                        float64\n",
       "Payroll_Flag                        float64\n",
       "Business_Flag                       float64\n",
       "Saving_Current_Accounts_Flag        float64\n",
       "Investment_Products_Flag            float64\n",
       "Insurance_Products_Flag             float64\n",
       "Business_Loans_Flag                 float64\n",
       "Housing_Loans_Flag                  float64\n",
       "Consumer_Loans_Flag                 float64\n",
       "Credit_Cards_Flag                   float64\n",
       "Saving_Current_Balance              float64\n",
       "Investment_Products_Balance         float64\n",
       "Insurance_Balances                  float64\n",
       "Business_Loans_Balance              float64\n",
       "Housing_Loans_Balance               float64\n",
       "Consumer_Loans_Balance              float64\n",
       "Credit_Cards_Balance                float64\n",
       "Branch_Trans_Num                    float64\n",
       "ATM_Trans_Num                       float64\n",
       "APS_Trans_Num                       float64\n",
       "Phone_Trans_Num                     float64\n",
       "Internet_Trans_Num                  float64\n",
       "Deposit_Trans_Num                   float64\n",
       "Withdrawl_Trans_Num                 float64\n",
       "Payment_Trans_Num                   float64\n",
       "Transfer_Trans_Num                  float64\n",
       "Deposit_Trans_Amount                float64\n",
       "Withdrawl_Trans_Amount              float64\n",
       "Payment_Trans_Amount                float64\n",
       "Transfer_Trans_Amount               float64\n",
       "Credit_Cards_Installments           float64\n",
       "Credit_Cards_Payments_Num           float64\n",
       "Credit_Cards_Purchases_Num          float64\n",
       "Credit_Cards_Witrhdrawals_Num       float64\n",
       "Credit_Cards_Payments_Amount        float64\n",
       "Credit_Cards_Purchases_Amount       float64\n",
       "Credit_Cards_Witrhdrawals_Amount    float64\n",
       "Arrears_Months_Max                  float64\n",
       "Time_Deposits_Flag                   object\n",
       "dtype: object"
      ]
     },
     "execution_count": 5,
     "metadata": {},
     "output_type": "execute_result"
    }
   ],
   "source": [
    "raw.dtypes"
   ]
  },
  {
   "cell_type": "markdown",
   "metadata": {},
   "source": [
    "### Manipulace s daty\n",
    "pruzkum rozlozeni hodnot a formatu jednotlivych sloupcu a uvaha o tom, ktere potrebujeme a ktere ne "
   ]
  },
  {
   "cell_type": "code",
   "execution_count": 6,
   "metadata": {},
   "outputs": [],
   "source": [
    "# no NaNs, tons of numeric data, let's see column by column\n",
    "raw.drop('Customer_ID', axis = 1, inplace = True)\n"
   ]
  },
  {
   "cell_type": "code",
   "execution_count": 7,
   "metadata": {},
   "outputs": [
    {
     "data": {
      "text/plain": [
       "<bound method Series.unique of 0         Male\n",
       "1         Male\n",
       "2         Male\n",
       "3         Male\n",
       "4         Male\n",
       "         ...  \n",
       "9995      Male\n",
       "9996    Female\n",
       "9997    Female\n",
       "9998    Female\n",
       "9999      Male\n",
       "Name: Gender, Length: 10000, dtype: object>"
      ]
     },
     "execution_count": 7,
     "metadata": {},
     "output_type": "execute_result"
    }
   ],
   "source": [
    "#how many genders do we actually have (that's a joke)\n",
    "raw['Gender'].unique"
   ]
  },
  {
   "cell_type": "markdown",
   "metadata": {},
   "source": [
    "Mapovani kategoricke promenne pohlavi na numericke hodnoty (binarni promenna)"
   ]
  },
  {
   "cell_type": "code",
   "execution_count": 8,
   "metadata": {},
   "outputs": [
    {
     "data": {
      "text/plain": [
       "array([0, 0, 0, ..., 1, 1, 0], dtype=int64)"
      ]
     },
     "execution_count": 8,
     "metadata": {},
     "output_type": "execute_result"
    }
   ],
   "source": [
    "raw['Gender'] = raw['Gender'].map({'Male': 0, 'Female': 1})\n",
    "raw['Gender'].values"
   ]
  },
  {
   "cell_type": "markdown",
   "metadata": {},
   "source": [
    "Vypocet data s ohledem na referencni datum uvedene v popisu dat, tvorba sloupce Age a smazani puvodnich sloupcu"
   ]
  },
  {
   "cell_type": "code",
   "execution_count": 9,
   "metadata": {},
   "outputs": [
    {
     "name": "stdout",
     "output_type": "stream",
     "text": [
      "datetime64[ns] datetime64[ns]\n"
     ]
    }
   ],
   "source": [
    "#ref_date should be used as the current date when calculating age, let's make it easy\n",
    "raw['Birth_Date'] = pd.to_datetime(raw['Birth_Date'])\n",
    "raw['Ref_Date'] = pd.to_datetime(raw['Ref_Date'])\n",
    "print(raw['Birth_Date'].dtype, raw['Ref_Date'].dtype)"
   ]
  },
  {
   "cell_type": "code",
   "execution_count": 10,
   "metadata": {},
   "outputs": [],
   "source": [
    "#dates to datetime, get day difference, calculate years by common rule and round down\n",
    "raw['Age'] = (np.floor((pd.to_datetime(raw['Ref_Date']) - \n",
    "             pd.to_datetime(raw['Birth_Date'])).dt.days / 365.25)).astype(np.float64)"
   ]
  },
  {
   "cell_type": "code",
   "execution_count": 11,
   "metadata": {},
   "outputs": [
    {
     "data": {
      "text/plain": [
       "42.0    325\n",
       "36.0    324\n",
       "41.0    311\n",
       "40.0    308\n",
       "31.0    305\n",
       "39.0    299\n",
       "48.0    294\n",
       "29.0    293\n",
       "28.0    290\n",
       "43.0    287\n",
       "37.0    282\n",
       "30.0    279\n",
       "34.0    279\n",
       "38.0    278\n",
       "32.0    275\n",
       "35.0    272\n",
       "33.0    271\n",
       "45.0    268\n",
       "46.0    265\n",
       "49.0    257\n",
       "44.0    252\n",
       "47.0    232\n",
       "50.0    231\n",
       "51.0    226\n",
       "27.0    223\n",
       "26.0    215\n",
       "53.0    207\n",
       "52.0    205\n",
       "55.0    182\n",
       "54.0    170\n",
       "25.0    167\n",
       "62.0    157\n",
       "57.0    154\n",
       "56.0    154\n",
       "61.0    140\n",
       "59.0    139\n",
       "58.0    136\n",
       "60.0    126\n",
       "63.0    125\n",
       "24.0    110\n",
       "64.0    102\n",
       "23.0     99\n",
       "69.0     80\n",
       "65.0     75\n",
       "66.0     73\n",
       "67.0     68\n",
       "22.0     62\n",
       "68.0     52\n",
       "21.0     38\n",
       "20.0     24\n",
       "19.0     14\n",
       "Name: Age, dtype: int64"
      ]
     },
     "execution_count": 11,
     "metadata": {},
     "output_type": "execute_result"
    }
   ],
   "source": [
    "raw['Age'].value_counts()\n",
    "#cool, we have some numbers"
   ]
  },
  {
   "cell_type": "markdown",
   "metadata": {},
   "source": [
    "Ze zvedavosti histogram vekovych kategorii, jen pro predstavu jak reprezentativni vzorek je"
   ]
  },
  {
   "cell_type": "code",
   "execution_count": 12,
   "metadata": {
    "scrolled": true
   },
   "outputs": [
    {
     "data": {
      "text/plain": [
       "(array([ 237., 1005., 1423., 1435., 1530., 1311., 1126.,  796.,  687.,\n",
       "         450.]),\n",
       " array([19., 24., 29., 34., 39., 44., 49., 54., 59., 64., 69.]),\n",
       " <BarContainer object of 10 artists>)"
      ]
     },
     "execution_count": 12,
     "metadata": {},
     "output_type": "execute_result"
    },
    {
     "data": {
      "image/png": "[encoded data removed]",
      "text/plain": [
       "<Figure size 432x288 with 1 Axes>"
      ]
     },
     "metadata": {
      "needs_background": "light"
     },
     "output_type": "display_data"
    }
   ],
   "source": [
    "#let's check the distribution of age, maybe it's interesting\n",
    "plt.hist(raw['Age'])"
   ]
  },
  {
   "cell_type": "markdown",
   "metadata": {},
   "source": [
    "A jeste histogram vsech numerickych sloupcu pro predstavu"
   ]
  },
  {
   "cell_type": "code",
   "execution_count": 13,
   "metadata": {},
   "outputs": [
    {
     "data": {
      "image/png": "[encoded data removed]",
      "text/plain": [
       "<Figure size 1440x1080 with 42 Axes>"
      ]
     },
     "metadata": {
      "needs_background": "light"
     },
     "output_type": "display_data"
    }
   ],
   "source": [
    "raw.hist(bins = 50, figsize = (20,15))\n",
    "plt.show()"
   ]
  },
  {
   "cell_type": "code",
   "execution_count": 14,
   "metadata": {},
   "outputs": [],
   "source": [
    "#pretty fine, looks approximately normally distributed so there's no hard bias with this variable\n",
    "#getting rid of date variables, don't need them anymore\n",
    "raw.drop(['Ref_Date','Birth_Date'], axis = 1, inplace=True)"
   ]
  },
  {
   "cell_type": "markdown",
   "metadata": {},
   "source": [
    "One-hot-encoding promenne Marital_Status"
   ]
  },
  {
   "cell_type": "code",
   "execution_count": 15,
   "metadata": {},
   "outputs": [
    {
     "data": {
      "text/plain": [
       "Married     6089\n",
       "Single      2956\n",
       "Divorced     739\n",
       "Widow        216\n",
       "Name: Marital_Status, dtype: int64"
      ]
     },
     "execution_count": 15,
     "metadata": {},
     "output_type": "execute_result"
    }
   ],
   "source": [
    "# the marital status should be one-hot-encoded, as there's no direct relationship between categories if we used\n",
    "# single column encoding\n",
    "raw['Marital_Status'].value_counts()"
   ]
  },
  {
   "cell_type": "code",
   "execution_count": 16,
   "metadata": {},
   "outputs": [],
   "source": [
    "checkpoint = raw.copy() #you never know\n",
    "categories = ['Married','Single','Divorced','Widow']\n",
    "#can use pandas get_dummies or sklearn.preprocessing OneHotEncoder, however get_dummies is better if we want to \n",
    "#get rid of multicollinearity later\n",
    "\n",
    "dummies = pd.get_dummies(raw['Marital_Status'], columns = categories)\n",
    "\n"
   ]
  },
  {
   "cell_type": "code",
   "execution_count": 17,
   "metadata": {},
   "outputs": [],
   "source": [
    "raw = pd.concat([raw, dummies], axis = 1)"
   ]
  },
  {
   "cell_type": "code",
   "execution_count": 18,
   "metadata": {},
   "outputs": [],
   "source": [
    "raw.drop('Marital_Status', axis = 1, inplace = True)"
   ]
  },
  {
   "cell_type": "markdown",
   "metadata": {},
   "source": [
    "Uprava promenne Occupation_category, ktera by sla promenit na numericke hodnoty, nelze ale jednoznacne uvazovat vycislitelny hierarchicky vztah mezi kategoriemi, a tak je i tato promenna premenena pomoci One-hot-encodingu"
   ]
  },
  {
   "cell_type": "code",
   "execution_count": 19,
   "metadata": {},
   "outputs": [
    {
     "data": {
      "text/plain": [
       "Employees          5609\n",
       "Business-Owners    1775\n",
       "Retirees           1108\n",
       "Rentiers            642\n",
       "Unemployeed         506\n",
       "Self-Employees      360\n",
       "Name: Occupation_Category, dtype: int64"
      ]
     },
     "execution_count": 19,
     "metadata": {},
     "output_type": "execute_result"
    }
   ],
   "source": [
    "#the last object feature is occupation category, let's see the values\n",
    "raw['Occupation_Category'].value_counts()"
   ]
  },
  {
   "cell_type": "code",
   "execution_count": 20,
   "metadata": {},
   "outputs": [
    {
     "data": {
      "text/html": [
       "<div>\n",
       "<style scoped>\n",
       "    .dataframe tbody tr th:only-of-type {\n",
       "        vertical-align: middle;\n",
       "    }\n",
       "\n",
       "    .dataframe tbody tr th {\n",
       "        vertical-align: top;\n",
       "    }\n",
       "\n",
       "    .dataframe thead th {\n",
       "        text-align: right;\n",
       "    }\n",
       "</style>\n",
       "<table border=\"1\" class=\"dataframe\">\n",
       "  <thead>\n",
       "    <tr style=\"text-align: right;\">\n",
       "      <th></th>\n",
       "      <th>Business-Owners</th>\n",
       "      <th>Employees</th>\n",
       "      <th>Rentiers</th>\n",
       "      <th>Retirees</th>\n",
       "      <th>Self-Employees</th>\n",
       "      <th>Unemployeed</th>\n",
       "    </tr>\n",
       "  </thead>\n",
       "  <tbody>\n",
       "    <tr>\n",
       "      <th>0</th>\n",
       "      <td>0</td>\n",
       "      <td>0</td>\n",
       "      <td>1</td>\n",
       "      <td>0</td>\n",
       "      <td>0</td>\n",
       "      <td>0</td>\n",
       "    </tr>\n",
       "    <tr>\n",
       "      <th>1</th>\n",
       "      <td>0</td>\n",
       "      <td>1</td>\n",
       "      <td>0</td>\n",
       "      <td>0</td>\n",
       "      <td>0</td>\n",
       "      <td>0</td>\n",
       "    </tr>\n",
       "    <tr>\n",
       "      <th>2</th>\n",
       "      <td>0</td>\n",
       "      <td>0</td>\n",
       "      <td>1</td>\n",
       "      <td>0</td>\n",
       "      <td>0</td>\n",
       "      <td>0</td>\n",
       "    </tr>\n",
       "    <tr>\n",
       "      <th>3</th>\n",
       "      <td>0</td>\n",
       "      <td>0</td>\n",
       "      <td>1</td>\n",
       "      <td>0</td>\n",
       "      <td>0</td>\n",
       "      <td>0</td>\n",
       "    </tr>\n",
       "    <tr>\n",
       "      <th>4</th>\n",
       "      <td>1</td>\n",
       "      <td>0</td>\n",
       "      <td>0</td>\n",
       "      <td>0</td>\n",
       "      <td>0</td>\n",
       "      <td>0</td>\n",
       "    </tr>\n",
       "  </tbody>\n",
       "</table>\n",
       "</div>"
      ],
      "text/plain": [
       "   Business-Owners  Employees  Rentiers  Retirees  Self-Employees  Unemployeed\n",
       "0                0          0         1         0               0            0\n",
       "1                0          1         0         0               0            0\n",
       "2                0          0         1         0               0            0\n",
       "3                0          0         1         0               0            0\n",
       "4                1          0         0         0               0            0"
      ]
     },
     "execution_count": 20,
     "metadata": {},
     "output_type": "execute_result"
    }
   ],
   "source": [
    "#this is a tricky feature. We can't assume linear relationship between categories, since we also have unemployed and\n",
    "#retired people in our dataset. We can either one-hot-encode them all, or divide into categories like employed, unemployed, \n",
    "#retired, but for the sake of the exercise we will just one-hot-encode them all.\n",
    "checkpoint = raw.copy()\n",
    "\n",
    "cats = ['Regular employee','Business Owner','Retired','Rentier','Unemployed','Self-employed']\n",
    "dummies2 = pd.get_dummies(raw['Occupation_Category'], columns = cats)\n",
    "dummies2.head()"
   ]
  },
  {
   "cell_type": "code",
   "execution_count": 21,
   "metadata": {},
   "outputs": [],
   "source": [
    "raw = pd.concat([raw, dummies2], axis = 1)\n",
    "raw.drop('Occupation_Category', axis = 1, inplace = True)"
   ]
  },
  {
   "cell_type": "code",
   "execution_count": 22,
   "metadata": {},
   "outputs": [
    {
     "name": "stdout",
     "output_type": "stream",
     "text": [
      "<class 'pandas.core.frame.DataFrame'>\n",
      "RangeIndex: 10000 entries, 0 to 9999\n",
      "Data columns (total 52 columns):\n",
      " #   Column                            Non-Null Count  Dtype  \n",
      "---  ------                            --------------  -----  \n",
      " 0   Gender                            10000 non-null  int64  \n",
      " 1   Children_Num                      10000 non-null  float64\n",
      " 2   Total_Income                      10000 non-null  float64\n",
      " 3   Payroll_Flag                      10000 non-null  float64\n",
      " 4   Business_Flag                     10000 non-null  float64\n",
      " 5   Saving_Current_Accounts_Flag      10000 non-null  float64\n",
      " 6   Investment_Products_Flag          10000 non-null  float64\n",
      " 7   Insurance_Products_Flag           10000 non-null  float64\n",
      " 8   Business_Loans_Flag               10000 non-null  float64\n",
      " 9   Housing_Loans_Flag                10000 non-null  float64\n",
      " 10  Consumer_Loans_Flag               10000 non-null  float64\n",
      " 11  Credit_Cards_Flag                 10000 non-null  float64\n",
      " 12  Saving_Current_Balance            10000 non-null  float64\n",
      " 13  Investment_Products_Balance       10000 non-null  float64\n",
      " 14  Insurance_Balances                10000 non-null  float64\n",
      " 15  Business_Loans_Balance            10000 non-null  float64\n",
      " 16  Housing_Loans_Balance             10000 non-null  float64\n",
      " 17  Consumer_Loans_Balance            10000 non-null  float64\n",
      " 18  Credit_Cards_Balance              10000 non-null  float64\n",
      " 19  Branch_Trans_Num                  10000 non-null  float64\n",
      " 20  ATM_Trans_Num                     10000 non-null  float64\n",
      " 21  APS_Trans_Num                     10000 non-null  float64\n",
      " 22  Phone_Trans_Num                   10000 non-null  float64\n",
      " 23  Internet_Trans_Num                10000 non-null  float64\n",
      " 24  Deposit_Trans_Num                 10000 non-null  float64\n",
      " 25  Withdrawl_Trans_Num               10000 non-null  float64\n",
      " 26  Payment_Trans_Num                 10000 non-null  float64\n",
      " 27  Transfer_Trans_Num                10000 non-null  float64\n",
      " 28  Deposit_Trans_Amount              10000 non-null  float64\n",
      " 29  Withdrawl_Trans_Amount            10000 non-null  float64\n",
      " 30  Payment_Trans_Amount              10000 non-null  float64\n",
      " 31  Transfer_Trans_Amount             10000 non-null  float64\n",
      " 32  Credit_Cards_Installments         10000 non-null  float64\n",
      " 33  Credit_Cards_Payments_Num         10000 non-null  float64\n",
      " 34  Credit_Cards_Purchases_Num        10000 non-null  float64\n",
      " 35  Credit_Cards_Witrhdrawals_Num     10000 non-null  float64\n",
      " 36  Credit_Cards_Payments_Amount      10000 non-null  float64\n",
      " 37  Credit_Cards_Purchases_Amount     10000 non-null  float64\n",
      " 38  Credit_Cards_Witrhdrawals_Amount  10000 non-null  float64\n",
      " 39  Arrears_Months_Max                10000 non-null  float64\n",
      " 40  Time_Deposits_Flag                10000 non-null  object \n",
      " 41  Age                               10000 non-null  float64\n",
      " 42  Divorced                          10000 non-null  uint8  \n",
      " 43  Married                           10000 non-null  uint8  \n",
      " 44  Single                            10000 non-null  uint8  \n",
      " 45  Widow                             10000 non-null  uint8  \n",
      " 46  Business-Owners                   10000 non-null  uint8  \n",
      " 47  Employees                         10000 non-null  uint8  \n",
      " 48  Rentiers                          10000 non-null  uint8  \n",
      " 49  Retirees                          10000 non-null  uint8  \n",
      " 50  Self-Employees                    10000 non-null  uint8  \n",
      " 51  Unemployeed                       10000 non-null  uint8  \n",
      "dtypes: float64(40), int64(1), object(1), uint8(10)\n",
      "memory usage: 3.3+ MB\n"
     ]
    }
   ],
   "source": [
    "raw.info()"
   ]
  },
  {
   "cell_type": "markdown",
   "metadata": {},
   "source": [
    "Preorganizovani tabulky"
   ]
  },
  {
   "cell_type": "code",
   "execution_count": 23,
   "metadata": {},
   "outputs": [
    {
     "data": {
      "text/plain": [
       "Index(['Gender', 'Children_Num', 'Total_Income', 'Payroll_Flag',\n",
       "       'Business_Flag', 'Saving_Current_Accounts_Flag',\n",
       "       'Investment_Products_Flag', 'Insurance_Products_Flag',\n",
       "       'Business_Loans_Flag', 'Housing_Loans_Flag', 'Consumer_Loans_Flag',\n",
       "       'Credit_Cards_Flag', 'Saving_Current_Balance',\n",
       "       'Investment_Products_Balance', 'Insurance_Balances',\n",
       "       'Business_Loans_Balance', 'Housing_Loans_Balance',\n",
       "       'Consumer_Loans_Balance', 'Credit_Cards_Balance', 'Branch_Trans_Num',\n",
       "       'ATM_Trans_Num', 'APS_Trans_Num', 'Phone_Trans_Num',\n",
       "       'Internet_Trans_Num', 'Deposit_Trans_Num', 'Withdrawl_Trans_Num',\n",
       "       'Payment_Trans_Num', 'Transfer_Trans_Num', 'Deposit_Trans_Amount',\n",
       "       'Withdrawl_Trans_Amount', 'Payment_Trans_Amount',\n",
       "       'Transfer_Trans_Amount', 'Credit_Cards_Installments',\n",
       "       'Credit_Cards_Payments_Num', 'Credit_Cards_Purchases_Num',\n",
       "       'Credit_Cards_Witrhdrawals_Num', 'Credit_Cards_Payments_Amount',\n",
       "       'Credit_Cards_Purchases_Amount', 'Credit_Cards_Witrhdrawals_Amount',\n",
       "       'Arrears_Months_Max', 'Time_Deposits_Flag', 'Age', 'Divorced',\n",
       "       'Married', 'Single', 'Widow', 'Business-Owners', 'Employees',\n",
       "       'Rentiers', 'Retirees', 'Self-Employees', 'Unemployeed'],\n",
       "      dtype='object')"
      ]
     },
     "execution_count": 23,
     "metadata": {},
     "output_type": "execute_result"
    }
   ],
   "source": [
    "#let's order the dataset with y being the last feature\n",
    "raw.columns"
   ]
  },
  {
   "cell_type": "code",
   "execution_count": 24,
   "metadata": {},
   "outputs": [],
   "source": [
    "proper_cats = ['Gender', 'Children_Num', 'Total_Income', 'Payroll_Flag',\n",
    "       'Business_Flag', 'Saving_Current_Accounts_Flag',\n",
    "       'Investment_Products_Flag', 'Insurance_Products_Flag',\n",
    "       'Business_Loans_Flag', 'Housing_Loans_Flag', 'Consumer_Loans_Flag',\n",
    "       'Credit_Cards_Flag', 'Saving_Current_Balance',\n",
    "       'Investment_Products_Balance', 'Insurance_Balances',\n",
    "       'Business_Loans_Balance', 'Housing_Loans_Balance',\n",
    "       'Consumer_Loans_Balance', 'Credit_Cards_Balance', 'Branch_Trans_Num',\n",
    "       'ATM_Trans_Num', 'APS_Trans_Num', 'Phone_Trans_Num',\n",
    "       'Internet_Trans_Num', 'Deposit_Trans_Num', 'Withdrawl_Trans_Num',\n",
    "       'Payment_Trans_Num', 'Transfer_Trans_Num', 'Deposit_Trans_Amount',\n",
    "       'Withdrawl_Trans_Amount', 'Payment_Trans_Amount',\n",
    "       'Transfer_Trans_Amount', 'Credit_Cards_Installments',\n",
    "       'Credit_Cards_Payments_Num', 'Credit_Cards_Purchases_Num',\n",
    "       'Credit_Cards_Witrhdrawals_Num', 'Credit_Cards_Payments_Amount',\n",
    "       'Credit_Cards_Purchases_Amount', 'Credit_Cards_Witrhdrawals_Amount',\n",
    "       'Arrears_Months_Max', 'Age', 'Divorced',\n",
    "       'Married', 'Single', 'Widow', 'Business-Owners', 'Employees',\n",
    "       'Rentiers', 'Retirees', 'Self-Employees', 'Unemployeed', 'Time_Deposits_Flag',]\n",
    "raw = raw[proper_cats]"
   ]
  },
  {
   "cell_type": "markdown",
   "metadata": {},
   "source": [
    "Kontrola hodnot v jednotlivych sloupcich"
   ]
  },
  {
   "cell_type": "code",
   "execution_count": 25,
   "metadata": {},
   "outputs": [
    {
     "data": {
      "text/plain": [
       "1.0    7355\n",
       "0.0    2645\n",
       "Name: Credit_Cards_Flag, dtype: int64"
      ]
     },
     "execution_count": 25,
     "metadata": {},
     "output_type": "execute_result"
    }
   ],
   "source": [
    "#are the flags actually 0/1?\n",
    "raw['Credit_Cards_Flag'].value_counts()"
   ]
  },
  {
   "cell_type": "code",
   "execution_count": 26,
   "metadata": {},
   "outputs": [
    {
     "data": {
      "text/plain": [
       "506"
      ]
     },
     "execution_count": 26,
     "metadata": {},
     "output_type": "execute_result"
    }
   ],
   "source": [
    "#let's assume the remaining flags are binary as well\n",
    "(raw['Total_Income'] == 0).sum()"
   ]
  },
  {
   "cell_type": "markdown",
   "metadata": {},
   "source": [
    "Pruzkum multikolinearity - ukazuji Flags a Balance stejnou informaci?"
   ]
  },
  {
   "cell_type": "code",
   "execution_count": 27,
   "metadata": {},
   "outputs": [
    {
     "name": "stdout",
     "output_type": "stream",
     "text": [
      "1775 789.0\n",
      "8652.0 7917\n",
      "615.0 610\n"
     ]
    }
   ],
   "source": [
    "#is zero income right or missing value? Taking into account that the dataset seems to be complete, let's assume \n",
    "#this is on purpose and the people really do have zero official income\n",
    "cols_to_remove = []\n",
    "#let's think about the columns we do not need, be it because of multicollinearity or other reasons\n",
    "print(raw['Business-Owners'].sum(), raw['Business_Flag'].sum()) #no relationship\n",
    "print(raw['Saving_Current_Accounts_Flag'].sum(), (raw['Saving_Current_Balance']!=0).sum()) #ppl have accounts with no money,can be relevant\n",
    "print(raw['Investment_Products_Flag'].sum(), (raw['Investment_Products_Balance']>0).sum()) #let's investigate further\n"
   ]
  },
  {
   "cell_type": "code",
   "execution_count": 28,
   "metadata": {},
   "outputs": [
    {
     "data": {
      "text/plain": [
       "(0.0, 500.0)"
      ]
     },
     "execution_count": 28,
     "metadata": {},
     "output_type": "execute_result"
    },
    {
     "data": {
      "image/png": "[encoded data removed]",
      "text/plain": [
       "<Figure size 432x288 with 1 Axes>"
      ]
     },
     "metadata": {
      "needs_background": "light"
     },
     "output_type": "display_data"
    }
   ],
   "source": [
    "plt.hist((raw['Investment_Products_Balance']), bins = 50)\n",
    "plt.ylim(top=500)"
   ]
  },
  {
   "cell_type": "code",
   "execution_count": 29,
   "metadata": {},
   "outputs": [],
   "source": [
    "#yeah let's drop Investment flag\n",
    "cols_to_remove.append('Investment_Products_Flag')\n"
   ]
  },
  {
   "cell_type": "markdown",
   "metadata": {},
   "source": [
    "Srovnavani pozitivnich poctu pribuznych features - Flags vs. Balance a odstranovani flags v pripade podezreni o multikolinearite"
   ]
  },
  {
   "cell_type": "code",
   "execution_count": 30,
   "metadata": {},
   "outputs": [
    {
     "name": "stdout",
     "output_type": "stream",
     "text": [
      "1569.0 1559\n"
     ]
    }
   ],
   "source": [
    "print(raw['Insurance_Products_Flag'].sum(), (raw['Insurance_Balances']>0).sum()) #remove"
   ]
  },
  {
   "cell_type": "code",
   "execution_count": 31,
   "metadata": {},
   "outputs": [],
   "source": [
    "cols_to_remove.append('Insurance_Products_Flag')"
   ]
  },
  {
   "cell_type": "code",
   "execution_count": 32,
   "metadata": {},
   "outputs": [
    {
     "name": "stdout",
     "output_type": "stream",
     "text": [
      "580.0 574\n"
     ]
    }
   ],
   "source": [
    "print(raw['Business_Loans_Flag'].sum(), (raw['Business_Loans_Balance']>0).sum()) #remove"
   ]
  },
  {
   "cell_type": "code",
   "execution_count": 33,
   "metadata": {},
   "outputs": [],
   "source": [
    "cols_to_remove.append('Business_Loans_Flag')"
   ]
  },
  {
   "cell_type": "code",
   "execution_count": 34,
   "metadata": {
    "scrolled": true
   },
   "outputs": [
    {
     "name": "stdout",
     "output_type": "stream",
     "text": [
      "591.0 585\n"
     ]
    }
   ],
   "source": [
    "print(raw['Housing_Loans_Flag'].sum(), (raw['Housing_Loans_Balance']>0).sum()) #remove"
   ]
  },
  {
   "cell_type": "code",
   "execution_count": 35,
   "metadata": {},
   "outputs": [],
   "source": [
    "cols_to_remove.append('Housing_Loans_Flag')"
   ]
  },
  {
   "cell_type": "markdown",
   "metadata": {},
   "source": [
    "Consumer Loans je specialni - Balance muze byt 0, avsak flag stale 1 - pujcka je tedy splacena, ale neni uzavrena. Predpokladame, ze rozhoduje castka, a tak Flag odstranime, ackoliv se pocty mirne lisi"
   ]
  },
  {
   "cell_type": "code",
   "execution_count": 36,
   "metadata": {
    "scrolled": true
   },
   "outputs": [
    {
     "name": "stdout",
     "output_type": "stream",
     "text": [
      "4509.0 4132\n"
     ]
    }
   ],
   "source": [
    "print(raw['Consumer_Loans_Flag'].sum(), (raw['Consumer_Loans_Balance']>0).sum()) "
   ]
  },
  {
   "cell_type": "code",
   "execution_count": 37,
   "metadata": {},
   "outputs": [
    {
     "name": "stderr",
     "output_type": "stream",
     "text": [
      "c:\\users\\hartd\\appdata\\local\\programs\\python\\python38\\lib\\site-packages\\numpy\\lib\\histograms.py:839: RuntimeWarning: invalid value encountered in greater_equal\n",
      "  keep = (tmp_a >= first_edge)\n",
      "c:\\users\\hartd\\appdata\\local\\programs\\python\\python38\\lib\\site-packages\\numpy\\lib\\histograms.py:840: RuntimeWarning: invalid value encountered in less_equal\n",
      "  keep &= (tmp_a <= last_edge)\n"
     ]
    },
    {
     "data": {
      "text/plain": [
       "(0.0, 20000.0)"
      ]
     },
     "execution_count": 37,
     "metadata": {},
     "output_type": "execute_result"
    },
    {
     "data": {
      "image/png": "[encoded data removed]",
      "text/plain": [
       "<Figure size 432x288 with 1 Axes>"
      ]
     },
     "metadata": {
      "needs_background": "light"
     },
     "output_type": "display_data"
    }
   ],
   "source": [
    "toplot = [raw['Consumer_Loans_Balance'].where(raw['Consumer_Loans_Flag']==1)]\n",
    "plt.hist(toplot, bins = 50)\n",
    "plt.xlim(0,20000)"
   ]
  },
  {
   "cell_type": "code",
   "execution_count": 38,
   "metadata": {},
   "outputs": [],
   "source": [
    "#assuming there are ppl with opened consumer loan who do not owe anything, yet their loan hasn't been closed, we remove\n",
    "#this flag as well\n",
    "cols_to_remove.append('Consumer_Loans_Flag')"
   ]
  },
  {
   "cell_type": "markdown",
   "metadata": {},
   "source": [
    "Opak je pravdou u Credit Cards - fakt, ze je osoba drzitelem kreditni karty (v americkem slova smyslu, i.e. cerpa z ni na dluh), je dulezity, nebot predstavuje urcite riziko. Vyse kreditniho dluhu je taky dulezity fakt a vypovida o necem trochu jinem. Kombinace obou by mohla byt samostatna promenna. Ponechame obe promenne."
   ]
  },
  {
   "cell_type": "code",
   "execution_count": 39,
   "metadata": {},
   "outputs": [
    {
     "name": "stdout",
     "output_type": "stream",
     "text": [
      "7355.0 3984\n"
     ]
    }
   ],
   "source": [
    "print(raw['Credit_Cards_Flag'].sum(), (raw['Credit_Cards_Balance']>0).sum())\n",
    "#there are people with credit cards with no debt, however, this might be important, guess we keep that one"
   ]
  },
  {
   "cell_type": "markdown",
   "metadata": {},
   "source": [
    "Secteme pocet jednotlivych druhu transakci do jedineho sloupce a puvodnich se kvuli snizeni zbytecne dimenzionality zbavime."
   ]
  },
  {
   "cell_type": "code",
   "execution_count": 40,
   "metadata": {
    "scrolled": true
   },
   "outputs": [
    {
     "name": "stdout",
     "output_type": "stream",
     "text": [
      "19 27\n"
     ]
    }
   ],
   "source": [
    "#let's just straight up sum and then remove numbers of transactions\n",
    "print(raw.columns.get_loc(\"Branch_Trans_Num\"),raw.columns.get_loc(\"Transfer_Trans_Num\"))"
   ]
  },
  {
   "cell_type": "code",
   "execution_count": 41,
   "metadata": {},
   "outputs": [],
   "source": [
    "raw['Total_transactions'] = raw.iloc[:,raw.columns.get_loc(\"Branch_Trans_Num\"):raw.columns.get_loc(\"Transfer_Trans_Num\")].sum(axis=1)"
   ]
  },
  {
   "cell_type": "code",
   "execution_count": 42,
   "metadata": {},
   "outputs": [
    {
     "data": {
      "text/plain": [
       "count    10000.000000\n",
       "mean         3.625320\n",
       "std          4.828016\n",
       "min          0.000000\n",
       "25%          0.500000\n",
       "50%          2.000000\n",
       "75%          4.666667\n",
       "max         61.833334\n",
       "Name: Total_transactions, dtype: float64"
      ]
     },
     "execution_count": 42,
     "metadata": {},
     "output_type": "execute_result"
    }
   ],
   "source": [
    "raw['Total_transactions'].describe()"
   ]
  },
  {
   "cell_type": "code",
   "execution_count": 43,
   "metadata": {},
   "outputs": [
    {
     "data": {
      "text/plain": [
       "(array([8.210e+03, 1.199e+03, 4.060e+02, 1.210e+02, 3.900e+01, 1.000e+01,\n",
       "        7.000e+00, 6.000e+00, 1.000e+00, 1.000e+00]),\n",
       " array([ 0.       ,  6.1833334, 12.3666668, 18.5500002, 24.7333336,\n",
       "        30.916667 , 37.1000004, 43.2833338, 49.4666672, 55.6500006,\n",
       "        61.833334 ]),\n",
       " <BarContainer object of 10 artists>)"
      ]
     },
     "execution_count": 43,
     "metadata": {},
     "output_type": "execute_result"
    },
    {
     "data": {
      "image/png": "[encoded data removed]",
      "text/plain": [
       "<Figure size 432x288 with 1 Axes>"
      ]
     },
     "metadata": {
      "needs_background": "light"
     },
     "output_type": "display_data"
    }
   ],
   "source": [
    "plt.hist(raw['Total_transactions'])"
   ]
  },
  {
   "cell_type": "markdown",
   "metadata": {},
   "source": [
    "Pocet plateb a nakupu smazeme take, nechame si pouze hodnoty, ktere maji vyssi vypovidajici hodnotu"
   ]
  },
  {
   "cell_type": "code",
   "execution_count": 44,
   "metadata": {},
   "outputs": [],
   "source": [
    "#lets just remove credit cards cash movements numbers\n",
    "for i in ['Credit_Cards_Payments_Num','Credit_Cards_Purchases_Num','Credit_Cards_Witrhdrawals_Num']:\n",
    "    cols_to_remove.append(i)"
   ]
  },
  {
   "cell_type": "code",
   "execution_count": 45,
   "metadata": {},
   "outputs": [],
   "source": [
    "for i in ['Branch_Trans_Num','ATM_Trans_Num','APS_Trans_Num','Phone_Trans_Num','Internet_Trans_Num','Deposit_Trans_Num',\n",
    "         'Withdrawl_Trans_Num','Payment_Trans_Num','Transfer_Trans_Num']:\n",
    "    cols_to_remove.append(i)"
   ]
  },
  {
   "cell_type": "code",
   "execution_count": 46,
   "metadata": {},
   "outputs": [
    {
     "data": {
      "text/plain": [
       "53"
      ]
     },
     "execution_count": 46,
     "metadata": {},
     "output_type": "execute_result"
    }
   ],
   "source": [
    "len(raw.columns)"
   ]
  },
  {
   "cell_type": "code",
   "execution_count": 47,
   "metadata": {},
   "outputs": [
    {
     "data": {
      "text/html": [
       "<div>\n",
       "<style scoped>\n",
       "    .dataframe tbody tr th:only-of-type {\n",
       "        vertical-align: middle;\n",
       "    }\n",
       "\n",
       "    .dataframe tbody tr th {\n",
       "        vertical-align: top;\n",
       "    }\n",
       "\n",
       "    .dataframe thead th {\n",
       "        text-align: right;\n",
       "    }\n",
       "</style>\n",
       "<table border=\"1\" class=\"dataframe\">\n",
       "  <thead>\n",
       "    <tr style=\"text-align: right;\">\n",
       "      <th></th>\n",
       "      <th>Gender</th>\n",
       "      <th>Children_Num</th>\n",
       "      <th>Total_Income</th>\n",
       "      <th>Payroll_Flag</th>\n",
       "      <th>Business_Flag</th>\n",
       "      <th>Saving_Current_Accounts_Flag</th>\n",
       "      <th>Credit_Cards_Flag</th>\n",
       "      <th>Saving_Current_Balance</th>\n",
       "      <th>Investment_Products_Balance</th>\n",
       "      <th>Insurance_Balances</th>\n",
       "      <th>...</th>\n",
       "      <th>Single</th>\n",
       "      <th>Widow</th>\n",
       "      <th>Business-Owners</th>\n",
       "      <th>Employees</th>\n",
       "      <th>Rentiers</th>\n",
       "      <th>Retirees</th>\n",
       "      <th>Self-Employees</th>\n",
       "      <th>Unemployeed</th>\n",
       "      <th>Time_Deposits_Flag</th>\n",
       "      <th>Total_transactions</th>\n",
       "    </tr>\n",
       "  </thead>\n",
       "  <tbody>\n",
       "    <tr>\n",
       "      <th>0</th>\n",
       "      <td>0</td>\n",
       "      <td>2.0</td>\n",
       "      <td>14000.0</td>\n",
       "      <td>0.0</td>\n",
       "      <td>0.0</td>\n",
       "      <td>1.0</td>\n",
       "      <td>1.0</td>\n",
       "      <td>27.288333</td>\n",
       "      <td>0.0</td>\n",
       "      <td>0.0</td>\n",
       "      <td>...</td>\n",
       "      <td>0</td>\n",
       "      <td>0</td>\n",
       "      <td>0</td>\n",
       "      <td>0</td>\n",
       "      <td>1</td>\n",
       "      <td>0</td>\n",
       "      <td>0</td>\n",
       "      <td>0</td>\n",
       "      <td>F</td>\n",
       "      <td>1.333332</td>\n",
       "    </tr>\n",
       "    <tr>\n",
       "      <th>1</th>\n",
       "      <td>0</td>\n",
       "      <td>0.0</td>\n",
       "      <td>17577.0</td>\n",
       "      <td>0.0</td>\n",
       "      <td>0.0</td>\n",
       "      <td>1.0</td>\n",
       "      <td>0.0</td>\n",
       "      <td>120.186666</td>\n",
       "      <td>0.0</td>\n",
       "      <td>0.0</td>\n",
       "      <td>...</td>\n",
       "      <td>0</td>\n",
       "      <td>0</td>\n",
       "      <td>0</td>\n",
       "      <td>1</td>\n",
       "      <td>0</td>\n",
       "      <td>0</td>\n",
       "      <td>0</td>\n",
       "      <td>0</td>\n",
       "      <td>F</td>\n",
       "      <td>7.333333</td>\n",
       "    </tr>\n",
       "    <tr>\n",
       "      <th>2</th>\n",
       "      <td>0</td>\n",
       "      <td>1.0</td>\n",
       "      <td>3000.0</td>\n",
       "      <td>0.0</td>\n",
       "      <td>0.0</td>\n",
       "      <td>1.0</td>\n",
       "      <td>0.0</td>\n",
       "      <td>987.435000</td>\n",
       "      <td>0.0</td>\n",
       "      <td>0.0</td>\n",
       "      <td>...</td>\n",
       "      <td>0</td>\n",
       "      <td>0</td>\n",
       "      <td>0</td>\n",
       "      <td>0</td>\n",
       "      <td>1</td>\n",
       "      <td>0</td>\n",
       "      <td>0</td>\n",
       "      <td>0</td>\n",
       "      <td>F</td>\n",
       "      <td>0.500000</td>\n",
       "    </tr>\n",
       "    <tr>\n",
       "      <th>3</th>\n",
       "      <td>0</td>\n",
       "      <td>0.0</td>\n",
       "      <td>14735.0</td>\n",
       "      <td>0.0</td>\n",
       "      <td>0.0</td>\n",
       "      <td>1.0</td>\n",
       "      <td>1.0</td>\n",
       "      <td>5.581666</td>\n",
       "      <td>0.0</td>\n",
       "      <td>0.0</td>\n",
       "      <td>...</td>\n",
       "      <td>0</td>\n",
       "      <td>0</td>\n",
       "      <td>0</td>\n",
       "      <td>0</td>\n",
       "      <td>1</td>\n",
       "      <td>0</td>\n",
       "      <td>0</td>\n",
       "      <td>0</td>\n",
       "      <td>F</td>\n",
       "      <td>0.000000</td>\n",
       "    </tr>\n",
       "    <tr>\n",
       "      <th>4</th>\n",
       "      <td>0</td>\n",
       "      <td>0.0</td>\n",
       "      <td>99755.0</td>\n",
       "      <td>0.0</td>\n",
       "      <td>1.0</td>\n",
       "      <td>1.0</td>\n",
       "      <td>1.0</td>\n",
       "      <td>1614.756666</td>\n",
       "      <td>0.0</td>\n",
       "      <td>0.0</td>\n",
       "      <td>...</td>\n",
       "      <td>1</td>\n",
       "      <td>0</td>\n",
       "      <td>1</td>\n",
       "      <td>0</td>\n",
       "      <td>0</td>\n",
       "      <td>0</td>\n",
       "      <td>0</td>\n",
       "      <td>0</td>\n",
       "      <td>F</td>\n",
       "      <td>6.000000</td>\n",
       "    </tr>\n",
       "  </tbody>\n",
       "</table>\n",
       "<p>5 rows × 36 columns</p>\n",
       "</div>"
      ],
      "text/plain": [
       "   Gender  Children_Num  Total_Income  Payroll_Flag  Business_Flag  \\\n",
       "0       0           2.0       14000.0           0.0            0.0   \n",
       "1       0           0.0       17577.0           0.0            0.0   \n",
       "2       0           1.0        3000.0           0.0            0.0   \n",
       "3       0           0.0       14735.0           0.0            0.0   \n",
       "4       0           0.0       99755.0           0.0            1.0   \n",
       "\n",
       "   Saving_Current_Accounts_Flag  Credit_Cards_Flag  Saving_Current_Balance  \\\n",
       "0                           1.0                1.0               27.288333   \n",
       "1                           1.0                0.0              120.186666   \n",
       "2                           1.0                0.0              987.435000   \n",
       "3                           1.0                1.0                5.581666   \n",
       "4                           1.0                1.0             1614.756666   \n",
       "\n",
       "   Investment_Products_Balance  Insurance_Balances  ...  Single  Widow  \\\n",
       "0                          0.0                 0.0  ...       0      0   \n",
       "1                          0.0                 0.0  ...       0      0   \n",
       "2                          0.0                 0.0  ...       0      0   \n",
       "3                          0.0                 0.0  ...       0      0   \n",
       "4                          0.0                 0.0  ...       1      0   \n",
       "\n",
       "   Business-Owners  Employees  Rentiers  Retirees  Self-Employees  \\\n",
       "0                0          0         1         0               0   \n",
       "1                0          1         0         0               0   \n",
       "2                0          0         1         0               0   \n",
       "3                0          0         1         0               0   \n",
       "4                1          0         0         0               0   \n",
       "\n",
       "   Unemployeed  Time_Deposits_Flag  Total_transactions  \n",
       "0            0                   F            1.333332  \n",
       "1            0                   F            7.333333  \n",
       "2            0                   F            0.500000  \n",
       "3            0                   F            0.000000  \n",
       "4            0                   F            6.000000  \n",
       "\n",
       "[5 rows x 36 columns]"
      ]
     },
     "execution_count": 47,
     "metadata": {},
     "output_type": "execute_result"
    }
   ],
   "source": [
    "raw.drop(cols_to_remove, axis = 1, inplace = True)\n",
    "df = raw.copy()\n",
    "df.head()"
   ]
  },
  {
   "cell_type": "markdown",
   "metadata": {},
   "source": [
    "Pruzkum cilove promenne"
   ]
  },
  {
   "cell_type": "code",
   "execution_count": 48,
   "metadata": {
    "scrolled": true
   },
   "outputs": [
    {
     "data": {
      "text/plain": [
       "F    9897\n",
       "T     103\n",
       "Name: Time_Deposits_Flag, dtype: int64"
      ]
     },
     "execution_count": 48,
     "metadata": {},
     "output_type": "execute_result"
    }
   ],
   "source": [
    "#and of course, our y\n",
    "df['Time_Deposits_Flag'].value_counts()"
   ]
  },
  {
   "cell_type": "code",
   "execution_count": 49,
   "metadata": {},
   "outputs": [],
   "source": [
    "df['Time_Deposits_Flag'] = df['Time_Deposits_Flag'].map({'F' : 0, 'T' : 1})"
   ]
  },
  {
   "cell_type": "code",
   "execution_count": 50,
   "metadata": {},
   "outputs": [
    {
     "data": {
      "text/plain": [
       "0    9897\n",
       "1     103\n",
       "Name: Time_Deposits_Flag, dtype: int64"
      ]
     },
     "execution_count": 50,
     "metadata": {},
     "output_type": "execute_result"
    }
   ],
   "source": [
    "df['Time_Deposits_Flag'].value_counts()"
   ]
  },
  {
   "cell_type": "markdown",
   "metadata": {},
   "source": [
    "Objevili jsme, ze pozitivnich pripadu mame jen kolem 1% ze vsech zaznamu. "
   ]
  },
  {
   "cell_type": "code",
   "execution_count": 51,
   "metadata": {},
   "outputs": [
    {
     "data": {
      "text/plain": [
       "Index(['Gender', 'Children_Num', 'Total_Income', 'Payroll_Flag',\n",
       "       'Business_Flag', 'Saving_Current_Accounts_Flag', 'Credit_Cards_Flag',\n",
       "       'Saving_Current_Balance', 'Investment_Products_Balance',\n",
       "       'Insurance_Balances', 'Business_Loans_Balance', 'Housing_Loans_Balance',\n",
       "       'Consumer_Loans_Balance', 'Credit_Cards_Balance',\n",
       "       'Deposit_Trans_Amount', 'Withdrawl_Trans_Amount',\n",
       "       'Payment_Trans_Amount', 'Transfer_Trans_Amount',\n",
       "       'Credit_Cards_Installments', 'Credit_Cards_Payments_Amount',\n",
       "       'Credit_Cards_Purchases_Amount', 'Credit_Cards_Witrhdrawals_Amount',\n",
       "       'Arrears_Months_Max', 'Age', 'Divorced', 'Married', 'Single', 'Widow',\n",
       "       'Business-Owners', 'Employees', 'Rentiers', 'Retirees',\n",
       "       'Self-Employees', 'Unemployeed', 'Time_Deposits_Flag',\n",
       "       'Total_transactions'],\n",
       "      dtype='object')"
      ]
     },
     "execution_count": 51,
     "metadata": {},
     "output_type": "execute_result"
    }
   ],
   "source": [
    "#we only have 103 yes labels, this is a problem for all the ML algorithms, this is too small\n",
    "#whatever, let's go on\n",
    "df.columns"
   ]
  },
  {
   "cell_type": "code",
   "execution_count": 52,
   "metadata": {},
   "outputs": [],
   "source": [
    "colsfinal = ['Gender', 'Children_Num', 'Total_Income', 'Payroll_Flag',\n",
    "       'Business_Flag', 'Saving_Current_Accounts_Flag', 'Credit_Cards_Flag',\n",
    "       'Saving_Current_Balance', 'Investment_Products_Balance',\n",
    "       'Insurance_Balances', 'Business_Loans_Balance', 'Housing_Loans_Balance',\n",
    "       'Consumer_Loans_Balance', 'Credit_Cards_Balance',\n",
    "       'Deposit_Trans_Amount', 'Withdrawl_Trans_Amount',\n",
    "       'Payment_Trans_Amount', 'Transfer_Trans_Amount',\n",
    "       'Credit_Cards_Installments', 'Credit_Cards_Payments_Amount',\n",
    "       'Credit_Cards_Purchases_Amount', 'Credit_Cards_Witrhdrawals_Amount',\n",
    "       'Arrears_Months_Max', 'Age', 'Divorced', 'Married', 'Single', 'Widow',\n",
    "       'Business-Owners', 'Employees', 'Rentiers', 'Retirees',\n",
    "       'Self-Employees', 'Unemployeed', 'Total_transactions', 'Time_Deposits_Flag']\n",
    "df = df[colsfinal]"
   ]
  },
  {
   "cell_type": "markdown",
   "metadata": {},
   "source": [
    "Rozdeleni finalni upravy dat na train, valid a test set. Train je set trenovaci, valid je validacni, na kterem se evaluuji algoritmy, kterym se test poskytne az nakonec (A POUZE JEDNOU!!!). Aby nedoslo k overfitu algoritmu na train datech a zaroven aby 'nebyl seznamen' s finalnim testem."
   ]
  },
  {
   "cell_type": "code",
   "execution_count": 53,
   "metadata": {},
   "outputs": [
    {
     "data": {
      "text/html": [
       "<div>\n",
       "<style scoped>\n",
       "    .dataframe tbody tr th:only-of-type {\n",
       "        vertical-align: middle;\n",
       "    }\n",
       "\n",
       "    .dataframe tbody tr th {\n",
       "        vertical-align: top;\n",
       "    }\n",
       "\n",
       "    .dataframe thead th {\n",
       "        text-align: right;\n",
       "    }\n",
       "</style>\n",
       "<table border=\"1\" class=\"dataframe\">\n",
       "  <thead>\n",
       "    <tr style=\"text-align: right;\">\n",
       "      <th></th>\n",
       "      <th>Gender</th>\n",
       "      <th>Children_Num</th>\n",
       "      <th>Total_Income</th>\n",
       "      <th>Payroll_Flag</th>\n",
       "      <th>Business_Flag</th>\n",
       "      <th>Saving_Current_Accounts_Flag</th>\n",
       "      <th>Credit_Cards_Flag</th>\n",
       "      <th>Saving_Current_Balance</th>\n",
       "      <th>Investment_Products_Balance</th>\n",
       "      <th>Insurance_Balances</th>\n",
       "      <th>...</th>\n",
       "      <th>Married</th>\n",
       "      <th>Single</th>\n",
       "      <th>Widow</th>\n",
       "      <th>Business-Owners</th>\n",
       "      <th>Employees</th>\n",
       "      <th>Rentiers</th>\n",
       "      <th>Retirees</th>\n",
       "      <th>Self-Employees</th>\n",
       "      <th>Unemployeed</th>\n",
       "      <th>Total_transactions</th>\n",
       "    </tr>\n",
       "  </thead>\n",
       "  <tbody>\n",
       "    <tr>\n",
       "      <th>0</th>\n",
       "      <td>0</td>\n",
       "      <td>2.0</td>\n",
       "      <td>14000.0</td>\n",
       "      <td>0.0</td>\n",
       "      <td>0.0</td>\n",
       "      <td>1.0</td>\n",
       "      <td>1.0</td>\n",
       "      <td>27.288333</td>\n",
       "      <td>0.0</td>\n",
       "      <td>0.0</td>\n",
       "      <td>...</td>\n",
       "      <td>1</td>\n",
       "      <td>0</td>\n",
       "      <td>0</td>\n",
       "      <td>0</td>\n",
       "      <td>0</td>\n",
       "      <td>1</td>\n",
       "      <td>0</td>\n",
       "      <td>0</td>\n",
       "      <td>0</td>\n",
       "      <td>1.333332</td>\n",
       "    </tr>\n",
       "    <tr>\n",
       "      <th>1</th>\n",
       "      <td>0</td>\n",
       "      <td>0.0</td>\n",
       "      <td>17577.0</td>\n",
       "      <td>0.0</td>\n",
       "      <td>0.0</td>\n",
       "      <td>1.0</td>\n",
       "      <td>0.0</td>\n",
       "      <td>120.186666</td>\n",
       "      <td>0.0</td>\n",
       "      <td>0.0</td>\n",
       "      <td>...</td>\n",
       "      <td>0</td>\n",
       "      <td>0</td>\n",
       "      <td>0</td>\n",
       "      <td>0</td>\n",
       "      <td>1</td>\n",
       "      <td>0</td>\n",
       "      <td>0</td>\n",
       "      <td>0</td>\n",
       "      <td>0</td>\n",
       "      <td>7.333333</td>\n",
       "    </tr>\n",
       "    <tr>\n",
       "      <th>2</th>\n",
       "      <td>0</td>\n",
       "      <td>1.0</td>\n",
       "      <td>3000.0</td>\n",
       "      <td>0.0</td>\n",
       "      <td>0.0</td>\n",
       "      <td>1.0</td>\n",
       "      <td>0.0</td>\n",
       "      <td>987.435000</td>\n",
       "      <td>0.0</td>\n",
       "      <td>0.0</td>\n",
       "      <td>...</td>\n",
       "      <td>1</td>\n",
       "      <td>0</td>\n",
       "      <td>0</td>\n",
       "      <td>0</td>\n",
       "      <td>0</td>\n",
       "      <td>1</td>\n",
       "      <td>0</td>\n",
       "      <td>0</td>\n",
       "      <td>0</td>\n",
       "      <td>0.500000</td>\n",
       "    </tr>\n",
       "    <tr>\n",
       "      <th>3</th>\n",
       "      <td>0</td>\n",
       "      <td>0.0</td>\n",
       "      <td>14735.0</td>\n",
       "      <td>0.0</td>\n",
       "      <td>0.0</td>\n",
       "      <td>1.0</td>\n",
       "      <td>1.0</td>\n",
       "      <td>5.581666</td>\n",
       "      <td>0.0</td>\n",
       "      <td>0.0</td>\n",
       "      <td>...</td>\n",
       "      <td>1</td>\n",
       "      <td>0</td>\n",
       "      <td>0</td>\n",
       "      <td>0</td>\n",
       "      <td>0</td>\n",
       "      <td>1</td>\n",
       "      <td>0</td>\n",
       "      <td>0</td>\n",
       "      <td>0</td>\n",
       "      <td>0.000000</td>\n",
       "    </tr>\n",
       "    <tr>\n",
       "      <th>4</th>\n",
       "      <td>0</td>\n",
       "      <td>0.0</td>\n",
       "      <td>99755.0</td>\n",
       "      <td>0.0</td>\n",
       "      <td>1.0</td>\n",
       "      <td>1.0</td>\n",
       "      <td>1.0</td>\n",
       "      <td>1614.756666</td>\n",
       "      <td>0.0</td>\n",
       "      <td>0.0</td>\n",
       "      <td>...</td>\n",
       "      <td>0</td>\n",
       "      <td>1</td>\n",
       "      <td>0</td>\n",
       "      <td>1</td>\n",
       "      <td>0</td>\n",
       "      <td>0</td>\n",
       "      <td>0</td>\n",
       "      <td>0</td>\n",
       "      <td>0</td>\n",
       "      <td>6.000000</td>\n",
       "    </tr>\n",
       "  </tbody>\n",
       "</table>\n",
       "<p>5 rows × 35 columns</p>\n",
       "</div>"
      ],
      "text/plain": [
       "   Gender  Children_Num  Total_Income  Payroll_Flag  Business_Flag  \\\n",
       "0       0           2.0       14000.0           0.0            0.0   \n",
       "1       0           0.0       17577.0           0.0            0.0   \n",
       "2       0           1.0        3000.0           0.0            0.0   \n",
       "3       0           0.0       14735.0           0.0            0.0   \n",
       "4       0           0.0       99755.0           0.0            1.0   \n",
       "\n",
       "   Saving_Current_Accounts_Flag  Credit_Cards_Flag  Saving_Current_Balance  \\\n",
       "0                           1.0                1.0               27.288333   \n",
       "1                           1.0                0.0              120.186666   \n",
       "2                           1.0                0.0              987.435000   \n",
       "3                           1.0                1.0                5.581666   \n",
       "4                           1.0                1.0             1614.756666   \n",
       "\n",
       "   Investment_Products_Balance  Insurance_Balances  ...  Married  Single  \\\n",
       "0                          0.0                 0.0  ...        1       0   \n",
       "1                          0.0                 0.0  ...        0       0   \n",
       "2                          0.0                 0.0  ...        1       0   \n",
       "3                          0.0                 0.0  ...        1       0   \n",
       "4                          0.0                 0.0  ...        0       1   \n",
       "\n",
       "   Widow  Business-Owners  Employees  Rentiers  Retirees  Self-Employees  \\\n",
       "0      0                0          0         1         0               0   \n",
       "1      0                0          1         0         0               0   \n",
       "2      0                0          0         1         0               0   \n",
       "3      0                0          0         1         0               0   \n",
       "4      0                1          0         0         0               0   \n",
       "\n",
       "   Unemployeed  Total_transactions  \n",
       "0            0            1.333332  \n",
       "1            0            7.333333  \n",
       "2            0            0.500000  \n",
       "3            0            0.000000  \n",
       "4            0            6.000000  \n",
       "\n",
       "[5 rows x 35 columns]"
      ]
     },
     "execution_count": 53,
     "metadata": {},
     "output_type": "execute_result"
    }
   ],
   "source": [
    "# we only have 10k instead of 120k data, it's quite possible the sampling was done in a rather unlucky manner, whatevs\n",
    "from sklearn.model_selection import train_test_split\n",
    "\n",
    "X = df[df.columns[:-1]]\n",
    "y = df[df.columns[-1]]\n",
    "X.head()"
   ]
  },
  {
   "cell_type": "code",
   "execution_count": 54,
   "metadata": {},
   "outputs": [
    {
     "data": {
      "text/plain": [
       "0    0\n",
       "1    0\n",
       "2    0\n",
       "3    0\n",
       "4    0\n",
       "Name: Time_Deposits_Flag, dtype: int64"
      ]
     },
     "execution_count": 54,
     "metadata": {},
     "output_type": "execute_result"
    }
   ],
   "source": [
    "y.head()"
   ]
  },
  {
   "cell_type": "code",
   "execution_count": 55,
   "metadata": {},
   "outputs": [
    {
     "name": "stdout",
     "output_type": "stream",
     "text": [
      "10000 10000\n"
     ]
    }
   ],
   "source": [
    "print(len(X), len(y))"
   ]
  },
  {
   "cell_type": "markdown",
   "metadata": {},
   "source": [
    "Samotne deleni datasetu pomoci train_test_split knihovny sklearn"
   ]
  },
  {
   "cell_type": "code",
   "execution_count": 56,
   "metadata": {},
   "outputs": [],
   "source": [
    "X_train, X_test, y_train, y_test = train_test_split(X, y, test_size = 1000, random_state = 42)\n",
    "X_train, X_valid, y_train, y_valid = train_test_split(X_train, y_train, test_size = 1000, random_state = 42)"
   ]
  },
  {
   "cell_type": "code",
   "execution_count": 57,
   "metadata": {},
   "outputs": [
    {
     "name": "stdout",
     "output_type": "stream",
     "text": [
      "8000 1000 1000\n"
     ]
    }
   ],
   "source": [
    "print(len(X_train), len(X_valid), len(X_test))"
   ]
  },
  {
   "cell_type": "markdown",
   "metadata": {},
   "source": [
    "Pruzkum rozlozeni pozitivnich zaznamu v jednotlivych setech. Problemem je, ze je jejich vyskyt pod 1%. Nejprve budeme tento fakt ignorovat a posleze se k uprave vratime."
   ]
  },
  {
   "cell_type": "code",
   "execution_count": 58,
   "metadata": {
    "scrolled": true
   },
   "outputs": [
    {
     "name": "stdout",
     "output_type": "stream",
     "text": [
      "85 6 12\n"
     ]
    }
   ],
   "source": [
    "#out of curiosity, let's check the labels\n",
    "print((y_train == 1).sum(), (y_valid == 1).sum(), (y_test == 1).sum())"
   ]
  },
  {
   "cell_type": "markdown",
   "metadata": {},
   "source": [
    "Skalovani dat - na rozhodovaci stromy nema skalovani vliv, ovsem neuronove site provadeji vypocty nad maticemi a tenzory a skaly dat mohou mit na takove vypocty obrovsky vliv. Je zadouci vse vyskalovat, zde pouzit standard scaler, jenz od kazde hodnoty odecte mean sloupce a vydeli smerodatnou odchylkou, takze hodnoty jednotlivych features odpovidaji rozdeleni N(0,1)"
   ]
  },
  {
   "cell_type": "code",
   "execution_count": 59,
   "metadata": {},
   "outputs": [
    {
     "data": {
      "text/plain": [
       "array([[-0.78392013, -0.7181439 ,  0.64719604, ..., -0.19324699,\n",
       "        -0.23301557,  0.69383573],\n",
       "       [-0.78392013, -0.7181439 ,  1.0843032 , ..., -0.19324699,\n",
       "        -0.23301557,  1.15533954],\n",
       "       [ 1.27564015, -0.7181439 , -0.44223177, ..., -0.19324699,\n",
       "        -0.23301557, -0.761676  ],\n",
       "       ...,\n",
       "       [ 1.27564015, -0.7181439 , -0.18955941, ..., -0.19324699,\n",
       "        -0.23301557, -0.37117269],\n",
       "       [-0.78392013, -0.7181439 , -0.43848232, ..., -0.19324699,\n",
       "        -0.23301557, -0.33567255],\n",
       "       [-0.78392013, -0.7181439 , -0.33704555, ...,  5.1747249 ,\n",
       "        -0.23301557, -0.761676  ]])"
      ]
     },
     "execution_count": 59,
     "metadata": {},
     "output_type": "execute_result"
    }
   ],
   "source": [
    "#scaling data\n",
    "from sklearn.preprocessing import StandardScaler\n",
    "scaler = StandardScaler()\n",
    "scaler.fit_transform(X_train)\n",
    "scaler.transform(X_valid)\n",
    "scaler.transform(X_test)"
   ]
  },
  {
   "cell_type": "markdown",
   "metadata": {},
   "source": [
    "Prvni vyuzitou metodou bude Ensemble learning - nejprve vytrenujeme jednotlive zvolene algoritmy (Random Forest, Extra Trees, Support vector Classifier a Multi-layer perceptron classifier knihovny Scikit-learn) a ohodnotime jejich vykonnost, nasledne je vlozime jako komponenty do Voting Classifieru, kde bude mit kazdy estimator hlas na celkovem vysledku volby kategorie. Voting muze byt HARD (bud 0 nebo 1) nebo SOFT (vraci pravdepodobnosti ke kazde mozne tride)"
   ]
  },
  {
   "cell_type": "code",
   "execution_count": 60,
   "metadata": {},
   "outputs": [],
   "source": [
    "#basic voting classifier \n",
    "\n",
    "from sklearn.ensemble import RandomForestClassifier, ExtraTreesClassifier\n",
    "from sklearn.svm import LinearSVC\n",
    "from sklearn.neural_network import MLPClassifier\n",
    "\n",
    "random_forest_clf = RandomForestClassifier(n_estimators=100, random_state=42)\n",
    "extra_trees_clf = ExtraTreesClassifier(n_estimators=100, random_state=42)\n",
    "svm_clf = LinearSVC(random_state=42)\n",
    "mlp_clf = MLPClassifier(random_state=42)"
   ]
  },
  {
   "cell_type": "code",
   "execution_count": 61,
   "metadata": {},
   "outputs": [
    {
     "name": "stdout",
     "output_type": "stream",
     "text": [
      "Training the RandomForestClassifier(random_state=42)\n",
      "Training the ExtraTreesClassifier(random_state=42)\n",
      "Training the LinearSVC(random_state=42)\n"
     ]
    },
    {
     "name": "stderr",
     "output_type": "stream",
     "text": [
      "c:\\users\\hartd\\appdata\\local\\programs\\python\\python38\\lib\\site-packages\\sklearn\\svm\\_base.py:976: ConvergenceWarning: Liblinear failed to converge, increase the number of iterations.\n",
      "  warnings.warn(\"Liblinear failed to converge, increase \"\n"
     ]
    },
    {
     "name": "stdout",
     "output_type": "stream",
     "text": [
      "Training the MLPClassifier(random_state=42)\n"
     ]
    }
   ],
   "source": [
    "estimators = [random_forest_clf, extra_trees_clf, svm_clf, mlp_clf]\n",
    "for estimator in estimators:\n",
    "    print(\"Training the\", estimator)\n",
    "    estimator.fit(X_train, y_train)"
   ]
  },
  {
   "cell_type": "markdown",
   "metadata": {},
   "source": [
    "Skore jednotlivych samostatnych klasifikatoru"
   ]
  },
  {
   "cell_type": "markdown",
   "metadata": {},
   "source": [
    "SVC neni vhodny, po shlednuti vykonnosti ho nebudeme dale uvazovat"
   ]
  },
  {
   "cell_type": "code",
   "execution_count": 62,
   "metadata": {
    "scrolled": true
   },
   "outputs": [
    {
     "data": {
      "text/plain": [
       "[0.994, 0.993, 0.911, 0.994]"
      ]
     },
     "execution_count": 62,
     "metadata": {},
     "output_type": "execute_result"
    }
   ],
   "source": [
    "[estimator.score(X_valid, y_valid) for estimator in estimators]"
   ]
  },
  {
   "cell_type": "markdown",
   "metadata": {},
   "source": [
    "Konstrukce Voting Classifieru"
   ]
  },
  {
   "cell_type": "code",
   "execution_count": 63,
   "metadata": {},
   "outputs": [
    {
     "data": {
      "text/plain": [
       "VotingClassifier(estimators=[('random_forest_clf',\n",
       "                              RandomForestClassifier(random_state=42)),\n",
       "                             ('extra_trees_clf',\n",
       "                              ExtraTreesClassifier(random_state=42)),\n",
       "                             ('mlp_clf', MLPClassifier(random_state=42))])"
      ]
     },
     "execution_count": 63,
     "metadata": {},
     "output_type": "execute_result"
    }
   ],
   "source": [
    "#that's very nice, but even a predictor returning only 0 has over 98% accuracy at this point)\n",
    "#also, LinearSVC is not appropriate\n",
    "from sklearn.ensemble import VotingClassifier\n",
    "\n",
    "\n",
    "named_estimators = [\n",
    "    (\"random_forest_clf\", random_forest_clf),\n",
    "    (\"extra_trees_clf\", extra_trees_clf),\n",
    "    (\"mlp_clf\", mlp_clf),\n",
    "]\n",
    "\n",
    "voting_clf = VotingClassifier(named_estimators)\n",
    "\n",
    "voting_clf.fit(X_train, y_train)"
   ]
  },
  {
   "cell_type": "markdown",
   "metadata": {},
   "source": [
    "Performance Voting Classifieru na validacnim datasetu"
   ]
  },
  {
   "cell_type": "code",
   "execution_count": 64,
   "metadata": {
    "scrolled": true
   },
   "outputs": [
    {
     "data": {
      "text/plain": [
       "0.994"
      ]
     },
     "execution_count": 64,
     "metadata": {},
     "output_type": "execute_result"
    }
   ],
   "source": [
    "voting_clf.score(X_valid, y_valid)"
   ]
  },
  {
   "cell_type": "code",
   "execution_count": 65,
   "metadata": {},
   "outputs": [
    {
     "data": {
      "text/plain": [
       "[0.994, 0.993, 0.994]"
      ]
     },
     "execution_count": 65,
     "metadata": {},
     "output_type": "execute_result"
    }
   ],
   "source": [
    "#score for every estimator used\n",
    "[estimator.score(X_valid, y_valid) for estimator in voting_clf.estimators_]"
   ]
  },
  {
   "cell_type": "markdown",
   "metadata": {},
   "source": [
    "A nakonec presnost na testovem datasetu. Presnost je 0.988, coz vypada skvele, jenze pozitivnich hodnot je jen cca 1%. Pokud bychom napsali jednoduchou funkci, ktera bude vse klasifikovat jako 0, bude mit vyssi presnost. Nemame vhodna data."
   ]
  },
  {
   "cell_type": "code",
   "execution_count": 66,
   "metadata": {},
   "outputs": [
    {
     "data": {
      "text/plain": [
       "0.988"
      ]
     },
     "execution_count": 66,
     "metadata": {},
     "output_type": "execute_result"
    }
   ],
   "source": [
    "#let's measure test set accuracy\n",
    "from sklearn.metrics import accuracy_score\n",
    "\n",
    "y_predd = voting_clf.predict(X_test)\n",
    "accuracy_score(y_test, y_predd)"
   ]
  },
  {
   "cell_type": "markdown",
   "metadata": {},
   "source": [
    "Dale je pouzit stacking (nebo take blending) - output jednoho algoritmu je inputem druheho, a tak algoritmy opravuji postupne jeden druhy. "
   ]
  },
  {
   "cell_type": "code",
   "execution_count": 67,
   "metadata": {},
   "outputs": [],
   "source": [
    "#building a blender (stacking)\n",
    "estimators = [random_forest_clf, extra_trees_clf, mlp_clf]\n",
    "X_valid_predictions = np.empty((len(X_valid), len(estimators)), dtype=np.float32)\n",
    "\n",
    "for index, estimator in enumerate(estimators):\n",
    "    X_valid_predictions[:, index] = estimator.predict(X_valid)"
   ]
  },
  {
   "cell_type": "code",
   "execution_count": 68,
   "metadata": {},
   "outputs": [
    {
     "data": {
      "text/plain": [
       "RandomForestClassifier(n_estimators=200, oob_score=True, random_state=42)"
      ]
     },
     "execution_count": 68,
     "metadata": {},
     "output_type": "execute_result"
    }
   ],
   "source": [
    "rnd_forest_blender = RandomForestClassifier(n_estimators=200, oob_score=True, random_state=42)\n",
    "rnd_forest_blender.fit(X_valid_predictions, y_valid)"
   ]
  },
  {
   "cell_type": "markdown",
   "metadata": {},
   "source": [
    "Score je 0.994, coz neni zle."
   ]
  },
  {
   "cell_type": "code",
   "execution_count": 69,
   "metadata": {},
   "outputs": [
    {
     "data": {
      "text/plain": [
       "0.994"
      ]
     },
     "execution_count": 69,
     "metadata": {},
     "output_type": "execute_result"
    }
   ],
   "source": [
    "rnd_forest_blender.oob_score_"
   ]
  },
  {
   "cell_type": "code",
   "execution_count": 70,
   "metadata": {},
   "outputs": [],
   "source": [
    "#accuracy seems to be the same"
   ]
  },
  {
   "cell_type": "markdown",
   "metadata": {},
   "source": [
    "### Neuronova sit pomoci TensorFlow"
   ]
  },
  {
   "cell_type": "code",
   "execution_count": 71,
   "metadata": {},
   "outputs": [
    {
     "data": {
      "text/plain": [
       "35"
      ]
     },
     "execution_count": 71,
     "metadata": {},
     "output_type": "execute_result"
    }
   ],
   "source": [
    "# TF NN #\n",
    "#very basic TF NN\n",
    "import tensorflow as tf\n",
    "\n",
    "len(X_train.columns)"
   ]
  },
  {
   "cell_type": "markdown",
   "metadata": {},
   "source": [
    "Zde nejprve pouzijeme obecny model. V nem uvazujeme tri vrstvy (vstupni s takovym poctem neuronu, kolik je variables v X setu), prostredni s hyperparametrem pro velikost vrstvy (zde 50 = 50 neuronu), a nakonec vrstvu vracejici 2 vystupy pomoci aktivacni funkce softmax - pravdepodobnosti pro jednotlive tridy. Aktivacni funkci pro prvni dve vrstvy je nejpouzivanejsi Rectified Linear Unit (relu), jako optimalizacni algoritmus je vybran defaultni Adam, ztrata vypoctena pomoci Sparse Categorical Crossentropy. Metrikou bude presnost. \n",
    "\n",
    "Pozn. Tento model je vhodny spise pro klasifikaci vicero trid, na logistickou regresi mame vhodnejsi model dale"
   ]
  },
  {
   "cell_type": "code",
   "execution_count": 72,
   "metadata": {},
   "outputs": [],
   "source": [
    "input_size = len(X_train.columns)\n",
    "output_size = 2 #0/1\n",
    "hidden_layer_size = 50 #neurons in one layer\n",
    "\n",
    "model = tf.keras.Sequential([\n",
    "    tf.keras.layers.Dense(input_size, activation = 'relu'),\n",
    "    tf.keras.layers.Dense(hidden_layer_size, activation = 'relu'),\n",
    "    tf.keras.layers.Dense(output_size, activation = 'softmax') #binary outputs --> softmax ftw, transforms outputs into Ps\n",
    "])\n",
    "\n",
    "model.compile(optimizer = 'adam', loss = 'sparse_categorical_crossentropy', metrics = ['accuracy'])"
   ]
  },
  {
   "cell_type": "markdown",
   "metadata": {},
   "source": [
    "Velikost batche, pocet epochs (opakovani uceni) jsou hyperparametry, stejne jako patience (trpelivost) pro vestavenou pojistku proti overfittingu - Early Stopping. Tato funkce zastavi uceni v pripade, ze se ztrata na validacnich datech k-krat po sobe zvysila.\n",
    "\n",
    "Nasledujici kus kodu trenuje model na train datech. Argument verbose vypisuje stav uceni. V ramci tohoto modelu je early stopping zakomentovany, nyni ho nevyuzijeme."
   ]
  },
  {
   "cell_type": "code",
   "execution_count": 73,
   "metadata": {},
   "outputs": [
    {
     "name": "stdout",
     "output_type": "stream",
     "text": [
      "Epoch 1/20\n",
      "WARNING:tensorflow:Layer dense is casting an input tensor from dtype float64 to the layer's dtype of float32, which is new behavior in TensorFlow 2.  The layer has dtype float32 because its dtype defaults to floatx.\n",
      "\n",
      "If you intended to run this layer in float32, you can safely ignore this warning. If in doubt, this warning is likely only an issue if you are porting a TensorFlow 1.X model to TensorFlow 2.\n",
      "\n",
      "To change all layers to have dtype float64 by default, call `tf.keras.backend.set_floatx('float64')`. To change just this layer, pass dtype='float64' to the layer constructor. If you are the author of this layer, you can disable autocasting by passing autocast=False to the base Layer constructor.\n",
      "\n",
      "32/32 - 0s - loss: 82.4141 - accuracy: 0.9604 - val_loss: 7.5572 - val_accuracy: 0.9910\n",
      "Epoch 2/20\n",
      "32/32 - 0s - loss: 25.4226 - accuracy: 0.9753 - val_loss: 10.0616 - val_accuracy: 0.9940\n",
      "Epoch 3/20\n",
      "32/32 - 0s - loss: 28.7546 - accuracy: 0.9779 - val_loss: 7.8066 - val_accuracy: 0.9940\n",
      "Epoch 4/20\n",
      "32/32 - 0s - loss: 19.1457 - accuracy: 0.9730 - val_loss: 6.5924 - val_accuracy: 0.9940\n",
      "Epoch 5/20\n",
      "32/32 - 0s - loss: 21.9356 - accuracy: 0.9843 - val_loss: 7.5581 - val_accuracy: 0.9390\n",
      "Epoch 6/20\n",
      "32/32 - 0s - loss: 16.2845 - accuracy: 0.9749 - val_loss: 7.5195 - val_accuracy: 0.9910\n",
      "Epoch 7/20\n",
      "32/32 - 0s - loss: 15.7305 - accuracy: 0.9786 - val_loss: 5.5549 - val_accuracy: 0.9930\n",
      "Epoch 8/20\n",
      "32/32 - 0s - loss: 7.4545 - accuracy: 0.9756 - val_loss: 2.4305 - val_accuracy: 0.9930\n",
      "Epoch 9/20\n",
      "32/32 - 0s - loss: 12.9722 - accuracy: 0.9749 - val_loss: 4.9354 - val_accuracy: 0.9920\n",
      "Epoch 10/20\n",
      "32/32 - 0s - loss: 25.4139 - accuracy: 0.9830 - val_loss: 7.1477 - val_accuracy: 0.9280\n",
      "Epoch 11/20\n",
      "32/32 - 0s - loss: 8.3630 - accuracy: 0.9704 - val_loss: 7.1144 - val_accuracy: 0.9920\n",
      "Epoch 12/20\n",
      "32/32 - 0s - loss: 10.2587 - accuracy: 0.9805 - val_loss: 3.7876 - val_accuracy: 0.9880\n",
      "Epoch 13/20\n",
      "32/32 - 0s - loss: 10.1350 - accuracy: 0.9744 - val_loss: 3.1122 - val_accuracy: 0.9870\n",
      "Epoch 14/20\n",
      "32/32 - 0s - loss: 18.4698 - accuracy: 0.9769 - val_loss: 7.7181 - val_accuracy: 0.9920\n",
      "Epoch 15/20\n",
      "32/32 - 0s - loss: 14.0669 - accuracy: 0.9751 - val_loss: 11.2336 - val_accuracy: 0.9930\n",
      "Epoch 16/20\n",
      "32/32 - 0s - loss: 21.1248 - accuracy: 0.9820 - val_loss: 4.3584 - val_accuracy: 0.9710\n",
      "Epoch 17/20\n",
      "32/32 - 0s - loss: 8.9429 - accuracy: 0.9730 - val_loss: 8.5082 - val_accuracy: 0.9880\n",
      "Epoch 18/20\n",
      "32/32 - 0s - loss: 9.9351 - accuracy: 0.9705 - val_loss: 5.0729 - val_accuracy: 0.9930\n",
      "Epoch 19/20\n",
      "32/32 - 0s - loss: 20.8602 - accuracy: 0.9868 - val_loss: 5.0337 - val_accuracy: 0.9920\n",
      "Epoch 20/20\n",
      "32/32 - 0s - loss: 6.4622 - accuracy: 0.9661 - val_loss: 3.6458 - val_accuracy: 0.9920\n"
     ]
    }
   ],
   "source": [
    "BATCH_SIZE = 250\n",
    "MAX_EPOCHS = 20\n",
    "patience = 30 \n",
    "early_stopping = tf.keras.callbacks.EarlyStopping(patience = patience) #stops after X consecutive val_loss increases\n",
    "#comment early_stopping and delete callbacks argument to remove this limitation\n",
    "\n",
    "history = model.fit(X_train, y_train, batch_size = BATCH_SIZE, epochs = MAX_EPOCHS, callbacks = [early_stopping],\n",
    "          validation_data = (X_valid, y_valid), verbose = 2)"
   ]
  },
  {
   "cell_type": "markdown",
   "metadata": {},
   "source": [
    "Je dobre po kazdem uceni zobrazit si vyvoj ztraty na train a valid datech pro podporu odhadu toho, kolik epochs modelu staci k nauceni a kdy uz je to overfitting."
   ]
  },
  {
   "cell_type": "code",
   "execution_count": 74,
   "metadata": {
    "scrolled": true
   },
   "outputs": [
    {
     "data": {
      "text/plain": [
       "<matplotlib.legend.Legend at 0x1f4269a89d0>"
      ]
     },
     "execution_count": 74,
     "metadata": {},
     "output_type": "execute_result"
    },
    {
     "data": {
      "image/png": "[encoded data removed]",
      "text/plain": [
       "<Figure size 432x288 with 1 Axes>"
      ]
     },
     "metadata": {
      "needs_background": "light"
     },
     "output_type": "display_data"
    }
   ],
   "source": [
    "plt.plot(history.history['loss'])\n",
    "plt.plot(history.history['val_loss'])\n",
    "plt.title('model loss')\n",
    "plt.ylabel('loss')\n",
    "plt.xlabel('epoch')\n",
    "plt.legend(['loss', 'val_loss'], loc='upper left')"
   ]
  },
  {
   "cell_type": "markdown",
   "metadata": {},
   "source": [
    "A konecne predikce na test set. Opet neco malo pod 99, coz vzhledem k datum neni uspech. "
   ]
  },
  {
   "cell_type": "code",
   "execution_count": 75,
   "metadata": {},
   "outputs": [
    {
     "name": "stdout",
     "output_type": "stream",
     "text": [
      "32/32 [==============================] - 0s 2ms/step - loss: 3.2756 - accuracy: 0.9870\n"
     ]
    }
   ],
   "source": [
    "#prediction on test set\n",
    "test_loss, test_accuracy = model.evaluate(X_test, y_test)"
   ]
  },
  {
   "cell_type": "code",
   "execution_count": 76,
   "metadata": {
    "scrolled": true
   },
   "outputs": [
    {
     "name": "stdout",
     "output_type": "stream",
     "text": [
      "\n",
      "Test loss: 3.28. Test accuracy: 98.70%\n"
     ]
    }
   ],
   "source": [
    "print('\\nTest loss: {0:.2f}. Test accuracy: {1:.2f}%'.format(test_loss,test_accuracy*100.))"
   ]
  },
  {
   "cell_type": "markdown",
   "metadata": {},
   "source": [
    "Tato metoda nebyla prilis vhodna, musime nejakym zpusobem resit maly pocet targetu s hodnotou 1."
   ]
  },
  {
   "cell_type": "markdown",
   "metadata": {},
   "source": [
    "## Reseni maleho poctu pozitivnich targets pomoci metodiky SMOTE"
   ]
  },
  {
   "cell_type": "markdown",
   "metadata": {},
   "source": [
    "Smote - synthetic minority oversampling. Pomoci modulu imblearn muzeme vytvorit synteticke zaznamy zalozene na skutecnych puvodnich pozitivnich targets. Nastavime tedy oversampling na target promennou 1 a undersampling na promennou 0. Vybere se vice pozitivnich a mene negativnich z puvodniho datasetu"
   ]
  },
  {
   "cell_type": "code",
   "execution_count": 77,
   "metadata": {},
   "outputs": [],
   "source": [
    "### LOGISTIC REGRESSION WITH SMOTE AND/OR BOOSTING ###\n",
    "\n",
    "import imblearn\n",
    "from sklearn.linear_model import LogisticRegression\n",
    "from collections import Counter"
   ]
  },
  {
   "cell_type": "markdown",
   "metadata": {},
   "source": [
    "Tvorba pipeline na resample a resample dat"
   ]
  },
  {
   "cell_type": "code",
   "execution_count": 78,
   "metadata": {},
   "outputs": [],
   "source": [
    "from imblearn.over_sampling import SMOTE\n",
    "from imblearn.under_sampling import RandomUnderSampler\n",
    "from imblearn.pipeline import Pipeline\n",
    "import seaborn as sns\n",
    "\n",
    "over = SMOTE(sampling_strategy = 0.1)\n",
    "under = RandomUnderSampler(sampling_strategy = 0.5)\n",
    "seq = [('o', over),('u', under)]\n",
    "\n",
    "pipeline = Pipeline(steps = seq)\n",
    "\n",
    "Xn, yn = pipeline.fit_resample(X,y)"
   ]
  },
  {
   "cell_type": "markdown",
   "metadata": {},
   "source": [
    "Graficke zobrazeni jednotlivych zaznamu pomoci analyzy hlavnich komponent - PCA. PCA je metoda pouzivana pro snizeni dimenzionality datasetu. Zde 35 promennych redukujeme na 2 pro ucely scatterplotu cilovych hodnot. To provadi nasledujici kod. Vypovidajici hodnota jednotlivych komponent je merena pomoci procent rozptylu, ktere jednotlive dimenze vysvetluji. Skvela hodnota je 0.95, dobra nad 0.8, pod 0.6 neni prilis dobra. Vyuziva se pri clusteringu nebo je jednou z metod snizeni dimenzionality pro urychleni trenovaciho procesu. "
   ]
  },
  {
   "cell_type": "markdown",
   "metadata": {},
   "source": [
    "Graf noveho datasetu"
   ]
  },
  {
   "cell_type": "code",
   "execution_count": 79,
   "metadata": {},
   "outputs": [
    {
     "data": {
      "image/png": "[encoded data removed]",
      "text/plain": [
       "<Figure size 576x576 with 1 Axes>"
      ]
     },
     "metadata": {
      "needs_background": "light"
     },
     "output_type": "display_data"
    }
   ],
   "source": [
    "#let's have a looksie using PCA on the original distribution of the targets and the final one\n",
    "from sklearn.decomposition import PCA #reduces dimensionality of the model, this time for the purpose of plotting\n",
    "pca = PCA(n_components=2)\n",
    "principalComponents = pca.fit_transform(X.values)\n",
    "pcadf = pd.DataFrame(data = principalComponents\n",
    "             , columns = ['principal component 1', 'principal component 2'])\n",
    "initialdist = pd.concat([pcadf, y], axis = 1)\n",
    "\n",
    "fig = plt.figure(figsize = (8,8))\n",
    "ax = fig.add_subplot(1,1,1) \n",
    "ax.set_xlabel('Principal Component 1', fontsize = 15)\n",
    "ax.set_ylabel('Principal Component 2', fontsize = 15)\n",
    "ax.set_title('2 component PCA', fontsize = 20)\n",
    "targets = [0, 1]\n",
    "colors = ['r', 'g']\n",
    "for target, color in zip(targets,colors):\n",
    "    indicesToKeep = initialdist['Time_Deposits_Flag'] == target\n",
    "    ax.scatter(initialdist.loc[indicesToKeep, 'principal component 1']\n",
    "               , initialdist.loc[indicesToKeep, 'principal component 2']\n",
    "               , c = color\n",
    "               , s = 50)\n",
    "ax.legend(targets)\n",
    "ax.grid()"
   ]
  },
  {
   "cell_type": "markdown",
   "metadata": {},
   "source": [
    "Graf stareho datasetu, je videt rozdil v cetnosti"
   ]
  },
  {
   "cell_type": "code",
   "execution_count": 80,
   "metadata": {
    "scrolled": false
   },
   "outputs": [
    {
     "data": {
      "image/png": "[encoded data removed]",
      "text/plain": [
       "<Figure size 576x576 with 1 Axes>"
      ]
     },
     "metadata": {
      "needs_background": "light"
     },
     "output_type": "display_data"
    }
   ],
   "source": [
    "pca = PCA(n_components=2)\n",
    "principalComponents = pca.fit_transform(Xn.values)\n",
    "pcadf2 = pd.DataFrame(data = principalComponents\n",
    "             , columns = ['principal component 1', 'principal component 2'])\n",
    "newdist = pd.concat([pcadf2, yn], axis = 1)\n",
    "\n",
    "fig = plt.figure(figsize = (8,8))\n",
    "ax = fig.add_subplot(1,1,1) \n",
    "ax.set_xlabel('Principal Component 1', fontsize = 15)\n",
    "ax.set_ylabel('Principal Component 2', fontsize = 15)\n",
    "ax.set_title('2 component PCA', fontsize = 20)\n",
    "targets = [0, 1]\n",
    "colors = ['r', 'g']\n",
    "for target, color in zip(targets,colors):\n",
    "    indicesToKeep = newdist['Time_Deposits_Flag'] == target\n",
    "    ax.scatter(newdist.loc[indicesToKeep, 'principal component 1']\n",
    "               , newdist.loc[indicesToKeep, 'principal component 2']\n",
    "               , c = color\n",
    "               , s = 50)\n",
    "ax.legend(targets)\n",
    "ax.grid()"
   ]
  },
  {
   "cell_type": "code",
   "execution_count": 81,
   "metadata": {},
   "outputs": [],
   "source": [
    "#okay, that seems more balanced than before, let's try performing some ML on that\n",
    "#this time I won't use validation subset\n",
    "\n",
    "Xn_train, Xn_test, yn_train, yn_test = train_test_split(Xn, yn, test_size = 1000, random_state = 42)"
   ]
  },
  {
   "cell_type": "markdown",
   "metadata": {},
   "source": [
    "Evaluace ensemble learning algoritmu na novych datech pomoci Cross Validation a opakovaneho stratifikovaneho KFoldu. Metrikou je tentokrat, jak je u logisticke regrese s binarnim vystupem spravne a zadouci, AUC score (area under the curve). AUC nad 0.8 je povazovano za dobre, nad 0.9 skvele.\n",
    "\n",
    "POZOR: Pro vyuziti skore roc_auc je treba mit Voting Classifier prepnuty na soft voting, v definici algoritmu 'voting='soft''"
   ]
  },
  {
   "cell_type": "code",
   "execution_count": 82,
   "metadata": {},
   "outputs": [
    {
     "name": "stdout",
     "output_type": "stream",
     "text": [
      "Mean ROC AUC: 0.975\n"
     ]
    }
   ],
   "source": [
    "from sklearn.model_selection import cross_val_score\n",
    "from sklearn.model_selection import RepeatedStratifiedKFold\n",
    "#we'll try voting_clf first\n",
    "### TAKES SOME TIME ###\n",
    "voting_clf_soft = VotingClassifier(named_estimators, voting = 'soft')\n",
    "cv = RepeatedStratifiedKFold(n_splits = 10, n_repeats = 3, random_state = 42)\n",
    "scores = cross_val_score(voting_clf_soft, Xn_train, yn_train, scoring = 'roc_auc', cv = cv)\n",
    "print('Mean ROC AUC: %.3f' % np.mean(scores)) "
   ]
  },
  {
   "cell_type": "markdown",
   "metadata": {},
   "source": [
    "Dale opet neuronova sit v TensorFlow na novych datech. Tentokrat ovsem posledni vrstva vraci pouze jednu hodnotu a aktivacni funkci je sigmoid, coz je spravna aktivacni funkce, pokud provadime binarni klasifikaci. V nasledujici bunce konstrukce modelu. Optimizacnim algoritmem je opet Adam, ale uz u nej upravujeme jeden z nejdulezitejsich hyperparametru - learning rate (v ramci Gradient Descent je LR velikost kroku, ktery algoritmus udela pri kazde backpropagaci - pokud je moc velky, algoritmus osciluje na krivce a nenalezne minimum. Napr pri hodnote 0.5. Pokud je maly, trva dlouho, nez konverguje. Defaultne je tato hodnota nastavena na 0.001, experimentujeme i s jinymi hodnotami.\n",
    "\n",
    "Tentokrate je ztrata merena pomoci binarni krizove entropie, coz je pri binarni klasifikaci daleko vhodnejsi varianta. Metrikou je opet AUC"
   ]
  },
  {
   "cell_type": "code",
   "execution_count": 83,
   "metadata": {},
   "outputs": [],
   "source": [
    "### TF NN AGAIN ###\n",
    "input_size = len(Xn_train.columns)\n",
    "output_size = 1 #sigmoid = 1, softmax = 2\n",
    "hidden_layer_size = 50 #neurons in one layer\n",
    "\n",
    "model2 = tf.keras.Sequential([\n",
    "    tf.keras.layers.Dense(input_size, activation = 'relu'),\n",
    "    tf.keras.layers.Dense(hidden_layer_size, activation = 'relu'),\n",
    "    tf.keras.layers.Dense(output_size, activation = 'sigmoid') #binary outputs --> softmax transforms outputs into Ps, sigmoid 0/1\n",
    "])\n",
    "lr = 0.005\n",
    "adam = tf.keras.optimizers.Adam(learning_rate=lr)\n",
    "model2.compile(optimizer = adam, loss = 'BinaryCrossentropy', metrics = ['AUC'])"
   ]
  },
  {
   "cell_type": "markdown",
   "metadata": {},
   "source": [
    "zaznam o uceni ukladame do promenne history (nejaky zazity standard) pro ucely zobrazeni krivek loss a metrik"
   ]
  },
  {
   "cell_type": "code",
   "execution_count": 84,
   "metadata": {},
   "outputs": [
    {
     "name": "stdout",
     "output_type": "stream",
     "text": [
      "Epoch 1/500\n",
      "WARNING:tensorflow:Layer dense_3 is casting an input tensor from dtype float64 to the layer's dtype of float32, which is new behavior in TensorFlow 2.  The layer has dtype float32 because its dtype defaults to floatx.\n",
      "\n",
      "If you intended to run this layer in float32, you can safely ignore this warning. If in doubt, this warning is likely only an issue if you are porting a TensorFlow 1.X model to TensorFlow 2.\n",
      "\n",
      "To change all layers to have dtype float64 by default, call `tf.keras.backend.set_floatx('float64')`. To change just this layer, pass dtype='float64' to the layer constructor. If you are the author of this layer, you can disable autocasting by passing autocast=False to the base Layer constructor.\n",
      "\n",
      "4/4 - 0s - loss: 1179.1952 - auc: 0.5056 - val_loss: 1054.6976 - val_auc: 0.4916\n",
      "Epoch 2/500\n",
      "4/4 - 0s - loss: 843.0134 - auc: 0.4993 - val_loss: 644.6513 - val_auc: 0.5899\n",
      "Epoch 3/500\n",
      "4/4 - 0s - loss: 676.9733 - auc: 0.5851 - val_loss: 378.7890 - val_auc: 0.5418\n",
      "Epoch 4/500\n",
      "4/4 - 0s - loss: 311.3723 - auc: 0.5682 - val_loss: 303.9313 - val_auc: 0.6117\n",
      "Epoch 5/500\n",
      "4/4 - 0s - loss: 295.5386 - auc: 0.5739 - val_loss: 172.2833 - val_auc: 0.5482\n",
      "Epoch 6/500\n",
      "4/4 - 0s - loss: 131.2614 - auc: 0.6363 - val_loss: 101.5484 - val_auc: 0.5790\n",
      "Epoch 7/500\n",
      "4/4 - 0s - loss: 124.9257 - auc: 0.6293 - val_loss: 130.5394 - val_auc: 0.5547\n",
      "Epoch 8/500\n",
      "4/4 - 0s - loss: 148.4639 - auc: 0.6282 - val_loss: 70.0605 - val_auc: 0.5952\n",
      "Epoch 9/500\n",
      "4/4 - 0s - loss: 188.5091 - auc: 0.5437 - val_loss: 130.9762 - val_auc: 0.6410\n",
      "Epoch 10/500\n",
      "4/4 - 0s - loss: 167.0249 - auc: 0.6167 - val_loss: 247.6413 - val_auc: 0.5444\n",
      "Epoch 11/500\n",
      "4/4 - 0s - loss: 187.0142 - auc: 0.5862 - val_loss: 255.4522 - val_auc: 0.6432\n",
      "Epoch 12/500\n",
      "4/4 - 0s - loss: 139.8159 - auc: 0.6150 - val_loss: 101.5126 - val_auc: 0.5691\n",
      "Epoch 13/500\n",
      "4/4 - 0s - loss: 109.9124 - auc: 0.6378 - val_loss: 76.0811 - val_auc: 0.5891\n",
      "Epoch 14/500\n",
      "4/4 - 0s - loss: 70.5911 - auc: 0.6327 - val_loss: 91.6010 - val_auc: 0.5757\n",
      "Epoch 15/500\n",
      "4/4 - 0s - loss: 49.9605 - auc: 0.6617 - val_loss: 48.3574 - val_auc: 0.6805\n",
      "Epoch 16/500\n",
      "4/4 - 0s - loss: 59.7930 - auc: 0.6478 - val_loss: 46.0616 - val_auc: 0.6618\n",
      "Epoch 17/500\n",
      "4/4 - 0s - loss: 139.2072 - auc: 0.5865 - val_loss: 127.7808 - val_auc: 0.6483\n",
      "Epoch 18/500\n",
      "4/4 - 0s - loss: 104.8181 - auc: 0.6574 - val_loss: 52.6496 - val_auc: 0.6268\n",
      "Epoch 19/500\n",
      "4/4 - 0s - loss: 79.7266 - auc: 0.6546 - val_loss: 70.1127 - val_auc: 0.6145\n",
      "Epoch 20/500\n",
      "4/4 - 0s - loss: 54.8272 - auc: 0.6728 - val_loss: 71.0257 - val_auc: 0.6549\n",
      "Epoch 21/500\n",
      "4/4 - 0s - loss: 53.5552 - auc: 0.6721 - val_loss: 25.7640 - val_auc: 0.6913\n",
      "Epoch 22/500\n",
      "4/4 - 0s - loss: 33.6834 - auc: 0.6808 - val_loss: 53.7728 - val_auc: 0.6522\n",
      "Epoch 23/500\n",
      "4/4 - 0s - loss: 80.9737 - auc: 0.6412 - val_loss: 75.7909 - val_auc: 0.6414\n",
      "Epoch 24/500\n",
      "4/4 - 0s - loss: 107.8557 - auc: 0.5910 - val_loss: 184.2928 - val_auc: 0.6254\n",
      "Epoch 25/500\n",
      "4/4 - 0s - loss: 134.9760 - auc: 0.6293 - val_loss: 77.8403 - val_auc: 0.5868\n",
      "Epoch 26/500\n",
      "4/4 - 0s - loss: 80.8408 - auc: 0.6602 - val_loss: 59.5464 - val_auc: 0.6007\n",
      "Epoch 27/500\n",
      "4/4 - 0s - loss: 53.1712 - auc: 0.6899 - val_loss: 83.5584 - val_auc: 0.5673\n",
      "Epoch 28/500\n",
      "4/4 - 0s - loss: 68.6907 - auc: 0.6480 - val_loss: 36.9206 - val_auc: 0.6548\n",
      "Epoch 29/500\n",
      "4/4 - 0s - loss: 70.4871 - auc: 0.6397 - val_loss: 126.1992 - val_auc: 0.6553\n",
      "Epoch 30/500\n",
      "4/4 - 0s - loss: 174.3161 - auc: 0.6192 - val_loss: 225.4166 - val_auc: 0.5417\n",
      "Epoch 31/500\n",
      "4/4 - 0s - loss: 219.1187 - auc: 0.5889 - val_loss: 68.2672 - val_auc: 0.6627\n",
      "Epoch 32/500\n",
      "4/4 - 0s - loss: 214.8890 - auc: 0.5669 - val_loss: 147.3624 - val_auc: 0.5537\n",
      "Epoch 33/500\n",
      "4/4 - 0s - loss: 132.8181 - auc: 0.6559 - val_loss: 144.3382 - val_auc: 0.5594\n",
      "Epoch 34/500\n",
      "4/4 - 0s - loss: 132.6808 - auc: 0.5967 - val_loss: 170.5348 - val_auc: 0.6137\n",
      "Epoch 35/500\n",
      "4/4 - 0s - loss: 138.0551 - auc: 0.6234 - val_loss: 95.8753 - val_auc: 0.5896\n",
      "Epoch 36/500\n",
      "4/4 - 0s - loss: 73.9418 - auc: 0.6722 - val_loss: 92.7455 - val_auc: 0.6019\n",
      "Epoch 37/500\n",
      "4/4 - 0s - loss: 88.1264 - auc: 0.6746 - val_loss: 59.9675 - val_auc: 0.6070\n",
      "Epoch 38/500\n",
      "4/4 - 0s - loss: 76.3588 - auc: 0.6545 - val_loss: 27.9596 - val_auc: 0.6929\n",
      "Epoch 39/500\n",
      "4/4 - 0s - loss: 42.5459 - auc: 0.6914 - val_loss: 76.9266 - val_auc: 0.5734\n",
      "Epoch 40/500\n",
      "4/4 - 0s - loss: 69.1381 - auc: 0.6583 - val_loss: 44.3239 - val_auc: 0.6688\n",
      "Epoch 41/500\n",
      "4/4 - 0s - loss: 81.5390 - auc: 0.6213 - val_loss: 95.1681 - val_auc: 0.6639\n",
      "Epoch 42/500\n",
      "4/4 - 0s - loss: 96.3280 - auc: 0.6335 - val_loss: 92.8393 - val_auc: 0.5788\n",
      "Epoch 43/500\n",
      "4/4 - 0s - loss: 52.7605 - auc: 0.6806 - val_loss: 44.2879 - val_auc: 0.6312\n",
      "Epoch 44/500\n",
      "4/4 - 0s - loss: 38.0057 - auc: 0.7044 - val_loss: 32.9906 - val_auc: 0.6995\n",
      "Epoch 45/500\n",
      "4/4 - 0s - loss: 38.6084 - auc: 0.7176 - val_loss: 35.3578 - val_auc: 0.6213\n",
      "Epoch 46/500\n",
      "4/4 - 0s - loss: 38.6220 - auc: 0.6762 - val_loss: 37.1626 - val_auc: 0.6105\n",
      "Epoch 47/500\n",
      "4/4 - 0s - loss: 34.7413 - auc: 0.6816 - val_loss: 65.2934 - val_auc: 0.6645\n",
      "Epoch 48/500\n",
      "4/4 - 0s - loss: 45.8862 - auc: 0.7033 - val_loss: 21.1173 - val_auc: 0.6863\n",
      "Epoch 49/500\n",
      "4/4 - 0s - loss: 28.4757 - auc: 0.7390 - val_loss: 53.3119 - val_auc: 0.5912\n",
      "Epoch 50/500\n",
      "4/4 - 0s - loss: 48.4684 - auc: 0.6828 - val_loss: 38.9458 - val_auc: 0.5963\n",
      "Epoch 51/500\n",
      "4/4 - 0s - loss: 38.8717 - auc: 0.6474 - val_loss: 93.6111 - val_auc: 0.6521\n",
      "Epoch 52/500\n",
      "4/4 - 0s - loss: 121.6308 - auc: 0.6020 - val_loss: 51.0625 - val_auc: 0.5999\n",
      "Epoch 53/500\n",
      "4/4 - 0s - loss: 131.3047 - auc: 0.6554 - val_loss: 201.9195 - val_auc: 0.5288\n",
      "Epoch 54/500\n",
      "4/4 - 0s - loss: 244.8367 - auc: 0.5399 - val_loss: 69.7325 - val_auc: 0.6738\n",
      "Epoch 55/500\n",
      "4/4 - 0s - loss: 87.7056 - auc: 0.6877 - val_loss: 70.4565 - val_auc: 0.6296\n",
      "Epoch 56/500\n",
      "4/4 - 0s - loss: 55.0197 - auc: 0.7000 - val_loss: 49.1062 - val_auc: 0.6423\n",
      "Epoch 57/500\n",
      "4/4 - 0s - loss: 50.4151 - auc: 0.6947 - val_loss: 61.0968 - val_auc: 0.6159\n",
      "Epoch 58/500\n",
      "4/4 - 0s - loss: 46.8202 - auc: 0.6983 - val_loss: 36.2208 - val_auc: 0.6547\n",
      "Epoch 59/500\n",
      "4/4 - 0s - loss: 37.2278 - auc: 0.6672 - val_loss: 69.6871 - val_auc: 0.6584\n",
      "Epoch 60/500\n",
      "4/4 - 0s - loss: 82.6396 - auc: 0.6053 - val_loss: 38.7997 - val_auc: 0.6365\n",
      "Epoch 61/500\n",
      "4/4 - 0s - loss: 93.9839 - auc: 0.6411 - val_loss: 121.9769 - val_auc: 0.5598\n",
      "Epoch 62/500\n",
      "4/4 - 0s - loss: 84.5561 - auc: 0.6655 - val_loss: 39.0882 - val_auc: 0.6491\n",
      "Epoch 63/500\n",
      "4/4 - 0s - loss: 40.1685 - auc: 0.6754 - val_loss: 27.0791 - val_auc: 0.6684\n",
      "Epoch 64/500\n",
      "4/4 - 0s - loss: 64.9542 - auc: 0.6704 - val_loss: 152.9334 - val_auc: 0.5423\n",
      "Epoch 65/500\n",
      "4/4 - 0s - loss: 114.8604 - auc: 0.6173 - val_loss: 26.0703 - val_auc: 0.6692\n",
      "Epoch 66/500\n",
      "4/4 - 0s - loss: 66.9390 - auc: 0.6517 - val_loss: 97.8508 - val_auc: 0.6680\n",
      "Epoch 67/500\n",
      "4/4 - 0s - loss: 59.6595 - auc: 0.6896 - val_loss: 68.3576 - val_auc: 0.6821\n",
      "Epoch 68/500\n",
      "4/4 - 0s - loss: 48.7779 - auc: 0.7104 - val_loss: 21.5331 - val_auc: 0.6836\n",
      "Epoch 69/500\n",
      "4/4 - 0s - loss: 29.8480 - auc: 0.7067 - val_loss: 84.1662 - val_auc: 0.5474\n",
      "Epoch 70/500\n",
      "4/4 - 0s - loss: 89.9084 - auc: 0.6625 - val_loss: 90.4458 - val_auc: 0.5510\n",
      "Epoch 71/500\n",
      "4/4 - 0s - loss: 93.9290 - auc: 0.5944 - val_loss: 35.0018 - val_auc: 0.6988\n",
      "Epoch 72/500\n",
      "4/4 - 0s - loss: 67.4994 - auc: 0.6443 - val_loss: 106.1299 - val_auc: 0.6756\n",
      "Epoch 73/500\n",
      "4/4 - 0s - loss: 84.0361 - auc: 0.6778 - val_loss: 38.6545 - val_auc: 0.6532\n",
      "Epoch 74/500\n",
      "4/4 - 0s - loss: 58.3314 - auc: 0.6902 - val_loss: 103.6226 - val_auc: 0.5521\n",
      "Epoch 75/500\n",
      "4/4 - 0s - loss: 61.0612 - auc: 0.6815 - val_loss: 71.9984 - val_auc: 0.6114\n",
      "Epoch 76/500\n",
      "4/4 - 0s - loss: 85.4788 - auc: 0.6477 - val_loss: 78.5873 - val_auc: 0.6838\n",
      "Epoch 77/500\n",
      "4/4 - 0s - loss: 68.1372 - auc: 0.6478 - val_loss: 64.2329 - val_auc: 0.6876\n",
      "Epoch 78/500\n",
      "4/4 - 0s - loss: 54.3962 - auc: 0.7105 - val_loss: 28.0190 - val_auc: 0.6721\n",
      "Epoch 79/500\n",
      "4/4 - 0s - loss: 62.8281 - auc: 0.6856 - val_loss: 123.5262 - val_auc: 0.5424\n",
      "Epoch 80/500\n",
      "4/4 - 0s - loss: 79.7858 - auc: 0.6491 - val_loss: 28.6160 - val_auc: 0.6946\n",
      "Epoch 81/500\n",
      "4/4 - 0s - loss: 39.7413 - auc: 0.7194 - val_loss: 38.9721 - val_auc: 0.6943\n",
      "Epoch 82/500\n",
      "4/4 - 0s - loss: 54.7827 - auc: 0.6562 - val_loss: 98.7732 - val_auc: 0.6749\n",
      "Epoch 83/500\n",
      "4/4 - 0s - loss: 79.7300 - auc: 0.6312 - val_loss: 37.0008 - val_auc: 0.6775\n"
     ]
    },
    {
     "name": "stdout",
     "output_type": "stream",
     "text": [
      "Epoch 84/500\n",
      "4/4 - 0s - loss: 50.4625 - auc: 0.7085 - val_loss: 66.8042 - val_auc: 0.5859\n",
      "Epoch 85/500\n",
      "4/4 - 0s - loss: 58.6784 - auc: 0.6994 - val_loss: 92.7069 - val_auc: 0.5544\n",
      "Epoch 86/500\n",
      "4/4 - 0s - loss: 80.0072 - auc: 0.6365 - val_loss: 50.5892 - val_auc: 0.7018\n",
      "Epoch 87/500\n",
      "4/4 - 0s - loss: 46.6146 - auc: 0.6948 - val_loss: 60.8438 - val_auc: 0.7016\n",
      "Epoch 88/500\n",
      "4/4 - 0s - loss: 66.7676 - auc: 0.6404 - val_loss: 39.0446 - val_auc: 0.6914\n",
      "Epoch 89/500\n",
      "4/4 - 0s - loss: 67.0316 - auc: 0.7014 - val_loss: 119.9151 - val_auc: 0.5516\n",
      "Epoch 90/500\n",
      "4/4 - 0s - loss: 95.1712 - auc: 0.6394 - val_loss: 123.9363 - val_auc: 0.6742\n",
      "Epoch 91/500\n",
      "4/4 - 0s - loss: 114.9525 - auc: 0.6355 - val_loss: 182.2601 - val_auc: 0.5267\n",
      "Epoch 92/500\n",
      "4/4 - 0s - loss: 139.7902 - auc: 0.6288 - val_loss: 76.4580 - val_auc: 0.6866\n",
      "Epoch 93/500\n",
      "4/4 - 0s - loss: 101.5722 - auc: 0.6291 - val_loss: 69.6181 - val_auc: 0.6409\n",
      "Epoch 94/500\n",
      "4/4 - 0s - loss: 105.7140 - auc: 0.6800 - val_loss: 128.5671 - val_auc: 0.5622\n",
      "Epoch 95/500\n",
      "4/4 - 0s - loss: 160.4146 - auc: 0.5822 - val_loss: 61.7097 - val_auc: 0.6998\n",
      "Epoch 96/500\n",
      "4/4 - 0s - loss: 75.6655 - auc: 0.7007 - val_loss: 67.6715 - val_auc: 0.6665\n",
      "Epoch 97/500\n",
      "4/4 - 0s - loss: 53.3535 - auc: 0.7175 - val_loss: 46.5601 - val_auc: 0.6215\n",
      "Epoch 98/500\n",
      "4/4 - 0s - loss: 48.7391 - auc: 0.6793 - val_loss: 77.3553 - val_auc: 0.5430\n",
      "Epoch 99/500\n",
      "4/4 - 0s - loss: 74.6015 - auc: 0.6279 - val_loss: 98.0967 - val_auc: 0.6642\n",
      "Epoch 100/500\n",
      "4/4 - 0s - loss: 69.2604 - auc: 0.6723 - val_loss: 28.9712 - val_auc: 0.7020\n",
      "Epoch 101/500\n",
      "4/4 - 0s - loss: 49.0085 - auc: 0.7208 - val_loss: 65.1827 - val_auc: 0.6225\n",
      "Epoch 102/500\n",
      "4/4 - 0s - loss: 58.9329 - auc: 0.7061 - val_loss: 39.8880 - val_auc: 0.6512\n",
      "Epoch 103/500\n",
      "4/4 - 0s - loss: 52.8218 - auc: 0.6677 - val_loss: 40.1878 - val_auc: 0.6985\n",
      "Epoch 104/500\n",
      "4/4 - 0s - loss: 36.5402 - auc: 0.7002 - val_loss: 22.9900 - val_auc: 0.7101\n",
      "Epoch 105/500\n",
      "4/4 - 0s - loss: 16.2882 - auc: 0.7744 - val_loss: 19.6981 - val_auc: 0.7189\n",
      "Epoch 106/500\n",
      "4/4 - 0s - loss: 14.1495 - auc: 0.7802 - val_loss: 40.7452 - val_auc: 0.6099\n",
      "Epoch 107/500\n",
      "4/4 - 0s - loss: 23.4055 - auc: 0.7189 - val_loss: 21.8291 - val_auc: 0.6910\n",
      "Epoch 108/500\n",
      "4/4 - 0s - loss: 19.4647 - auc: 0.7284 - val_loss: 36.6064 - val_auc: 0.6271\n",
      "Epoch 109/500\n",
      "4/4 - 0s - loss: 22.0823 - auc: 0.7318 - val_loss: 15.8259 - val_auc: 0.7320\n",
      "Epoch 110/500\n",
      "4/4 - 0s - loss: 25.1019 - auc: 0.7205 - val_loss: 33.4339 - val_auc: 0.7210\n",
      "Epoch 111/500\n",
      "4/4 - 0s - loss: 20.0522 - auc: 0.7424 - val_loss: 45.7288 - val_auc: 0.6948\n",
      "Epoch 112/500\n",
      "4/4 - 0s - loss: 47.1662 - auc: 0.6697 - val_loss: 19.8884 - val_auc: 0.6976\n",
      "Epoch 113/500\n",
      "4/4 - 0s - loss: 81.5160 - auc: 0.6968 - val_loss: 86.2828 - val_auc: 0.5393\n",
      "Epoch 114/500\n",
      "4/4 - 0s - loss: 75.0620 - auc: 0.6266 - val_loss: 97.9540 - val_auc: 0.6820\n",
      "Epoch 115/500\n",
      "4/4 - 0s - loss: 109.9002 - auc: 0.6358 - val_loss: 120.3779 - val_auc: 0.5567\n",
      "Epoch 116/500\n",
      "4/4 - 0s - loss: 105.7115 - auc: 0.6736 - val_loss: 44.4060 - val_auc: 0.7198\n",
      "Epoch 117/500\n",
      "4/4 - 0s - loss: 133.4283 - auc: 0.6207 - val_loss: 123.3596 - val_auc: 0.5678\n",
      "Epoch 118/500\n",
      "4/4 - 0s - loss: 130.4744 - auc: 0.6801 - val_loss: 41.0676 - val_auc: 0.7200\n",
      "Epoch 119/500\n",
      "4/4 - 0s - loss: 129.4336 - auc: 0.6243 - val_loss: 143.6330 - val_auc: 0.5560\n",
      "Epoch 120/500\n",
      "4/4 - 0s - loss: 143.5786 - auc: 0.6528 - val_loss: 89.7736 - val_auc: 0.6778\n",
      "Epoch 121/500\n",
      "4/4 - 0s - loss: 116.6830 - auc: 0.6275 - val_loss: 100.9147 - val_auc: 0.5832\n",
      "Epoch 122/500\n",
      "4/4 - 0s - loss: 106.3341 - auc: 0.6780 - val_loss: 59.5696 - val_auc: 0.7015\n",
      "Epoch 123/500\n",
      "4/4 - 0s - loss: 114.2441 - auc: 0.6170 - val_loss: 60.1686 - val_auc: 0.6383\n",
      "Epoch 124/500\n",
      "4/4 - 0s - loss: 57.9909 - auc: 0.7145 - val_loss: 76.4230 - val_auc: 0.6235\n",
      "Epoch 125/500\n",
      "4/4 - 0s - loss: 82.9258 - auc: 0.6557 - val_loss: 59.4734 - val_auc: 0.6966\n",
      "Epoch 126/500\n",
      "4/4 - 0s - loss: 46.1605 - auc: 0.7286 - val_loss: 49.1933 - val_auc: 0.6561\n",
      "Epoch 127/500\n",
      "4/4 - 0s - loss: 34.7231 - auc: 0.7318 - val_loss: 30.6888 - val_auc: 0.6770\n",
      "Epoch 128/500\n",
      "4/4 - 0s - loss: 22.0060 - auc: 0.7362 - val_loss: 31.5749 - val_auc: 0.6382\n",
      "Epoch 129/500\n",
      "4/4 - 0s - loss: 22.6841 - auc: 0.7132 - val_loss: 36.6353 - val_auc: 0.6416\n",
      "Epoch 130/500\n",
      "4/4 - 0s - loss: 24.9832 - auc: 0.7220 - val_loss: 24.7915 - val_auc: 0.7007\n",
      "Epoch 131/500\n",
      "4/4 - 0s - loss: 16.0981 - auc: 0.7661 - val_loss: 15.2757 - val_auc: 0.7427\n",
      "Epoch 132/500\n",
      "4/4 - 0s - loss: 18.1470 - auc: 0.7236 - val_loss: 51.1965 - val_auc: 0.6993\n",
      "Epoch 133/500\n",
      "4/4 - 0s - loss: 72.6063 - auc: 0.6569 - val_loss: 83.4412 - val_auc: 0.5779\n",
      "Epoch 134/500\n",
      "4/4 - 0s - loss: 80.3729 - auc: 0.6715 - val_loss: 38.2407 - val_auc: 0.6923\n",
      "Epoch 135/500\n",
      "4/4 - 0s - loss: 54.8539 - auc: 0.6795 - val_loss: 59.5310 - val_auc: 0.7040\n",
      "Epoch 136/500\n",
      "4/4 - 0s - loss: 51.1360 - auc: 0.7175 - val_loss: 39.6280 - val_auc: 0.6753\n",
      "Epoch 137/500\n",
      "4/4 - 0s - loss: 29.3984 - auc: 0.7469 - val_loss: 23.7414 - val_auc: 0.6981\n",
      "Epoch 138/500\n",
      "4/4 - 0s - loss: 23.7067 - auc: 0.7170 - val_loss: 27.2927 - val_auc: 0.6342\n",
      "Epoch 139/500\n",
      "4/4 - 0s - loss: 24.2763 - auc: 0.7214 - val_loss: 24.5041 - val_auc: 0.6575\n",
      "Epoch 140/500\n",
      "4/4 - 0s - loss: 25.8794 - auc: 0.7262 - val_loss: 38.0158 - val_auc: 0.6402\n",
      "Epoch 141/500\n",
      "4/4 - 0s - loss: 24.4440 - auc: 0.7363 - val_loss: 30.1824 - val_auc: 0.6527\n",
      "Epoch 142/500\n",
      "4/4 - 0s - loss: 24.2137 - auc: 0.7427 - val_loss: 47.9426 - val_auc: 0.5877\n",
      "Epoch 143/500\n",
      "4/4 - 0s - loss: 40.6539 - auc: 0.6613 - val_loss: 61.6105 - val_auc: 0.6846\n",
      "Epoch 144/500\n",
      "4/4 - 0s - loss: 32.2574 - auc: 0.7085 - val_loss: 26.1722 - val_auc: 0.7355\n",
      "Epoch 145/500\n",
      "4/4 - 0s - loss: 14.6723 - auc: 0.7676 - val_loss: 21.6767 - val_auc: 0.7332\n",
      "Epoch 146/500\n",
      "4/4 - 0s - loss: 22.3854 - auc: 0.7329 - val_loss: 12.4041 - val_auc: 0.7242\n",
      "Epoch 147/500\n",
      "4/4 - 0s - loss: 16.8813 - auc: 0.7443 - val_loss: 25.2556 - val_auc: 0.6384\n",
      "Epoch 148/500\n",
      "4/4 - 0s - loss: 16.5081 - auc: 0.7579 - val_loss: 26.2386 - val_auc: 0.7397\n",
      "Epoch 149/500\n",
      "4/4 - 0s - loss: 32.1009 - auc: 0.6824 - val_loss: 14.0446 - val_auc: 0.8110\n",
      "Epoch 150/500\n",
      "4/4 - 0s - loss: 27.2153 - auc: 0.6956 - val_loss: 14.8873 - val_auc: 0.7547\n",
      "Epoch 151/500\n",
      "4/4 - 0s - loss: 37.0551 - auc: 0.7069 - val_loss: 61.9447 - val_auc: 0.5625\n",
      "Epoch 152/500\n",
      "4/4 - 0s - loss: 41.0422 - auc: 0.6909 - val_loss: 20.3705 - val_auc: 0.7321\n",
      "Epoch 153/500\n",
      "4/4 - 0s - loss: 22.8529 - auc: 0.7504 - val_loss: 33.8506 - val_auc: 0.7073\n",
      "Epoch 154/500\n",
      "4/4 - 0s - loss: 26.6529 - auc: 0.7284 - val_loss: 23.3643 - val_auc: 0.7401\n",
      "Epoch 155/500\n",
      "4/4 - 0s - loss: 15.9576 - auc: 0.7739 - val_loss: 19.0084 - val_auc: 0.7557\n",
      "Epoch 156/500\n",
      "4/4 - 0s - loss: 23.8642 - auc: 0.7291 - val_loss: 15.2947 - val_auc: 0.7758\n",
      "Epoch 157/500\n",
      "4/4 - 0s - loss: 37.1375 - auc: 0.6740 - val_loss: 50.3676 - val_auc: 0.6813\n",
      "Epoch 158/500\n",
      "4/4 - 0s - loss: 45.3751 - auc: 0.6860 - val_loss: 34.2365 - val_auc: 0.6549\n",
      "Epoch 159/500\n",
      "4/4 - 0s - loss: 21.6790 - auc: 0.7459 - val_loss: 25.9050 - val_auc: 0.6673\n",
      "Epoch 160/500\n",
      "4/4 - 0s - loss: 22.1964 - auc: 0.7313 - val_loss: 51.5598 - val_auc: 0.5738\n",
      "Epoch 161/500\n",
      "4/4 - 0s - loss: 47.5184 - auc: 0.6373 - val_loss: 52.1324 - val_auc: 0.7061\n",
      "Epoch 162/500\n",
      "4/4 - 0s - loss: 44.9519 - auc: 0.7005 - val_loss: 20.5783 - val_auc: 0.7670\n",
      "Epoch 163/500\n",
      "4/4 - 0s - loss: 14.3650 - auc: 0.7832 - val_loss: 15.1504 - val_auc: 0.7439\n",
      "Epoch 164/500\n",
      "4/4 - 0s - loss: 8.7771 - auc: 0.8113 - val_loss: 14.5688 - val_auc: 0.7692\n",
      "Epoch 165/500\n",
      "4/4 - 0s - loss: 19.4544 - auc: 0.7199 - val_loss: 25.2464 - val_auc: 0.7522\n",
      "Epoch 166/500\n",
      "4/4 - 0s - loss: 35.4158 - auc: 0.6689 - val_loss: 61.9086 - val_auc: 0.6961\n",
      "Epoch 167/500\n",
      "4/4 - 0s - loss: 56.0743 - auc: 0.6773 - val_loss: 37.6846 - val_auc: 0.6507\n",
      "Epoch 168/500\n",
      "4/4 - 0s - loss: 19.0304 - auc: 0.7632 - val_loss: 34.0132 - val_auc: 0.6644\n",
      "Epoch 169/500\n",
      "4/4 - 0s - loss: 20.6589 - auc: 0.7464 - val_loss: 22.6959 - val_auc: 0.6936\n",
      "Epoch 170/500\n",
      "4/4 - 0s - loss: 15.2709 - auc: 0.7550 - val_loss: 21.0489 - val_auc: 0.6684\n",
      "Epoch 171/500\n",
      "4/4 - 0s - loss: 14.9047 - auc: 0.7566 - val_loss: 21.5750 - val_auc: 0.6422\n",
      "Epoch 172/500\n",
      "4/4 - 0s - loss: 11.9897 - auc: 0.7714 - val_loss: 12.8547 - val_auc: 0.7451\n",
      "Epoch 173/500\n",
      "4/4 - 0s - loss: 11.9848 - auc: 0.7699 - val_loss: 20.0910 - val_auc: 0.7755\n"
     ]
    },
    {
     "name": "stdout",
     "output_type": "stream",
     "text": [
      "Epoch 174/500\n",
      "4/4 - 0s - loss: 13.8303 - auc: 0.7373 - val_loss: 15.4712 - val_auc: 0.7068\n",
      "Epoch 175/500\n",
      "4/4 - 0s - loss: 16.0689 - auc: 0.7563 - val_loss: 12.8527 - val_auc: 0.8257\n",
      "Epoch 176/500\n",
      "4/4 - 0s - loss: 11.3616 - auc: 0.7716 - val_loss: 10.0967 - val_auc: 0.7617\n",
      "Epoch 177/500\n",
      "4/4 - 0s - loss: 9.1006 - auc: 0.7804 - val_loss: 26.7346 - val_auc: 0.7526\n",
      "Epoch 178/500\n",
      "4/4 - 0s - loss: 17.5493 - auc: 0.7596 - val_loss: 10.1524 - val_auc: 0.7750\n",
      "Epoch 179/500\n",
      "4/4 - 0s - loss: 12.8766 - auc: 0.7779 - val_loss: 9.6621 - val_auc: 0.7378\n",
      "Epoch 180/500\n",
      "4/4 - 0s - loss: 20.3926 - auc: 0.7272 - val_loss: 42.7916 - val_auc: 0.5832\n",
      "Epoch 181/500\n",
      "4/4 - 0s - loss: 21.1079 - auc: 0.7287 - val_loss: 14.8247 - val_auc: 0.7556\n",
      "Epoch 182/500\n",
      "4/4 - 0s - loss: 18.3898 - auc: 0.7275 - val_loss: 13.8073 - val_auc: 0.7520\n",
      "Epoch 183/500\n",
      "4/4 - 0s - loss: 20.5679 - auc: 0.7310 - val_loss: 22.9866 - val_auc: 0.7393\n",
      "Epoch 184/500\n",
      "4/4 - 0s - loss: 15.4801 - auc: 0.7693 - val_loss: 17.7785 - val_auc: 0.7716\n",
      "Epoch 185/500\n",
      "4/4 - 0s - loss: 14.9691 - auc: 0.7674 - val_loss: 11.3952 - val_auc: 0.7481\n",
      "Epoch 186/500\n",
      "4/4 - 0s - loss: 10.7000 - auc: 0.7489 - val_loss: 17.3264 - val_auc: 0.6753\n",
      "Epoch 187/500\n",
      "4/4 - 0s - loss: 11.0602 - auc: 0.7690 - val_loss: 10.5523 - val_auc: 0.7954\n",
      "Epoch 188/500\n",
      "4/4 - 0s - loss: 7.8282 - auc: 0.7886 - val_loss: 36.4206 - val_auc: 0.5978\n",
      "Epoch 189/500\n",
      "4/4 - 0s - loss: 25.8406 - auc: 0.6830 - val_loss: 48.9249 - val_auc: 0.5910\n",
      "Epoch 190/500\n",
      "4/4 - 0s - loss: 44.6602 - auc: 0.6721 - val_loss: 54.9850 - val_auc: 0.7008\n",
      "Epoch 191/500\n",
      "4/4 - 0s - loss: 37.0942 - auc: 0.7088 - val_loss: 29.0373 - val_auc: 0.7353\n",
      "Epoch 192/500\n",
      "4/4 - 0s - loss: 27.7200 - auc: 0.7318 - val_loss: 14.4963 - val_auc: 0.7412\n",
      "Epoch 193/500\n",
      "4/4 - 0s - loss: 26.4550 - auc: 0.7376 - val_loss: 58.8037 - val_auc: 0.5612\n",
      "Epoch 194/500\n",
      "4/4 - 0s - loss: 48.1120 - auc: 0.6916 - val_loss: 21.7408 - val_auc: 0.6960\n",
      "Epoch 195/500\n",
      "4/4 - 0s - loss: 31.1692 - auc: 0.6851 - val_loss: 24.6436 - val_auc: 0.7329\n",
      "Epoch 196/500\n",
      "4/4 - 0s - loss: 18.8926 - auc: 0.7672 - val_loss: 33.3501 - val_auc: 0.7273\n",
      "Epoch 197/500\n",
      "4/4 - 0s - loss: 19.1244 - auc: 0.7532 - val_loss: 38.9812 - val_auc: 0.7217\n",
      "Epoch 198/500\n",
      "4/4 - 0s - loss: 42.5579 - auc: 0.6636 - val_loss: 22.5091 - val_auc: 0.6651\n",
      "Epoch 199/500\n",
      "4/4 - 0s - loss: 33.5483 - auc: 0.7274 - val_loss: 37.7450 - val_auc: 0.6019\n",
      "Epoch 200/500\n",
      "4/4 - 0s - loss: 31.1591 - auc: 0.7159 - val_loss: 35.9981 - val_auc: 0.6260\n",
      "Epoch 201/500\n",
      "4/4 - 0s - loss: 33.5703 - auc: 0.7044 - val_loss: 59.4646 - val_auc: 0.7050\n",
      "Epoch 202/500\n",
      "4/4 - 0s - loss: 43.0511 - auc: 0.6847 - val_loss: 14.2530 - val_auc: 0.7491\n",
      "Epoch 203/500\n",
      "4/4 - 0s - loss: 42.5183 - auc: 0.7443 - val_loss: 70.1703 - val_auc: 0.5611\n",
      "Epoch 204/500\n",
      "4/4 - 0s - loss: 52.6627 - auc: 0.6547 - val_loss: 78.1566 - val_auc: 0.6771\n",
      "Epoch 205/500\n",
      "4/4 - 0s - loss: 59.7043 - auc: 0.6646 - val_loss: 26.6099 - val_auc: 0.6984\n",
      "Epoch 206/500\n",
      "4/4 - 0s - loss: 29.6576 - auc: 0.7458 - val_loss: 51.2571 - val_auc: 0.6180\n",
      "Epoch 207/500\n",
      "4/4 - 0s - loss: 46.1147 - auc: 0.6508 - val_loss: 68.0343 - val_auc: 0.6730\n",
      "Epoch 208/500\n",
      "4/4 - 0s - loss: 48.3932 - auc: 0.7090 - val_loss: 39.3022 - val_auc: 0.6668\n",
      "Epoch 209/500\n",
      "4/4 - 0s - loss: 35.4599 - auc: 0.7376 - val_loss: 28.8625 - val_auc: 0.6631\n",
      "Epoch 210/500\n",
      "4/4 - 0s - loss: 26.9750 - auc: 0.6949 - val_loss: 22.2335 - val_auc: 0.7513\n",
      "Epoch 211/500\n",
      "4/4 - 0s - loss: 39.0415 - auc: 0.6716 - val_loss: 20.6209 - val_auc: 0.7467\n",
      "Epoch 212/500\n",
      "4/4 - 0s - loss: 35.6765 - auc: 0.7244 - val_loss: 37.0564 - val_auc: 0.6745\n",
      "Epoch 213/500\n",
      "4/4 - 0s - loss: 28.2164 - auc: 0.7543 - val_loss: 18.4363 - val_auc: 0.7039\n",
      "Epoch 214/500\n",
      "4/4 - 0s - loss: 18.6787 - auc: 0.7506 - val_loss: 18.9057 - val_auc: 0.7411\n",
      "Epoch 215/500\n",
      "4/4 - 0s - loss: 17.0853 - auc: 0.7504 - val_loss: 23.9094 - val_auc: 0.7355\n",
      "Epoch 216/500\n",
      "4/4 - 0s - loss: 13.8718 - auc: 0.7607 - val_loss: 38.6271 - val_auc: 0.7334\n",
      "Epoch 217/500\n",
      "4/4 - 0s - loss: 26.5026 - auc: 0.7329 - val_loss: 30.8135 - val_auc: 0.6316\n",
      "Epoch 218/500\n",
      "4/4 - 0s - loss: 16.2958 - auc: 0.7715 - val_loss: 18.2208 - val_auc: 0.7113\n",
      "Epoch 219/500\n",
      "4/4 - 0s - loss: 13.6705 - auc: 0.7694 - val_loss: 18.5632 - val_auc: 0.6865\n",
      "Epoch 220/500\n",
      "4/4 - 0s - loss: 19.1807 - auc: 0.7424 - val_loss: 24.8786 - val_auc: 0.6399\n",
      "Epoch 221/500\n",
      "4/4 - 0s - loss: 18.0835 - auc: 0.7583 - val_loss: 25.7273 - val_auc: 0.6584\n",
      "Epoch 222/500\n",
      "4/4 - 0s - loss: 18.3387 - auc: 0.7682 - val_loss: 40.7893 - val_auc: 0.6038\n",
      "Epoch 223/500\n",
      "4/4 - 0s - loss: 32.0563 - auc: 0.6606 - val_loss: 40.2283 - val_auc: 0.7101\n",
      "Epoch 224/500\n",
      "4/4 - 0s - loss: 31.1349 - auc: 0.7085 - val_loss: 23.6088 - val_auc: 0.7560\n",
      "Epoch 225/500\n",
      "4/4 - 0s - loss: 19.1137 - auc: 0.7564 - val_loss: 18.1164 - val_auc: 0.7229\n",
      "Epoch 226/500\n",
      "4/4 - 0s - loss: 15.6333 - auc: 0.7748 - val_loss: 18.2278 - val_auc: 0.7223\n",
      "Epoch 227/500\n",
      "4/4 - 0s - loss: 12.8290 - auc: 0.7718 - val_loss: 11.9992 - val_auc: 0.7338\n",
      "Epoch 228/500\n",
      "4/4 - 0s - loss: 14.7190 - auc: 0.7712 - val_loss: 12.1534 - val_auc: 0.7325\n",
      "Epoch 229/500\n",
      "4/4 - 0s - loss: 18.2091 - auc: 0.7410 - val_loss: 30.4915 - val_auc: 0.6200\n",
      "Epoch 230/500\n",
      "4/4 - 0s - loss: 18.6812 - auc: 0.7503 - val_loss: 27.8074 - val_auc: 0.6568\n",
      "Epoch 231/500\n",
      "4/4 - 0s - loss: 21.9284 - auc: 0.7296 - val_loss: 29.6847 - val_auc: 0.7381\n",
      "Epoch 232/500\n",
      "4/4 - 0s - loss: 20.4495 - auc: 0.7172 - val_loss: 31.0632 - val_auc: 0.7407\n",
      "Epoch 233/500\n",
      "4/4 - 0s - loss: 19.3480 - auc: 0.7536 - val_loss: 15.2282 - val_auc: 0.8125\n",
      "Epoch 234/500\n",
      "4/4 - 0s - loss: 15.0054 - auc: 0.7858 - val_loss: 14.8020 - val_auc: 0.8202\n",
      "Epoch 235/500\n",
      "4/4 - 0s - loss: 8.7905 - auc: 0.8295 - val_loss: 11.3317 - val_auc: 0.7777\n",
      "Epoch 236/500\n",
      "4/4 - 0s - loss: 9.8116 - auc: 0.7837 - val_loss: 11.2348 - val_auc: 0.7859\n",
      "Epoch 237/500\n",
      "4/4 - 0s - loss: 12.3668 - auc: 0.7526 - val_loss: 26.9034 - val_auc: 0.7463\n",
      "Epoch 238/500\n",
      "4/4 - 0s - loss: 25.6789 - auc: 0.7066 - val_loss: 22.6994 - val_auc: 0.7070\n",
      "Epoch 239/500\n",
      "4/4 - 0s - loss: 21.8634 - auc: 0.7500 - val_loss: 40.0187 - val_auc: 0.6425\n",
      "Epoch 240/500\n",
      "4/4 - 0s - loss: 25.7078 - auc: 0.7332 - val_loss: 44.3611 - val_auc: 0.7119\n",
      "Epoch 241/500\n",
      "4/4 - 0s - loss: 35.8668 - auc: 0.6670 - val_loss: 25.9063 - val_auc: 0.7314\n",
      "Epoch 242/500\n",
      "4/4 - 0s - loss: 21.8077 - auc: 0.7612 - val_loss: 14.1433 - val_auc: 0.7411\n",
      "Epoch 243/500\n",
      "4/4 - 0s - loss: 20.5135 - auc: 0.7444 - val_loss: 59.3906 - val_auc: 0.5760\n",
      "Epoch 244/500\n",
      "4/4 - 0s - loss: 40.6134 - auc: 0.6867 - val_loss: 30.6504 - val_auc: 0.7377\n",
      "Epoch 245/500\n",
      "4/4 - 0s - loss: 30.8843 - auc: 0.6997 - val_loss: 16.2011 - val_auc: 0.7563\n",
      "Epoch 246/500\n",
      "4/4 - 0s - loss: 29.6750 - auc: 0.7475 - val_loss: 56.7135 - val_auc: 0.5668\n",
      "Epoch 247/500\n",
      "4/4 - 0s - loss: 40.0208 - auc: 0.6854 - val_loss: 37.1181 - val_auc: 0.7218\n",
      "Epoch 248/500\n",
      "4/4 - 0s - loss: 27.0889 - auc: 0.7463 - val_loss: 16.2778 - val_auc: 0.7545\n",
      "Epoch 249/500\n",
      "4/4 - 0s - loss: 20.8608 - auc: 0.7749 - val_loss: 31.9316 - val_auc: 0.6198\n",
      "Epoch 250/500\n",
      "4/4 - 0s - loss: 25.4440 - auc: 0.7384 - val_loss: 16.1814 - val_auc: 0.7146\n",
      "Epoch 251/500\n",
      "4/4 - 0s - loss: 14.9929 - auc: 0.7607 - val_loss: 14.3094 - val_auc: 0.7561\n",
      "Epoch 252/500\n",
      "4/4 - 0s - loss: 13.7259 - auc: 0.7810 - val_loss: 14.1077 - val_auc: 0.8103\n",
      "Epoch 253/500\n",
      "4/4 - 0s - loss: 8.0454 - auc: 0.8080 - val_loss: 11.1152 - val_auc: 0.7822\n",
      "Epoch 254/500\n",
      "4/4 - 0s - loss: 5.4129 - auc: 0.8259 - val_loss: 18.3976 - val_auc: 0.6777\n",
      "Epoch 255/500\n",
      "4/4 - 0s - loss: 11.9016 - auc: 0.7662 - val_loss: 15.6753 - val_auc: 0.7156\n",
      "Epoch 256/500\n",
      "4/4 - 0s - loss: 10.4896 - auc: 0.7878 - val_loss: 17.7823 - val_auc: 0.6877\n",
      "Epoch 257/500\n",
      "4/4 - 0s - loss: 10.2004 - auc: 0.7947 - val_loss: 20.6753 - val_auc: 0.6476\n",
      "Epoch 258/500\n",
      "4/4 - 0s - loss: 12.7164 - auc: 0.7734 - val_loss: 26.9511 - val_auc: 0.6142\n",
      "Epoch 259/500\n",
      "4/4 - 0s - loss: 16.8244 - auc: 0.7284 - val_loss: 17.7023 - val_auc: 0.7196\n",
      "Epoch 260/500\n",
      "4/4 - 0s - loss: 21.8208 - auc: 0.7596 - val_loss: 17.9162 - val_auc: 0.7981\n",
      "Epoch 261/500\n",
      "4/4 - 0s - loss: 22.6890 - auc: 0.7057 - val_loss: 38.8375 - val_auc: 0.7187\n",
      "Epoch 262/500\n",
      "4/4 - 0s - loss: 25.2666 - auc: 0.7431 - val_loss: 18.8783 - val_auc: 0.7075\n",
      "Epoch 263/500\n",
      "4/4 - 0s - loss: 12.3619 - auc: 0.7948 - val_loss: 13.5785 - val_auc: 0.7556\n",
      "Epoch 264/500\n"
     ]
    },
    {
     "name": "stdout",
     "output_type": "stream",
     "text": [
      "4/4 - 0s - loss: 12.9146 - auc: 0.7784 - val_loss: 18.4873 - val_auc: 0.6820\n",
      "Epoch 265/500\n",
      "4/4 - 0s - loss: 12.4883 - auc: 0.7658 - val_loss: 28.3722 - val_auc: 0.6686\n",
      "Epoch 266/500\n",
      "4/4 - 0s - loss: 16.3253 - auc: 0.7577 - val_loss: 30.2262 - val_auc: 0.6652\n",
      "Epoch 267/500\n",
      "4/4 - 0s - loss: 29.6605 - auc: 0.7084 - val_loss: 17.8164 - val_auc: 0.8153\n",
      "Epoch 268/500\n",
      "4/4 - 0s - loss: 18.0982 - auc: 0.7561 - val_loss: 30.5929 - val_auc: 0.7433\n",
      "Epoch 269/500\n",
      "4/4 - 0s - loss: 25.8407 - auc: 0.7151 - val_loss: 25.6469 - val_auc: 0.6917\n",
      "Epoch 270/500\n",
      "4/4 - 0s - loss: 21.4619 - auc: 0.7710 - val_loss: 28.5947 - val_auc: 0.6686\n",
      "Epoch 271/500\n",
      "4/4 - 0s - loss: 21.7990 - auc: 0.7161 - val_loss: 41.6376 - val_auc: 0.7246\n",
      "Epoch 272/500\n",
      "4/4 - 0s - loss: 28.2284 - auc: 0.7309 - val_loss: 19.3432 - val_auc: 0.7098\n",
      "Epoch 273/500\n",
      "4/4 - 0s - loss: 16.9202 - auc: 0.7819 - val_loss: 17.4987 - val_auc: 0.7242\n",
      "Epoch 274/500\n",
      "4/4 - 0s - loss: 10.0020 - auc: 0.8082 - val_loss: 22.7781 - val_auc: 0.6563\n",
      "Epoch 275/500\n",
      "4/4 - 0s - loss: 12.2244 - auc: 0.7615 - val_loss: 12.7424 - val_auc: 0.7604\n",
      "Epoch 276/500\n",
      "4/4 - 0s - loss: 8.4683 - auc: 0.8101 - val_loss: 12.4826 - val_auc: 0.7300\n",
      "Epoch 277/500\n",
      "4/4 - 0s - loss: 6.9311 - auc: 0.8047 - val_loss: 30.8455 - val_auc: 0.7613\n",
      "Epoch 278/500\n",
      "4/4 - 0s - loss: 21.0643 - auc: 0.7455 - val_loss: 13.6308 - val_auc: 0.8039\n",
      "Epoch 279/500\n",
      "4/4 - 0s - loss: 14.5703 - auc: 0.7982 - val_loss: 17.0341 - val_auc: 0.7328\n",
      "Epoch 280/500\n",
      "4/4 - 0s - loss: 13.6227 - auc: 0.7583 - val_loss: 16.1578 - val_auc: 0.7920\n",
      "Epoch 281/500\n",
      "4/4 - 0s - loss: 7.9506 - auc: 0.8230 - val_loss: 19.3560 - val_auc: 0.7670\n",
      "Epoch 282/500\n",
      "4/4 - 0s - loss: 9.0400 - auc: 0.7804 - val_loss: 28.3120 - val_auc: 0.7486\n",
      "Epoch 283/500\n",
      "4/4 - 0s - loss: 31.1168 - auc: 0.6960 - val_loss: 32.3559 - val_auc: 0.6536\n",
      "Epoch 284/500\n",
      "4/4 - 0s - loss: 31.1088 - auc: 0.7240 - val_loss: 40.4954 - val_auc: 0.6541\n",
      "Epoch 285/500\n",
      "4/4 - 0s - loss: 28.5381 - auc: 0.7251 - val_loss: 28.3623 - val_auc: 0.7363\n",
      "Epoch 286/500\n",
      "4/4 - 0s - loss: 17.9362 - auc: 0.7508 - val_loss: 15.8370 - val_auc: 0.7801\n",
      "Epoch 287/500\n",
      "4/4 - 0s - loss: 12.4631 - auc: 0.7797 - val_loss: 14.7352 - val_auc: 0.6930\n",
      "Epoch 288/500\n",
      "4/4 - 0s - loss: 13.0705 - auc: 0.7642 - val_loss: 26.0486 - val_auc: 0.6298\n",
      "Epoch 289/500\n",
      "4/4 - 0s - loss: 20.2821 - auc: 0.7487 - val_loss: 21.8846 - val_auc: 0.6900\n",
      "Epoch 290/500\n",
      "4/4 - 0s - loss: 22.7171 - auc: 0.7135 - val_loss: 49.7669 - val_auc: 0.6972\n",
      "Epoch 291/500\n",
      "4/4 - 0s - loss: 40.0940 - auc: 0.7068 - val_loss: 38.6648 - val_auc: 0.5978\n",
      "Epoch 292/500\n",
      "4/4 - 0s - loss: 38.4432 - auc: 0.7240 - val_loss: 12.9066 - val_auc: 0.7518\n",
      "Epoch 293/500\n",
      "4/4 - 0s - loss: 19.3276 - auc: 0.7071 - val_loss: 32.9757 - val_auc: 0.7510\n",
      "Epoch 294/500\n",
      "4/4 - 0s - loss: 19.4556 - auc: 0.7745 - val_loss: 13.6624 - val_auc: 0.7479\n",
      "Epoch 295/500\n",
      "4/4 - 0s - loss: 6.7249 - auc: 0.8349 - val_loss: 12.2953 - val_auc: 0.7636\n",
      "Epoch 296/500\n",
      "4/4 - 0s - loss: 4.9730 - auc: 0.8386 - val_loss: 11.5512 - val_auc: 0.7384\n",
      "Epoch 297/500\n",
      "4/4 - 0s - loss: 6.4346 - auc: 0.7965 - val_loss: 18.9569 - val_auc: 0.7732\n",
      "Epoch 298/500\n",
      "4/4 - 0s - loss: 12.7665 - auc: 0.7745 - val_loss: 18.6185 - val_auc: 0.7768\n",
      "Epoch 299/500\n",
      "4/4 - 0s - loss: 12.7495 - auc: 0.7546 - val_loss: 29.3232 - val_auc: 0.7340\n",
      "Epoch 300/500\n",
      "4/4 - 0s - loss: 20.7490 - auc: 0.7140 - val_loss: 20.2210 - val_auc: 0.6969\n",
      "Epoch 301/500\n",
      "4/4 - 0s - loss: 16.2850 - auc: 0.7606 - val_loss: 33.1566 - val_auc: 0.6604\n",
      "Epoch 302/500\n",
      "4/4 - 0s - loss: 20.8909 - auc: 0.7590 - val_loss: 19.6896 - val_auc: 0.7747\n",
      "Epoch 303/500\n",
      "4/4 - 0s - loss: 47.6656 - auc: 0.6303 - val_loss: 18.2606 - val_auc: 0.7397\n",
      "Epoch 304/500\n",
      "4/4 - 0s - loss: 41.5870 - auc: 0.7228 - val_loss: 34.3651 - val_auc: 0.6371\n",
      "Epoch 305/500\n",
      "4/4 - 0s - loss: 42.9830 - auc: 0.6501 - val_loss: 38.5158 - val_auc: 0.7291\n",
      "Epoch 306/500\n",
      "4/4 - 0s - loss: 27.3746 - auc: 0.7649 - val_loss: 52.9389 - val_auc: 0.5895\n",
      "Epoch 307/500\n",
      "4/4 - 0s - loss: 36.7816 - auc: 0.6835 - val_loss: 36.6979 - val_auc: 0.7313\n",
      "Epoch 308/500\n",
      "4/4 - 0s - loss: 24.3615 - auc: 0.7583 - val_loss: 16.6466 - val_auc: 0.7423\n",
      "Epoch 309/500\n",
      "4/4 - 0s - loss: 14.8849 - auc: 0.7889 - val_loss: 18.6399 - val_auc: 0.6885\n",
      "Epoch 310/500\n",
      "4/4 - 0s - loss: 9.1132 - auc: 0.7801 - val_loss: 16.0033 - val_auc: 0.8047\n",
      "Epoch 311/500\n",
      "4/4 - 0s - loss: 6.7598 - auc: 0.8178 - val_loss: 10.6487 - val_auc: 0.7655\n",
      "Epoch 312/500\n",
      "4/4 - 0s - loss: 5.7867 - auc: 0.7947 - val_loss: 11.2094 - val_auc: 0.8112\n",
      "Epoch 313/500\n",
      "4/4 - 0s - loss: 7.5238 - auc: 0.8015 - val_loss: 12.6840 - val_auc: 0.7993\n",
      "Epoch 314/500\n",
      "4/4 - 0s - loss: 5.1340 - auc: 0.8402 - val_loss: 12.9910 - val_auc: 0.7867\n",
      "Epoch 315/500\n",
      "4/4 - 0s - loss: 5.9766 - auc: 0.8161 - val_loss: 13.1021 - val_auc: 0.6993\n",
      "Epoch 316/500\n",
      "4/4 - 0s - loss: 5.9424 - auc: 0.8023 - val_loss: 12.9676 - val_auc: 0.7275\n",
      "Epoch 317/500\n",
      "4/4 - 0s - loss: 9.1680 - auc: 0.7779 - val_loss: 21.9769 - val_auc: 0.6575\n",
      "Epoch 318/500\n",
      "4/4 - 0s - loss: 13.5131 - auc: 0.7776 - val_loss: 27.1064 - val_auc: 0.6538\n",
      "Epoch 319/500\n",
      "4/4 - 0s - loss: 20.8887 - auc: 0.7296 - val_loss: 19.3700 - val_auc: 0.7676\n",
      "Epoch 320/500\n",
      "4/4 - 0s - loss: 13.7322 - auc: 0.7578 - val_loss: 22.0613 - val_auc: 0.7393\n",
      "Epoch 321/500\n",
      "4/4 - 0s - loss: 13.7058 - auc: 0.7614 - val_loss: 12.9677 - val_auc: 0.7738\n",
      "Epoch 322/500\n",
      "4/4 - 0s - loss: 12.5613 - auc: 0.7965 - val_loss: 23.8996 - val_auc: 0.6507\n",
      "Epoch 323/500\n",
      "4/4 - 0s - loss: 15.0803 - auc: 0.7856 - val_loss: 40.1248 - val_auc: 0.5807\n",
      "Epoch 324/500\n",
      "4/4 - 0s - loss: 37.3168 - auc: 0.6446 - val_loss: 56.0272 - val_auc: 0.6802\n",
      "Epoch 325/500\n",
      "4/4 - 0s - loss: 38.2631 - auc: 0.7266 - val_loss: 43.2866 - val_auc: 0.6047\n",
      "Epoch 326/500\n",
      "4/4 - 0s - loss: 24.3229 - auc: 0.7359 - val_loss: 25.4271 - val_auc: 0.7448\n",
      "Epoch 327/500\n",
      "4/4 - 0s - loss: 13.8518 - auc: 0.7649 - val_loss: 27.1150 - val_auc: 0.7423\n",
      "Epoch 328/500\n",
      "4/4 - 0s - loss: 20.8731 - auc: 0.7502 - val_loss: 21.6099 - val_auc: 0.6837\n",
      "Epoch 329/500\n",
      "4/4 - 0s - loss: 16.2784 - auc: 0.7596 - val_loss: 21.8533 - val_auc: 0.6802\n",
      "Epoch 330/500\n",
      "4/4 - 0s - loss: 12.5001 - auc: 0.7858 - val_loss: 14.4848 - val_auc: 0.7271\n",
      "Epoch 331/500\n",
      "4/4 - 0s - loss: 6.7415 - auc: 0.8226 - val_loss: 16.5011 - val_auc: 0.7226\n",
      "Epoch 332/500\n",
      "4/4 - 0s - loss: 14.2182 - auc: 0.7672 - val_loss: 12.1393 - val_auc: 0.7894\n",
      "Epoch 333/500\n",
      "4/4 - 0s - loss: 9.5411 - auc: 0.7964 - val_loss: 23.0592 - val_auc: 0.7652\n",
      "Epoch 334/500\n",
      "4/4 - 0s - loss: 16.9164 - auc: 0.7337 - val_loss: 32.5545 - val_auc: 0.7351\n",
      "Epoch 335/500\n",
      "4/4 - 0s - loss: 22.2277 - auc: 0.7528 - val_loss: 26.1033 - val_auc: 0.6650\n",
      "Epoch 336/500\n",
      "4/4 - 0s - loss: 16.1824 - auc: 0.7677 - val_loss: 22.6829 - val_auc: 0.6761\n",
      "Epoch 337/500\n",
      "4/4 - 0s - loss: 18.1499 - auc: 0.7330 - val_loss: 25.1463 - val_auc: 0.7583\n",
      "Epoch 338/500\n",
      "4/4 - 0s - loss: 12.0336 - auc: 0.7938 - val_loss: 22.1681 - val_auc: 0.7673\n",
      "Epoch 339/500\n",
      "4/4 - 0s - loss: 8.6071 - auc: 0.8124 - val_loss: 16.5084 - val_auc: 0.7802\n",
      "Epoch 340/500\n",
      "4/4 - 0s - loss: 6.5890 - auc: 0.8074 - val_loss: 10.7450 - val_auc: 0.7753\n",
      "Epoch 341/500\n",
      "4/4 - 0s - loss: 3.7744 - auc: 0.8462 - val_loss: 15.3550 - val_auc: 0.8022\n",
      "Epoch 342/500\n",
      "4/4 - 0s - loss: 10.5244 - auc: 0.7863 - val_loss: 11.7146 - val_auc: 0.7693\n",
      "Epoch 343/500\n",
      "4/4 - 0s - loss: 7.8581 - auc: 0.8187 - val_loss: 12.0727 - val_auc: 0.7791\n",
      "Epoch 344/500\n",
      "4/4 - 0s - loss: 4.6578 - auc: 0.8421 - val_loss: 11.3551 - val_auc: 0.8062\n",
      "Epoch 345/500\n",
      "4/4 - 0s - loss: 4.1707 - auc: 0.8455 - val_loss: 11.3300 - val_auc: 0.7326\n",
      "Epoch 346/500\n",
      "4/4 - 0s - loss: 7.9275 - auc: 0.7977 - val_loss: 20.9179 - val_auc: 0.6621\n",
      "Epoch 347/500\n",
      "4/4 - 0s - loss: 14.1556 - auc: 0.7657 - val_loss: 23.9309 - val_auc: 0.6619\n",
      "Epoch 348/500\n",
      "4/4 - 0s - loss: 22.0587 - auc: 0.7113 - val_loss: 24.7541 - val_auc: 0.7485\n",
      "Epoch 349/500\n",
      "4/4 - 0s - loss: 15.2705 - auc: 0.7494 - val_loss: 14.9230 - val_auc: 0.7978\n",
      "Epoch 350/500\n",
      "4/4 - 0s - loss: 13.9328 - auc: 0.7896 - val_loss: 16.2720 - val_auc: 0.7217\n",
      "Epoch 351/500\n",
      "4/4 - 0s - loss: 9.1490 - auc: 0.8037 - val_loss: 12.1340 - val_auc: 0.7766\n",
      "Epoch 352/500\n",
      "4/4 - 0s - loss: 6.6058 - auc: 0.8039 - val_loss: 9.6862 - val_auc: 0.8079\n",
      "Epoch 353/500\n",
      "4/4 - 0s - loss: 14.1229 - auc: 0.7469 - val_loss: 12.6565 - val_auc: 0.7631\n",
      "Epoch 354/500\n",
      "4/4 - 0s - loss: 22.3716 - auc: 0.7450 - val_loss: 43.0586 - val_auc: 0.5961\n"
     ]
    },
    {
     "name": "stdout",
     "output_type": "stream",
     "text": [
      "Epoch 355/500\n",
      "4/4 - 0s - loss: 25.8146 - auc: 0.7077 - val_loss: 50.1162 - val_auc: 0.7042\n",
      "Epoch 356/500\n",
      "4/4 - 0s - loss: 29.9073 - auc: 0.7115 - val_loss: 19.7074 - val_auc: 0.6836\n",
      "Epoch 357/500\n",
      "4/4 - 0s - loss: 14.4266 - auc: 0.7868 - val_loss: 20.4215 - val_auc: 0.6914\n",
      "Epoch 358/500\n",
      "4/4 - 0s - loss: 12.1460 - auc: 0.7671 - val_loss: 17.9227 - val_auc: 0.7733\n",
      "Epoch 359/500\n",
      "4/4 - 0s - loss: 15.4261 - auc: 0.7341 - val_loss: 30.0621 - val_auc: 0.7478\n",
      "Epoch 360/500\n",
      "4/4 - 0s - loss: 16.8764 - auc: 0.7803 - val_loss: 18.6032 - val_auc: 0.7041\n",
      "Epoch 361/500\n",
      "4/4 - 0s - loss: 10.0119 - auc: 0.8076 - val_loss: 18.8069 - val_auc: 0.6733\n",
      "Epoch 362/500\n",
      "4/4 - 0s - loss: 15.8566 - auc: 0.7305 - val_loss: 28.0919 - val_auc: 0.7626\n",
      "Epoch 363/500\n",
      "4/4 - 0s - loss: 13.8221 - auc: 0.7671 - val_loss: 13.1936 - val_auc: 0.8127\n",
      "Epoch 364/500\n",
      "4/4 - 0s - loss: 12.8534 - auc: 0.7914 - val_loss: 12.4264 - val_auc: 0.7694\n",
      "Epoch 365/500\n",
      "4/4 - 0s - loss: 11.8336 - auc: 0.7983 - val_loss: 19.6278 - val_auc: 0.6954\n",
      "Epoch 366/500\n",
      "4/4 - 0s - loss: 10.3350 - auc: 0.8036 - val_loss: 16.1178 - val_auc: 0.7153\n",
      "Epoch 367/500\n",
      "4/4 - 0s - loss: 9.5564 - auc: 0.7976 - val_loss: 16.0168 - val_auc: 0.7241\n",
      "Epoch 368/500\n",
      "4/4 - 0s - loss: 10.1675 - auc: 0.7937 - val_loss: 14.8931 - val_auc: 0.7288\n",
      "Epoch 369/500\n",
      "4/4 - 0s - loss: 9.3264 - auc: 0.8055 - val_loss: 11.9293 - val_auc: 0.7407\n",
      "Epoch 370/500\n",
      "4/4 - 0s - loss: 8.5180 - auc: 0.8095 - val_loss: 15.0129 - val_auc: 0.7225\n",
      "Epoch 371/500\n",
      "4/4 - 0s - loss: 8.6766 - auc: 0.8030 - val_loss: 20.7107 - val_auc: 0.6632\n",
      "Epoch 372/500\n",
      "4/4 - 0s - loss: 15.6597 - auc: 0.7395 - val_loss: 11.5348 - val_auc: 0.7955\n",
      "Epoch 373/500\n",
      "4/4 - 0s - loss: 7.2581 - auc: 0.8282 - val_loss: 12.0210 - val_auc: 0.8169\n",
      "Epoch 374/500\n",
      "4/4 - 0s - loss: 9.7521 - auc: 0.7737 - val_loss: 33.3248 - val_auc: 0.7323\n",
      "Epoch 375/500\n",
      "4/4 - 0s - loss: 20.0766 - auc: 0.7081 - val_loss: 17.4726 - val_auc: 0.7064\n",
      "Epoch 376/500\n",
      "4/4 - 0s - loss: 17.7944 - auc: 0.7762 - val_loss: 23.2548 - val_auc: 0.6893\n",
      "Epoch 377/500\n",
      "4/4 - 0s - loss: 15.2218 - auc: 0.7552 - val_loss: 22.3963 - val_auc: 0.7742\n",
      "Epoch 378/500\n",
      "4/4 - 0s - loss: 12.4355 - auc: 0.7788 - val_loss: 14.6025 - val_auc: 0.8111\n",
      "Epoch 379/500\n",
      "4/4 - 0s - loss: 6.5205 - auc: 0.8199 - val_loss: 11.2517 - val_auc: 0.7794\n",
      "Epoch 380/500\n",
      "4/4 - 0s - loss: 7.0725 - auc: 0.8256 - val_loss: 11.2990 - val_auc: 0.7589\n",
      "Epoch 381/500\n",
      "4/4 - 0s - loss: 7.5351 - auc: 0.8192 - val_loss: 11.5606 - val_auc: 0.7509\n",
      "Epoch 382/500\n",
      "4/4 - 0s - loss: 7.5664 - auc: 0.8228 - val_loss: 11.7849 - val_auc: 0.7492\n",
      "Epoch 383/500\n",
      "4/4 - 0s - loss: 8.8499 - auc: 0.8056 - val_loss: 22.2682 - val_auc: 0.6450\n",
      "Epoch 384/500\n",
      "4/4 - 0s - loss: 13.1458 - auc: 0.7674 - val_loss: 23.6593 - val_auc: 0.6762\n",
      "Epoch 385/500\n",
      "4/4 - 0s - loss: 19.0573 - auc: 0.7159 - val_loss: 25.2988 - val_auc: 0.7605\n",
      "Epoch 386/500\n",
      "4/4 - 0s - loss: 16.5989 - auc: 0.7671 - val_loss: 16.1854 - val_auc: 0.8044\n",
      "Epoch 387/500\n",
      "4/4 - 0s - loss: 12.1918 - auc: 0.7847 - val_loss: 13.8015 - val_auc: 0.7376\n",
      "Epoch 388/500\n",
      "4/4 - 0s - loss: 9.2721 - auc: 0.8228 - val_loss: 15.8471 - val_auc: 0.7349\n",
      "Epoch 389/500\n",
      "4/4 - 0s - loss: 9.1583 - auc: 0.8083 - val_loss: 10.3255 - val_auc: 0.7673\n",
      "Epoch 390/500\n",
      "4/4 - 0s - loss: 10.9561 - auc: 0.7883 - val_loss: 13.9042 - val_auc: 0.8028\n",
      "Epoch 391/500\n",
      "4/4 - 0s - loss: 12.0049 - auc: 0.7655 - val_loss: 24.4602 - val_auc: 0.7635\n",
      "Epoch 392/500\n",
      "4/4 - 0s - loss: 15.4737 - auc: 0.7626 - val_loss: 15.8187 - val_auc: 0.7316\n",
      "Epoch 393/500\n",
      "4/4 - 0s - loss: 12.4893 - auc: 0.8047 - val_loss: 18.9174 - val_auc: 0.6914\n",
      "Epoch 394/500\n",
      "4/4 - 0s - loss: 7.7161 - auc: 0.8109 - val_loss: 12.5648 - val_auc: 0.7388\n",
      "Epoch 395/500\n",
      "4/4 - 0s - loss: 4.9735 - auc: 0.8454 - val_loss: 9.6586 - val_auc: 0.7596\n",
      "Epoch 396/500\n",
      "4/4 - 0s - loss: 3.7667 - auc: 0.8446 - val_loss: 11.9826 - val_auc: 0.7384\n",
      "Epoch 397/500\n",
      "4/4 - 0s - loss: 5.9254 - auc: 0.8269 - val_loss: 14.6815 - val_auc: 0.7355\n",
      "Epoch 398/500\n",
      "4/4 - 0s - loss: 9.0569 - auc: 0.8026 - val_loss: 14.0768 - val_auc: 0.7200\n",
      "Epoch 399/500\n",
      "4/4 - 0s - loss: 8.2391 - auc: 0.8055 - val_loss: 19.3286 - val_auc: 0.6434\n",
      "Epoch 400/500\n",
      "4/4 - 0s - loss: 17.3154 - auc: 0.7092 - val_loss: 16.4729 - val_auc: 0.8154\n",
      "Epoch 401/500\n",
      "4/4 - 0s - loss: 11.0041 - auc: 0.7743 - val_loss: 23.5876 - val_auc: 0.7587\n",
      "Epoch 402/500\n",
      "4/4 - 0s - loss: 14.5263 - auc: 0.7486 - val_loss: 13.1224 - val_auc: 0.8237\n",
      "Epoch 403/500\n",
      "4/4 - 0s - loss: 5.6951 - auc: 0.8533 - val_loss: 12.3192 - val_auc: 0.7762\n",
      "Epoch 404/500\n",
      "4/4 - 0s - loss: 5.4636 - auc: 0.8361 - val_loss: 15.3823 - val_auc: 0.7773\n",
      "Epoch 405/500\n",
      "4/4 - 0s - loss: 7.2890 - auc: 0.8091 - val_loss: 12.9731 - val_auc: 0.8185\n",
      "Epoch 406/500\n",
      "4/4 - 0s - loss: 6.3138 - auc: 0.8412 - val_loss: 11.8297 - val_auc: 0.8015\n",
      "Epoch 407/500\n",
      "4/4 - 0s - loss: 8.9938 - auc: 0.8138 - val_loss: 10.8410 - val_auc: 0.7736\n",
      "Epoch 408/500\n",
      "4/4 - 0s - loss: 11.2489 - auc: 0.7814 - val_loss: 21.7017 - val_auc: 0.6367\n",
      "Epoch 409/500\n",
      "4/4 - 0s - loss: 17.0235 - auc: 0.7544 - val_loss: 33.3541 - val_auc: 0.5852\n",
      "Epoch 410/500\n",
      "4/4 - 0s - loss: 26.8447 - auc: 0.6515 - val_loss: 46.3947 - val_auc: 0.7046\n",
      "Epoch 411/500\n",
      "4/4 - 0s - loss: 36.9824 - auc: 0.7056 - val_loss: 52.8657 - val_auc: 0.5850\n",
      "Epoch 412/500\n",
      "4/4 - 0s - loss: 32.7911 - auc: 0.7131 - val_loss: 41.0665 - val_auc: 0.7195\n",
      "Epoch 413/500\n",
      "4/4 - 0s - loss: 22.2613 - auc: 0.7413 - val_loss: 18.0682 - val_auc: 0.7068\n",
      "Epoch 414/500\n",
      "4/4 - 0s - loss: 12.6871 - auc: 0.8000 - val_loss: 18.2722 - val_auc: 0.6915\n",
      "Epoch 415/500\n",
      "4/4 - 0s - loss: 13.8919 - auc: 0.7622 - val_loss: 18.4574 - val_auc: 0.7872\n",
      "Epoch 416/500\n",
      "4/4 - 0s - loss: 9.5680 - auc: 0.8124 - val_loss: 20.6037 - val_auc: 0.7751\n",
      "Epoch 417/500\n",
      "4/4 - 0s - loss: 11.8926 - auc: 0.7789 - val_loss: 11.5368 - val_auc: 0.7546\n",
      "Epoch 418/500\n",
      "4/4 - 0s - loss: 14.4760 - auc: 0.7736 - val_loss: 31.9627 - val_auc: 0.5882\n",
      "Epoch 419/500\n",
      "4/4 - 0s - loss: 18.2845 - auc: 0.7455 - val_loss: 21.2194 - val_auc: 0.7752\n",
      "Epoch 420/500\n",
      "4/4 - 0s - loss: 17.6161 - auc: 0.7592 - val_loss: 14.2134 - val_auc: 0.7894\n",
      "Epoch 421/500\n",
      "4/4 - 0s - loss: 15.3301 - auc: 0.7849 - val_loss: 25.7727 - val_auc: 0.6088\n",
      "Epoch 422/500\n",
      "4/4 - 0s - loss: 17.7045 - auc: 0.7350 - val_loss: 12.9131 - val_auc: 0.7421\n",
      "Epoch 423/500\n",
      "4/4 - 0s - loss: 11.0575 - auc: 0.7870 - val_loss: 21.6786 - val_auc: 0.7716\n",
      "Epoch 424/500\n",
      "4/4 - 0s - loss: 10.2863 - auc: 0.7979 - val_loss: 15.3500 - val_auc: 0.7978\n",
      "Epoch 425/500\n",
      "4/4 - 0s - loss: 9.4609 - auc: 0.8011 - val_loss: 12.3839 - val_auc: 0.7661\n",
      "Epoch 426/500\n",
      "4/4 - 0s - loss: 6.5132 - auc: 0.8394 - val_loss: 11.0317 - val_auc: 0.7615\n",
      "Epoch 427/500\n",
      "4/4 - 0s - loss: 4.2057 - auc: 0.8468 - val_loss: 9.7357 - val_auc: 0.8061\n",
      "Epoch 428/500\n",
      "4/4 - 0s - loss: 5.5382 - auc: 0.8364 - val_loss: 9.6818 - val_auc: 0.7987\n",
      "Epoch 429/500\n",
      "4/4 - 0s - loss: 6.4168 - auc: 0.8208 - val_loss: 10.1189 - val_auc: 0.7873\n",
      "Epoch 430/500\n",
      "4/4 - 0s - loss: 8.1000 - auc: 0.8020 - val_loss: 12.4212 - val_auc: 0.8185\n",
      "Epoch 431/500\n",
      "4/4 - 0s - loss: 5.6865 - auc: 0.8445 - val_loss: 12.1015 - val_auc: 0.8291\n",
      "Epoch 432/500\n",
      "4/4 - 0s - loss: 8.3334 - auc: 0.7931 - val_loss: 12.9198 - val_auc: 0.8362\n",
      "Epoch 433/500\n",
      "4/4 - 0s - loss: 4.8713 - auc: 0.8594 - val_loss: 12.8986 - val_auc: 0.8190\n",
      "Epoch 434/500\n",
      "4/4 - 0s - loss: 4.6773 - auc: 0.8368 - val_loss: 8.6708 - val_auc: 0.8203\n",
      "Epoch 435/500\n",
      "4/4 - 0s - loss: 4.0628 - auc: 0.8381 - val_loss: 14.5764 - val_auc: 0.6953\n",
      "Epoch 436/500\n",
      "4/4 - 0s - loss: 6.8687 - auc: 0.8103 - val_loss: 10.0797 - val_auc: 0.7875\n",
      "Epoch 437/500\n",
      "4/4 - 0s - loss: 3.7877 - auc: 0.8611 - val_loss: 7.7793 - val_auc: 0.8034\n",
      "Epoch 438/500\n",
      "4/4 - 0s - loss: 6.8480 - auc: 0.8043 - val_loss: 8.3448 - val_auc: 0.8253\n",
      "Epoch 439/500\n",
      "4/4 - 0s - loss: 5.4301 - auc: 0.8367 - val_loss: 11.3014 - val_auc: 0.8134\n",
      "Epoch 440/500\n",
      "4/4 - 0s - loss: 5.6361 - auc: 0.8279 - val_loss: 9.1845 - val_auc: 0.7661\n",
      "Epoch 441/500\n",
      "4/4 - 0s - loss: 10.8501 - auc: 0.7881 - val_loss: 31.2457 - val_auc: 0.5924\n",
      "Epoch 442/500\n",
      "4/4 - 0s - loss: 19.5346 - auc: 0.7255 - val_loss: 13.5747 - val_auc: 0.7679\n",
      "Epoch 443/500\n",
      "4/4 - 0s - loss: 15.3515 - auc: 0.7635 - val_loss: 26.7966 - val_auc: 0.7403\n",
      "Epoch 444/500\n",
      "4/4 - 0s - loss: 16.9338 - auc: 0.7651 - val_loss: 12.6268 - val_auc: 0.7180\n",
      "Epoch 445/500\n",
      "4/4 - 0s - loss: 13.4074 - auc: 0.7847 - val_loss: 16.2532 - val_auc: 0.7173\n"
     ]
    },
    {
     "name": "stdout",
     "output_type": "stream",
     "text": [
      "Epoch 446/500\n",
      "4/4 - 0s - loss: 9.1256 - auc: 0.8111 - val_loss: 10.4600 - val_auc: 0.7572\n",
      "Epoch 447/500\n",
      "4/4 - 0s - loss: 5.1485 - auc: 0.8350 - val_loss: 14.5837 - val_auc: 0.6736\n",
      "Epoch 448/500\n",
      "4/4 - 0s - loss: 8.4387 - auc: 0.7773 - val_loss: 15.2111 - val_auc: 0.7206\n",
      "Epoch 449/500\n",
      "4/4 - 0s - loss: 11.3181 - auc: 0.7736 - val_loss: 12.2636 - val_auc: 0.8047\n",
      "Epoch 450/500\n",
      "4/4 - 0s - loss: 7.7655 - auc: 0.8005 - val_loss: 19.8328 - val_auc: 0.7622\n",
      "Epoch 451/500\n",
      "4/4 - 0s - loss: 11.4611 - auc: 0.7671 - val_loss: 11.6515 - val_auc: 0.8215\n",
      "Epoch 452/500\n",
      "4/4 - 0s - loss: 4.9167 - auc: 0.8428 - val_loss: 11.4965 - val_auc: 0.8271\n",
      "Epoch 453/500\n",
      "4/4 - 0s - loss: 4.3602 - auc: 0.8386 - val_loss: 11.7202 - val_auc: 0.8035\n",
      "Epoch 454/500\n",
      "4/4 - 0s - loss: 4.6413 - auc: 0.8375 - val_loss: 12.6039 - val_auc: 0.8239\n",
      "Epoch 455/500\n",
      "4/4 - 0s - loss: 8.7468 - auc: 0.8080 - val_loss: 11.5922 - val_auc: 0.8163\n",
      "Epoch 456/500\n",
      "4/4 - 0s - loss: 12.1086 - auc: 0.7542 - val_loss: 21.6437 - val_auc: 0.7713\n",
      "Epoch 457/500\n",
      "4/4 - 0s - loss: 13.6030 - auc: 0.7788 - val_loss: 11.8953 - val_auc: 0.7803\n",
      "Epoch 458/500\n",
      "4/4 - 0s - loss: 13.5502 - auc: 0.7850 - val_loss: 27.8658 - val_auc: 0.5954\n",
      "Epoch 459/500\n",
      "4/4 - 0s - loss: 16.1167 - auc: 0.7551 - val_loss: 14.3892 - val_auc: 0.8138\n",
      "Epoch 460/500\n",
      "4/4 - 0s - loss: 11.0755 - auc: 0.7824 - val_loss: 18.9323 - val_auc: 0.7970\n",
      "Epoch 461/500\n",
      "4/4 - 0s - loss: 12.8293 - auc: 0.8073 - val_loss: 19.6473 - val_auc: 0.7133\n",
      "Epoch 462/500\n",
      "4/4 - 0s - loss: 9.3148 - auc: 0.8242 - val_loss: 14.1346 - val_auc: 0.7259\n",
      "Epoch 463/500\n",
      "4/4 - 0s - loss: 6.9996 - auc: 0.8239 - val_loss: 11.5410 - val_auc: 0.7325\n",
      "Epoch 464/500\n",
      "4/4 - 0s - loss: 5.2643 - auc: 0.8240 - val_loss: 10.9674 - val_auc: 0.8061\n",
      "Epoch 465/500\n",
      "4/4 - 0s - loss: 3.1536 - auc: 0.8680 - val_loss: 10.3305 - val_auc: 0.8211\n",
      "Epoch 466/500\n",
      "4/4 - 0s - loss: 2.4897 - auc: 0.8718 - val_loss: 9.7244 - val_auc: 0.8055\n",
      "Epoch 467/500\n",
      "4/4 - 0s - loss: 4.7436 - auc: 0.8161 - val_loss: 10.5919 - val_auc: 0.7333\n",
      "Epoch 468/500\n",
      "4/4 - 0s - loss: 11.6497 - auc: 0.7634 - val_loss: 27.8126 - val_auc: 0.6313\n",
      "Epoch 469/500\n",
      "4/4 - 0s - loss: 15.6212 - auc: 0.7586 - val_loss: 16.1401 - val_auc: 0.7544\n",
      "Epoch 470/500\n",
      "4/4 - 0s - loss: 11.6798 - auc: 0.7933 - val_loss: 19.3456 - val_auc: 0.7466\n",
      "Epoch 471/500\n",
      "4/4 - 0s - loss: 9.7697 - auc: 0.7649 - val_loss: 19.3079 - val_auc: 0.7534\n",
      "Epoch 472/500\n",
      "4/4 - 0s - loss: 15.0409 - auc: 0.7835 - val_loss: 30.7766 - val_auc: 0.5910\n",
      "Epoch 473/500\n",
      "4/4 - 0s - loss: 19.2903 - auc: 0.7369 - val_loss: 17.4896 - val_auc: 0.7302\n",
      "Epoch 474/500\n",
      "4/4 - 0s - loss: 14.8041 - auc: 0.7682 - val_loss: 24.2770 - val_auc: 0.7597\n",
      "Epoch 475/500\n",
      "4/4 - 0s - loss: 12.6146 - auc: 0.7911 - val_loss: 12.5531 - val_auc: 0.7744\n",
      "Epoch 476/500\n",
      "4/4 - 0s - loss: 10.5820 - auc: 0.8020 - val_loss: 19.1224 - val_auc: 0.6693\n",
      "Epoch 477/500\n",
      "4/4 - 0s - loss: 11.2186 - auc: 0.7872 - val_loss: 12.7047 - val_auc: 0.7422\n",
      "Epoch 478/500\n",
      "4/4 - 0s - loss: 5.0799 - auc: 0.8316 - val_loss: 11.1042 - val_auc: 0.7394\n",
      "Epoch 479/500\n",
      "4/4 - 0s - loss: 7.1386 - auc: 0.8017 - val_loss: 16.0472 - val_auc: 0.6885\n",
      "Epoch 480/500\n",
      "4/4 - 0s - loss: 7.8733 - auc: 0.8098 - val_loss: 10.8828 - val_auc: 0.7517\n",
      "Epoch 481/500\n",
      "4/4 - 0s - loss: 5.4914 - auc: 0.8532 - val_loss: 16.1950 - val_auc: 0.6904\n",
      "Epoch 482/500\n",
      "4/4 - 0s - loss: 9.4618 - auc: 0.7930 - val_loss: 12.8838 - val_auc: 0.7347\n",
      "Epoch 483/500\n",
      "4/4 - 0s - loss: 8.3083 - auc: 0.8088 - val_loss: 10.4506 - val_auc: 0.8261\n",
      "Epoch 484/500\n",
      "4/4 - 0s - loss: 7.1521 - auc: 0.7998 - val_loss: 16.0071 - val_auc: 0.7686\n",
      "Epoch 485/500\n",
      "4/4 - 0s - loss: 10.3219 - auc: 0.7773 - val_loss: 24.0172 - val_auc: 0.7461\n",
      "Epoch 486/500\n",
      "4/4 - 0s - loss: 14.3233 - auc: 0.7674 - val_loss: 22.0730 - val_auc: 0.7066\n",
      "Epoch 487/500\n",
      "4/4 - 0s - loss: 12.7767 - auc: 0.8043 - val_loss: 15.2477 - val_auc: 0.7253\n",
      "Epoch 488/500\n",
      "4/4 - 0s - loss: 11.3283 - auc: 0.7846 - val_loss: 16.8102 - val_auc: 0.7894\n",
      "Epoch 489/500\n",
      "4/4 - 0s - loss: 14.1600 - auc: 0.7522 - val_loss: 13.2668 - val_auc: 0.8141\n",
      "Epoch 490/500\n",
      "4/4 - 0s - loss: 13.3701 - auc: 0.8030 - val_loss: 38.8768 - val_auc: 0.5774\n",
      "Epoch 491/500\n",
      "4/4 - 0s - loss: 25.0611 - auc: 0.6893 - val_loss: 27.4742 - val_auc: 0.7443\n",
      "Epoch 492/500\n",
      "4/4 - 0s - loss: 17.2324 - auc: 0.7610 - val_loss: 13.0016 - val_auc: 0.7787\n",
      "Epoch 493/500\n",
      "4/4 - 0s - loss: 11.8495 - auc: 0.8044 - val_loss: 25.8770 - val_auc: 0.6195\n",
      "Epoch 494/500\n",
      "4/4 - 0s - loss: 13.4765 - auc: 0.7413 - val_loss: 10.2267 - val_auc: 0.7629\n",
      "Epoch 495/500\n",
      "4/4 - 0s - loss: 5.9973 - auc: 0.8307 - val_loss: 10.8791 - val_auc: 0.8022\n",
      "Epoch 496/500\n",
      "4/4 - 0s - loss: 3.7538 - auc: 0.8566 - val_loss: 10.8004 - val_auc: 0.7940\n",
      "Epoch 497/500\n",
      "4/4 - 0s - loss: 7.0171 - auc: 0.8163 - val_loss: 8.8885 - val_auc: 0.8125\n",
      "Epoch 498/500\n",
      "4/4 - 0s - loss: 7.6348 - auc: 0.8023 - val_loss: 14.7961 - val_auc: 0.8063\n",
      "Epoch 499/500\n",
      "4/4 - 0s - loss: 8.3092 - auc: 0.7979 - val_loss: 20.4928 - val_auc: 0.7741\n",
      "Epoch 500/500\n",
      "4/4 - 0s - loss: 12.4345 - auc: 0.7728 - val_loss: 12.6688 - val_auc: 0.7333\n"
     ]
    }
   ],
   "source": [
    "BATCH_SIZE = 500\n",
    "MAX_EPOCHS = 500\n",
    "\n",
    "#patience = 30\n",
    "#early_stopping = tf.keras.callbacks.EarlyStopping(patience = patience) #stops after X consecutive val_loss increases\n",
    "#comment early_stopping and delete callbacks argument to remove this limitation\n",
    "\n",
    "history2 = model2.fit(Xn_train, yn_train, batch_size = BATCH_SIZE, epochs = MAX_EPOCHS, \n",
    "                      validation_data = (Xn_test, yn_test), verbose = 2)  #callbacks = [early_stopping],"
   ]
  },
  {
   "cell_type": "markdown",
   "metadata": {},
   "source": [
    "Graf vyvoje loss na train a valid setu"
   ]
  },
  {
   "cell_type": "code",
   "execution_count": 85,
   "metadata": {},
   "outputs": [
    {
     "data": {
      "text/plain": [
       "<matplotlib.legend.Legend at 0x1f4294361f0>"
      ]
     },
     "execution_count": 85,
     "metadata": {},
     "output_type": "execute_result"
    },
    {
     "data": {
      "image/png": "[encoded data removed]",
      "text/plain": [
       "<Figure size 432x288 with 1 Axes>"
      ]
     },
     "metadata": {
      "needs_background": "light"
     },
     "output_type": "display_data"
    }
   ],
   "source": [
    "plt.plot(history2.history['loss'])\n",
    "plt.plot(history2.history['val_loss'])\n",
    "plt.title('model loss')\n",
    "plt.ylabel('loss')\n",
    "plt.xlabel('epoch')\n",
    "plt.legend(['loss', 'val_loss'], loc='upper left')"
   ]
  },
  {
   "cell_type": "markdown",
   "metadata": {},
   "source": [
    "A nakonec graf vyvoje AUC. Je zadouci, aby byla krivka celkove rostouci."
   ]
  },
  {
   "cell_type": "code",
   "execution_count": 86,
   "metadata": {
    "scrolled": true
   },
   "outputs": [
    {
     "data": {
      "text/plain": [
       "<matplotlib.legend.Legend at 0x1f42947b850>"
      ]
     },
     "execution_count": 86,
     "metadata": {},
     "output_type": "execute_result"
    },
    {
     "data": {
      "image/png": "[encoded data removed]",
      "text/plain": [
       "<Figure size 432x288 with 1 Axes>"
      ]
     },
     "metadata": {
      "needs_background": "light"
     },
     "output_type": "display_data"
    }
   ],
   "source": [
    "plt.plot(history2.history['auc'])\n",
    "plt.plot(history2.history['val_auc'])\n",
    "plt.title('model auc')\n",
    "plt.ylabel('auc')\n",
    "plt.xlabel('epoch')\n",
    "plt.legend(['auc', 'test_auc'], loc='upper left')"
   ]
  },
  {
   "cell_type": "markdown",
   "metadata": {},
   "source": [
    "Nasledujici kod ohodnoti nasi neuronovou sit - vykresli matici omylu pro dane tridy."
   ]
  },
  {
   "cell_type": "code",
   "execution_count": 87,
   "metadata": {},
   "outputs": [],
   "source": [
    "from sklearn.metrics import confusion_matrix\n",
    "def plot_cm(labels, predictions, p=0.5):\n",
    "  cm = confusion_matrix(labels, predictions > p)\n",
    "  plt.figure(figsize=(5,5))\n",
    "  sns.heatmap(cm, annot=True, fmt=\"d\")\n",
    "  plt.title('Confusion matrix @{:.2f}'.format(p))\n",
    "  plt.ylabel('Actual label')\n",
    "  plt.xlabel('Predicted label')\n",
    "\n",
    "  print('No Time Deposit Detected (True Negatives): ', cm[0][0])\n",
    "  print('New Time Deposit Incorrectly Detected (False Positives): ', cm[0][1])\n",
    "  print('New Time Deposit Missed (False Negatives): ', cm[1][0])\n",
    "  print('New Time Deposit Detected (True Positives): ', cm[1][1])\n",
    "  print('Total New Deposits: ', np.sum(cm[1]))"
   ]
  },
  {
   "cell_type": "code",
   "execution_count": 88,
   "metadata": {},
   "outputs": [],
   "source": [
    "y_pred3 = model2.predict(X_test)"
   ]
  },
  {
   "cell_type": "code",
   "execution_count": 89,
   "metadata": {
    "scrolled": false
   },
   "outputs": [
    {
     "name": "stdout",
     "output_type": "stream",
     "text": [
      "No Time Deposit Detected (True Negatives):  933\n",
      "New Time Deposit Incorrectly Detected (False Positives):  55\n",
      "New Time Deposit Missed (False Negatives):  5\n",
      "New Time Deposit Detected (True Positives):  7\n",
      "Total New Deposits:  12\n"
     ]
    },
    {
     "data": {
      "image/png": "[encoded data removed]",
      "text/plain": [
       "<Figure size 360x360 with 2 Axes>"
      ]
     },
     "metadata": {
      "needs_background": "light"
     },
     "output_type": "display_data"
    }
   ],
   "source": [
    "plot_cm(y_test, y_pred3)"
   ]
  },
  {
   "cell_type": "markdown",
   "metadata": {},
   "source": [
    "## Zaver\n",
    "\n",
    "Zatimco nas Voting Classifier dokazal v ramci cross-validation dosahnout AUC skore nad 97, neuronova sit predikuje vyrazne mnozstvi falesne pozitivnich. To je pravdepodobne dano tim, ze se lide pro otevreni noveho terminovaneho vkladu rozhoduji na zaklade jeste jinych skutecnosti, nez dat, na kterych jsme vytrenovali nas model a RFC modeluje proces rozhodovani lepe."
   ]
  },
  {
   "cell_type": "markdown",
   "metadata": {},
   "source": [
    "Na zaver provedeme jeste jednoduchy RFC"
   ]
  },
  {
   "cell_type": "code",
   "execution_count": 90,
   "metadata": {},
   "outputs": [],
   "source": [
    "voting_clf_soft.fit(Xn_train, yn_train)\n",
    "\n",
    "ypredv = voting_clf_soft.predict(X_test)"
   ]
  },
  {
   "cell_type": "code",
   "execution_count": 91,
   "metadata": {},
   "outputs": [
    {
     "name": "stdout",
     "output_type": "stream",
     "text": [
      "No Time Deposit Detected (True Negatives):  978\n",
      "New Time Deposit Incorrectly Detected (False Positives):  10\n",
      "New Time Deposit Missed (False Negatives):  1\n",
      "New Time Deposit Detected (True Positives):  11\n",
      "Total New Deposits:  12\n"
     ]
    },
    {
     "data": {
      "image/png": "[encoded data removed]",
      "text/plain": [
       "<Figure size 360x360 with 2 Axes>"
      ]
     },
     "metadata": {
      "needs_background": "light"
     },
     "output_type": "display_data"
    }
   ],
   "source": [
    "plot_cm(y_test, ypredv)"
   ]
  },
  {
   "cell_type": "markdown",
   "metadata": {},
   "source": [
    "O dost lepsi conf matrix pro voting soft classifier. Pojdme jeste zkusit GridSearchCV na jednoduchem RFC"
   ]
  },
  {
   "cell_type": "code",
   "execution_count": 92,
   "metadata": {},
   "outputs": [
    {
     "data": {
      "text/plain": [
       "GridSearchCV(cv=5, estimator=RandomForestClassifier(random_state=42),\n",
       "             param_grid=[{'max_features': [2, 4, 6, 8],\n",
       "                          'n_estimators': [3, 10, 30]},\n",
       "                         {'bootstrap': [False], 'max_features': [2, 3, 4],\n",
       "                          'n_estimators': [3, 10]}],\n",
       "             return_train_score=True, scoring='roc_auc')"
      ]
     },
     "execution_count": 92,
     "metadata": {},
     "output_type": "execute_result"
    }
   ],
   "source": [
    "from sklearn.model_selection import GridSearchCV\n",
    "\n",
    "param_grid = [\n",
    "    # try 12 (3×4) combinations of hyperparameters\n",
    "    {'n_estimators': [3, 10, 30], 'max_features': [2, 4, 6, 8]},\n",
    "    # then try 6 (2×3) combinations with bootstrap set as False\n",
    "    {'bootstrap': [False], 'n_estimators': [3, 10], 'max_features': [2, 3, 4]},\n",
    "  ]\n",
    "# train across 5 folds, that's a total of (12+6)*5=90 rounds of training \n",
    "les2 = RandomForestClassifier(random_state = 42) #we need a new one, which hasn't seen the training data yet\n",
    "grid_search = GridSearchCV(les2, param_grid, cv=5,\n",
    "                           scoring='roc_auc',\n",
    "                           return_train_score=True)\n",
    "grid_search.fit(Xn_train, yn_train)"
   ]
  },
  {
   "cell_type": "code",
   "execution_count": 93,
   "metadata": {},
   "outputs": [
    {
     "data": {
      "text/html": [
       "<div>\n",
       "<style scoped>\n",
       "    .dataframe tbody tr th:only-of-type {\n",
       "        vertical-align: middle;\n",
       "    }\n",
       "\n",
       "    .dataframe tbody tr th {\n",
       "        vertical-align: top;\n",
       "    }\n",
       "\n",
       "    .dataframe thead th {\n",
       "        text-align: right;\n",
       "    }\n",
       "</style>\n",
       "<table border=\"1\" class=\"dataframe\">\n",
       "  <thead>\n",
       "    <tr style=\"text-align: right;\">\n",
       "      <th></th>\n",
       "      <th>mean_fit_time</th>\n",
       "      <th>std_fit_time</th>\n",
       "      <th>mean_score_time</th>\n",
       "      <th>std_score_time</th>\n",
       "      <th>param_max_features</th>\n",
       "      <th>param_n_estimators</th>\n",
       "      <th>param_bootstrap</th>\n",
       "      <th>params</th>\n",
       "      <th>split0_test_score</th>\n",
       "      <th>split1_test_score</th>\n",
       "      <th>...</th>\n",
       "      <th>mean_test_score</th>\n",
       "      <th>std_test_score</th>\n",
       "      <th>rank_test_score</th>\n",
       "      <th>split0_train_score</th>\n",
       "      <th>split1_train_score</th>\n",
       "      <th>split2_train_score</th>\n",
       "      <th>split3_train_score</th>\n",
       "      <th>split4_train_score</th>\n",
       "      <th>mean_train_score</th>\n",
       "      <th>std_train_score</th>\n",
       "    </tr>\n",
       "  </thead>\n",
       "  <tbody>\n",
       "    <tr>\n",
       "      <th>0</th>\n",
       "      <td>0.015428</td>\n",
       "      <td>0.003949</td>\n",
       "      <td>0.003200</td>\n",
       "      <td>0.003920</td>\n",
       "      <td>2</td>\n",
       "      <td>3</td>\n",
       "      <td>NaN</td>\n",
       "      <td>{'max_features': 2, 'n_estimators': 3}</td>\n",
       "      <td>0.940223</td>\n",
       "      <td>0.926276</td>\n",
       "      <td>...</td>\n",
       "      <td>0.927922</td>\n",
       "      <td>0.008179</td>\n",
       "      <td>18</td>\n",
       "      <td>0.995650</td>\n",
       "      <td>0.995610</td>\n",
       "      <td>0.996631</td>\n",
       "      <td>0.997783</td>\n",
       "      <td>0.995701</td>\n",
       "      <td>0.996275</td>\n",
       "      <td>8.442645e-04</td>\n",
       "    </tr>\n",
       "    <tr>\n",
       "      <th>1</th>\n",
       "      <td>0.041699</td>\n",
       "      <td>0.003150</td>\n",
       "      <td>0.004799</td>\n",
       "      <td>0.003918</td>\n",
       "      <td>2</td>\n",
       "      <td>10</td>\n",
       "      <td>NaN</td>\n",
       "      <td>{'max_features': 2, 'n_estimators': 10}</td>\n",
       "      <td>0.978130</td>\n",
       "      <td>0.978913</td>\n",
       "      <td>...</td>\n",
       "      <td>0.970721</td>\n",
       "      <td>0.007502</td>\n",
       "      <td>10</td>\n",
       "      <td>0.999943</td>\n",
       "      <td>0.999993</td>\n",
       "      <td>0.999986</td>\n",
       "      <td>0.999995</td>\n",
       "      <td>0.999996</td>\n",
       "      <td>0.999983</td>\n",
       "      <td>1.999796e-05</td>\n",
       "    </tr>\n",
       "    <tr>\n",
       "      <th>2</th>\n",
       "      <td>0.118335</td>\n",
       "      <td>0.009144</td>\n",
       "      <td>0.016681</td>\n",
       "      <td>0.001566</td>\n",
       "      <td>2</td>\n",
       "      <td>30</td>\n",
       "      <td>NaN</td>\n",
       "      <td>{'max_features': 2, 'n_estimators': 30}</td>\n",
       "      <td>0.987984</td>\n",
       "      <td>0.982803</td>\n",
       "      <td>...</td>\n",
       "      <td>0.980165</td>\n",
       "      <td>0.006027</td>\n",
       "      <td>3</td>\n",
       "      <td>1.000000</td>\n",
       "      <td>1.000000</td>\n",
       "      <td>1.000000</td>\n",
       "      <td>1.000000</td>\n",
       "      <td>1.000000</td>\n",
       "      <td>1.000000</td>\n",
       "      <td>0.000000e+00</td>\n",
       "    </tr>\n",
       "    <tr>\n",
       "      <th>3</th>\n",
       "      <td>0.016949</td>\n",
       "      <td>0.001342</td>\n",
       "      <td>0.004811</td>\n",
       "      <td>0.003928</td>\n",
       "      <td>4</td>\n",
       "      <td>3</td>\n",
       "      <td>NaN</td>\n",
       "      <td>{'max_features': 4, 'n_estimators': 3}</td>\n",
       "      <td>0.919470</td>\n",
       "      <td>0.943300</td>\n",
       "      <td>...</td>\n",
       "      <td>0.934683</td>\n",
       "      <td>0.011185</td>\n",
       "      <td>17</td>\n",
       "      <td>0.994390</td>\n",
       "      <td>0.996259</td>\n",
       "      <td>0.994305</td>\n",
       "      <td>0.995149</td>\n",
       "      <td>0.997267</td>\n",
       "      <td>0.995474</td>\n",
       "      <td>1.138236e-03</td>\n",
       "    </tr>\n",
       "    <tr>\n",
       "      <th>4</th>\n",
       "      <td>0.038967</td>\n",
       "      <td>0.007090</td>\n",
       "      <td>0.003124</td>\n",
       "      <td>0.006248</td>\n",
       "      <td>4</td>\n",
       "      <td>10</td>\n",
       "      <td>NaN</td>\n",
       "      <td>{'max_features': 4, 'n_estimators': 10}</td>\n",
       "      <td>0.974052</td>\n",
       "      <td>0.974182</td>\n",
       "      <td>...</td>\n",
       "      <td>0.970214</td>\n",
       "      <td>0.007802</td>\n",
       "      <td>11</td>\n",
       "      <td>0.999995</td>\n",
       "      <td>0.999993</td>\n",
       "      <td>0.999985</td>\n",
       "      <td>0.999997</td>\n",
       "      <td>0.999995</td>\n",
       "      <td>0.999993</td>\n",
       "      <td>4.006879e-06</td>\n",
       "    </tr>\n",
       "    <tr>\n",
       "      <th>5</th>\n",
       "      <td>0.129339</td>\n",
       "      <td>0.005797</td>\n",
       "      <td>0.012648</td>\n",
       "      <td>0.006326</td>\n",
       "      <td>4</td>\n",
       "      <td>30</td>\n",
       "      <td>NaN</td>\n",
       "      <td>{'max_features': 4, 'n_estimators': 30}</td>\n",
       "      <td>0.983296</td>\n",
       "      <td>0.982890</td>\n",
       "      <td>...</td>\n",
       "      <td>0.978607</td>\n",
       "      <td>0.006869</td>\n",
       "      <td>4</td>\n",
       "      <td>1.000000</td>\n",
       "      <td>1.000000</td>\n",
       "      <td>1.000000</td>\n",
       "      <td>1.000000</td>\n",
       "      <td>1.000000</td>\n",
       "      <td>1.000000</td>\n",
       "      <td>0.000000e+00</td>\n",
       "    </tr>\n",
       "    <tr>\n",
       "      <th>6</th>\n",
       "      <td>0.017465</td>\n",
       "      <td>0.003327</td>\n",
       "      <td>0.012792</td>\n",
       "      <td>0.006420</td>\n",
       "      <td>6</td>\n",
       "      <td>3</td>\n",
       "      <td>NaN</td>\n",
       "      <td>{'max_features': 6, 'n_estimators': 3}</td>\n",
       "      <td>0.931225</td>\n",
       "      <td>0.945143</td>\n",
       "      <td>...</td>\n",
       "      <td>0.941702</td>\n",
       "      <td>0.008676</td>\n",
       "      <td>15</td>\n",
       "      <td>0.997031</td>\n",
       "      <td>0.997849</td>\n",
       "      <td>0.995664</td>\n",
       "      <td>0.995846</td>\n",
       "      <td>0.995444</td>\n",
       "      <td>0.996367</td>\n",
       "      <td>9.225652e-04</td>\n",
       "    </tr>\n",
       "    <tr>\n",
       "      <th>7</th>\n",
       "      <td>0.053437</td>\n",
       "      <td>0.007656</td>\n",
       "      <td>0.009376</td>\n",
       "      <td>0.007656</td>\n",
       "      <td>6</td>\n",
       "      <td>10</td>\n",
       "      <td>NaN</td>\n",
       "      <td>{'max_features': 6, 'n_estimators': 10}</td>\n",
       "      <td>0.986765</td>\n",
       "      <td>0.977477</td>\n",
       "      <td>...</td>\n",
       "      <td>0.975365</td>\n",
       "      <td>0.007817</td>\n",
       "      <td>5</td>\n",
       "      <td>0.999985</td>\n",
       "      <td>0.999996</td>\n",
       "      <td>0.999985</td>\n",
       "      <td>0.999976</td>\n",
       "      <td>0.999970</td>\n",
       "      <td>0.999983</td>\n",
       "      <td>8.934101e-06</td>\n",
       "    </tr>\n",
       "    <tr>\n",
       "      <th>8</th>\n",
       "      <td>0.144236</td>\n",
       "      <td>0.012505</td>\n",
       "      <td>0.006284</td>\n",
       "      <td>0.007697</td>\n",
       "      <td>6</td>\n",
       "      <td>30</td>\n",
       "      <td>NaN</td>\n",
       "      <td>{'max_features': 6, 'n_estimators': 30}</td>\n",
       "      <td>0.988390</td>\n",
       "      <td>0.984617</td>\n",
       "      <td>...</td>\n",
       "      <td>0.980643</td>\n",
       "      <td>0.005828</td>\n",
       "      <td>1</td>\n",
       "      <td>1.000000</td>\n",
       "      <td>1.000000</td>\n",
       "      <td>1.000000</td>\n",
       "      <td>1.000000</td>\n",
       "      <td>1.000000</td>\n",
       "      <td>1.000000</td>\n",
       "      <td>4.965068e-17</td>\n",
       "    </tr>\n",
       "    <tr>\n",
       "      <th>9</th>\n",
       "      <td>0.022050</td>\n",
       "      <td>0.007695</td>\n",
       "      <td>0.006463</td>\n",
       "      <td>0.007497</td>\n",
       "      <td>8</td>\n",
       "      <td>3</td>\n",
       "      <td>NaN</td>\n",
       "      <td>{'max_features': 8, 'n_estimators': 3}</td>\n",
       "      <td>0.937219</td>\n",
       "      <td>0.937582</td>\n",
       "      <td>...</td>\n",
       "      <td>0.940452</td>\n",
       "      <td>0.008773</td>\n",
       "      <td>16</td>\n",
       "      <td>0.995862</td>\n",
       "      <td>0.995528</td>\n",
       "      <td>0.997492</td>\n",
       "      <td>0.994848</td>\n",
       "      <td>0.996149</td>\n",
       "      <td>0.995976</td>\n",
       "      <td>8.736021e-04</td>\n",
       "    </tr>\n",
       "    <tr>\n",
       "      <th>10</th>\n",
       "      <td>0.058335</td>\n",
       "      <td>0.005821</td>\n",
       "      <td>0.011110</td>\n",
       "      <td>0.006337</td>\n",
       "      <td>8</td>\n",
       "      <td>10</td>\n",
       "      <td>NaN</td>\n",
       "      <td>{'max_features': 8, 'n_estimators': 10}</td>\n",
       "      <td>0.977404</td>\n",
       "      <td>0.980785</td>\n",
       "      <td>...</td>\n",
       "      <td>0.974080</td>\n",
       "      <td>0.005345</td>\n",
       "      <td>8</td>\n",
       "      <td>0.999953</td>\n",
       "      <td>0.999985</td>\n",
       "      <td>0.999941</td>\n",
       "      <td>0.999885</td>\n",
       "      <td>0.999938</td>\n",
       "      <td>0.999940</td>\n",
       "      <td>3.227196e-05</td>\n",
       "    </tr>\n",
       "    <tr>\n",
       "      <th>11</th>\n",
       "      <td>0.161794</td>\n",
       "      <td>0.012079</td>\n",
       "      <td>0.006373</td>\n",
       "      <td>0.007807</td>\n",
       "      <td>8</td>\n",
       "      <td>30</td>\n",
       "      <td>NaN</td>\n",
       "      <td>{'max_features': 8, 'n_estimators': 30}</td>\n",
       "      <td>0.984791</td>\n",
       "      <td>0.984457</td>\n",
       "      <td>...</td>\n",
       "      <td>0.980397</td>\n",
       "      <td>0.004832</td>\n",
       "      <td>2</td>\n",
       "      <td>1.000000</td>\n",
       "      <td>1.000000</td>\n",
       "      <td>1.000000</td>\n",
       "      <td>1.000000</td>\n",
       "      <td>1.000000</td>\n",
       "      <td>1.000000</td>\n",
       "      <td>4.965068e-17</td>\n",
       "    </tr>\n",
       "    <tr>\n",
       "      <th>12</th>\n",
       "      <td>0.018752</td>\n",
       "      <td>0.006281</td>\n",
       "      <td>0.000000</td>\n",
       "      <td>0.000000</td>\n",
       "      <td>2</td>\n",
       "      <td>3</td>\n",
       "      <td>False</td>\n",
       "      <td>{'bootstrap': False, 'max_features': 2, 'n_est...</td>\n",
       "      <td>0.946637</td>\n",
       "      <td>0.958030</td>\n",
       "      <td>...</td>\n",
       "      <td>0.942213</td>\n",
       "      <td>0.010507</td>\n",
       "      <td>14</td>\n",
       "      <td>1.000000</td>\n",
       "      <td>1.000000</td>\n",
       "      <td>1.000000</td>\n",
       "      <td>1.000000</td>\n",
       "      <td>1.000000</td>\n",
       "      <td>1.000000</td>\n",
       "      <td>0.000000e+00</td>\n",
       "    </tr>\n",
       "    <tr>\n",
       "      <th>13</th>\n",
       "      <td>0.043731</td>\n",
       "      <td>0.006270</td>\n",
       "      <td>0.003125</td>\n",
       "      <td>0.006250</td>\n",
       "      <td>2</td>\n",
       "      <td>10</td>\n",
       "      <td>False</td>\n",
       "      <td>{'bootstrap': False, 'max_features': 2, 'n_est...</td>\n",
       "      <td>0.979566</td>\n",
       "      <td>0.983993</td>\n",
       "      <td>...</td>\n",
       "      <td>0.975209</td>\n",
       "      <td>0.008689</td>\n",
       "      <td>6</td>\n",
       "      <td>1.000000</td>\n",
       "      <td>1.000000</td>\n",
       "      <td>1.000000</td>\n",
       "      <td>1.000000</td>\n",
       "      <td>1.000000</td>\n",
       "      <td>1.000000</td>\n",
       "      <td>0.000000e+00</td>\n",
       "    </tr>\n",
       "    <tr>\n",
       "      <th>14</th>\n",
       "      <td>0.015626</td>\n",
       "      <td>0.000016</td>\n",
       "      <td>0.000000</td>\n",
       "      <td>0.000000</td>\n",
       "      <td>3</td>\n",
       "      <td>3</td>\n",
       "      <td>False</td>\n",
       "      <td>{'bootstrap': False, 'max_features': 3, 'n_est...</td>\n",
       "      <td>0.957101</td>\n",
       "      <td>0.957319</td>\n",
       "      <td>...</td>\n",
       "      <td>0.944552</td>\n",
       "      <td>0.010498</td>\n",
       "      <td>13</td>\n",
       "      <td>1.000000</td>\n",
       "      <td>1.000000</td>\n",
       "      <td>1.000000</td>\n",
       "      <td>1.000000</td>\n",
       "      <td>1.000000</td>\n",
       "      <td>1.000000</td>\n",
       "      <td>0.000000e+00</td>\n",
       "    </tr>\n",
       "    <tr>\n",
       "      <th>15</th>\n",
       "      <td>0.044215</td>\n",
       "      <td>0.006290</td>\n",
       "      <td>0.006330</td>\n",
       "      <td>0.005869</td>\n",
       "      <td>3</td>\n",
       "      <td>10</td>\n",
       "      <td>False</td>\n",
       "      <td>{'bootstrap': False, 'max_features': 3, 'n_est...</td>\n",
       "      <td>0.990015</td>\n",
       "      <td>0.982672</td>\n",
       "      <td>...</td>\n",
       "      <td>0.973787</td>\n",
       "      <td>0.011120</td>\n",
       "      <td>9</td>\n",
       "      <td>1.000000</td>\n",
       "      <td>1.000000</td>\n",
       "      <td>1.000000</td>\n",
       "      <td>1.000000</td>\n",
       "      <td>1.000000</td>\n",
       "      <td>1.000000</td>\n",
       "      <td>0.000000e+00</td>\n",
       "    </tr>\n",
       "    <tr>\n",
       "      <th>16</th>\n",
       "      <td>0.019208</td>\n",
       "      <td>0.003928</td>\n",
       "      <td>0.001613</td>\n",
       "      <td>0.003226</td>\n",
       "      <td>4</td>\n",
       "      <td>3</td>\n",
       "      <td>False</td>\n",
       "      <td>{'bootstrap': False, 'max_features': 4, 'n_est...</td>\n",
       "      <td>0.944794</td>\n",
       "      <td>0.957652</td>\n",
       "      <td>...</td>\n",
       "      <td>0.945592</td>\n",
       "      <td>0.010933</td>\n",
       "      <td>12</td>\n",
       "      <td>1.000000</td>\n",
       "      <td>1.000000</td>\n",
       "      <td>1.000000</td>\n",
       "      <td>1.000000</td>\n",
       "      <td>1.000000</td>\n",
       "      <td>1.000000</td>\n",
       "      <td>0.000000e+00</td>\n",
       "    </tr>\n",
       "    <tr>\n",
       "      <th>17</th>\n",
       "      <td>0.051744</td>\n",
       "      <td>0.006240</td>\n",
       "      <td>0.009636</td>\n",
       "      <td>0.007882</td>\n",
       "      <td>4</td>\n",
       "      <td>10</td>\n",
       "      <td>False</td>\n",
       "      <td>{'bootstrap': False, 'max_features': 4, 'n_est...</td>\n",
       "      <td>0.983267</td>\n",
       "      <td>0.979276</td>\n",
       "      <td>...</td>\n",
       "      <td>0.974761</td>\n",
       "      <td>0.010645</td>\n",
       "      <td>7</td>\n",
       "      <td>1.000000</td>\n",
       "      <td>1.000000</td>\n",
       "      <td>1.000000</td>\n",
       "      <td>1.000000</td>\n",
       "      <td>1.000000</td>\n",
       "      <td>1.000000</td>\n",
       "      <td>0.000000e+00</td>\n",
       "    </tr>\n",
       "  </tbody>\n",
       "</table>\n",
       "<p>18 rows × 23 columns</p>\n",
       "</div>"
      ],
      "text/plain": [
       "    mean_fit_time  std_fit_time  mean_score_time  std_score_time  \\\n",
       "0        0.015428      0.003949         0.003200        0.003920   \n",
       "1        0.041699      0.003150         0.004799        0.003918   \n",
       "2        0.118335      0.009144         0.016681        0.001566   \n",
       "3        0.016949      0.001342         0.004811        0.003928   \n",
       "4        0.038967      0.007090         0.003124        0.006248   \n",
       "5        0.129339      0.005797         0.012648        0.006326   \n",
       "6        0.017465      0.003327         0.012792        0.006420   \n",
       "7        0.053437      0.007656         0.009376        0.007656   \n",
       "8        0.144236      0.012505         0.006284        0.007697   \n",
       "9        0.022050      0.007695         0.006463        0.007497   \n",
       "10       0.058335      0.005821         0.011110        0.006337   \n",
       "11       0.161794      0.012079         0.006373        0.007807   \n",
       "12       0.018752      0.006281         0.000000        0.000000   \n",
       "13       0.043731      0.006270         0.003125        0.006250   \n",
       "14       0.015626      0.000016         0.000000        0.000000   \n",
       "15       0.044215      0.006290         0.006330        0.005869   \n",
       "16       0.019208      0.003928         0.001613        0.003226   \n",
       "17       0.051744      0.006240         0.009636        0.007882   \n",
       "\n",
       "   param_max_features param_n_estimators param_bootstrap  \\\n",
       "0                   2                  3             NaN   \n",
       "1                   2                 10             NaN   \n",
       "2                   2                 30             NaN   \n",
       "3                   4                  3             NaN   \n",
       "4                   4                 10             NaN   \n",
       "5                   4                 30             NaN   \n",
       "6                   6                  3             NaN   \n",
       "7                   6                 10             NaN   \n",
       "8                   6                 30             NaN   \n",
       "9                   8                  3             NaN   \n",
       "10                  8                 10             NaN   \n",
       "11                  8                 30             NaN   \n",
       "12                  2                  3           False   \n",
       "13                  2                 10           False   \n",
       "14                  3                  3           False   \n",
       "15                  3                 10           False   \n",
       "16                  4                  3           False   \n",
       "17                  4                 10           False   \n",
       "\n",
       "                                               params  split0_test_score  \\\n",
       "0              {'max_features': 2, 'n_estimators': 3}           0.940223   \n",
       "1             {'max_features': 2, 'n_estimators': 10}           0.978130   \n",
       "2             {'max_features': 2, 'n_estimators': 30}           0.987984   \n",
       "3              {'max_features': 4, 'n_estimators': 3}           0.919470   \n",
       "4             {'max_features': 4, 'n_estimators': 10}           0.974052   \n",
       "5             {'max_features': 4, 'n_estimators': 30}           0.983296   \n",
       "6              {'max_features': 6, 'n_estimators': 3}           0.931225   \n",
       "7             {'max_features': 6, 'n_estimators': 10}           0.986765   \n",
       "8             {'max_features': 6, 'n_estimators': 30}           0.988390   \n",
       "9              {'max_features': 8, 'n_estimators': 3}           0.937219   \n",
       "10            {'max_features': 8, 'n_estimators': 10}           0.977404   \n",
       "11            {'max_features': 8, 'n_estimators': 30}           0.984791   \n",
       "12  {'bootstrap': False, 'max_features': 2, 'n_est...           0.946637   \n",
       "13  {'bootstrap': False, 'max_features': 2, 'n_est...           0.979566   \n",
       "14  {'bootstrap': False, 'max_features': 3, 'n_est...           0.957101   \n",
       "15  {'bootstrap': False, 'max_features': 3, 'n_est...           0.990015   \n",
       "16  {'bootstrap': False, 'max_features': 4, 'n_est...           0.944794   \n",
       "17  {'bootstrap': False, 'max_features': 4, 'n_est...           0.983267   \n",
       "\n",
       "    split1_test_score  ...  mean_test_score  std_test_score  rank_test_score  \\\n",
       "0            0.926276  ...         0.927922        0.008179               18   \n",
       "1            0.978913  ...         0.970721        0.007502               10   \n",
       "2            0.982803  ...         0.980165        0.006027                3   \n",
       "3            0.943300  ...         0.934683        0.011185               17   \n",
       "4            0.974182  ...         0.970214        0.007802               11   \n",
       "5            0.982890  ...         0.978607        0.006869                4   \n",
       "6            0.945143  ...         0.941702        0.008676               15   \n",
       "7            0.977477  ...         0.975365        0.007817                5   \n",
       "8            0.984617  ...         0.980643        0.005828                1   \n",
       "9            0.937582  ...         0.940452        0.008773               16   \n",
       "10           0.980785  ...         0.974080        0.005345                8   \n",
       "11           0.984457  ...         0.980397        0.004832                2   \n",
       "12           0.958030  ...         0.942213        0.010507               14   \n",
       "13           0.983993  ...         0.975209        0.008689                6   \n",
       "14           0.957319  ...         0.944552        0.010498               13   \n",
       "15           0.982672  ...         0.973787        0.011120                9   \n",
       "16           0.957652  ...         0.945592        0.010933               12   \n",
       "17           0.979276  ...         0.974761        0.010645                7   \n",
       "\n",
       "    split0_train_score  split1_train_score  split2_train_score  \\\n",
       "0             0.995650            0.995610            0.996631   \n",
       "1             0.999943            0.999993            0.999986   \n",
       "2             1.000000            1.000000            1.000000   \n",
       "3             0.994390            0.996259            0.994305   \n",
       "4             0.999995            0.999993            0.999985   \n",
       "5             1.000000            1.000000            1.000000   \n",
       "6             0.997031            0.997849            0.995664   \n",
       "7             0.999985            0.999996            0.999985   \n",
       "8             1.000000            1.000000            1.000000   \n",
       "9             0.995862            0.995528            0.997492   \n",
       "10            0.999953            0.999985            0.999941   \n",
       "11            1.000000            1.000000            1.000000   \n",
       "12            1.000000            1.000000            1.000000   \n",
       "13            1.000000            1.000000            1.000000   \n",
       "14            1.000000            1.000000            1.000000   \n",
       "15            1.000000            1.000000            1.000000   \n",
       "16            1.000000            1.000000            1.000000   \n",
       "17            1.000000            1.000000            1.000000   \n",
       "\n",
       "    split3_train_score  split4_train_score  mean_train_score  std_train_score  \n",
       "0             0.997783            0.995701          0.996275     8.442645e-04  \n",
       "1             0.999995            0.999996          0.999983     1.999796e-05  \n",
       "2             1.000000            1.000000          1.000000     0.000000e+00  \n",
       "3             0.995149            0.997267          0.995474     1.138236e-03  \n",
       "4             0.999997            0.999995          0.999993     4.006879e-06  \n",
       "5             1.000000            1.000000          1.000000     0.000000e+00  \n",
       "6             0.995846            0.995444          0.996367     9.225652e-04  \n",
       "7             0.999976            0.999970          0.999983     8.934101e-06  \n",
       "8             1.000000            1.000000          1.000000     4.965068e-17  \n",
       "9             0.994848            0.996149          0.995976     8.736021e-04  \n",
       "10            0.999885            0.999938          0.999940     3.227196e-05  \n",
       "11            1.000000            1.000000          1.000000     4.965068e-17  \n",
       "12            1.000000            1.000000          1.000000     0.000000e+00  \n",
       "13            1.000000            1.000000          1.000000     0.000000e+00  \n",
       "14            1.000000            1.000000          1.000000     0.000000e+00  \n",
       "15            1.000000            1.000000          1.000000     0.000000e+00  \n",
       "16            1.000000            1.000000          1.000000     0.000000e+00  \n",
       "17            1.000000            1.000000          1.000000     0.000000e+00  \n",
       "\n",
       "[18 rows x 23 columns]"
      ]
     },
     "execution_count": 93,
     "metadata": {},
     "output_type": "execute_result"
    }
   ],
   "source": [
    "pd.DataFrame(grid_search.cv_results_)"
   ]
  },
  {
   "cell_type": "code",
   "execution_count": 94,
   "metadata": {},
   "outputs": [
    {
     "name": "stdout",
     "output_type": "stream",
     "text": [
      "0.9279216282442118 {'max_features': 2, 'n_estimators': 3}\n",
      "0.9707212146807299 {'max_features': 2, 'n_estimators': 10}\n",
      "0.9801649173265888 {'max_features': 2, 'n_estimators': 30}\n",
      "0.9346833906622072 {'max_features': 4, 'n_estimators': 3}\n",
      "0.9702140342535456 {'max_features': 4, 'n_estimators': 10}\n",
      "0.978607445829979 {'max_features': 4, 'n_estimators': 30}\n",
      "0.941701619466478 {'max_features': 6, 'n_estimators': 3}\n",
      "0.9753647859758875 {'max_features': 6, 'n_estimators': 10}\n",
      "0.980642849776421 {'max_features': 6, 'n_estimators': 30}\n",
      "0.940451594135604 {'max_features': 8, 'n_estimators': 3}\n",
      "0.9740804989867737 {'max_features': 8, 'n_estimators': 10}\n",
      "0.9803966582232693 {'max_features': 8, 'n_estimators': 30}\n",
      "0.9422131466631276 {'bootstrap': False, 'max_features': 2, 'n_estimators': 3}\n",
      "0.975209322327494 {'bootstrap': False, 'max_features': 2, 'n_estimators': 10}\n",
      "0.9445524750807687 {'bootstrap': False, 'max_features': 3, 'n_estimators': 3}\n",
      "0.9737867472582451 {'bootstrap': False, 'max_features': 3, 'n_estimators': 10}\n",
      "0.9455921557309243 {'bootstrap': False, 'max_features': 4, 'n_estimators': 3}\n",
      "0.9747613045960015 {'bootstrap': False, 'max_features': 4, 'n_estimators': 10}\n"
     ]
    }
   ],
   "source": [
    "cvres = grid_search.cv_results_\n",
    "for mean_score, params in zip(cvres[\"mean_test_score\"], cvres[\"params\"]):\n",
    "    print(mean_score, params)"
   ]
  },
  {
   "cell_type": "markdown",
   "metadata": {},
   "source": [
    "Nakonec nejlepsi skore v ramci GridSearchCV ma Random Forest Classifier s argumenty max_features = 8 a n_estimators = 30. Pojdme ho fitnout."
   ]
  },
  {
   "cell_type": "code",
   "execution_count": 95,
   "metadata": {},
   "outputs": [
    {
     "data": {
      "text/plain": [
       "0.9322289156626505"
      ]
     },
     "execution_count": 95,
     "metadata": {},
     "output_type": "execute_result"
    }
   ],
   "source": [
    "les2 = RandomForestClassifier(random_state = 42, max_features = 8, n_estimators = 30)\n",
    "les2.fit(Xn_train, yn_train)\n",
    "ypred_final = les2.predict(Xn_test)\n",
    "\n",
    "from sklearn.metrics import roc_auc_score as ras\n",
    "\n",
    "ras(yn_test, ypred_final)"
   ]
  },
  {
   "cell_type": "code",
   "execution_count": 96,
   "metadata": {},
   "outputs": [
    {
     "name": "stdout",
     "output_type": "stream",
     "text": [
      "No Time Deposit Detected (True Negatives):  657\n",
      "New Time Deposit Incorrectly Detected (False Positives):  7\n",
      "New Time Deposit Missed (False Negatives):  42\n",
      "New Time Deposit Detected (True Positives):  294\n",
      "Total New Deposits:  336\n"
     ]
    },
    {
     "data": {
      "image/png": "[encoded data removed]",
      "text/plain": [
       "<Figure size 360x360 with 2 Axes>"
      ]
     },
     "metadata": {
      "needs_background": "light"
     },
     "output_type": "display_data"
    }
   ],
   "source": [
    "plot_cm(yn_test, ypred_final)"
   ]
  },
  {
   "cell_type": "markdown",
   "metadata": {},
   "source": [
    "A jeste test na puvodnich test datech"
   ]
  },
  {
   "cell_type": "code",
   "execution_count": 97,
   "metadata": {},
   "outputs": [
    {
     "data": {
      "text/plain": [
       "0.9542847503373818"
      ]
     },
     "execution_count": 97,
     "metadata": {},
     "output_type": "execute_result"
    }
   ],
   "source": [
    "ypred_final2 = les2.predict(X_test)\n",
    "ras(y_test, ypred_final2)"
   ]
  },
  {
   "cell_type": "code",
   "execution_count": 98,
   "metadata": {},
   "outputs": [
    {
     "name": "stdout",
     "output_type": "stream",
     "text": [
      "No Time Deposit Detected (True Negatives):  980\n",
      "New Time Deposit Incorrectly Detected (False Positives):  8\n",
      "New Time Deposit Missed (False Negatives):  1\n",
      "New Time Deposit Detected (True Positives):  11\n",
      "Total New Deposits:  12\n"
     ]
    },
    {
     "data": {
      "image/png": "[encoded data removed]",
      "text/plain": [
       "<Figure size 360x360 with 2 Axes>"
      ]
     },
     "metadata": {
      "needs_background": "light"
     },
     "output_type": "display_data"
    }
   ],
   "source": [
    "plot_cm(y_test, ypred_final2)"
   ]
  },
  {
   "cell_type": "markdown",
   "metadata": {},
   "source": [
    "To je hezka matice!"
   ]
  },
  {
   "cell_type": "code",
   "execution_count": 101,
   "metadata": {},
   "outputs": [
    {
     "name": "stdout",
     "output_type": "stream",
     "text": [
      "Feature ranking:\n",
      "1. feature 6 (0.157100) Credit_Cards_Flag\n",
      "2. feature 7 (0.076997) Saving_Current_Balance\n",
      "3. feature 23 (0.063179) Age\n",
      "4. feature 2 (0.060049) Total_Income\n",
      "5. feature 29 (0.047665) Employees\n",
      "6. feature 3 (0.043350) Payroll_Flag\n",
      "7. feature 17 (0.042244) Transfer_Trans_Amount\n",
      "8. feature 25 (0.042003) Married\n",
      "9. feature 22 (0.041577) Arrears_Months_Max\n",
      "10. feature 1 (0.040390) Children_Num\n",
      "11. feature 26 (0.036529) Single\n",
      "12. feature 8 (0.034774) Investment_Products_Balance\n",
      "13. feature 34 (0.034742) Total_transactions\n",
      "14. feature 15 (0.030335) Withdrawl_Trans_Amount\n",
      "15. feature 0 (0.030090) Gender\n",
      "16. feature 13 (0.029741) Credit_Cards_Balance\n",
      "17. feature 12 (0.026271) Consumer_Loans_Balance\n",
      "18. feature 14 (0.023601) Deposit_Trans_Amount\n",
      "19. feature 28 (0.020781) Business-Owners\n",
      "20. feature 16 (0.012616) Payment_Trans_Amount\n",
      "21. feature 9 (0.012130) Insurance_Balances\n",
      "22. feature 18 (0.012039) Credit_Cards_Installments\n",
      "23. feature 20 (0.011962) Credit_Cards_Purchases_Amount\n",
      "24. feature 30 (0.010231) Rentiers\n",
      "25. feature 11 (0.009233) Housing_Loans_Balance\n",
      "26. feature 5 (0.008387) Saving_Current_Accounts_Flag\n",
      "27. feature 19 (0.007837) Credit_Cards_Payments_Amount\n",
      "28. feature 31 (0.006596) Retirees\n",
      "29. feature 4 (0.006192) Business_Flag\n",
      "30. feature 24 (0.005673) Divorced\n",
      "31. feature 33 (0.004424) Unemployeed\n",
      "32. feature 10 (0.003442) Business_Loans_Balance\n",
      "33. feature 21 (0.003391) Credit_Cards_Witrhdrawals_Amount\n",
      "34. feature 32 (0.002358) Self-Employees\n",
      "35. feature 27 (0.002071) Widow\n"
     ]
    }
   ],
   "source": [
    "from pylab import rcParams\n",
    "from matplotlib import rc\n",
    "%matplotlib inline\n",
    "%config InlineBackend.figure_format='retina'\n",
    "sns.set(style='whitegrid', palette='muted', font_scale=1.5)\n",
    "rcParams['figure.figsize'] = 16, 10\n",
    "\n",
    "importances = les2.feature_importances_\n",
    "std = np.std([tree.feature_importances_ for tree in les2.estimators_], axis=0)\n",
    "indices = np.argsort(importances)[::-1]\n",
    "\n",
    "print(\"Feature ranking:\")\n",
    "\n",
    "for f in range(len(Xn_train.columns)):\n",
    "    print(\"%d. feature %d (%f)\" % (f + 1, indices[f], importances[indices[f]]), Xn_train.columns[indices[f]])\n",
    "    \n"
   ]
  },
  {
   "cell_type": "code",
   "execution_count": null,
   "metadata": {},
   "outputs": [],
   "source": []
  }
 ],
 "metadata": {
  "kernelspec": {
   "display_name": "Python 3",
   "language": "python",
   "name": "python3"
  },
  "language_info": {
   "codemirror_mode": {
    "name": "ipython",
    "version": 3
   },
   "file_extension": ".py",
   "mimetype": "text/x-python",
   "name": "python",
   "nbconvert_exporter": "python",
   "pygments_lexer": "ipython3",
   "version": "3.8.5"
  }
 },
 "nbformat": 4,
 "nbformat_minor": 4
}
