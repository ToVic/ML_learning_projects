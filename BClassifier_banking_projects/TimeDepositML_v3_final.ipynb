{
 "cells": [
  {
   "cell_type": "markdown",
   "metadata": {},
   "source": [
    "# Reseni projektu TimeDeposit_10K"
   ]
  },
  {
   "cell_type": "markdown",
   "metadata": {},
   "source": [
    "## Nahrani a prehled o datech\n",
    "Zakladni knihovny a prvni pohled na data, import pomoci pandas, kontrola poctu zaznamu, formatu, NaN "
   ]
  },
  {
   "cell_type": "code",
   "execution_count": 1,
   "metadata": {},
   "outputs": [
    {
     "data": {
      "text/html": [
       "<div>\n",
       "<style scoped>\n",
       "    .dataframe tbody tr th:only-of-type {\n",
       "        vertical-align: middle;\n",
       "    }\n",
       "\n",
       "    .dataframe tbody tr th {\n",
       "        vertical-align: top;\n",
       "    }\n",
       "\n",
       "    .dataframe thead th {\n",
       "        text-align: right;\n",
       "    }\n",
       "</style>\n",
       "<table border=\"1\" class=\"dataframe\">\n",
       "  <thead>\n",
       "    <tr style=\"text-align: right;\">\n",
       "      <th></th>\n",
       "      <th>Customer_ID</th>\n",
       "      <th>Gender</th>\n",
       "      <th>Birth_Date</th>\n",
       "      <th>Ref_Date</th>\n",
       "      <th>Marital_Status</th>\n",
       "      <th>Children_Num</th>\n",
       "      <th>Occupation_Category</th>\n",
       "      <th>Total_Income</th>\n",
       "      <th>Payroll_Flag</th>\n",
       "      <th>Business_Flag</th>\n",
       "      <th>...</th>\n",
       "      <th>Transfer_Trans_Amount</th>\n",
       "      <th>Credit_Cards_Installments</th>\n",
       "      <th>Credit_Cards_Payments_Num</th>\n",
       "      <th>Credit_Cards_Purchases_Num</th>\n",
       "      <th>Credit_Cards_Witrhdrawals_Num</th>\n",
       "      <th>Credit_Cards_Payments_Amount</th>\n",
       "      <th>Credit_Cards_Purchases_Amount</th>\n",
       "      <th>Credit_Cards_Witrhdrawals_Amount</th>\n",
       "      <th>Arrears_Months_Max</th>\n",
       "      <th>Time_Deposits_Flag</th>\n",
       "    </tr>\n",
       "  </thead>\n",
       "  <tbody>\n",
       "    <tr>\n",
       "      <th>0</th>\n",
       "      <td>5904453.0</td>\n",
       "      <td>Male</td>\n",
       "      <td>1960-10-17</td>\n",
       "      <td>2008-12-31</td>\n",
       "      <td>Married</td>\n",
       "      <td>2.0</td>\n",
       "      <td>Rentiers</td>\n",
       "      <td>14000.0</td>\n",
       "      <td>0.0</td>\n",
       "      <td>0.0</td>\n",
       "      <td>...</td>\n",
       "      <td>0.0</td>\n",
       "      <td>0.000000</td>\n",
       "      <td>0.0</td>\n",
       "      <td>0.0</td>\n",
       "      <td>0.0</td>\n",
       "      <td>0.000000</td>\n",
       "      <td>0.00</td>\n",
       "      <td>0.0</td>\n",
       "      <td>1.0</td>\n",
       "      <td>F</td>\n",
       "    </tr>\n",
       "    <tr>\n",
       "      <th>1</th>\n",
       "      <td>5904524.0</td>\n",
       "      <td>Male</td>\n",
       "      <td>1972-02-22</td>\n",
       "      <td>2008-12-31</td>\n",
       "      <td>Divorced</td>\n",
       "      <td>0.0</td>\n",
       "      <td>Employees</td>\n",
       "      <td>17577.0</td>\n",
       "      <td>0.0</td>\n",
       "      <td>0.0</td>\n",
       "      <td>...</td>\n",
       "      <td>0.0</td>\n",
       "      <td>0.000000</td>\n",
       "      <td>0.0</td>\n",
       "      <td>0.0</td>\n",
       "      <td>0.0</td>\n",
       "      <td>0.000000</td>\n",
       "      <td>0.00</td>\n",
       "      <td>0.0</td>\n",
       "      <td>1.0</td>\n",
       "      <td>F</td>\n",
       "    </tr>\n",
       "    <tr>\n",
       "      <th>2</th>\n",
       "      <td>5904672.0</td>\n",
       "      <td>Male</td>\n",
       "      <td>1953-06-24</td>\n",
       "      <td>2008-12-31</td>\n",
       "      <td>Married</td>\n",
       "      <td>1.0</td>\n",
       "      <td>Rentiers</td>\n",
       "      <td>3000.0</td>\n",
       "      <td>0.0</td>\n",
       "      <td>0.0</td>\n",
       "      <td>...</td>\n",
       "      <td>0.0</td>\n",
       "      <td>0.000000</td>\n",
       "      <td>0.0</td>\n",
       "      <td>0.0</td>\n",
       "      <td>0.0</td>\n",
       "      <td>0.000000</td>\n",
       "      <td>0.00</td>\n",
       "      <td>0.0</td>\n",
       "      <td>0.0</td>\n",
       "      <td>F</td>\n",
       "    </tr>\n",
       "    <tr>\n",
       "      <th>3</th>\n",
       "      <td>125603.0</td>\n",
       "      <td>Male</td>\n",
       "      <td>1952-09-19</td>\n",
       "      <td>2008-12-31</td>\n",
       "      <td>Married</td>\n",
       "      <td>0.0</td>\n",
       "      <td>Rentiers</td>\n",
       "      <td>14735.0</td>\n",
       "      <td>0.0</td>\n",
       "      <td>0.0</td>\n",
       "      <td>...</td>\n",
       "      <td>0.0</td>\n",
       "      <td>0.000000</td>\n",
       "      <td>0.0</td>\n",
       "      <td>0.0</td>\n",
       "      <td>0.0</td>\n",
       "      <td>0.000000</td>\n",
       "      <td>0.00</td>\n",
       "      <td>0.0</td>\n",
       "      <td>0.0</td>\n",
       "      <td>F</td>\n",
       "    </tr>\n",
       "    <tr>\n",
       "      <th>4</th>\n",
       "      <td>1065914.0</td>\n",
       "      <td>Male</td>\n",
       "      <td>1960-08-04</td>\n",
       "      <td>2008-12-31</td>\n",
       "      <td>Single</td>\n",
       "      <td>0.0</td>\n",
       "      <td>Business-Owners</td>\n",
       "      <td>99755.0</td>\n",
       "      <td>0.0</td>\n",
       "      <td>1.0</td>\n",
       "      <td>...</td>\n",
       "      <td>0.0</td>\n",
       "      <td>8.666667</td>\n",
       "      <td>3.5</td>\n",
       "      <td>2.0</td>\n",
       "      <td>0.0</td>\n",
       "      <td>275.833333</td>\n",
       "      <td>78.22</td>\n",
       "      <td>0.0</td>\n",
       "      <td>2.0</td>\n",
       "      <td>F</td>\n",
       "    </tr>\n",
       "  </tbody>\n",
       "</table>\n",
       "<p>5 rows × 46 columns</p>\n",
       "</div>"
      ],
      "text/plain": [
       "   Customer_ID Gender  Birth_Date    Ref_Date Marital_Status  Children_Num  \\\n",
       "0    5904453.0   Male  1960-10-17  2008-12-31        Married           2.0   \n",
       "1    5904524.0   Male  1972-02-22  2008-12-31       Divorced           0.0   \n",
       "2    5904672.0   Male  1953-06-24  2008-12-31        Married           1.0   \n",
       "3     125603.0   Male  1952-09-19  2008-12-31        Married           0.0   \n",
       "4    1065914.0   Male  1960-08-04  2008-12-31         Single           0.0   \n",
       "\n",
       "  Occupation_Category  Total_Income  Payroll_Flag  Business_Flag  ...  \\\n",
       "0            Rentiers       14000.0           0.0            0.0  ...   \n",
       "1           Employees       17577.0           0.0            0.0  ...   \n",
       "2            Rentiers        3000.0           0.0            0.0  ...   \n",
       "3            Rentiers       14735.0           0.0            0.0  ...   \n",
       "4     Business-Owners       99755.0           0.0            1.0  ...   \n",
       "\n",
       "   Transfer_Trans_Amount  Credit_Cards_Installments  \\\n",
       "0                    0.0                   0.000000   \n",
       "1                    0.0                   0.000000   \n",
       "2                    0.0                   0.000000   \n",
       "3                    0.0                   0.000000   \n",
       "4                    0.0                   8.666667   \n",
       "\n",
       "   Credit_Cards_Payments_Num  Credit_Cards_Purchases_Num  \\\n",
       "0                        0.0                         0.0   \n",
       "1                        0.0                         0.0   \n",
       "2                        0.0                         0.0   \n",
       "3                        0.0                         0.0   \n",
       "4                        3.5                         2.0   \n",
       "\n",
       "   Credit_Cards_Witrhdrawals_Num  Credit_Cards_Payments_Amount  \\\n",
       "0                            0.0                      0.000000   \n",
       "1                            0.0                      0.000000   \n",
       "2                            0.0                      0.000000   \n",
       "3                            0.0                      0.000000   \n",
       "4                            0.0                    275.833333   \n",
       "\n",
       "   Credit_Cards_Purchases_Amount  Credit_Cards_Witrhdrawals_Amount  \\\n",
       "0                           0.00                               0.0   \n",
       "1                           0.00                               0.0   \n",
       "2                           0.00                               0.0   \n",
       "3                           0.00                               0.0   \n",
       "4                          78.22                               0.0   \n",
       "\n",
       "   Arrears_Months_Max  Time_Deposits_Flag  \n",
       "0                 1.0                   F  \n",
       "1                 1.0                   F  \n",
       "2                 0.0                   F  \n",
       "3                 0.0                   F  \n",
       "4                 2.0                   F  \n",
       "\n",
       "[5 rows x 46 columns]"
      ]
     },
     "execution_count": 1,
     "metadata": {},
     "output_type": "execute_result"
    }
   ],
   "source": [
    "import pandas as pd\n",
    "import numpy as np\n",
    "import matplotlib.pyplot as plt\n",
    "%matplotlib inline\n",
    "\n",
    "raw = pd.read_csv('TimeDeposit_10K.csv', sep = ';')\n",
    "raw.head()"
   ]
  },
  {
   "cell_type": "code",
   "execution_count": 2,
   "metadata": {},
   "outputs": [
    {
     "data": {
      "text/plain": [
       "10000"
      ]
     },
     "execution_count": 2,
     "metadata": {},
     "output_type": "execute_result"
    }
   ],
   "source": [
    "len(raw)"
   ]
  },
  {
   "cell_type": "code",
   "execution_count": 3,
   "metadata": {},
   "outputs": [
    {
     "data": {
      "text/plain": [
       "Customer_ID                         0\n",
       "Gender                              0\n",
       "Birth_Date                          0\n",
       "Ref_Date                            0\n",
       "Marital_Status                      0\n",
       "Children_Num                        0\n",
       "Occupation_Category                 0\n",
       "Total_Income                        0\n",
       "Payroll_Flag                        0\n",
       "Business_Flag                       0\n",
       "Saving_Current_Accounts_Flag        0\n",
       "Investment_Products_Flag            0\n",
       "Insurance_Products_Flag             0\n",
       "Business_Loans_Flag                 0\n",
       "Housing_Loans_Flag                  0\n",
       "Consumer_Loans_Flag                 0\n",
       "Credit_Cards_Flag                   0\n",
       "Saving_Current_Balance              0\n",
       "Investment_Products_Balance         0\n",
       "Insurance_Balances                  0\n",
       "Business_Loans_Balance              0\n",
       "Housing_Loans_Balance               0\n",
       "Consumer_Loans_Balance              0\n",
       "Credit_Cards_Balance                0\n",
       "Branch_Trans_Num                    0\n",
       "ATM_Trans_Num                       0\n",
       "APS_Trans_Num                       0\n",
       "Phone_Trans_Num                     0\n",
       "Internet_Trans_Num                  0\n",
       "Deposit_Trans_Num                   0\n",
       "Withdrawl_Trans_Num                 0\n",
       "Payment_Trans_Num                   0\n",
       "Transfer_Trans_Num                  0\n",
       "Deposit_Trans_Amount                0\n",
       "Withdrawl_Trans_Amount              0\n",
       "Payment_Trans_Amount                0\n",
       "Transfer_Trans_Amount               0\n",
       "Credit_Cards_Installments           0\n",
       "Credit_Cards_Payments_Num           0\n",
       "Credit_Cards_Purchases_Num          0\n",
       "Credit_Cards_Witrhdrawals_Num       0\n",
       "Credit_Cards_Payments_Amount        0\n",
       "Credit_Cards_Purchases_Amount       0\n",
       "Credit_Cards_Witrhdrawals_Amount    0\n",
       "Arrears_Months_Max                  0\n",
       "Time_Deposits_Flag                  0\n",
       "dtype: int64"
      ]
     },
     "execution_count": 3,
     "metadata": {},
     "output_type": "execute_result"
    }
   ],
   "source": [
    "raw.isna().sum()"
   ]
  },
  {
   "cell_type": "code",
   "execution_count": 4,
   "metadata": {},
   "outputs": [
    {
     "data": {
      "text/plain": [
       "Customer_ID                            0\n",
       "Gender                                 0\n",
       "Birth_Date                             0\n",
       "Ref_Date                               0\n",
       "Marital_Status                         0\n",
       "Children_Num                        5909\n",
       "Occupation_Category                    0\n",
       "Total_Income                         506\n",
       "Payroll_Flag                        7479\n",
       "Business_Flag                       9211\n",
       "Saving_Current_Accounts_Flag        1348\n",
       "Investment_Products_Flag            9385\n",
       "Insurance_Products_Flag             8431\n",
       "Business_Loans_Flag                 9420\n",
       "Housing_Loans_Flag                  9409\n",
       "Consumer_Loans_Flag                 5491\n",
       "Credit_Cards_Flag                   2645\n",
       "Saving_Current_Balance              2083\n",
       "Investment_Products_Balance         9390\n",
       "Insurance_Balances                  8441\n",
       "Business_Loans_Balance              9424\n",
       "Housing_Loans_Balance               9415\n",
       "Consumer_Loans_Balance              5827\n",
       "Credit_Cards_Balance                5303\n",
       "Branch_Trans_Num                    3956\n",
       "ATM_Trans_Num                       6043\n",
       "APS_Trans_Num                       6085\n",
       "Phone_Trans_Num                     9881\n",
       "Internet_Trans_Num                  9729\n",
       "Deposit_Trans_Num                   5896\n",
       "Withdrawl_Trans_Num                 6207\n",
       "Payment_Trans_Num                   6268\n",
       "Transfer_Trans_Num                  9036\n",
       "Deposit_Trans_Amount                5896\n",
       "Withdrawl_Trans_Amount              6207\n",
       "Payment_Trans_Amount                6268\n",
       "Transfer_Trans_Amount               9036\n",
       "Credit_Cards_Installments           6453\n",
       "Credit_Cards_Payments_Num           6575\n",
       "Credit_Cards_Purchases_Num          7844\n",
       "Credit_Cards_Witrhdrawals_Num       8669\n",
       "Credit_Cards_Payments_Amount        6575\n",
       "Credit_Cards_Purchases_Amount       7844\n",
       "Credit_Cards_Witrhdrawals_Amount    8669\n",
       "Arrears_Months_Max                  5556\n",
       "Time_Deposits_Flag                     0\n",
       "dtype: int64"
      ]
     },
     "execution_count": 4,
     "metadata": {},
     "output_type": "execute_result"
    }
   ],
   "source": [
    "(raw == 0).astype(int).sum()"
   ]
  },
  {
   "cell_type": "code",
   "execution_count": 5,
   "metadata": {},
   "outputs": [
    {
     "data": {
      "text/plain": [
       "Customer_ID                         float64\n",
       "Gender                               object\n",
       "Birth_Date                           object\n",
       "Ref_Date                             object\n",
       "Marital_Status                       object\n",
       "Children_Num                        float64\n",
       "Occupation_Category                  object\n",
       "Total_Income                        float64\n",
       "Payroll_Flag                        float64\n",
       "Business_Flag                       float64\n",
       "Saving_Current_Accounts_Flag        float64\n",
       "Investment_Products_Flag            float64\n",
       "Insurance_Products_Flag             float64\n",
       "Business_Loans_Flag                 float64\n",
       "Housing_Loans_Flag                  float64\n",
       "Consumer_Loans_Flag                 float64\n",
       "Credit_Cards_Flag                   float64\n",
       "Saving_Current_Balance              float64\n",
       "Investment_Products_Balance         float64\n",
       "Insurance_Balances                  float64\n",
       "Business_Loans_Balance              float64\n",
       "Housing_Loans_Balance               float64\n",
       "Consumer_Loans_Balance              float64\n",
       "Credit_Cards_Balance                float64\n",
       "Branch_Trans_Num                    float64\n",
       "ATM_Trans_Num                       float64\n",
       "APS_Trans_Num                       float64\n",
       "Phone_Trans_Num                     float64\n",
       "Internet_Trans_Num                  float64\n",
       "Deposit_Trans_Num                   float64\n",
       "Withdrawl_Trans_Num                 float64\n",
       "Payment_Trans_Num                   float64\n",
       "Transfer_Trans_Num                  float64\n",
       "Deposit_Trans_Amount                float64\n",
       "Withdrawl_Trans_Amount              float64\n",
       "Payment_Trans_Amount                float64\n",
       "Transfer_Trans_Amount               float64\n",
       "Credit_Cards_Installments           float64\n",
       "Credit_Cards_Payments_Num           float64\n",
       "Credit_Cards_Purchases_Num          float64\n",
       "Credit_Cards_Witrhdrawals_Num       float64\n",
       "Credit_Cards_Payments_Amount        float64\n",
       "Credit_Cards_Purchases_Amount       float64\n",
       "Credit_Cards_Witrhdrawals_Amount    float64\n",
       "Arrears_Months_Max                  float64\n",
       "Time_Deposits_Flag                   object\n",
       "dtype: object"
      ]
     },
     "execution_count": 5,
     "metadata": {},
     "output_type": "execute_result"
    }
   ],
   "source": [
    "raw.dtypes"
   ]
  },
  {
   "cell_type": "markdown",
   "metadata": {},
   "source": [
    "### Manipulace s daty\n",
    "pruzkum rozlozeni hodnot a formatu jednotlivych sloupcu a uvaha o tom, ktere potrebujeme a ktere ne "
   ]
  },
  {
   "cell_type": "code",
   "execution_count": 6,
   "metadata": {},
   "outputs": [],
   "source": [
    "# no NaNs, tons of numeric data, let's see column by column\n",
    "raw.drop('Customer_ID', axis = 1, inplace = True)\n"
   ]
  },
  {
   "cell_type": "code",
   "execution_count": 7,
   "metadata": {},
   "outputs": [
    {
     "data": {
      "text/plain": [
       "<bound method Series.unique of 0         Male\n",
       "1         Male\n",
       "2         Male\n",
       "3         Male\n",
       "4         Male\n",
       "         ...  \n",
       "9995      Male\n",
       "9996    Female\n",
       "9997    Female\n",
       "9998    Female\n",
       "9999      Male\n",
       "Name: Gender, Length: 10000, dtype: object>"
      ]
     },
     "execution_count": 7,
     "metadata": {},
     "output_type": "execute_result"
    }
   ],
   "source": [
    "#how many genders do we actually have (that's a joke)\n",
    "raw['Gender'].unique"
   ]
  },
  {
   "cell_type": "markdown",
   "metadata": {},
   "source": [
    "Mapovani kategoricke promenne pohlavi na numericke hodnoty (binarni promenna)"
   ]
  },
  {
   "cell_type": "code",
   "execution_count": 8,
   "metadata": {},
   "outputs": [
    {
     "data": {
      "text/plain": [
       "array([0, 0, 0, ..., 1, 1, 0], dtype=int64)"
      ]
     },
     "execution_count": 8,
     "metadata": {},
     "output_type": "execute_result"
    }
   ],
   "source": [
    "raw['Gender'] = raw['Gender'].map({'Male': 0, 'Female': 1})\n",
    "raw['Gender'].values"
   ]
  },
  {
   "cell_type": "markdown",
   "metadata": {},
   "source": [
    "Vypocet data s ohledem na referencni datum uvedene v popisu dat, tvorba sloupce Age a smazani puvodnich sloupcu"
   ]
  },
  {
   "cell_type": "code",
   "execution_count": 9,
   "metadata": {},
   "outputs": [
    {
     "name": "stdout",
     "output_type": "stream",
     "text": [
      "datetime64[ns] datetime64[ns]\n"
     ]
    }
   ],
   "source": [
    "#ref_date should be used as the current date when calculating age, let's make it easy\n",
    "raw['Birth_Date'] = pd.to_datetime(raw['Birth_Date'])\n",
    "raw['Ref_Date'] = pd.to_datetime(raw['Ref_Date'])\n",
    "print(raw['Birth_Date'].dtype, raw['Ref_Date'].dtype)"
   ]
  },
  {
   "cell_type": "code",
   "execution_count": 10,
   "metadata": {},
   "outputs": [],
   "source": [
    "#dates to datetime, get day difference, calculate years by common rule and round down\n",
    "raw['Age'] = (np.floor((pd.to_datetime(raw['Ref_Date']) - \n",
    "             pd.to_datetime(raw['Birth_Date'])).dt.days / 365.25)).astype(np.float64)"
   ]
  },
  {
   "cell_type": "code",
   "execution_count": 11,
   "metadata": {},
   "outputs": [
    {
     "data": {
      "text/plain": [
       "42.0    325\n",
       "36.0    324\n",
       "41.0    311\n",
       "40.0    308\n",
       "31.0    305\n",
       "39.0    299\n",
       "48.0    294\n",
       "29.0    293\n",
       "28.0    290\n",
       "43.0    287\n",
       "37.0    282\n",
       "30.0    279\n",
       "34.0    279\n",
       "38.0    278\n",
       "32.0    275\n",
       "35.0    272\n",
       "33.0    271\n",
       "45.0    268\n",
       "46.0    265\n",
       "49.0    257\n",
       "44.0    252\n",
       "47.0    232\n",
       "50.0    231\n",
       "51.0    226\n",
       "27.0    223\n",
       "26.0    215\n",
       "53.0    207\n",
       "52.0    205\n",
       "55.0    182\n",
       "54.0    170\n",
       "25.0    167\n",
       "62.0    157\n",
       "57.0    154\n",
       "56.0    154\n",
       "61.0    140\n",
       "59.0    139\n",
       "58.0    136\n",
       "60.0    126\n",
       "63.0    125\n",
       "24.0    110\n",
       "64.0    102\n",
       "23.0     99\n",
       "69.0     80\n",
       "65.0     75\n",
       "66.0     73\n",
       "67.0     68\n",
       "22.0     62\n",
       "68.0     52\n",
       "21.0     38\n",
       "20.0     24\n",
       "19.0     14\n",
       "Name: Age, dtype: int64"
      ]
     },
     "execution_count": 11,
     "metadata": {},
     "output_type": "execute_result"
    }
   ],
   "source": [
    "raw['Age'].value_counts()\n",
    "#cool, we have some numbers"
   ]
  },
  {
   "cell_type": "markdown",
   "metadata": {},
   "source": [
    "Ze zvedavosti histogram vekovych kategorii, jen pro predstavu jak reprezentativni vzorek je"
   ]
  },
  {
   "cell_type": "code",
   "execution_count": 12,
   "metadata": {
    "scrolled": true
   },
   "outputs": [
    {
     "data": {
      "text/plain": [
       "(array([ 237., 1005., 1423., 1435., 1530., 1311., 1126.,  796.,  687.,\n",
       "         450.]),\n",
       " array([19., 24., 29., 34., 39., 44., 49., 54., 59., 64., 69.]),\n",
       " <BarContainer object of 10 artists>)"
      ]
     },
     "execution_count": 12,
     "metadata": {},
     "output_type": "execute_result"
    },
    {
     "data": {
      "image/png": "[encoded data removed]",
      "text/plain": [
       "<Figure size 432x288 with 1 Axes>"
      ]
     },
     "metadata": {
      "needs_background": "light"
     },
     "output_type": "display_data"
    }
   ],
   "source": [
    "#let's check the distribution of age, maybe it's interesting\n",
    "plt.hist(raw['Age'])"
   ]
  },
  {
   "cell_type": "markdown",
   "metadata": {},
   "source": [
    "A jeste histogram vsech numerickych sloupcu pro predstavu"
   ]
  },
  {
   "cell_type": "code",
   "execution_count": 13,
   "metadata": {},
   "outputs": [
    {
     "data": {
      "image/png": "[encoded data removed]",
      "text/plain": [
       "<Figure size 1440x1080 with 42 Axes>"
      ]
     },
     "metadata": {
      "needs_background": "light"
     },
     "output_type": "display_data"
    }
   ],
   "source": [
    "raw.hist(bins = 50, figsize = (20,15))\n",
    "plt.show()"
   ]
  },
  {
   "cell_type": "code",
   "execution_count": 14,
   "metadata": {},
   "outputs": [],
   "source": [
    "#pretty fine, looks approximately normally distributed so there's no hard bias with this variable\n",
    "#getting rid of date variables, don't need them anymore\n",
    "raw.drop(['Ref_Date','Birth_Date'], axis = 1, inplace=True)"
   ]
  },
  {
   "cell_type": "markdown",
   "metadata": {},
   "source": [
    "One-hot-encoding promenne Marital_Status"
   ]
  },
  {
   "cell_type": "code",
   "execution_count": 15,
   "metadata": {},
   "outputs": [
    {
     "data": {
      "text/plain": [
       "Married     6089\n",
       "Single      2956\n",
       "Divorced     739\n",
       "Widow        216\n",
       "Name: Marital_Status, dtype: int64"
      ]
     },
     "execution_count": 15,
     "metadata": {},
     "output_type": "execute_result"
    }
   ],
   "source": [
    "# the marital status should be one-hot-encoded, as there's no direct relationship between categories if we used\n",
    "# single column encoding\n",
    "raw['Marital_Status'].value_counts()"
   ]
  },
  {
   "cell_type": "code",
   "execution_count": 16,
   "metadata": {},
   "outputs": [],
   "source": [
    "checkpoint = raw.copy() #you never know\n",
    "categories = ['Married','Single','Divorced','Widow']\n",
    "#can use pandas get_dummies or sklearn.preprocessing OneHotEncoder, however get_dummies is better if we want to \n",
    "#get rid of multicollinearity later\n",
    "\n",
    "dummies = pd.get_dummies(raw['Marital_Status'], columns = categories)\n",
    "\n"
   ]
  },
  {
   "cell_type": "code",
   "execution_count": 17,
   "metadata": {},
   "outputs": [],
   "source": [
    "raw = pd.concat([raw, dummies], axis = 1)"
   ]
  },
  {
   "cell_type": "code",
   "execution_count": 18,
   "metadata": {},
   "outputs": [],
   "source": [
    "raw.drop('Marital_Status', axis = 1, inplace = True)"
   ]
  },
  {
   "cell_type": "markdown",
   "metadata": {},
   "source": [
    "Uprava promenne Occupation_category, ktera by sla promenit na numericke hodnoty, nelze ale jednoznacne uvazovat vycislitelny hierarchicky vztah mezi kategoriemi, a tak je i tato promenna premenena pomoci One-hot-encodingu"
   ]
  },
  {
   "cell_type": "code",
   "execution_count": 19,
   "metadata": {},
   "outputs": [
    {
     "data": {
      "text/plain": [
       "Employees          5609\n",
       "Business-Owners    1775\n",
       "Retirees           1108\n",
       "Rentiers            642\n",
       "Unemployeed         506\n",
       "Self-Employees      360\n",
       "Name: Occupation_Category, dtype: int64"
      ]
     },
     "execution_count": 19,
     "metadata": {},
     "output_type": "execute_result"
    }
   ],
   "source": [
    "#the last object feature is occupation category, let's see the values\n",
    "raw['Occupation_Category'].value_counts()"
   ]
  },
  {
   "cell_type": "code",
   "execution_count": 20,
   "metadata": {},
   "outputs": [
    {
     "data": {
      "text/html": [
       "<div>\n",
       "<style scoped>\n",
       "    .dataframe tbody tr th:only-of-type {\n",
       "        vertical-align: middle;\n",
       "    }\n",
       "\n",
       "    .dataframe tbody tr th {\n",
       "        vertical-align: top;\n",
       "    }\n",
       "\n",
       "    .dataframe thead th {\n",
       "        text-align: right;\n",
       "    }\n",
       "</style>\n",
       "<table border=\"1\" class=\"dataframe\">\n",
       "  <thead>\n",
       "    <tr style=\"text-align: right;\">\n",
       "      <th></th>\n",
       "      <th>Business-Owners</th>\n",
       "      <th>Employees</th>\n",
       "      <th>Rentiers</th>\n",
       "      <th>Retirees</th>\n",
       "      <th>Self-Employees</th>\n",
       "      <th>Unemployeed</th>\n",
       "    </tr>\n",
       "  </thead>\n",
       "  <tbody>\n",
       "    <tr>\n",
       "      <th>0</th>\n",
       "      <td>0</td>\n",
       "      <td>0</td>\n",
       "      <td>1</td>\n",
       "      <td>0</td>\n",
       "      <td>0</td>\n",
       "      <td>0</td>\n",
       "    </tr>\n",
       "    <tr>\n",
       "      <th>1</th>\n",
       "      <td>0</td>\n",
       "      <td>1</td>\n",
       "      <td>0</td>\n",
       "      <td>0</td>\n",
       "      <td>0</td>\n",
       "      <td>0</td>\n",
       "    </tr>\n",
       "    <tr>\n",
       "      <th>2</th>\n",
       "      <td>0</td>\n",
       "      <td>0</td>\n",
       "      <td>1</td>\n",
       "      <td>0</td>\n",
       "      <td>0</td>\n",
       "      <td>0</td>\n",
       "    </tr>\n",
       "    <tr>\n",
       "      <th>3</th>\n",
       "      <td>0</td>\n",
       "      <td>0</td>\n",
       "      <td>1</td>\n",
       "      <td>0</td>\n",
       "      <td>0</td>\n",
       "      <td>0</td>\n",
       "    </tr>\n",
       "    <tr>\n",
       "      <th>4</th>\n",
       "      <td>1</td>\n",
       "      <td>0</td>\n",
       "      <td>0</td>\n",
       "      <td>0</td>\n",
       "      <td>0</td>\n",
       "      <td>0</td>\n",
       "    </tr>\n",
       "  </tbody>\n",
       "</table>\n",
       "</div>"
      ],
      "text/plain": [
       "   Business-Owners  Employees  Rentiers  Retirees  Self-Employees  Unemployeed\n",
       "0                0          0         1         0               0            0\n",
       "1                0          1         0         0               0            0\n",
       "2                0          0         1         0               0            0\n",
       "3                0          0         1         0               0            0\n",
       "4                1          0         0         0               0            0"
      ]
     },
     "execution_count": 20,
     "metadata": {},
     "output_type": "execute_result"
    }
   ],
   "source": [
    "#this is a tricky feature. We can't assume linear relationship between categories, since we also have unemployed and\n",
    "#retired people in our dataset. We can either one-hot-encode them all, or divide into categories like employed, unemployed, \n",
    "#retired, but for the sake of the exercise we will just one-hot-encode them all.\n",
    "checkpoint = raw.copy()\n",
    "\n",
    "cats = ['Regular employee','Business Owner','Retired','Rentier','Unemployed','Self-employed']\n",
    "dummies2 = pd.get_dummies(raw['Occupation_Category'], columns = cats)\n",
    "dummies2.head()"
   ]
  },
  {
   "cell_type": "code",
   "execution_count": 21,
   "metadata": {},
   "outputs": [],
   "source": [
    "raw = pd.concat([raw, dummies2], axis = 1)\n",
    "raw.drop('Occupation_Category', axis = 1, inplace = True)"
   ]
  },
  {
   "cell_type": "code",
   "execution_count": 22,
   "metadata": {},
   "outputs": [
    {
     "name": "stdout",
     "output_type": "stream",
     "text": [
      "<class 'pandas.core.frame.DataFrame'>\n",
      "RangeIndex: 10000 entries, 0 to 9999\n",
      "Data columns (total 52 columns):\n",
      " #   Column                            Non-Null Count  Dtype  \n",
      "---  ------                            --------------  -----  \n",
      " 0   Gender                            10000 non-null  int64  \n",
      " 1   Children_Num                      10000 non-null  float64\n",
      " 2   Total_Income                      10000 non-null  float64\n",
      " 3   Payroll_Flag                      10000 non-null  float64\n",
      " 4   Business_Flag                     10000 non-null  float64\n",
      " 5   Saving_Current_Accounts_Flag      10000 non-null  float64\n",
      " 6   Investment_Products_Flag          10000 non-null  float64\n",
      " 7   Insurance_Products_Flag           10000 non-null  float64\n",
      " 8   Business_Loans_Flag               10000 non-null  float64\n",
      " 9   Housing_Loans_Flag                10000 non-null  float64\n",
      " 10  Consumer_Loans_Flag               10000 non-null  float64\n",
      " 11  Credit_Cards_Flag                 10000 non-null  float64\n",
      " 12  Saving_Current_Balance            10000 non-null  float64\n",
      " 13  Investment_Products_Balance       10000 non-null  float64\n",
      " 14  Insurance_Balances                10000 non-null  float64\n",
      " 15  Business_Loans_Balance            10000 non-null  float64\n",
      " 16  Housing_Loans_Balance             10000 non-null  float64\n",
      " 17  Consumer_Loans_Balance            10000 non-null  float64\n",
      " 18  Credit_Cards_Balance              10000 non-null  float64\n",
      " 19  Branch_Trans_Num                  10000 non-null  float64\n",
      " 20  ATM_Trans_Num                     10000 non-null  float64\n",
      " 21  APS_Trans_Num                     10000 non-null  float64\n",
      " 22  Phone_Trans_Num                   10000 non-null  float64\n",
      " 23  Internet_Trans_Num                10000 non-null  float64\n",
      " 24  Deposit_Trans_Num                 10000 non-null  float64\n",
      " 25  Withdrawl_Trans_Num               10000 non-null  float64\n",
      " 26  Payment_Trans_Num                 10000 non-null  float64\n",
      " 27  Transfer_Trans_Num                10000 non-null  float64\n",
      " 28  Deposit_Trans_Amount              10000 non-null  float64\n",
      " 29  Withdrawl_Trans_Amount            10000 non-null  float64\n",
      " 30  Payment_Trans_Amount              10000 non-null  float64\n",
      " 31  Transfer_Trans_Amount             10000 non-null  float64\n",
      " 32  Credit_Cards_Installments         10000 non-null  float64\n",
      " 33  Credit_Cards_Payments_Num         10000 non-null  float64\n",
      " 34  Credit_Cards_Purchases_Num        10000 non-null  float64\n",
      " 35  Credit_Cards_Witrhdrawals_Num     10000 non-null  float64\n",
      " 36  Credit_Cards_Payments_Amount      10000 non-null  float64\n",
      " 37  Credit_Cards_Purchases_Amount     10000 non-null  float64\n",
      " 38  Credit_Cards_Witrhdrawals_Amount  10000 non-null  float64\n",
      " 39  Arrears_Months_Max                10000 non-null  float64\n",
      " 40  Time_Deposits_Flag                10000 non-null  object \n",
      " 41  Age                               10000 non-null  float64\n",
      " 42  Divorced                          10000 non-null  uint8  \n",
      " 43  Married                           10000 non-null  uint8  \n",
      " 44  Single                            10000 non-null  uint8  \n",
      " 45  Widow                             10000 non-null  uint8  \n",
      " 46  Business-Owners                   10000 non-null  uint8  \n",
      " 47  Employees                         10000 non-null  uint8  \n",
      " 48  Rentiers                          10000 non-null  uint8  \n",
      " 49  Retirees                          10000 non-null  uint8  \n",
      " 50  Self-Employees                    10000 non-null  uint8  \n",
      " 51  Unemployeed                       10000 non-null  uint8  \n",
      "dtypes: float64(40), int64(1), object(1), uint8(10)\n",
      "memory usage: 3.3+ MB\n"
     ]
    }
   ],
   "source": [
    "raw.info()"
   ]
  },
  {
   "cell_type": "markdown",
   "metadata": {},
   "source": [
    "Preorganizovani tabulky"
   ]
  },
  {
   "cell_type": "code",
   "execution_count": 23,
   "metadata": {},
   "outputs": [
    {
     "data": {
      "text/plain": [
       "Index(['Gender', 'Children_Num', 'Total_Income', 'Payroll_Flag',\n",
       "       'Business_Flag', 'Saving_Current_Accounts_Flag',\n",
       "       'Investment_Products_Flag', 'Insurance_Products_Flag',\n",
       "       'Business_Loans_Flag', 'Housing_Loans_Flag', 'Consumer_Loans_Flag',\n",
       "       'Credit_Cards_Flag', 'Saving_Current_Balance',\n",
       "       'Investment_Products_Balance', 'Insurance_Balances',\n",
       "       'Business_Loans_Balance', 'Housing_Loans_Balance',\n",
       "       'Consumer_Loans_Balance', 'Credit_Cards_Balance', 'Branch_Trans_Num',\n",
       "       'ATM_Trans_Num', 'APS_Trans_Num', 'Phone_Trans_Num',\n",
       "       'Internet_Trans_Num', 'Deposit_Trans_Num', 'Withdrawl_Trans_Num',\n",
       "       'Payment_Trans_Num', 'Transfer_Trans_Num', 'Deposit_Trans_Amount',\n",
       "       'Withdrawl_Trans_Amount', 'Payment_Trans_Amount',\n",
       "       'Transfer_Trans_Amount', 'Credit_Cards_Installments',\n",
       "       'Credit_Cards_Payments_Num', 'Credit_Cards_Purchases_Num',\n",
       "       'Credit_Cards_Witrhdrawals_Num', 'Credit_Cards_Payments_Amount',\n",
       "       'Credit_Cards_Purchases_Amount', 'Credit_Cards_Witrhdrawals_Amount',\n",
       "       'Arrears_Months_Max', 'Time_Deposits_Flag', 'Age', 'Divorced',\n",
       "       'Married', 'Single', 'Widow', 'Business-Owners', 'Employees',\n",
       "       'Rentiers', 'Retirees', 'Self-Employees', 'Unemployeed'],\n",
       "      dtype='object')"
      ]
     },
     "execution_count": 23,
     "metadata": {},
     "output_type": "execute_result"
    }
   ],
   "source": [
    "#let's order the dataset with y being the last feature\n",
    "raw.columns"
   ]
  },
  {
   "cell_type": "code",
   "execution_count": 24,
   "metadata": {},
   "outputs": [],
   "source": [
    "proper_cats = ['Gender', 'Children_Num', 'Total_Income', 'Payroll_Flag',\n",
    "       'Business_Flag', 'Saving_Current_Accounts_Flag',\n",
    "       'Investment_Products_Flag', 'Insurance_Products_Flag',\n",
    "       'Business_Loans_Flag', 'Housing_Loans_Flag', 'Consumer_Loans_Flag',\n",
    "       'Credit_Cards_Flag', 'Saving_Current_Balance',\n",
    "       'Investment_Products_Balance', 'Insurance_Balances',\n",
    "       'Business_Loans_Balance', 'Housing_Loans_Balance',\n",
    "       'Consumer_Loans_Balance', 'Credit_Cards_Balance', 'Branch_Trans_Num',\n",
    "       'ATM_Trans_Num', 'APS_Trans_Num', 'Phone_Trans_Num',\n",
    "       'Internet_Trans_Num', 'Deposit_Trans_Num', 'Withdrawl_Trans_Num',\n",
    "       'Payment_Trans_Num', 'Transfer_Trans_Num', 'Deposit_Trans_Amount',\n",
    "       'Withdrawl_Trans_Amount', 'Payment_Trans_Amount',\n",
    "       'Transfer_Trans_Amount', 'Credit_Cards_Installments',\n",
    "       'Credit_Cards_Payments_Num', 'Credit_Cards_Purchases_Num',\n",
    "       'Credit_Cards_Witrhdrawals_Num', 'Credit_Cards_Payments_Amount',\n",
    "       'Credit_Cards_Purchases_Amount', 'Credit_Cards_Witrhdrawals_Amount',\n",
    "       'Arrears_Months_Max', 'Age', 'Divorced',\n",
    "       'Married', 'Single', 'Widow', 'Business-Owners', 'Employees',\n",
    "       'Rentiers', 'Retirees', 'Self-Employees', 'Unemployeed', 'Time_Deposits_Flag',]\n",
    "raw = raw[proper_cats]"
   ]
  },
  {
   "cell_type": "markdown",
   "metadata": {},
   "source": [
    "Kontrola hodnot v jednotlivych sloupcich"
   ]
  },
  {
   "cell_type": "code",
   "execution_count": 25,
   "metadata": {},
   "outputs": [
    {
     "data": {
      "text/plain": [
       "1.0    7355\n",
       "0.0    2645\n",
       "Name: Credit_Cards_Flag, dtype: int64"
      ]
     },
     "execution_count": 25,
     "metadata": {},
     "output_type": "execute_result"
    }
   ],
   "source": [
    "#are the flags actually 0/1?\n",
    "raw['Credit_Cards_Flag'].value_counts()"
   ]
  },
  {
   "cell_type": "code",
   "execution_count": 26,
   "metadata": {},
   "outputs": [
    {
     "data": {
      "text/plain": [
       "506"
      ]
     },
     "execution_count": 26,
     "metadata": {},
     "output_type": "execute_result"
    }
   ],
   "source": [
    "#let's assume the remaining flags are binary as well\n",
    "(raw['Total_Income'] == 0).sum()"
   ]
  },
  {
   "cell_type": "markdown",
   "metadata": {},
   "source": [
    "Pruzkum multikolinearity - ukazuji Flags a Balance stejnou informaci?"
   ]
  },
  {
   "cell_type": "code",
   "execution_count": 27,
   "metadata": {},
   "outputs": [
    {
     "name": "stdout",
     "output_type": "stream",
     "text": [
      "1775 789.0\n",
      "8652.0 7917\n",
      "615.0 610\n"
     ]
    }
   ],
   "source": [
    "#is zero income right or missing value? Taking into account that the dataset seems to be complete, let's assume \n",
    "#this is on purpose and the people really do have zero official income\n",
    "cols_to_remove = []\n",
    "#let's think about the columns we do not need, be it because of multicollinearity or other reasons\n",
    "print(raw['Business-Owners'].sum(), raw['Business_Flag'].sum()) #no relationship\n",
    "print(raw['Saving_Current_Accounts_Flag'].sum(), (raw['Saving_Current_Balance']!=0).sum()) #ppl have accounts with no money,can be relevant\n",
    "print(raw['Investment_Products_Flag'].sum(), (raw['Investment_Products_Balance']>0).sum()) #let's investigate further\n"
   ]
  },
  {
   "cell_type": "code",
   "execution_count": 28,
   "metadata": {},
   "outputs": [
    {
     "data": {
      "text/plain": [
       "(0.0, 500.0)"
      ]
     },
     "execution_count": 28,
     "metadata": {},
     "output_type": "execute_result"
    },
    {
     "data": {
      "image/png": "[encoded data removed]",
      "text/plain": [
       "<Figure size 432x288 with 1 Axes>"
      ]
     },
     "metadata": {
      "needs_background": "light"
     },
     "output_type": "display_data"
    }
   ],
   "source": [
    "plt.hist((raw['Investment_Products_Balance']), bins = 50)\n",
    "plt.ylim(top=500)"
   ]
  },
  {
   "cell_type": "code",
   "execution_count": 29,
   "metadata": {},
   "outputs": [],
   "source": [
    "#yeah let's drop Investment flag\n",
    "cols_to_remove.append('Investment_Products_Flag')\n"
   ]
  },
  {
   "cell_type": "markdown",
   "metadata": {},
   "source": [
    "Srovnavani pozitivnich poctu pribuznych features - Flags vs. Balance a odstranovani flags v pripade podezreni o multikolinearite"
   ]
  },
  {
   "cell_type": "code",
   "execution_count": 30,
   "metadata": {},
   "outputs": [
    {
     "name": "stdout",
     "output_type": "stream",
     "text": [
      "1569.0 1559\n"
     ]
    }
   ],
   "source": [
    "print(raw['Insurance_Products_Flag'].sum(), (raw['Insurance_Balances']>0).sum()) #remove"
   ]
  },
  {
   "cell_type": "code",
   "execution_count": 31,
   "metadata": {},
   "outputs": [],
   "source": [
    "cols_to_remove.append('Insurance_Products_Flag')"
   ]
  },
  {
   "cell_type": "code",
   "execution_count": 32,
   "metadata": {},
   "outputs": [
    {
     "name": "stdout",
     "output_type": "stream",
     "text": [
      "580.0 574\n"
     ]
    }
   ],
   "source": [
    "print(raw['Business_Loans_Flag'].sum(), (raw['Business_Loans_Balance']>0).sum()) #remove"
   ]
  },
  {
   "cell_type": "code",
   "execution_count": 33,
   "metadata": {},
   "outputs": [],
   "source": [
    "cols_to_remove.append('Business_Loans_Flag')"
   ]
  },
  {
   "cell_type": "code",
   "execution_count": 34,
   "metadata": {
    "scrolled": true
   },
   "outputs": [
    {
     "name": "stdout",
     "output_type": "stream",
     "text": [
      "591.0 585\n"
     ]
    }
   ],
   "source": [
    "print(raw['Housing_Loans_Flag'].sum(), (raw['Housing_Loans_Balance']>0).sum()) #remove"
   ]
  },
  {
   "cell_type": "code",
   "execution_count": 35,
   "metadata": {},
   "outputs": [],
   "source": [
    "cols_to_remove.append('Housing_Loans_Flag')"
   ]
  },
  {
   "cell_type": "markdown",
   "metadata": {},
   "source": [
    "Consumer Loans je specialni - Balance muze byt 0, avsak flag stale 1 - pujcka je tedy splacena, ale neni uzavrena. Predpokladame, ze rozhoduje castka, a tak Flag odstranime, ackoliv se pocty mirne lisi"
   ]
  },
  {
   "cell_type": "code",
   "execution_count": 36,
   "metadata": {
    "scrolled": true
   },
   "outputs": [
    {
     "name": "stdout",
     "output_type": "stream",
     "text": [
      "4509.0 4132\n"
     ]
    }
   ],
   "source": [
    "print(raw['Consumer_Loans_Flag'].sum(), (raw['Consumer_Loans_Balance']>0).sum()) "
   ]
  },
  {
   "cell_type": "code",
   "execution_count": 37,
   "metadata": {},
   "outputs": [
    {
     "name": "stderr",
     "output_type": "stream",
     "text": [
      "c:\\users\\hartd\\appdata\\local\\programs\\python\\python38\\lib\\site-packages\\numpy\\lib\\histograms.py:839: RuntimeWarning: invalid value encountered in greater_equal\n",
      "  keep = (tmp_a >= first_edge)\n",
      "c:\\users\\hartd\\appdata\\local\\programs\\python\\python38\\lib\\site-packages\\numpy\\lib\\histograms.py:840: RuntimeWarning: invalid value encountered in less_equal\n",
      "  keep &= (tmp_a <= last_edge)\n"
     ]
    },
    {
     "data": {
      "text/plain": [
       "(0.0, 20000.0)"
      ]
     },
     "execution_count": 37,
     "metadata": {},
     "output_type": "execute_result"
    },
    {
     "data": {
      "image/png": "[encoded data removed]",
      "text/plain": [
       "<Figure size 432x288 with 1 Axes>"
      ]
     },
     "metadata": {
      "needs_background": "light"
     },
     "output_type": "display_data"
    }
   ],
   "source": [
    "toplot = [raw['Consumer_Loans_Balance'].where(raw['Consumer_Loans_Flag']==1)]\n",
    "plt.hist(toplot, bins = 50)\n",
    "plt.xlim(0,20000)"
   ]
  },
  {
   "cell_type": "code",
   "execution_count": 38,
   "metadata": {},
   "outputs": [],
   "source": [
    "#assuming there are ppl with opened consumer loan who do not owe anything, yet their loan hasn't been closed, we remove\n",
    "#this flag as well\n",
    "cols_to_remove.append('Consumer_Loans_Flag')"
   ]
  },
  {
   "cell_type": "markdown",
   "metadata": {},
   "source": [
    "Opak je pravdou u Credit Cards - fakt, ze je osoba drzitelem kreditni karty (v americkem slova smyslu, i.e. cerpa z ni na dluh), je dulezity, nebot predstavuje urcite riziko. Vyse kreditniho dluhu je taky dulezity fakt a vypovida o necem trochu jinem. Kombinace obou by mohla byt samostatna promenna. Ponechame obe promenne."
   ]
  },
  {
   "cell_type": "code",
   "execution_count": 39,
   "metadata": {},
   "outputs": [
    {
     "name": "stdout",
     "output_type": "stream",
     "text": [
      "7355.0 3984\n"
     ]
    }
   ],
   "source": [
    "print(raw['Credit_Cards_Flag'].sum(), (raw['Credit_Cards_Balance']>0).sum())\n",
    "#there are people with credit cards with no debt, however, this might be important, guess we keep that one"
   ]
  },
  {
   "cell_type": "markdown",
   "metadata": {},
   "source": [
    "Secteme pocet jednotlivych druhu transakci do jedineho sloupce a puvodnich se kvuli snizeni zbytecne dimenzionality zbavime."
   ]
  },
  {
   "cell_type": "code",
   "execution_count": 40,
   "metadata": {
    "scrolled": true
   },
   "outputs": [
    {
     "name": "stdout",
     "output_type": "stream",
     "text": [
      "19 27\n"
     ]
    }
   ],
   "source": [
    "#let's just straight up sum and then remove numbers of transactions\n",
    "print(raw.columns.get_loc(\"Branch_Trans_Num\"),raw.columns.get_loc(\"Transfer_Trans_Num\"))"
   ]
  },
  {
   "cell_type": "code",
   "execution_count": 41,
   "metadata": {},
   "outputs": [],
   "source": [
    "raw['Total_transactions'] = raw.iloc[:,raw.columns.get_loc(\"Branch_Trans_Num\"):raw.columns.get_loc(\"Transfer_Trans_Num\")].sum(axis=1)"
   ]
  },
  {
   "cell_type": "code",
   "execution_count": 42,
   "metadata": {},
   "outputs": [
    {
     "data": {
      "text/plain": [
       "count    10000.000000\n",
       "mean         3.625320\n",
       "std          4.828016\n",
       "min          0.000000\n",
       "25%          0.500000\n",
       "50%          2.000000\n",
       "75%          4.666667\n",
       "max         61.833334\n",
       "Name: Total_transactions, dtype: float64"
      ]
     },
     "execution_count": 42,
     "metadata": {},
     "output_type": "execute_result"
    }
   ],
   "source": [
    "raw['Total_transactions'].describe()"
   ]
  },
  {
   "cell_type": "code",
   "execution_count": 43,
   "metadata": {},
   "outputs": [
    {
     "data": {
      "text/plain": [
       "(array([8.210e+03, 1.199e+03, 4.060e+02, 1.210e+02, 3.900e+01, 1.000e+01,\n",
       "        7.000e+00, 6.000e+00, 1.000e+00, 1.000e+00]),\n",
       " array([ 0.       ,  6.1833334, 12.3666668, 18.5500002, 24.7333336,\n",
       "        30.916667 , 37.1000004, 43.2833338, 49.4666672, 55.6500006,\n",
       "        61.833334 ]),\n",
       " <BarContainer object of 10 artists>)"
      ]
     },
     "execution_count": 43,
     "metadata": {},
     "output_type": "execute_result"
    },
    {
     "data": {
      "image/png": "[encoded data removed]",
      "text/plain": [
       "<Figure size 432x288 with 1 Axes>"
      ]
     },
     "metadata": {
      "needs_background": "light"
     },
     "output_type": "display_data"
    }
   ],
   "source": [
    "plt.hist(raw['Total_transactions'])"
   ]
  },
  {
   "cell_type": "markdown",
   "metadata": {},
   "source": [
    "Pocet plateb a nakupu smazeme take, nechame si pouze hodnoty, ktere maji vyssi vypovidajici hodnotu"
   ]
  },
  {
   "cell_type": "code",
   "execution_count": 44,
   "metadata": {},
   "outputs": [],
   "source": [
    "#lets just remove credit cards cash movements numbers\n",
    "for i in ['Credit_Cards_Payments_Num','Credit_Cards_Purchases_Num','Credit_Cards_Witrhdrawals_Num']:\n",
    "    cols_to_remove.append(i)"
   ]
  },
  {
   "cell_type": "code",
   "execution_count": 45,
   "metadata": {},
   "outputs": [],
   "source": [
    "for i in ['Branch_Trans_Num','ATM_Trans_Num','APS_Trans_Num','Phone_Trans_Num','Internet_Trans_Num','Deposit_Trans_Num',\n",
    "         'Withdrawl_Trans_Num','Payment_Trans_Num','Transfer_Trans_Num']:\n",
    "    cols_to_remove.append(i)"
   ]
  },
  {
   "cell_type": "code",
   "execution_count": 46,
   "metadata": {},
   "outputs": [
    {
     "data": {
      "text/plain": [
       "53"
      ]
     },
     "execution_count": 46,
     "metadata": {},
     "output_type": "execute_result"
    }
   ],
   "source": [
    "len(raw.columns)"
   ]
  },
  {
   "cell_type": "code",
   "execution_count": 47,
   "metadata": {},
   "outputs": [
    {
     "data": {
      "text/html": [
       "<div>\n",
       "<style scoped>\n",
       "    .dataframe tbody tr th:only-of-type {\n",
       "        vertical-align: middle;\n",
       "    }\n",
       "\n",
       "    .dataframe tbody tr th {\n",
       "        vertical-align: top;\n",
       "    }\n",
       "\n",
       "    .dataframe thead th {\n",
       "        text-align: right;\n",
       "    }\n",
       "</style>\n",
       "<table border=\"1\" class=\"dataframe\">\n",
       "  <thead>\n",
       "    <tr style=\"text-align: right;\">\n",
       "      <th></th>\n",
       "      <th>Gender</th>\n",
       "      <th>Children_Num</th>\n",
       "      <th>Total_Income</th>\n",
       "      <th>Payroll_Flag</th>\n",
       "      <th>Business_Flag</th>\n",
       "      <th>Saving_Current_Accounts_Flag</th>\n",
       "      <th>Credit_Cards_Flag</th>\n",
       "      <th>Saving_Current_Balance</th>\n",
       "      <th>Investment_Products_Balance</th>\n",
       "      <th>Insurance_Balances</th>\n",
       "      <th>...</th>\n",
       "      <th>Single</th>\n",
       "      <th>Widow</th>\n",
       "      <th>Business-Owners</th>\n",
       "      <th>Employees</th>\n",
       "      <th>Rentiers</th>\n",
       "      <th>Retirees</th>\n",
       "      <th>Self-Employees</th>\n",
       "      <th>Unemployeed</th>\n",
       "      <th>Time_Deposits_Flag</th>\n",
       "      <th>Total_transactions</th>\n",
       "    </tr>\n",
       "  </thead>\n",
       "  <tbody>\n",
       "    <tr>\n",
       "      <th>0</th>\n",
       "      <td>0</td>\n",
       "      <td>2.0</td>\n",
       "      <td>14000.0</td>\n",
       "      <td>0.0</td>\n",
       "      <td>0.0</td>\n",
       "      <td>1.0</td>\n",
       "      <td>1.0</td>\n",
       "      <td>27.288333</td>\n",
       "      <td>0.0</td>\n",
       "      <td>0.0</td>\n",
       "      <td>...</td>\n",
       "      <td>0</td>\n",
       "      <td>0</td>\n",
       "      <td>0</td>\n",
       "      <td>0</td>\n",
       "      <td>1</td>\n",
       "      <td>0</td>\n",
       "      <td>0</td>\n",
       "      <td>0</td>\n",
       "      <td>F</td>\n",
       "      <td>1.333332</td>\n",
       "    </tr>\n",
       "    <tr>\n",
       "      <th>1</th>\n",
       "      <td>0</td>\n",
       "      <td>0.0</td>\n",
       "      <td>17577.0</td>\n",
       "      <td>0.0</td>\n",
       "      <td>0.0</td>\n",
       "      <td>1.0</td>\n",
       "      <td>0.0</td>\n",
       "      <td>120.186666</td>\n",
       "      <td>0.0</td>\n",
       "      <td>0.0</td>\n",
       "      <td>...</td>\n",
       "      <td>0</td>\n",
       "      <td>0</td>\n",
       "      <td>0</td>\n",
       "      <td>1</td>\n",
       "      <td>0</td>\n",
       "      <td>0</td>\n",
       "      <td>0</td>\n",
       "      <td>0</td>\n",
       "      <td>F</td>\n",
       "      <td>7.333333</td>\n",
       "    </tr>\n",
       "    <tr>\n",
       "      <th>2</th>\n",
       "      <td>0</td>\n",
       "      <td>1.0</td>\n",
       "      <td>3000.0</td>\n",
       "      <td>0.0</td>\n",
       "      <td>0.0</td>\n",
       "      <td>1.0</td>\n",
       "      <td>0.0</td>\n",
       "      <td>987.435000</td>\n",
       "      <td>0.0</td>\n",
       "      <td>0.0</td>\n",
       "      <td>...</td>\n",
       "      <td>0</td>\n",
       "      <td>0</td>\n",
       "      <td>0</td>\n",
       "      <td>0</td>\n",
       "      <td>1</td>\n",
       "      <td>0</td>\n",
       "      <td>0</td>\n",
       "      <td>0</td>\n",
       "      <td>F</td>\n",
       "      <td>0.500000</td>\n",
       "    </tr>\n",
       "    <tr>\n",
       "      <th>3</th>\n",
       "      <td>0</td>\n",
       "      <td>0.0</td>\n",
       "      <td>14735.0</td>\n",
       "      <td>0.0</td>\n",
       "      <td>0.0</td>\n",
       "      <td>1.0</td>\n",
       "      <td>1.0</td>\n",
       "      <td>5.581666</td>\n",
       "      <td>0.0</td>\n",
       "      <td>0.0</td>\n",
       "      <td>...</td>\n",
       "      <td>0</td>\n",
       "      <td>0</td>\n",
       "      <td>0</td>\n",
       "      <td>0</td>\n",
       "      <td>1</td>\n",
       "      <td>0</td>\n",
       "      <td>0</td>\n",
       "      <td>0</td>\n",
       "      <td>F</td>\n",
       "      <td>0.000000</td>\n",
       "    </tr>\n",
       "    <tr>\n",
       "      <th>4</th>\n",
       "      <td>0</td>\n",
       "      <td>0.0</td>\n",
       "      <td>99755.0</td>\n",
       "      <td>0.0</td>\n",
       "      <td>1.0</td>\n",
       "      <td>1.0</td>\n",
       "      <td>1.0</td>\n",
       "      <td>1614.756666</td>\n",
       "      <td>0.0</td>\n",
       "      <td>0.0</td>\n",
       "      <td>...</td>\n",
       "      <td>1</td>\n",
       "      <td>0</td>\n",
       "      <td>1</td>\n",
       "      <td>0</td>\n",
       "      <td>0</td>\n",
       "      <td>0</td>\n",
       "      <td>0</td>\n",
       "      <td>0</td>\n",
       "      <td>F</td>\n",
       "      <td>6.000000</td>\n",
       "    </tr>\n",
       "  </tbody>\n",
       "</table>\n",
       "<p>5 rows × 36 columns</p>\n",
       "</div>"
      ],
      "text/plain": [
       "   Gender  Children_Num  Total_Income  Payroll_Flag  Business_Flag  \\\n",
       "0       0           2.0       14000.0           0.0            0.0   \n",
       "1       0           0.0       17577.0           0.0            0.0   \n",
       "2       0           1.0        3000.0           0.0            0.0   \n",
       "3       0           0.0       14735.0           0.0            0.0   \n",
       "4       0           0.0       99755.0           0.0            1.0   \n",
       "\n",
       "   Saving_Current_Accounts_Flag  Credit_Cards_Flag  Saving_Current_Balance  \\\n",
       "0                           1.0                1.0               27.288333   \n",
       "1                           1.0                0.0              120.186666   \n",
       "2                           1.0                0.0              987.435000   \n",
       "3                           1.0                1.0                5.581666   \n",
       "4                           1.0                1.0             1614.756666   \n",
       "\n",
       "   Investment_Products_Balance  Insurance_Balances  ...  Single  Widow  \\\n",
       "0                          0.0                 0.0  ...       0      0   \n",
       "1                          0.0                 0.0  ...       0      0   \n",
       "2                          0.0                 0.0  ...       0      0   \n",
       "3                          0.0                 0.0  ...       0      0   \n",
       "4                          0.0                 0.0  ...       1      0   \n",
       "\n",
       "   Business-Owners  Employees  Rentiers  Retirees  Self-Employees  \\\n",
       "0                0          0         1         0               0   \n",
       "1                0          1         0         0               0   \n",
       "2                0          0         1         0               0   \n",
       "3                0          0         1         0               0   \n",
       "4                1          0         0         0               0   \n",
       "\n",
       "   Unemployeed  Time_Deposits_Flag  Total_transactions  \n",
       "0            0                   F            1.333332  \n",
       "1            0                   F            7.333333  \n",
       "2            0                   F            0.500000  \n",
       "3            0                   F            0.000000  \n",
       "4            0                   F            6.000000  \n",
       "\n",
       "[5 rows x 36 columns]"
      ]
     },
     "execution_count": 47,
     "metadata": {},
     "output_type": "execute_result"
    }
   ],
   "source": [
    "raw.drop(cols_to_remove, axis = 1, inplace = True)\n",
    "df = raw.copy()\n",
    "df.head()"
   ]
  },
  {
   "cell_type": "markdown",
   "metadata": {},
   "source": [
    "Pruzkum cilove promenne"
   ]
  },
  {
   "cell_type": "code",
   "execution_count": 48,
   "metadata": {
    "scrolled": true
   },
   "outputs": [
    {
     "data": {
      "text/plain": [
       "F    9897\n",
       "T     103\n",
       "Name: Time_Deposits_Flag, dtype: int64"
      ]
     },
     "execution_count": 48,
     "metadata": {},
     "output_type": "execute_result"
    }
   ],
   "source": [
    "#and of course, our y\n",
    "df['Time_Deposits_Flag'].value_counts()"
   ]
  },
  {
   "cell_type": "code",
   "execution_count": 49,
   "metadata": {},
   "outputs": [],
   "source": [
    "df['Time_Deposits_Flag'] = df['Time_Deposits_Flag'].map({'F' : 0, 'T' : 1})"
   ]
  },
  {
   "cell_type": "code",
   "execution_count": 50,
   "metadata": {},
   "outputs": [
    {
     "data": {
      "text/plain": [
       "0    9897\n",
       "1     103\n",
       "Name: Time_Deposits_Flag, dtype: int64"
      ]
     },
     "execution_count": 50,
     "metadata": {},
     "output_type": "execute_result"
    }
   ],
   "source": [
    "df['Time_Deposits_Flag'].value_counts()"
   ]
  },
  {
   "cell_type": "markdown",
   "metadata": {},
   "source": [
    "Objevili jsme, ze pozitivnich pripadu mame jen kolem 1% ze vsech zaznamu. "
   ]
  },
  {
   "cell_type": "code",
   "execution_count": 51,
   "metadata": {},
   "outputs": [
    {
     "data": {
      "text/plain": [
       "Index(['Gender', 'Children_Num', 'Total_Income', 'Payroll_Flag',\n",
       "       'Business_Flag', 'Saving_Current_Accounts_Flag', 'Credit_Cards_Flag',\n",
       "       'Saving_Current_Balance', 'Investment_Products_Balance',\n",
       "       'Insurance_Balances', 'Business_Loans_Balance', 'Housing_Loans_Balance',\n",
       "       'Consumer_Loans_Balance', 'Credit_Cards_Balance',\n",
       "       'Deposit_Trans_Amount', 'Withdrawl_Trans_Amount',\n",
       "       'Payment_Trans_Amount', 'Transfer_Trans_Amount',\n",
       "       'Credit_Cards_Installments', 'Credit_Cards_Payments_Amount',\n",
       "       'Credit_Cards_Purchases_Amount', 'Credit_Cards_Witrhdrawals_Amount',\n",
       "       'Arrears_Months_Max', 'Age', 'Divorced', 'Married', 'Single', 'Widow',\n",
       "       'Business-Owners', 'Employees', 'Rentiers', 'Retirees',\n",
       "       'Self-Employees', 'Unemployeed', 'Time_Deposits_Flag',\n",
       "       'Total_transactions'],\n",
       "      dtype='object')"
      ]
     },
     "execution_count": 51,
     "metadata": {},
     "output_type": "execute_result"
    }
   ],
   "source": [
    "#we only have 103 yes labels, this is a problem for all the ML algorithms, this is too small\n",
    "#whatever, let's go on\n",
    "df.columns"
   ]
  },
  {
   "cell_type": "code",
   "execution_count": 52,
   "metadata": {},
   "outputs": [],
   "source": [
    "colsfinal = ['Gender', 'Children_Num', 'Total_Income', 'Payroll_Flag',\n",
    "       'Business_Flag', 'Saving_Current_Accounts_Flag', 'Credit_Cards_Flag',\n",
    "       'Saving_Current_Balance', 'Investment_Products_Balance',\n",
    "       'Insurance_Balances', 'Business_Loans_Balance', 'Housing_Loans_Balance',\n",
    "       'Consumer_Loans_Balance', 'Credit_Cards_Balance',\n",
    "       'Deposit_Trans_Amount', 'Withdrawl_Trans_Amount',\n",
    "       'Payment_Trans_Amount', 'Transfer_Trans_Amount',\n",
    "       'Credit_Cards_Installments', 'Credit_Cards_Payments_Amount',\n",
    "       'Credit_Cards_Purchases_Amount', 'Credit_Cards_Witrhdrawals_Amount',\n",
    "       'Arrears_Months_Max', 'Age', 'Divorced', 'Married', 'Single', 'Widow',\n",
    "       'Business-Owners', 'Employees', 'Rentiers', 'Retirees',\n",
    "       'Self-Employees', 'Unemployeed', 'Total_transactions', 'Time_Deposits_Flag']\n",
    "df = df[colsfinal]"
   ]
  },
  {
   "cell_type": "markdown",
   "metadata": {},
   "source": [
    "Rozdeleni finalni upravy dat na train, valid a test set. Train je set trenovaci, valid je validacni, na kterem se evaluuji algoritmy, kterym se test poskytne az nakonec (A POUZE JEDNOU!!!). Aby nedoslo k overfitu algoritmu na train datech a zaroven aby 'nebyl seznamen' s finalnim testem."
   ]
  },
  {
   "cell_type": "code",
   "execution_count": 53,
   "metadata": {},
   "outputs": [
    {
     "data": {
      "text/html": [
       "<div>\n",
       "<style scoped>\n",
       "    .dataframe tbody tr th:only-of-type {\n",
       "        vertical-align: middle;\n",
       "    }\n",
       "\n",
       "    .dataframe tbody tr th {\n",
       "        vertical-align: top;\n",
       "    }\n",
       "\n",
       "    .dataframe thead th {\n",
       "        text-align: right;\n",
       "    }\n",
       "</style>\n",
       "<table border=\"1\" class=\"dataframe\">\n",
       "  <thead>\n",
       "    <tr style=\"text-align: right;\">\n",
       "      <th></th>\n",
       "      <th>Gender</th>\n",
       "      <th>Children_Num</th>\n",
       "      <th>Total_Income</th>\n",
       "      <th>Payroll_Flag</th>\n",
       "      <th>Business_Flag</th>\n",
       "      <th>Saving_Current_Accounts_Flag</th>\n",
       "      <th>Credit_Cards_Flag</th>\n",
       "      <th>Saving_Current_Balance</th>\n",
       "      <th>Investment_Products_Balance</th>\n",
       "      <th>Insurance_Balances</th>\n",
       "      <th>...</th>\n",
       "      <th>Married</th>\n",
       "      <th>Single</th>\n",
       "      <th>Widow</th>\n",
       "      <th>Business-Owners</th>\n",
       "      <th>Employees</th>\n",
       "      <th>Rentiers</th>\n",
       "      <th>Retirees</th>\n",
       "      <th>Self-Employees</th>\n",
       "      <th>Unemployeed</th>\n",
       "      <th>Total_transactions</th>\n",
       "    </tr>\n",
       "  </thead>\n",
       "  <tbody>\n",
       "    <tr>\n",
       "      <th>0</th>\n",
       "      <td>0</td>\n",
       "      <td>2.0</td>\n",
       "      <td>14000.0</td>\n",
       "      <td>0.0</td>\n",
       "      <td>0.0</td>\n",
       "      <td>1.0</td>\n",
       "      <td>1.0</td>\n",
       "      <td>27.288333</td>\n",
       "      <td>0.0</td>\n",
       "      <td>0.0</td>\n",
       "      <td>...</td>\n",
       "      <td>1</td>\n",
       "      <td>0</td>\n",
       "      <td>0</td>\n",
       "      <td>0</td>\n",
       "      <td>0</td>\n",
       "      <td>1</td>\n",
       "      <td>0</td>\n",
       "      <td>0</td>\n",
       "      <td>0</td>\n",
       "      <td>1.333332</td>\n",
       "    </tr>\n",
       "    <tr>\n",
       "      <th>1</th>\n",
       "      <td>0</td>\n",
       "      <td>0.0</td>\n",
       "      <td>17577.0</td>\n",
       "      <td>0.0</td>\n",
       "      <td>0.0</td>\n",
       "      <td>1.0</td>\n",
       "      <td>0.0</td>\n",
       "      <td>120.186666</td>\n",
       "      <td>0.0</td>\n",
       "      <td>0.0</td>\n",
       "      <td>...</td>\n",
       "      <td>0</td>\n",
       "      <td>0</td>\n",
       "      <td>0</td>\n",
       "      <td>0</td>\n",
       "      <td>1</td>\n",
       "      <td>0</td>\n",
       "      <td>0</td>\n",
       "      <td>0</td>\n",
       "      <td>0</td>\n",
       "      <td>7.333333</td>\n",
       "    </tr>\n",
       "    <tr>\n",
       "      <th>2</th>\n",
       "      <td>0</td>\n",
       "      <td>1.0</td>\n",
       "      <td>3000.0</td>\n",
       "      <td>0.0</td>\n",
       "      <td>0.0</td>\n",
       "      <td>1.0</td>\n",
       "      <td>0.0</td>\n",
       "      <td>987.435000</td>\n",
       "      <td>0.0</td>\n",
       "      <td>0.0</td>\n",
       "      <td>...</td>\n",
       "      <td>1</td>\n",
       "      <td>0</td>\n",
       "      <td>0</td>\n",
       "      <td>0</td>\n",
       "      <td>0</td>\n",
       "      <td>1</td>\n",
       "      <td>0</td>\n",
       "      <td>0</td>\n",
       "      <td>0</td>\n",
       "      <td>0.500000</td>\n",
       "    </tr>\n",
       "    <tr>\n",
       "      <th>3</th>\n",
       "      <td>0</td>\n",
       "      <td>0.0</td>\n",
       "      <td>14735.0</td>\n",
       "      <td>0.0</td>\n",
       "      <td>0.0</td>\n",
       "      <td>1.0</td>\n",
       "      <td>1.0</td>\n",
       "      <td>5.581666</td>\n",
       "      <td>0.0</td>\n",
       "      <td>0.0</td>\n",
       "      <td>...</td>\n",
       "      <td>1</td>\n",
       "      <td>0</td>\n",
       "      <td>0</td>\n",
       "      <td>0</td>\n",
       "      <td>0</td>\n",
       "      <td>1</td>\n",
       "      <td>0</td>\n",
       "      <td>0</td>\n",
       "      <td>0</td>\n",
       "      <td>0.000000</td>\n",
       "    </tr>\n",
       "    <tr>\n",
       "      <th>4</th>\n",
       "      <td>0</td>\n",
       "      <td>0.0</td>\n",
       "      <td>99755.0</td>\n",
       "      <td>0.0</td>\n",
       "      <td>1.0</td>\n",
       "      <td>1.0</td>\n",
       "      <td>1.0</td>\n",
       "      <td>1614.756666</td>\n",
       "      <td>0.0</td>\n",
       "      <td>0.0</td>\n",
       "      <td>...</td>\n",
       "      <td>0</td>\n",
       "      <td>1</td>\n",
       "      <td>0</td>\n",
       "      <td>1</td>\n",
       "      <td>0</td>\n",
       "      <td>0</td>\n",
       "      <td>0</td>\n",
       "      <td>0</td>\n",
       "      <td>0</td>\n",
       "      <td>6.000000</td>\n",
       "    </tr>\n",
       "  </tbody>\n",
       "</table>\n",
       "<p>5 rows × 35 columns</p>\n",
       "</div>"
      ],
      "text/plain": [
       "   Gender  Children_Num  Total_Income  Payroll_Flag  Business_Flag  \\\n",
       "0       0           2.0       14000.0           0.0            0.0   \n",
       "1       0           0.0       17577.0           0.0            0.0   \n",
       "2       0           1.0        3000.0           0.0            0.0   \n",
       "3       0           0.0       14735.0           0.0            0.0   \n",
       "4       0           0.0       99755.0           0.0            1.0   \n",
       "\n",
       "   Saving_Current_Accounts_Flag  Credit_Cards_Flag  Saving_Current_Balance  \\\n",
       "0                           1.0                1.0               27.288333   \n",
       "1                           1.0                0.0              120.186666   \n",
       "2                           1.0                0.0              987.435000   \n",
       "3                           1.0                1.0                5.581666   \n",
       "4                           1.0                1.0             1614.756666   \n",
       "\n",
       "   Investment_Products_Balance  Insurance_Balances  ...  Married  Single  \\\n",
       "0                          0.0                 0.0  ...        1       0   \n",
       "1                          0.0                 0.0  ...        0       0   \n",
       "2                          0.0                 0.0  ...        1       0   \n",
       "3                          0.0                 0.0  ...        1       0   \n",
       "4                          0.0                 0.0  ...        0       1   \n",
       "\n",
       "   Widow  Business-Owners  Employees  Rentiers  Retirees  Self-Employees  \\\n",
       "0      0                0          0         1         0               0   \n",
       "1      0                0          1         0         0               0   \n",
       "2      0                0          0         1         0               0   \n",
       "3      0                0          0         1         0               0   \n",
       "4      0                1          0         0         0               0   \n",
       "\n",
       "   Unemployeed  Total_transactions  \n",
       "0            0            1.333332  \n",
       "1            0            7.333333  \n",
       "2            0            0.500000  \n",
       "3            0            0.000000  \n",
       "4            0            6.000000  \n",
       "\n",
       "[5 rows x 35 columns]"
      ]
     },
     "execution_count": 53,
     "metadata": {},
     "output_type": "execute_result"
    }
   ],
   "source": [
    "# we only have 10k instead of 120k data, it's quite possible the sampling was done in a rather unlucky manner, whatevs\n",
    "from sklearn.model_selection import train_test_split\n",
    "\n",
    "X = df[df.columns[:-1]]\n",
    "y = df[df.columns[-1]]\n",
    "X.head()"
   ]
  },
  {
   "cell_type": "code",
   "execution_count": 54,
   "metadata": {},
   "outputs": [
    {
     "data": {
      "text/plain": [
       "0    0\n",
       "1    0\n",
       "2    0\n",
       "3    0\n",
       "4    0\n",
       "Name: Time_Deposits_Flag, dtype: int64"
      ]
     },
     "execution_count": 54,
     "metadata": {},
     "output_type": "execute_result"
    }
   ],
   "source": [
    "y.head()"
   ]
  },
  {
   "cell_type": "code",
   "execution_count": 55,
   "metadata": {},
   "outputs": [
    {
     "name": "stdout",
     "output_type": "stream",
     "text": [
      "10000 10000\n"
     ]
    }
   ],
   "source": [
    "print(len(X), len(y))"
   ]
  },
  {
   "cell_type": "markdown",
   "metadata": {},
   "source": [
    "Samotne deleni datasetu pomoci train_test_split knihovny sklearn"
   ]
  },
  {
   "cell_type": "code",
   "execution_count": 56,
   "metadata": {},
   "outputs": [],
   "source": [
    "X_train, X_test, y_train, y_test = train_test_split(X, y, test_size = 1000, random_state = 42)\n",
    "X_train, X_valid, y_train, y_valid = train_test_split(X_train, y_train, test_size = 1000, random_state = 42)"
   ]
  },
  {
   "cell_type": "code",
   "execution_count": 57,
   "metadata": {},
   "outputs": [
    {
     "name": "stdout",
     "output_type": "stream",
     "text": [
      "8000 1000 1000\n"
     ]
    }
   ],
   "source": [
    "print(len(X_train), len(X_valid), len(X_test))"
   ]
  },
  {
   "cell_type": "markdown",
   "metadata": {},
   "source": [
    "Pruzkum rozlozeni pozitivnich zaznamu v jednotlivych setech. Problemem je, ze je jejich vyskyt pod 1%. Nejprve budeme tento fakt ignorovat a posleze se k uprave vratime."
   ]
  },
  {
   "cell_type": "code",
   "execution_count": 58,
   "metadata": {
    "scrolled": true
   },
   "outputs": [
    {
     "name": "stdout",
     "output_type": "stream",
     "text": [
      "85 6 12\n"
     ]
    }
   ],
   "source": [
    "#out of curiosity, let's check the labels\n",
    "print((y_train == 1).sum(), (y_valid == 1).sum(), (y_test == 1).sum())"
   ]
  },
  {
   "cell_type": "markdown",
   "metadata": {},
   "source": [
    "Skalovani dat - na rozhodovaci stromy nema skalovani vliv, ovsem neuronove site provadeji vypocty nad maticemi a tenzory a skaly dat mohou mit na takove vypocty obrovsky vliv. Je zadouci vse vyskalovat, zde pouzit standard scaler, jenz od kazde hodnoty odecte mean sloupce a vydeli smerodatnou odchylkou, takze hodnoty jednotlivych features odpovidaji rozdeleni N(0,1)"
   ]
  },
  {
   "cell_type": "code",
   "execution_count": 59,
   "metadata": {},
   "outputs": [
    {
     "data": {
      "text/plain": [
       "array([[-0.78392013, -0.7181439 ,  0.64719604, ..., -0.19324699,\n",
       "        -0.23301557,  0.69383573],\n",
       "       [-0.78392013, -0.7181439 ,  1.0843032 , ..., -0.19324699,\n",
       "        -0.23301557,  1.15533954],\n",
       "       [ 1.27564015, -0.7181439 , -0.44223177, ..., -0.19324699,\n",
       "        -0.23301557, -0.761676  ],\n",
       "       ...,\n",
       "       [ 1.27564015, -0.7181439 , -0.18955941, ..., -0.19324699,\n",
       "        -0.23301557, -0.37117269],\n",
       "       [-0.78392013, -0.7181439 , -0.43848232, ..., -0.19324699,\n",
       "        -0.23301557, -0.33567255],\n",
       "       [-0.78392013, -0.7181439 , -0.33704555, ...,  5.1747249 ,\n",
       "        -0.23301557, -0.761676  ]])"
      ]
     },
     "execution_count": 59,
     "metadata": {},
     "output_type": "execute_result"
    }
   ],
   "source": [
    "#scaling data\n",
    "from sklearn.preprocessing import StandardScaler\n",
    "scaler = StandardScaler()\n",
    "scaler.fit_transform(X_train)\n",
    "scaler.transform(X_valid)\n",
    "scaler.transform(X_test)"
   ]
  },
  {
   "cell_type": "markdown",
   "metadata": {},
   "source": [
    "Prvni vyuzitou metodou bude Ensemble learning - nejprve vytrenujeme jednotlive zvolene algoritmy (Random Forest, Extra Trees, Support vector Classifier a Multi-layer perceptron classifier knihovny Scikit-learn) a ohodnotime jejich vykonnost, nasledne je vlozime jako komponenty do Voting Classifieru, kde bude mit kazdy estimator hlas na celkovem vysledku volby kategorie. Voting muze byt HARD (bud 0 nebo 1) nebo SOFT (vraci pravdepodobnosti ke kazde mozne tride)"
   ]
  },
  {
   "cell_type": "code",
   "execution_count": 60,
   "metadata": {},
   "outputs": [],
   "source": [
    "#basic voting classifier \n",
    "\n",
    "from sklearn.ensemble import RandomForestClassifier, ExtraTreesClassifier\n",
    "from sklearn.svm import LinearSVC\n",
    "from sklearn.neural_network import MLPClassifier\n",
    "\n",
    "random_forest_clf = RandomForestClassifier(n_estimators=100, random_state=42)\n",
    "extra_trees_clf = ExtraTreesClassifier(n_estimators=100, random_state=42)\n",
    "svm_clf = LinearSVC(random_state=42)\n",
    "mlp_clf = MLPClassifier(random_state=42)"
   ]
  },
  {
   "cell_type": "code",
   "execution_count": 61,
   "metadata": {},
   "outputs": [
    {
     "name": "stdout",
     "output_type": "stream",
     "text": [
      "Training the RandomForestClassifier(random_state=42)\n",
      "Training the ExtraTreesClassifier(random_state=42)\n",
      "Training the LinearSVC(random_state=42)\n"
     ]
    },
    {
     "name": "stderr",
     "output_type": "stream",
     "text": [
      "c:\\users\\hartd\\appdata\\local\\programs\\python\\python38\\lib\\site-packages\\sklearn\\svm\\_base.py:976: ConvergenceWarning: Liblinear failed to converge, increase the number of iterations.\n",
      "  warnings.warn(\"Liblinear failed to converge, increase \"\n"
     ]
    },
    {
     "name": "stdout",
     "output_type": "stream",
     "text": [
      "Training the MLPClassifier(random_state=42)\n"
     ]
    }
   ],
   "source": [
    "estimators = [random_forest_clf, extra_trees_clf, svm_clf, mlp_clf]\n",
    "for estimator in estimators:\n",
    "    print(\"Training the\", estimator)\n",
    "    estimator.fit(X_train, y_train)"
   ]
  },
  {
   "cell_type": "markdown",
   "metadata": {},
   "source": [
    "Skore jednotlivych samostatnych klasifikatoru"
   ]
  },
  {
   "cell_type": "markdown",
   "metadata": {},
   "source": [
    "SVC neni vhodny, po shlednuti vykonnosti ho nebudeme dale uvazovat"
   ]
  },
  {
   "cell_type": "code",
   "execution_count": 62,
   "metadata": {
    "scrolled": true
   },
   "outputs": [
    {
     "data": {
      "text/plain": [
       "[0.994, 0.993, 0.911, 0.994]"
      ]
     },
     "execution_count": 62,
     "metadata": {},
     "output_type": "execute_result"
    }
   ],
   "source": [
    "[estimator.score(X_valid, y_valid) for estimator in estimators]"
   ]
  },
  {
   "cell_type": "markdown",
   "metadata": {},
   "source": [
    "Konstrukce Voting Classifieru"
   ]
  },
  {
   "cell_type": "code",
   "execution_count": 63,
   "metadata": {},
   "outputs": [
    {
     "data": {
      "text/plain": [
       "VotingClassifier(estimators=[('random_forest_clf',\n",
       "                              RandomForestClassifier(random_state=42)),\n",
       "                             ('extra_trees_clf',\n",
       "                              ExtraTreesClassifier(random_state=42)),\n",
       "                             ('mlp_clf', MLPClassifier(random_state=42))])"
      ]
     },
     "execution_count": 63,
     "metadata": {},
     "output_type": "execute_result"
    }
   ],
   "source": [
    "#that's very nice, but even a predictor returning only 0 has over 98% accuracy at this point)\n",
    "#also, LinearSVC is not appropriate\n",
    "from sklearn.ensemble import VotingClassifier\n",
    "\n",
    "\n",
    "named_estimators = [\n",
    "    (\"random_forest_clf\", random_forest_clf),\n",
    "    (\"extra_trees_clf\", extra_trees_clf),\n",
    "    (\"mlp_clf\", mlp_clf),\n",
    "]\n",
    "\n",
    "voting_clf = VotingClassifier(named_estimators)\n",
    "\n",
    "voting_clf.fit(X_train, y_train)"
   ]
  },
  {
   "cell_type": "markdown",
   "metadata": {},
   "source": [
    "Performance Voting Classifieru na validacnim datasetu"
   ]
  },
  {
   "cell_type": "code",
   "execution_count": 64,
   "metadata": {
    "scrolled": true
   },
   "outputs": [
    {
     "data": {
      "text/plain": [
       "0.994"
      ]
     },
     "execution_count": 64,
     "metadata": {},
     "output_type": "execute_result"
    }
   ],
   "source": [
    "voting_clf.score(X_valid, y_valid)"
   ]
  },
  {
   "cell_type": "code",
   "execution_count": 65,
   "metadata": {},
   "outputs": [
    {
     "data": {
      "text/plain": [
       "[0.994, 0.993, 0.994]"
      ]
     },
     "execution_count": 65,
     "metadata": {},
     "output_type": "execute_result"
    }
   ],
   "source": [
    "#score for every estimator used\n",
    "[estimator.score(X_valid, y_valid) for estimator in voting_clf.estimators_]"
   ]
  },
  {
   "cell_type": "markdown",
   "metadata": {},
   "source": [
    "A nakonec presnost na testovem datasetu. Presnost je 0.988, coz vypada skvele, jenze pozitivnich hodnot je jen cca 1%. Pokud bychom napsali jednoduchou funkci, ktera bude vse klasifikovat jako 0, bude mit vyssi presnost. Nemame vhodna data."
   ]
  },
  {
   "cell_type": "code",
   "execution_count": 66,
   "metadata": {},
   "outputs": [
    {
     "data": {
      "text/plain": [
       "0.988"
      ]
     },
     "execution_count": 66,
     "metadata": {},
     "output_type": "execute_result"
    }
   ],
   "source": [
    "#let's measure test set accuracy\n",
    "from sklearn.metrics import accuracy_score\n",
    "\n",
    "y_predd = voting_clf.predict(X_test)\n",
    "accuracy_score(y_test, y_predd)"
   ]
  },
  {
   "cell_type": "markdown",
   "metadata": {},
   "source": [
    "Dale je pouzit stacking (nebo take blending) - output jednoho algoritmu je inputem druheho, a tak algoritmy opravuji postupne jeden druhy. "
   ]
  },
  {
   "cell_type": "code",
   "execution_count": 67,
   "metadata": {},
   "outputs": [],
   "source": [
    "#building a blender (stacking)\n",
    "estimators = [random_forest_clf, extra_trees_clf, mlp_clf]\n",
    "X_valid_predictions = np.empty((len(X_valid), len(estimators)), dtype=np.float32)\n",
    "\n",
    "for index, estimator in enumerate(estimators):\n",
    "    X_valid_predictions[:, index] = estimator.predict(X_valid)"
   ]
  },
  {
   "cell_type": "code",
   "execution_count": 68,
   "metadata": {},
   "outputs": [
    {
     "data": {
      "text/plain": [
       "RandomForestClassifier(n_estimators=200, oob_score=True, random_state=42)"
      ]
     },
     "execution_count": 68,
     "metadata": {},
     "output_type": "execute_result"
    }
   ],
   "source": [
    "rnd_forest_blender = RandomForestClassifier(n_estimators=200, oob_score=True, random_state=42)\n",
    "rnd_forest_blender.fit(X_valid_predictions, y_valid)"
   ]
  },
  {
   "cell_type": "markdown",
   "metadata": {},
   "source": [
    "Score je 0.994, coz neni zle."
   ]
  },
  {
   "cell_type": "code",
   "execution_count": 69,
   "metadata": {},
   "outputs": [
    {
     "data": {
      "text/plain": [
       "0.994"
      ]
     },
     "execution_count": 69,
     "metadata": {},
     "output_type": "execute_result"
    }
   ],
   "source": [
    "rnd_forest_blender.oob_score_"
   ]
  },
  {
   "cell_type": "code",
   "execution_count": 70,
   "metadata": {},
   "outputs": [],
   "source": [
    "#accuracy seems to be the same"
   ]
  },
  {
   "cell_type": "markdown",
   "metadata": {},
   "source": [
    "### Neuronova sit pomoci TensorFlow"
   ]
  },
  {
   "cell_type": "code",
   "execution_count": 71,
   "metadata": {},
   "outputs": [
    {
     "data": {
      "text/plain": [
       "35"
      ]
     },
     "execution_count": 71,
     "metadata": {},
     "output_type": "execute_result"
    }
   ],
   "source": [
    "# TF NN #\n",
    "#very basic TF NN\n",
    "import tensorflow as tf\n",
    "\n",
    "len(X_train.columns)"
   ]
  },
  {
   "cell_type": "markdown",
   "metadata": {},
   "source": [
    "Zde nejprve pouzijeme obecny model. V nem uvazujeme tri vrstvy (vstupni s takovym poctem neuronu, kolik je variables v X setu), prostredni s hyperparametrem pro velikost vrstvy (zde 50 = 50 neuronu), a nakonec vrstvu vracejici 2 vystupy pomoci aktivacni funkce softmax - pravdepodobnosti pro jednotlive tridy. Aktivacni funkci pro prvni dve vrstvy je nejpouzivanejsi Rectified Linear Unit (relu), jako optimalizacni algoritmus je vybran defaultni Adam, ztrata vypoctena pomoci Sparse Categorical Crossentropy. Metrikou bude presnost. \n",
    "\n",
    "Pozn. Tento model je vhodny spise pro klasifikaci vicero trid, na logistickou regresi mame vhodnejsi model dale"
   ]
  },
  {
   "cell_type": "code",
   "execution_count": 72,
   "metadata": {},
   "outputs": [],
   "source": [
    "input_size = len(X_train.columns)\n",
    "output_size = 2 #0/1\n",
    "hidden_layer_size = 50 #neurons in one layer\n",
    "\n",
    "model = tf.keras.Sequential([\n",
    "    tf.keras.layers.Dense(input_size, activation = 'relu'),\n",
    "    tf.keras.layers.Dense(hidden_layer_size, activation = 'relu'),\n",
    "    tf.keras.layers.Dense(output_size, activation = 'softmax') #binary outputs --> softmax ftw, transforms outputs into Ps\n",
    "])\n",
    "\n",
    "model.compile(optimizer = 'adam', loss = 'sparse_categorical_crossentropy', metrics = ['accuracy'])"
   ]
  },
  {
   "cell_type": "markdown",
   "metadata": {},
   "source": [
    "Velikost batche, pocet epochs (opakovani uceni) jsou hyperparametry, stejne jako patience (trpelivost) pro vestavenou pojistku proti overfittingu - Early Stopping. Tato funkce zastavi uceni v pripade, ze se ztrata na validacnich datech k-krat po sobe zvysila.\n",
    "\n",
    "Nasledujici kus kodu trenuje model na train datech. Argument verbose vypisuje stav uceni. V ramci tohoto modelu je early stopping zakomentovany, nyni ho nevyuzijeme."
   ]
  },
  {
   "cell_type": "code",
   "execution_count": 73,
   "metadata": {},
   "outputs": [
    {
     "name": "stdout",
     "output_type": "stream",
     "text": [
      "Epoch 1/20\n",
      "WARNING:tensorflow:Layer dense is casting an input tensor from dtype float64 to the layer's dtype of float32, which is new behavior in TensorFlow 2.  The layer has dtype float32 because its dtype defaults to floatx.\n",
      "\n",
      "If you intended to run this layer in float32, you can safely ignore this warning. If in doubt, this warning is likely only an issue if you are porting a TensorFlow 1.X model to TensorFlow 2.\n",
      "\n",
      "To change all layers to have dtype float64 by default, call `tf.keras.backend.set_floatx('float64')`. To change just this layer, pass dtype='float64' to the layer constructor. If you are the author of this layer, you can disable autocasting by passing autocast=False to the base Layer constructor.\n",
      "\n",
      "32/32 - 0s - loss: 106.2829 - accuracy: 0.9477 - val_loss: 15.7931 - val_accuracy: 0.9840\n",
      "Epoch 2/20\n",
      "32/32 - 0s - loss: 29.0866 - accuracy: 0.9506 - val_loss: 7.1232 - val_accuracy: 0.9450\n",
      "Epoch 3/20\n",
      "32/32 - 0s - loss: 16.6947 - accuracy: 0.9719 - val_loss: 8.7292 - val_accuracy: 0.9910\n",
      "Epoch 4/20\n",
      "32/32 - 0s - loss: 22.7106 - accuracy: 0.9632 - val_loss: 19.2096 - val_accuracy: 0.9940\n",
      "Epoch 5/20\n",
      "32/32 - 0s - loss: 49.7147 - accuracy: 0.9875 - val_loss: 5.6547 - val_accuracy: 0.9940\n",
      "Epoch 6/20\n",
      "32/32 - 0s - loss: 13.1521 - accuracy: 0.9729 - val_loss: 2.8595 - val_accuracy: 0.9890\n",
      "Epoch 7/20\n",
      "32/32 - 0s - loss: 20.2222 - accuracy: 0.9850 - val_loss: 3.8810 - val_accuracy: 0.9870\n",
      "Epoch 8/20\n",
      "32/32 - 0s - loss: 28.2783 - accuracy: 0.9729 - val_loss: 7.9185 - val_accuracy: 0.9910\n",
      "Epoch 9/20\n",
      "32/32 - 0s - loss: 8.5369 - accuracy: 0.9624 - val_loss: 7.3268 - val_accuracy: 0.9940\n",
      "Epoch 10/20\n",
      "32/32 - 0s - loss: 19.7498 - accuracy: 0.9872 - val_loss: 85.1793 - val_accuracy: 0.4090\n",
      "Epoch 11/20\n",
      "32/32 - 0s - loss: 50.9692 - accuracy: 0.9700 - val_loss: 14.7902 - val_accuracy: 0.9890\n",
      "Epoch 12/20\n",
      "32/32 - 0s - loss: 22.4499 - accuracy: 0.9736 - val_loss: 1.8839 - val_accuracy: 0.9910\n",
      "Epoch 13/20\n",
      "32/32 - 0s - loss: 22.1979 - accuracy: 0.9819 - val_loss: 9.4106 - val_accuracy: 0.9870\n",
      "Epoch 14/20\n",
      "32/32 - 0s - loss: 12.2442 - accuracy: 0.9751 - val_loss: 6.9379 - val_accuracy: 0.9940\n",
      "Epoch 15/20\n",
      "32/32 - 0s - loss: 21.0112 - accuracy: 0.9746 - val_loss: 9.7408 - val_accuracy: 0.9940\n",
      "Epoch 16/20\n",
      "32/32 - 0s - loss: 15.3611 - accuracy: 0.9744 - val_loss: 3.1681 - val_accuracy: 0.9920\n",
      "Epoch 17/20\n",
      "32/32 - 0s - loss: 11.3827 - accuracy: 0.9836 - val_loss: 4.4836 - val_accuracy: 0.9940\n",
      "Epoch 18/20\n",
      "32/32 - 0s - loss: 13.6815 - accuracy: 0.9754 - val_loss: 6.6929 - val_accuracy: 0.9890\n",
      "Epoch 19/20\n",
      "32/32 - 0s - loss: 20.3577 - accuracy: 0.9790 - val_loss: 10.2007 - val_accuracy: 0.9930\n",
      "Epoch 20/20\n",
      "32/32 - 0s - loss: 15.1854 - accuracy: 0.9744 - val_loss: 1.9832 - val_accuracy: 0.9890\n"
     ]
    }
   ],
   "source": [
    "BATCH_SIZE = 250\n",
    "MAX_EPOCHS = 20\n",
    "patience = 30 \n",
    "early_stopping = tf.keras.callbacks.EarlyStopping(patience = patience) #stops after X consecutive val_loss increases\n",
    "#comment early_stopping and delete callbacks argument to remove this limitation\n",
    "\n",
    "history = model.fit(X_train, y_train, batch_size = BATCH_SIZE, epochs = MAX_EPOCHS, callbacks = [early_stopping],\n",
    "          validation_data = (X_valid, y_valid), verbose = 2)"
   ]
  },
  {
   "cell_type": "markdown",
   "metadata": {},
   "source": [
    "Je dobre po kazdem uceni zobrazit si vyvoj ztraty na train a valid datech pro podporu odhadu toho, kolik epochs modelu staci k nauceni a kdy uz je to overfitting."
   ]
  },
  {
   "cell_type": "code",
   "execution_count": 74,
   "metadata": {
    "scrolled": true
   },
   "outputs": [
    {
     "data": {
      "text/plain": [
       "<matplotlib.legend.Legend at 0x1b8a595e040>"
      ]
     },
     "execution_count": 74,
     "metadata": {},
     "output_type": "execute_result"
    },
    {
     "data": {
      "image/png": "[encoded data removed]",
      "text/plain": [
       "<Figure size 432x288 with 1 Axes>"
      ]
     },
     "metadata": {
      "needs_background": "light"
     },
     "output_type": "display_data"
    }
   ],
   "source": [
    "plt.plot(history.history['loss'])\n",
    "plt.plot(history.history['val_loss'])\n",
    "plt.title('model loss')\n",
    "plt.ylabel('loss')\n",
    "plt.xlabel('epoch')\n",
    "plt.legend(['loss', 'val_loss'], loc='upper left')"
   ]
  },
  {
   "cell_type": "markdown",
   "metadata": {},
   "source": [
    "A konecne predikce na test set. Opet neco malo pod 99, coz vzhledem k datum neni uspech. "
   ]
  },
  {
   "cell_type": "code",
   "execution_count": 75,
   "metadata": {},
   "outputs": [
    {
     "name": "stdout",
     "output_type": "stream",
     "text": [
      "32/32 [==============================] - 0s 2ms/step - loss: 4.2847 - accuracy: 0.9850\n"
     ]
    }
   ],
   "source": [
    "#prediction on test set\n",
    "test_loss, test_accuracy = model.evaluate(X_test, y_test)"
   ]
  },
  {
   "cell_type": "code",
   "execution_count": 76,
   "metadata": {
    "scrolled": true
   },
   "outputs": [
    {
     "name": "stdout",
     "output_type": "stream",
     "text": [
      "\n",
      "Test loss: 4.28. Test accuracy: 98.50%\n"
     ]
    }
   ],
   "source": [
    "print('\\nTest loss: {0:.2f}. Test accuracy: {1:.2f}%'.format(test_loss,test_accuracy*100.))"
   ]
  },
  {
   "cell_type": "markdown",
   "metadata": {},
   "source": [
    "Tato metoda nebyla prilis vhodna, musime nejakym zpusobem resit maly pocet targetu s hodnotou 1."
   ]
  },
  {
   "cell_type": "markdown",
   "metadata": {},
   "source": [
    "## Reseni maleho poctu pozitivnich targets pomoci metodiky SMOTE"
   ]
  },
  {
   "cell_type": "markdown",
   "metadata": {},
   "source": [
    "Smote - synthetic minority oversampling. Pomoci modulu imblearn muzeme vytvorit synteticke zaznamy zalozene na skutecnych puvodnich pozitivnich targets. Nastavime tedy oversampling na target promennou 1 a undersampling na promennou 0. Vybere se vice pozitivnich a mene negativnich z puvodniho datasetu"
   ]
  },
  {
   "cell_type": "code",
   "execution_count": 77,
   "metadata": {},
   "outputs": [],
   "source": [
    "### LOGISTIC REGRESSION WITH SMOTE AND/OR BOOSTING ###\n",
    "\n",
    "import imblearn\n",
    "from sklearn.linear_model import LogisticRegression\n",
    "from collections import Counter"
   ]
  },
  {
   "cell_type": "markdown",
   "metadata": {},
   "source": [
    "Tvorba pipeline na resample a resample dat"
   ]
  },
  {
   "cell_type": "code",
   "execution_count": 78,
   "metadata": {},
   "outputs": [],
   "source": [
    "from imblearn.over_sampling import SMOTE\n",
    "from imblearn.under_sampling import RandomUnderSampler\n",
    "from imblearn.pipeline import Pipeline\n",
    "import seaborn as sns\n",
    "\n",
    "over = SMOTE(sampling_strategy = 0.1)\n",
    "under = RandomUnderSampler(sampling_strategy = 0.5)\n",
    "seq = [('o', over),('u', under)]\n",
    "\n",
    "pipeline = Pipeline(steps = seq)\n",
    "\n",
    "Xn, yn = pipeline.fit_resample(X,y)"
   ]
  },
  {
   "cell_type": "markdown",
   "metadata": {},
   "source": [
    "Graficke zobrazeni jednotlivych zaznamu pomoci analyzy hlavnich komponent - PCA. PCA je metoda pouzivana pro snizeni dimenzionality datasetu. Zde 35 promennych redukujeme na 2 pro ucely scatterplotu cilovych hodnot. To provadi nasledujici kod. Vypovidajici hodnota jednotlivych komponent je merena pomoci procent rozptylu, ktere jednotlive dimenze vysvetluji. Skvela hodnota je 0.95, dobra nad 0.8, pod 0.6 neni prilis dobra. Vyuziva se pri clusteringu nebo je jednou z metod snizeni dimenzionality pro urychleni trenovaciho procesu. "
   ]
  },
  {
   "cell_type": "markdown",
   "metadata": {},
   "source": [
    "Graf noveho datasetu"
   ]
  },
  {
   "cell_type": "code",
   "execution_count": 79,
   "metadata": {},
   "outputs": [
    {
     "data": {
      "image/png": "[encoded data removed]",
      "text/plain": [
       "<Figure size 576x576 with 1 Axes>"
      ]
     },
     "metadata": {
      "needs_background": "light"
     },
     "output_type": "display_data"
    }
   ],
   "source": [
    "#let's have a looksie using PCA on the original distribution of the targets and the final one\n",
    "from sklearn.decomposition import PCA #reduces dimensionality of the model, this time for the purpose of plotting\n",
    "pca = PCA(n_components=2)\n",
    "principalComponents = pca.fit_transform(X.values)\n",
    "pcadf = pd.DataFrame(data = principalComponents\n",
    "             , columns = ['principal component 1', 'principal component 2'])\n",
    "initialdist = pd.concat([pcadf, y], axis = 1)\n",
    "\n",
    "fig = plt.figure(figsize = (8,8))\n",
    "ax = fig.add_subplot(1,1,1) \n",
    "ax.set_xlabel('Principal Component 1', fontsize = 15)\n",
    "ax.set_ylabel('Principal Component 2', fontsize = 15)\n",
    "ax.set_title('2 component PCA', fontsize = 20)\n",
    "targets = [0, 1]\n",
    "colors = ['r', 'g']\n",
    "for target, color in zip(targets,colors):\n",
    "    indicesToKeep = initialdist['Time_Deposits_Flag'] == target\n",
    "    ax.scatter(initialdist.loc[indicesToKeep, 'principal component 1']\n",
    "               , initialdist.loc[indicesToKeep, 'principal component 2']\n",
    "               , c = color\n",
    "               , s = 50)\n",
    "ax.legend(targets)\n",
    "ax.grid()"
   ]
  },
  {
   "cell_type": "markdown",
   "metadata": {},
   "source": [
    "Graf stareho datasetu, je videt rozdil v cetnosti"
   ]
  },
  {
   "cell_type": "code",
   "execution_count": 80,
   "metadata": {
    "scrolled": false
   },
   "outputs": [
    {
     "data": {
      "image/png": "[encoded data removed]",
      "text/plain": [
       "<Figure size 576x576 with 1 Axes>"
      ]
     },
     "metadata": {
      "needs_background": "light"
     },
     "output_type": "display_data"
    }
   ],
   "source": [
    "pca = PCA(n_components=2)\n",
    "principalComponents = pca.fit_transform(Xn.values)\n",
    "pcadf2 = pd.DataFrame(data = principalComponents\n",
    "             , columns = ['principal component 1', 'principal component 2'])\n",
    "newdist = pd.concat([pcadf2, yn], axis = 1)\n",
    "\n",
    "fig = plt.figure(figsize = (8,8))\n",
    "ax = fig.add_subplot(1,1,1) \n",
    "ax.set_xlabel('Principal Component 1', fontsize = 15)\n",
    "ax.set_ylabel('Principal Component 2', fontsize = 15)\n",
    "ax.set_title('2 component PCA', fontsize = 20)\n",
    "targets = [0, 1]\n",
    "colors = ['r', 'g']\n",
    "for target, color in zip(targets,colors):\n",
    "    indicesToKeep = newdist['Time_Deposits_Flag'] == target\n",
    "    ax.scatter(newdist.loc[indicesToKeep, 'principal component 1']\n",
    "               , newdist.loc[indicesToKeep, 'principal component 2']\n",
    "               , c = color\n",
    "               , s = 50)\n",
    "ax.legend(targets)\n",
    "ax.grid()"
   ]
  },
  {
   "cell_type": "code",
   "execution_count": 81,
   "metadata": {},
   "outputs": [],
   "source": [
    "#okay, that seems more balanced than before, let's try performing some ML on that\n",
    "#this time I won't use validation subset\n",
    "\n",
    "Xn_train, Xn_test, yn_train, yn_test = train_test_split(Xn, yn, test_size = 1000, random_state = 42)"
   ]
  },
  {
   "cell_type": "markdown",
   "metadata": {},
   "source": [
    "Evaluace ensemble learning algoritmu na novych datech pomoci Cross Validation a opakovaneho stratifikovaneho KFoldu. Metrikou je tentokrat, jak je u logisticke regrese s binarnim vystupem spravne a zadouci, AUC score (area under the curve). AUC nad 0.8 je povazovano za dobre, nad 0.9 skvele.\n",
    "\n",
    "POZOR: Pro vyuziti skore roc_auc je treba mit Voting Classifier prepnuty na soft voting, v definici algoritmu 'voting='soft''"
   ]
  },
  {
   "cell_type": "code",
   "execution_count": 82,
   "metadata": {},
   "outputs": [
    {
     "name": "stdout",
     "output_type": "stream",
     "text": [
      "Mean ROC AUC: 0.979\n"
     ]
    }
   ],
   "source": [
    "from sklearn.model_selection import cross_val_score\n",
    "from sklearn.model_selection import RepeatedStratifiedKFold\n",
    "#we'll try voting_clf first\n",
    "### TAKES SOME TIME ###\n",
    "voting_clf_soft = VotingClassifier(named_estimators, voting = 'soft')\n",
    "cv = RepeatedStratifiedKFold(n_splits = 10, n_repeats = 3, random_state = 42)\n",
    "scores = cross_val_score(voting_clf_soft, Xn_train, yn_train, scoring = 'roc_auc', cv = cv)\n",
    "print('Mean ROC AUC: %.3f' % np.mean(scores)) "
   ]
  },
  {
   "cell_type": "markdown",
   "metadata": {},
   "source": [
    "Dale opet neuronova sit v TensorFlow na novych datech. Tentokrat ovsem posledni vrstva vraci pouze jednu hodnotu a aktivacni funkci je sigmoid, coz je spravna aktivacni funkce, pokud provadime binarni klasifikaci. V nasledujici bunce konstrukce modelu. Optimizacnim algoritmem je opet Adam, ale uz u nej upravujeme jeden z nejdulezitejsich hyperparametru - learning rate (v ramci Gradient Descent je LR velikost kroku, ktery algoritmus udela pri kazde backpropagaci - pokud je moc velky, algoritmus osciluje na krivce a nenalezne minimum. Napr pri hodnote 0.5. Pokud je maly, trva dlouho, nez konverguje. Defaultne je tato hodnota nastavena na 0.001, experimentujeme i s jinymi hodnotami.\n",
    "\n",
    "Tentokrate je ztrata merena pomoci binarni krizove entropie, coz je pri binarni klasifikaci daleko vhodnejsi varianta. Metrikou je opet AUC"
   ]
  },
  {
   "cell_type": "code",
   "execution_count": 83,
   "metadata": {},
   "outputs": [],
   "source": [
    "### TF NN AGAIN ###\n",
    "input_size = len(Xn_train.columns)\n",
    "output_size = 1 #sigmoid = 1, softmax = 2\n",
    "hidden_layer_size = 50 #neurons in one layer\n",
    "\n",
    "model2 = tf.keras.Sequential([\n",
    "    tf.keras.layers.Dense(input_size, activation = 'relu'),\n",
    "    tf.keras.layers.Dense(hidden_layer_size, activation = 'relu'),\n",
    "    tf.keras.layers.Dense(output_size, activation = 'sigmoid') #binary outputs --> softmax transforms outputs into Ps, sigmoid 0/1\n",
    "])\n",
    "lr = 0.005\n",
    "adam = tf.keras.optimizers.Adam(learning_rate=lr)\n",
    "model2.compile(optimizer = adam, loss = 'BinaryCrossentropy', metrics = ['AUC'])"
   ]
  },
  {
   "cell_type": "markdown",
   "metadata": {},
   "source": [
    "zaznam o uceni ukladame do promenne history (nejaky zazity standard) pro ucely zobrazeni krivek loss a metrik"
   ]
  },
  {
   "cell_type": "code",
   "execution_count": 84,
   "metadata": {},
   "outputs": [
    {
     "name": "stdout",
     "output_type": "stream",
     "text": [
      "Epoch 1/500\n",
      "WARNING:tensorflow:Layer dense_3 is casting an input tensor from dtype float64 to the layer's dtype of float32, which is new behavior in TensorFlow 2.  The layer has dtype float32 because its dtype defaults to floatx.\n",
      "\n",
      "If you intended to run this layer in float32, you can safely ignore this warning. If in doubt, this warning is likely only an issue if you are porting a TensorFlow 1.X model to TensorFlow 2.\n",
      "\n",
      "To change all layers to have dtype float64 by default, call `tf.keras.backend.set_floatx('float64')`. To change just this layer, pass dtype='float64' to the layer constructor. If you are the author of this layer, you can disable autocasting by passing autocast=False to the base Layer constructor.\n",
      "\n",
      "4/4 - 1s - loss: 1516.2026 - auc: 0.4821 - val_loss: 869.3538 - val_auc: 0.4998\n",
      "Epoch 2/500\n",
      "4/4 - 0s - loss: 771.7498 - auc: 0.5506 - val_loss: 791.3215 - val_auc: 0.6040\n",
      "Epoch 3/500\n",
      "4/4 - 0s - loss: 634.0993 - auc: 0.5660 - val_loss: 683.5895 - val_auc: 0.4997\n",
      "Epoch 4/500\n",
      "4/4 - 0s - loss: 398.6212 - auc: 0.5931 - val_loss: 271.4189 - val_auc: 0.6294\n",
      "Epoch 5/500\n",
      "4/4 - 0s - loss: 215.7702 - auc: 0.5614 - val_loss: 292.1212 - val_auc: 0.6324\n",
      "Epoch 6/500\n",
      "4/4 - 0s - loss: 269.7621 - auc: 0.6363 - val_loss: 193.9958 - val_auc: 0.5285\n",
      "Epoch 7/500\n",
      "4/4 - 0s - loss: 200.1100 - auc: 0.6268 - val_loss: 139.1262 - val_auc: 0.6469\n",
      "Epoch 8/500\n",
      "4/4 - 0s - loss: 208.4765 - auc: 0.5508 - val_loss: 207.1603 - val_auc: 0.6288\n",
      "Epoch 9/500\n",
      "4/4 - 0s - loss: 189.2861 - auc: 0.6340 - val_loss: 245.9942 - val_auc: 0.5004\n",
      "Epoch 10/500\n",
      "4/4 - 0s - loss: 191.8949 - auc: 0.6171 - val_loss: 119.6473 - val_auc: 0.6399\n",
      "Epoch 11/500\n",
      "4/4 - 0s - loss: 170.2856 - auc: 0.5636 - val_loss: 138.2136 - val_auc: 0.6223\n",
      "Epoch 12/500\n",
      "4/4 - 0s - loss: 103.3993 - auc: 0.6366 - val_loss: 50.9029 - val_auc: 0.6213\n",
      "Epoch 13/500\n",
      "4/4 - 0s - loss: 113.2794 - auc: 0.6136 - val_loss: 182.6472 - val_auc: 0.5190\n",
      "Epoch 14/500\n",
      "4/4 - 0s - loss: 194.1355 - auc: 0.5910 - val_loss: 106.5579 - val_auc: 0.6487\n",
      "Epoch 15/500\n",
      "4/4 - 0s - loss: 211.8851 - auc: 0.5620 - val_loss: 50.3749 - val_auc: 0.6250\n",
      "Epoch 16/500\n",
      "4/4 - 0s - loss: 262.6413 - auc: 0.6515 - val_loss: 48.5688 - val_auc: 0.6355\n",
      "Epoch 17/500\n",
      "4/4 - 0s - loss: 264.9381 - auc: 0.5565 - val_loss: 110.9759 - val_auc: 0.5355\n",
      "Epoch 18/500\n",
      "4/4 - 0s - loss: 286.7655 - auc: 0.5929 - val_loss: 94.4539 - val_auc: 0.6740\n",
      "Epoch 19/500\n",
      "4/4 - 0s - loss: 311.6532 - auc: 0.5668 - val_loss: 242.4480 - val_auc: 0.5320\n",
      "Epoch 20/500\n",
      "4/4 - 0s - loss: 200.5518 - auc: 0.6271 - val_loss: 53.4544 - val_auc: 0.6396\n",
      "Epoch 21/500\n",
      "4/4 - 0s - loss: 71.8505 - auc: 0.6256 - val_loss: 131.9111 - val_auc: 0.6495\n",
      "Epoch 22/500\n",
      "4/4 - 0s - loss: 122.8894 - auc: 0.6222 - val_loss: 57.3125 - val_auc: 0.6011\n",
      "Epoch 23/500\n",
      "4/4 - 0s - loss: 144.6816 - auc: 0.6546 - val_loss: 162.9223 - val_auc: 0.5323\n",
      "Epoch 24/500\n",
      "4/4 - 0s - loss: 167.4587 - auc: 0.5633 - val_loss: 280.5415 - val_auc: 0.6377\n",
      "Epoch 25/500\n",
      "4/4 - 0s - loss: 228.6926 - auc: 0.6525 - val_loss: 205.0012 - val_auc: 0.5268\n",
      "Epoch 26/500\n",
      "4/4 - 0s - loss: 184.7127 - auc: 0.5693 - val_loss: 254.7652 - val_auc: 0.6535\n",
      "Epoch 27/500\n",
      "4/4 - 0s - loss: 176.6537 - auc: 0.6154 - val_loss: 118.8908 - val_auc: 0.5495\n",
      "Epoch 28/500\n",
      "4/4 - 0s - loss: 119.8185 - auc: 0.6498 - val_loss: 117.5335 - val_auc: 0.5496\n",
      "Epoch 29/500\n",
      "4/4 - 0s - loss: 112.2887 - auc: 0.5954 - val_loss: 121.2514 - val_auc: 0.6616\n",
      "Epoch 30/500\n",
      "4/4 - 0s - loss: 57.1010 - auc: 0.6610 - val_loss: 114.1738 - val_auc: 0.6690\n",
      "Epoch 31/500\n",
      "4/4 - 0s - loss: 71.1584 - auc: 0.6657 - val_loss: 39.4165 - val_auc: 0.7068\n",
      "Epoch 32/500\n",
      "4/4 - 0s - loss: 34.4601 - auc: 0.6809 - val_loss: 35.6369 - val_auc: 0.6847\n",
      "Epoch 33/500\n",
      "4/4 - 0s - loss: 44.0145 - auc: 0.6363 - val_loss: 79.4899 - val_auc: 0.6609\n",
      "Epoch 34/500\n",
      "4/4 - 0s - loss: 61.2567 - auc: 0.6445 - val_loss: 71.7451 - val_auc: 0.6563\n",
      "Epoch 35/500\n",
      "4/4 - 0s - loss: 49.4531 - auc: 0.6468 - val_loss: 78.4112 - val_auc: 0.6482\n",
      "Epoch 36/500\n",
      "4/4 - 0s - loss: 78.7662 - auc: 0.6299 - val_loss: 38.5227 - val_auc: 0.6254\n",
      "Epoch 37/500\n",
      "4/4 - 0s - loss: 90.3642 - auc: 0.6435 - val_loss: 124.5874 - val_auc: 0.5357\n",
      "Epoch 38/500\n",
      "4/4 - 0s - loss: 123.0492 - auc: 0.6230 - val_loss: 61.1855 - val_auc: 0.6717\n",
      "Epoch 39/500\n",
      "4/4 - 0s - loss: 116.9240 - auc: 0.5960 - val_loss: 78.3174 - val_auc: 0.6687\n",
      "Epoch 40/500\n",
      "4/4 - 0s - loss: 82.6702 - auc: 0.6728 - val_loss: 142.1939 - val_auc: 0.5432\n",
      "Epoch 41/500\n",
      "4/4 - 0s - loss: 87.9181 - auc: 0.6207 - val_loss: 30.5875 - val_auc: 0.7074\n",
      "Epoch 42/500\n",
      "4/4 - 0s - loss: 83.2284 - auc: 0.6070 - val_loss: 158.4874 - val_auc: 0.6460\n",
      "Epoch 43/500\n",
      "4/4 - 0s - loss: 135.1813 - auc: 0.6526 - val_loss: 201.4329 - val_auc: 0.5327\n",
      "Epoch 44/500\n",
      "4/4 - 0s - loss: 169.4267 - auc: 0.6063 - val_loss: 147.7569 - val_auc: 0.6645\n",
      "Epoch 45/500\n",
      "4/4 - 0s - loss: 87.7649 - auc: 0.6341 - val_loss: 45.7308 - val_auc: 0.6839\n",
      "Epoch 46/500\n",
      "4/4 - 0s - loss: 33.2609 - auc: 0.6822 - val_loss: 86.9887 - val_auc: 0.6603\n",
      "Epoch 47/500\n",
      "4/4 - 0s - loss: 69.6068 - auc: 0.6292 - val_loss: 30.1907 - val_auc: 0.7052\n",
      "Epoch 48/500\n",
      "4/4 - 0s - loss: 64.0768 - auc: 0.6580 - val_loss: 108.5541 - val_auc: 0.5462\n",
      "Epoch 49/500\n",
      "4/4 - 0s - loss: 106.2543 - auc: 0.6229 - val_loss: 33.1326 - val_auc: 0.7168\n",
      "Epoch 50/500\n",
      "4/4 - 0s - loss: 76.0880 - auc: 0.6175 - val_loss: 189.5810 - val_auc: 0.6327\n",
      "Epoch 51/500\n",
      "4/4 - 0s - loss: 145.6257 - auc: 0.6481 - val_loss: 201.3265 - val_auc: 0.5275\n",
      "Epoch 52/500\n",
      "4/4 - 0s - loss: 125.8013 - auc: 0.6047 - val_loss: 79.9684 - val_auc: 0.6785\n",
      "Epoch 53/500\n",
      "4/4 - 0s - loss: 78.9959 - auc: 0.6239 - val_loss: 92.7638 - val_auc: 0.6678\n",
      "Epoch 54/500\n",
      "4/4 - 0s - loss: 69.3111 - auc: 0.6557 - val_loss: 32.3259 - val_auc: 0.7104\n",
      "Epoch 55/500\n",
      "4/4 - 0s - loss: 20.5456 - auc: 0.7149 - val_loss: 69.3321 - val_auc: 0.6776\n",
      "Epoch 56/500\n",
      "4/4 - 0s - loss: 27.4113 - auc: 0.7081 - val_loss: 33.5629 - val_auc: 0.6961\n",
      "Epoch 57/500\n",
      "4/4 - 0s - loss: 31.7692 - auc: 0.6671 - val_loss: 49.9974 - val_auc: 0.6638\n",
      "Epoch 58/500\n",
      "4/4 - 0s - loss: 50.0183 - auc: 0.6513 - val_loss: 74.0322 - val_auc: 0.6752\n",
      "Epoch 59/500\n",
      "4/4 - 0s - loss: 54.4369 - auc: 0.6645 - val_loss: 122.7762 - val_auc: 0.6342\n",
      "Epoch 60/500\n",
      "4/4 - 0s - loss: 81.8833 - auc: 0.6431 - val_loss: 70.9898 - val_auc: 0.5453\n",
      "Epoch 61/500\n",
      "4/4 - 0s - loss: 73.4170 - auc: 0.6456 - val_loss: 130.1278 - val_auc: 0.5222\n",
      "Epoch 62/500\n",
      "4/4 - 0s - loss: 100.3855 - auc: 0.5926 - val_loss: 202.3329 - val_auc: 0.6377\n",
      "Epoch 63/500\n",
      "4/4 - 0s - loss: 127.2532 - auc: 0.6245 - val_loss: 103.7466 - val_auc: 0.5388\n",
      "Epoch 64/500\n",
      "4/4 - 0s - loss: 69.0727 - auc: 0.6617 - val_loss: 98.5904 - val_auc: 0.5468\n",
      "Epoch 65/500\n",
      "4/4 - 0s - loss: 86.1624 - auc: 0.6171 - val_loss: 142.0605 - val_auc: 0.6206\n",
      "Epoch 66/500\n",
      "4/4 - 0s - loss: 69.3903 - auc: 0.6420 - val_loss: 70.8242 - val_auc: 0.6779\n",
      "Epoch 67/500\n",
      "4/4 - 0s - loss: 42.4464 - auc: 0.6936 - val_loss: 64.8588 - val_auc: 0.6823\n",
      "Epoch 68/500\n",
      "4/4 - 0s - loss: 47.5282 - auc: 0.6561 - val_loss: 63.2875 - val_auc: 0.6838\n",
      "Epoch 69/500\n",
      "4/4 - 0s - loss: 49.0088 - auc: 0.6686 - val_loss: 45.3495 - val_auc: 0.6796\n",
      "Epoch 70/500\n",
      "4/4 - 0s - loss: 44.1239 - auc: 0.6455 - val_loss: 56.5187 - val_auc: 0.6497\n",
      "Epoch 71/500\n",
      "4/4 - 0s - loss: 47.5146 - auc: 0.6623 - val_loss: 59.4858 - val_auc: 0.6807\n",
      "Epoch 72/500\n",
      "4/4 - 0s - loss: 45.7610 - auc: 0.6757 - val_loss: 54.9672 - val_auc: 0.6809\n",
      "Epoch 73/500\n",
      "4/4 - 0s - loss: 55.4306 - auc: 0.6582 - val_loss: 27.3310 - val_auc: 0.7162\n",
      "Epoch 74/500\n",
      "4/4 - 0s - loss: 53.2584 - auc: 0.6705 - val_loss: 85.4680 - val_auc: 0.5474\n",
      "Epoch 75/500\n",
      "4/4 - 0s - loss: 55.1635 - auc: 0.6821 - val_loss: 89.4876 - val_auc: 0.5551\n",
      "Epoch 76/500\n",
      "4/4 - 0s - loss: 85.5595 - auc: 0.5900 - val_loss: 158.2120 - val_auc: 0.6102\n",
      "Epoch 77/500\n",
      "4/4 - 0s - loss: 121.7573 - auc: 0.6088 - val_loss: 168.7277 - val_auc: 0.5312\n",
      "Epoch 78/500\n",
      "4/4 - 0s - loss: 153.9005 - auc: 0.6394 - val_loss: 133.2865 - val_auc: 0.6614\n",
      "Epoch 79/500\n",
      "4/4 - 0s - loss: 156.2115 - auc: 0.5729 - val_loss: 42.7588 - val_auc: 0.6516\n",
      "Epoch 80/500\n",
      "4/4 - 0s - loss: 138.2809 - auc: 0.6770 - val_loss: 78.5139 - val_auc: 0.5918\n",
      "Epoch 81/500\n",
      "4/4 - 0s - loss: 81.3596 - auc: 0.6194 - val_loss: 82.1898 - val_auc: 0.6730\n",
      "Epoch 82/500\n",
      "4/4 - 0s - loss: 62.4628 - auc: 0.6554 - val_loss: 40.4323 - val_auc: 0.6560\n",
      "Epoch 83/500\n",
      "4/4 - 0s - loss: 57.3530 - auc: 0.6710 - val_loss: 48.5675 - val_auc: 0.6380\n"
     ]
    },
    {
     "name": "stdout",
     "output_type": "stream",
     "text": [
      "Epoch 84/500\n",
      "4/4 - 0s - loss: 26.7213 - auc: 0.6973 - val_loss: 39.4917 - val_auc: 0.6427\n",
      "Epoch 85/500\n",
      "4/4 - 0s - loss: 30.3039 - auc: 0.6901 - val_loss: 67.8814 - val_auc: 0.5701\n",
      "Epoch 86/500\n",
      "4/4 - 0s - loss: 37.7165 - auc: 0.6679 - val_loss: 49.8461 - val_auc: 0.6062\n",
      "Epoch 87/500\n",
      "4/4 - 0s - loss: 49.7055 - auc: 0.6670 - val_loss: 50.2535 - val_auc: 0.6208\n",
      "Epoch 88/500\n",
      "4/4 - 0s - loss: 45.9660 - auc: 0.6561 - val_loss: 26.5105 - val_auc: 0.7247\n",
      "Epoch 89/500\n",
      "4/4 - 0s - loss: 20.4432 - auc: 0.7090 - val_loss: 31.9486 - val_auc: 0.6699\n",
      "Epoch 90/500\n",
      "4/4 - 0s - loss: 16.2923 - auc: 0.7193 - val_loss: 24.6654 - val_auc: 0.6816\n",
      "Epoch 91/500\n",
      "4/4 - 0s - loss: 21.9325 - auc: 0.6650 - val_loss: 55.0232 - val_auc: 0.6685\n",
      "Epoch 92/500\n",
      "4/4 - 0s - loss: 25.5556 - auc: 0.6952 - val_loss: 20.1555 - val_auc: 0.7044\n",
      "Epoch 93/500\n",
      "4/4 - 0s - loss: 18.5526 - auc: 0.7240 - val_loss: 72.7598 - val_auc: 0.5529\n",
      "Epoch 94/500\n",
      "4/4 - 0s - loss: 42.4839 - auc: 0.6375 - val_loss: 78.6220 - val_auc: 0.5569\n",
      "Epoch 95/500\n",
      "4/4 - 0s - loss: 66.0718 - auc: 0.6196 - val_loss: 101.1797 - val_auc: 0.6433\n",
      "Epoch 96/500\n",
      "4/4 - 0s - loss: 62.3136 - auc: 0.6098 - val_loss: 120.4909 - val_auc: 0.6484\n",
      "Epoch 97/500\n",
      "4/4 - 0s - loss: 77.3506 - auc: 0.6381 - val_loss: 23.6260 - val_auc: 0.7293\n",
      "Epoch 98/500\n",
      "4/4 - 0s - loss: 18.4304 - auc: 0.7191 - val_loss: 35.7481 - val_auc: 0.6871\n",
      "Epoch 99/500\n",
      "4/4 - 0s - loss: 19.7353 - auc: 0.6899 - val_loss: 34.4947 - val_auc: 0.6783\n",
      "Epoch 100/500\n",
      "4/4 - 0s - loss: 21.4407 - auc: 0.6600 - val_loss: 29.1280 - val_auc: 0.6780\n",
      "Epoch 101/500\n",
      "4/4 - 0s - loss: 23.2970 - auc: 0.6488 - val_loss: 37.2994 - val_auc: 0.7003\n",
      "Epoch 102/500\n",
      "4/4 - 0s - loss: 21.2913 - auc: 0.6913 - val_loss: 20.9410 - val_auc: 0.7709\n",
      "Epoch 103/500\n",
      "4/4 - 0s - loss: 26.4683 - auc: 0.6641 - val_loss: 112.6114 - val_auc: 0.6391\n",
      "Epoch 104/500\n",
      "4/4 - 0s - loss: 79.9343 - auc: 0.6695 - val_loss: 117.7763 - val_auc: 0.5401\n",
      "Epoch 105/500\n",
      "4/4 - 0s - loss: 106.7540 - auc: 0.6312 - val_loss: 62.3198 - val_auc: 0.6763\n",
      "Epoch 106/500\n",
      "4/4 - 0s - loss: 138.5282 - auc: 0.5885 - val_loss: 99.5357 - val_auc: 0.5490\n",
      "Epoch 107/500\n",
      "4/4 - 0s - loss: 115.1464 - auc: 0.6304 - val_loss: 63.0116 - val_auc: 0.5714\n",
      "Epoch 108/500\n",
      "4/4 - 0s - loss: 62.3988 - auc: 0.6121 - val_loss: 62.8667 - val_auc: 0.6720\n",
      "Epoch 109/500\n",
      "4/4 - 0s - loss: 49.8510 - auc: 0.6417 - val_loss: 59.5393 - val_auc: 0.6832\n",
      "Epoch 110/500\n",
      "4/4 - 0s - loss: 48.4642 - auc: 0.6537 - val_loss: 28.4652 - val_auc: 0.6791\n",
      "Epoch 111/500\n",
      "4/4 - 0s - loss: 44.9313 - auc: 0.6714 - val_loss: 48.5974 - val_auc: 0.5837\n",
      "Epoch 112/500\n",
      "4/4 - 0s - loss: 34.1320 - auc: 0.6792 - val_loss: 18.7639 - val_auc: 0.7297\n",
      "Epoch 113/500\n",
      "4/4 - 0s - loss: 15.1774 - auc: 0.7213 - val_loss: 57.2414 - val_auc: 0.6659\n",
      "Epoch 114/500\n",
      "4/4 - 0s - loss: 49.7150 - auc: 0.6611 - val_loss: 20.4731 - val_auc: 0.7591\n",
      "Epoch 115/500\n",
      "4/4 - 0s - loss: 33.6084 - auc: 0.6994 - val_loss: 45.6181 - val_auc: 0.6866\n",
      "Epoch 116/500\n",
      "4/4 - 0s - loss: 25.9116 - auc: 0.6978 - val_loss: 61.4842 - val_auc: 0.6746\n",
      "Epoch 117/500\n",
      "4/4 - 0s - loss: 41.6271 - auc: 0.6599 - val_loss: 61.2590 - val_auc: 0.6800\n",
      "Epoch 118/500\n",
      "4/4 - 0s - loss: 39.2679 - auc: 0.6635 - val_loss: 43.4574 - val_auc: 0.6891\n",
      "Epoch 119/500\n",
      "4/4 - 0s - loss: 21.2080 - auc: 0.7168 - val_loss: 38.0928 - val_auc: 0.6948\n",
      "Epoch 120/500\n",
      "4/4 - 0s - loss: 33.0703 - auc: 0.6581 - val_loss: 69.1829 - val_auc: 0.6539\n",
      "Epoch 121/500\n",
      "4/4 - 0s - loss: 63.7874 - auc: 0.6425 - val_loss: 44.0315 - val_auc: 0.5878\n",
      "Epoch 122/500\n",
      "4/4 - 0s - loss: 91.1526 - auc: 0.6536 - val_loss: 109.9984 - val_auc: 0.5452\n",
      "Epoch 123/500\n",
      "4/4 - 0s - loss: 105.4419 - auc: 0.5715 - val_loss: 138.3707 - val_auc: 0.6623\n",
      "Epoch 124/500\n",
      "4/4 - 0s - loss: 107.6514 - auc: 0.6574 - val_loss: 181.3583 - val_auc: 0.5497\n",
      "Epoch 125/500\n",
      "4/4 - 0s - loss: 116.0643 - auc: 0.5858 - val_loss: 152.8587 - val_auc: 0.6480\n",
      "Epoch 126/500\n",
      "4/4 - 0s - loss: 103.4471 - auc: 0.6155 - val_loss: 86.8399 - val_auc: 0.5574\n",
      "Epoch 127/500\n",
      "4/4 - 0s - loss: 59.5280 - auc: 0.6795 - val_loss: 66.3877 - val_auc: 0.5852\n",
      "Epoch 128/500\n",
      "4/4 - 0s - loss: 55.9678 - auc: 0.6493 - val_loss: 66.3826 - val_auc: 0.6826\n",
      "Epoch 129/500\n",
      "4/4 - 0s - loss: 37.5932 - auc: 0.6739 - val_loss: 65.1841 - val_auc: 0.6576\n",
      "Epoch 130/500\n",
      "4/4 - 0s - loss: 54.6030 - auc: 0.6548 - val_loss: 21.7548 - val_auc: 0.7435\n",
      "Epoch 131/500\n",
      "4/4 - 0s - loss: 16.5339 - auc: 0.7197 - val_loss: 54.6216 - val_auc: 0.6908\n",
      "Epoch 132/500\n",
      "4/4 - 0s - loss: 32.5885 - auc: 0.6735 - val_loss: 66.4961 - val_auc: 0.6819\n",
      "Epoch 133/500\n",
      "4/4 - 0s - loss: 27.2765 - auc: 0.7073 - val_loss: 20.1081 - val_auc: 0.7426\n",
      "Epoch 134/500\n",
      "4/4 - 0s - loss: 27.2525 - auc: 0.7013 - val_loss: 38.4143 - val_auc: 0.6934\n",
      "Epoch 135/500\n",
      "4/4 - 0s - loss: 43.5111 - auc: 0.6572 - val_loss: 43.7592 - val_auc: 0.6933\n",
      "Epoch 136/500\n",
      "4/4 - 0s - loss: 22.8467 - auc: 0.7165 - val_loss: 25.0613 - val_auc: 0.7261\n",
      "Epoch 137/500\n",
      "4/4 - 0s - loss: 35.7172 - auc: 0.6705 - val_loss: 50.2405 - val_auc: 0.6877\n",
      "Epoch 138/500\n",
      "4/4 - 0s - loss: 33.0474 - auc: 0.6820 - val_loss: 18.2226 - val_auc: 0.7435\n",
      "Epoch 139/500\n",
      "4/4 - 0s - loss: 16.8808 - auc: 0.7071 - val_loss: 29.3548 - val_auc: 0.6283\n",
      "Epoch 140/500\n",
      "4/4 - 0s - loss: 43.2894 - auc: 0.6472 - val_loss: 91.8667 - val_auc: 0.5520\n",
      "Epoch 141/500\n",
      "4/4 - 0s - loss: 83.1617 - auc: 0.6154 - val_loss: 56.3894 - val_auc: 0.6810\n",
      "Epoch 142/500\n",
      "4/4 - 0s - loss: 96.8438 - auc: 0.6064 - val_loss: 26.6506 - val_auc: 0.7020\n",
      "Epoch 143/500\n",
      "4/4 - 0s - loss: 32.3609 - auc: 0.6958 - val_loss: 39.2515 - val_auc: 0.6372\n",
      "Epoch 144/500\n",
      "4/4 - 0s - loss: 35.6257 - auc: 0.6881 - val_loss: 65.0560 - val_auc: 0.5743\n",
      "Epoch 145/500\n",
      "4/4 - 0s - loss: 48.0427 - auc: 0.6923 - val_loss: 43.5510 - val_auc: 0.5917\n",
      "Epoch 146/500\n",
      "4/4 - 0s - loss: 50.5538 - auc: 0.6320 - val_loss: 100.6397 - val_auc: 0.6600\n",
      "Epoch 147/500\n",
      "4/4 - 0s - loss: 81.3310 - auc: 0.6327 - val_loss: 106.2497 - val_auc: 0.5459\n",
      "Epoch 148/500\n",
      "4/4 - 0s - loss: 86.7415 - auc: 0.6603 - val_loss: 43.7993 - val_auc: 0.6981\n",
      "Epoch 149/500\n",
      "4/4 - 0s - loss: 91.9856 - auc: 0.5913 - val_loss: 22.9689 - val_auc: 0.7247\n",
      "Epoch 150/500\n",
      "4/4 - 0s - loss: 78.3326 - auc: 0.7108 - val_loss: 88.7879 - val_auc: 0.5601\n",
      "Epoch 151/500\n",
      "4/4 - 0s - loss: 85.0447 - auc: 0.6002 - val_loss: 112.9042 - val_auc: 0.6621\n",
      "Epoch 152/500\n",
      "4/4 - 0s - loss: 81.7765 - auc: 0.7054 - val_loss: 97.5794 - val_auc: 0.5439\n",
      "Epoch 153/500\n",
      "4/4 - 0s - loss: 70.6549 - auc: 0.6349 - val_loss: 54.1919 - val_auc: 0.6926\n",
      "Epoch 154/500\n",
      "4/4 - 0s - loss: 37.3225 - auc: 0.6858 - val_loss: 57.4042 - val_auc: 0.6843\n",
      "Epoch 155/500\n",
      "4/4 - 0s - loss: 27.7608 - auc: 0.7091 - val_loss: 55.3025 - val_auc: 0.6953\n",
      "Epoch 156/500\n",
      "4/4 - 0s - loss: 41.2276 - auc: 0.6557 - val_loss: 24.7433 - val_auc: 0.7357\n",
      "Epoch 157/500\n",
      "4/4 - 0s - loss: 20.2627 - auc: 0.7269 - val_loss: 20.0544 - val_auc: 0.7394\n",
      "Epoch 158/500\n",
      "4/4 - 0s - loss: 13.3118 - auc: 0.7407 - val_loss: 48.8713 - val_auc: 0.6906\n",
      "Epoch 159/500\n",
      "4/4 - 0s - loss: 29.9550 - auc: 0.6788 - val_loss: 27.6658 - val_auc: 0.7345\n",
      "Epoch 160/500\n",
      "4/4 - 0s - loss: 16.8100 - auc: 0.7313 - val_loss: 17.5625 - val_auc: 0.7503\n",
      "Epoch 161/500\n",
      "4/4 - 0s - loss: 10.5330 - auc: 0.7274 - val_loss: 18.9660 - val_auc: 0.7520\n",
      "Epoch 162/500\n",
      "4/4 - 0s - loss: 24.2396 - auc: 0.6968 - val_loss: 60.0343 - val_auc: 0.5697\n",
      "Epoch 163/500\n",
      "4/4 - 0s - loss: 50.2070 - auc: 0.6365 - val_loss: 71.0077 - val_auc: 0.6707\n",
      "Epoch 164/500\n",
      "4/4 - 0s - loss: 33.0889 - auc: 0.6677 - val_loss: 67.3655 - val_auc: 0.6801\n",
      "Epoch 165/500\n",
      "4/4 - 0s - loss: 40.7965 - auc: 0.6748 - val_loss: 15.6533 - val_auc: 0.7793\n",
      "Epoch 166/500\n",
      "4/4 - 0s - loss: 29.1140 - auc: 0.7036 - val_loss: 59.7102 - val_auc: 0.5550\n",
      "Epoch 167/500\n",
      "4/4 - 0s - loss: 32.5808 - auc: 0.6658 - val_loss: 20.5833 - val_auc: 0.7094\n",
      "Epoch 168/500\n",
      "4/4 - 0s - loss: 24.3631 - auc: 0.7173 - val_loss: 54.7551 - val_auc: 0.5692\n",
      "Epoch 169/500\n",
      "4/4 - 0s - loss: 37.6657 - auc: 0.6935 - val_loss: 45.7723 - val_auc: 0.5836\n",
      "Epoch 170/500\n",
      "4/4 - 0s - loss: 46.1980 - auc: 0.6385 - val_loss: 121.2954 - val_auc: 0.6632\n",
      "Epoch 171/500\n",
      "4/4 - 0s - loss: 86.6379 - auc: 0.6420 - val_loss: 81.6470 - val_auc: 0.5601\n",
      "Epoch 172/500\n",
      "4/4 - 0s - loss: 54.1932 - auc: 0.6897 - val_loss: 29.5833 - val_auc: 0.6548\n",
      "Epoch 173/500\n",
      "4/4 - 0s - loss: 30.3199 - auc: 0.6735 - val_loss: 50.9987 - val_auc: 0.6914\n"
     ]
    },
    {
     "name": "stdout",
     "output_type": "stream",
     "text": [
      "Epoch 174/500\n",
      "4/4 - 0s - loss: 33.2146 - auc: 0.6609 - val_loss: 33.1161 - val_auc: 0.6976\n",
      "Epoch 175/500\n",
      "4/4 - 0s - loss: 24.5797 - auc: 0.7278 - val_loss: 18.6413 - val_auc: 0.7691\n",
      "Epoch 176/500\n",
      "4/4 - 0s - loss: 28.3355 - auc: 0.6858 - val_loss: 26.3112 - val_auc: 0.7272\n",
      "Epoch 177/500\n",
      "4/4 - 0s - loss: 25.0183 - auc: 0.6767 - val_loss: 22.3496 - val_auc: 0.7788\n",
      "Epoch 178/500\n",
      "4/4 - 0s - loss: 28.0600 - auc: 0.6838 - val_loss: 28.4796 - val_auc: 0.7405\n",
      "Epoch 179/500\n",
      "4/4 - 0s - loss: 29.9438 - auc: 0.6659 - val_loss: 80.2939 - val_auc: 0.6684\n",
      "Epoch 180/500\n",
      "4/4 - 0s - loss: 54.5419 - auc: 0.6464 - val_loss: 27.9491 - val_auc: 0.6538\n",
      "Epoch 181/500\n",
      "4/4 - 0s - loss: 56.3067 - auc: 0.7075 - val_loss: 56.0398 - val_auc: 0.5625\n",
      "Epoch 182/500\n",
      "4/4 - 0s - loss: 54.1953 - auc: 0.6221 - val_loss: 83.8592 - val_auc: 0.6790\n",
      "Epoch 183/500\n",
      "4/4 - 0s - loss: 47.9481 - auc: 0.6675 - val_loss: 23.9628 - val_auc: 0.6922\n",
      "Epoch 184/500\n",
      "4/4 - 0s - loss: 33.1159 - auc: 0.7226 - val_loss: 63.2637 - val_auc: 0.5632\n",
      "Epoch 185/500\n",
      "4/4 - 0s - loss: 52.2601 - auc: 0.6358 - val_loss: 94.2110 - val_auc: 0.6718\n",
      "Epoch 186/500\n",
      "4/4 - 0s - loss: 79.1260 - auc: 0.6229 - val_loss: 74.5127 - val_auc: 0.5601\n",
      "Epoch 187/500\n",
      "4/4 - 0s - loss: 31.9617 - auc: 0.7006 - val_loss: 47.5301 - val_auc: 0.6066\n",
      "Epoch 188/500\n",
      "4/4 - 0s - loss: 30.4059 - auc: 0.6929 - val_loss: 44.2589 - val_auc: 0.7125\n",
      "Epoch 189/500\n",
      "4/4 - 0s - loss: 45.8614 - auc: 0.6527 - val_loss: 60.5176 - val_auc: 0.6917\n",
      "Epoch 190/500\n",
      "4/4 - 0s - loss: 54.3809 - auc: 0.6752 - val_loss: 112.5816 - val_auc: 0.5437\n",
      "Epoch 191/500\n",
      "4/4 - 0s - loss: 74.4149 - auc: 0.6334 - val_loss: 123.8779 - val_auc: 0.6679\n",
      "Epoch 192/500\n",
      "4/4 - 0s - loss: 67.9879 - auc: 0.6525 - val_loss: 101.8086 - val_auc: 0.5556\n",
      "Epoch 193/500\n",
      "4/4 - 0s - loss: 73.5453 - auc: 0.6676 - val_loss: 90.7522 - val_auc: 0.6813\n",
      "Epoch 194/500\n",
      "4/4 - 0s - loss: 50.3525 - auc: 0.6590 - val_loss: 20.4624 - val_auc: 0.7584\n",
      "Epoch 195/500\n",
      "4/4 - 0s - loss: 26.2702 - auc: 0.7545 - val_loss: 53.6963 - val_auc: 0.5737\n",
      "Epoch 196/500\n",
      "4/4 - 0s - loss: 41.5257 - auc: 0.6574 - val_loss: 66.6738 - val_auc: 0.6823\n",
      "Epoch 197/500\n",
      "4/4 - 0s - loss: 27.8928 - auc: 0.6845 - val_loss: 59.4737 - val_auc: 0.6837\n",
      "Epoch 198/500\n",
      "4/4 - 0s - loss: 33.7478 - auc: 0.7110 - val_loss: 66.4503 - val_auc: 0.5511\n",
      "Epoch 199/500\n",
      "4/4 - 0s - loss: 58.8043 - auc: 0.6457 - val_loss: 89.4200 - val_auc: 0.6857\n",
      "Epoch 200/500\n",
      "4/4 - 0s - loss: 53.6046 - auc: 0.6601 - val_loss: 34.4533 - val_auc: 0.6444\n",
      "Epoch 201/500\n",
      "4/4 - 0s - loss: 63.7551 - auc: 0.7069 - val_loss: 36.9238 - val_auc: 0.6312\n",
      "Epoch 202/500\n",
      "4/4 - 0s - loss: 43.5764 - auc: 0.6388 - val_loss: 46.6688 - val_auc: 0.7056\n",
      "Epoch 203/500\n",
      "4/4 - 0s - loss: 34.0041 - auc: 0.6734 - val_loss: 22.4901 - val_auc: 0.7329\n",
      "Epoch 204/500\n",
      "4/4 - 0s - loss: 36.7523 - auc: 0.6917 - val_loss: 45.1301 - val_auc: 0.5892\n",
      "Epoch 205/500\n",
      "4/4 - 0s - loss: 24.8727 - auc: 0.6863 - val_loss: 20.5559 - val_auc: 0.7808\n",
      "Epoch 206/500\n",
      "4/4 - 0s - loss: 22.1769 - auc: 0.6964 - val_loss: 37.6147 - val_auc: 0.7176\n",
      "Epoch 207/500\n",
      "4/4 - 0s - loss: 16.9073 - auc: 0.7298 - val_loss: 37.1515 - val_auc: 0.7246\n",
      "Epoch 208/500\n",
      "4/4 - 0s - loss: 24.1462 - auc: 0.7072 - val_loss: 31.4393 - val_auc: 0.7185\n",
      "Epoch 209/500\n",
      "4/4 - 0s - loss: 19.8393 - auc: 0.6992 - val_loss: 29.4547 - val_auc: 0.7215\n",
      "Epoch 210/500\n",
      "4/4 - 0s - loss: 20.0094 - auc: 0.7061 - val_loss: 26.3202 - val_auc: 0.7327\n",
      "Epoch 211/500\n",
      "4/4 - 0s - loss: 14.4356 - auc: 0.7459 - val_loss: 17.9467 - val_auc: 0.7498\n",
      "Epoch 212/500\n",
      "4/4 - 0s - loss: 16.0763 - auc: 0.7268 - val_loss: 53.3656 - val_auc: 0.5703\n",
      "Epoch 213/500\n",
      "4/4 - 0s - loss: 43.6769 - auc: 0.6538 - val_loss: 72.2645 - val_auc: 0.6803\n",
      "Epoch 214/500\n",
      "4/4 - 0s - loss: 28.1120 - auc: 0.6827 - val_loss: 58.9410 - val_auc: 0.6910\n",
      "Epoch 215/500\n",
      "4/4 - 0s - loss: 42.1854 - auc: 0.7091 - val_loss: 84.9477 - val_auc: 0.5598\n",
      "Epoch 216/500\n",
      "4/4 - 0s - loss: 53.5004 - auc: 0.6460 - val_loss: 58.5711 - val_auc: 0.7007\n",
      "Epoch 217/500\n",
      "4/4 - 0s - loss: 32.6979 - auc: 0.6785 - val_loss: 45.5727 - val_auc: 0.7076\n",
      "Epoch 218/500\n",
      "4/4 - 0s - loss: 34.2351 - auc: 0.6986 - val_loss: 70.1355 - val_auc: 0.5586\n",
      "Epoch 219/500\n",
      "4/4 - 0s - loss: 46.4938 - auc: 0.6526 - val_loss: 35.4084 - val_auc: 0.7239\n",
      "Epoch 220/500\n",
      "4/4 - 0s - loss: 36.1325 - auc: 0.6640 - val_loss: 43.3040 - val_auc: 0.7148\n",
      "Epoch 221/500\n",
      "4/4 - 0s - loss: 28.7850 - auc: 0.7101 - val_loss: 26.5766 - val_auc: 0.6865\n",
      "Epoch 222/500\n",
      "4/4 - 0s - loss: 20.6484 - auc: 0.7241 - val_loss: 32.1068 - val_auc: 0.6061\n",
      "Epoch 223/500\n",
      "4/4 - 0s - loss: 16.0384 - auc: 0.7069 - val_loss: 27.9936 - val_auc: 0.6330\n",
      "Epoch 224/500\n",
      "4/4 - 0s - loss: 20.7346 - auc: 0.6853 - val_loss: 42.3725 - val_auc: 0.5920\n",
      "Epoch 225/500\n",
      "4/4 - 0s - loss: 37.3243 - auc: 0.6631 - val_loss: 27.5820 - val_auc: 0.6746\n",
      "Epoch 226/500\n",
      "4/4 - 0s - loss: 27.6743 - auc: 0.6686 - val_loss: 65.4520 - val_auc: 0.6813\n",
      "Epoch 227/500\n",
      "4/4 - 0s - loss: 45.8554 - auc: 0.6578 - val_loss: 41.6353 - val_auc: 0.6229\n",
      "Epoch 228/500\n",
      "4/4 - 0s - loss: 26.4565 - auc: 0.6991 - val_loss: 42.0635 - val_auc: 0.6496\n",
      "Epoch 229/500\n",
      "4/4 - 0s - loss: 23.8692 - auc: 0.7017 - val_loss: 20.9138 - val_auc: 0.7341\n",
      "Epoch 230/500\n",
      "4/4 - 0s - loss: 18.4818 - auc: 0.7192 - val_loss: 42.7764 - val_auc: 0.6949\n",
      "Epoch 231/500\n",
      "4/4 - 0s - loss: 26.6370 - auc: 0.6829 - val_loss: 34.4980 - val_auc: 0.7199\n",
      "Epoch 232/500\n",
      "4/4 - 0s - loss: 20.9605 - auc: 0.6829 - val_loss: 24.0304 - val_auc: 0.7615\n",
      "Epoch 233/500\n",
      "4/4 - 0s - loss: 17.4270 - auc: 0.7160 - val_loss: 24.8095 - val_auc: 0.7624\n",
      "Epoch 234/500\n",
      "4/4 - 0s - loss: 21.7164 - auc: 0.6903 - val_loss: 18.1611 - val_auc: 0.7849\n",
      "Epoch 235/500\n",
      "4/4 - 0s - loss: 26.2129 - auc: 0.7009 - val_loss: 37.9656 - val_auc: 0.6135\n",
      "Epoch 236/500\n",
      "4/4 - 0s - loss: 28.7380 - auc: 0.6990 - val_loss: 22.3372 - val_auc: 0.6790\n",
      "Epoch 237/500\n",
      "4/4 - 0s - loss: 20.6389 - auc: 0.7013 - val_loss: 35.9053 - val_auc: 0.7204\n",
      "Epoch 238/500\n",
      "4/4 - 0s - loss: 17.6532 - auc: 0.7089 - val_loss: 24.6518 - val_auc: 0.7505\n",
      "Epoch 239/500\n",
      "4/4 - 0s - loss: 15.6481 - auc: 0.7118 - val_loss: 33.8273 - val_auc: 0.7339\n",
      "Epoch 240/500\n",
      "4/4 - 0s - loss: 15.4471 - auc: 0.7295 - val_loss: 22.0307 - val_auc: 0.7573\n",
      "Epoch 241/500\n",
      "4/4 - 0s - loss: 18.0856 - auc: 0.7221 - val_loss: 23.3143 - val_auc: 0.7545\n",
      "Epoch 242/500\n",
      "4/4 - 0s - loss: 22.6468 - auc: 0.6729 - val_loss: 69.9344 - val_auc: 0.6713\n",
      "Epoch 243/500\n",
      "4/4 - 0s - loss: 51.0567 - auc: 0.6713 - val_loss: 87.8213 - val_auc: 0.5520\n",
      "Epoch 244/500\n",
      "4/4 - 0s - loss: 53.4313 - auc: 0.6663 - val_loss: 91.9106 - val_auc: 0.6863\n",
      "Epoch 245/500\n",
      "4/4 - 0s - loss: 48.4729 - auc: 0.6692 - val_loss: 40.7388 - val_auc: 0.5996\n",
      "Epoch 246/500\n",
      "4/4 - 0s - loss: 24.5467 - auc: 0.7166 - val_loss: 37.9272 - val_auc: 0.6141\n",
      "Epoch 247/500\n",
      "4/4 - 0s - loss: 26.2490 - auc: 0.6755 - val_loss: 50.0007 - val_auc: 0.7058\n",
      "Epoch 248/500\n",
      "4/4 - 0s - loss: 19.8272 - auc: 0.7149 - val_loss: 46.2041 - val_auc: 0.7017\n",
      "Epoch 249/500\n",
      "4/4 - 0s - loss: 30.0986 - auc: 0.7248 - val_loss: 55.3188 - val_auc: 0.5674\n",
      "Epoch 250/500\n",
      "4/4 - 0s - loss: 56.4175 - auc: 0.6527 - val_loss: 52.0947 - val_auc: 0.7062\n",
      "Epoch 251/500\n",
      "4/4 - 0s - loss: 38.4324 - auc: 0.6355 - val_loss: 29.2923 - val_auc: 0.7307\n",
      "Epoch 252/500\n",
      "4/4 - 0s - loss: 24.6639 - auc: 0.7377 - val_loss: 32.3804 - val_auc: 0.6430\n",
      "Epoch 253/500\n",
      "4/4 - 0s - loss: 18.9507 - auc: 0.7237 - val_loss: 29.7793 - val_auc: 0.6386\n",
      "Epoch 254/500\n",
      "4/4 - 0s - loss: 19.0405 - auc: 0.6955 - val_loss: 17.3408 - val_auc: 0.8108\n",
      "Epoch 255/500\n",
      "4/4 - 0s - loss: 16.1741 - auc: 0.7300 - val_loss: 18.1467 - val_auc: 0.8166\n",
      "Epoch 256/500\n",
      "4/4 - 0s - loss: 14.4441 - auc: 0.7415 - val_loss: 17.0240 - val_auc: 0.8102\n",
      "Epoch 257/500\n",
      "4/4 - 0s - loss: 15.3700 - auc: 0.7359 - val_loss: 33.0591 - val_auc: 0.7303\n",
      "Epoch 258/500\n",
      "4/4 - 0s - loss: 20.0871 - auc: 0.6878 - val_loss: 18.7650 - val_auc: 0.7947\n",
      "Epoch 259/500\n",
      "4/4 - 0s - loss: 12.1479 - auc: 0.7492 - val_loss: 15.2477 - val_auc: 0.7971\n",
      "Epoch 260/500\n",
      "4/4 - 0s - loss: 6.8797 - auc: 0.7703 - val_loss: 14.8523 - val_auc: 0.7701\n",
      "Epoch 261/500\n",
      "4/4 - 0s - loss: 10.8398 - auc: 0.7447 - val_loss: 22.0102 - val_auc: 0.6439\n",
      "Epoch 262/500\n",
      "4/4 - 0s - loss: 21.5664 - auc: 0.6980 - val_loss: 27.1081 - val_auc: 0.6247\n",
      "Epoch 263/500\n",
      "4/4 - 0s - loss: 16.6168 - auc: 0.7003 - val_loss: 35.1401 - val_auc: 0.6176\n",
      "Epoch 264/500\n"
     ]
    },
    {
     "name": "stdout",
     "output_type": "stream",
     "text": [
      "4/4 - 0s - loss: 23.4296 - auc: 0.7251 - val_loss: 24.7101 - val_auc: 0.6590\n",
      "Epoch 265/500\n",
      "4/4 - 0s - loss: 18.6274 - auc: 0.7049 - val_loss: 40.5911 - val_auc: 0.7209\n",
      "Epoch 266/500\n",
      "4/4 - 0s - loss: 15.7277 - auc: 0.7026 - val_loss: 51.5692 - val_auc: 0.7147\n",
      "Epoch 267/500\n",
      "4/4 - 0s - loss: 38.8781 - auc: 0.7145 - val_loss: 65.1075 - val_auc: 0.5534\n",
      "Epoch 268/500\n",
      "4/4 - 0s - loss: 30.0893 - auc: 0.6793 - val_loss: 30.0642 - val_auc: 0.7432\n",
      "Epoch 269/500\n",
      "4/4 - 0s - loss: 18.9383 - auc: 0.6890 - val_loss: 50.8666 - val_auc: 0.6885\n",
      "Epoch 270/500\n",
      "4/4 - 0s - loss: 34.7516 - auc: 0.6964 - val_loss: 72.9923 - val_auc: 0.5415\n",
      "Epoch 271/500\n",
      "4/4 - 0s - loss: 45.6345 - auc: 0.6632 - val_loss: 39.9026 - val_auc: 0.7119\n",
      "Epoch 272/500\n",
      "4/4 - 0s - loss: 24.5654 - auc: 0.6760 - val_loss: 39.3790 - val_auc: 0.7186\n",
      "Epoch 273/500\n",
      "4/4 - 0s - loss: 32.4558 - auc: 0.7109 - val_loss: 58.2702 - val_auc: 0.5644\n",
      "Epoch 274/500\n",
      "4/4 - 0s - loss: 33.3338 - auc: 0.6821 - val_loss: 18.3095 - val_auc: 0.7812\n",
      "Epoch 275/500\n",
      "4/4 - 0s - loss: 16.8637 - auc: 0.7010 - val_loss: 49.3440 - val_auc: 0.7139\n",
      "Epoch 276/500\n",
      "4/4 - 0s - loss: 31.2777 - auc: 0.7344 - val_loss: 69.8514 - val_auc: 0.5534\n",
      "Epoch 277/500\n",
      "4/4 - 0s - loss: 41.5063 - auc: 0.6780 - val_loss: 42.8486 - val_auc: 0.7168\n",
      "Epoch 278/500\n",
      "4/4 - 0s - loss: 24.1259 - auc: 0.6960 - val_loss: 25.0117 - val_auc: 0.7583\n",
      "Epoch 279/500\n",
      "4/4 - 0s - loss: 11.5943 - auc: 0.7689 - val_loss: 18.9635 - val_auc: 0.7955\n",
      "Epoch 280/500\n",
      "4/4 - 0s - loss: 5.6391 - auc: 0.7823 - val_loss: 24.3366 - val_auc: 0.7445\n",
      "Epoch 281/500\n",
      "4/4 - 0s - loss: 9.0745 - auc: 0.7403 - val_loss: 34.3490 - val_auc: 0.7273\n",
      "Epoch 282/500\n",
      "4/4 - 0s - loss: 27.1610 - auc: 0.6712 - val_loss: 24.3028 - val_auc: 0.6424\n",
      "Epoch 283/500\n",
      "4/4 - 0s - loss: 40.0827 - auc: 0.7077 - val_loss: 29.4955 - val_auc: 0.6320\n",
      "Epoch 284/500\n",
      "4/4 - 0s - loss: 28.3435 - auc: 0.6541 - val_loss: 39.8005 - val_auc: 0.7198\n",
      "Epoch 285/500\n",
      "4/4 - 0s - loss: 23.0935 - auc: 0.7124 - val_loss: 21.1349 - val_auc: 0.7033\n",
      "Epoch 286/500\n",
      "4/4 - 0s - loss: 27.7197 - auc: 0.7379 - val_loss: 47.7797 - val_auc: 0.5668\n",
      "Epoch 287/500\n",
      "4/4 - 0s - loss: 44.5521 - auc: 0.6167 - val_loss: 35.4840 - val_auc: 0.7284\n",
      "Epoch 288/500\n",
      "4/4 - 0s - loss: 20.9083 - auc: 0.7014 - val_loss: 19.0496 - val_auc: 0.7284\n",
      "Epoch 289/500\n",
      "4/4 - 0s - loss: 23.8563 - auc: 0.7179 - val_loss: 27.0939 - val_auc: 0.6394\n",
      "Epoch 290/500\n",
      "4/4 - 0s - loss: 17.2806 - auc: 0.7453 - val_loss: 19.0849 - val_auc: 0.7232\n",
      "Epoch 291/500\n",
      "4/4 - 0s - loss: 12.9569 - auc: 0.7358 - val_loss: 35.3040 - val_auc: 0.5965\n",
      "Epoch 292/500\n",
      "4/4 - 0s - loss: 20.2022 - auc: 0.6939 - val_loss: 34.3757 - val_auc: 0.7324\n",
      "Epoch 293/500\n",
      "4/4 - 0s - loss: 14.9920 - auc: 0.7118 - val_loss: 45.6864 - val_auc: 0.7148\n",
      "Epoch 294/500\n",
      "4/4 - 0s - loss: 25.5403 - auc: 0.7237 - val_loss: 36.6349 - val_auc: 0.5967\n",
      "Epoch 295/500\n",
      "4/4 - 0s - loss: 18.9237 - auc: 0.7276 - val_loss: 35.0125 - val_auc: 0.6275\n",
      "Epoch 296/500\n",
      "4/4 - 0s - loss: 28.7586 - auc: 0.6678 - val_loss: 34.3342 - val_auc: 0.7413\n",
      "Epoch 297/500\n",
      "4/4 - 0s - loss: 19.7167 - auc: 0.6882 - val_loss: 38.1994 - val_auc: 0.7189\n",
      "Epoch 298/500\n",
      "4/4 - 0s - loss: 26.6108 - auc: 0.7146 - val_loss: 46.3866 - val_auc: 0.5646\n",
      "Epoch 299/500\n",
      "4/4 - 0s - loss: 25.6773 - auc: 0.6952 - val_loss: 19.3678 - val_auc: 0.7956\n",
      "Epoch 300/500\n",
      "4/4 - 0s - loss: 27.7130 - auc: 0.6624 - val_loss: 27.4649 - val_auc: 0.7435\n",
      "Epoch 301/500\n",
      "4/4 - 0s - loss: 14.6676 - auc: 0.7465 - val_loss: 17.0136 - val_auc: 0.7577\n",
      "Epoch 302/500\n",
      "4/4 - 0s - loss: 10.1059 - auc: 0.7495 - val_loss: 20.2626 - val_auc: 0.6752\n",
      "Epoch 303/500\n",
      "4/4 - 0s - loss: 13.8144 - auc: 0.7281 - val_loss: 22.7105 - val_auc: 0.6382\n",
      "Epoch 304/500\n",
      "4/4 - 0s - loss: 14.3195 - auc: 0.7391 - val_loss: 25.9991 - val_auc: 0.6364\n",
      "Epoch 305/500\n",
      "4/4 - 0s - loss: 12.7067 - auc: 0.7255 - val_loss: 20.5468 - val_auc: 0.6975\n",
      "Epoch 306/500\n",
      "4/4 - 0s - loss: 12.2547 - auc: 0.7406 - val_loss: 27.3831 - val_auc: 0.6265\n",
      "Epoch 307/500\n",
      "4/4 - 0s - loss: 20.4567 - auc: 0.6765 - val_loss: 52.8093 - val_auc: 0.7127\n",
      "Epoch 308/500\n",
      "4/4 - 0s - loss: 32.9536 - auc: 0.6747 - val_loss: 20.3829 - val_auc: 0.6469\n",
      "Epoch 309/500\n",
      "4/4 - 0s - loss: 32.9502 - auc: 0.7198 - val_loss: 27.1485 - val_auc: 0.6151\n",
      "Epoch 310/500\n",
      "4/4 - 0s - loss: 25.6614 - auc: 0.6488 - val_loss: 38.9692 - val_auc: 0.7341\n",
      "Epoch 311/500\n",
      "4/4 - 0s - loss: 24.0027 - auc: 0.6895 - val_loss: 29.2854 - val_auc: 0.6697\n",
      "Epoch 312/500\n",
      "4/4 - 0s - loss: 16.2903 - auc: 0.7408 - val_loss: 23.0406 - val_auc: 0.7148\n",
      "Epoch 313/500\n",
      "4/4 - 0s - loss: 12.0683 - auc: 0.7566 - val_loss: 17.5463 - val_auc: 0.7335\n",
      "Epoch 314/500\n",
      "4/4 - 0s - loss: 7.4230 - auc: 0.7729 - val_loss: 17.6850 - val_auc: 0.6959\n",
      "Epoch 315/500\n",
      "4/4 - 0s - loss: 6.6367 - auc: 0.7743 - val_loss: 14.5420 - val_auc: 0.7915\n",
      "Epoch 316/500\n",
      "4/4 - 0s - loss: 7.0461 - auc: 0.7537 - val_loss: 14.4081 - val_auc: 0.7446\n",
      "Epoch 317/500\n",
      "4/4 - 0s - loss: 8.8900 - auc: 0.7538 - val_loss: 16.1403 - val_auc: 0.6800\n",
      "Epoch 318/500\n",
      "4/4 - 0s - loss: 15.1399 - auc: 0.7267 - val_loss: 19.0243 - val_auc: 0.6712\n",
      "Epoch 319/500\n",
      "4/4 - 0s - loss: 8.7703 - auc: 0.7490 - val_loss: 11.3773 - val_auc: 0.8210\n",
      "Epoch 320/500\n",
      "4/4 - 0s - loss: 13.5644 - auc: 0.7495 - val_loss: 37.8587 - val_auc: 0.5778\n",
      "Epoch 321/500\n",
      "4/4 - 0s - loss: 33.0803 - auc: 0.6883 - val_loss: 21.6064 - val_auc: 0.7585\n",
      "Epoch 322/500\n",
      "4/4 - 0s - loss: 47.1940 - auc: 0.6222 - val_loss: 20.2495 - val_auc: 0.6796\n",
      "Epoch 323/500\n",
      "4/4 - 0s - loss: 53.6133 - auc: 0.6971 - val_loss: 28.1823 - val_auc: 0.7333\n",
      "Epoch 324/500\n",
      "4/4 - 0s - loss: 50.0320 - auc: 0.6206 - val_loss: 30.4011 - val_auc: 0.6426\n",
      "Epoch 325/500\n",
      "4/4 - 0s - loss: 40.1449 - auc: 0.7117 - val_loss: 15.7879 - val_auc: 0.7973\n",
      "Epoch 326/500\n",
      "4/4 - 0s - loss: 28.0762 - auc: 0.6681 - val_loss: 30.3244 - val_auc: 0.7360\n",
      "Epoch 327/500\n",
      "4/4 - 0s - loss: 23.6358 - auc: 0.7256 - val_loss: 43.3857 - val_auc: 0.5880\n",
      "Epoch 328/500\n",
      "4/4 - 0s - loss: 20.7335 - auc: 0.7117 - val_loss: 20.5404 - val_auc: 0.7650\n",
      "Epoch 329/500\n",
      "4/4 - 0s - loss: 11.2830 - auc: 0.7615 - val_loss: 24.7601 - val_auc: 0.7587\n",
      "Epoch 330/500\n",
      "4/4 - 0s - loss: 14.5381 - auc: 0.6983 - val_loss: 36.5577 - val_auc: 0.7134\n",
      "Epoch 331/500\n",
      "4/4 - 0s - loss: 25.6357 - auc: 0.7101 - val_loss: 39.4724 - val_auc: 0.5688\n",
      "Epoch 332/500\n",
      "4/4 - 0s - loss: 28.5597 - auc: 0.6818 - val_loss: 28.5259 - val_auc: 0.7434\n",
      "Epoch 333/500\n",
      "4/4 - 0s - loss: 30.5449 - auc: 0.6497 - val_loss: 15.5721 - val_auc: 0.7995\n",
      "Epoch 334/500\n",
      "4/4 - 0s - loss: 15.3033 - auc: 0.7742 - val_loss: 26.3353 - val_auc: 0.6776\n",
      "Epoch 335/500\n",
      "4/4 - 0s - loss: 13.8558 - auc: 0.7575 - val_loss: 19.9157 - val_auc: 0.6935\n",
      "Epoch 336/500\n",
      "4/4 - 0s - loss: 9.3638 - auc: 0.7507 - val_loss: 13.8654 - val_auc: 0.7698\n",
      "Epoch 337/500\n",
      "4/4 - 0s - loss: 4.9329 - auc: 0.7781 - val_loss: 14.4654 - val_auc: 0.7880\n",
      "Epoch 338/500\n",
      "4/4 - 0s - loss: 5.2704 - auc: 0.8007 - val_loss: 14.1248 - val_auc: 0.7929\n",
      "Epoch 339/500\n",
      "4/4 - 0s - loss: 5.5452 - auc: 0.7555 - val_loss: 28.6596 - val_auc: 0.7385\n",
      "Epoch 340/500\n",
      "4/4 - 0s - loss: 15.5653 - auc: 0.6947 - val_loss: 13.8960 - val_auc: 0.7458\n",
      "Epoch 341/500\n",
      "4/4 - 0s - loss: 17.5551 - auc: 0.7627 - val_loss: 33.7797 - val_auc: 0.5919\n",
      "Epoch 342/500\n",
      "4/4 - 0s - loss: 24.4007 - auc: 0.6592 - val_loss: 44.2769 - val_auc: 0.7067\n",
      "Epoch 343/500\n",
      "4/4 - 0s - loss: 24.5024 - auc: 0.7061 - val_loss: 37.6829 - val_auc: 0.5996\n",
      "Epoch 344/500\n",
      "4/4 - 0s - loss: 31.6105 - auc: 0.7182 - val_loss: 30.3020 - val_auc: 0.7397\n",
      "Epoch 345/500\n",
      "4/4 - 0s - loss: 29.0666 - auc: 0.6551 - val_loss: 17.0702 - val_auc: 0.7930\n",
      "Epoch 346/500\n",
      "4/4 - 0s - loss: 16.0518 - auc: 0.7709 - val_loss: 26.4237 - val_auc: 0.6637\n",
      "Epoch 347/500\n",
      "4/4 - 0s - loss: 17.1382 - auc: 0.7255 - val_loss: 16.2961 - val_auc: 0.7365\n",
      "Epoch 348/500\n",
      "4/4 - 0s - loss: 11.0349 - auc: 0.7459 - val_loss: 29.0768 - val_auc: 0.7244\n",
      "Epoch 349/500\n",
      "4/4 - 0s - loss: 12.6933 - auc: 0.7064 - val_loss: 18.7771 - val_auc: 0.7852\n",
      "Epoch 350/500\n",
      "4/4 - 0s - loss: 7.1961 - auc: 0.7906 - val_loss: 14.4951 - val_auc: 0.8335\n",
      "Epoch 351/500\n",
      "4/4 - 0s - loss: 5.4588 - auc: 0.8025 - val_loss: 14.9492 - val_auc: 0.8108\n",
      "Epoch 352/500\n",
      "4/4 - 0s - loss: 7.9528 - auc: 0.7685 - val_loss: 18.5970 - val_auc: 0.6735\n",
      "Epoch 353/500\n",
      "4/4 - 0s - loss: 11.5713 - auc: 0.7385 - val_loss: 16.8287 - val_auc: 0.6884\n",
      "Epoch 354/500\n",
      "4/4 - 0s - loss: 5.3959 - auc: 0.7874 - val_loss: 12.9734 - val_auc: 0.8333\n"
     ]
    },
    {
     "name": "stdout",
     "output_type": "stream",
     "text": [
      "Epoch 355/500\n",
      "4/4 - 0s - loss: 5.9261 - auc: 0.8020 - val_loss: 17.4515 - val_auc: 0.7996\n",
      "Epoch 356/500\n",
      "4/4 - 0s - loss: 12.8340 - auc: 0.7118 - val_loss: 21.6437 - val_auc: 0.7666\n",
      "Epoch 357/500\n",
      "4/4 - 0s - loss: 5.4581 - auc: 0.7907 - val_loss: 27.7766 - val_auc: 0.7414\n",
      "Epoch 358/500\n",
      "4/4 - 0s - loss: 19.2654 - auc: 0.6904 - val_loss: 11.0963 - val_auc: 0.8447\n",
      "Epoch 359/500\n",
      "4/4 - 0s - loss: 7.6473 - auc: 0.7957 - val_loss: 18.5939 - val_auc: 0.7018\n",
      "Epoch 360/500\n",
      "4/4 - 0s - loss: 10.4453 - auc: 0.7361 - val_loss: 29.6808 - val_auc: 0.6069\n",
      "Epoch 361/500\n",
      "4/4 - 0s - loss: 14.3536 - auc: 0.7380 - val_loss: 19.0013 - val_auc: 0.6930\n",
      "Epoch 362/500\n",
      "4/4 - 0s - loss: 8.3116 - auc: 0.7641 - val_loss: 15.0834 - val_auc: 0.7534\n",
      "Epoch 363/500\n",
      "4/4 - 0s - loss: 8.8494 - auc: 0.7877 - val_loss: 27.3957 - val_auc: 0.6101\n",
      "Epoch 364/500\n",
      "4/4 - 0s - loss: 19.1835 - auc: 0.6769 - val_loss: 41.5630 - val_auc: 0.7093\n",
      "Epoch 365/500\n",
      "4/4 - 0s - loss: 26.4557 - auc: 0.6741 - val_loss: 25.6433 - val_auc: 0.6017\n",
      "Epoch 366/500\n",
      "4/4 - 0s - loss: 19.7430 - auc: 0.7289 - val_loss: 18.2288 - val_auc: 0.6765\n",
      "Epoch 367/500\n",
      "4/4 - 0s - loss: 13.9143 - auc: 0.6980 - val_loss: 25.3945 - val_auc: 0.7554\n",
      "Epoch 368/500\n",
      "4/4 - 0s - loss: 7.2610 - auc: 0.7681 - val_loss: 27.7520 - val_auc: 0.7439\n",
      "Epoch 369/500\n",
      "4/4 - 0s - loss: 14.1752 - auc: 0.7081 - val_loss: 18.9278 - val_auc: 0.7807\n",
      "Epoch 370/500\n",
      "4/4 - 0s - loss: 10.7238 - auc: 0.7436 - val_loss: 22.3723 - val_auc: 0.7718\n",
      "Epoch 371/500\n",
      "4/4 - 0s - loss: 10.3183 - auc: 0.7353 - val_loss: 12.9471 - val_auc: 0.8398\n",
      "Epoch 372/500\n",
      "4/4 - 0s - loss: 4.1940 - auc: 0.8269 - val_loss: 12.3516 - val_auc: 0.8355\n",
      "Epoch 373/500\n",
      "4/4 - 0s - loss: 3.3100 - auc: 0.8251 - val_loss: 12.8327 - val_auc: 0.8268\n",
      "Epoch 374/500\n",
      "4/4 - 0s - loss: 4.4009 - auc: 0.8046 - val_loss: 12.0784 - val_auc: 0.8347\n",
      "Epoch 375/500\n",
      "4/4 - 0s - loss: 4.5414 - auc: 0.8004 - val_loss: 25.2537 - val_auc: 0.6016\n",
      "Epoch 376/500\n",
      "4/4 - 0s - loss: 9.9941 - auc: 0.7143 - val_loss: 18.1758 - val_auc: 0.7037\n",
      "Epoch 377/500\n",
      "4/4 - 0s - loss: 9.1208 - auc: 0.7706 - val_loss: 25.2554 - val_auc: 0.6357\n",
      "Epoch 378/500\n",
      "4/4 - 0s - loss: 18.9100 - auc: 0.7012 - val_loss: 55.9810 - val_auc: 0.6934\n",
      "Epoch 379/500\n",
      "4/4 - 0s - loss: 28.6364 - auc: 0.6613 - val_loss: 31.6687 - val_auc: 0.5786\n",
      "Epoch 380/500\n",
      "4/4 - 0s - loss: 12.4427 - auc: 0.7668 - val_loss: 24.1549 - val_auc: 0.6394\n",
      "Epoch 381/500\n",
      "4/4 - 0s - loss: 13.9073 - auc: 0.6973 - val_loss: 28.1467 - val_auc: 0.7451\n",
      "Epoch 382/500\n",
      "4/4 - 0s - loss: 10.9167 - auc: 0.7367 - val_loss: 31.9664 - val_auc: 0.7329\n",
      "Epoch 383/500\n",
      "4/4 - 0s - loss: 18.9014 - auc: 0.7363 - val_loss: 40.9317 - val_auc: 0.5579\n",
      "Epoch 384/500\n",
      "4/4 - 0s - loss: 29.2358 - auc: 0.6771 - val_loss: 31.7889 - val_auc: 0.7337\n",
      "Epoch 385/500\n",
      "4/4 - 0s - loss: 26.6595 - auc: 0.6477 - val_loss: 14.5052 - val_auc: 0.7666\n",
      "Epoch 386/500\n",
      "4/4 - 0s - loss: 25.0902 - auc: 0.7394 - val_loss: 25.2867 - val_auc: 0.6413\n",
      "Epoch 387/500\n",
      "4/4 - 0s - loss: 18.9857 - auc: 0.6786 - val_loss: 27.1785 - val_auc: 0.7358\n",
      "Epoch 388/500\n",
      "4/4 - 0s - loss: 12.9662 - auc: 0.7484 - val_loss: 13.0563 - val_auc: 0.8136\n",
      "Epoch 389/500\n",
      "4/4 - 0s - loss: 8.6741 - auc: 0.7768 - val_loss: 20.2224 - val_auc: 0.6796\n",
      "Epoch 390/500\n",
      "4/4 - 0s - loss: 13.0609 - auc: 0.7741 - val_loss: 15.7338 - val_auc: 0.6683\n",
      "Epoch 391/500\n",
      "4/4 - 0s - loss: 10.2078 - auc: 0.7246 - val_loss: 11.8065 - val_auc: 0.8226\n",
      "Epoch 392/500\n",
      "4/4 - 0s - loss: 3.8245 - auc: 0.8055 - val_loss: 13.9098 - val_auc: 0.7557\n",
      "Epoch 393/500\n",
      "4/4 - 0s - loss: 3.0755 - auc: 0.8155 - val_loss: 12.7997 - val_auc: 0.7798\n",
      "Epoch 394/500\n",
      "4/4 - 0s - loss: 4.4739 - auc: 0.7818 - val_loss: 12.9129 - val_auc: 0.7562\n",
      "Epoch 395/500\n",
      "4/4 - 0s - loss: 10.7813 - auc: 0.7275 - val_loss: 20.4607 - val_auc: 0.6215\n",
      "Epoch 396/500\n",
      "4/4 - 0s - loss: 11.3251 - auc: 0.7288 - val_loss: 15.7297 - val_auc: 0.7187\n",
      "Epoch 397/500\n",
      "4/4 - 0s - loss: 6.9352 - auc: 0.7693 - val_loss: 14.6962 - val_auc: 0.7374\n",
      "Epoch 398/500\n",
      "4/4 - 0s - loss: 11.3361 - auc: 0.7438 - val_loss: 18.1915 - val_auc: 0.6445\n",
      "Epoch 399/500\n",
      "4/4 - 0s - loss: 7.0369 - auc: 0.7463 - val_loss: 11.6583 - val_auc: 0.8351\n",
      "Epoch 400/500\n",
      "4/4 - 0s - loss: 5.0681 - auc: 0.8231 - val_loss: 18.0784 - val_auc: 0.6845\n",
      "Epoch 401/500\n",
      "4/4 - 0s - loss: 8.8720 - auc: 0.7545 - val_loss: 20.2146 - val_auc: 0.6195\n",
      "Epoch 402/500\n",
      "4/4 - 0s - loss: 11.1743 - auc: 0.7200 - val_loss: 12.5897 - val_auc: 0.7725\n",
      "Epoch 403/500\n",
      "4/4 - 0s - loss: 5.4686 - auc: 0.7848 - val_loss: 12.0743 - val_auc: 0.8450\n",
      "Epoch 404/500\n",
      "4/4 - 0s - loss: 3.9359 - auc: 0.8093 - val_loss: 12.6076 - val_auc: 0.7764\n",
      "Epoch 405/500\n",
      "4/4 - 0s - loss: 3.8979 - auc: 0.8076 - val_loss: 13.7168 - val_auc: 0.8332\n",
      "Epoch 406/500\n",
      "4/4 - 0s - loss: 6.8023 - auc: 0.7545 - val_loss: 19.5502 - val_auc: 0.7809\n",
      "Epoch 407/500\n",
      "4/4 - 0s - loss: 8.1268 - auc: 0.7656 - val_loss: 14.8085 - val_auc: 0.8193\n",
      "Epoch 408/500\n",
      "4/4 - 0s - loss: 9.2368 - auc: 0.7658 - val_loss: 18.1828 - val_auc: 0.7864\n",
      "Epoch 409/500\n",
      "4/4 - 0s - loss: 8.1232 - auc: 0.7416 - val_loss: 17.2441 - val_auc: 0.7925\n",
      "Epoch 410/500\n",
      "4/4 - 0s - loss: 6.3591 - auc: 0.7932 - val_loss: 10.6416 - val_auc: 0.8433\n",
      "Epoch 411/500\n",
      "4/4 - 0s - loss: 2.9122 - auc: 0.8308 - val_loss: 12.4444 - val_auc: 0.7096\n",
      "Epoch 412/500\n",
      "4/4 - 0s - loss: 5.9658 - auc: 0.7655 - val_loss: 11.8854 - val_auc: 0.7897\n",
      "Epoch 413/500\n",
      "4/4 - 0s - loss: 10.0199 - auc: 0.7682 - val_loss: 20.0820 - val_auc: 0.6493\n",
      "Epoch 414/500\n",
      "4/4 - 0s - loss: 10.6021 - auc: 0.7269 - val_loss: 24.2013 - val_auc: 0.6175\n",
      "Epoch 415/500\n",
      "4/4 - 0s - loss: 15.6329 - auc: 0.7154 - val_loss: 10.5746 - val_auc: 0.8476\n",
      "Epoch 416/500\n",
      "4/4 - 0s - loss: 9.9737 - auc: 0.7382 - val_loss: 26.7753 - val_auc: 0.7454\n",
      "Epoch 417/500\n",
      "4/4 - 0s - loss: 11.3616 - auc: 0.7328 - val_loss: 11.8042 - val_auc: 0.8289\n",
      "Epoch 418/500\n",
      "4/4 - 0s - loss: 4.4036 - auc: 0.8134 - val_loss: 20.8698 - val_auc: 0.7637\n",
      "Epoch 419/500\n",
      "4/4 - 0s - loss: 6.9594 - auc: 0.7719 - val_loss: 22.7782 - val_auc: 0.7563\n",
      "Epoch 420/500\n",
      "4/4 - 0s - loss: 10.1005 - auc: 0.7268 - val_loss: 14.0824 - val_auc: 0.8141\n",
      "Epoch 421/500\n",
      "4/4 - 0s - loss: 8.1033 - auc: 0.7911 - val_loss: 22.8428 - val_auc: 0.6470\n",
      "Epoch 422/500\n",
      "4/4 - 0s - loss: 13.4890 - auc: 0.7498 - val_loss: 12.1697 - val_auc: 0.7853\n",
      "Epoch 423/500\n",
      "4/4 - 0s - loss: 8.8296 - auc: 0.7605 - val_loss: 19.4614 - val_auc: 0.7710\n",
      "Epoch 424/500\n",
      "4/4 - 0s - loss: 8.1211 - auc: 0.7348 - val_loss: 16.2955 - val_auc: 0.7997\n",
      "Epoch 425/500\n",
      "4/4 - 0s - loss: 6.7091 - auc: 0.7514 - val_loss: 31.3026 - val_auc: 0.7216\n",
      "Epoch 426/500\n",
      "4/4 - 0s - loss: 15.5737 - auc: 0.6862 - val_loss: 13.9662 - val_auc: 0.7972\n",
      "Epoch 427/500\n",
      "4/4 - 0s - loss: 10.1043 - auc: 0.7697 - val_loss: 29.7531 - val_auc: 0.5855\n",
      "Epoch 428/500\n",
      "4/4 - 0s - loss: 24.9694 - auc: 0.6932 - val_loss: 18.4855 - val_auc: 0.7770\n",
      "Epoch 429/500\n",
      "4/4 - 0s - loss: 28.7129 - auc: 0.6426 - val_loss: 13.7282 - val_auc: 0.7506\n",
      "Epoch 430/500\n",
      "4/4 - 0s - loss: 29.4593 - auc: 0.7418 - val_loss: 13.7135 - val_auc: 0.7165\n",
      "Epoch 431/500\n",
      "4/4 - 0s - loss: 12.8901 - auc: 0.6771 - val_loss: 38.7869 - val_auc: 0.7218\n",
      "Epoch 432/500\n",
      "4/4 - 0s - loss: 23.5076 - auc: 0.7437 - val_loss: 25.9834 - val_auc: 0.5923\n",
      "Epoch 433/500\n",
      "4/4 - 0s - loss: 13.2894 - auc: 0.7155 - val_loss: 16.9241 - val_auc: 0.7807\n",
      "Epoch 434/500\n",
      "4/4 - 0s - loss: 9.0088 - auc: 0.7507 - val_loss: 21.1789 - val_auc: 0.7622\n",
      "Epoch 435/500\n",
      "4/4 - 0s - loss: 9.4110 - auc: 0.7512 - val_loss: 15.0953 - val_auc: 0.7720\n",
      "Epoch 436/500\n",
      "4/4 - 0s - loss: 8.5550 - auc: 0.7842 - val_loss: 17.1124 - val_auc: 0.7105\n",
      "Epoch 437/500\n",
      "4/4 - 0s - loss: 7.6415 - auc: 0.7665 - val_loss: 23.1824 - val_auc: 0.6241\n",
      "Epoch 438/500\n",
      "4/4 - 0s - loss: 14.8590 - auc: 0.7204 - val_loss: 18.1472 - val_auc: 0.7076\n",
      "Epoch 439/500\n",
      "4/4 - 0s - loss: 13.4686 - auc: 0.7156 - val_loss: 35.6547 - val_auc: 0.7138\n",
      "Epoch 440/500\n",
      "4/4 - 0s - loss: 21.1981 - auc: 0.6831 - val_loss: 26.1763 - val_auc: 0.5920\n",
      "Epoch 441/500\n",
      "4/4 - 0s - loss: 11.0803 - auc: 0.7578 - val_loss: 19.0715 - val_auc: 0.7003\n",
      "Epoch 442/500\n",
      "4/4 - 0s - loss: 8.2704 - auc: 0.7535 - val_loss: 11.9852 - val_auc: 0.8198\n",
      "Epoch 443/500\n",
      "4/4 - 0s - loss: 3.4435 - auc: 0.8214 - val_loss: 16.9733 - val_auc: 0.6693\n",
      "Epoch 444/500\n",
      "4/4 - 0s - loss: 8.5865 - auc: 0.7570 - val_loss: 19.1768 - val_auc: 0.6334\n",
      "Epoch 445/500\n",
      "4/4 - 0s - loss: 7.6883 - auc: 0.7455 - val_loss: 14.0101 - val_auc: 0.7706\n"
     ]
    },
    {
     "name": "stdout",
     "output_type": "stream",
     "text": [
      "Epoch 446/500\n",
      "4/4 - 0s - loss: 4.5533 - auc: 0.8037 - val_loss: 13.0813 - val_auc: 0.7821\n",
      "Epoch 447/500\n",
      "4/4 - 0s - loss: 3.1667 - auc: 0.8204 - val_loss: 15.0052 - val_auc: 0.8051\n",
      "Epoch 448/500\n",
      "4/4 - 0s - loss: 5.4137 - auc: 0.7806 - val_loss: 26.9732 - val_auc: 0.7414\n",
      "Epoch 449/500\n",
      "4/4 - 0s - loss: 11.6106 - auc: 0.7290 - val_loss: 12.0221 - val_auc: 0.8362\n",
      "Epoch 450/500\n",
      "4/4 - 0s - loss: 4.9743 - auc: 0.8197 - val_loss: 12.0270 - val_auc: 0.8410\n",
      "Epoch 451/500\n",
      "4/4 - 0s - loss: 4.4977 - auc: 0.8046 - val_loss: 15.5276 - val_auc: 0.8097\n",
      "Epoch 452/500\n",
      "4/4 - 0s - loss: 9.6512 - auc: 0.7058 - val_loss: 31.4677 - val_auc: 0.7280\n",
      "Epoch 453/500\n",
      "4/4 - 0s - loss: 16.2064 - auc: 0.7619 - val_loss: 36.5221 - val_auc: 0.5717\n",
      "Epoch 454/500\n",
      "4/4 - 0s - loss: 19.9756 - auc: 0.6815 - val_loss: 17.6563 - val_auc: 0.7893\n",
      "Epoch 455/500\n",
      "4/4 - 0s - loss: 18.6616 - auc: 0.6689 - val_loss: 19.6740 - val_auc: 0.7625\n",
      "Epoch 456/500\n",
      "4/4 - 0s - loss: 11.7692 - auc: 0.7694 - val_loss: 25.5439 - val_auc: 0.6503\n",
      "Epoch 457/500\n",
      "4/4 - 0s - loss: 16.2973 - auc: 0.7360 - val_loss: 12.9559 - val_auc: 0.8137\n",
      "Epoch 458/500\n",
      "4/4 - 0s - loss: 4.9138 - auc: 0.7840 - val_loss: 15.8760 - val_auc: 0.6708\n",
      "Epoch 459/500\n",
      "4/4 - 0s - loss: 4.7741 - auc: 0.7893 - val_loss: 14.1820 - val_auc: 0.7779\n",
      "Epoch 460/500\n",
      "4/4 - 0s - loss: 5.4593 - auc: 0.7894 - val_loss: 12.9366 - val_auc: 0.8236\n",
      "Epoch 461/500\n",
      "4/4 - 0s - loss: 5.3117 - auc: 0.7833 - val_loss: 18.6937 - val_auc: 0.6434\n",
      "Epoch 462/500\n",
      "4/4 - 0s - loss: 4.9395 - auc: 0.7861 - val_loss: 15.3086 - val_auc: 0.7490\n",
      "Epoch 463/500\n",
      "4/4 - 0s - loss: 8.4224 - auc: 0.7605 - val_loss: 22.3919 - val_auc: 0.6482\n",
      "Epoch 464/500\n",
      "4/4 - 0s - loss: 12.7002 - auc: 0.7546 - val_loss: 14.4710 - val_auc: 0.7258\n",
      "Epoch 465/500\n",
      "4/4 - 0s - loss: 8.7719 - auc: 0.7412 - val_loss: 28.9013 - val_auc: 0.7390\n",
      "Epoch 466/500\n",
      "4/4 - 0s - loss: 15.5686 - auc: 0.7148 - val_loss: 18.7576 - val_auc: 0.6350\n",
      "Epoch 467/500\n",
      "4/4 - 0s - loss: 11.5551 - auc: 0.7691 - val_loss: 28.1223 - val_auc: 0.6001\n",
      "Epoch 468/500\n",
      "4/4 - 0s - loss: 17.2508 - auc: 0.6741 - val_loss: 34.2409 - val_auc: 0.7211\n",
      "Epoch 469/500\n",
      "4/4 - 0s - loss: 16.5970 - auc: 0.7327 - val_loss: 43.5290 - val_auc: 0.5780\n",
      "Epoch 470/500\n",
      "4/4 - 0s - loss: 25.4860 - auc: 0.6592 - val_loss: 48.8041 - val_auc: 0.6986\n",
      "Epoch 471/500\n",
      "4/4 - 0s - loss: 19.4777 - auc: 0.7455 - val_loss: 20.5523 - val_auc: 0.6669\n",
      "Epoch 472/500\n",
      "4/4 - 0s - loss: 7.2762 - auc: 0.7804 - val_loss: 13.2833 - val_auc: 0.7919\n",
      "Epoch 473/500\n",
      "4/4 - 0s - loss: 4.7523 - auc: 0.7985 - val_loss: 15.1623 - val_auc: 0.7136\n",
      "Epoch 474/500\n",
      "4/4 - 0s - loss: 6.2123 - auc: 0.7809 - val_loss: 14.3243 - val_auc: 0.7122\n",
      "Epoch 475/500\n",
      "4/4 - 0s - loss: 5.8397 - auc: 0.7817 - val_loss: 16.9553 - val_auc: 0.6845\n",
      "Epoch 476/500\n",
      "4/4 - 0s - loss: 6.2815 - auc: 0.7830 - val_loss: 13.0061 - val_auc: 0.7957\n",
      "Epoch 477/500\n",
      "4/4 - 0s - loss: 5.0201 - auc: 0.7896 - val_loss: 15.3114 - val_auc: 0.6967\n",
      "Epoch 478/500\n",
      "4/4 - 0s - loss: 6.1258 - auc: 0.7717 - val_loss: 12.2896 - val_auc: 0.7606\n",
      "Epoch 479/500\n",
      "4/4 - 0s - loss: 5.9017 - auc: 0.7930 - val_loss: 16.3560 - val_auc: 0.6959\n",
      "Epoch 480/500\n",
      "4/4 - 0s - loss: 7.1115 - auc: 0.7653 - val_loss: 13.1889 - val_auc: 0.7544\n",
      "Epoch 481/500\n",
      "4/4 - 0s - loss: 7.0999 - auc: 0.7640 - val_loss: 20.9622 - val_auc: 0.6294\n",
      "Epoch 482/500\n",
      "4/4 - 0s - loss: 11.6810 - auc: 0.7302 - val_loss: 11.6775 - val_auc: 0.8380\n",
      "Epoch 483/500\n",
      "4/4 - 0s - loss: 13.8179 - auc: 0.6801 - val_loss: 31.1715 - val_auc: 0.7182\n",
      "Epoch 484/500\n",
      "4/4 - 0s - loss: 19.2749 - auc: 0.7706 - val_loss: 25.4031 - val_auc: 0.6013\n",
      "Epoch 485/500\n",
      "4/4 - 0s - loss: 11.7826 - auc: 0.7161 - val_loss: 11.9763 - val_auc: 0.8355\n",
      "Epoch 486/500\n",
      "4/4 - 0s - loss: 3.4892 - auc: 0.8293 - val_loss: 11.2791 - val_auc: 0.8042\n",
      "Epoch 487/500\n",
      "4/4 - 0s - loss: 2.5922 - auc: 0.8471 - val_loss: 13.9606 - val_auc: 0.8013\n",
      "Epoch 488/500\n",
      "4/4 - 0s - loss: 2.3804 - auc: 0.8644 - val_loss: 12.7716 - val_auc: 0.7744\n",
      "Epoch 489/500\n",
      "4/4 - 0s - loss: 3.0624 - auc: 0.8177 - val_loss: 12.4677 - val_auc: 0.7660\n",
      "Epoch 490/500\n",
      "4/4 - 0s - loss: 2.7052 - auc: 0.8336 - val_loss: 11.1661 - val_auc: 0.8355\n",
      "Epoch 491/500\n",
      "4/4 - 0s - loss: 2.4071 - auc: 0.8423 - val_loss: 16.1899 - val_auc: 0.6865\n",
      "Epoch 492/500\n",
      "4/4 - 0s - loss: 5.7350 - auc: 0.7810 - val_loss: 14.8955 - val_auc: 0.7314\n",
      "Epoch 493/500\n",
      "4/4 - 0s - loss: 7.1166 - auc: 0.7762 - val_loss: 12.7366 - val_auc: 0.7174\n",
      "Epoch 494/500\n",
      "4/4 - 0s - loss: 4.9098 - auc: 0.7871 - val_loss: 15.6962 - val_auc: 0.6498\n",
      "Epoch 495/500\n",
      "4/4 - 0s - loss: 5.4235 - auc: 0.7694 - val_loss: 16.7569 - val_auc: 0.6933\n",
      "Epoch 496/500\n",
      "4/4 - 0s - loss: 6.3463 - auc: 0.7741 - val_loss: 19.6146 - val_auc: 0.6506\n",
      "Epoch 497/500\n",
      "4/4 - 0s - loss: 8.5319 - auc: 0.7462 - val_loss: 11.6833 - val_auc: 0.8601\n",
      "Epoch 498/500\n",
      "4/4 - 0s - loss: 6.9085 - auc: 0.7631 - val_loss: 28.8787 - val_auc: 0.7127\n",
      "Epoch 499/500\n",
      "4/4 - 0s - loss: 9.9712 - auc: 0.7599 - val_loss: 11.8761 - val_auc: 0.7149\n",
      "Epoch 500/500\n",
      "4/4 - 0s - loss: 7.7388 - auc: 0.7903 - val_loss: 17.4980 - val_auc: 0.6247\n"
     ]
    }
   ],
   "source": [
    "BATCH_SIZE = 500\n",
    "MAX_EPOCHS = 500\n",
    "\n",
    "#patience = 30\n",
    "#early_stopping = tf.keras.callbacks.EarlyStopping(patience = patience) #stops after X consecutive val_loss increases\n",
    "#comment early_stopping and delete callbacks argument to remove this limitation\n",
    "\n",
    "history2 = model2.fit(Xn_train, yn_train, batch_size = BATCH_SIZE, epochs = MAX_EPOCHS, \n",
    "                      validation_data = (Xn_test, yn_test), verbose = 2)  #callbacks = [early_stopping],"
   ]
  },
  {
   "cell_type": "markdown",
   "metadata": {},
   "source": [
    "Graf vyvoje loss na train a valid setu"
   ]
  },
  {
   "cell_type": "code",
   "execution_count": 85,
   "metadata": {},
   "outputs": [
    {
     "data": {
      "text/plain": [
       "<matplotlib.legend.Legend at 0x1b8a755b670>"
      ]
     },
     "execution_count": 85,
     "metadata": {},
     "output_type": "execute_result"
    },
    {
     "data": {
      "image/png": "[encoded data removed]",
      "text/plain": [
       "<Figure size 432x288 with 1 Axes>"
      ]
     },
     "metadata": {
      "needs_background": "light"
     },
     "output_type": "display_data"
    }
   ],
   "source": [
    "plt.plot(history2.history['loss'])\n",
    "plt.plot(history2.history['val_loss'])\n",
    "plt.title('model loss')\n",
    "plt.ylabel('loss')\n",
    "plt.xlabel('epoch')\n",
    "plt.legend(['loss', 'val_loss'], loc='upper left')"
   ]
  },
  {
   "cell_type": "markdown",
   "metadata": {},
   "source": [
    "A nakonec graf vyvoje AUC. Je zadouci, aby byla krivka celkove rostouci."
   ]
  },
  {
   "cell_type": "code",
   "execution_count": 86,
   "metadata": {
    "scrolled": true
   },
   "outputs": [
    {
     "data": {
      "text/plain": [
       "<matplotlib.legend.Legend at 0x1b8a75a7d60>"
      ]
     },
     "execution_count": 86,
     "metadata": {},
     "output_type": "execute_result"
    },
    {
     "data": {
      "image/png": "[encoded data removed]",
      "text/plain": [
       "<Figure size 432x288 with 1 Axes>"
      ]
     },
     "metadata": {
      "needs_background": "light"
     },
     "output_type": "display_data"
    }
   ],
   "source": [
    "plt.plot(history2.history['auc'])\n",
    "plt.plot(history2.history['val_auc'])\n",
    "plt.title('model auc')\n",
    "plt.ylabel('auc')\n",
    "plt.xlabel('epoch')\n",
    "plt.legend(['auc', 'test_auc'], loc='upper left')"
   ]
  },
  {
   "cell_type": "markdown",
   "metadata": {},
   "source": [
    "Nasledujici kod ohodnoti nasi neuronovou sit - vykresli matici omylu pro dane tridy."
   ]
  },
  {
   "cell_type": "code",
   "execution_count": 87,
   "metadata": {},
   "outputs": [],
   "source": [
    "from sklearn.metrics import confusion_matrix\n",
    "def plot_cm(labels, predictions, p=0.5):\n",
    "  cm = confusion_matrix(labels, predictions > p)\n",
    "  plt.figure(figsize=(5,5))\n",
    "  sns.heatmap(cm, annot=True, fmt=\"d\")\n",
    "  plt.title('Confusion matrix @{:.2f}'.format(p))\n",
    "  plt.ylabel('Actual label')\n",
    "  plt.xlabel('Predicted label')\n",
    "\n",
    "  print('No Time Deposit Detected (True Negatives): ', cm[0][0])\n",
    "  print('New Time Deposit Incorrectly Detected (False Positives): ', cm[0][1])\n",
    "  print('New Time Deposit Missed (False Negatives): ', cm[1][0])\n",
    "  print('New Time Deposit Detected (True Positives): ', cm[1][1])\n",
    "  print('Total New Deposits: ', np.sum(cm[1]))"
   ]
  },
  {
   "cell_type": "code",
   "execution_count": 88,
   "metadata": {},
   "outputs": [],
   "source": [
    "y_pred3 = model2.predict(X_test)"
   ]
  },
  {
   "cell_type": "code",
   "execution_count": 89,
   "metadata": {
    "scrolled": false
   },
   "outputs": [
    {
     "name": "stdout",
     "output_type": "stream",
     "text": [
      "No Time Deposit Detected (True Negatives):  951\n",
      "New Time Deposit Incorrectly Detected (False Positives):  37\n",
      "New Time Deposit Missed (False Negatives):  8\n",
      "New Time Deposit Detected (True Positives):  4\n",
      "Total New Deposits:  12\n"
     ]
    },
    {
     "data": {
      "image/png": "[encoded data removed]",
      "text/plain": [
       "<Figure size 360x360 with 2 Axes>"
      ]
     },
     "metadata": {
      "needs_background": "light"
     },
     "output_type": "display_data"
    }
   ],
   "source": [
    "plot_cm(y_test, y_pred3)"
   ]
  },
  {
   "cell_type": "markdown",
   "metadata": {},
   "source": [
    "## Zaver\n",
    "\n",
    "Zatimco nas Voting Classifier dokazal v ramci cross-validation dosahnout AUC skore nad 97, neuronova sit predikuje vyrazne mnozstvi falesne pozitivnich. To je pravdepodobne dano tim, ze se lide pro otevreni noveho terminovaneho vkladu rozhoduji na zaklade jeste jinych skutecnosti, nez dat, na kterych jsme vytrenovali nas model a RFC modeluje proces rozhodovani lepe."
   ]
  },
  {
   "cell_type": "markdown",
   "metadata": {},
   "source": [
    "Na zaver provedeme jeste jednoduchy RFC"
   ]
  },
  {
   "cell_type": "code",
   "execution_count": 93,
   "metadata": {},
   "outputs": [],
   "source": [
    "voting_clf_soft.fit(Xn_train, yn_train)\n",
    "\n",
    "ypredv = voting_clf_soft.predict(X_test)"
   ]
  },
  {
   "cell_type": "code",
   "execution_count": 94,
   "metadata": {},
   "outputs": [
    {
     "name": "stdout",
     "output_type": "stream",
     "text": [
      "No Time Deposit Detected (True Negatives):  947\n",
      "New Time Deposit Incorrectly Detected (False Positives):  41\n",
      "New Time Deposit Missed (False Negatives):  1\n",
      "New Time Deposit Detected (True Positives):  11\n",
      "Total New Deposits:  12\n"
     ]
    },
    {
     "data": {
      "image/png": "[encoded data removed]",
      "text/plain": [
       "<Figure size 360x360 with 2 Axes>"
      ]
     },
     "metadata": {
      "needs_background": "light"
     },
     "output_type": "display_data"
    }
   ],
   "source": [
    "plot_cm(y_test, ypredv)"
   ]
  },
  {
   "cell_type": "markdown",
   "metadata": {},
   "source": [
    "O dost lepsi conf matrix pro voting soft classifier. Pojdme jeste zkusit GridSearchCV na jednoduchem RFC"
   ]
  },
  {
   "cell_type": "code",
   "execution_count": 98,
   "metadata": {},
   "outputs": [
    {
     "data": {
      "text/plain": [
       "GridSearchCV(cv=5, estimator=RandomForestClassifier(random_state=42),\n",
       "             param_grid=[{'max_features': [2, 4, 6, 8],\n",
       "                          'n_estimators': [3, 10, 30]},\n",
       "                         {'bootstrap': [False], 'max_features': [2, 3, 4],\n",
       "                          'n_estimators': [3, 10]}],\n",
       "             return_train_score=True, scoring='roc_auc')"
      ]
     },
     "execution_count": 98,
     "metadata": {},
     "output_type": "execute_result"
    }
   ],
   "source": [
    "from sklearn.model_selection import GridSearchCV\n",
    "\n",
    "param_grid = [\n",
    "    # try 12 (3×4) combinations of hyperparameters\n",
    "    {'n_estimators': [3, 10, 30], 'max_features': [2, 4, 6, 8]},\n",
    "    # then try 6 (2×3) combinations with bootstrap set as False\n",
    "    {'bootstrap': [False], 'n_estimators': [3, 10], 'max_features': [2, 3, 4]},\n",
    "  ]\n",
    "# train across 5 folds, that's a total of (12+6)*5=90 rounds of training \n",
    "les2 = RandomForestClassifier(random_state = 42) #we need a new one, which hasn't seen the training data yet\n",
    "grid_search = GridSearchCV(les2, param_grid, cv=5,\n",
    "                           scoring='roc_auc',\n",
    "                           return_train_score=True)\n",
    "grid_search.fit(Xn_train, yn_train)"
   ]
  },
  {
   "cell_type": "code",
   "execution_count": 99,
   "metadata": {},
   "outputs": [
    {
     "data": {
      "text/html": [
       "<div>\n",
       "<style scoped>\n",
       "    .dataframe tbody tr th:only-of-type {\n",
       "        vertical-align: middle;\n",
       "    }\n",
       "\n",
       "    .dataframe tbody tr th {\n",
       "        vertical-align: top;\n",
       "    }\n",
       "\n",
       "    .dataframe thead th {\n",
       "        text-align: right;\n",
       "    }\n",
       "</style>\n",
       "<table border=\"1\" class=\"dataframe\">\n",
       "  <thead>\n",
       "    <tr style=\"text-align: right;\">\n",
       "      <th></th>\n",
       "      <th>mean_fit_time</th>\n",
       "      <th>std_fit_time</th>\n",
       "      <th>mean_score_time</th>\n",
       "      <th>std_score_time</th>\n",
       "      <th>param_max_features</th>\n",
       "      <th>param_n_estimators</th>\n",
       "      <th>param_bootstrap</th>\n",
       "      <th>params</th>\n",
       "      <th>split0_test_score</th>\n",
       "      <th>split1_test_score</th>\n",
       "      <th>...</th>\n",
       "      <th>mean_test_score</th>\n",
       "      <th>std_test_score</th>\n",
       "      <th>rank_test_score</th>\n",
       "      <th>split0_train_score</th>\n",
       "      <th>split1_train_score</th>\n",
       "      <th>split2_train_score</th>\n",
       "      <th>split3_train_score</th>\n",
       "      <th>split4_train_score</th>\n",
       "      <th>mean_train_score</th>\n",
       "      <th>std_train_score</th>\n",
       "    </tr>\n",
       "  </thead>\n",
       "  <tbody>\n",
       "    <tr>\n",
       "      <th>0</th>\n",
       "      <td>0.014470</td>\n",
       "      <td>0.003208</td>\n",
       "      <td>0.006665</td>\n",
       "      <td>0.003375</td>\n",
       "      <td>2</td>\n",
       "      <td>3</td>\n",
       "      <td>NaN</td>\n",
       "      <td>{'max_features': 2, 'n_estimators': 3}</td>\n",
       "      <td>0.944040</td>\n",
       "      <td>0.916074</td>\n",
       "      <td>...</td>\n",
       "      <td>0.931389</td>\n",
       "      <td>0.013736</td>\n",
       "      <td>18</td>\n",
       "      <td>0.995956</td>\n",
       "      <td>0.995467</td>\n",
       "      <td>0.993577</td>\n",
       "      <td>0.993743</td>\n",
       "      <td>0.995163</td>\n",
       "      <td>0.994781</td>\n",
       "      <td>9.512373e-04</td>\n",
       "    </tr>\n",
       "    <tr>\n",
       "      <th>1</th>\n",
       "      <td>0.046973</td>\n",
       "      <td>0.002407</td>\n",
       "      <td>0.007620</td>\n",
       "      <td>0.002963</td>\n",
       "      <td>2</td>\n",
       "      <td>10</td>\n",
       "      <td>NaN</td>\n",
       "      <td>{'max_features': 2, 'n_estimators': 10}</td>\n",
       "      <td>0.980960</td>\n",
       "      <td>0.966360</td>\n",
       "      <td>...</td>\n",
       "      <td>0.970085</td>\n",
       "      <td>0.007445</td>\n",
       "      <td>11</td>\n",
       "      <td>0.999995</td>\n",
       "      <td>0.999962</td>\n",
       "      <td>0.999920</td>\n",
       "      <td>0.999981</td>\n",
       "      <td>0.999988</td>\n",
       "      <td>0.999969</td>\n",
       "      <td>2.710875e-05</td>\n",
       "    </tr>\n",
       "    <tr>\n",
       "      <th>2</th>\n",
       "      <td>0.119058</td>\n",
       "      <td>0.004657</td>\n",
       "      <td>0.011711</td>\n",
       "      <td>0.002736</td>\n",
       "      <td>2</td>\n",
       "      <td>30</td>\n",
       "      <td>NaN</td>\n",
       "      <td>{'max_features': 2, 'n_estimators': 30}</td>\n",
       "      <td>0.987897</td>\n",
       "      <td>0.983194</td>\n",
       "      <td>...</td>\n",
       "      <td>0.981871</td>\n",
       "      <td>0.005552</td>\n",
       "      <td>3</td>\n",
       "      <td>1.000000</td>\n",
       "      <td>1.000000</td>\n",
       "      <td>1.000000</td>\n",
       "      <td>1.000000</td>\n",
       "      <td>1.000000</td>\n",
       "      <td>1.000000</td>\n",
       "      <td>0.000000e+00</td>\n",
       "    </tr>\n",
       "    <tr>\n",
       "      <th>3</th>\n",
       "      <td>0.021022</td>\n",
       "      <td>0.002891</td>\n",
       "      <td>0.000468</td>\n",
       "      <td>0.000937</td>\n",
       "      <td>4</td>\n",
       "      <td>3</td>\n",
       "      <td>NaN</td>\n",
       "      <td>{'max_features': 4, 'n_estimators': 3}</td>\n",
       "      <td>0.944533</td>\n",
       "      <td>0.957725</td>\n",
       "      <td>...</td>\n",
       "      <td>0.939476</td>\n",
       "      <td>0.011151</td>\n",
       "      <td>17</td>\n",
       "      <td>0.997325</td>\n",
       "      <td>0.993786</td>\n",
       "      <td>0.998039</td>\n",
       "      <td>0.997036</td>\n",
       "      <td>0.996840</td>\n",
       "      <td>0.996605</td>\n",
       "      <td>1.467033e-03</td>\n",
       "    </tr>\n",
       "    <tr>\n",
       "      <th>4</th>\n",
       "      <td>0.050340</td>\n",
       "      <td>0.004093</td>\n",
       "      <td>0.006574</td>\n",
       "      <td>0.001773</td>\n",
       "      <td>4</td>\n",
       "      <td>10</td>\n",
       "      <td>NaN</td>\n",
       "      <td>{'max_features': 4, 'n_estimators': 10}</td>\n",
       "      <td>0.977244</td>\n",
       "      <td>0.981061</td>\n",
       "      <td>...</td>\n",
       "      <td>0.972142</td>\n",
       "      <td>0.007802</td>\n",
       "      <td>10</td>\n",
       "      <td>1.000000</td>\n",
       "      <td>0.999970</td>\n",
       "      <td>0.999985</td>\n",
       "      <td>0.999980</td>\n",
       "      <td>0.999979</td>\n",
       "      <td>0.999983</td>\n",
       "      <td>9.861915e-06</td>\n",
       "    </tr>\n",
       "    <tr>\n",
       "      <th>5</th>\n",
       "      <td>0.138517</td>\n",
       "      <td>0.007333</td>\n",
       "      <td>0.013337</td>\n",
       "      <td>0.003813</td>\n",
       "      <td>4</td>\n",
       "      <td>30</td>\n",
       "      <td>NaN</td>\n",
       "      <td>{'max_features': 4, 'n_estimators': 30}</td>\n",
       "      <td>0.983543</td>\n",
       "      <td>0.986503</td>\n",
       "      <td>...</td>\n",
       "      <td>0.981493</td>\n",
       "      <td>0.005439</td>\n",
       "      <td>4</td>\n",
       "      <td>1.000000</td>\n",
       "      <td>1.000000</td>\n",
       "      <td>1.000000</td>\n",
       "      <td>1.000000</td>\n",
       "      <td>1.000000</td>\n",
       "      <td>1.000000</td>\n",
       "      <td>0.000000e+00</td>\n",
       "    </tr>\n",
       "    <tr>\n",
       "      <th>6</th>\n",
       "      <td>0.021066</td>\n",
       "      <td>0.004066</td>\n",
       "      <td>0.008014</td>\n",
       "      <td>0.000029</td>\n",
       "      <td>6</td>\n",
       "      <td>3</td>\n",
       "      <td>NaN</td>\n",
       "      <td>{'max_features': 6, 'n_estimators': 3}</td>\n",
       "      <td>0.957232</td>\n",
       "      <td>0.945273</td>\n",
       "      <td>...</td>\n",
       "      <td>0.946384</td>\n",
       "      <td>0.008960</td>\n",
       "      <td>14</td>\n",
       "      <td>0.997234</td>\n",
       "      <td>0.996314</td>\n",
       "      <td>0.997363</td>\n",
       "      <td>0.998514</td>\n",
       "      <td>0.996958</td>\n",
       "      <td>0.997277</td>\n",
       "      <td>7.164972e-04</td>\n",
       "    </tr>\n",
       "    <tr>\n",
       "      <th>7</th>\n",
       "      <td>0.054914</td>\n",
       "      <td>0.003000</td>\n",
       "      <td>0.007358</td>\n",
       "      <td>0.002790</td>\n",
       "      <td>6</td>\n",
       "      <td>10</td>\n",
       "      <td>NaN</td>\n",
       "      <td>{'max_features': 6, 'n_estimators': 10}</td>\n",
       "      <td>0.978971</td>\n",
       "      <td>0.970307</td>\n",
       "      <td>...</td>\n",
       "      <td>0.973563</td>\n",
       "      <td>0.003966</td>\n",
       "      <td>9</td>\n",
       "      <td>0.999991</td>\n",
       "      <td>0.999958</td>\n",
       "      <td>0.999989</td>\n",
       "      <td>0.999995</td>\n",
       "      <td>0.999979</td>\n",
       "      <td>0.999982</td>\n",
       "      <td>1.316525e-05</td>\n",
       "    </tr>\n",
       "    <tr>\n",
       "      <th>8</th>\n",
       "      <td>0.184222</td>\n",
       "      <td>0.023868</td>\n",
       "      <td>0.016315</td>\n",
       "      <td>0.004625</td>\n",
       "      <td>6</td>\n",
       "      <td>30</td>\n",
       "      <td>NaN</td>\n",
       "      <td>{'max_features': 6, 'n_estimators': 30}</td>\n",
       "      <td>0.985473</td>\n",
       "      <td>0.986619</td>\n",
       "      <td>...</td>\n",
       "      <td>0.984579</td>\n",
       "      <td>0.001813</td>\n",
       "      <td>1</td>\n",
       "      <td>1.000000</td>\n",
       "      <td>1.000000</td>\n",
       "      <td>1.000000</td>\n",
       "      <td>1.000000</td>\n",
       "      <td>1.000000</td>\n",
       "      <td>1.000000</td>\n",
       "      <td>0.000000e+00</td>\n",
       "    </tr>\n",
       "    <tr>\n",
       "      <th>9</th>\n",
       "      <td>0.029848</td>\n",
       "      <td>0.008525</td>\n",
       "      <td>0.012339</td>\n",
       "      <td>0.016227</td>\n",
       "      <td>8</td>\n",
       "      <td>3</td>\n",
       "      <td>NaN</td>\n",
       "      <td>{'max_features': 8, 'n_estimators': 3}</td>\n",
       "      <td>0.944867</td>\n",
       "      <td>0.952805</td>\n",
       "      <td>...</td>\n",
       "      <td>0.943992</td>\n",
       "      <td>0.006282</td>\n",
       "      <td>16</td>\n",
       "      <td>0.997848</td>\n",
       "      <td>0.997116</td>\n",
       "      <td>0.997855</td>\n",
       "      <td>0.997561</td>\n",
       "      <td>0.994680</td>\n",
       "      <td>0.997012</td>\n",
       "      <td>1.196860e-03</td>\n",
       "    </tr>\n",
       "    <tr>\n",
       "      <th>10</th>\n",
       "      <td>0.066567</td>\n",
       "      <td>0.010956</td>\n",
       "      <td>0.010113</td>\n",
       "      <td>0.003104</td>\n",
       "      <td>8</td>\n",
       "      <td>10</td>\n",
       "      <td>NaN</td>\n",
       "      <td>{'max_features': 8, 'n_estimators': 10}</td>\n",
       "      <td>0.978028</td>\n",
       "      <td>0.982164</td>\n",
       "      <td>...</td>\n",
       "      <td>0.975551</td>\n",
       "      <td>0.006557</td>\n",
       "      <td>7</td>\n",
       "      <td>0.999996</td>\n",
       "      <td>0.999979</td>\n",
       "      <td>0.999938</td>\n",
       "      <td>0.999993</td>\n",
       "      <td>0.999969</td>\n",
       "      <td>0.999975</td>\n",
       "      <td>2.090086e-05</td>\n",
       "    </tr>\n",
       "    <tr>\n",
       "      <th>11</th>\n",
       "      <td>0.174933</td>\n",
       "      <td>0.004712</td>\n",
       "      <td>0.012204</td>\n",
       "      <td>0.003398</td>\n",
       "      <td>8</td>\n",
       "      <td>30</td>\n",
       "      <td>NaN</td>\n",
       "      <td>{'max_features': 8, 'n_estimators': 30}</td>\n",
       "      <td>0.987243</td>\n",
       "      <td>0.981961</td>\n",
       "      <td>...</td>\n",
       "      <td>0.982709</td>\n",
       "      <td>0.003988</td>\n",
       "      <td>2</td>\n",
       "      <td>1.000000</td>\n",
       "      <td>1.000000</td>\n",
       "      <td>1.000000</td>\n",
       "      <td>1.000000</td>\n",
       "      <td>1.000000</td>\n",
       "      <td>1.000000</td>\n",
       "      <td>7.021667e-17</td>\n",
       "    </tr>\n",
       "    <tr>\n",
       "      <th>12</th>\n",
       "      <td>0.015819</td>\n",
       "      <td>0.003544</td>\n",
       "      <td>0.005820</td>\n",
       "      <td>0.003551</td>\n",
       "      <td>2</td>\n",
       "      <td>3</td>\n",
       "      <td>False</td>\n",
       "      <td>{'bootstrap': False, 'max_features': 2, 'n_est...</td>\n",
       "      <td>0.946812</td>\n",
       "      <td>0.958044</td>\n",
       "      <td>...</td>\n",
       "      <td>0.949359</td>\n",
       "      <td>0.012927</td>\n",
       "      <td>13</td>\n",
       "      <td>1.000000</td>\n",
       "      <td>1.000000</td>\n",
       "      <td>1.000000</td>\n",
       "      <td>1.000000</td>\n",
       "      <td>1.000000</td>\n",
       "      <td>1.000000</td>\n",
       "      <td>0.000000e+00</td>\n",
       "    </tr>\n",
       "    <tr>\n",
       "      <th>13</th>\n",
       "      <td>0.054626</td>\n",
       "      <td>0.007870</td>\n",
       "      <td>0.010654</td>\n",
       "      <td>0.002148</td>\n",
       "      <td>2</td>\n",
       "      <td>10</td>\n",
       "      <td>False</td>\n",
       "      <td>{'bootstrap': False, 'max_features': 2, 'n_est...</td>\n",
       "      <td>0.980945</td>\n",
       "      <td>0.978347</td>\n",
       "      <td>...</td>\n",
       "      <td>0.974079</td>\n",
       "      <td>0.007188</td>\n",
       "      <td>8</td>\n",
       "      <td>1.000000</td>\n",
       "      <td>1.000000</td>\n",
       "      <td>1.000000</td>\n",
       "      <td>1.000000</td>\n",
       "      <td>1.000000</td>\n",
       "      <td>1.000000</td>\n",
       "      <td>0.000000e+00</td>\n",
       "    </tr>\n",
       "    <tr>\n",
       "      <th>14</th>\n",
       "      <td>0.020653</td>\n",
       "      <td>0.004115</td>\n",
       "      <td>0.003766</td>\n",
       "      <td>0.004707</td>\n",
       "      <td>3</td>\n",
       "      <td>3</td>\n",
       "      <td>False</td>\n",
       "      <td>{'bootstrap': False, 'max_features': 3, 'n_est...</td>\n",
       "      <td>0.965823</td>\n",
       "      <td>0.967840</td>\n",
       "      <td>...</td>\n",
       "      <td>0.953520</td>\n",
       "      <td>0.016923</td>\n",
       "      <td>12</td>\n",
       "      <td>1.000000</td>\n",
       "      <td>1.000000</td>\n",
       "      <td>1.000000</td>\n",
       "      <td>1.000000</td>\n",
       "      <td>1.000000</td>\n",
       "      <td>1.000000</td>\n",
       "      <td>0.000000e+00</td>\n",
       "    </tr>\n",
       "    <tr>\n",
       "      <th>15</th>\n",
       "      <td>0.046365</td>\n",
       "      <td>0.002374</td>\n",
       "      <td>0.008440</td>\n",
       "      <td>0.000896</td>\n",
       "      <td>3</td>\n",
       "      <td>10</td>\n",
       "      <td>False</td>\n",
       "      <td>{'bootstrap': False, 'max_features': 3, 'n_est...</td>\n",
       "      <td>0.980365</td>\n",
       "      <td>0.985009</td>\n",
       "      <td>...</td>\n",
       "      <td>0.976683</td>\n",
       "      <td>0.005752</td>\n",
       "      <td>6</td>\n",
       "      <td>1.000000</td>\n",
       "      <td>1.000000</td>\n",
       "      <td>1.000000</td>\n",
       "      <td>1.000000</td>\n",
       "      <td>1.000000</td>\n",
       "      <td>1.000000</td>\n",
       "      <td>0.000000e+00</td>\n",
       "    </tr>\n",
       "    <tr>\n",
       "      <th>16</th>\n",
       "      <td>0.017647</td>\n",
       "      <td>0.004932</td>\n",
       "      <td>0.008487</td>\n",
       "      <td>0.003511</td>\n",
       "      <td>4</td>\n",
       "      <td>3</td>\n",
       "      <td>False</td>\n",
       "      <td>{'bootstrap': False, 'max_features': 4, 'n_est...</td>\n",
       "      <td>0.966984</td>\n",
       "      <td>0.953023</td>\n",
       "      <td>...</td>\n",
       "      <td>0.945152</td>\n",
       "      <td>0.013727</td>\n",
       "      <td>15</td>\n",
       "      <td>1.000000</td>\n",
       "      <td>1.000000</td>\n",
       "      <td>1.000000</td>\n",
       "      <td>1.000000</td>\n",
       "      <td>1.000000</td>\n",
       "      <td>1.000000</td>\n",
       "      <td>0.000000e+00</td>\n",
       "    </tr>\n",
       "    <tr>\n",
       "      <th>17</th>\n",
       "      <td>0.053894</td>\n",
       "      <td>0.003007</td>\n",
       "      <td>0.007211</td>\n",
       "      <td>0.001579</td>\n",
       "      <td>4</td>\n",
       "      <td>10</td>\n",
       "      <td>False</td>\n",
       "      <td>{'bootstrap': False, 'max_features': 4, 'n_est...</td>\n",
       "      <td>0.987592</td>\n",
       "      <td>0.981801</td>\n",
       "      <td>...</td>\n",
       "      <td>0.977691</td>\n",
       "      <td>0.006473</td>\n",
       "      <td>5</td>\n",
       "      <td>1.000000</td>\n",
       "      <td>1.000000</td>\n",
       "      <td>1.000000</td>\n",
       "      <td>1.000000</td>\n",
       "      <td>1.000000</td>\n",
       "      <td>1.000000</td>\n",
       "      <td>0.000000e+00</td>\n",
       "    </tr>\n",
       "  </tbody>\n",
       "</table>\n",
       "<p>18 rows × 23 columns</p>\n",
       "</div>"
      ],
      "text/plain": [
       "    mean_fit_time  std_fit_time  mean_score_time  std_score_time  \\\n",
       "0        0.014470      0.003208         0.006665        0.003375   \n",
       "1        0.046973      0.002407         0.007620        0.002963   \n",
       "2        0.119058      0.004657         0.011711        0.002736   \n",
       "3        0.021022      0.002891         0.000468        0.000937   \n",
       "4        0.050340      0.004093         0.006574        0.001773   \n",
       "5        0.138517      0.007333         0.013337        0.003813   \n",
       "6        0.021066      0.004066         0.008014        0.000029   \n",
       "7        0.054914      0.003000         0.007358        0.002790   \n",
       "8        0.184222      0.023868         0.016315        0.004625   \n",
       "9        0.029848      0.008525         0.012339        0.016227   \n",
       "10       0.066567      0.010956         0.010113        0.003104   \n",
       "11       0.174933      0.004712         0.012204        0.003398   \n",
       "12       0.015819      0.003544         0.005820        0.003551   \n",
       "13       0.054626      0.007870         0.010654        0.002148   \n",
       "14       0.020653      0.004115         0.003766        0.004707   \n",
       "15       0.046365      0.002374         0.008440        0.000896   \n",
       "16       0.017647      0.004932         0.008487        0.003511   \n",
       "17       0.053894      0.003007         0.007211        0.001579   \n",
       "\n",
       "   param_max_features param_n_estimators param_bootstrap  \\\n",
       "0                   2                  3             NaN   \n",
       "1                   2                 10             NaN   \n",
       "2                   2                 30             NaN   \n",
       "3                   4                  3             NaN   \n",
       "4                   4                 10             NaN   \n",
       "5                   4                 30             NaN   \n",
       "6                   6                  3             NaN   \n",
       "7                   6                 10             NaN   \n",
       "8                   6                 30             NaN   \n",
       "9                   8                  3             NaN   \n",
       "10                  8                 10             NaN   \n",
       "11                  8                 30             NaN   \n",
       "12                  2                  3           False   \n",
       "13                  2                 10           False   \n",
       "14                  3                  3           False   \n",
       "15                  3                 10           False   \n",
       "16                  4                  3           False   \n",
       "17                  4                 10           False   \n",
       "\n",
       "                                               params  split0_test_score  \\\n",
       "0              {'max_features': 2, 'n_estimators': 3}           0.944040   \n",
       "1             {'max_features': 2, 'n_estimators': 10}           0.980960   \n",
       "2             {'max_features': 2, 'n_estimators': 30}           0.987897   \n",
       "3              {'max_features': 4, 'n_estimators': 3}           0.944533   \n",
       "4             {'max_features': 4, 'n_estimators': 10}           0.977244   \n",
       "5             {'max_features': 4, 'n_estimators': 30}           0.983543   \n",
       "6              {'max_features': 6, 'n_estimators': 3}           0.957232   \n",
       "7             {'max_features': 6, 'n_estimators': 10}           0.978971   \n",
       "8             {'max_features': 6, 'n_estimators': 30}           0.985473   \n",
       "9              {'max_features': 8, 'n_estimators': 3}           0.944867   \n",
       "10            {'max_features': 8, 'n_estimators': 10}           0.978028   \n",
       "11            {'max_features': 8, 'n_estimators': 30}           0.987243   \n",
       "12  {'bootstrap': False, 'max_features': 2, 'n_est...           0.946812   \n",
       "13  {'bootstrap': False, 'max_features': 2, 'n_est...           0.980945   \n",
       "14  {'bootstrap': False, 'max_features': 3, 'n_est...           0.965823   \n",
       "15  {'bootstrap': False, 'max_features': 3, 'n_est...           0.980365   \n",
       "16  {'bootstrap': False, 'max_features': 4, 'n_est...           0.966984   \n",
       "17  {'bootstrap': False, 'max_features': 4, 'n_est...           0.987592   \n",
       "\n",
       "    split1_test_score  ...  mean_test_score  std_test_score  rank_test_score  \\\n",
       "0            0.916074  ...         0.931389        0.013736               18   \n",
       "1            0.966360  ...         0.970085        0.007445               11   \n",
       "2            0.983194  ...         0.981871        0.005552                3   \n",
       "3            0.957725  ...         0.939476        0.011151               17   \n",
       "4            0.981061  ...         0.972142        0.007802               10   \n",
       "5            0.986503  ...         0.981493        0.005439                4   \n",
       "6            0.945273  ...         0.946384        0.008960               14   \n",
       "7            0.970307  ...         0.973563        0.003966                9   \n",
       "8            0.986619  ...         0.984579        0.001813                1   \n",
       "9            0.952805  ...         0.943992        0.006282               16   \n",
       "10           0.982164  ...         0.975551        0.006557                7   \n",
       "11           0.981961  ...         0.982709        0.003988                2   \n",
       "12           0.958044  ...         0.949359        0.012927               13   \n",
       "13           0.978347  ...         0.974079        0.007188                8   \n",
       "14           0.967840  ...         0.953520        0.016923               12   \n",
       "15           0.985009  ...         0.976683        0.005752                6   \n",
       "16           0.953023  ...         0.945152        0.013727               15   \n",
       "17           0.981801  ...         0.977691        0.006473                5   \n",
       "\n",
       "    split0_train_score  split1_train_score  split2_train_score  \\\n",
       "0             0.995956            0.995467            0.993577   \n",
       "1             0.999995            0.999962            0.999920   \n",
       "2             1.000000            1.000000            1.000000   \n",
       "3             0.997325            0.993786            0.998039   \n",
       "4             1.000000            0.999970            0.999985   \n",
       "5             1.000000            1.000000            1.000000   \n",
       "6             0.997234            0.996314            0.997363   \n",
       "7             0.999991            0.999958            0.999989   \n",
       "8             1.000000            1.000000            1.000000   \n",
       "9             0.997848            0.997116            0.997855   \n",
       "10            0.999996            0.999979            0.999938   \n",
       "11            1.000000            1.000000            1.000000   \n",
       "12            1.000000            1.000000            1.000000   \n",
       "13            1.000000            1.000000            1.000000   \n",
       "14            1.000000            1.000000            1.000000   \n",
       "15            1.000000            1.000000            1.000000   \n",
       "16            1.000000            1.000000            1.000000   \n",
       "17            1.000000            1.000000            1.000000   \n",
       "\n",
       "    split3_train_score  split4_train_score  mean_train_score  std_train_score  \n",
       "0             0.993743            0.995163          0.994781     9.512373e-04  \n",
       "1             0.999981            0.999988          0.999969     2.710875e-05  \n",
       "2             1.000000            1.000000          1.000000     0.000000e+00  \n",
       "3             0.997036            0.996840          0.996605     1.467033e-03  \n",
       "4             0.999980            0.999979          0.999983     9.861915e-06  \n",
       "5             1.000000            1.000000          1.000000     0.000000e+00  \n",
       "6             0.998514            0.996958          0.997277     7.164972e-04  \n",
       "7             0.999995            0.999979          0.999982     1.316525e-05  \n",
       "8             1.000000            1.000000          1.000000     0.000000e+00  \n",
       "9             0.997561            0.994680          0.997012     1.196860e-03  \n",
       "10            0.999993            0.999969          0.999975     2.090086e-05  \n",
       "11            1.000000            1.000000          1.000000     7.021667e-17  \n",
       "12            1.000000            1.000000          1.000000     0.000000e+00  \n",
       "13            1.000000            1.000000          1.000000     0.000000e+00  \n",
       "14            1.000000            1.000000          1.000000     0.000000e+00  \n",
       "15            1.000000            1.000000          1.000000     0.000000e+00  \n",
       "16            1.000000            1.000000          1.000000     0.000000e+00  \n",
       "17            1.000000            1.000000          1.000000     0.000000e+00  \n",
       "\n",
       "[18 rows x 23 columns]"
      ]
     },
     "execution_count": 99,
     "metadata": {},
     "output_type": "execute_result"
    }
   ],
   "source": [
    "pd.DataFrame(grid_search.cv_results_)"
   ]
  },
  {
   "cell_type": "code",
   "execution_count": 100,
   "metadata": {},
   "outputs": [
    {
     "name": "stdout",
     "output_type": "stream",
     "text": [
      "0.9313890871850592 {'max_features': 2, 'n_estimators': 3}\n",
      "0.9700854324951251 {'max_features': 2, 'n_estimators': 10}\n",
      "0.9818707277851132 {'max_features': 2, 'n_estimators': 30}\n",
      "0.9394755766828065 {'max_features': 4, 'n_estimators': 3}\n",
      "0.9721423494053759 {'max_features': 4, 'n_estimators': 10}\n",
      "0.9814929172660504 {'max_features': 4, 'n_estimators': 30}\n",
      "0.9463839084380554 {'max_features': 6, 'n_estimators': 3}\n",
      "0.9735627434203258 {'max_features': 6, 'n_estimators': 10}\n",
      "0.9845791568211446 {'max_features': 6, 'n_estimators': 30}\n",
      "0.9439922278998413 {'max_features': 8, 'n_estimators': 3}\n",
      "0.9755512631358585 {'max_features': 8, 'n_estimators': 10}\n",
      "0.9827087600204379 {'max_features': 8, 'n_estimators': 30}\n",
      "0.9493589174621526 {'bootstrap': False, 'max_features': 2, 'n_estimators': 3}\n",
      "0.974079263163946 {'bootstrap': False, 'max_features': 2, 'n_estimators': 10}\n",
      "0.9535198427622955 {'bootstrap': False, 'max_features': 3, 'n_estimators': 3}\n",
      "0.976683414557168 {'bootstrap': False, 'max_features': 3, 'n_estimators': 10}\n",
      "0.9451518050094847 {'bootstrap': False, 'max_features': 4, 'n_estimators': 3}\n",
      "0.9776911006729636 {'bootstrap': False, 'max_features': 4, 'n_estimators': 10}\n"
     ]
    }
   ],
   "source": [
    "cvres = grid_search.cv_results_\n",
    "for mean_score, params in zip(cvres[\"mean_test_score\"], cvres[\"params\"]):\n",
    "    print(mean_score, params)"
   ]
  },
  {
   "cell_type": "markdown",
   "metadata": {},
   "source": [
    "Nakonec nejlepsi skore v ramci GridSearchCV ma Random Forest Classifier s argumenty max_features = 8 a n_estimators = 30. Pojdme ho fitnout."
   ]
  },
  {
   "cell_type": "code",
   "execution_count": 106,
   "metadata": {},
   "outputs": [
    {
     "data": {
      "text/plain": [
       "0.9292347963281699"
      ]
     },
     "execution_count": 106,
     "metadata": {},
     "output_type": "execute_result"
    }
   ],
   "source": [
    "les2 = RandomForestClassifier(random_state = 42, max_features = 8, n_estimators = 30)\n",
    "les2.fit(Xn_train, yn_train)\n",
    "ypred_final = les2.predict(Xn_test)\n",
    "\n",
    "from sklearn.metrics import roc_auc_score as ras\n",
    "\n",
    "ras(yn_test, ypred_final)"
   ]
  },
  {
   "cell_type": "code",
   "execution_count": 107,
   "metadata": {},
   "outputs": [
    {
     "name": "stdout",
     "output_type": "stream",
     "text": [
      "No Time Deposit Detected (True Negatives):  655\n",
      "New Time Deposit Incorrectly Detected (False Positives):  9\n",
      "New Time Deposit Missed (False Negatives):  43\n",
      "New Time Deposit Detected (True Positives):  293\n",
      "Total New Deposits:  336\n"
     ]
    },
    {
     "data": {
      "image/png": "[encoded data removed]",
      "text/plain": [
       "<Figure size 360x360 with 2 Axes>"
      ]
     },
     "metadata": {
      "needs_background": "light"
     },
     "output_type": "display_data"
    }
   ],
   "source": [
    "plot_cm(yn_test, ypred_final)"
   ]
  },
  {
   "cell_type": "markdown",
   "metadata": {},
   "source": [
    "To je hezka matice!"
   ]
  },
  {
   "cell_type": "code",
   "execution_count": 124,
   "metadata": {},
   "outputs": [
    {
     "name": "stdout",
     "output_type": "stream",
     "text": [
      "Feature ranking:\n",
      "1. feature 6 (0.161510) Credit_Cards_Flag\n",
      "2. feature 7 (0.088807) Saving_Current_Balance\n",
      "3. feature 2 (0.077569) Total_Income\n",
      "4. feature 23 (0.075411) Age\n",
      "5. feature 29 (0.057195) Employees\n",
      "6. feature 1 (0.056519) Children_Num\n",
      "7. feature 17 (0.040101) Transfer_Trans_Amount\n",
      "8. feature 25 (0.035946) Married\n",
      "9. feature 34 (0.035783) Total_transactions\n",
      "10. feature 22 (0.035036) Arrears_Months_Max\n",
      "11. feature 15 (0.034273) Withdrawl_Trans_Amount\n",
      "12. feature 26 (0.030068) Single\n",
      "13. feature 13 (0.026738) Credit_Cards_Balance\n",
      "14. feature 3 (0.023711) Payroll_Flag\n",
      "15. feature 28 (0.023175) Business-Owners\n",
      "16. feature 8 (0.022751) Investment_Products_Balance\n",
      "17. feature 12 (0.021288) Consumer_Loans_Balance\n",
      "18. feature 0 (0.019972) Gender\n",
      "19. feature 14 (0.019142) Deposit_Trans_Amount\n",
      "20. feature 20 (0.014310) Credit_Cards_Purchases_Amount\n",
      "21. feature 16 (0.012080) Payment_Trans_Amount\n",
      "22. feature 9 (0.011792) Insurance_Balances\n",
      "23. feature 19 (0.011702) Credit_Cards_Payments_Amount\n",
      "24. feature 18 (0.011294) Credit_Cards_Installments\n",
      "25. feature 30 (0.010993) Rentiers\n",
      "26. feature 31 (0.008822) Retirees\n",
      "27. feature 11 (0.007161) Housing_Loans_Balance\n",
      "28. feature 24 (0.006593) Divorced\n",
      "29. feature 10 (0.004954) Business_Loans_Balance\n",
      "30. feature 4 (0.003406) Business_Flag\n",
      "31. feature 32 (0.002987) Self-Employees\n",
      "32. feature 21 (0.002926) Credit_Cards_Witrhdrawals_Amount\n",
      "33. feature 5 (0.002746) Saving_Current_Accounts_Flag\n",
      "34. feature 33 (0.001643) Unemployeed\n",
      "35. feature 27 (0.001594) Widow\n"
     ]
    },
    {
     "ename": "TypeError",
     "evalue": "only integer scalar arrays can be converted to a scalar index",
     "output_type": "error",
     "traceback": [
      "\u001b[1;31m---------------------------------------------------------------------------\u001b[0m",
      "\u001b[1;31mTypeError\u001b[0m                                 Traceback (most recent call last)",
      "\u001b[1;32m<ipython-input-124-90492d9f25a0>\u001b[0m in \u001b[0;36m<module>\u001b[1;34m\u001b[0m\n\u001b[0;32m     19\u001b[0m plt.bar(range(len(Xn_train.columns)), importances[indices],\n\u001b[0;32m     20\u001b[0m         color=\"r\", yerr=std[indices], align=\"center\")\n\u001b[1;32m---> 21\u001b[1;33m \u001b[0mplt\u001b[0m\u001b[1;33m.\u001b[0m\u001b[0mxticks\u001b[0m\u001b[1;33m(\u001b[0m\u001b[0mrange\u001b[0m\u001b[1;33m(\u001b[0m\u001b[0mlen\u001b[0m\u001b[1;33m(\u001b[0m\u001b[0mXn_train\u001b[0m\u001b[1;33m.\u001b[0m\u001b[0mcolumns\u001b[0m\u001b[1;33m)\u001b[0m\u001b[1;33m,\u001b[0m \u001b[0mindices\u001b[0m\u001b[1;33m)\u001b[0m\u001b[1;33m)\u001b[0m\u001b[1;33m\u001b[0m\u001b[1;33m\u001b[0m\u001b[0m\n\u001b[0m\u001b[0;32m     22\u001b[0m \u001b[0mplt\u001b[0m\u001b[1;33m.\u001b[0m\u001b[0mxlim\u001b[0m\u001b[1;33m(\u001b[0m\u001b[1;33m[\u001b[0m\u001b[1;33m-\u001b[0m\u001b[1;36m1\u001b[0m\u001b[1;33m,\u001b[0m \u001b[0mlen\u001b[0m\u001b[1;33m(\u001b[0m\u001b[0mXn_train\u001b[0m\u001b[1;33m.\u001b[0m\u001b[0mcolumns\u001b[0m\u001b[1;33m)\u001b[0m\u001b[1;33m]\u001b[0m\u001b[1;33m)\u001b[0m\u001b[1;33m\u001b[0m\u001b[1;33m\u001b[0m\u001b[0m\n",
      "\u001b[1;31mTypeError\u001b[0m: only integer scalar arrays can be converted to a scalar index"
     ]
    },
    {
     "data": {
      "image/png": "[encoded data removed]",
      "text/plain": [
       "<Figure size 1152x720 with 1 Axes>"
      ]
     },
     "metadata": {
      "image/png": {
       "height": 602,
       "width": 948
      }
     },
     "output_type": "display_data"
    }
   ],
   "source": [
    "from pylab import rcParams\n",
    "from matplotlib import rc\n",
    "%matplotlib inline\n",
    "%config InlineBackend.figure_format='retina'\n",
    "sns.set(style='whitegrid', palette='muted', font_scale=1.5)\n",
    "rcParams['figure.figsize'] = 16, 10\n",
    "\n",
    "importances = les2.feature_importances_\n",
    "std = np.std([tree.feature_importances_ for tree in les2.estimators_], axis=0)\n",
    "indices = np.argsort(importances)[::-1]\n",
    "\n",
    "print(\"Feature ranking:\")\n",
    "\n",
    "for f in range(len(Xn_train.columns)):\n",
    "    print(\"%d. feature %d (%f)\" % (f + 1, indices[f], importances[indices[f]]), Xn_train.columns[indices[f]])\n",
    "    \n",
    "plt.figure()\n",
    "plt.title(\"Feature importance\")\n",
    "plt.bar(range(len(Xn_train.columns)), importances[indices],\n",
    "        color=\"r\", yerr=std[indices], align=\"center\")\n",
    "plt.xticks(range(len(Xn_train.columns), indices))\n",
    "plt.xlim([-1, len(Xn_train.columns)])"
   ]
  },
  {
   "cell_type": "code",
   "execution_count": 123,
   "metadata": {},
   "outputs": [
    {
     "data": {
      "text/plain": [
       "Index(['Gender', 'Children_Num', 'Total_Income', 'Payroll_Flag',\n",
       "       'Business_Flag', 'Saving_Current_Accounts_Flag', 'Credit_Cards_Flag',\n",
       "       'Saving_Current_Balance', 'Investment_Products_Balance',\n",
       "       'Insurance_Balances', 'Business_Loans_Balance', 'Housing_Loans_Balance',\n",
       "       'Consumer_Loans_Balance', 'Credit_Cards_Balance',\n",
       "       'Deposit_Trans_Amount', 'Withdrawl_Trans_Amount',\n",
       "       'Payment_Trans_Amount', 'Transfer_Trans_Amount',\n",
       "       'Credit_Cards_Installments', 'Credit_Cards_Payments_Amount',\n",
       "       'Credit_Cards_Purchases_Amount', 'Credit_Cards_Witrhdrawals_Amount',\n",
       "       'Arrears_Months_Max', 'Age', 'Divorced', 'Married', 'Single', 'Widow',\n",
       "       'Business-Owners', 'Employees', 'Rentiers', 'Retirees',\n",
       "       'Self-Employees', 'Unemployeed', 'Total_transactions'],\n",
       "      dtype='object')"
      ]
     },
     "execution_count": 123,
     "metadata": {},
     "output_type": "execute_result"
    }
   ],
   "source": [
    "Xn_train.columns"
   ]
  }
 ],
 "metadata": {
  "kernelspec": {
   "display_name": "Python 3",
   "language": "python",
   "name": "python3"
  },
  "language_info": {
   "codemirror_mode": {
    "name": "ipython",
    "version": 3
   },
   "file_extension": ".py",
   "mimetype": "text/x-python",
   "name": "python",
   "nbconvert_exporter": "python",
   "pygments_lexer": "ipython3",
   "version": "3.8.5"
  }
 },
 "nbformat": 4,
 "nbformat_minor": 4
}
