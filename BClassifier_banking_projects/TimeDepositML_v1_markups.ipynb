{
 "cells": [
  {
   "cell_type": "markdown",
   "metadata": {},
   "source": [
    "## Nahrani a prehled o datech\n",
    "Zakladni knihovny a prvni pohled na data, import pomoci pandas, kontrola poctu zaznamu, formatu, NaN "
   ]
  },
  {
   "cell_type": "code",
   "execution_count": 1,
   "metadata": {},
   "outputs": [
    {
     "data": {
      "text/html": [
       "<div>\n",
       "<style scoped>\n",
       "    .dataframe tbody tr th:only-of-type {\n",
       "        vertical-align: middle;\n",
       "    }\n",
       "\n",
       "    .dataframe tbody tr th {\n",
       "        vertical-align: top;\n",
       "    }\n",
       "\n",
       "    .dataframe thead th {\n",
       "        text-align: right;\n",
       "    }\n",
       "</style>\n",
       "<table border=\"1\" class=\"dataframe\">\n",
       "  <thead>\n",
       "    <tr style=\"text-align: right;\">\n",
       "      <th></th>\n",
       "      <th>Customer_ID</th>\n",
       "      <th>Gender</th>\n",
       "      <th>Birth_Date</th>\n",
       "      <th>Ref_Date</th>\n",
       "      <th>Marital_Status</th>\n",
       "      <th>Children_Num</th>\n",
       "      <th>Occupation_Category</th>\n",
       "      <th>Total_Income</th>\n",
       "      <th>Payroll_Flag</th>\n",
       "      <th>Business_Flag</th>\n",
       "      <th>...</th>\n",
       "      <th>Transfer_Trans_Amount</th>\n",
       "      <th>Credit_Cards_Installments</th>\n",
       "      <th>Credit_Cards_Payments_Num</th>\n",
       "      <th>Credit_Cards_Purchases_Num</th>\n",
       "      <th>Credit_Cards_Witrhdrawals_Num</th>\n",
       "      <th>Credit_Cards_Payments_Amount</th>\n",
       "      <th>Credit_Cards_Purchases_Amount</th>\n",
       "      <th>Credit_Cards_Witrhdrawals_Amount</th>\n",
       "      <th>Arrears_Months_Max</th>\n",
       "      <th>Time_Deposits_Flag</th>\n",
       "    </tr>\n",
       "  </thead>\n",
       "  <tbody>\n",
       "    <tr>\n",
       "      <th>0</th>\n",
       "      <td>5904453.0</td>\n",
       "      <td>Male</td>\n",
       "      <td>1960-10-17</td>\n",
       "      <td>2008-12-31</td>\n",
       "      <td>Married</td>\n",
       "      <td>2.0</td>\n",
       "      <td>Rentiers</td>\n",
       "      <td>14000.0</td>\n",
       "      <td>0.0</td>\n",
       "      <td>0.0</td>\n",
       "      <td>...</td>\n",
       "      <td>0.0</td>\n",
       "      <td>0.000000</td>\n",
       "      <td>0.0</td>\n",
       "      <td>0.0</td>\n",
       "      <td>0.0</td>\n",
       "      <td>0.000000</td>\n",
       "      <td>0.00</td>\n",
       "      <td>0.0</td>\n",
       "      <td>1.0</td>\n",
       "      <td>F</td>\n",
       "    </tr>\n",
       "    <tr>\n",
       "      <th>1</th>\n",
       "      <td>5904524.0</td>\n",
       "      <td>Male</td>\n",
       "      <td>1972-02-22</td>\n",
       "      <td>2008-12-31</td>\n",
       "      <td>Divorced</td>\n",
       "      <td>0.0</td>\n",
       "      <td>Employees</td>\n",
       "      <td>17577.0</td>\n",
       "      <td>0.0</td>\n",
       "      <td>0.0</td>\n",
       "      <td>...</td>\n",
       "      <td>0.0</td>\n",
       "      <td>0.000000</td>\n",
       "      <td>0.0</td>\n",
       "      <td>0.0</td>\n",
       "      <td>0.0</td>\n",
       "      <td>0.000000</td>\n",
       "      <td>0.00</td>\n",
       "      <td>0.0</td>\n",
       "      <td>1.0</td>\n",
       "      <td>F</td>\n",
       "    </tr>\n",
       "    <tr>\n",
       "      <th>2</th>\n",
       "      <td>5904672.0</td>\n",
       "      <td>Male</td>\n",
       "      <td>1953-06-24</td>\n",
       "      <td>2008-12-31</td>\n",
       "      <td>Married</td>\n",
       "      <td>1.0</td>\n",
       "      <td>Rentiers</td>\n",
       "      <td>3000.0</td>\n",
       "      <td>0.0</td>\n",
       "      <td>0.0</td>\n",
       "      <td>...</td>\n",
       "      <td>0.0</td>\n",
       "      <td>0.000000</td>\n",
       "      <td>0.0</td>\n",
       "      <td>0.0</td>\n",
       "      <td>0.0</td>\n",
       "      <td>0.000000</td>\n",
       "      <td>0.00</td>\n",
       "      <td>0.0</td>\n",
       "      <td>0.0</td>\n",
       "      <td>F</td>\n",
       "    </tr>\n",
       "    <tr>\n",
       "      <th>3</th>\n",
       "      <td>125603.0</td>\n",
       "      <td>Male</td>\n",
       "      <td>1952-09-19</td>\n",
       "      <td>2008-12-31</td>\n",
       "      <td>Married</td>\n",
       "      <td>0.0</td>\n",
       "      <td>Rentiers</td>\n",
       "      <td>14735.0</td>\n",
       "      <td>0.0</td>\n",
       "      <td>0.0</td>\n",
       "      <td>...</td>\n",
       "      <td>0.0</td>\n",
       "      <td>0.000000</td>\n",
       "      <td>0.0</td>\n",
       "      <td>0.0</td>\n",
       "      <td>0.0</td>\n",
       "      <td>0.000000</td>\n",
       "      <td>0.00</td>\n",
       "      <td>0.0</td>\n",
       "      <td>0.0</td>\n",
       "      <td>F</td>\n",
       "    </tr>\n",
       "    <tr>\n",
       "      <th>4</th>\n",
       "      <td>1065914.0</td>\n",
       "      <td>Male</td>\n",
       "      <td>1960-08-04</td>\n",
       "      <td>2008-12-31</td>\n",
       "      <td>Single</td>\n",
       "      <td>0.0</td>\n",
       "      <td>Business-Owners</td>\n",
       "      <td>99755.0</td>\n",
       "      <td>0.0</td>\n",
       "      <td>1.0</td>\n",
       "      <td>...</td>\n",
       "      <td>0.0</td>\n",
       "      <td>8.666667</td>\n",
       "      <td>3.5</td>\n",
       "      <td>2.0</td>\n",
       "      <td>0.0</td>\n",
       "      <td>275.833333</td>\n",
       "      <td>78.22</td>\n",
       "      <td>0.0</td>\n",
       "      <td>2.0</td>\n",
       "      <td>F</td>\n",
       "    </tr>\n",
       "  </tbody>\n",
       "</table>\n",
       "<p>5 rows × 46 columns</p>\n",
       "</div>"
      ],
      "text/plain": [
       "   Customer_ID Gender  Birth_Date    Ref_Date Marital_Status  Children_Num  \\\n",
       "0    5904453.0   Male  1960-10-17  2008-12-31        Married           2.0   \n",
       "1    5904524.0   Male  1972-02-22  2008-12-31       Divorced           0.0   \n",
       "2    5904672.0   Male  1953-06-24  2008-12-31        Married           1.0   \n",
       "3     125603.0   Male  1952-09-19  2008-12-31        Married           0.0   \n",
       "4    1065914.0   Male  1960-08-04  2008-12-31         Single           0.0   \n",
       "\n",
       "  Occupation_Category  Total_Income  Payroll_Flag  Business_Flag  ...  \\\n",
       "0            Rentiers       14000.0           0.0            0.0  ...   \n",
       "1           Employees       17577.0           0.0            0.0  ...   \n",
       "2            Rentiers        3000.0           0.0            0.0  ...   \n",
       "3            Rentiers       14735.0           0.0            0.0  ...   \n",
       "4     Business-Owners       99755.0           0.0            1.0  ...   \n",
       "\n",
       "   Transfer_Trans_Amount  Credit_Cards_Installments  \\\n",
       "0                    0.0                   0.000000   \n",
       "1                    0.0                   0.000000   \n",
       "2                    0.0                   0.000000   \n",
       "3                    0.0                   0.000000   \n",
       "4                    0.0                   8.666667   \n",
       "\n",
       "   Credit_Cards_Payments_Num  Credit_Cards_Purchases_Num  \\\n",
       "0                        0.0                         0.0   \n",
       "1                        0.0                         0.0   \n",
       "2                        0.0                         0.0   \n",
       "3                        0.0                         0.0   \n",
       "4                        3.5                         2.0   \n",
       "\n",
       "   Credit_Cards_Witrhdrawals_Num  Credit_Cards_Payments_Amount  \\\n",
       "0                            0.0                      0.000000   \n",
       "1                            0.0                      0.000000   \n",
       "2                            0.0                      0.000000   \n",
       "3                            0.0                      0.000000   \n",
       "4                            0.0                    275.833333   \n",
       "\n",
       "   Credit_Cards_Purchases_Amount  Credit_Cards_Witrhdrawals_Amount  \\\n",
       "0                           0.00                               0.0   \n",
       "1                           0.00                               0.0   \n",
       "2                           0.00                               0.0   \n",
       "3                           0.00                               0.0   \n",
       "4                          78.22                               0.0   \n",
       "\n",
       "   Arrears_Months_Max  Time_Deposits_Flag  \n",
       "0                 1.0                   F  \n",
       "1                 1.0                   F  \n",
       "2                 0.0                   F  \n",
       "3                 0.0                   F  \n",
       "4                 2.0                   F  \n",
       "\n",
       "[5 rows x 46 columns]"
      ]
     },
     "execution_count": 1,
     "metadata": {},
     "output_type": "execute_result"
    }
   ],
   "source": [
    "import pandas as pd\n",
    "import numpy as np\n",
    "import matplotlib.pyplot as plt\n",
    "%matplotlib inline\n",
    "\n",
    "raw = pd.read_csv('TimeDeposit_10K.csv', sep = ';')\n",
    "raw.head()"
   ]
  },
  {
   "cell_type": "code",
   "execution_count": 2,
   "metadata": {},
   "outputs": [
    {
     "data": {
      "text/plain": [
       "10000"
      ]
     },
     "execution_count": 2,
     "metadata": {},
     "output_type": "execute_result"
    }
   ],
   "source": [
    "len(raw)"
   ]
  },
  {
   "cell_type": "code",
   "execution_count": 3,
   "metadata": {},
   "outputs": [
    {
     "data": {
      "text/plain": [
       "Customer_ID                         0\n",
       "Gender                              0\n",
       "Birth_Date                          0\n",
       "Ref_Date                            0\n",
       "Marital_Status                      0\n",
       "Children_Num                        0\n",
       "Occupation_Category                 0\n",
       "Total_Income                        0\n",
       "Payroll_Flag                        0\n",
       "Business_Flag                       0\n",
       "Saving_Current_Accounts_Flag        0\n",
       "Investment_Products_Flag            0\n",
       "Insurance_Products_Flag             0\n",
       "Business_Loans_Flag                 0\n",
       "Housing_Loans_Flag                  0\n",
       "Consumer_Loans_Flag                 0\n",
       "Credit_Cards_Flag                   0\n",
       "Saving_Current_Balance              0\n",
       "Investment_Products_Balance         0\n",
       "Insurance_Balances                  0\n",
       "Business_Loans_Balance              0\n",
       "Housing_Loans_Balance               0\n",
       "Consumer_Loans_Balance              0\n",
       "Credit_Cards_Balance                0\n",
       "Branch_Trans_Num                    0\n",
       "ATM_Trans_Num                       0\n",
       "APS_Trans_Num                       0\n",
       "Phone_Trans_Num                     0\n",
       "Internet_Trans_Num                  0\n",
       "Deposit_Trans_Num                   0\n",
       "Withdrawl_Trans_Num                 0\n",
       "Payment_Trans_Num                   0\n",
       "Transfer_Trans_Num                  0\n",
       "Deposit_Trans_Amount                0\n",
       "Withdrawl_Trans_Amount              0\n",
       "Payment_Trans_Amount                0\n",
       "Transfer_Trans_Amount               0\n",
       "Credit_Cards_Installments           0\n",
       "Credit_Cards_Payments_Num           0\n",
       "Credit_Cards_Purchases_Num          0\n",
       "Credit_Cards_Witrhdrawals_Num       0\n",
       "Credit_Cards_Payments_Amount        0\n",
       "Credit_Cards_Purchases_Amount       0\n",
       "Credit_Cards_Witrhdrawals_Amount    0\n",
       "Arrears_Months_Max                  0\n",
       "Time_Deposits_Flag                  0\n",
       "dtype: int64"
      ]
     },
     "execution_count": 3,
     "metadata": {},
     "output_type": "execute_result"
    }
   ],
   "source": [
    "raw.isna().sum()"
   ]
  },
  {
   "cell_type": "code",
   "execution_count": 4,
   "metadata": {},
   "outputs": [
    {
     "data": {
      "text/plain": [
       "Customer_ID                            0\n",
       "Gender                                 0\n",
       "Birth_Date                             0\n",
       "Ref_Date                               0\n",
       "Marital_Status                         0\n",
       "Children_Num                        5909\n",
       "Occupation_Category                    0\n",
       "Total_Income                         506\n",
       "Payroll_Flag                        7479\n",
       "Business_Flag                       9211\n",
       "Saving_Current_Accounts_Flag        1348\n",
       "Investment_Products_Flag            9385\n",
       "Insurance_Products_Flag             8431\n",
       "Business_Loans_Flag                 9420\n",
       "Housing_Loans_Flag                  9409\n",
       "Consumer_Loans_Flag                 5491\n",
       "Credit_Cards_Flag                   2645\n",
       "Saving_Current_Balance              2083\n",
       "Investment_Products_Balance         9390\n",
       "Insurance_Balances                  8441\n",
       "Business_Loans_Balance              9424\n",
       "Housing_Loans_Balance               9415\n",
       "Consumer_Loans_Balance              5827\n",
       "Credit_Cards_Balance                5303\n",
       "Branch_Trans_Num                    3956\n",
       "ATM_Trans_Num                       6043\n",
       "APS_Trans_Num                       6085\n",
       "Phone_Trans_Num                     9881\n",
       "Internet_Trans_Num                  9729\n",
       "Deposit_Trans_Num                   5896\n",
       "Withdrawl_Trans_Num                 6207\n",
       "Payment_Trans_Num                   6268\n",
       "Transfer_Trans_Num                  9036\n",
       "Deposit_Trans_Amount                5896\n",
       "Withdrawl_Trans_Amount              6207\n",
       "Payment_Trans_Amount                6268\n",
       "Transfer_Trans_Amount               9036\n",
       "Credit_Cards_Installments           6453\n",
       "Credit_Cards_Payments_Num           6575\n",
       "Credit_Cards_Purchases_Num          7844\n",
       "Credit_Cards_Witrhdrawals_Num       8669\n",
       "Credit_Cards_Payments_Amount        6575\n",
       "Credit_Cards_Purchases_Amount       7844\n",
       "Credit_Cards_Witrhdrawals_Amount    8669\n",
       "Arrears_Months_Max                  5556\n",
       "Time_Deposits_Flag                     0\n",
       "dtype: int64"
      ]
     },
     "execution_count": 4,
     "metadata": {},
     "output_type": "execute_result"
    }
   ],
   "source": [
    "(raw == 0).astype(int).sum()"
   ]
  },
  {
   "cell_type": "code",
   "execution_count": 5,
   "metadata": {},
   "outputs": [
    {
     "data": {
      "text/plain": [
       "Customer_ID                         float64\n",
       "Gender                               object\n",
       "Birth_Date                           object\n",
       "Ref_Date                             object\n",
       "Marital_Status                       object\n",
       "Children_Num                        float64\n",
       "Occupation_Category                  object\n",
       "Total_Income                        float64\n",
       "Payroll_Flag                        float64\n",
       "Business_Flag                       float64\n",
       "Saving_Current_Accounts_Flag        float64\n",
       "Investment_Products_Flag            float64\n",
       "Insurance_Products_Flag             float64\n",
       "Business_Loans_Flag                 float64\n",
       "Housing_Loans_Flag                  float64\n",
       "Consumer_Loans_Flag                 float64\n",
       "Credit_Cards_Flag                   float64\n",
       "Saving_Current_Balance              float64\n",
       "Investment_Products_Balance         float64\n",
       "Insurance_Balances                  float64\n",
       "Business_Loans_Balance              float64\n",
       "Housing_Loans_Balance               float64\n",
       "Consumer_Loans_Balance              float64\n",
       "Credit_Cards_Balance                float64\n",
       "Branch_Trans_Num                    float64\n",
       "ATM_Trans_Num                       float64\n",
       "APS_Trans_Num                       float64\n",
       "Phone_Trans_Num                     float64\n",
       "Internet_Trans_Num                  float64\n",
       "Deposit_Trans_Num                   float64\n",
       "Withdrawl_Trans_Num                 float64\n",
       "Payment_Trans_Num                   float64\n",
       "Transfer_Trans_Num                  float64\n",
       "Deposit_Trans_Amount                float64\n",
       "Withdrawl_Trans_Amount              float64\n",
       "Payment_Trans_Amount                float64\n",
       "Transfer_Trans_Amount               float64\n",
       "Credit_Cards_Installments           float64\n",
       "Credit_Cards_Payments_Num           float64\n",
       "Credit_Cards_Purchases_Num          float64\n",
       "Credit_Cards_Witrhdrawals_Num       float64\n",
       "Credit_Cards_Payments_Amount        float64\n",
       "Credit_Cards_Purchases_Amount       float64\n",
       "Credit_Cards_Witrhdrawals_Amount    float64\n",
       "Arrears_Months_Max                  float64\n",
       "Time_Deposits_Flag                   object\n",
       "dtype: object"
      ]
     },
     "execution_count": 5,
     "metadata": {},
     "output_type": "execute_result"
    }
   ],
   "source": [
    "raw.dtypes"
   ]
  },
  {
   "cell_type": "markdown",
   "metadata": {},
   "source": [
    "### Manipulace s daty\n",
    "pruzkum rozlozeni hodnot a formatu jednotlivych sloupcu a uvaha o tom, ktere potrebujeme a ktere ne "
   ]
  },
  {
   "cell_type": "code",
   "execution_count": 6,
   "metadata": {},
   "outputs": [],
   "source": [
    "# no NaNs, tons of numeric data, let's see column by column\n",
    "raw.drop('Customer_ID', axis = 1, inplace = True)\n"
   ]
  },
  {
   "cell_type": "code",
   "execution_count": 7,
   "metadata": {},
   "outputs": [
    {
     "data": {
      "text/plain": [
       "<bound method Series.unique of 0         Male\n",
       "1         Male\n",
       "2         Male\n",
       "3         Male\n",
       "4         Male\n",
       "         ...  \n",
       "9995      Male\n",
       "9996    Female\n",
       "9997    Female\n",
       "9998    Female\n",
       "9999      Male\n",
       "Name: Gender, Length: 10000, dtype: object>"
      ]
     },
     "execution_count": 7,
     "metadata": {},
     "output_type": "execute_result"
    }
   ],
   "source": [
    "#how many genders do we actually have lol\n",
    "raw['Gender'].unique"
   ]
  },
  {
   "cell_type": "markdown",
   "metadata": {},
   "source": [
    "Mapovani kategoricke promenne pohlavi na numericke hodnoty (binarni promenna)"
   ]
  },
  {
   "cell_type": "code",
   "execution_count": 8,
   "metadata": {},
   "outputs": [
    {
     "data": {
      "text/plain": [
       "array([0, 0, 0, ..., 1, 1, 0], dtype=int64)"
      ]
     },
     "execution_count": 8,
     "metadata": {},
     "output_type": "execute_result"
    }
   ],
   "source": [
    "raw['Gender'] = raw['Gender'].map({'Male': 0, 'Female': 1})\n",
    "raw['Gender'].values"
   ]
  },
  {
   "cell_type": "markdown",
   "metadata": {},
   "source": [
    "Vypocet data s ohledem na referencni datum uvedene v popisu dat, tvorba sloupce Age a smazani puvodnich sloupcu"
   ]
  },
  {
   "cell_type": "code",
   "execution_count": 9,
   "metadata": {},
   "outputs": [
    {
     "name": "stdout",
     "output_type": "stream",
     "text": [
      "datetime64[ns] datetime64[ns]\n"
     ]
    }
   ],
   "source": [
    "#ref_date should be used as the current date when calculating age, let's make it easy\n",
    "raw['Birth_Date'] = pd.to_datetime(raw['Birth_Date'])\n",
    "raw['Ref_Date'] = pd.to_datetime(raw['Ref_Date'])\n",
    "print(raw['Birth_Date'].dtype, raw['Ref_Date'].dtype)"
   ]
  },
  {
   "cell_type": "code",
   "execution_count": 10,
   "metadata": {},
   "outputs": [],
   "source": [
    "#dates to datetime, get day difference, calculate years by common rule and round down\n",
    "raw['Age'] = (np.floor((pd.to_datetime(raw['Ref_Date']) - \n",
    "             pd.to_datetime(raw['Birth_Date'])).dt.days / 365.25)).astype(np.float64)"
   ]
  },
  {
   "cell_type": "code",
   "execution_count": 11,
   "metadata": {},
   "outputs": [
    {
     "data": {
      "text/plain": [
       "42.0    325\n",
       "36.0    324\n",
       "41.0    311\n",
       "40.0    308\n",
       "31.0    305\n",
       "39.0    299\n",
       "48.0    294\n",
       "29.0    293\n",
       "28.0    290\n",
       "43.0    287\n",
       "37.0    282\n",
       "30.0    279\n",
       "34.0    279\n",
       "38.0    278\n",
       "32.0    275\n",
       "35.0    272\n",
       "33.0    271\n",
       "45.0    268\n",
       "46.0    265\n",
       "49.0    257\n",
       "44.0    252\n",
       "47.0    232\n",
       "50.0    231\n",
       "51.0    226\n",
       "27.0    223\n",
       "26.0    215\n",
       "53.0    207\n",
       "52.0    205\n",
       "55.0    182\n",
       "54.0    170\n",
       "25.0    167\n",
       "62.0    157\n",
       "57.0    154\n",
       "56.0    154\n",
       "61.0    140\n",
       "59.0    139\n",
       "58.0    136\n",
       "60.0    126\n",
       "63.0    125\n",
       "24.0    110\n",
       "64.0    102\n",
       "23.0     99\n",
       "69.0     80\n",
       "65.0     75\n",
       "66.0     73\n",
       "67.0     68\n",
       "22.0     62\n",
       "68.0     52\n",
       "21.0     38\n",
       "20.0     24\n",
       "19.0     14\n",
       "Name: Age, dtype: int64"
      ]
     },
     "execution_count": 11,
     "metadata": {},
     "output_type": "execute_result"
    }
   ],
   "source": [
    "raw['Age'].value_counts()\n",
    "#cool, we have some numbers"
   ]
  },
  {
   "cell_type": "markdown",
   "metadata": {},
   "source": [
    "Ze zvedavosti histogram vekovych kategorii, jen pro predstavu jak reprezentativni vzorek je"
   ]
  },
  {
   "cell_type": "code",
   "execution_count": 12,
   "metadata": {
    "scrolled": true
   },
   "outputs": [
    {
     "data": {
      "text/plain": [
       "(array([ 237., 1005., 1423., 1435., 1530., 1311., 1126.,  796.,  687.,\n",
       "         450.]),\n",
       " array([19., 24., 29., 34., 39., 44., 49., 54., 59., 64., 69.]),\n",
       " <BarContainer object of 10 artists>)"
      ]
     },
     "execution_count": 12,
     "metadata": {},
     "output_type": "execute_result"
    },
    {
     "data": {
      "image/png": "[encoded data removed]",
      "text/plain": [
       "<Figure size 432x288 with 1 Axes>"
      ]
     },
     "metadata": {
      "needs_background": "light"
     },
     "output_type": "display_data"
    }
   ],
   "source": [
    "#let's check the distribution of age, maybe it's interesting\n",
    "plt.hist(raw['Age'])"
   ]
  },
  {
   "cell_type": "code",
   "execution_count": null,
   "metadata": {},
   "outputs": [],
   "source": []
  },
  {
   "cell_type": "code",
   "execution_count": 13,
   "metadata": {},
   "outputs": [],
   "source": [
    "#pretty fine, looks approximately normally distributed so there's no hard bias with this variable\n",
    "#getting rid of date variables, don't need them anymore\n",
    "raw.drop(['Ref_Date','Birth_Date'], axis = 1, inplace=True)"
   ]
  },
  {
   "cell_type": "markdown",
   "metadata": {},
   "source": [
    "One-hot-encoding promenne Marital_Status"
   ]
  },
  {
   "cell_type": "code",
   "execution_count": 14,
   "metadata": {},
   "outputs": [
    {
     "data": {
      "text/plain": [
       "Married     6089\n",
       "Single      2956\n",
       "Divorced     739\n",
       "Widow        216\n",
       "Name: Marital_Status, dtype: int64"
      ]
     },
     "execution_count": 14,
     "metadata": {},
     "output_type": "execute_result"
    }
   ],
   "source": [
    "# the marital status should be one-hot-encoded, as there's no direct relationship between categories if we used\n",
    "# single column encoding\n",
    "raw['Marital_Status'].value_counts()"
   ]
  },
  {
   "cell_type": "code",
   "execution_count": 15,
   "metadata": {},
   "outputs": [],
   "source": [
    "checkpoint = raw.copy() #you never know\n",
    "categories = ['Married','Single','Divorced','Widow']\n",
    "#can use pandas get_dummies or sklearn.preprocessing OneHotEncoder, however get_dummies is better if we want to \n",
    "#get rid of multicollinearity later\n",
    "\n",
    "dummies = pd.get_dummies(raw['Marital_Status'], columns = categories)\n",
    "\n"
   ]
  },
  {
   "cell_type": "code",
   "execution_count": 16,
   "metadata": {},
   "outputs": [],
   "source": [
    "raw = pd.concat([raw, dummies], axis = 1)"
   ]
  },
  {
   "cell_type": "code",
   "execution_count": 17,
   "metadata": {},
   "outputs": [],
   "source": [
    "raw.drop('Marital_Status', axis = 1, inplace = True)"
   ]
  },
  {
   "cell_type": "markdown",
   "metadata": {},
   "source": [
    "Uprava promenne Occupation_category, ktera by sla promenit na numericke hodnoty, nelze ale jednoznacne uvazovat vycislitelny hierarchicky vztah mezi kategoriemi, a tak je i tato promenna premenena pomoci One-hot-encodingu"
   ]
  },
  {
   "cell_type": "code",
   "execution_count": 18,
   "metadata": {},
   "outputs": [
    {
     "data": {
      "text/plain": [
       "Employees          5609\n",
       "Business-Owners    1775\n",
       "Retirees           1108\n",
       "Rentiers            642\n",
       "Unemployeed         506\n",
       "Self-Employees      360\n",
       "Name: Occupation_Category, dtype: int64"
      ]
     },
     "execution_count": 18,
     "metadata": {},
     "output_type": "execute_result"
    }
   ],
   "source": [
    "#the last object feature is occupation category, let's see the values\n",
    "raw['Occupation_Category'].value_counts()"
   ]
  },
  {
   "cell_type": "code",
   "execution_count": 19,
   "metadata": {},
   "outputs": [
    {
     "data": {
      "text/html": [
       "<div>\n",
       "<style scoped>\n",
       "    .dataframe tbody tr th:only-of-type {\n",
       "        vertical-align: middle;\n",
       "    }\n",
       "\n",
       "    .dataframe tbody tr th {\n",
       "        vertical-align: top;\n",
       "    }\n",
       "\n",
       "    .dataframe thead th {\n",
       "        text-align: right;\n",
       "    }\n",
       "</style>\n",
       "<table border=\"1\" class=\"dataframe\">\n",
       "  <thead>\n",
       "    <tr style=\"text-align: right;\">\n",
       "      <th></th>\n",
       "      <th>Business-Owners</th>\n",
       "      <th>Employees</th>\n",
       "      <th>Rentiers</th>\n",
       "      <th>Retirees</th>\n",
       "      <th>Self-Employees</th>\n",
       "      <th>Unemployeed</th>\n",
       "    </tr>\n",
       "  </thead>\n",
       "  <tbody>\n",
       "    <tr>\n",
       "      <th>0</th>\n",
       "      <td>0</td>\n",
       "      <td>0</td>\n",
       "      <td>1</td>\n",
       "      <td>0</td>\n",
       "      <td>0</td>\n",
       "      <td>0</td>\n",
       "    </tr>\n",
       "    <tr>\n",
       "      <th>1</th>\n",
       "      <td>0</td>\n",
       "      <td>1</td>\n",
       "      <td>0</td>\n",
       "      <td>0</td>\n",
       "      <td>0</td>\n",
       "      <td>0</td>\n",
       "    </tr>\n",
       "    <tr>\n",
       "      <th>2</th>\n",
       "      <td>0</td>\n",
       "      <td>0</td>\n",
       "      <td>1</td>\n",
       "      <td>0</td>\n",
       "      <td>0</td>\n",
       "      <td>0</td>\n",
       "    </tr>\n",
       "    <tr>\n",
       "      <th>3</th>\n",
       "      <td>0</td>\n",
       "      <td>0</td>\n",
       "      <td>1</td>\n",
       "      <td>0</td>\n",
       "      <td>0</td>\n",
       "      <td>0</td>\n",
       "    </tr>\n",
       "    <tr>\n",
       "      <th>4</th>\n",
       "      <td>1</td>\n",
       "      <td>0</td>\n",
       "      <td>0</td>\n",
       "      <td>0</td>\n",
       "      <td>0</td>\n",
       "      <td>0</td>\n",
       "    </tr>\n",
       "  </tbody>\n",
       "</table>\n",
       "</div>"
      ],
      "text/plain": [
       "   Business-Owners  Employees  Rentiers  Retirees  Self-Employees  Unemployeed\n",
       "0                0          0         1         0               0            0\n",
       "1                0          1         0         0               0            0\n",
       "2                0          0         1         0               0            0\n",
       "3                0          0         1         0               0            0\n",
       "4                1          0         0         0               0            0"
      ]
     },
     "execution_count": 19,
     "metadata": {},
     "output_type": "execute_result"
    }
   ],
   "source": [
    "#this is a tricky feature. We can't assume linear relationship between categories, since we also have unemployed and\n",
    "#retired people in our dataset. We can either one-hot-encode them all, or divide into categories like employed, unemployed, \n",
    "#retired, but for the sake of the exercise we will just one-hot-encode them all.\n",
    "checkpoint = raw.copy()\n",
    "\n",
    "cats = ['Regular employee','Business Owner','Retired','Rentier','Unemployed','Self-employed']\n",
    "dummies2 = pd.get_dummies(raw['Occupation_Category'], columns = cats)\n",
    "dummies2.head()"
   ]
  },
  {
   "cell_type": "code",
   "execution_count": 20,
   "metadata": {},
   "outputs": [],
   "source": [
    "raw = pd.concat([raw, dummies2], axis = 1)\n",
    "raw.drop('Occupation_Category', axis = 1, inplace = True)"
   ]
  },
  {
   "cell_type": "code",
   "execution_count": 21,
   "metadata": {},
   "outputs": [
    {
     "name": "stdout",
     "output_type": "stream",
     "text": [
      "<class 'pandas.core.frame.DataFrame'>\n",
      "RangeIndex: 10000 entries, 0 to 9999\n",
      "Data columns (total 52 columns):\n",
      " #   Column                            Non-Null Count  Dtype  \n",
      "---  ------                            --------------  -----  \n",
      " 0   Gender                            10000 non-null  int64  \n",
      " 1   Children_Num                      10000 non-null  float64\n",
      " 2   Total_Income                      10000 non-null  float64\n",
      " 3   Payroll_Flag                      10000 non-null  float64\n",
      " 4   Business_Flag                     10000 non-null  float64\n",
      " 5   Saving_Current_Accounts_Flag      10000 non-null  float64\n",
      " 6   Investment_Products_Flag          10000 non-null  float64\n",
      " 7   Insurance_Products_Flag           10000 non-null  float64\n",
      " 8   Business_Loans_Flag               10000 non-null  float64\n",
      " 9   Housing_Loans_Flag                10000 non-null  float64\n",
      " 10  Consumer_Loans_Flag               10000 non-null  float64\n",
      " 11  Credit_Cards_Flag                 10000 non-null  float64\n",
      " 12  Saving_Current_Balance            10000 non-null  float64\n",
      " 13  Investment_Products_Balance       10000 non-null  float64\n",
      " 14  Insurance_Balances                10000 non-null  float64\n",
      " 15  Business_Loans_Balance            10000 non-null  float64\n",
      " 16  Housing_Loans_Balance             10000 non-null  float64\n",
      " 17  Consumer_Loans_Balance            10000 non-null  float64\n",
      " 18  Credit_Cards_Balance              10000 non-null  float64\n",
      " 19  Branch_Trans_Num                  10000 non-null  float64\n",
      " 20  ATM_Trans_Num                     10000 non-null  float64\n",
      " 21  APS_Trans_Num                     10000 non-null  float64\n",
      " 22  Phone_Trans_Num                   10000 non-null  float64\n",
      " 23  Internet_Trans_Num                10000 non-null  float64\n",
      " 24  Deposit_Trans_Num                 10000 non-null  float64\n",
      " 25  Withdrawl_Trans_Num               10000 non-null  float64\n",
      " 26  Payment_Trans_Num                 10000 non-null  float64\n",
      " 27  Transfer_Trans_Num                10000 non-null  float64\n",
      " 28  Deposit_Trans_Amount              10000 non-null  float64\n",
      " 29  Withdrawl_Trans_Amount            10000 non-null  float64\n",
      " 30  Payment_Trans_Amount              10000 non-null  float64\n",
      " 31  Transfer_Trans_Amount             10000 non-null  float64\n",
      " 32  Credit_Cards_Installments         10000 non-null  float64\n",
      " 33  Credit_Cards_Payments_Num         10000 non-null  float64\n",
      " 34  Credit_Cards_Purchases_Num        10000 non-null  float64\n",
      " 35  Credit_Cards_Witrhdrawals_Num     10000 non-null  float64\n",
      " 36  Credit_Cards_Payments_Amount      10000 non-null  float64\n",
      " 37  Credit_Cards_Purchases_Amount     10000 non-null  float64\n",
      " 38  Credit_Cards_Witrhdrawals_Amount  10000 non-null  float64\n",
      " 39  Arrears_Months_Max                10000 non-null  float64\n",
      " 40  Time_Deposits_Flag                10000 non-null  object \n",
      " 41  Age                               10000 non-null  float64\n",
      " 42  Divorced                          10000 non-null  uint8  \n",
      " 43  Married                           10000 non-null  uint8  \n",
      " 44  Single                            10000 non-null  uint8  \n",
      " 45  Widow                             10000 non-null  uint8  \n",
      " 46  Business-Owners                   10000 non-null  uint8  \n",
      " 47  Employees                         10000 non-null  uint8  \n",
      " 48  Rentiers                          10000 non-null  uint8  \n",
      " 49  Retirees                          10000 non-null  uint8  \n",
      " 50  Self-Employees                    10000 non-null  uint8  \n",
      " 51  Unemployeed                       10000 non-null  uint8  \n",
      "dtypes: float64(40), int64(1), object(1), uint8(10)\n",
      "memory usage: 3.3+ MB\n"
     ]
    }
   ],
   "source": [
    "raw.info()"
   ]
  },
  {
   "cell_type": "markdown",
   "metadata": {},
   "source": [
    "Preorganizovani tabulky"
   ]
  },
  {
   "cell_type": "code",
   "execution_count": 22,
   "metadata": {},
   "outputs": [
    {
     "data": {
      "text/plain": [
       "Index(['Gender', 'Children_Num', 'Total_Income', 'Payroll_Flag',\n",
       "       'Business_Flag', 'Saving_Current_Accounts_Flag',\n",
       "       'Investment_Products_Flag', 'Insurance_Products_Flag',\n",
       "       'Business_Loans_Flag', 'Housing_Loans_Flag', 'Consumer_Loans_Flag',\n",
       "       'Credit_Cards_Flag', 'Saving_Current_Balance',\n",
       "       'Investment_Products_Balance', 'Insurance_Balances',\n",
       "       'Business_Loans_Balance', 'Housing_Loans_Balance',\n",
       "       'Consumer_Loans_Balance', 'Credit_Cards_Balance', 'Branch_Trans_Num',\n",
       "       'ATM_Trans_Num', 'APS_Trans_Num', 'Phone_Trans_Num',\n",
       "       'Internet_Trans_Num', 'Deposit_Trans_Num', 'Withdrawl_Trans_Num',\n",
       "       'Payment_Trans_Num', 'Transfer_Trans_Num', 'Deposit_Trans_Amount',\n",
       "       'Withdrawl_Trans_Amount', 'Payment_Trans_Amount',\n",
       "       'Transfer_Trans_Amount', 'Credit_Cards_Installments',\n",
       "       'Credit_Cards_Payments_Num', 'Credit_Cards_Purchases_Num',\n",
       "       'Credit_Cards_Witrhdrawals_Num', 'Credit_Cards_Payments_Amount',\n",
       "       'Credit_Cards_Purchases_Amount', 'Credit_Cards_Witrhdrawals_Amount',\n",
       "       'Arrears_Months_Max', 'Time_Deposits_Flag', 'Age', 'Divorced',\n",
       "       'Married', 'Single', 'Widow', 'Business-Owners', 'Employees',\n",
       "       'Rentiers', 'Retirees', 'Self-Employees', 'Unemployeed'],\n",
       "      dtype='object')"
      ]
     },
     "execution_count": 22,
     "metadata": {},
     "output_type": "execute_result"
    }
   ],
   "source": [
    "#let's order the dataset with y being the last feature\n",
    "raw.columns"
   ]
  },
  {
   "cell_type": "code",
   "execution_count": 23,
   "metadata": {},
   "outputs": [],
   "source": [
    "proper_cats = ['Gender', 'Children_Num', 'Total_Income', 'Payroll_Flag',\n",
    "       'Business_Flag', 'Saving_Current_Accounts_Flag',\n",
    "       'Investment_Products_Flag', 'Insurance_Products_Flag',\n",
    "       'Business_Loans_Flag', 'Housing_Loans_Flag', 'Consumer_Loans_Flag',\n",
    "       'Credit_Cards_Flag', 'Saving_Current_Balance',\n",
    "       'Investment_Products_Balance', 'Insurance_Balances',\n",
    "       'Business_Loans_Balance', 'Housing_Loans_Balance',\n",
    "       'Consumer_Loans_Balance', 'Credit_Cards_Balance', 'Branch_Trans_Num',\n",
    "       'ATM_Trans_Num', 'APS_Trans_Num', 'Phone_Trans_Num',\n",
    "       'Internet_Trans_Num', 'Deposit_Trans_Num', 'Withdrawl_Trans_Num',\n",
    "       'Payment_Trans_Num', 'Transfer_Trans_Num', 'Deposit_Trans_Amount',\n",
    "       'Withdrawl_Trans_Amount', 'Payment_Trans_Amount',\n",
    "       'Transfer_Trans_Amount', 'Credit_Cards_Installments',\n",
    "       'Credit_Cards_Payments_Num', 'Credit_Cards_Purchases_Num',\n",
    "       'Credit_Cards_Witrhdrawals_Num', 'Credit_Cards_Payments_Amount',\n",
    "       'Credit_Cards_Purchases_Amount', 'Credit_Cards_Witrhdrawals_Amount',\n",
    "       'Arrears_Months_Max', 'Age', 'Divorced',\n",
    "       'Married', 'Single', 'Widow', 'Business-Owners', 'Employees',\n",
    "       'Rentiers', 'Retirees', 'Self-Employees', 'Unemployeed', 'Time_Deposits_Flag',]\n",
    "raw = raw[proper_cats]"
   ]
  },
  {
   "cell_type": "markdown",
   "metadata": {},
   "source": [
    "Kontrola hodnot v jednotlivych sloupcich"
   ]
  },
  {
   "cell_type": "code",
   "execution_count": 24,
   "metadata": {},
   "outputs": [
    {
     "data": {
      "text/plain": [
       "1.0    7355\n",
       "0.0    2645\n",
       "Name: Credit_Cards_Flag, dtype: int64"
      ]
     },
     "execution_count": 24,
     "metadata": {},
     "output_type": "execute_result"
    }
   ],
   "source": [
    "#are the flags actually 0/1?\n",
    "raw['Credit_Cards_Flag'].value_counts()"
   ]
  },
  {
   "cell_type": "code",
   "execution_count": 25,
   "metadata": {},
   "outputs": [
    {
     "data": {
      "text/plain": [
       "506"
      ]
     },
     "execution_count": 25,
     "metadata": {},
     "output_type": "execute_result"
    }
   ],
   "source": [
    "#let's assume the remaining flags are binary as well\n",
    "(raw['Total_Income'] == 0).sum()"
   ]
  },
  {
   "cell_type": "markdown",
   "metadata": {},
   "source": [
    "Pruzkum multikolinearity - ukazuji Flags a Balance stejnou informaci?"
   ]
  },
  {
   "cell_type": "code",
   "execution_count": 26,
   "metadata": {},
   "outputs": [
    {
     "name": "stdout",
     "output_type": "stream",
     "text": [
      "1775 789.0\n",
      "8652.0 7917\n",
      "615.0 610\n"
     ]
    }
   ],
   "source": [
    "#is zero income right or missing value? Taking into account that the dataset seems to be complete, let's assume \n",
    "#this is on purpose and the people really do have zero official income\n",
    "cols_to_remove = []\n",
    "#let's think about the columns we do not need, be it because of multicollinearity or other reasons\n",
    "print(raw['Business-Owners'].sum(), raw['Business_Flag'].sum()) #no relationship\n",
    "print(raw['Saving_Current_Accounts_Flag'].sum(), (raw['Saving_Current_Balance']!=0).sum()) #ppl have accounts with no money,can be relevant\n",
    "print(raw['Investment_Products_Flag'].sum(), (raw['Investment_Products_Balance']>0).sum()) #let's investigate further\n"
   ]
  },
  {
   "cell_type": "code",
   "execution_count": 27,
   "metadata": {},
   "outputs": [
    {
     "data": {
      "text/plain": [
       "(0.0, 500.0)"
      ]
     },
     "execution_count": 27,
     "metadata": {},
     "output_type": "execute_result"
    },
    {
     "data": {
      "image/png": "[encoded data removed]",
      "text/plain": [
       "<Figure size 432x288 with 1 Axes>"
      ]
     },
     "metadata": {
      "needs_background": "light"
     },
     "output_type": "display_data"
    }
   ],
   "source": [
    "plt.hist((raw['Investment_Products_Balance']), bins = 50)\n",
    "plt.ylim(top=500)"
   ]
  },
  {
   "cell_type": "code",
   "execution_count": 28,
   "metadata": {},
   "outputs": [],
   "source": [
    "#yeah let's drop Investment flag\n",
    "cols_to_remove.append('Investment_Products_Flag')\n"
   ]
  },
  {
   "cell_type": "markdown",
   "metadata": {},
   "source": [
    "Srovnavani pozitivnich poctu pribuznych features - Flags vs. Balance a odstranovani flags v pripade podezreni o multikolinearite"
   ]
  },
  {
   "cell_type": "code",
   "execution_count": 29,
   "metadata": {},
   "outputs": [
    {
     "name": "stdout",
     "output_type": "stream",
     "text": [
      "1569.0 1569\n"
     ]
    }
   ],
   "source": [
    "print(raw['Insurance_Products_Flag'].sum(), (raw['Insurance__Balances']>0).sum()) #remove"
   ]
  },
  {
   "cell_type": "code",
   "execution_count": 30,
   "metadata": {},
   "outputs": [],
   "source": [
    "cols_to_remove.append('Insurance_Products_Flag')"
   ]
  },
  {
   "cell_type": "code",
   "execution_count": 31,
   "metadata": {},
   "outputs": [
    {
     "name": "stdout",
     "output_type": "stream",
     "text": [
      "580.0 574\n"
     ]
    }
   ],
   "source": [
    "print(raw['Business_Loans_Flag'].sum(), (raw['Business_Loans_Balance']>0).sum()) #remove"
   ]
  },
  {
   "cell_type": "code",
   "execution_count": 32,
   "metadata": {},
   "outputs": [],
   "source": [
    "cols_to_remove.append('Business_Loans_Flag')"
   ]
  },
  {
   "cell_type": "code",
   "execution_count": 33,
   "metadata": {
    "scrolled": true
   },
   "outputs": [
    {
     "name": "stdout",
     "output_type": "stream",
     "text": [
      "591.0 585\n"
     ]
    }
   ],
   "source": [
    "print(raw['Housing_Loans_Flag'].sum(), (raw['Housing_Loans_Balance']>0).sum()) #remove"
   ]
  },
  {
   "cell_type": "code",
   "execution_count": 34,
   "metadata": {},
   "outputs": [],
   "source": [
    "cols_to_remove.append('Housing_Loans_Flag')"
   ]
  },
  {
   "cell_type": "markdown",
   "metadata": {},
   "source": [
    "Consumer Loans je specialni - Balance muze byt 0, avsak flag stale 1 - pujcka je tedy splacena, ale neni uzavrena. Predpokladame, ze rozhoduje castka, a tak Flag odstranime, ackoliv se pocty mirne lisi"
   ]
  },
  {
   "cell_type": "code",
   "execution_count": 35,
   "metadata": {
    "scrolled": true
   },
   "outputs": [
    {
     "name": "stdout",
     "output_type": "stream",
     "text": [
      "4509.0 4132\n"
     ]
    }
   ],
   "source": [
    "print(raw['Consumer_Loans_Flag'].sum(), (raw['Consumer_Loans_Balance']>0).sum()) "
   ]
  },
  {
   "cell_type": "code",
   "execution_count": 36,
   "metadata": {},
   "outputs": [
    {
     "name": "stderr",
     "output_type": "stream",
     "text": [
      "c:\\users\\hartd\\appdata\\local\\programs\\python\\python38\\lib\\site-packages\\numpy\\lib\\histograms.py:839: RuntimeWarning: invalid value encountered in greater_equal\n",
      "  keep = (tmp_a >= first_edge)\n",
      "c:\\users\\hartd\\appdata\\local\\programs\\python\\python38\\lib\\site-packages\\numpy\\lib\\histograms.py:840: RuntimeWarning: invalid value encountered in less_equal\n",
      "  keep &= (tmp_a <= last_edge)\n"
     ]
    },
    {
     "data": {
      "text/plain": [
       "(0.0, 20000.0)"
      ]
     },
     "execution_count": 36,
     "metadata": {},
     "output_type": "execute_result"
    },
    {
     "data": {
      "image/png": "[encoded data removed]",
      "text/plain": [
       "<Figure size 432x288 with 1 Axes>"
      ]
     },
     "metadata": {
      "needs_background": "light"
     },
     "output_type": "display_data"
    }
   ],
   "source": [
    "toplot = [raw['Consumer_Loans_Balance'].where(raw['Consumer_Loans_Flag']==1)]\n",
    "plt.hist(toplot, bins = 50)\n",
    "plt.xlim(0,20000)"
   ]
  },
  {
   "cell_type": "code",
   "execution_count": 37,
   "metadata": {},
   "outputs": [],
   "source": [
    "#assuming there are ppl with opened consumer loan who do not owe anything, yet their loan hasn't been closed, we remove\n",
    "#this flag as well\n",
    "cols_to_remove.append('Consumer_Loans_Flag')"
   ]
  },
  {
   "cell_type": "markdown",
   "metadata": {},
   "source": [
    "Opak je pravdou u Credit Cards - fakt, ze je osoba drzitelem kreditni karty (v americkem slova smyslu, i.e. cerpa z ni na dluh), je dulezity, nebot predstavuje urcite riziko. Vyse kreditniho dluhu je taky dulezity fakt a vypovida o necem trochu jinem. Kombinace obou by mohla byt samostatna promenna. Ponechame obe promenne."
   ]
  },
  {
   "cell_type": "code",
   "execution_count": 38,
   "metadata": {},
   "outputs": [
    {
     "name": "stdout",
     "output_type": "stream",
     "text": [
      "7355.0 3984\n"
     ]
    }
   ],
   "source": [
    "print(raw['Credit_Cards_Flag'].sum(), (raw['Credit_Cards_Balance']>0).sum())\n",
    "#there are people with credit cards with no debt, however, this might be important, guess we keep that one"
   ]
  },
  {
   "cell_type": "markdown",
   "metadata": {},
   "source": [
    "Secteme pocet jednotlivych druhu transakci do jedineho sloupce a puvodnich se kvuli snizeni zbytecne dimenzionality zbavime."
   ]
  },
  {
   "cell_type": "code",
   "execution_count": 39,
   "metadata": {
    "scrolled": true
   },
   "outputs": [
    {
     "name": "stdout",
     "output_type": "stream",
     "text": [
      "19 27\n"
     ]
    }
   ],
   "source": [
    "#let's just straight up sum and then remove numbers of transactions\n",
    "print(raw.columns.get_loc(\"Branch_Trans_Num\"),raw.columns.get_loc(\"Transfer_Trans_Num\"))"
   ]
  },
  {
   "cell_type": "code",
   "execution_count": 40,
   "metadata": {},
   "outputs": [],
   "source": [
    "raw['Total_transactions'] = raw.iloc[:,raw.columns.get_loc(\"Branch_Trans_Num\"):raw.columns.get_loc(\"Transfer_Trans_Num\")].sum(axis=1)"
   ]
  },
  {
   "cell_type": "code",
   "execution_count": 41,
   "metadata": {},
   "outputs": [
    {
     "data": {
      "text/plain": [
       "count    10000.000000\n",
       "mean         3.625320\n",
       "std          4.828016\n",
       "min          0.000000\n",
       "25%          0.500000\n",
       "50%          2.000000\n",
       "75%          4.666667\n",
       "max         61.833334\n",
       "Name: Total_transactions, dtype: float64"
      ]
     },
     "execution_count": 41,
     "metadata": {},
     "output_type": "execute_result"
    }
   ],
   "source": [
    "raw['Total_transactions'].describe()"
   ]
  },
  {
   "cell_type": "code",
   "execution_count": 42,
   "metadata": {},
   "outputs": [
    {
     "data": {
      "text/plain": [
       "(array([8.210e+03, 1.199e+03, 4.060e+02, 1.210e+02, 3.900e+01, 1.000e+01,\n",
       "        7.000e+00, 6.000e+00, 1.000e+00, 1.000e+00]),\n",
       " array([ 0.       ,  6.1833334, 12.3666668, 18.5500002, 24.7333336,\n",
       "        30.916667 , 37.1000004, 43.2833338, 49.4666672, 55.6500006,\n",
       "        61.833334 ]),\n",
       " <BarContainer object of 10 artists>)"
      ]
     },
     "execution_count": 42,
     "metadata": {},
     "output_type": "execute_result"
    },
    {
     "data": {
      "image/png": "[encoded data removed]",
      "text/plain": [
       "<Figure size 432x288 with 1 Axes>"
      ]
     },
     "metadata": {
      "needs_background": "light"
     },
     "output_type": "display_data"
    }
   ],
   "source": [
    "plt.hist(raw['Total_transactions'])"
   ]
  },
  {
   "cell_type": "markdown",
   "metadata": {},
   "source": [
    "Pocet plateb a nakupu smazeme take, nechame si pouze hodnoty, ktere maji vyssi vypovidajici hodnotu"
   ]
  },
  {
   "cell_type": "code",
   "execution_count": 43,
   "metadata": {},
   "outputs": [],
   "source": [
    "#lets just remove credit cards cash movements numbers\n",
    "for i in ['Credit_Cards_Payments_Num','Credit_Cards_Purchases_Num','Credit_Cards_Witrhdrawals_Num']:\n",
    "    cols_to_remove.append(i)"
   ]
  },
  {
   "cell_type": "code",
   "execution_count": 44,
   "metadata": {},
   "outputs": [],
   "source": [
    "for i in ['Branch_Trans_Num','ATM_Trans_Num','APS_Trans_Num','Phone_Trans_Num','Internet_Trans_Num','Deposit_Trans_Num',\n",
    "         'Withdrawl_Trans_Num','Payment_Trans_Num','Transfer_Trans_Num']:\n",
    "    cols_to_remove.append(i)"
   ]
  },
  {
   "cell_type": "code",
   "execution_count": 45,
   "metadata": {},
   "outputs": [
    {
     "data": {
      "text/plain": [
       "53"
      ]
     },
     "execution_count": 45,
     "metadata": {},
     "output_type": "execute_result"
    }
   ],
   "source": [
    "len(raw.columns)"
   ]
  },
  {
   "cell_type": "code",
   "execution_count": 46,
   "metadata": {},
   "outputs": [
    {
     "data": {
      "text/html": [
       "<div>\n",
       "<style scoped>\n",
       "    .dataframe tbody tr th:only-of-type {\n",
       "        vertical-align: middle;\n",
       "    }\n",
       "\n",
       "    .dataframe tbody tr th {\n",
       "        vertical-align: top;\n",
       "    }\n",
       "\n",
       "    .dataframe thead th {\n",
       "        text-align: right;\n",
       "    }\n",
       "</style>\n",
       "<table border=\"1\" class=\"dataframe\">\n",
       "  <thead>\n",
       "    <tr style=\"text-align: right;\">\n",
       "      <th></th>\n",
       "      <th>Gender</th>\n",
       "      <th>Children_Num</th>\n",
       "      <th>Total_Income</th>\n",
       "      <th>Payroll_Flag</th>\n",
       "      <th>Business_Flag</th>\n",
       "      <th>Saving_Current_Accounts_Flag</th>\n",
       "      <th>Credit_Cards_Flag</th>\n",
       "      <th>Saving_Current_Balance</th>\n",
       "      <th>Investment_Products_Balance</th>\n",
       "      <th>Insurance_Balances</th>\n",
       "      <th>...</th>\n",
       "      <th>Single</th>\n",
       "      <th>Widow</th>\n",
       "      <th>Business-Owners</th>\n",
       "      <th>Employees</th>\n",
       "      <th>Rentiers</th>\n",
       "      <th>Retirees</th>\n",
       "      <th>Self-Employees</th>\n",
       "      <th>Unemployeed</th>\n",
       "      <th>Time_Deposits_Flag</th>\n",
       "      <th>Total_transactions</th>\n",
       "    </tr>\n",
       "  </thead>\n",
       "  <tbody>\n",
       "    <tr>\n",
       "      <th>0</th>\n",
       "      <td>0</td>\n",
       "      <td>2.0</td>\n",
       "      <td>14000.0</td>\n",
       "      <td>0.0</td>\n",
       "      <td>0.0</td>\n",
       "      <td>1.0</td>\n",
       "      <td>1.0</td>\n",
       "      <td>27.288333</td>\n",
       "      <td>0.0</td>\n",
       "      <td>0.0</td>\n",
       "      <td>...</td>\n",
       "      <td>0</td>\n",
       "      <td>0</td>\n",
       "      <td>0</td>\n",
       "      <td>0</td>\n",
       "      <td>1</td>\n",
       "      <td>0</td>\n",
       "      <td>0</td>\n",
       "      <td>0</td>\n",
       "      <td>F</td>\n",
       "      <td>1.333332</td>\n",
       "    </tr>\n",
       "    <tr>\n",
       "      <th>1</th>\n",
       "      <td>0</td>\n",
       "      <td>0.0</td>\n",
       "      <td>17577.0</td>\n",
       "      <td>0.0</td>\n",
       "      <td>0.0</td>\n",
       "      <td>1.0</td>\n",
       "      <td>0.0</td>\n",
       "      <td>120.186666</td>\n",
       "      <td>0.0</td>\n",
       "      <td>0.0</td>\n",
       "      <td>...</td>\n",
       "      <td>0</td>\n",
       "      <td>0</td>\n",
       "      <td>0</td>\n",
       "      <td>1</td>\n",
       "      <td>0</td>\n",
       "      <td>0</td>\n",
       "      <td>0</td>\n",
       "      <td>0</td>\n",
       "      <td>F</td>\n",
       "      <td>7.333333</td>\n",
       "    </tr>\n",
       "    <tr>\n",
       "      <th>2</th>\n",
       "      <td>0</td>\n",
       "      <td>1.0</td>\n",
       "      <td>3000.0</td>\n",
       "      <td>0.0</td>\n",
       "      <td>0.0</td>\n",
       "      <td>1.0</td>\n",
       "      <td>0.0</td>\n",
       "      <td>987.435000</td>\n",
       "      <td>0.0</td>\n",
       "      <td>0.0</td>\n",
       "      <td>...</td>\n",
       "      <td>0</td>\n",
       "      <td>0</td>\n",
       "      <td>0</td>\n",
       "      <td>0</td>\n",
       "      <td>1</td>\n",
       "      <td>0</td>\n",
       "      <td>0</td>\n",
       "      <td>0</td>\n",
       "      <td>F</td>\n",
       "      <td>0.500000</td>\n",
       "    </tr>\n",
       "    <tr>\n",
       "      <th>3</th>\n",
       "      <td>0</td>\n",
       "      <td>0.0</td>\n",
       "      <td>14735.0</td>\n",
       "      <td>0.0</td>\n",
       "      <td>0.0</td>\n",
       "      <td>1.0</td>\n",
       "      <td>1.0</td>\n",
       "      <td>5.581666</td>\n",
       "      <td>0.0</td>\n",
       "      <td>0.0</td>\n",
       "      <td>...</td>\n",
       "      <td>0</td>\n",
       "      <td>0</td>\n",
       "      <td>0</td>\n",
       "      <td>0</td>\n",
       "      <td>1</td>\n",
       "      <td>0</td>\n",
       "      <td>0</td>\n",
       "      <td>0</td>\n",
       "      <td>F</td>\n",
       "      <td>0.000000</td>\n",
       "    </tr>\n",
       "    <tr>\n",
       "      <th>4</th>\n",
       "      <td>0</td>\n",
       "      <td>0.0</td>\n",
       "      <td>99755.0</td>\n",
       "      <td>0.0</td>\n",
       "      <td>1.0</td>\n",
       "      <td>1.0</td>\n",
       "      <td>1.0</td>\n",
       "      <td>1614.756666</td>\n",
       "      <td>0.0</td>\n",
       "      <td>0.0</td>\n",
       "      <td>...</td>\n",
       "      <td>1</td>\n",
       "      <td>0</td>\n",
       "      <td>1</td>\n",
       "      <td>0</td>\n",
       "      <td>0</td>\n",
       "      <td>0</td>\n",
       "      <td>0</td>\n",
       "      <td>0</td>\n",
       "      <td>F</td>\n",
       "      <td>6.000000</td>\n",
       "    </tr>\n",
       "  </tbody>\n",
       "</table>\n",
       "<p>5 rows × 36 columns</p>\n",
       "</div>"
      ],
      "text/plain": [
       "   Gender  Children_Num  Total_Income  Payroll_Flag  Business_Flag  \\\n",
       "0       0           2.0       14000.0           0.0            0.0   \n",
       "1       0           0.0       17577.0           0.0            0.0   \n",
       "2       0           1.0        3000.0           0.0            0.0   \n",
       "3       0           0.0       14735.0           0.0            0.0   \n",
       "4       0           0.0       99755.0           0.0            1.0   \n",
       "\n",
       "   Saving_Current_Accounts_Flag  Credit_Cards_Flag  Saving_Current_Balance  \\\n",
       "0                           1.0                1.0               27.288333   \n",
       "1                           1.0                0.0              120.186666   \n",
       "2                           1.0                0.0              987.435000   \n",
       "3                           1.0                1.0                5.581666   \n",
       "4                           1.0                1.0             1614.756666   \n",
       "\n",
       "   Investment_Products_Balance  Insurance_Balances  ...  Single  Widow  \\\n",
       "0                          0.0                 0.0  ...       0      0   \n",
       "1                          0.0                 0.0  ...       0      0   \n",
       "2                          0.0                 0.0  ...       0      0   \n",
       "3                          0.0                 0.0  ...       0      0   \n",
       "4                          0.0                 0.0  ...       1      0   \n",
       "\n",
       "   Business-Owners  Employees  Rentiers  Retirees  Self-Employees  \\\n",
       "0                0          0         1         0               0   \n",
       "1                0          1         0         0               0   \n",
       "2                0          0         1         0               0   \n",
       "3                0          0         1         0               0   \n",
       "4                1          0         0         0               0   \n",
       "\n",
       "   Unemployeed  Time_Deposits_Flag  Total_transactions  \n",
       "0            0                   F            1.333332  \n",
       "1            0                   F            7.333333  \n",
       "2            0                   F            0.500000  \n",
       "3            0                   F            0.000000  \n",
       "4            0                   F            6.000000  \n",
       "\n",
       "[5 rows x 36 columns]"
      ]
     },
     "execution_count": 46,
     "metadata": {},
     "output_type": "execute_result"
    }
   ],
   "source": [
    "raw.drop(cols_to_remove, axis = 1, inplace = True)\n",
    "df = raw.copy()\n",
    "df.head()"
   ]
  },
  {
   "cell_type": "markdown",
   "metadata": {},
   "source": [
    "Pruzkum cilove promenne"
   ]
  },
  {
   "cell_type": "code",
   "execution_count": 47,
   "metadata": {
    "scrolled": true
   },
   "outputs": [
    {
     "data": {
      "text/plain": [
       "F    9897\n",
       "T     103\n",
       "Name: Time_Deposits_Flag, dtype: int64"
      ]
     },
     "execution_count": 47,
     "metadata": {},
     "output_type": "execute_result"
    }
   ],
   "source": [
    "#and of course, our y\n",
    "df['Time_Deposits_Flag'].value_counts()"
   ]
  },
  {
   "cell_type": "code",
   "execution_count": 48,
   "metadata": {},
   "outputs": [],
   "source": [
    "df['Time_Deposits_Flag'] = df['Time_Deposits_Flag'].map({'F' : 0, 'T' : 1})"
   ]
  },
  {
   "cell_type": "code",
   "execution_count": 49,
   "metadata": {},
   "outputs": [
    {
     "data": {
      "text/plain": [
       "0    9897\n",
       "1     103\n",
       "Name: Time_Deposits_Flag, dtype: int64"
      ]
     },
     "execution_count": 49,
     "metadata": {},
     "output_type": "execute_result"
    }
   ],
   "source": [
    "df['Time_Deposits_Flag'].value_counts()"
   ]
  },
  {
   "cell_type": "code",
   "execution_count": 50,
   "metadata": {},
   "outputs": [
    {
     "data": {
      "text/plain": [
       "Index(['Gender', 'Children_Num', 'Total_Income', 'Payroll_Flag',\n",
       "       'Business_Flag', 'Saving_Current_Accounts_Flag', 'Credit_Cards_Flag',\n",
       "       'Saving_Current_Balance', 'Investment_Products_Balance',\n",
       "       'Insurance_Balances', 'Business_Loans_Balance', 'Housing_Loans_Balance',\n",
       "       'Consumer_Loans_Balance', 'Credit_Cards_Balance',\n",
       "       'Deposit_Trans_Amount', 'Withdrawl_Trans_Amount',\n",
       "       'Payment_Trans_Amount', 'Transfer_Trans_Amount',\n",
       "       'Credit_Cards_Installments', 'Credit_Cards_Payments_Amount',\n",
       "       'Credit_Cards_Purchases_Amount', 'Credit_Cards_Witrhdrawals_Amount',\n",
       "       'Arrears_Months_Max', 'Age', 'Divorced', 'Married', 'Single', 'Widow',\n",
       "       'Business-Owners', 'Employees', 'Rentiers', 'Retirees',\n",
       "       'Self-Employees', 'Unemployeed', 'Time_Deposits_Flag',\n",
       "       'Total_transactions'],\n",
       "      dtype='object')"
      ]
     },
     "execution_count": 50,
     "metadata": {},
     "output_type": "execute_result"
    }
   ],
   "source": [
    "#we only have 103 yes labels, this is a problem for all the ML algorithms, this is too small\n",
    "#whatever, let's go on\n",
    "df.columns"
   ]
  },
  {
   "cell_type": "code",
   "execution_count": 51,
   "metadata": {},
   "outputs": [],
   "source": [
    "colsfinal = ['Gender', 'Children_Num', 'Total_Income', 'Payroll_Flag',\n",
    "       'Business_Flag', 'Saving_Current_Accounts_Flag', 'Credit_Cards_Flag',\n",
    "       'Saving_Current_Balance', 'Investment_Products_Balance',\n",
    "       'Insurance_Balances', 'Business_Loans_Balance', 'Housing_Loans_Balance',\n",
    "       'Consumer_Loans_Balance', 'Credit_Cards_Balance',\n",
    "       'Deposit_Trans_Amount', 'Withdrawl_Trans_Amount',\n",
    "       'Payment_Trans_Amount', 'Transfer_Trans_Amount',\n",
    "       'Credit_Cards_Installments', 'Credit_Cards_Payments_Amount',\n",
    "       'Credit_Cards_Purchases_Amount', 'Credit_Cards_Witrhdrawals_Amount',\n",
    "       'Arrears_Months_Max', 'Age', 'Divorced', 'Married', 'Single', 'Widow',\n",
    "       'Business-Owners', 'Employees', 'Rentiers', 'Retirees',\n",
    "       'Self-Employees', 'Unemployeed', 'Total_transactions', 'Time_Deposits_Flag']\n",
    "df = df[colsfinal]"
   ]
  },
  {
   "cell_type": "markdown",
   "metadata": {},
   "source": [
    "Rozdeleni finalni upravy dat na train, valid a test set. Train je set trenovaci, valid je validacni, na kterem se evaluuji algoritmy, kterym se test poskytne az nakonec (A POUZE JEDNOU!!!). To aby se neoverfitnul algoritmus na train datech a zaroven aby 'nebyl seznamen' s finalnim testem."
   ]
  },
  {
   "cell_type": "code",
   "execution_count": 52,
   "metadata": {},
   "outputs": [
    {
     "data": {
      "text/html": [
       "<div>\n",
       "<style scoped>\n",
       "    .dataframe tbody tr th:only-of-type {\n",
       "        vertical-align: middle;\n",
       "    }\n",
       "\n",
       "    .dataframe tbody tr th {\n",
       "        vertical-align: top;\n",
       "    }\n",
       "\n",
       "    .dataframe thead th {\n",
       "        text-align: right;\n",
       "    }\n",
       "</style>\n",
       "<table border=\"1\" class=\"dataframe\">\n",
       "  <thead>\n",
       "    <tr style=\"text-align: right;\">\n",
       "      <th></th>\n",
       "      <th>Gender</th>\n",
       "      <th>Children_Num</th>\n",
       "      <th>Total_Income</th>\n",
       "      <th>Payroll_Flag</th>\n",
       "      <th>Business_Flag</th>\n",
       "      <th>Saving_Current_Accounts_Flag</th>\n",
       "      <th>Credit_Cards_Flag</th>\n",
       "      <th>Saving_Current_Balance</th>\n",
       "      <th>Investment_Products_Balance</th>\n",
       "      <th>Insurance_Balances</th>\n",
       "      <th>...</th>\n",
       "      <th>Married</th>\n",
       "      <th>Single</th>\n",
       "      <th>Widow</th>\n",
       "      <th>Business-Owners</th>\n",
       "      <th>Employees</th>\n",
       "      <th>Rentiers</th>\n",
       "      <th>Retirees</th>\n",
       "      <th>Self-Employees</th>\n",
       "      <th>Unemployeed</th>\n",
       "      <th>Total_transactions</th>\n",
       "    </tr>\n",
       "  </thead>\n",
       "  <tbody>\n",
       "    <tr>\n",
       "      <th>0</th>\n",
       "      <td>0</td>\n",
       "      <td>2.0</td>\n",
       "      <td>14000.0</td>\n",
       "      <td>0.0</td>\n",
       "      <td>0.0</td>\n",
       "      <td>1.0</td>\n",
       "      <td>1.0</td>\n",
       "      <td>27.288333</td>\n",
       "      <td>0.0</td>\n",
       "      <td>0.0</td>\n",
       "      <td>...</td>\n",
       "      <td>1</td>\n",
       "      <td>0</td>\n",
       "      <td>0</td>\n",
       "      <td>0</td>\n",
       "      <td>0</td>\n",
       "      <td>1</td>\n",
       "      <td>0</td>\n",
       "      <td>0</td>\n",
       "      <td>0</td>\n",
       "      <td>1.333332</td>\n",
       "    </tr>\n",
       "    <tr>\n",
       "      <th>1</th>\n",
       "      <td>0</td>\n",
       "      <td>0.0</td>\n",
       "      <td>17577.0</td>\n",
       "      <td>0.0</td>\n",
       "      <td>0.0</td>\n",
       "      <td>1.0</td>\n",
       "      <td>0.0</td>\n",
       "      <td>120.186666</td>\n",
       "      <td>0.0</td>\n",
       "      <td>0.0</td>\n",
       "      <td>...</td>\n",
       "      <td>0</td>\n",
       "      <td>0</td>\n",
       "      <td>0</td>\n",
       "      <td>0</td>\n",
       "      <td>1</td>\n",
       "      <td>0</td>\n",
       "      <td>0</td>\n",
       "      <td>0</td>\n",
       "      <td>0</td>\n",
       "      <td>7.333333</td>\n",
       "    </tr>\n",
       "    <tr>\n",
       "      <th>2</th>\n",
       "      <td>0</td>\n",
       "      <td>1.0</td>\n",
       "      <td>3000.0</td>\n",
       "      <td>0.0</td>\n",
       "      <td>0.0</td>\n",
       "      <td>1.0</td>\n",
       "      <td>0.0</td>\n",
       "      <td>987.435000</td>\n",
       "      <td>0.0</td>\n",
       "      <td>0.0</td>\n",
       "      <td>...</td>\n",
       "      <td>1</td>\n",
       "      <td>0</td>\n",
       "      <td>0</td>\n",
       "      <td>0</td>\n",
       "      <td>0</td>\n",
       "      <td>1</td>\n",
       "      <td>0</td>\n",
       "      <td>0</td>\n",
       "      <td>0</td>\n",
       "      <td>0.500000</td>\n",
       "    </tr>\n",
       "    <tr>\n",
       "      <th>3</th>\n",
       "      <td>0</td>\n",
       "      <td>0.0</td>\n",
       "      <td>14735.0</td>\n",
       "      <td>0.0</td>\n",
       "      <td>0.0</td>\n",
       "      <td>1.0</td>\n",
       "      <td>1.0</td>\n",
       "      <td>5.581666</td>\n",
       "      <td>0.0</td>\n",
       "      <td>0.0</td>\n",
       "      <td>...</td>\n",
       "      <td>1</td>\n",
       "      <td>0</td>\n",
       "      <td>0</td>\n",
       "      <td>0</td>\n",
       "      <td>0</td>\n",
       "      <td>1</td>\n",
       "      <td>0</td>\n",
       "      <td>0</td>\n",
       "      <td>0</td>\n",
       "      <td>0.000000</td>\n",
       "    </tr>\n",
       "    <tr>\n",
       "      <th>4</th>\n",
       "      <td>0</td>\n",
       "      <td>0.0</td>\n",
       "      <td>99755.0</td>\n",
       "      <td>0.0</td>\n",
       "      <td>1.0</td>\n",
       "      <td>1.0</td>\n",
       "      <td>1.0</td>\n",
       "      <td>1614.756666</td>\n",
       "      <td>0.0</td>\n",
       "      <td>0.0</td>\n",
       "      <td>...</td>\n",
       "      <td>0</td>\n",
       "      <td>1</td>\n",
       "      <td>0</td>\n",
       "      <td>1</td>\n",
       "      <td>0</td>\n",
       "      <td>0</td>\n",
       "      <td>0</td>\n",
       "      <td>0</td>\n",
       "      <td>0</td>\n",
       "      <td>6.000000</td>\n",
       "    </tr>\n",
       "  </tbody>\n",
       "</table>\n",
       "<p>5 rows × 35 columns</p>\n",
       "</div>"
      ],
      "text/plain": [
       "   Gender  Children_Num  Total_Income  Payroll_Flag  Business_Flag  \\\n",
       "0       0           2.0       14000.0           0.0            0.0   \n",
       "1       0           0.0       17577.0           0.0            0.0   \n",
       "2       0           1.0        3000.0           0.0            0.0   \n",
       "3       0           0.0       14735.0           0.0            0.0   \n",
       "4       0           0.0       99755.0           0.0            1.0   \n",
       "\n",
       "   Saving_Current_Accounts_Flag  Credit_Cards_Flag  Saving_Current_Balance  \\\n",
       "0                           1.0                1.0               27.288333   \n",
       "1                           1.0                0.0              120.186666   \n",
       "2                           1.0                0.0              987.435000   \n",
       "3                           1.0                1.0                5.581666   \n",
       "4                           1.0                1.0             1614.756666   \n",
       "\n",
       "   Investment_Products_Balance  Insurance_Balances  ...  Married  Single  \\\n",
       "0                          0.0                 0.0  ...        1       0   \n",
       "1                          0.0                 0.0  ...        0       0   \n",
       "2                          0.0                 0.0  ...        1       0   \n",
       "3                          0.0                 0.0  ...        1       0   \n",
       "4                          0.0                 0.0  ...        0       1   \n",
       "\n",
       "   Widow  Business-Owners  Employees  Rentiers  Retirees  Self-Employees  \\\n",
       "0      0                0          0         1         0               0   \n",
       "1      0                0          1         0         0               0   \n",
       "2      0                0          0         1         0               0   \n",
       "3      0                0          0         1         0               0   \n",
       "4      0                1          0         0         0               0   \n",
       "\n",
       "   Unemployeed  Total_transactions  \n",
       "0            0            1.333332  \n",
       "1            0            7.333333  \n",
       "2            0            0.500000  \n",
       "3            0            0.000000  \n",
       "4            0            6.000000  \n",
       "\n",
       "[5 rows x 35 columns]"
      ]
     },
     "execution_count": 52,
     "metadata": {},
     "output_type": "execute_result"
    }
   ],
   "source": [
    "# we only have 10k instead of 120k data, it's quite possible the sampling was done in a rather unlucky manner, whatevs\n",
    "from sklearn.model_selection import train_test_split\n",
    "\n",
    "X = df[df.columns[:-1]]\n",
    "y = df[df.columns[-1]]\n",
    "X.head()"
   ]
  },
  {
   "cell_type": "code",
   "execution_count": 53,
   "metadata": {},
   "outputs": [
    {
     "data": {
      "text/plain": [
       "0    0\n",
       "1    0\n",
       "2    0\n",
       "3    0\n",
       "4    0\n",
       "Name: Time_Deposits_Flag, dtype: int64"
      ]
     },
     "execution_count": 53,
     "metadata": {},
     "output_type": "execute_result"
    }
   ],
   "source": [
    "y.head()"
   ]
  },
  {
   "cell_type": "code",
   "execution_count": 54,
   "metadata": {},
   "outputs": [
    {
     "name": "stdout",
     "output_type": "stream",
     "text": [
      "10000 10000\n"
     ]
    }
   ],
   "source": [
    "print(len(X), len(y))"
   ]
  },
  {
   "cell_type": "code",
   "execution_count": 55,
   "metadata": {},
   "outputs": [],
   "source": [
    "X_train, X_test, y_train, y_test = train_test_split(X, y, test_size = 1000, random_state = 42)\n",
    "X_train, X_valid, y_train, y_valid = train_test_split(X_train, y_train, test_size = 1000, random_state = 42)"
   ]
  },
  {
   "cell_type": "code",
   "execution_count": 56,
   "metadata": {},
   "outputs": [
    {
     "name": "stdout",
     "output_type": "stream",
     "text": [
      "8000 1000 1000\n"
     ]
    }
   ],
   "source": [
    "print(len(X_train), len(X_valid), len(X_test))"
   ]
  },
  {
   "cell_type": "markdown",
   "metadata": {},
   "source": [
    "Pruzkum rozlozeni pozitivnich zaznamu v jednotlivych setech. Problemem je, ze je jejich vyskyt pod 1%. Nejprve budeme tento fakt ignorovat a posleze se k uprave vratime."
   ]
  },
  {
   "cell_type": "code",
   "execution_count": 57,
   "metadata": {
    "scrolled": true
   },
   "outputs": [
    {
     "name": "stdout",
     "output_type": "stream",
     "text": [
      "85 6 12\n"
     ]
    }
   ],
   "source": [
    "#out of curiosity, let's check the labels\n",
    "print((y_train == 1).sum(), (y_valid == 1).sum(), (y_test == 1).sum())"
   ]
  },
  {
   "cell_type": "markdown",
   "metadata": {},
   "source": [
    "Skalovani dat - na rozhodovaci stromy nema skalovani vliv, ovsem neuronove site provadeji vypocty nad maticemi a tenzory a skaly dat mohou mit na takove vypocty obrovsky vliv. Je zadouci vse vyskalovat, zde pouzit standard scaler, jenz od kazde hodnoty odecte mean sloupce a vydeli smerodatnou odchylkou, takze hodnoty jednotlivych features odpovidaji rozdeleni N(0,1)"
   ]
  },
  {
   "cell_type": "code",
   "execution_count": 58,
   "metadata": {},
   "outputs": [
    {
     "data": {
      "text/plain": [
       "array([[-0.78392013, -0.7181439 ,  0.64719604, ..., -0.19324699,\n",
       "        -0.23301557,  0.69383573],\n",
       "       [-0.78392013, -0.7181439 ,  1.0843032 , ..., -0.19324699,\n",
       "        -0.23301557,  1.15533954],\n",
       "       [ 1.27564015, -0.7181439 , -0.44223177, ..., -0.19324699,\n",
       "        -0.23301557, -0.761676  ],\n",
       "       ...,\n",
       "       [ 1.27564015, -0.7181439 , -0.18955941, ..., -0.19324699,\n",
       "        -0.23301557, -0.37117269],\n",
       "       [-0.78392013, -0.7181439 , -0.43848232, ..., -0.19324699,\n",
       "        -0.23301557, -0.33567255],\n",
       "       [-0.78392013, -0.7181439 , -0.33704555, ...,  5.1747249 ,\n",
       "        -0.23301557, -0.761676  ]])"
      ]
     },
     "execution_count": 58,
     "metadata": {},
     "output_type": "execute_result"
    }
   ],
   "source": [
    "#scaling data\n",
    "from sklearn.preprocessing import StandardScaler\n",
    "scaler = StandardScaler()\n",
    "scaler.fit_transform(X_train)\n",
    "scaler.transform(X_valid)\n",
    "scaler.transform(X_test)"
   ]
  },
  {
   "cell_type": "markdown",
   "metadata": {},
   "source": [
    "Prvni vyuzitou metodou bude Ensemble learning - nejprve vytrenujeme jednotlive zvolene algoritmy (Random Forest, Extra Trees, Support vector Classifier a Multi-layer perceptron classifier knihovny Scikit-learn) a ohodnotime jejich vykonnost, nasledne je vlozime jako komponenty do Voting Classifieru, kde bude mit kazdy estimator hlas na celkovem vysledku volby kategorie. Voting muze byt HARD (bud 0 nebo 1) nebo SOFT (vraci pravdepodobnosti ke kazde mozne tride)"
   ]
  },
  {
   "cell_type": "code",
   "execution_count": 59,
   "metadata": {},
   "outputs": [],
   "source": [
    "#basic voting classifier \n",
    "\n",
    "from sklearn.ensemble import RandomForestClassifier, ExtraTreesClassifier\n",
    "from sklearn.svm import LinearSVC\n",
    "from sklearn.neural_network import MLPClassifier\n",
    "\n",
    "random_forest_clf = RandomForestClassifier(n_estimators=100, random_state=42)\n",
    "extra_trees_clf = ExtraTreesClassifier(n_estimators=100, random_state=42)\n",
    "svm_clf = LinearSVC(random_state=42)\n",
    "mlp_clf = MLPClassifier(random_state=42)"
   ]
  },
  {
   "cell_type": "code",
   "execution_count": 60,
   "metadata": {},
   "outputs": [
    {
     "name": "stdout",
     "output_type": "stream",
     "text": [
      "Training the RandomForestClassifier(random_state=42)\n",
      "Training the ExtraTreesClassifier(random_state=42)\n",
      "Training the LinearSVC(random_state=42)\n"
     ]
    },
    {
     "name": "stderr",
     "output_type": "stream",
     "text": [
      "c:\\users\\hartd\\appdata\\local\\programs\\python\\python38\\lib\\site-packages\\sklearn\\svm\\_base.py:976: ConvergenceWarning: Liblinear failed to converge, increase the number of iterations.\n",
      "  warnings.warn(\"Liblinear failed to converge, increase \"\n"
     ]
    },
    {
     "name": "stdout",
     "output_type": "stream",
     "text": [
      "Training the MLPClassifier(random_state=42)\n"
     ]
    }
   ],
   "source": [
    "estimators = [random_forest_clf, extra_trees_clf, svm_clf, mlp_clf]\n",
    "for estimator in estimators:\n",
    "    print(\"Training the\", estimator)\n",
    "    estimator.fit(X_train, y_train)"
   ]
  },
  {
   "cell_type": "markdown",
   "metadata": {},
   "source": [
    "Skore jednotlivych samostatnych klasifikatoru"
   ]
  },
  {
   "cell_type": "markdown",
   "metadata": {},
   "source": [
    "SVC neni vhodny, po shlednuti vykonnosti ho nebudeme dale uvazovat"
   ]
  },
  {
   "cell_type": "code",
   "execution_count": 61,
   "metadata": {
    "scrolled": true
   },
   "outputs": [
    {
     "data": {
      "text/plain": [
       "[0.994, 0.993, 0.911, 0.994]"
      ]
     },
     "execution_count": 61,
     "metadata": {},
     "output_type": "execute_result"
    }
   ],
   "source": [
    "[estimator.score(X_valid, y_valid) for estimator in estimators]"
   ]
  },
  {
   "cell_type": "markdown",
   "metadata": {},
   "source": [
    "Konstrukce Voting Classifieru"
   ]
  },
  {
   "cell_type": "code",
   "execution_count": 62,
   "metadata": {},
   "outputs": [
    {
     "data": {
      "text/plain": [
       "VotingClassifier(estimators=[('random_forest_clf',\n",
       "                              RandomForestClassifier(random_state=42)),\n",
       "                             ('extra_trees_clf',\n",
       "                              ExtraTreesClassifier(random_state=42)),\n",
       "                             ('mlp_clf', MLPClassifier(random_state=42))])"
      ]
     },
     "execution_count": 62,
     "metadata": {},
     "output_type": "execute_result"
    }
   ],
   "source": [
    "#that's very nice, but even a predictor returning only 0 has over 98% accuracy at this point)\n",
    "#also, LinearSVC is not appropriate\n",
    "from sklearn.ensemble import VotingClassifier\n",
    "\n",
    "\n",
    "named_estimators = [\n",
    "    (\"random_forest_clf\", random_forest_clf),\n",
    "    (\"extra_trees_clf\", extra_trees_clf),\n",
    "    (\"mlp_clf\", mlp_clf),\n",
    "]\n",
    "\n",
    "voting_clf = VotingClassifier(named_estimators)\n",
    "\n",
    "voting_clf.fit(X_train, y_train)"
   ]
  },
  {
   "cell_type": "markdown",
   "metadata": {},
   "source": [
    "Performance Voting Classifieru na validacnim datasetu"
   ]
  },
  {
   "cell_type": "code",
   "execution_count": 63,
   "metadata": {
    "scrolled": true
   },
   "outputs": [
    {
     "data": {
      "text/plain": [
       "0.994"
      ]
     },
     "execution_count": 63,
     "metadata": {},
     "output_type": "execute_result"
    }
   ],
   "source": [
    "voting_clf.score(X_valid, y_valid)"
   ]
  },
  {
   "cell_type": "code",
   "execution_count": 64,
   "metadata": {},
   "outputs": [
    {
     "data": {
      "text/plain": [
       "[0.994, 0.993, 0.994]"
      ]
     },
     "execution_count": 64,
     "metadata": {},
     "output_type": "execute_result"
    }
   ],
   "source": [
    "#score for every estimator used\n",
    "[estimator.score(X_valid, y_valid) for estimator in voting_clf.estimators_]"
   ]
  },
  {
   "cell_type": "markdown",
   "metadata": {},
   "source": [
    "A nakonec presnost na testovem datasetu. Presnost je 0.988, coz vypada skvele, jenze pozitivnich hodnot je jen cca 1%. Pokud bychom napsali jednoduchou funkci, ktera bude vse klasifikovat jako 0, bude mit vyssi presnost. Nemame vhodna data."
   ]
  },
  {
   "cell_type": "code",
   "execution_count": 65,
   "metadata": {},
   "outputs": [
    {
     "data": {
      "text/plain": [
       "0.988"
      ]
     },
     "execution_count": 65,
     "metadata": {},
     "output_type": "execute_result"
    }
   ],
   "source": [
    "#let's measure test set accuracy\n",
    "from sklearn.metrics import accuracy_score\n",
    "\n",
    "y_predd = voting_clf.predict(X_test)\n",
    "accuracy_score(y_test, y_predd)"
   ]
  },
  {
   "cell_type": "markdown",
   "metadata": {},
   "source": [
    "Dale je pouzit stacking (nebo take blending) - output jednoho algoritmu je inputem druheho, a tak algoritmy opravuji postupne jeden druhy. "
   ]
  },
  {
   "cell_type": "code",
   "execution_count": 66,
   "metadata": {},
   "outputs": [],
   "source": [
    "#building a blender (stacking)\n",
    "estimators = [random_forest_clf, extra_trees_clf, mlp_clf]\n",
    "X_valid_predictions = np.empty((len(X_valid), len(estimators)), dtype=np.float32)\n",
    "\n",
    "for index, estimator in enumerate(estimators):\n",
    "    X_valid_predictions[:, index] = estimator.predict(X_valid)"
   ]
  },
  {
   "cell_type": "code",
   "execution_count": 67,
   "metadata": {},
   "outputs": [
    {
     "data": {
      "text/plain": [
       "RandomForestClassifier(n_estimators=200, oob_score=True, random_state=42)"
      ]
     },
     "execution_count": 67,
     "metadata": {},
     "output_type": "execute_result"
    }
   ],
   "source": [
    "rnd_forest_blender = RandomForestClassifier(n_estimators=200, oob_score=True, random_state=42)\n",
    "rnd_forest_blender.fit(X_valid_predictions, y_valid)"
   ]
  },
  {
   "cell_type": "markdown",
   "metadata": {},
   "source": [
    "Score je 0.994, coz neni zle."
   ]
  },
  {
   "cell_type": "code",
   "execution_count": 68,
   "metadata": {},
   "outputs": [
    {
     "data": {
      "text/plain": [
       "0.994"
      ]
     },
     "execution_count": 68,
     "metadata": {},
     "output_type": "execute_result"
    }
   ],
   "source": [
    "rnd_forest_blender.oob_score_"
   ]
  },
  {
   "cell_type": "code",
   "execution_count": 69,
   "metadata": {},
   "outputs": [],
   "source": [
    "#accuracy seems to be the same"
   ]
  },
  {
   "cell_type": "markdown",
   "metadata": {},
   "source": [
    "### Neuronova sit pomoci TensorFlow"
   ]
  },
  {
   "cell_type": "code",
   "execution_count": 70,
   "metadata": {},
   "outputs": [
    {
     "data": {
      "text/plain": [
       "35"
      ]
     },
     "execution_count": 70,
     "metadata": {},
     "output_type": "execute_result"
    }
   ],
   "source": [
    "# TF NN #\n",
    "#it's an overkill, but why not; very basic TF NN\n",
    "import tensorflow as tf\n",
    "\n",
    "len(X_train.columns)"
   ]
  },
  {
   "cell_type": "markdown",
   "metadata": {},
   "source": [
    "Zde nejprve pouzijeme obecny model. V nem uvazujeme tri vrstvy (vstupni s takovym poctem neuronu, kolik je variables v X setu), prostredni s hyperparametrem pro velikost vrstvy (zde 50 = 50 neuronu), a nakonec vrstvu vracejici 2 vystupy pomoci aktivacni funkce softmax - pravdepodobnosti pro jednotlive tridy. Aktivacni funkci pro prvni dve vrstvy je nejpouzivanejsi Rectified Linear Unit (relu), jako optimalizacni algoritmus je vybran defaultni Adam, ztrata vypoctena pomoci Sparse Categorical Crossentropy. Metrikou bude presnost. \n",
    "\n",
    "Pozn. Tento model je vhodny spise pro klasifikaci vicero trid, na logistickou regresi mame vhodnejsi model dale"
   ]
  },
  {
   "cell_type": "code",
   "execution_count": 143,
   "metadata": {},
   "outputs": [],
   "source": [
    "input_size = len(X_train.columns)\n",
    "output_size = 2 #0/1\n",
    "hidden_layer_size = 50 #neurons in one layer\n",
    "\n",
    "model = tf.keras.Sequential([\n",
    "    tf.keras.layers.Dense(input_size, activation = 'relu'),\n",
    "    tf.keras.layers.Dense(hidden_layer_size, activation = 'relu'),\n",
    "    tf.keras.layers.Dense(output_size, activation = 'softmax') #binary outputs --> softmax ftw, transforms outputs into Ps\n",
    "])\n",
    "\n",
    "model.compile(optimizer = 'adam', loss = 'sparse_categorical_crossentropy', metrics = ['accuracy'])"
   ]
  },
  {
   "cell_type": "markdown",
   "metadata": {},
   "source": [
    "Velikost batche, pocet epochs (opakovani uceni) jsou hyperparametry, stejne jako patience (trpelivost) pro vestavenou pojistku proti overfittingu - Early Stopping. Tato funkce zastavi uceni v pripade, ze se ztrata na validacnich datech k-krat po sobe zvysila.\n",
    "\n",
    "Nasledujici kus kodu trenuje model na train datech. Argument verbose vypisuje stav uceni."
   ]
  },
  {
   "cell_type": "code",
   "execution_count": 144,
   "metadata": {},
   "outputs": [
    {
     "name": "stdout",
     "output_type": "stream",
     "text": [
      "Epoch 1/20\n",
      "WARNING:tensorflow:Layer dense_30 is casting an input tensor from dtype float64 to the layer's dtype of float32, which is new behavior in TensorFlow 2.  The layer has dtype float32 because its dtype defaults to floatx.\n",
      "\n",
      "If you intended to run this layer in float32, you can safely ignore this warning. If in doubt, this warning is likely only an issue if you are porting a TensorFlow 1.X model to TensorFlow 2.\n",
      "\n",
      "To change all layers to have dtype float64 by default, call `tf.keras.backend.set_floatx('float64')`. To change just this layer, pass dtype='float64' to the layer constructor. If you are the author of this layer, you can disable autocasting by passing autocast=False to the base Layer constructor.\n",
      "\n",
      "32/32 - 0s - loss: 0.1923 - accuracy: 0.9894 - val_loss: 0.1043 - val_accuracy: 0.9940\n",
      "Epoch 2/20\n",
      "32/32 - 0s - loss: 0.1771 - accuracy: 0.9894 - val_loss: 0.1002 - val_accuracy: 0.9940\n",
      "Epoch 3/20\n",
      "32/32 - 0s - loss: 0.1743 - accuracy: 0.9894 - val_loss: 0.0989 - val_accuracy: 0.9940\n",
      "Epoch 4/20\n",
      "32/32 - 0s - loss: 0.1732 - accuracy: 0.9894 - val_loss: 0.0974 - val_accuracy: 0.9940\n",
      "Epoch 5/20\n",
      "32/32 - 0s - loss: 0.1721 - accuracy: 0.9894 - val_loss: 0.0967 - val_accuracy: 0.9940\n",
      "Epoch 6/20\n",
      "32/32 - 0s - loss: 0.1713 - accuracy: 0.9894 - val_loss: 0.0967 - val_accuracy: 0.9940\n",
      "Epoch 7/20\n",
      "32/32 - 0s - loss: 0.1713 - accuracy: 0.9894 - val_loss: 0.0967 - val_accuracy: 0.9940\n",
      "Epoch 8/20\n",
      "32/32 - 0s - loss: 0.1713 - accuracy: 0.9894 - val_loss: 0.0967 - val_accuracy: 0.9940\n",
      "Epoch 9/20\n",
      "32/32 - 0s - loss: 0.1713 - accuracy: 0.9894 - val_loss: 0.0967 - val_accuracy: 0.9940\n",
      "Epoch 10/20\n",
      "32/32 - 0s - loss: 0.1713 - accuracy: 0.9894 - val_loss: 0.0967 - val_accuracy: 0.9940\n",
      "Epoch 11/20\n",
      "32/32 - 0s - loss: 0.1713 - accuracy: 0.9894 - val_loss: 0.0967 - val_accuracy: 0.9940\n",
      "Epoch 12/20\n",
      "32/32 - 0s - loss: 0.1713 - accuracy: 0.9894 - val_loss: 0.0967 - val_accuracy: 0.9940\n",
      "Epoch 13/20\n",
      "32/32 - 0s - loss: 0.1713 - accuracy: 0.9894 - val_loss: 0.0967 - val_accuracy: 0.9940\n",
      "Epoch 14/20\n",
      "32/32 - 0s - loss: 0.1713 - accuracy: 0.9894 - val_loss: 0.0967 - val_accuracy: 0.9940\n",
      "Epoch 15/20\n",
      "32/32 - 0s - loss: 0.1713 - accuracy: 0.9894 - val_loss: 0.0967 - val_accuracy: 0.9940\n",
      "Epoch 16/20\n",
      "32/32 - 0s - loss: 0.1713 - accuracy: 0.9894 - val_loss: 0.0967 - val_accuracy: 0.9940\n",
      "Epoch 17/20\n",
      "32/32 - 0s - loss: 0.1713 - accuracy: 0.9894 - val_loss: 0.0967 - val_accuracy: 0.9940\n",
      "Epoch 18/20\n",
      "32/32 - 0s - loss: 0.1713 - accuracy: 0.9894 - val_loss: 0.0967 - val_accuracy: 0.9940\n",
      "Epoch 19/20\n",
      "32/32 - 0s - loss: 0.1713 - accuracy: 0.9894 - val_loss: 0.0967 - val_accuracy: 0.9940\n",
      "Epoch 20/20\n",
      "32/32 - 0s - loss: 0.1713 - accuracy: 0.9894 - val_loss: 0.0967 - val_accuracy: 0.9940\n"
     ]
    }
   ],
   "source": [
    "BATCH_SIZE = 250\n",
    "MAX_EPOCHS = 20\n",
    "patience = 30 \n",
    "early_stopping = tf.keras.callbacks.EarlyStopping(patience = patience) #stops after X consecutive val_loss increases\n",
    "#comment early_stopping and delete callbacks argument to remove this limitation\n",
    "\n",
    "history = model.fit(X_train, y_train, batch_size = BATCH_SIZE, epochs = MAX_EPOCHS, callbacks = [early_stopping],\n",
    "          validation_data = (X_valid, y_valid), verbose = 2)"
   ]
  },
  {
   "cell_type": "markdown",
   "metadata": {},
   "source": [
    "Je dobre po kazdem uceni zobrazit si vyvoj ztraty na train a valid datech pro podporu odhadu toho, kolik epochs modelu staci k nauceni a kdy uz je to overfitting."
   ]
  },
  {
   "cell_type": "code",
   "execution_count": 145,
   "metadata": {
    "scrolled": true
   },
   "outputs": [
    {
     "data": {
      "text/plain": [
       "<matplotlib.legend.Legend at 0x18724060790>"
      ]
     },
     "execution_count": 145,
     "metadata": {},
     "output_type": "execute_result"
    },
    {
     "data": {
      "image/png": "[encoded data removed]",
      "text/plain": [
       "<Figure size 432x288 with 1 Axes>"
      ]
     },
     "metadata": {
      "needs_background": "light"
     },
     "output_type": "display_data"
    }
   ],
   "source": [
    "plt.plot(history.history['loss'])\n",
    "plt.plot(history.history['val_loss'])\n",
    "plt.title('model loss')\n",
    "plt.ylabel('loss')\n",
    "plt.xlabel('epoch')\n",
    "plt.legend(['loss', 'val_loss'], loc='upper left')"
   ]
  },
  {
   "cell_type": "markdown",
   "metadata": {},
   "source": [
    "A konecne predikce na test set. Opet neco malo pod 99, coz vzhledem k datum neni uspech. "
   ]
  },
  {
   "cell_type": "code",
   "execution_count": 139,
   "metadata": {},
   "outputs": [
    {
     "name": "stdout",
     "output_type": "stream",
     "text": [
      "32/32 [==============================] - 0s 845us/step - loss: 0.1941 - accuracy: 0.9880\n"
     ]
    }
   ],
   "source": [
    "#prediction on test set\n",
    "test_loss, test_accuracy = model.evaluate(X_test, y_test)"
   ]
  },
  {
   "cell_type": "code",
   "execution_count": 140,
   "metadata": {
    "scrolled": true
   },
   "outputs": [
    {
     "name": "stdout",
     "output_type": "stream",
     "text": [
      "\n",
      "Test loss: 0.19. Test accuracy: 98.80%\n"
     ]
    }
   ],
   "source": [
    "print('\\nTest loss: {0:.2f}. Test accuracy: {1:.2f}%'.format(test_loss,test_accuracy*100.))"
   ]
  },
  {
   "cell_type": "markdown",
   "metadata": {},
   "source": [
    "## Reseni maleho poctu pozitivnich targets pomoci metodiky SMOTE"
   ]
  },
  {
   "cell_type": "markdown",
   "metadata": {},
   "source": [
    "Smote - synthetic minority oversampling. Pomoci modulu imblearn muzeme vytvorit synteticke zaznamy zalozene na skutecnych puvodnich pozitivnich targets. Nastavime tedy oversampling na target promennou 1 a undersampling na promennou 0. Vybere se vice pozitivnich a mene negativnich z puvodniho datasetu"
   ]
  },
  {
   "cell_type": "code",
   "execution_count": 76,
   "metadata": {},
   "outputs": [],
   "source": [
    "### LOGISTIC REGRESSION WITH SMOTE AND/OR BOOSTING ###\n",
    "\n",
    "import imblearn\n",
    "from sklearn.linear_model import LogisticRegression\n",
    "from collections import Counter"
   ]
  },
  {
   "cell_type": "markdown",
   "metadata": {},
   "source": [
    "Tvorba pipeline na resample a resample dat"
   ]
  },
  {
   "cell_type": "code",
   "execution_count": 77,
   "metadata": {},
   "outputs": [],
   "source": [
    "from imblearn.over_sampling import SMOTE\n",
    "from imblearn.under_sampling import RandomUnderSampler\n",
    "from imblearn.pipeline import Pipeline\n",
    "import seaborn as sns\n",
    "\n",
    "over = SMOTE(sampling_strategy = 0.1)\n",
    "under = RandomUnderSampler(sampling_strategy = 0.5)\n",
    "seq = [('o', over),('u', under)]\n",
    "\n",
    "pipeline = Pipeline(steps = seq)\n",
    "\n",
    "Xn, yn = pipeline.fit_resample(X,y)"
   ]
  },
  {
   "cell_type": "markdown",
   "metadata": {},
   "source": [
    "Graficke zobrazeni jednotlivych zaznamu pomoci analyzy hlavnich komponent - PCA. PCA je metoda pouzivana pro snizeni dimenzionality datasetu. Zde 35 promennych redukujeme na 2 pro ucely scatterplotu cilovych hodnot. To provadi nasledujici kod. Vypovidajici hodnota jednotlivych komponent je merena pomoci procent rozptylu, ktere jednotlive dimenze vysvetluji. Skvela hodnota je 0.95, dobra nad 0.8, pod 0.6 neni prilis dobra. Vyuziva se pri clusteringu nebo je jednou z metod snizeni dimenzionality pro urychleni trenovaciho procesu. "
   ]
  },
  {
   "cell_type": "markdown",
   "metadata": {},
   "source": [
    "Graf noveho datasetu"
   ]
  },
  {
   "cell_type": "code",
   "execution_count": 78,
   "metadata": {
    "scrolled": true
   },
   "outputs": [
    {
     "data": {
      "image/png": "[encoded data removed]",
      "text/plain": [
       "<Figure size 576x576 with 1 Axes>"
      ]
     },
     "metadata": {
      "needs_background": "light"
     },
     "output_type": "display_data"
    }
   ],
   "source": [
    "#let's have a looksie using PCA on the original distribution of the targets and the final one\n",
    "from sklearn.decomposition import PCA #reduces dimensionality of the model, this time for the purpose of plotting\n",
    "pca = PCA(n_components=2)\n",
    "principalComponents = pca.fit_transform(X.values)\n",
    "pcadf = pd.DataFrame(data = principalComponents\n",
    "             , columns = ['principal component 1', 'principal component 2'])\n",
    "initialdist = pd.concat([pcadf, y], axis = 1)\n",
    "\n",
    "fig = plt.figure(figsize = (8,8))\n",
    "ax = fig.add_subplot(1,1,1) \n",
    "ax.set_xlabel('Principal Component 1', fontsize = 15)\n",
    "ax.set_ylabel('Principal Component 2', fontsize = 15)\n",
    "ax.set_title('2 component PCA', fontsize = 20)\n",
    "targets = [0, 1]\n",
    "colors = ['r', 'g']\n",
    "for target, color in zip(targets,colors):\n",
    "    indicesToKeep = initialdist['Time_Deposits_Flag'] == target\n",
    "    ax.scatter(initialdist.loc[indicesToKeep, 'principal component 1']\n",
    "               , initialdist.loc[indicesToKeep, 'principal component 2']\n",
    "               , c = color\n",
    "               , s = 50)\n",
    "ax.legend(targets)\n",
    "ax.grid()"
   ]
  },
  {
   "cell_type": "markdown",
   "metadata": {},
   "source": [
    "Graf stareho datasetu, je videt rozdil v cetnosti"
   ]
  },
  {
   "cell_type": "code",
   "execution_count": 79,
   "metadata": {
    "scrolled": true
   },
   "outputs": [
    {
     "data": {
      "image/png": "[encoded data removed]",
      "text/plain": [
       "<Figure size 576x576 with 1 Axes>"
      ]
     },
     "metadata": {
      "needs_background": "light"
     },
     "output_type": "display_data"
    }
   ],
   "source": [
    "pca = PCA(n_components=2)\n",
    "principalComponents = pca.fit_transform(Xn.values)\n",
    "pcadf2 = pd.DataFrame(data = principalComponents\n",
    "             , columns = ['principal component 1', 'principal component 2'])\n",
    "newdist = pd.concat([pcadf2, yn], axis = 1)\n",
    "\n",
    "fig = plt.figure(figsize = (8,8))\n",
    "ax = fig.add_subplot(1,1,1) \n",
    "ax.set_xlabel('Principal Component 1', fontsize = 15)\n",
    "ax.set_ylabel('Principal Component 2', fontsize = 15)\n",
    "ax.set_title('2 component PCA', fontsize = 20)\n",
    "targets = [0, 1]\n",
    "colors = ['r', 'g']\n",
    "for target, color in zip(targets,colors):\n",
    "    indicesToKeep = newdist['Time_Deposits_Flag'] == target\n",
    "    ax.scatter(newdist.loc[indicesToKeep, 'principal component 1']\n",
    "               , newdist.loc[indicesToKeep, 'principal component 2']\n",
    "               , c = color\n",
    "               , s = 50)\n",
    "ax.legend(targets)\n",
    "ax.grid()"
   ]
  },
  {
   "cell_type": "code",
   "execution_count": 80,
   "metadata": {},
   "outputs": [],
   "source": [
    "#okay, that seems more balanced than before, let's try performing some ML on that\n",
    "#this time I won't use validation subset\n",
    "\n",
    "Xn_train, Xn_test, yn_train, yn_test = train_test_split(Xn, yn, test_size = 1000, random_state = 42)"
   ]
  },
  {
   "cell_type": "markdown",
   "metadata": {},
   "source": [
    "Evaluace ensemble learning algoritmu na novych datech pomoci Cross Validation a opakovaneho stratifikovaneho KFoldu. Metrikou je tentokrat, jak je u logisticke regrese s binarnim vystupem spravne a zadouci, AUC score (area under the curve). AUC nad 0.8 je povazovano za dobre, nad 0.9 skvele."
   ]
  },
  {
   "cell_type": "code",
   "execution_count": 81,
   "metadata": {},
   "outputs": [
    {
     "name": "stdout",
     "output_type": "stream",
     "text": [
      "Mean ROC AUC: 0.972\n"
     ]
    }
   ],
   "source": [
    "from sklearn.model_selection import cross_val_score\n",
    "from sklearn.model_selection import RepeatedStratifiedKFold\n",
    "#we'll try voting_clf first\n",
    "### TAKES SOME TIME ###\n",
    "voting_clf_soft = VotingClassifier(named_estimators, voting = 'soft')\n",
    "cv = RepeatedStratifiedKFold(n_splits = 10, n_repeats = 3, random_state = 42)\n",
    "scores = cross_val_score(voting_clf_soft, Xn_train, yn_train, scoring = 'roc_auc', cv = cv)\n",
    "print('Mean ROC AUC: %.3f' % np.mean(scores)) "
   ]
  },
  {
   "cell_type": "markdown",
   "metadata": {},
   "source": [
    "Opet neuronova sit v TensorFlow na novych datech. Tentokrat ovsem posledni vrstva vraci pouze jednu hodnotu a aktivacni funkci je sigmoid, coz je spravna aktivacni funkce, pokud provadime binarni klasifikaci. V nasledujici bunce konstrukce modelu. Optimizacnim algoritmem je opet Adam, ale uz u nej upravujeme jeden z nejdulezitejsich hyperparametru - learning rate (v ramci Gradient Descent je LR velikost kroku, ktery algoritmus udela pri kazde backpropagaci - pokud je moc velky, algoritmus osciluje na krivce a nenalezne minimum. Napr pri hodnote 0.5. Pokud je maly, trva dlouho, nez konverguje. Defaultne je tato hodnota nastavena na 0.001, experimentujeme i s jinymi hodnotami.\n",
    "\n",
    "Tentokrate je ztrata merena pomoci binarni krizove entropie, coz je pri binarni klasifikaci daleko vhodnejsi varianta. Metrikou je opet AUC"
   ]
  },
  {
   "cell_type": "code",
   "execution_count": 187,
   "metadata": {},
   "outputs": [],
   "source": [
    "### TF NN AGAIN ###\n",
    "input_size = len(Xn_train.columns)\n",
    "output_size = 1 #sigmoid = 1, softmax = 2\n",
    "hidden_layer_size = 50 #neurons in one layer\n",
    "\n",
    "model2 = tf.keras.Sequential([\n",
    "    tf.keras.layers.Dense(input_size, activation = 'relu'),\n",
    "    tf.keras.layers.Dense(hidden_layer_size, activation = 'relu'),\n",
    "    tf.keras.layers.Dense(output_size, activation = 'sigmoid') #binary outputs --> softmax transforms outputs into Ps, sigmoid 0/1\n",
    "])\n",
    "lr = 0.005\n",
    "adam = tf.keras.optimizers.Adam(learning_rate=lr)\n",
    "model2.compile(optimizer = adam, loss = 'BinaryCrossentropy', metrics = ['AUC'])"
   ]
  },
  {
   "cell_type": "code",
   "execution_count": 156,
   "metadata": {},
   "outputs": [],
   "source": []
  },
  {
   "cell_type": "markdown",
   "metadata": {},
   "source": [
    "zaznam o uceni ukladame do promenne history (nejaky zazity standard) pro ucely zobrazeni krivek loss a metrik"
   ]
  },
  {
   "cell_type": "code",
   "execution_count": 189,
   "metadata": {},
   "outputs": [
    {
     "name": "stdout",
     "output_type": "stream",
     "text": [
      "Epoch 1/500\n",
      "4/4 - 0s - loss: 6.8169 - auc: 0.7066 - val_loss: 7.8943 - val_auc: 0.6506\n",
      "Epoch 2/500\n",
      "4/4 - 0s - loss: 5.8317 - auc: 0.7171 - val_loss: 5.4976 - val_auc: 0.7733\n",
      "Epoch 3/500\n",
      "4/4 - 0s - loss: 13.1859 - auc: 0.6286 - val_loss: 41.3118 - val_auc: 0.6681\n",
      "Epoch 4/500\n",
      "4/4 - 0s - loss: 26.7989 - auc: 0.6707 - val_loss: 49.5262 - val_auc: 0.5385\n",
      "Epoch 5/500\n",
      "4/4 - 0s - loss: 33.4645 - auc: 0.6056 - val_loss: 36.7421 - val_auc: 0.6876\n",
      "Epoch 6/500\n",
      "4/4 - 0s - loss: 24.6089 - auc: 0.6487 - val_loss: 32.6528 - val_auc: 0.5543\n",
      "Epoch 7/500\n",
      "4/4 - 0s - loss: 27.5851 - auc: 0.6204 - val_loss: 34.7332 - val_auc: 0.7000\n",
      "Epoch 8/500\n",
      "4/4 - 0s - loss: 19.9626 - auc: 0.6249 - val_loss: 7.1386 - val_auc: 0.7648\n",
      "Epoch 9/500\n",
      "4/4 - 0s - loss: 10.1588 - auc: 0.7195 - val_loss: 16.2699 - val_auc: 0.6021\n",
      "Epoch 10/500\n",
      "4/4 - 0s - loss: 11.6859 - auc: 0.6914 - val_loss: 9.1336 - val_auc: 0.6535\n",
      "Epoch 11/500\n",
      "4/4 - 0s - loss: 9.1987 - auc: 0.6870 - val_loss: 17.8211 - val_auc: 0.7149\n",
      "Epoch 12/500\n",
      "4/4 - 0s - loss: 7.1929 - auc: 0.7112 - val_loss: 7.4271 - val_auc: 0.7526\n",
      "Epoch 13/500\n",
      "4/4 - 0s - loss: 7.8142 - auc: 0.7100 - val_loss: 8.5367 - val_auc: 0.7339\n",
      "Epoch 14/500\n",
      "4/4 - 0s - loss: 8.3065 - auc: 0.6922 - val_loss: 10.6044 - val_auc: 0.7506\n",
      "Epoch 15/500\n",
      "4/4 - 0s - loss: 7.3268 - auc: 0.6992 - val_loss: 22.6641 - val_auc: 0.6966\n",
      "Epoch 16/500\n",
      "4/4 - 0s - loss: 13.4130 - auc: 0.6851 - val_loss: 4.7703 - val_auc: 0.7177\n",
      "Epoch 17/500\n",
      "4/4 - 0s - loss: 10.7818 - auc: 0.7088 - val_loss: 20.0172 - val_auc: 0.5589\n",
      "Epoch 18/500\n",
      "4/4 - 0s - loss: 15.3263 - auc: 0.6664 - val_loss: 6.3075 - val_auc: 0.7345\n",
      "Epoch 19/500\n",
      "4/4 - 0s - loss: 11.5920 - auc: 0.6832 - val_loss: 19.0417 - val_auc: 0.7090\n",
      "Epoch 20/500\n",
      "4/4 - 0s - loss: 7.3774 - auc: 0.6965 - val_loss: 29.1296 - val_auc: 0.6938\n",
      "Epoch 21/500\n",
      "4/4 - 0s - loss: 16.7872 - auc: 0.6599 - val_loss: 7.6927 - val_auc: 0.6351\n",
      "Epoch 22/500\n",
      "4/4 - 0s - loss: 12.5837 - auc: 0.7109 - val_loss: 25.0428 - val_auc: 0.5342\n",
      "Epoch 23/500\n",
      "4/4 - 0s - loss: 19.5145 - auc: 0.6136 - val_loss: 34.5873 - val_auc: 0.6798\n",
      "Epoch 24/500\n",
      "4/4 - 0s - loss: 18.3834 - auc: 0.6377 - val_loss: 13.9823 - val_auc: 0.5820\n",
      "Epoch 25/500\n",
      "4/4 - 0s - loss: 16.2571 - auc: 0.6809 - val_loss: 21.2828 - val_auc: 0.5468\n",
      "Epoch 26/500\n",
      "4/4 - 0s - loss: 20.1114 - auc: 0.5937 - val_loss: 38.0375 - val_auc: 0.6778\n",
      "Epoch 27/500\n",
      "4/4 - 0s - loss: 22.4120 - auc: 0.6553 - val_loss: 40.1303 - val_auc: 0.5382\n",
      "Epoch 28/500\n",
      "4/4 - 0s - loss: 25.2107 - auc: 0.6004 - val_loss: 40.7164 - val_auc: 0.6880\n",
      "Epoch 29/500\n",
      "4/4 - 0s - loss: 17.6045 - auc: 0.6605 - val_loss: 14.3580 - val_auc: 0.6076\n",
      "Epoch 30/500\n",
      "4/4 - 0s - loss: 8.7754 - auc: 0.7273 - val_loss: 11.6022 - val_auc: 0.6273\n",
      "Epoch 31/500\n",
      "4/4 - 0s - loss: 7.1450 - auc: 0.7126 - val_loss: 8.2873 - val_auc: 0.6487\n",
      "Epoch 32/500\n",
      "4/4 - 0s - loss: 6.7457 - auc: 0.7014 - val_loss: 11.4807 - val_auc: 0.6156\n",
      "Epoch 33/500\n",
      "4/4 - 0s - loss: 8.5139 - auc: 0.7016 - val_loss: 7.1472 - val_auc: 0.6666\n",
      "Epoch 34/500\n",
      "4/4 - 0s - loss: 5.1349 - auc: 0.7389 - val_loss: 8.6702 - val_auc: 0.6343\n",
      "Epoch 35/500\n",
      "4/4 - 0s - loss: 6.4826 - auc: 0.7212 - val_loss: 17.3576 - val_auc: 0.5644\n",
      "Epoch 36/500\n",
      "4/4 - 0s - loss: 14.0612 - auc: 0.6314 - val_loss: 23.2644 - val_auc: 0.6900\n",
      "Epoch 37/500\n",
      "4/4 - 0s - loss: 13.0451 - auc: 0.6478 - val_loss: 6.3685 - val_auc: 0.6824\n",
      "Epoch 38/500\n",
      "4/4 - 0s - loss: 12.6816 - auc: 0.7251 - val_loss: 24.0241 - val_auc: 0.5503\n",
      "Epoch 39/500\n",
      "4/4 - 0s - loss: 21.7323 - auc: 0.6032 - val_loss: 38.8363 - val_auc: 0.6725\n",
      "Epoch 40/500\n",
      "4/4 - 0s - loss: 25.4371 - auc: 0.6563 - val_loss: 26.2970 - val_auc: 0.5499\n",
      "Epoch 41/500\n",
      "4/4 - 0s - loss: 18.0297 - auc: 0.6440 - val_loss: 33.5077 - val_auc: 0.6914\n",
      "Epoch 42/500\n",
      "4/4 - 0s - loss: 21.5410 - auc: 0.6365 - val_loss: 25.2262 - val_auc: 0.5593\n",
      "Epoch 43/500\n",
      "4/4 - 0s - loss: 24.2540 - auc: 0.6526 - val_loss: 30.8121 - val_auc: 0.6908\n",
      "Epoch 44/500\n",
      "4/4 - 0s - loss: 20.3893 - auc: 0.6288 - val_loss: 12.1595 - val_auc: 0.6158\n",
      "Epoch 45/500\n",
      "4/4 - 0s - loss: 13.5800 - auc: 0.7044 - val_loss: 17.1576 - val_auc: 0.5889\n",
      "Epoch 46/500\n",
      "4/4 - 0s - loss: 14.7233 - auc: 0.6482 - val_loss: 18.6967 - val_auc: 0.7165\n",
      "Epoch 47/500\n",
      "4/4 - 0s - loss: 10.9112 - auc: 0.6850 - val_loss: 7.9319 - val_auc: 0.6769\n",
      "Epoch 48/500\n",
      "4/4 - 0s - loss: 9.5164 - auc: 0.7054 - val_loss: 14.3843 - val_auc: 0.6160\n",
      "Epoch 49/500\n",
      "4/4 - 0s - loss: 11.3575 - auc: 0.6835 - val_loss: 25.7069 - val_auc: 0.7023\n",
      "Epoch 50/500\n",
      "4/4 - 0s - loss: 14.4036 - auc: 0.6664 - val_loss: 11.3635 - val_auc: 0.6253\n",
      "Epoch 51/500\n",
      "4/4 - 0s - loss: 9.4185 - auc: 0.7304 - val_loss: 15.4151 - val_auc: 0.5835\n",
      "Epoch 52/500\n",
      "4/4 - 0s - loss: 11.5479 - auc: 0.6473 - val_loss: 21.4078 - val_auc: 0.7074\n",
      "Epoch 53/500\n",
      "4/4 - 0s - loss: 14.5649 - auc: 0.6562 - val_loss: 13.2094 - val_auc: 0.6087\n",
      "Epoch 54/500\n",
      "4/4 - 0s - loss: 8.1786 - auc: 0.6946 - val_loss: 6.9442 - val_auc: 0.6898\n",
      "Epoch 55/500\n",
      "4/4 - 0s - loss: 4.0948 - auc: 0.7365 - val_loss: 3.7486 - val_auc: 0.7617\n",
      "Epoch 56/500\n",
      "4/4 - 0s - loss: 2.4892 - auc: 0.7803 - val_loss: 5.1138 - val_auc: 0.7638\n",
      "Epoch 57/500\n",
      "4/4 - 0s - loss: 4.4842 - auc: 0.7303 - val_loss: 7.6878 - val_auc: 0.7600\n",
      "Epoch 58/500\n",
      "4/4 - 0s - loss: 8.9777 - auc: 0.6595 - val_loss: 17.5430 - val_auc: 0.7153\n",
      "Epoch 59/500\n",
      "4/4 - 0s - loss: 8.8981 - auc: 0.7028 - val_loss: 4.5383 - val_auc: 0.7756\n",
      "Epoch 60/500\n",
      "4/4 - 0s - loss: 4.2134 - auc: 0.7543 - val_loss: 9.3536 - val_auc: 0.6009\n",
      "Epoch 61/500\n",
      "4/4 - 0s - loss: 6.4492 - auc: 0.6982 - val_loss: 10.6714 - val_auc: 0.5953\n",
      "Epoch 62/500\n",
      "4/4 - 0s - loss: 10.9715 - auc: 0.6592 - val_loss: 29.9479 - val_auc: 0.6868\n",
      "Epoch 63/500\n",
      "4/4 - 0s - loss: 19.2380 - auc: 0.6571 - val_loss: 28.0775 - val_auc: 0.5487\n",
      "Epoch 64/500\n",
      "4/4 - 0s - loss: 20.7062 - auc: 0.6432 - val_loss: 27.2988 - val_auc: 0.7071\n",
      "Epoch 65/500\n",
      "4/4 - 0s - loss: 10.2891 - auc: 0.6906 - val_loss: 8.4776 - val_auc: 0.7484\n",
      "Epoch 66/500\n",
      "4/4 - 0s - loss: 6.7077 - auc: 0.7128 - val_loss: 3.8883 - val_auc: 0.7516\n",
      "Epoch 67/500\n",
      "4/4 - 0s - loss: 7.8353 - auc: 0.7052 - val_loss: 15.5462 - val_auc: 0.5773\n",
      "Epoch 68/500\n",
      "4/4 - 0s - loss: 13.5862 - auc: 0.6688 - val_loss: 5.5140 - val_auc: 0.7815\n",
      "Epoch 69/500\n",
      "4/4 - 0s - loss: 18.1071 - auc: 0.6154 - val_loss: 4.1991 - val_auc: 0.7394\n",
      "Epoch 70/500\n",
      "4/4 - 0s - loss: 19.7220 - auc: 0.6993 - val_loss: 7.3834 - val_auc: 0.6603\n",
      "Epoch 71/500\n",
      "4/4 - 0s - loss: 10.6960 - auc: 0.6397 - val_loss: 8.0610 - val_auc: 0.7611\n",
      "Epoch 72/500\n",
      "4/4 - 0s - loss: 4.3336 - auc: 0.7516 - val_loss: 4.6004 - val_auc: 0.7812\n",
      "Epoch 73/500\n",
      "4/4 - 0s - loss: 5.5550 - auc: 0.7272 - val_loss: 12.1663 - val_auc: 0.7475\n",
      "Epoch 74/500\n",
      "4/4 - 0s - loss: 4.0591 - auc: 0.7439 - val_loss: 3.6640 - val_auc: 0.7697\n",
      "Epoch 75/500\n",
      "4/4 - 0s - loss: 2.5547 - auc: 0.7775 - val_loss: 3.5686 - val_auc: 0.7311\n",
      "Epoch 76/500\n",
      "4/4 - 0s - loss: 3.5070 - auc: 0.7602 - val_loss: 6.2360 - val_auc: 0.7845\n",
      "Epoch 77/500\n",
      "4/4 - 0s - loss: 9.2436 - auc: 0.6444 - val_loss: 13.8621 - val_auc: 0.7297\n",
      "Epoch 78/500\n",
      "4/4 - 0s - loss: 8.0684 - auc: 0.7014 - val_loss: 3.1101 - val_auc: 0.8089\n",
      "Epoch 79/500\n",
      "4/4 - 0s - loss: 3.5145 - auc: 0.7493 - val_loss: 9.4886 - val_auc: 0.7668\n",
      "Epoch 80/500\n",
      "4/4 - 0s - loss: 6.5526 - auc: 0.7116 - val_loss: 6.5154 - val_auc: 0.7793\n",
      "Epoch 81/500\n",
      "4/4 - 0s - loss: 4.7397 - auc: 0.7483 - val_loss: 2.8194 - val_auc: 0.8142\n",
      "Epoch 82/500\n",
      "4/4 - 0s - loss: 3.6956 - auc: 0.7690 - val_loss: 10.0694 - val_auc: 0.7574\n",
      "Epoch 83/500\n",
      "4/4 - 0s - loss: 9.7582 - auc: 0.6644 - val_loss: 7.4058 - val_auc: 0.6700\n",
      "Epoch 84/500\n",
      "4/4 - 0s - loss: 9.8660 - auc: 0.7273 - val_loss: 14.9634 - val_auc: 0.5820\n",
      "Epoch 85/500\n",
      "4/4 - 0s - loss: 12.2565 - auc: 0.6406 - val_loss: 24.5127 - val_auc: 0.7248\n",
      "Epoch 86/500\n",
      "4/4 - 0s - loss: 16.8997 - auc: 0.6761 - val_loss: 18.6163 - val_auc: 0.5598\n",
      "Epoch 87/500\n",
      "4/4 - 0s - loss: 11.2511 - auc: 0.6582 - val_loss: 3.5477 - val_auc: 0.7987\n",
      "Epoch 88/500\n",
      "4/4 - 0s - loss: 5.4757 - auc: 0.7190 - val_loss: 11.3996 - val_auc: 0.7484\n",
      "Epoch 89/500\n",
      "4/4 - 0s - loss: 4.4638 - auc: 0.7413 - val_loss: 3.8144 - val_auc: 0.7732\n",
      "Epoch 90/500\n",
      "4/4 - 0s - loss: 3.4303 - auc: 0.7617 - val_loss: 5.1704 - val_auc: 0.6794\n",
      "Epoch 91/500\n",
      "4/4 - 0s - loss: 4.6581 - auc: 0.7681 - val_loss: 9.0554 - val_auc: 0.5960\n",
      "Epoch 92/500\n",
      "4/4 - 0s - loss: 5.5545 - auc: 0.7165 - val_loss: 3.5335 - val_auc: 0.7088\n",
      "Epoch 93/500\n",
      "4/4 - 0s - loss: 3.2726 - auc: 0.7602 - val_loss: 8.7990 - val_auc: 0.6191\n"
     ]
    },
    {
     "name": "stdout",
     "output_type": "stream",
     "text": [
      "Epoch 94/500\n",
      "4/4 - 0s - loss: 5.3472 - auc: 0.7189 - val_loss: 6.4519 - val_auc: 0.6565\n",
      "Epoch 95/500\n",
      "4/4 - 0s - loss: 6.4880 - auc: 0.7096 - val_loss: 5.9296 - val_auc: 0.6585\n",
      "Epoch 96/500\n",
      "4/4 - 0s - loss: 4.1226 - auc: 0.7327 - val_loss: 4.6971 - val_auc: 0.6989\n",
      "Epoch 97/500\n",
      "4/4 - 0s - loss: 2.5104 - auc: 0.7833 - val_loss: 2.9664 - val_auc: 0.7898\n",
      "Epoch 98/500\n",
      "4/4 - 0s - loss: 2.0170 - auc: 0.7796 - val_loss: 5.8448 - val_auc: 0.7862\n",
      "Epoch 99/500\n",
      "4/4 - 0s - loss: 2.5526 - auc: 0.7637 - val_loss: 2.7004 - val_auc: 0.8074\n",
      "Epoch 100/500\n",
      "4/4 - 0s - loss: 2.2108 - auc: 0.7967 - val_loss: 3.7573 - val_auc: 0.7015\n",
      "Epoch 101/500\n",
      "4/4 - 0s - loss: 5.8702 - auc: 0.7242 - val_loss: 12.8158 - val_auc: 0.5734\n",
      "Epoch 102/500\n",
      "4/4 - 0s - loss: 14.8047 - auc: 0.6605 - val_loss: 18.4051 - val_auc: 0.7085\n",
      "Epoch 103/500\n",
      "4/4 - 0s - loss: 15.5001 - auc: 0.6259 - val_loss: 8.0902 - val_auc: 0.6143\n",
      "Epoch 104/500\n",
      "4/4 - 0s - loss: 10.9563 - auc: 0.7197 - val_loss: 11.6222 - val_auc: 0.5862\n",
      "Epoch 105/500\n",
      "4/4 - 0s - loss: 11.1269 - auc: 0.6461 - val_loss: 12.3319 - val_auc: 0.7473\n",
      "Epoch 106/500\n",
      "4/4 - 0s - loss: 8.8042 - auc: 0.6722 - val_loss: 5.6598 - val_auc: 0.6845\n",
      "Epoch 107/500\n",
      "4/4 - 0s - loss: 7.6367 - auc: 0.7379 - val_loss: 15.9117 - val_auc: 0.5716\n",
      "Epoch 108/500\n",
      "4/4 - 0s - loss: 13.3701 - auc: 0.6381 - val_loss: 13.7900 - val_auc: 0.7202\n",
      "Epoch 109/500\n",
      "4/4 - 0s - loss: 7.2894 - auc: 0.7222 - val_loss: 5.9857 - val_auc: 0.6801\n",
      "Epoch 110/500\n",
      "4/4 - 0s - loss: 5.5300 - auc: 0.7395 - val_loss: 5.7707 - val_auc: 0.6821\n",
      "Epoch 111/500\n",
      "4/4 - 0s - loss: 4.7312 - auc: 0.7262 - val_loss: 7.1508 - val_auc: 0.6571\n",
      "Epoch 112/500\n",
      "4/4 - 0s - loss: 4.6662 - auc: 0.7410 - val_loss: 4.8956 - val_auc: 0.6845\n",
      "Epoch 113/500\n",
      "4/4 - 0s - loss: 3.0086 - auc: 0.7608 - val_loss: 2.6748 - val_auc: 0.7968\n",
      "Epoch 114/500\n",
      "4/4 - 0s - loss: 1.8405 - auc: 0.8176 - val_loss: 5.3118 - val_auc: 0.6758\n",
      "Epoch 115/500\n",
      "4/4 - 0s - loss: 4.0845 - auc: 0.7544 - val_loss: 6.6957 - val_auc: 0.6502\n",
      "Epoch 116/500\n",
      "4/4 - 0s - loss: 4.7013 - auc: 0.7190 - val_loss: 7.5607 - val_auc: 0.6219\n",
      "Epoch 117/500\n",
      "4/4 - 0s - loss: 4.4193 - auc: 0.7189 - val_loss: 7.4196 - val_auc: 0.6244\n",
      "Epoch 118/500\n",
      "4/4 - 0s - loss: 5.2187 - auc: 0.7171 - val_loss: 8.0293 - val_auc: 0.6270\n",
      "Epoch 119/500\n",
      "4/4 - 0s - loss: 6.1003 - auc: 0.7003 - val_loss: 6.1560 - val_auc: 0.6753\n",
      "Epoch 120/500\n",
      "4/4 - 0s - loss: 4.0104 - auc: 0.7460 - val_loss: 8.2579 - val_auc: 0.6269\n",
      "Epoch 121/500\n",
      "4/4 - 0s - loss: 6.7314 - auc: 0.7125 - val_loss: 3.6692 - val_auc: 0.8062\n",
      "Epoch 122/500\n",
      "4/4 - 0s - loss: 7.9014 - auc: 0.6844 - val_loss: 13.2096 - val_auc: 0.7359\n",
      "Epoch 123/500\n",
      "4/4 - 0s - loss: 7.5374 - auc: 0.7242 - val_loss: 18.1745 - val_auc: 0.5681\n",
      "Epoch 124/500\n",
      "4/4 - 0s - loss: 11.9370 - auc: 0.6663 - val_loss: 6.1671 - val_auc: 0.7920\n",
      "Epoch 125/500\n",
      "4/4 - 0s - loss: 10.5034 - auc: 0.6673 - val_loss: 2.9935 - val_auc: 0.8055\n",
      "Epoch 126/500\n",
      "4/4 - 0s - loss: 7.8262 - auc: 0.7526 - val_loss: 10.9814 - val_auc: 0.6106\n",
      "Epoch 127/500\n",
      "4/4 - 0s - loss: 7.9390 - auc: 0.6985 - val_loss: 5.1287 - val_auc: 0.7008\n",
      "Epoch 128/500\n",
      "4/4 - 0s - loss: 4.2851 - auc: 0.7437 - val_loss: 5.9889 - val_auc: 0.6923\n",
      "Epoch 129/500\n",
      "4/4 - 0s - loss: 3.6078 - auc: 0.7709 - val_loss: 7.5529 - val_auc: 0.6521\n",
      "Epoch 130/500\n",
      "4/4 - 0s - loss: 5.4973 - auc: 0.7232 - val_loss: 3.7307 - val_auc: 0.7011\n",
      "Epoch 131/500\n",
      "4/4 - 0s - loss: 3.1913 - auc: 0.7732 - val_loss: 6.7463 - val_auc: 0.6508\n",
      "Epoch 132/500\n",
      "4/4 - 0s - loss: 5.2125 - auc: 0.7238 - val_loss: 5.3655 - val_auc: 0.6722\n",
      "Epoch 133/500\n",
      "4/4 - 0s - loss: 4.0118 - auc: 0.7477 - val_loss: 6.3111 - val_auc: 0.6568\n",
      "Epoch 134/500\n",
      "4/4 - 0s - loss: 6.1445 - auc: 0.7149 - val_loss: 7.1063 - val_auc: 0.6318\n",
      "Epoch 135/500\n",
      "4/4 - 0s - loss: 4.8760 - auc: 0.7095 - val_loss: 3.4879 - val_auc: 0.8082\n",
      "Epoch 136/500\n",
      "4/4 - 0s - loss: 5.0113 - auc: 0.6978 - val_loss: 7.6129 - val_auc: 0.7805\n",
      "Epoch 137/500\n",
      "4/4 - 0s - loss: 2.9208 - auc: 0.7771 - val_loss: 2.8831 - val_auc: 0.8133\n",
      "Epoch 138/500\n",
      "4/4 - 0s - loss: 4.6769 - auc: 0.7398 - val_loss: 6.8559 - val_auc: 0.7855\n",
      "Epoch 139/500\n",
      "4/4 - 0s - loss: 2.4606 - auc: 0.7825 - val_loss: 2.9948 - val_auc: 0.8179\n",
      "Epoch 140/500\n",
      "4/4 - 0s - loss: 2.1531 - auc: 0.8043 - val_loss: 2.3530 - val_auc: 0.8183\n",
      "Epoch 141/500\n",
      "4/4 - 0s - loss: 1.2141 - auc: 0.8317 - val_loss: 2.5467 - val_auc: 0.7914\n",
      "Epoch 142/500\n",
      "4/4 - 0s - loss: 2.2372 - auc: 0.7603 - val_loss: 12.1798 - val_auc: 0.7437\n",
      "Epoch 143/500\n",
      "4/4 - 0s - loss: 5.0302 - auc: 0.7318 - val_loss: 7.4684 - val_auc: 0.7885\n",
      "Epoch 144/500\n",
      "4/4 - 0s - loss: 4.5671 - auc: 0.7102 - val_loss: 8.7632 - val_auc: 0.7800\n",
      "Epoch 145/500\n",
      "4/4 - 0s - loss: 4.8331 - auc: 0.7460 - val_loss: 3.1711 - val_auc: 0.8223\n",
      "Epoch 146/500\n",
      "4/4 - 0s - loss: 1.9373 - auc: 0.8188 - val_loss: 2.9575 - val_auc: 0.7382\n",
      "Epoch 147/500\n",
      "4/4 - 0s - loss: 2.7900 - auc: 0.7773 - val_loss: 2.5932 - val_auc: 0.8167\n",
      "Epoch 148/500\n",
      "4/4 - 0s - loss: 1.7445 - auc: 0.8218 - val_loss: 3.5183 - val_auc: 0.7138\n",
      "Epoch 149/500\n",
      "4/4 - 0s - loss: 1.5967 - auc: 0.8308 - val_loss: 3.0650 - val_auc: 0.7433\n",
      "Epoch 150/500\n",
      "4/4 - 0s - loss: 1.9009 - auc: 0.7799 - val_loss: 12.1768 - val_auc: 0.7361\n",
      "Epoch 151/500\n",
      "4/4 - 0s - loss: 8.4095 - auc: 0.6728 - val_loss: 4.9156 - val_auc: 0.6767\n",
      "Epoch 152/500\n",
      "4/4 - 0s - loss: 10.7754 - auc: 0.7193 - val_loss: 12.4479 - val_auc: 0.5634\n",
      "Epoch 153/500\n",
      "4/4 - 0s - loss: 13.3475 - auc: 0.6095 - val_loss: 21.5469 - val_auc: 0.7142\n",
      "Epoch 154/500\n",
      "4/4 - 0s - loss: 15.6534 - auc: 0.6970 - val_loss: 12.9032 - val_auc: 0.5688\n",
      "Epoch 155/500\n",
      "4/4 - 0s - loss: 10.3718 - auc: 0.6656 - val_loss: 19.5711 - val_auc: 0.7331\n",
      "Epoch 156/500\n",
      "4/4 - 0s - loss: 9.3540 - auc: 0.6850 - val_loss: 10.7962 - val_auc: 0.5884\n",
      "Epoch 157/500\n",
      "4/4 - 0s - loss: 5.5992 - auc: 0.7341 - val_loss: 5.4429 - val_auc: 0.6658\n",
      "Epoch 158/500\n",
      "4/4 - 0s - loss: 4.6280 - auc: 0.7269 - val_loss: 5.0740 - val_auc: 0.6846\n",
      "Epoch 159/500\n",
      "4/4 - 0s - loss: 4.0886 - auc: 0.7279 - val_loss: 4.5666 - val_auc: 0.6964\n",
      "Epoch 160/500\n",
      "4/4 - 0s - loss: 3.6269 - auc: 0.7509 - val_loss: 7.7105 - val_auc: 0.6241\n",
      "Epoch 161/500\n",
      "4/4 - 0s - loss: 6.6433 - auc: 0.6908 - val_loss: 12.8143 - val_auc: 0.7457\n",
      "Epoch 162/500\n",
      "4/4 - 0s - loss: 5.1497 - auc: 0.7140 - val_loss: 12.1240 - val_auc: 0.7610\n",
      "Epoch 163/500\n",
      "4/4 - 0s - loss: 7.7013 - auc: 0.7278 - val_loss: 10.2300 - val_auc: 0.5901\n",
      "Epoch 164/500\n",
      "4/4 - 0s - loss: 10.5438 - auc: 0.6895 - val_loss: 8.6162 - val_auc: 0.7774\n",
      "Epoch 165/500\n",
      "4/4 - 0s - loss: 13.5730 - auc: 0.6448 - val_loss: 3.4376 - val_auc: 0.7503\n",
      "Epoch 166/500\n",
      "4/4 - 0s - loss: 13.6234 - auc: 0.7136 - val_loss: 5.5748 - val_auc: 0.6677\n",
      "Epoch 167/500\n",
      "4/4 - 0s - loss: 6.6893 - auc: 0.6599 - val_loss: 7.3073 - val_auc: 0.7466\n",
      "Epoch 168/500\n",
      "4/4 - 0s - loss: 3.8084 - auc: 0.7335 - val_loss: 9.9532 - val_auc: 0.7440\n",
      "Epoch 169/500\n",
      "4/4 - 0s - loss: 4.7835 - auc: 0.7288 - val_loss: 6.8232 - val_auc: 0.7638\n",
      "Epoch 170/500\n",
      "4/4 - 0s - loss: 3.5469 - auc: 0.7454 - val_loss: 5.3143 - val_auc: 0.7701\n",
      "Epoch 171/500\n",
      "4/4 - 0s - loss: 4.8306 - auc: 0.7147 - val_loss: 3.4038 - val_auc: 0.7867\n",
      "Epoch 172/500\n",
      "4/4 - 0s - loss: 2.2229 - auc: 0.7826 - val_loss: 9.2142 - val_auc: 0.7628\n",
      "Epoch 173/500\n",
      "4/4 - 0s - loss: 6.0509 - auc: 0.7016 - val_loss: 4.6780 - val_auc: 0.6823\n",
      "Epoch 174/500\n",
      "4/4 - 0s - loss: 6.9682 - auc: 0.7156 - val_loss: 6.8445 - val_auc: 0.6449\n",
      "Epoch 175/500\n",
      "4/4 - 0s - loss: 5.7697 - auc: 0.7240 - val_loss: 4.3235 - val_auc: 0.7857\n",
      "Epoch 176/500\n",
      "4/4 - 0s - loss: 7.6714 - auc: 0.6704 - val_loss: 7.7632 - val_auc: 0.7650\n",
      "Epoch 177/500\n",
      "4/4 - 0s - loss: 5.7700 - auc: 0.7422 - val_loss: 9.6143 - val_auc: 0.5947\n",
      "Epoch 178/500\n",
      "4/4 - 0s - loss: 8.5450 - auc: 0.6860 - val_loss: 8.7741 - val_auc: 0.7589\n",
      "Epoch 179/500\n",
      "4/4 - 0s - loss: 9.0595 - auc: 0.6361 - val_loss: 2.9275 - val_auc: 0.7724\n",
      "Epoch 180/500\n",
      "4/4 - 0s - loss: 5.7006 - auc: 0.7601 - val_loss: 9.7634 - val_auc: 0.5955\n",
      "Epoch 181/500\n",
      "4/4 - 0s - loss: 7.9330 - auc: 0.6731 - val_loss: 19.5525 - val_auc: 0.7067\n",
      "Epoch 182/500\n",
      "4/4 - 0s - loss: 8.6328 - auc: 0.6840 - val_loss: 9.1233 - val_auc: 0.6166\n",
      "Epoch 183/500\n",
      "4/4 - 0s - loss: 4.6292 - auc: 0.7480 - val_loss: 7.2335 - val_auc: 0.6385\n",
      "Epoch 184/500\n",
      "4/4 - 0s - loss: 6.2524 - auc: 0.6822 - val_loss: 15.2791 - val_auc: 0.7156\n",
      "Epoch 185/500\n",
      "4/4 - 0s - loss: 10.3828 - auc: 0.6663 - val_loss: 13.7000 - val_auc: 0.5731\n"
     ]
    },
    {
     "name": "stdout",
     "output_type": "stream",
     "text": [
      "Epoch 186/500\n",
      "4/4 - 0s - loss: 13.0424 - auc: 0.6922 - val_loss: 20.7114 - val_auc: 0.6991\n",
      "Epoch 187/500\n",
      "4/4 - 0s - loss: 12.1872 - auc: 0.6339 - val_loss: 6.3559 - val_auc: 0.6392\n",
      "Epoch 188/500\n",
      "4/4 - 0s - loss: 12.0121 - auc: 0.7062 - val_loss: 3.9338 - val_auc: 0.6943\n",
      "Epoch 189/500\n",
      "4/4 - 0s - loss: 4.4740 - auc: 0.7150 - val_loss: 8.1496 - val_auc: 0.7546\n",
      "Epoch 190/500\n",
      "4/4 - 0s - loss: 4.6685 - auc: 0.7323 - val_loss: 3.4756 - val_auc: 0.7758\n",
      "Epoch 191/500\n",
      "4/4 - 0s - loss: 2.8077 - auc: 0.7603 - val_loss: 6.9045 - val_auc: 0.7629\n",
      "Epoch 192/500\n",
      "4/4 - 0s - loss: 4.0226 - auc: 0.7294 - val_loss: 3.0368 - val_auc: 0.7604\n",
      "Epoch 193/500\n",
      "4/4 - 0s - loss: 3.9892 - auc: 0.7789 - val_loss: 9.9221 - val_auc: 0.5938\n",
      "Epoch 194/500\n",
      "4/4 - 0s - loss: 8.2899 - auc: 0.6429 - val_loss: 9.7775 - val_auc: 0.7528\n",
      "Epoch 195/500\n",
      "4/4 - 0s - loss: 6.2098 - auc: 0.6980 - val_loss: 7.3523 - val_auc: 0.6441\n",
      "Epoch 196/500\n",
      "4/4 - 0s - loss: 5.5542 - auc: 0.7451 - val_loss: 9.2991 - val_auc: 0.6122\n",
      "Epoch 197/500\n",
      "4/4 - 0s - loss: 7.7495 - auc: 0.6650 - val_loss: 9.2130 - val_auc: 0.7577\n",
      "Epoch 198/500\n",
      "4/4 - 0s - loss: 4.3186 - auc: 0.7265 - val_loss: 5.6278 - val_auc: 0.7845\n",
      "Epoch 199/500\n",
      "4/4 - 0s - loss: 3.3504 - auc: 0.7761 - val_loss: 3.0035 - val_auc: 0.7841\n",
      "Epoch 200/500\n",
      "4/4 - 0s - loss: 2.5087 - auc: 0.7804 - val_loss: 3.4010 - val_auc: 0.7173\n",
      "Epoch 201/500\n",
      "4/4 - 0s - loss: 3.0522 - auc: 0.7649 - val_loss: 6.9555 - val_auc: 0.6396\n",
      "Epoch 202/500\n",
      "4/4 - 0s - loss: 3.8407 - auc: 0.7536 - val_loss: 4.4612 - val_auc: 0.6869\n",
      "Epoch 203/500\n",
      "4/4 - 0s - loss: 2.1935 - auc: 0.7796 - val_loss: 3.4774 - val_auc: 0.7172\n",
      "Epoch 204/500\n",
      "4/4 - 0s - loss: 1.9747 - auc: 0.7906 - val_loss: 5.6403 - val_auc: 0.6544\n",
      "Epoch 205/500\n",
      "4/4 - 0s - loss: 4.0934 - auc: 0.7221 - val_loss: 6.2603 - val_auc: 0.6499\n",
      "Epoch 206/500\n",
      "4/4 - 0s - loss: 5.6396 - auc: 0.6744 - val_loss: 11.9237 - val_auc: 0.7302\n",
      "Epoch 207/500\n",
      "4/4 - 0s - loss: 6.5948 - auc: 0.6992 - val_loss: 5.7180 - val_auc: 0.6573\n",
      "Epoch 208/500\n",
      "4/4 - 0s - loss: 5.4712 - auc: 0.7405 - val_loss: 9.7607 - val_auc: 0.5954\n",
      "Epoch 209/500\n",
      "4/4 - 0s - loss: 8.3131 - auc: 0.6608 - val_loss: 9.5354 - val_auc: 0.7594\n",
      "Epoch 210/500\n",
      "4/4 - 0s - loss: 6.0451 - auc: 0.7057 - val_loss: 7.2032 - val_auc: 0.6494\n",
      "Epoch 211/500\n",
      "4/4 - 0s - loss: 3.3886 - auc: 0.7724 - val_loss: 4.7058 - val_auc: 0.6945\n",
      "Epoch 212/500\n",
      "4/4 - 0s - loss: 2.2653 - auc: 0.7811 - val_loss: 3.7502 - val_auc: 0.7133\n",
      "Epoch 213/500\n",
      "4/4 - 0s - loss: 1.6756 - auc: 0.7960 - val_loss: 3.2399 - val_auc: 0.7983\n",
      "Epoch 214/500\n",
      "4/4 - 0s - loss: 1.2287 - auc: 0.8199 - val_loss: 3.8928 - val_auc: 0.7936\n",
      "Epoch 215/500\n",
      "4/4 - 0s - loss: 1.4670 - auc: 0.8095 - val_loss: 3.7672 - val_auc: 0.7997\n",
      "Epoch 216/500\n",
      "4/4 - 0s - loss: 1.2166 - auc: 0.8316 - val_loss: 3.4907 - val_auc: 0.7230\n",
      "Epoch 217/500\n",
      "4/4 - 0s - loss: 1.3903 - auc: 0.8033 - val_loss: 3.9703 - val_auc: 0.8117\n",
      "Epoch 218/500\n",
      "4/4 - 0s - loss: 1.5319 - auc: 0.8231 - val_loss: 2.6914 - val_auc: 0.8127\n",
      "Epoch 219/500\n",
      "4/4 - 0s - loss: 2.6340 - auc: 0.7688 - val_loss: 5.3267 - val_auc: 0.7870\n",
      "Epoch 220/500\n",
      "4/4 - 0s - loss: 4.2776 - auc: 0.7051 - val_loss: 11.2057 - val_auc: 0.7356\n",
      "Epoch 221/500\n",
      "4/4 - 0s - loss: 5.1421 - auc: 0.7217 - val_loss: 3.3953 - val_auc: 0.7401\n",
      "Epoch 222/500\n",
      "4/4 - 0s - loss: 3.9018 - auc: 0.7684 - val_loss: 9.5523 - val_auc: 0.6053\n",
      "Epoch 223/500\n",
      "4/4 - 0s - loss: 8.1164 - auc: 0.6399 - val_loss: 10.8644 - val_auc: 0.7455\n",
      "Epoch 224/500\n",
      "4/4 - 0s - loss: 5.1107 - auc: 0.7197 - val_loss: 4.7815 - val_auc: 0.6654\n",
      "Epoch 225/500\n",
      "4/4 - 0s - loss: 4.1378 - auc: 0.7618 - val_loss: 7.4014 - val_auc: 0.6377\n",
      "Epoch 226/500\n",
      "4/4 - 0s - loss: 4.3617 - auc: 0.7109 - val_loss: 13.8977 - val_auc: 0.7157\n",
      "Epoch 227/500\n",
      "4/4 - 0s - loss: 6.9677 - auc: 0.6939 - val_loss: 5.7129 - val_auc: 0.6611\n",
      "Epoch 228/500\n",
      "4/4 - 0s - loss: 5.5378 - auc: 0.7319 - val_loss: 6.0463 - val_auc: 0.6577\n",
      "Epoch 229/500\n",
      "4/4 - 0s - loss: 5.0212 - auc: 0.7034 - val_loss: 6.9142 - val_auc: 0.7756\n",
      "Epoch 230/500\n",
      "4/4 - 0s - loss: 2.7040 - auc: 0.7746 - val_loss: 3.1488 - val_auc: 0.8018\n",
      "Epoch 231/500\n",
      "4/4 - 0s - loss: 1.4857 - auc: 0.7946 - val_loss: 3.0120 - val_auc: 0.7462\n",
      "Epoch 232/500\n",
      "4/4 - 0s - loss: 1.7033 - auc: 0.7903 - val_loss: 3.1373 - val_auc: 0.8058\n",
      "Epoch 233/500\n",
      "4/4 - 0s - loss: 1.5890 - auc: 0.8081 - val_loss: 4.0165 - val_auc: 0.8097\n",
      "Epoch 234/500\n",
      "4/4 - 0s - loss: 1.5058 - auc: 0.8057 - val_loss: 2.5103 - val_auc: 0.8036\n",
      "Epoch 235/500\n",
      "4/4 - 0s - loss: 1.4384 - auc: 0.8026 - val_loss: 8.0723 - val_auc: 0.7453\n",
      "Epoch 236/500\n",
      "4/4 - 0s - loss: 4.8653 - auc: 0.7067 - val_loss: 4.9704 - val_auc: 0.6579\n",
      "Epoch 237/500\n",
      "4/4 - 0s - loss: 4.8218 - auc: 0.7457 - val_loss: 8.2563 - val_auc: 0.6240\n",
      "Epoch 238/500\n",
      "4/4 - 0s - loss: 5.8851 - auc: 0.6823 - val_loss: 9.8289 - val_auc: 0.7562\n",
      "Epoch 239/500\n",
      "4/4 - 0s - loss: 5.9150 - auc: 0.6815 - val_loss: 4.1557 - val_auc: 0.6964\n",
      "Epoch 240/500\n",
      "4/4 - 0s - loss: 5.9088 - auc: 0.7555 - val_loss: 8.5417 - val_auc: 0.6254\n",
      "Epoch 241/500\n",
      "4/4 - 0s - loss: 8.1844 - auc: 0.6509 - val_loss: 11.1078 - val_auc: 0.7391\n",
      "Epoch 242/500\n",
      "4/4 - 0s - loss: 6.7192 - auc: 0.7218 - val_loss: 9.6949 - val_auc: 0.6060\n",
      "Epoch 243/500\n",
      "4/4 - 0s - loss: 5.3957 - auc: 0.7129 - val_loss: 6.5891 - val_auc: 0.7706\n",
      "Epoch 244/500\n",
      "4/4 - 0s - loss: 2.1936 - auc: 0.7788 - val_loss: 4.3461 - val_auc: 0.7912\n",
      "Epoch 245/500\n",
      "4/4 - 0s - loss: 1.5547 - auc: 0.8188 - val_loss: 2.9246 - val_auc: 0.7624\n",
      "Epoch 246/500\n",
      "4/4 - 0s - loss: 1.0828 - auc: 0.8189 - val_loss: 3.0157 - val_auc: 0.7961\n",
      "Epoch 247/500\n",
      "4/4 - 0s - loss: 1.7952 - auc: 0.7987 - val_loss: 4.1272 - val_auc: 0.7916\n",
      "Epoch 248/500\n",
      "4/4 - 0s - loss: 2.2510 - auc: 0.7765 - val_loss: 4.1634 - val_auc: 0.7986\n",
      "Epoch 249/500\n",
      "4/4 - 0s - loss: 3.3036 - auc: 0.7298 - val_loss: 11.0954 - val_auc: 0.7313\n",
      "Epoch 250/500\n",
      "4/4 - 0s - loss: 5.0810 - auc: 0.7278 - val_loss: 3.8287 - val_auc: 0.6794\n",
      "Epoch 251/500\n",
      "4/4 - 0s - loss: 2.5361 - auc: 0.7729 - val_loss: 4.3883 - val_auc: 0.6780\n",
      "Epoch 252/500\n",
      "4/4 - 0s - loss: 1.6597 - auc: 0.7886 - val_loss: 2.6144 - val_auc: 0.8055\n",
      "Epoch 253/500\n",
      "4/4 - 0s - loss: 0.9944 - auc: 0.8441 - val_loss: 2.7669 - val_auc: 0.7524\n",
      "Epoch 254/500\n",
      "4/4 - 0s - loss: 1.1747 - auc: 0.8110 - val_loss: 2.3372 - val_auc: 0.8132\n",
      "Epoch 255/500\n",
      "4/4 - 0s - loss: 1.5882 - auc: 0.8161 - val_loss: 2.9177 - val_auc: 0.8157\n",
      "Epoch 256/500\n",
      "4/4 - 0s - loss: 1.0309 - auc: 0.8477 - val_loss: 2.4235 - val_auc: 0.8080\n",
      "Epoch 257/500\n",
      "4/4 - 0s - loss: 1.0816 - auc: 0.8289 - val_loss: 2.6876 - val_auc: 0.8211\n",
      "Epoch 258/500\n",
      "4/4 - 0s - loss: 1.0662 - auc: 0.8417 - val_loss: 2.4431 - val_auc: 0.8278\n",
      "Epoch 259/500\n",
      "4/4 - 0s - loss: 1.3168 - auc: 0.8244 - val_loss: 2.3572 - val_auc: 0.8082\n",
      "Epoch 260/500\n",
      "4/4 - 0s - loss: 1.3098 - auc: 0.8165 - val_loss: 5.2918 - val_auc: 0.7843\n",
      "Epoch 261/500\n",
      "4/4 - 0s - loss: 2.6750 - auc: 0.7497 - val_loss: 3.7903 - val_auc: 0.8035\n",
      "Epoch 262/500\n",
      "4/4 - 0s - loss: 1.4223 - auc: 0.8093 - val_loss: 5.0830 - val_auc: 0.7973\n",
      "Epoch 263/500\n",
      "4/4 - 0s - loss: 3.1538 - auc: 0.7305 - val_loss: 2.3293 - val_auc: 0.8165\n",
      "Epoch 264/500\n",
      "4/4 - 0s - loss: 3.2259 - auc: 0.7638 - val_loss: 6.8147 - val_auc: 0.6194\n",
      "Epoch 265/500\n",
      "4/4 - 0s - loss: 4.4605 - auc: 0.7290 - val_loss: 2.4135 - val_auc: 0.8056\n",
      "Epoch 266/500\n",
      "4/4 - 0s - loss: 2.5783 - auc: 0.7760 - val_loss: 6.5783 - val_auc: 0.7741\n",
      "Epoch 267/500\n",
      "4/4 - 0s - loss: 1.9001 - auc: 0.7925 - val_loss: 3.1338 - val_auc: 0.8043\n",
      "Epoch 268/500\n",
      "4/4 - 0s - loss: 0.9985 - auc: 0.8444 - val_loss: 2.2988 - val_auc: 0.8103\n",
      "Epoch 269/500\n",
      "4/4 - 0s - loss: 1.3788 - auc: 0.8211 - val_loss: 2.6026 - val_auc: 0.7806\n",
      "Epoch 270/500\n",
      "4/4 - 0s - loss: 2.2575 - auc: 0.7929 - val_loss: 3.5203 - val_auc: 0.7008\n",
      "Epoch 271/500\n",
      "4/4 - 0s - loss: 1.8103 - auc: 0.7898 - val_loss: 2.4620 - val_auc: 0.7856\n",
      "Epoch 272/500\n",
      "4/4 - 0s - loss: 2.3914 - auc: 0.7801 - val_loss: 4.9210 - val_auc: 0.6554\n",
      "Epoch 273/500\n",
      "4/4 - 0s - loss: 2.0690 - auc: 0.8074 - val_loss: 6.7880 - val_auc: 0.6339\n",
      "Epoch 274/500\n",
      "4/4 - 0s - loss: 5.4488 - auc: 0.6764 - val_loss: 11.9850 - val_auc: 0.7337\n",
      "Epoch 275/500\n",
      "4/4 - 0s - loss: 7.4988 - auc: 0.6822 - val_loss: 11.4825 - val_auc: 0.5845\n",
      "Epoch 276/500\n",
      "4/4 - 0s - loss: 7.6903 - auc: 0.6838 - val_loss: 6.0907 - val_auc: 0.7967\n",
      "Epoch 277/500\n",
      "4/4 - 0s - loss: 5.4272 - auc: 0.7079 - val_loss: 2.6119 - val_auc: 0.8209\n"
     ]
    },
    {
     "name": "stdout",
     "output_type": "stream",
     "text": [
      "Epoch 278/500\n",
      "4/4 - 0s - loss: 4.0342 - auc: 0.7995 - val_loss: 7.4339 - val_auc: 0.6359\n",
      "Epoch 279/500\n",
      "4/4 - 0s - loss: 4.6188 - auc: 0.7079 - val_loss: 6.6079 - val_auc: 0.7797\n",
      "Epoch 280/500\n",
      "4/4 - 0s - loss: 3.9509 - auc: 0.7433 - val_loss: 3.0051 - val_auc: 0.7538\n",
      "Epoch 281/500\n",
      "4/4 - 0s - loss: 5.0649 - auc: 0.7503 - val_loss: 7.2544 - val_auc: 0.6319\n",
      "Epoch 282/500\n",
      "4/4 - 0s - loss: 6.1016 - auc: 0.6764 - val_loss: 10.2653 - val_auc: 0.7514\n",
      "Epoch 283/500\n",
      "4/4 - 0s - loss: 4.6219 - auc: 0.7473 - val_loss: 3.1170 - val_auc: 0.7442\n",
      "Epoch 284/500\n",
      "4/4 - 0s - loss: 2.5099 - auc: 0.7958 - val_loss: 6.1851 - val_auc: 0.6346\n",
      "Epoch 285/500\n",
      "4/4 - 0s - loss: 3.9758 - auc: 0.7182 - val_loss: 3.1606 - val_auc: 0.7927\n",
      "Epoch 286/500\n",
      "4/4 - 0s - loss: 2.8003 - auc: 0.7508 - val_loss: 5.4138 - val_auc: 0.7918\n",
      "Epoch 287/500\n",
      "4/4 - 0s - loss: 3.0605 - auc: 0.7449 - val_loss: 3.4802 - val_auc: 0.8021\n",
      "Epoch 288/500\n",
      "4/4 - 0s - loss: 2.2756 - auc: 0.7881 - val_loss: 3.8224 - val_auc: 0.6981\n",
      "Epoch 289/500\n",
      "4/4 - 0s - loss: 2.2014 - auc: 0.7961 - val_loss: 4.0644 - val_auc: 0.6904\n",
      "Epoch 290/500\n",
      "4/4 - 0s - loss: 1.6774 - auc: 0.8133 - val_loss: 4.6508 - val_auc: 0.6748\n",
      "Epoch 291/500\n",
      "4/4 - 0s - loss: 2.3945 - auc: 0.7555 - val_loss: 3.4475 - val_auc: 0.8164\n",
      "Epoch 292/500\n",
      "4/4 - 0s - loss: 2.2341 - auc: 0.7655 - val_loss: 6.5355 - val_auc: 0.7849\n",
      "Epoch 293/500\n",
      "4/4 - 0s - loss: 3.1953 - auc: 0.7362 - val_loss: 2.9736 - val_auc: 0.7688\n",
      "Epoch 294/500\n",
      "4/4 - 0s - loss: 3.0930 - auc: 0.7514 - val_loss: 3.6873 - val_auc: 0.7059\n",
      "Epoch 295/500\n",
      "4/4 - 0s - loss: 1.6337 - auc: 0.7983 - val_loss: 2.3880 - val_auc: 0.8106\n",
      "Epoch 296/500\n",
      "4/4 - 0s - loss: 1.1490 - auc: 0.8430 - val_loss: 2.5709 - val_auc: 0.8184\n",
      "Epoch 297/500\n",
      "4/4 - 0s - loss: 1.4839 - auc: 0.8162 - val_loss: 4.0780 - val_auc: 0.8021\n",
      "Epoch 298/500\n",
      "4/4 - 0s - loss: 1.7351 - auc: 0.7908 - val_loss: 3.7201 - val_auc: 0.8049\n",
      "Epoch 299/500\n",
      "4/4 - 0s - loss: 2.2529 - auc: 0.7670 - val_loss: 2.8031 - val_auc: 0.8194\n",
      "Epoch 300/500\n",
      "4/4 - 0s - loss: 1.9033 - auc: 0.7693 - val_loss: 4.4398 - val_auc: 0.8146\n",
      "Epoch 301/500\n",
      "4/4 - 0s - loss: 1.6772 - auc: 0.8012 - val_loss: 3.4609 - val_auc: 0.8173\n",
      "Epoch 302/500\n",
      "4/4 - 0s - loss: 2.3570 - auc: 0.7505 - val_loss: 7.0587 - val_auc: 0.7666\n",
      "Epoch 303/500\n",
      "4/4 - 0s - loss: 3.1732 - auc: 0.7284 - val_loss: 2.2585 - val_auc: 0.8248\n",
      "Epoch 304/500\n",
      "4/4 - 0s - loss: 1.9235 - auc: 0.8121 - val_loss: 4.9401 - val_auc: 0.6703\n",
      "Epoch 305/500\n",
      "4/4 - 0s - loss: 3.2724 - auc: 0.7423 - val_loss: 2.9817 - val_auc: 0.7438\n",
      "Epoch 306/500\n",
      "4/4 - 0s - loss: 2.5987 - auc: 0.7428 - val_loss: 7.8484 - val_auc: 0.7708\n",
      "Epoch 307/500\n",
      "4/4 - 0s - loss: 4.2939 - auc: 0.7184 - val_loss: 4.1361 - val_auc: 0.6943\n",
      "Epoch 308/500\n",
      "4/4 - 0s - loss: 3.4877 - auc: 0.7404 - val_loss: 3.7960 - val_auc: 0.6983\n",
      "Epoch 309/500\n",
      "4/4 - 0s - loss: 1.7516 - auc: 0.7928 - val_loss: 4.3984 - val_auc: 0.6787\n",
      "Epoch 310/500\n",
      "4/4 - 0s - loss: 3.1004 - auc: 0.7559 - val_loss: 3.1460 - val_auc: 0.7534\n",
      "Epoch 311/500\n",
      "4/4 - 0s - loss: 2.6384 - auc: 0.7482 - val_loss: 4.5120 - val_auc: 0.8028\n",
      "Epoch 312/500\n",
      "4/4 - 0s - loss: 2.2852 - auc: 0.7483 - val_loss: 7.5950 - val_auc: 0.7603\n",
      "Epoch 313/500\n",
      "4/4 - 0s - loss: 3.4888 - auc: 0.7627 - val_loss: 8.8167 - val_auc: 0.6306\n",
      "Epoch 314/500\n",
      "4/4 - 0s - loss: 4.7951 - auc: 0.7231 - val_loss: 3.2643 - val_auc: 0.8120\n",
      "Epoch 315/500\n",
      "4/4 - 0s - loss: 3.5178 - auc: 0.7280 - val_loss: 5.2594 - val_auc: 0.7969\n",
      "Epoch 316/500\n",
      "4/4 - 0s - loss: 3.7695 - auc: 0.7596 - val_loss: 6.4627 - val_auc: 0.6354\n",
      "Epoch 317/500\n",
      "4/4 - 0s - loss: 4.2708 - auc: 0.7507 - val_loss: 2.6570 - val_auc: 0.8266\n",
      "Epoch 318/500\n",
      "4/4 - 0s - loss: 4.0029 - auc: 0.7109 - val_loss: 5.0369 - val_auc: 0.8064\n",
      "Epoch 319/500\n",
      "4/4 - 0s - loss: 3.2356 - auc: 0.7766 - val_loss: 6.2533 - val_auc: 0.6378\n",
      "Epoch 320/500\n",
      "4/4 - 0s - loss: 4.5612 - auc: 0.7092 - val_loss: 5.8162 - val_auc: 0.7922\n",
      "Epoch 321/500\n",
      "4/4 - 0s - loss: 3.4390 - auc: 0.7274 - val_loss: 4.1804 - val_auc: 0.8091\n",
      "Epoch 322/500\n",
      "4/4 - 0s - loss: 2.7735 - auc: 0.7950 - val_loss: 6.0962 - val_auc: 0.6499\n",
      "Epoch 323/500\n",
      "4/4 - 0s - loss: 3.6980 - auc: 0.7353 - val_loss: 3.0372 - val_auc: 0.8209\n",
      "Epoch 324/500\n",
      "4/4 - 0s - loss: 3.7379 - auc: 0.7168 - val_loss: 4.3394 - val_auc: 0.8140\n",
      "Epoch 325/500\n",
      "4/4 - 0s - loss: 2.4120 - auc: 0.8111 - val_loss: 6.1083 - val_auc: 0.6484\n",
      "Epoch 326/500\n",
      "4/4 - 0s - loss: 2.8974 - auc: 0.7551 - val_loss: 2.5059 - val_auc: 0.8258\n",
      "Epoch 327/500\n",
      "4/4 - 0s - loss: 2.5009 - auc: 0.7553 - val_loss: 7.2237 - val_auc: 0.7697\n",
      "Epoch 328/500\n",
      "4/4 - 0s - loss: 2.6342 - auc: 0.7746 - val_loss: 2.5547 - val_auc: 0.8155\n",
      "Epoch 329/500\n",
      "4/4 - 0s - loss: 1.2762 - auc: 0.8231 - val_loss: 2.6539 - val_auc: 0.8103\n",
      "Epoch 330/500\n",
      "4/4 - 0s - loss: 0.9420 - auc: 0.8598 - val_loss: 2.6725 - val_auc: 0.8181\n",
      "Epoch 331/500\n",
      "4/4 - 0s - loss: 1.6079 - auc: 0.8111 - val_loss: 2.9229 - val_auc: 0.8201\n",
      "Epoch 332/500\n",
      "4/4 - 0s - loss: 1.9477 - auc: 0.7808 - val_loss: 4.2064 - val_auc: 0.8163\n",
      "Epoch 333/500\n",
      "4/4 - 0s - loss: 1.8938 - auc: 0.7943 - val_loss: 2.5606 - val_auc: 0.8371\n",
      "Epoch 334/500\n",
      "4/4 - 0s - loss: 1.1749 - auc: 0.8439 - val_loss: 2.7007 - val_auc: 0.8273\n",
      "Epoch 335/500\n",
      "4/4 - 0s - loss: 0.6822 - auc: 0.8675 - val_loss: 2.5639 - val_auc: 0.8325\n",
      "Epoch 336/500\n",
      "4/4 - 0s - loss: 0.7471 - auc: 0.8673 - val_loss: 2.6596 - val_auc: 0.7762\n",
      "Epoch 337/500\n",
      "4/4 - 0s - loss: 1.3634 - auc: 0.8318 - val_loss: 4.3461 - val_auc: 0.6853\n",
      "Epoch 338/500\n",
      "4/4 - 0s - loss: 1.8980 - auc: 0.7802 - val_loss: 2.6822 - val_auc: 0.8307\n",
      "Epoch 339/500\n",
      "4/4 - 0s - loss: 1.6789 - auc: 0.7934 - val_loss: 3.1974 - val_auc: 0.8338\n",
      "Epoch 340/500\n",
      "4/4 - 0s - loss: 1.7794 - auc: 0.7955 - val_loss: 3.3671 - val_auc: 0.8249\n",
      "Epoch 341/500\n",
      "4/4 - 0s - loss: 1.7968 - auc: 0.7749 - val_loss: 4.3648 - val_auc: 0.8188\n",
      "Epoch 342/500\n",
      "4/4 - 0s - loss: 1.1728 - auc: 0.8488 - val_loss: 3.2757 - val_auc: 0.8178\n",
      "Epoch 343/500\n",
      "4/4 - 0s - loss: 0.7184 - auc: 0.8805 - val_loss: 2.3816 - val_auc: 0.8320\n",
      "Epoch 344/500\n",
      "4/4 - 0s - loss: 0.8005 - auc: 0.8538 - val_loss: 2.6677 - val_auc: 0.7704\n",
      "Epoch 345/500\n",
      "4/4 - 0s - loss: 1.2220 - auc: 0.8090 - val_loss: 2.1874 - val_auc: 0.8435\n",
      "Epoch 346/500\n",
      "4/4 - 0s - loss: 1.5320 - auc: 0.8209 - val_loss: 2.5146 - val_auc: 0.7970\n",
      "Epoch 347/500\n",
      "4/4 - 0s - loss: 2.3469 - auc: 0.7644 - val_loss: 5.2765 - val_auc: 0.6488\n",
      "Epoch 348/500\n",
      "4/4 - 0s - loss: 4.0387 - auc: 0.7302 - val_loss: 2.5283 - val_auc: 0.8343\n",
      "Epoch 349/500\n",
      "4/4 - 0s - loss: 5.2037 - auc: 0.6862 - val_loss: 3.8020 - val_auc: 0.8186\n",
      "Epoch 350/500\n",
      "4/4 - 0s - loss: 2.7635 - auc: 0.8011 - val_loss: 6.0737 - val_auc: 0.6607\n",
      "Epoch 351/500\n",
      "4/4 - 0s - loss: 2.8987 - auc: 0.7603 - val_loss: 3.5940 - val_auc: 0.8127\n",
      "Epoch 352/500\n",
      "4/4 - 0s - loss: 2.7838 - auc: 0.7402 - val_loss: 6.0166 - val_auc: 0.7908\n",
      "Epoch 353/500\n",
      "4/4 - 0s - loss: 2.9543 - auc: 0.7924 - val_loss: 7.0000 - val_auc: 0.6436\n",
      "Epoch 354/500\n",
      "4/4 - 0s - loss: 4.0072 - auc: 0.7241 - val_loss: 2.2764 - val_auc: 0.8414\n",
      "Epoch 355/500\n",
      "4/4 - 0s - loss: 2.0409 - auc: 0.7670 - val_loss: 4.5483 - val_auc: 0.8105\n",
      "Epoch 356/500\n",
      "4/4 - 0s - loss: 1.2505 - auc: 0.8380 - val_loss: 2.2703 - val_auc: 0.8157\n",
      "Epoch 357/500\n",
      "4/4 - 0s - loss: 1.1767 - auc: 0.8270 - val_loss: 3.0563 - val_auc: 0.7323\n",
      "Epoch 358/500\n",
      "4/4 - 0s - loss: 1.5132 - auc: 0.8081 - val_loss: 2.3634 - val_auc: 0.8332\n",
      "Epoch 359/500\n",
      "4/4 - 0s - loss: 0.8102 - auc: 0.8730 - val_loss: 2.5959 - val_auc: 0.7561\n",
      "Epoch 360/500\n",
      "4/4 - 0s - loss: 0.9933 - auc: 0.8447 - val_loss: 2.2806 - val_auc: 0.8373\n",
      "Epoch 361/500\n",
      "4/4 - 0s - loss: 0.7112 - auc: 0.8791 - val_loss: 2.1826 - val_auc: 0.8342\n",
      "Epoch 362/500\n",
      "4/4 - 0s - loss: 1.3783 - auc: 0.8161 - val_loss: 2.3702 - val_auc: 0.8122\n",
      "Epoch 363/500\n",
      "4/4 - 0s - loss: 1.9485 - auc: 0.7795 - val_loss: 4.0193 - val_auc: 0.6886\n",
      "Epoch 364/500\n",
      "4/4 - 0s - loss: 1.2834 - auc: 0.8061 - val_loss: 2.5850 - val_auc: 0.8367\n",
      "Epoch 365/500\n",
      "4/4 - 0s - loss: 0.8125 - auc: 0.8570 - val_loss: 3.6718 - val_auc: 0.8181\n",
      "Epoch 366/500\n",
      "4/4 - 0s - loss: 1.2358 - auc: 0.8286 - val_loss: 2.4822 - val_auc: 0.8448\n",
      "Epoch 367/500\n",
      "4/4 - 0s - loss: 0.6756 - auc: 0.8763 - val_loss: 2.1767 - val_auc: 0.8546\n",
      "Epoch 368/500\n",
      "4/4 - 0s - loss: 0.9045 - auc: 0.8577 - val_loss: 2.8807 - val_auc: 0.8342\n",
      "Epoch 369/500\n",
      "4/4 - 0s - loss: 0.7640 - auc: 0.8646 - val_loss: 4.6830 - val_auc: 0.8069\n",
      "Epoch 370/500\n",
      "4/4 - 0s - loss: 1.9356 - auc: 0.7661 - val_loss: 3.9314 - val_auc: 0.8117\n"
     ]
    },
    {
     "name": "stdout",
     "output_type": "stream",
     "text": [
      "Epoch 371/500\n",
      "4/4 - 0s - loss: 1.4792 - auc: 0.8040 - val_loss: 4.6097 - val_auc: 0.8068\n",
      "Epoch 372/500\n",
      "4/4 - 0s - loss: 1.5717 - auc: 0.7939 - val_loss: 3.2545 - val_auc: 0.8254\n",
      "Epoch 373/500\n",
      "4/4 - 0s - loss: 1.1816 - auc: 0.8411 - val_loss: 2.6358 - val_auc: 0.8381\n",
      "Epoch 374/500\n",
      "4/4 - 0s - loss: 0.7871 - auc: 0.8592 - val_loss: 2.4088 - val_auc: 0.8445\n",
      "Epoch 375/500\n",
      "4/4 - 0s - loss: 1.4219 - auc: 0.8102 - val_loss: 3.5533 - val_auc: 0.8220\n",
      "Epoch 376/500\n",
      "4/4 - 0s - loss: 2.8512 - auc: 0.7298 - val_loss: 6.8362 - val_auc: 0.7744\n",
      "Epoch 377/500\n",
      "4/4 - 0s - loss: 3.0373 - auc: 0.7500 - val_loss: 2.7335 - val_auc: 0.7849\n",
      "Epoch 378/500\n",
      "4/4 - 0s - loss: 2.9671 - auc: 0.7971 - val_loss: 5.3433 - val_auc: 0.6553\n",
      "Epoch 379/500\n",
      "4/4 - 0s - loss: 2.9509 - auc: 0.7421 - val_loss: 3.0440 - val_auc: 0.8266\n",
      "Epoch 380/500\n",
      "4/4 - 0s - loss: 2.0144 - auc: 0.7683 - val_loss: 4.5208 - val_auc: 0.8038\n",
      "Epoch 381/500\n",
      "4/4 - 0s - loss: 1.4855 - auc: 0.8060 - val_loss: 3.6603 - val_auc: 0.8111\n",
      "Epoch 382/500\n",
      "4/4 - 0s - loss: 1.3599 - auc: 0.8191 - val_loss: 2.5761 - val_auc: 0.8310\n",
      "Epoch 383/500\n",
      "4/4 - 0s - loss: 0.7649 - auc: 0.8784 - val_loss: 2.7296 - val_auc: 0.8369\n",
      "Epoch 384/500\n",
      "4/4 - 0s - loss: 0.7544 - auc: 0.8737 - val_loss: 2.1237 - val_auc: 0.8393\n",
      "Epoch 385/500\n",
      "4/4 - 0s - loss: 1.2791 - auc: 0.8262 - val_loss: 3.1752 - val_auc: 0.8223\n",
      "Epoch 386/500\n",
      "4/4 - 0s - loss: 1.9428 - auc: 0.7569 - val_loss: 6.7030 - val_auc: 0.7837\n",
      "Epoch 387/500\n",
      "4/4 - 0s - loss: 3.7011 - auc: 0.7530 - val_loss: 7.7610 - val_auc: 0.6194\n",
      "Epoch 388/500\n",
      "4/4 - 0s - loss: 3.8096 - auc: 0.7361 - val_loss: 4.8031 - val_auc: 0.8108\n",
      "Epoch 389/500\n",
      "4/4 - 0s - loss: 1.3009 - auc: 0.8271 - val_loss: 2.2721 - val_auc: 0.8395\n",
      "Epoch 390/500\n",
      "4/4 - 0s - loss: 1.0391 - auc: 0.8288 - val_loss: 4.2861 - val_auc: 0.8151\n",
      "Epoch 391/500\n",
      "4/4 - 0s - loss: 2.0122 - auc: 0.7955 - val_loss: 2.8732 - val_auc: 0.7514\n",
      "Epoch 392/500\n",
      "4/4 - 0s - loss: 2.0831 - auc: 0.8020 - val_loss: 3.4987 - val_auc: 0.7131\n",
      "Epoch 393/500\n",
      "4/4 - 0s - loss: 2.3735 - auc: 0.7640 - val_loss: 2.0320 - val_auc: 0.8395\n",
      "Epoch 394/500\n",
      "4/4 - 0s - loss: 1.8358 - auc: 0.7589 - val_loss: 4.1197 - val_auc: 0.8144\n",
      "Epoch 395/500\n",
      "4/4 - 0s - loss: 2.1266 - auc: 0.7694 - val_loss: 2.8198 - val_auc: 0.8293\n",
      "Epoch 396/500\n",
      "4/4 - 0s - loss: 1.1756 - auc: 0.8431 - val_loss: 3.0450 - val_auc: 0.8259\n",
      "Epoch 397/500\n",
      "4/4 - 0s - loss: 1.2600 - auc: 0.8125 - val_loss: 4.5581 - val_auc: 0.8060\n",
      "Epoch 398/500\n",
      "4/4 - 0s - loss: 1.8687 - auc: 0.7837 - val_loss: 2.1695 - val_auc: 0.8375\n",
      "Epoch 399/500\n",
      "4/4 - 0s - loss: 1.5217 - auc: 0.8187 - val_loss: 2.4940 - val_auc: 0.7707\n",
      "Epoch 400/500\n",
      "4/4 - 0s - loss: 1.3297 - auc: 0.8151 - val_loss: 2.0813 - val_auc: 0.8315\n",
      "Epoch 401/500\n",
      "4/4 - 0s - loss: 0.8708 - auc: 0.8496 - val_loss: 2.2641 - val_auc: 0.8214\n",
      "Epoch 402/500\n",
      "4/4 - 0s - loss: 1.3136 - auc: 0.8212 - val_loss: 2.6991 - val_auc: 0.7597\n",
      "Epoch 403/500\n",
      "4/4 - 0s - loss: 1.4013 - auc: 0.8159 - val_loss: 2.5007 - val_auc: 0.7688\n",
      "Epoch 404/500\n",
      "4/4 - 0s - loss: 1.1713 - auc: 0.8339 - val_loss: 3.1488 - val_auc: 0.7095\n",
      "Epoch 405/500\n",
      "4/4 - 0s - loss: 1.1404 - auc: 0.8165 - val_loss: 2.5111 - val_auc: 0.7650\n",
      "Epoch 406/500\n",
      "4/4 - 0s - loss: 1.0918 - auc: 0.8258 - val_loss: 2.0599 - val_auc: 0.8267\n",
      "Epoch 407/500\n",
      "4/4 - 0s - loss: 1.1036 - auc: 0.8415 - val_loss: 3.1465 - val_auc: 0.7258\n",
      "Epoch 408/500\n",
      "4/4 - 0s - loss: 1.4047 - auc: 0.8072 - val_loss: 3.0939 - val_auc: 0.7306\n",
      "Epoch 409/500\n",
      "4/4 - 0s - loss: 0.9117 - auc: 0.8318 - val_loss: 2.1196 - val_auc: 0.8509\n",
      "Epoch 410/500\n",
      "4/4 - 0s - loss: 0.7159 - auc: 0.8855 - val_loss: 2.0683 - val_auc: 0.8473\n",
      "Epoch 411/500\n",
      "4/4 - 0s - loss: 0.4704 - auc: 0.9000 - val_loss: 2.6983 - val_auc: 0.8421\n",
      "Epoch 412/500\n",
      "4/4 - 0s - loss: 0.7523 - auc: 0.8587 - val_loss: 6.2256 - val_auc: 0.7903\n",
      "Epoch 413/500\n",
      "4/4 - 0s - loss: 2.3587 - auc: 0.7792 - val_loss: 2.0489 - val_auc: 0.8187\n",
      "Epoch 414/500\n",
      "4/4 - 0s - loss: 1.4442 - auc: 0.8281 - val_loss: 2.9250 - val_auc: 0.7100\n",
      "Epoch 415/500\n",
      "4/4 - 0s - loss: 0.9669 - auc: 0.8284 - val_loss: 2.4068 - val_auc: 0.8335\n",
      "Epoch 416/500\n",
      "4/4 - 0s - loss: 0.6153 - auc: 0.8724 - val_loss: 2.0662 - val_auc: 0.8475\n",
      "Epoch 417/500\n",
      "4/4 - 0s - loss: 0.6196 - auc: 0.8840 - val_loss: 1.8602 - val_auc: 0.8567\n",
      "Epoch 418/500\n",
      "4/4 - 0s - loss: 0.9086 - auc: 0.8402 - val_loss: 1.9419 - val_auc: 0.8355\n",
      "Epoch 419/500\n",
      "4/4 - 0s - loss: 0.5746 - auc: 0.8832 - val_loss: 1.9002 - val_auc: 0.8526\n",
      "Epoch 420/500\n",
      "4/4 - 0s - loss: 0.6857 - auc: 0.8832 - val_loss: 2.2955 - val_auc: 0.8463\n",
      "Epoch 421/500\n",
      "4/4 - 0s - loss: 0.8072 - auc: 0.8589 - val_loss: 2.3322 - val_auc: 0.7865\n",
      "Epoch 422/500\n",
      "4/4 - 0s - loss: 0.7417 - auc: 0.8642 - val_loss: 2.9773 - val_auc: 0.6945\n",
      "Epoch 423/500\n",
      "4/4 - 0s - loss: 1.3831 - auc: 0.8087 - val_loss: 3.0864 - val_auc: 0.7082\n",
      "Epoch 424/500\n",
      "4/4 - 0s - loss: 2.1763 - auc: 0.7621 - val_loss: 6.8042 - val_auc: 0.7772\n",
      "Epoch 425/500\n",
      "4/4 - 0s - loss: 2.5468 - auc: 0.7435 - val_loss: 2.3926 - val_auc: 0.8300\n",
      "Epoch 426/500\n",
      "4/4 - 0s - loss: 1.5815 - auc: 0.8183 - val_loss: 3.9172 - val_auc: 0.6796\n",
      "Epoch 427/500\n",
      "4/4 - 0s - loss: 2.2419 - auc: 0.8015 - val_loss: 2.2317 - val_auc: 0.8010\n",
      "Epoch 428/500\n",
      "4/4 - 0s - loss: 1.1313 - auc: 0.8279 - val_loss: 2.0254 - val_auc: 0.8345\n",
      "Epoch 429/500\n",
      "4/4 - 0s - loss: 0.5484 - auc: 0.8962 - val_loss: 3.8004 - val_auc: 0.8215\n",
      "Epoch 430/500\n",
      "4/4 - 0s - loss: 1.4383 - auc: 0.7934 - val_loss: 3.4628 - val_auc: 0.8280\n",
      "Epoch 431/500\n",
      "4/4 - 0s - loss: 1.1533 - auc: 0.8324 - val_loss: 2.1869 - val_auc: 0.8328\n",
      "Epoch 432/500\n",
      "4/4 - 0s - loss: 0.7525 - auc: 0.8714 - val_loss: 2.7770 - val_auc: 0.8316\n",
      "Epoch 433/500\n",
      "4/4 - 0s - loss: 0.6546 - auc: 0.8932 - val_loss: 1.9790 - val_auc: 0.8408\n",
      "Epoch 434/500\n",
      "4/4 - 0s - loss: 0.5133 - auc: 0.8953 - val_loss: 3.0214 - val_auc: 0.8273\n",
      "Epoch 435/500\n",
      "4/4 - 0s - loss: 0.7310 - auc: 0.8774 - val_loss: 2.0668 - val_auc: 0.8447\n",
      "Epoch 436/500\n",
      "4/4 - 0s - loss: 0.8144 - auc: 0.8550 - val_loss: 2.7265 - val_auc: 0.8363\n",
      "Epoch 437/500\n",
      "4/4 - 0s - loss: 1.4510 - auc: 0.7900 - val_loss: 3.1189 - val_auc: 0.8340\n",
      "Epoch 438/500\n",
      "4/4 - 0s - loss: 1.1259 - auc: 0.8459 - val_loss: 2.7011 - val_auc: 0.8456\n",
      "Epoch 439/500\n",
      "4/4 - 0s - loss: 0.7065 - auc: 0.8670 - val_loss: 2.3528 - val_auc: 0.8439\n",
      "Epoch 440/500\n",
      "4/4 - 0s - loss: 0.7747 - auc: 0.8698 - val_loss: 1.9558 - val_auc: 0.8489\n",
      "Epoch 441/500\n",
      "4/4 - 0s - loss: 0.6975 - auc: 0.8839 - val_loss: 2.1195 - val_auc: 0.8469\n",
      "Epoch 442/500\n",
      "4/4 - 0s - loss: 0.5957 - auc: 0.8945 - val_loss: 1.8628 - val_auc: 0.8527\n",
      "Epoch 443/500\n",
      "4/4 - 0s - loss: 0.7330 - auc: 0.8725 - val_loss: 1.8505 - val_auc: 0.8492\n",
      "Epoch 444/500\n",
      "4/4 - 0s - loss: 0.6455 - auc: 0.8815 - val_loss: 2.1793 - val_auc: 0.8533\n",
      "Epoch 445/500\n",
      "4/4 - 0s - loss: 0.7773 - auc: 0.8801 - val_loss: 2.0185 - val_auc: 0.8199\n",
      "Epoch 446/500\n",
      "4/4 - 0s - loss: 0.6734 - auc: 0.8747 - val_loss: 2.2838 - val_auc: 0.7696\n",
      "Epoch 447/500\n",
      "4/4 - 0s - loss: 0.6762 - auc: 0.8594 - val_loss: 2.1449 - val_auc: 0.8559\n",
      "Epoch 448/500\n",
      "4/4 - 0s - loss: 0.6815 - auc: 0.8778 - val_loss: 2.0916 - val_auc: 0.8578\n",
      "Epoch 449/500\n",
      "4/4 - 0s - loss: 1.3859 - auc: 0.8067 - val_loss: 4.1649 - val_auc: 0.8079\n",
      "Epoch 450/500\n",
      "4/4 - 0s - loss: 1.8039 - auc: 0.7807 - val_loss: 3.3969 - val_auc: 0.8325\n",
      "Epoch 451/500\n",
      "4/4 - 0s - loss: 1.1908 - auc: 0.8241 - val_loss: 3.9963 - val_auc: 0.8186\n",
      "Epoch 452/500\n",
      "4/4 - 0s - loss: 1.4172 - auc: 0.8102 - val_loss: 3.2235 - val_auc: 0.8248\n",
      "Epoch 453/500\n",
      "4/4 - 0s - loss: 0.9128 - auc: 0.8520 - val_loss: 1.9701 - val_auc: 0.8523\n",
      "Epoch 454/500\n",
      "4/4 - 0s - loss: 0.6337 - auc: 0.8753 - val_loss: 1.9348 - val_auc: 0.8573\n",
      "Epoch 455/500\n",
      "4/4 - 0s - loss: 0.5234 - auc: 0.8931 - val_loss: 2.2177 - val_auc: 0.7889\n",
      "Epoch 456/500\n",
      "4/4 - 0s - loss: 0.6307 - auc: 0.8749 - val_loss: 2.4622 - val_auc: 0.7492\n",
      "Epoch 457/500\n",
      "4/4 - 0s - loss: 0.9370 - auc: 0.8430 - val_loss: 2.2096 - val_auc: 0.7925\n",
      "Epoch 458/500\n",
      "4/4 - 0s - loss: 1.2210 - auc: 0.8199 - val_loss: 2.7377 - val_auc: 0.7143\n",
      "Epoch 459/500\n",
      "4/4 - 0s - loss: 1.1968 - auc: 0.8232 - val_loss: 2.3127 - val_auc: 0.7839\n",
      "Epoch 460/500\n",
      "4/4 - 0s - loss: 1.0668 - auc: 0.8296 - val_loss: 2.3458 - val_auc: 0.7884\n",
      "Epoch 461/500\n",
      "4/4 - 0s - loss: 2.0403 - auc: 0.7888 - val_loss: 3.7318 - val_auc: 0.6769\n",
      "Epoch 462/500\n",
      "4/4 - 0s - loss: 2.6546 - auc: 0.7538 - val_loss: 3.6211 - val_auc: 0.8106\n",
      "Epoch 463/500\n",
      "4/4 - 0s - loss: 2.8494 - auc: 0.7067 - val_loss: 5.7585 - val_auc: 0.7973\n"
     ]
    },
    {
     "name": "stdout",
     "output_type": "stream",
     "text": [
      "Epoch 464/500\n",
      "4/4 - 0s - loss: 2.7912 - auc: 0.7885 - val_loss: 4.8856 - val_auc: 0.6650\n",
      "Epoch 465/500\n",
      "4/4 - 0s - loss: 2.9015 - auc: 0.7704 - val_loss: 2.8587 - val_auc: 0.8285\n",
      "Epoch 466/500\n",
      "4/4 - 0s - loss: 2.0056 - auc: 0.7668 - val_loss: 3.9818 - val_auc: 0.8180\n",
      "Epoch 467/500\n",
      "4/4 - 0s - loss: 1.2807 - auc: 0.8209 - val_loss: 3.0439 - val_auc: 0.8293\n",
      "Epoch 468/500\n",
      "4/4 - 0s - loss: 1.0747 - auc: 0.8351 - val_loss: 3.8795 - val_auc: 0.8254\n",
      "Epoch 469/500\n",
      "4/4 - 0s - loss: 1.2250 - auc: 0.8250 - val_loss: 2.7751 - val_auc: 0.8196\n",
      "Epoch 470/500\n",
      "4/4 - 0s - loss: 0.8212 - auc: 0.8594 - val_loss: 2.7720 - val_auc: 0.8310\n",
      "Epoch 471/500\n",
      "4/4 - 0s - loss: 0.7206 - auc: 0.8679 - val_loss: 3.7441 - val_auc: 0.8192\n",
      "Epoch 472/500\n",
      "4/4 - 0s - loss: 1.7151 - auc: 0.7847 - val_loss: 1.9589 - val_auc: 0.8450\n",
      "Epoch 473/500\n",
      "4/4 - 0s - loss: 1.4830 - auc: 0.8232 - val_loss: 3.2743 - val_auc: 0.6958\n",
      "Epoch 474/500\n",
      "4/4 - 0s - loss: 1.2727 - auc: 0.8421 - val_loss: 3.0275 - val_auc: 0.7114\n",
      "Epoch 475/500\n",
      "4/4 - 0s - loss: 1.4883 - auc: 0.8102 - val_loss: 2.6708 - val_auc: 0.7382\n",
      "Epoch 476/500\n",
      "4/4 - 0s - loss: 1.4432 - auc: 0.7983 - val_loss: 1.8703 - val_auc: 0.8568\n",
      "Epoch 477/500\n",
      "4/4 - 0s - loss: 0.6470 - auc: 0.8770 - val_loss: 2.2418 - val_auc: 0.8005\n",
      "Epoch 478/500\n",
      "4/4 - 0s - loss: 0.7369 - auc: 0.8618 - val_loss: 1.9982 - val_auc: 0.8418\n",
      "Epoch 479/500\n",
      "4/4 - 0s - loss: 0.8125 - auc: 0.8662 - val_loss: 2.5206 - val_auc: 0.8218\n",
      "Epoch 480/500\n",
      "4/4 - 0s - loss: 1.0636 - auc: 0.8246 - val_loss: 3.9786 - val_auc: 0.8169\n",
      "Epoch 481/500\n",
      "4/4 - 0s - loss: 1.4552 - auc: 0.7960 - val_loss: 2.0113 - val_auc: 0.8367\n",
      "Epoch 482/500\n",
      "4/4 - 0s - loss: 1.4098 - auc: 0.8340 - val_loss: 2.0750 - val_auc: 0.8193\n",
      "Epoch 483/500\n",
      "4/4 - 0s - loss: 1.0062 - auc: 0.8580 - val_loss: 2.0740 - val_auc: 0.8146\n",
      "Epoch 484/500\n",
      "4/4 - 0s - loss: 1.1419 - auc: 0.8469 - val_loss: 2.7010 - val_auc: 0.7243\n",
      "Epoch 485/500\n",
      "4/4 - 0s - loss: 0.9797 - auc: 0.8469 - val_loss: 2.3314 - val_auc: 0.8429\n",
      "Epoch 486/500\n",
      "4/4 - 0s - loss: 0.5132 - auc: 0.8993 - val_loss: 2.3611 - val_auc: 0.8429\n",
      "Epoch 487/500\n",
      "4/4 - 0s - loss: 0.8065 - auc: 0.8589 - val_loss: 2.0764 - val_auc: 0.8500\n",
      "Epoch 488/500\n",
      "4/4 - 0s - loss: 1.0123 - auc: 0.8281 - val_loss: 2.2465 - val_auc: 0.8543\n",
      "Epoch 489/500\n",
      "4/4 - 0s - loss: 0.8162 - auc: 0.8633 - val_loss: 1.9917 - val_auc: 0.8329\n",
      "Epoch 490/500\n",
      "4/4 - 0s - loss: 0.5785 - auc: 0.8912 - val_loss: 1.9286 - val_auc: 0.8387\n",
      "Epoch 491/500\n",
      "4/4 - 0s - loss: 0.5835 - auc: 0.8919 - val_loss: 2.3598 - val_auc: 0.8384\n",
      "Epoch 492/500\n",
      "4/4 - 0s - loss: 0.8162 - auc: 0.8459 - val_loss: 4.2413 - val_auc: 0.8138\n",
      "Epoch 493/500\n",
      "4/4 - 0s - loss: 2.1752 - auc: 0.7526 - val_loss: 2.2016 - val_auc: 0.8520\n",
      "Epoch 494/500\n",
      "4/4 - 0s - loss: 0.8781 - auc: 0.8560 - val_loss: 2.3073 - val_auc: 0.7911\n",
      "Epoch 495/500\n",
      "4/4 - 0s - loss: 1.6362 - auc: 0.7910 - val_loss: 3.4943 - val_auc: 0.7059\n",
      "Epoch 496/500\n",
      "4/4 - 0s - loss: 1.8579 - auc: 0.7981 - val_loss: 2.9597 - val_auc: 0.7161\n",
      "Epoch 497/500\n",
      "4/4 - 0s - loss: 1.8933 - auc: 0.7633 - val_loss: 5.3432 - val_auc: 0.8005\n",
      "Epoch 498/500\n",
      "4/4 - 0s - loss: 2.9685 - auc: 0.7351 - val_loss: 4.5280 - val_auc: 0.6655\n",
      "Epoch 499/500\n",
      "4/4 - 0s - loss: 1.7811 - auc: 0.8066 - val_loss: 2.9062 - val_auc: 0.7363\n",
      "Epoch 500/500\n",
      "4/4 - 0s - loss: 1.1835 - auc: 0.8165 - val_loss: 2.0314 - val_auc: 0.8572\n"
     ]
    }
   ],
   "source": [
    "BATCH_SIZE = 500\n",
    "MAX_EPOCHS = 500\n",
    "\n",
    "#patience = 30\n",
    "#early_stopping = tf.keras.callbacks.EarlyStopping(patience = patience) #stops after X consecutive val_loss increases\n",
    "#comment early_stopping and delete callbacks argument to remove this limitation\n",
    "\n",
    "history2 = model2.fit(Xn_train, yn_train, batch_size = BATCH_SIZE, epochs = MAX_EPOCHS, \n",
    "                      validation_data = (Xn_test, yn_test), verbose = 2)  #callbacks = [early_stopping],"
   ]
  },
  {
   "cell_type": "markdown",
   "metadata": {},
   "source": [
    "Graf vyvoje loss na train a valid setu"
   ]
  },
  {
   "cell_type": "code",
   "execution_count": 190,
   "metadata": {},
   "outputs": [
    {
     "data": {
      "text/plain": [
       "<matplotlib.legend.Legend at 0x187256d0e80>"
      ]
     },
     "execution_count": 190,
     "metadata": {},
     "output_type": "execute_result"
    },
    {
     "data": {
      "image/png": "[encoded data removed]",
      "text/plain": [
       "<Figure size 432x288 with 1 Axes>"
      ]
     },
     "metadata": {
      "needs_background": "light"
     },
     "output_type": "display_data"
    }
   ],
   "source": [
    "plt.plot(history2.history['loss'])\n",
    "plt.plot(history2.history['val_loss'])\n",
    "plt.title('model loss')\n",
    "plt.ylabel('loss')\n",
    "plt.xlabel('epoch')\n",
    "plt.legend(['loss', 'val_loss'], loc='upper left')"
   ]
  },
  {
   "cell_type": "markdown",
   "metadata": {},
   "source": [
    "A nakonec graf vyvoje AUC. Je zadouci, aby byla krivka celkove rostouci."
   ]
  },
  {
   "cell_type": "code",
   "execution_count": 191,
   "metadata": {},
   "outputs": [
    {
     "data": {
      "text/plain": [
       "<matplotlib.legend.Legend at 0x1872707fbe0>"
      ]
     },
     "execution_count": 191,
     "metadata": {},
     "output_type": "execute_result"
    },
    {
     "data": {
      "image/png": "[encoded data removed]",
      "text/plain": [
       "<Figure size 432x288 with 1 Axes>"
      ]
     },
     "metadata": {
      "needs_background": "light"
     },
     "output_type": "display_data"
    }
   ],
   "source": [
    "plt.plot(history2.history['auc'])\n",
    "plt.plot(history2.history['val_auc'])\n",
    "plt.title('model auc')\n",
    "plt.ylabel('auc')\n",
    "plt.xlabel('epoch')\n",
    "plt.legend(['auc', 'test_auc'], loc='upper left')"
   ]
  }
 ],
 "metadata": {
  "kernelspec": {
   "display_name": "Python 3",
   "language": "python",
   "name": "python3"
  },
  "language_info": {
   "codemirror_mode": {
    "name": "ipython",
    "version": 3
   },
   "file_extension": ".py",
   "mimetype": "text/x-python",
   "name": "python",
   "nbconvert_exporter": "python",
   "pygments_lexer": "ipython3",
   "version": "3.8.5"
  }
 },
 "nbformat": 4,
 "nbformat_minor": 4
}
