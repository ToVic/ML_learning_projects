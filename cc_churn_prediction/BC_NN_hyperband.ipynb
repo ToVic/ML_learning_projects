{
 "cells": [
  {
   "cell_type": "markdown",
   "metadata": {},
   "source": [
    "## NN approach\n",
    "\n",
    "Goals: use hyperband within keras tuner library to find the best hyperparameters while trying to reach the highest performance (roc_auc, accuracy, precision/recall tradeoff)\n",
    "\n",
    "Data to try out:\n",
    "- scaled modified data X\n",
    "- scaled data with 1h encoding \n",
    "- imbalanced data possibly with class weights X\n",
    "- balanced data X"
   ]
  },
  {
   "cell_type": "code",
   "execution_count": 1,
   "metadata": {},
   "outputs": [],
   "source": [
    "import pandas as pd\n",
    "import numpy as np\n",
    "import matplotlib.pyplot as plt\n",
    "%matplotlib inline\n",
    "import seaborn as sns\n",
    "sns.set(style='whitegrid', palette='muted', font_scale=1.5)"
   ]
  },
  {
   "cell_type": "code",
   "execution_count": 2,
   "metadata": {},
   "outputs": [],
   "source": [
    "raw_data = pd.read_csv('BankChurners.csv', index_col = 0)\n",
    "mod_data = pd.read_csv('bc_re.csv', index_col = 0)"
   ]
  },
  {
   "cell_type": "code",
   "execution_count": 3,
   "metadata": {},
   "outputs": [
    {
     "data": {
      "text/html": [
       "<div>\n",
       "<style scoped>\n",
       "    .dataframe tbody tr th:only-of-type {\n",
       "        vertical-align: middle;\n",
       "    }\n",
       "\n",
       "    .dataframe tbody tr th {\n",
       "        vertical-align: top;\n",
       "    }\n",
       "\n",
       "    .dataframe thead th {\n",
       "        text-align: right;\n",
       "    }\n",
       "</style>\n",
       "<table border=\"1\" class=\"dataframe\">\n",
       "  <thead>\n",
       "    <tr style=\"text-align: right;\">\n",
       "      <th></th>\n",
       "      <th>Attrition_Flag</th>\n",
       "      <th>Customer_Age</th>\n",
       "      <th>Gender</th>\n",
       "      <th>Dependent_count</th>\n",
       "      <th>Education_Level</th>\n",
       "      <th>Marital_Status</th>\n",
       "      <th>Income_Category</th>\n",
       "      <th>Card_Category</th>\n",
       "      <th>Months_on_book</th>\n",
       "      <th>Total_Relationship_Count</th>\n",
       "      <th>Months_Inactive_12_mon</th>\n",
       "      <th>Contacts_Count_12_mon</th>\n",
       "      <th>Credit_Limit</th>\n",
       "      <th>Total_Revolving_Bal</th>\n",
       "      <th>Avg_Open_To_Buy</th>\n",
       "      <th>Total_Amt_Chng_Q4_Q1</th>\n",
       "      <th>Total_Trans_Amt</th>\n",
       "      <th>Avg_Utilization_Ratio</th>\n",
       "    </tr>\n",
       "    <tr>\n",
       "      <th>CLIENTNUM</th>\n",
       "      <th></th>\n",
       "      <th></th>\n",
       "      <th></th>\n",
       "      <th></th>\n",
       "      <th></th>\n",
       "      <th></th>\n",
       "      <th></th>\n",
       "      <th></th>\n",
       "      <th></th>\n",
       "      <th></th>\n",
       "      <th></th>\n",
       "      <th></th>\n",
       "      <th></th>\n",
       "      <th></th>\n",
       "      <th></th>\n",
       "      <th></th>\n",
       "      <th></th>\n",
       "      <th></th>\n",
       "    </tr>\n",
       "  </thead>\n",
       "  <tbody>\n",
       "    <tr>\n",
       "      <th>768805383</th>\n",
       "      <td>0</td>\n",
       "      <td>45</td>\n",
       "      <td>0</td>\n",
       "      <td>3</td>\n",
       "      <td>0</td>\n",
       "      <td>1</td>\n",
       "      <td>2.0</td>\n",
       "      <td>0</td>\n",
       "      <td>39</td>\n",
       "      <td>5</td>\n",
       "      <td>1</td>\n",
       "      <td>3</td>\n",
       "      <td>12691.0</td>\n",
       "      <td>777</td>\n",
       "      <td>11914.0</td>\n",
       "      <td>1.335</td>\n",
       "      <td>1144</td>\n",
       "      <td>0.061</td>\n",
       "    </tr>\n",
       "    <tr>\n",
       "      <th>818770008</th>\n",
       "      <td>0</td>\n",
       "      <td>49</td>\n",
       "      <td>1</td>\n",
       "      <td>5</td>\n",
       "      <td>0</td>\n",
       "      <td>0</td>\n",
       "      <td>1.0</td>\n",
       "      <td>0</td>\n",
       "      <td>44</td>\n",
       "      <td>6</td>\n",
       "      <td>1</td>\n",
       "      <td>2</td>\n",
       "      <td>8256.0</td>\n",
       "      <td>864</td>\n",
       "      <td>7392.0</td>\n",
       "      <td>1.541</td>\n",
       "      <td>1291</td>\n",
       "      <td>0.105</td>\n",
       "    </tr>\n",
       "    <tr>\n",
       "      <th>713982108</th>\n",
       "      <td>0</td>\n",
       "      <td>51</td>\n",
       "      <td>0</td>\n",
       "      <td>3</td>\n",
       "      <td>0</td>\n",
       "      <td>1</td>\n",
       "      <td>3.0</td>\n",
       "      <td>0</td>\n",
       "      <td>36</td>\n",
       "      <td>4</td>\n",
       "      <td>1</td>\n",
       "      <td>0</td>\n",
       "      <td>3418.0</td>\n",
       "      <td>0</td>\n",
       "      <td>3418.0</td>\n",
       "      <td>2.594</td>\n",
       "      <td>1887</td>\n",
       "      <td>0.000</td>\n",
       "    </tr>\n",
       "    <tr>\n",
       "      <th>769911858</th>\n",
       "      <td>0</td>\n",
       "      <td>40</td>\n",
       "      <td>1</td>\n",
       "      <td>4</td>\n",
       "      <td>0</td>\n",
       "      <td>0</td>\n",
       "      <td>1.0</td>\n",
       "      <td>0</td>\n",
       "      <td>34</td>\n",
       "      <td>3</td>\n",
       "      <td>4</td>\n",
       "      <td>1</td>\n",
       "      <td>3313.0</td>\n",
       "      <td>2517</td>\n",
       "      <td>796.0</td>\n",
       "      <td>1.405</td>\n",
       "      <td>1171</td>\n",
       "      <td>0.760</td>\n",
       "    </tr>\n",
       "    <tr>\n",
       "      <th>709106358</th>\n",
       "      <td>0</td>\n",
       "      <td>40</td>\n",
       "      <td>0</td>\n",
       "      <td>3</td>\n",
       "      <td>0</td>\n",
       "      <td>1</td>\n",
       "      <td>2.0</td>\n",
       "      <td>0</td>\n",
       "      <td>21</td>\n",
       "      <td>5</td>\n",
       "      <td>1</td>\n",
       "      <td>0</td>\n",
       "      <td>4716.0</td>\n",
       "      <td>0</td>\n",
       "      <td>4716.0</td>\n",
       "      <td>2.175</td>\n",
       "      <td>816</td>\n",
       "      <td>0.000</td>\n",
       "    </tr>\n",
       "  </tbody>\n",
       "</table>\n",
       "</div>"
      ],
      "text/plain": [
       "           Attrition_Flag  Customer_Age  Gender  Dependent_count  \\\n",
       "CLIENTNUM                                                          \n",
       "768805383               0            45       0                3   \n",
       "818770008               0            49       1                5   \n",
       "713982108               0            51       0                3   \n",
       "769911858               0            40       1                4   \n",
       "709106358               0            40       0                3   \n",
       "\n",
       "           Education_Level  Marital_Status  Income_Category  Card_Category  \\\n",
       "CLIENTNUM                                                                    \n",
       "768805383                0               1              2.0              0   \n",
       "818770008                0               0              1.0              0   \n",
       "713982108                0               1              3.0              0   \n",
       "769911858                0               0              1.0              0   \n",
       "709106358                0               1              2.0              0   \n",
       "\n",
       "           Months_on_book  Total_Relationship_Count  Months_Inactive_12_mon  \\\n",
       "CLIENTNUM                                                                     \n",
       "768805383              39                         5                       1   \n",
       "818770008              44                         6                       1   \n",
       "713982108              36                         4                       1   \n",
       "769911858              34                         3                       4   \n",
       "709106358              21                         5                       1   \n",
       "\n",
       "           Contacts_Count_12_mon  Credit_Limit  Total_Revolving_Bal  \\\n",
       "CLIENTNUM                                                             \n",
       "768805383                      3       12691.0                  777   \n",
       "818770008                      2        8256.0                  864   \n",
       "713982108                      0        3418.0                    0   \n",
       "769911858                      1        3313.0                 2517   \n",
       "709106358                      0        4716.0                    0   \n",
       "\n",
       "           Avg_Open_To_Buy  Total_Amt_Chng_Q4_Q1  Total_Trans_Amt  \\\n",
       "CLIENTNUM                                                           \n",
       "768805383          11914.0                 1.335             1144   \n",
       "818770008           7392.0                 1.541             1291   \n",
       "713982108           3418.0                 2.594             1887   \n",
       "769911858            796.0                 1.405             1171   \n",
       "709106358           4716.0                 2.175              816   \n",
       "\n",
       "           Avg_Utilization_Ratio  \n",
       "CLIENTNUM                         \n",
       "768805383                  0.061  \n",
       "818770008                  0.105  \n",
       "713982108                  0.000  \n",
       "769911858                  0.760  \n",
       "709106358                  0.000  "
      ]
     },
     "execution_count": 3,
     "metadata": {},
     "output_type": "execute_result"
    }
   ],
   "source": [
    "mod_data.head()"
   ]
  },
  {
   "cell_type": "code",
   "execution_count": 4,
   "metadata": {},
   "outputs": [],
   "source": [
    "X = mod_data.copy()\n",
    "y = X.pop('Attrition_Flag')"
   ]
  },
  {
   "cell_type": "code",
   "execution_count": 5,
   "metadata": {},
   "outputs": [],
   "source": [
    "from sklearn.model_selection import train_test_split\n",
    "\n",
    "X_train, X_test, y_train, y_test = train_test_split(X, y, test_size = 1000)\n",
    "\n",
    "#I'll need the validation data\n",
    "X_train, X_valid, y_train, y_valid = train_test_split(X_train, y_train, test_size = 1000)"
   ]
  },
  {
   "cell_type": "code",
   "execution_count": 6,
   "metadata": {},
   "outputs": [],
   "source": [
    "from sklearn.preprocessing import RobustScaler\n",
    "\n",
    "x_sclr = RobustScaler()\n",
    "\n",
    "X_train = x_sclr.fit_transform(X_train) #this is now ndarray, don't need pd df anyway\n",
    "X_test = x_sclr.transform(X_test)\n",
    "X_valid = x_sclr.transform(X_valid)"
   ]
  },
  {
   "cell_type": "code",
   "execution_count": 7,
   "metadata": {},
   "outputs": [
    {
     "data": {
      "text/plain": [
       "numpy.ndarray"
      ]
     },
     "execution_count": 7,
     "metadata": {},
     "output_type": "execute_result"
    }
   ],
   "source": [
    "type(X_train)"
   ]
  },
  {
   "cell_type": "markdown",
   "metadata": {},
   "source": [
    "### KerasTuner\n",
    "\n",
    "taken from tf documentation"
   ]
  },
  {
   "cell_type": "code",
   "execution_count": 8,
   "metadata": {},
   "outputs": [],
   "source": [
    "import tensorflow as tf\n",
    "from tensorflow import keras\n",
    "import kerastuner as kt"
   ]
  },
  {
   "cell_type": "code",
   "execution_count": 9,
   "metadata": {},
   "outputs": [],
   "source": [
    "def model_builder(hp):\n",
    "    model = keras.Sequential()\n",
    "    \n",
    "    hp_units = hp.Int('units', min_value = 32, max_value = 512, step = 32)\n",
    "    model.add(keras.layers.Dense(units = hp_units, activation = 'relu'))\n",
    "    \n",
    "    hp_units1 = hp.Int('units1', min_value = 32, max_value = 512, step = 32)\n",
    "    model.add(keras.layers.Dense(units = hp_units1, activation = 'relu'))\n",
    "    \n",
    "    model.add(keras.layers.Dense(1, activation = 'sigmoid')) #logit\n",
    "    \n",
    "    hp_lr = hp.Choice('learning_rate', values = [1e-2, 3e-3, 1e-3, 5e-4, 1e-4])\n",
    "    \n",
    "    adam = keras.optimizers.Adam(learning_rate = hp_lr)\n",
    "    \n",
    "    recall = keras.metrics.Recall()\n",
    "    auc = keras.metrics.AUC()\n",
    "    \n",
    "    model.compile(optimizer = adam, loss = 'binary_crossentropy', metrics = [recall, auc])\n",
    "    \n",
    "    return model"
   ]
  },
  {
   "cell_type": "code",
   "execution_count": 10,
   "metadata": {},
   "outputs": [],
   "source": [
    "#let's max recall\n",
    "tuner = kt.Hyperband(model_builder, objective = kt.Objective(\"val_recall\", direction=\"max\"),\n",
    "                     max_epochs = 50, factor = 3, directory = 'kt', project_name = 'kt_1')"
   ]
  },
  {
   "cell_type": "code",
   "execution_count": 11,
   "metadata": {},
   "outputs": [],
   "source": [
    "import IPython"
   ]
  },
  {
   "cell_type": "code",
   "execution_count": 12,
   "metadata": {},
   "outputs": [],
   "source": [
    "class ClearTrainingOutput(keras.callbacks.Callback):\n",
    "    def on_train_end(*args, **kwargs):\n",
    "        IPython.display.clear_output(wait=True)"
   ]
  },
  {
   "cell_type": "code",
   "execution_count": 13,
   "metadata": {},
   "outputs": [
    {
     "name": "stdout",
     "output_type": "stream",
     "text": [
      "Trial 90 Complete [00h 00m 19s]\n",
      "val_recall: 0.8373494148254395\n",
      "\n",
      "Best val_recall So Far: 0.849397599697113\n",
      "Total elapsed time: 00h 06m 47s\n",
      "INFO:tensorflow:Oracle triggered exit\n",
      "\n",
      "The hyperparameter search is complete. The optimal number of units in the first densely-connected\n",
      "layer is 320, the optimal number of units in the second densely-connected layer\n",
      "is 256 and the optimal learning rate for the optimizer\n",
      "is 0.003.\n",
      "\n"
     ]
    }
   ],
   "source": [
    "tuner.search(X_train, y_train, epochs = 100, validation_data = (X_valid, y_valid), callbacks = [ClearTrainingOutput()])\n",
    "\n",
    "best_hps = tuner.get_best_hyperparameters(num_trials = 1)[0]\n",
    "\n",
    "print(f\"\"\"\n",
    "The hyperparameter search is complete. The optimal number of units in the first densely-connected\n",
    "layer is {best_hps.get('units')}, the optimal number of units in the second densely-connected layer\n",
    "is {best_hps.get('units1')} and the optimal learning rate for the optimizer\n",
    "is {best_hps.get('learning_rate')}.\n",
    "\"\"\")"
   ]
  },
  {
   "cell_type": "markdown",
   "metadata": {},
   "source": [
    "Oracle triggered exit = the models within the search have collided"
   ]
  },
  {
   "cell_type": "markdown",
   "metadata": {},
   "source": [
    "Let's see."
   ]
  },
  {
   "cell_type": "code",
   "execution_count": 19,
   "metadata": {},
   "outputs": [],
   "source": [
    "def train_model(lr, units, units1, epochs, X = X_train, y = y_train, Xv = X_valid, yv = y_valid):\n",
    "    model = keras.Sequential()\n",
    "    model.add(keras.layers.Dense(units = units, activation = 'relu'))\n",
    "    model.add(keras.layers.Dense(units = units1, activation = 'relu'))\n",
    "    model.add(keras.layers.Dense(1, activation = 'sigmoid'))\n",
    "    adam = keras.optimizers.Adam(learning_rate = lr)\n",
    "    recall = keras.metrics.Recall()\n",
    "    auc = keras.metrics.AUC()\n",
    "    model.compile(optimizer = adam, loss = 'binary_crossentropy', metrics = [recall, auc])\n",
    "    ES = keras.callbacks.EarlyStopping(monitor = 'val_recall_3', restore_best_weights = True, patience = 3, mode = 'max')\n",
    "    history = model.fit(X, y, epochs = epochs, validation_data = (Xv, yv), callbacks = [ES])\n",
    "    \n",
    "    plt.plot(history.history['val_recall_3'], 'r', label = 'val_recall')\n",
    "    plt.legend()\n",
    "    plt.title('Training loss and recall')\n",
    "    plt.show()\n",
    "    \n",
    "    return model"
   ]
  },
  {
   "cell_type": "code",
   "execution_count": 20,
   "metadata": {},
   "outputs": [
    {
     "name": "stdout",
     "output_type": "stream",
     "text": [
      "Epoch 1/50\n",
      "254/254 [==============================] - 1s 2ms/step - loss: 0.3136 - recall_3: 0.4035 - auc_3: 0.8438 - val_loss: 0.3183 - val_recall_3: 0.3916 - val_auc_3: 0.8696\n",
      "Epoch 2/50\n",
      "254/254 [==============================] - 0s 1ms/step - loss: 0.2377 - recall_3: 0.5810 - auc_3: 0.9210 - val_loss: 0.2455 - val_recall_3: 0.4819 - val_auc_3: 0.9285\n",
      "Epoch 3/50\n",
      "254/254 [==============================] - 0s 1ms/step - loss: 0.1983 - recall_3: 0.6590 - auc_3: 0.9486 - val_loss: 0.1959 - val_recall_3: 0.6988 - val_auc_3: 0.9552\n",
      "Epoch 4/50\n",
      "254/254 [==============================] - 0s 1ms/step - loss: 0.1662 - recall_3: 0.7323 - auc_3: 0.9646 - val_loss: 0.1877 - val_recall_3: 0.7048 - val_auc_3: 0.9563\n",
      "Epoch 5/50\n",
      "254/254 [==============================] - 0s 1ms/step - loss: 0.1561 - recall_3: 0.7539 - auc_3: 0.9691 - val_loss: 0.1794 - val_recall_3: 0.7590 - val_auc_3: 0.9617\n",
      "Epoch 6/50\n",
      "254/254 [==============================] - 0s 1ms/step - loss: 0.1372 - recall_3: 0.7840 - auc_3: 0.9765 - val_loss: 0.2036 - val_recall_3: 0.8072 - val_auc_3: 0.9595\n",
      "Epoch 7/50\n",
      "254/254 [==============================] - 0s 1ms/step - loss: 0.1309 - recall_3: 0.8086 - auc_3: 0.9780 - val_loss: 0.1840 - val_recall_3: 0.7952 - val_auc_3: 0.9602\n",
      "Epoch 8/50\n",
      "254/254 [==============================] - 0s 1ms/step - loss: 0.1227 - recall_3: 0.8110 - auc_3: 0.9813 - val_loss: 0.1752 - val_recall_3: 0.7470 - val_auc_3: 0.9631\n",
      "Epoch 9/50\n",
      "254/254 [==============================] - 0s 1ms/step - loss: 0.1197 - recall_3: 0.8287 - auc_3: 0.9811 - val_loss: 0.2009 - val_recall_3: 0.6807 - val_auc_3: 0.9488\n"
     ]
    },
    {
     "data": {
      "image/png": "[encoded data removed]",
      "text/plain": [
       "<Figure size 432x288 with 1 Axes>"
      ]
     },
     "metadata": {},
     "output_type": "display_data"
    }
   ],
   "source": [
    "model_1 = train_model(lr = 0.003, units = 320, units1 = 256, epochs = 50)"
   ]
  },
  {
   "cell_type": "code",
   "execution_count": 21,
   "metadata": {},
   "outputs": [],
   "source": [
    "from sklearn.metrics import confusion_matrix\n",
    "\n",
    "def plot_cm(labels, predictions, p=0.5):\n",
    "    cm = confusion_matrix(labels, predictions > p)\n",
    "    plt.figure(figsize=(5,5))\n",
    "    sns.heatmap(cm, annot=True, fmt=\"d\", cmap = 'Greens')\n",
    "    plt.title('Confusion matrix at probability: {:.2f}'.format(p))\n",
    "    plt.ylabel('Actual label')\n",
    "    plt.xlabel('Predicted label')\n",
    "    plt.show()\n",
    "\n",
    "    print('No churn detected (True Negatives): ', cm[0][0])\n",
    "    print('Churn Incorrectly Detected (False Positives): ', cm[0][1])\n",
    "    print('Churn Missed (False Negatives): ', cm[1][0])\n",
    "    print('Churn Detected (True Positives): ', cm[1][1])\n",
    "    print('Total Churns: ', np.sum(cm[1]))\n",
    "    \n",
    "    print('Model precision: ', cm[1][1]/(cm[1][1]+cm[0][1]))\n",
    "    print('Model recall: ', cm[1][1]/(cm[1][1]+cm[1][0]))\n",
    "    print('Model accuracy: ', (cm[1][1]+cm[0][0])/len(labels))"
   ]
  },
  {
   "cell_type": "code",
   "execution_count": 22,
   "metadata": {},
   "outputs": [
    {
     "data": {
      "image/png": "[encoded data removed]",
      "text/plain": [
       "<Figure size 360x360 with 2 Axes>"
      ]
     },
     "metadata": {},
     "output_type": "display_data"
    },
    {
     "name": "stdout",
     "output_type": "stream",
     "text": [
      "No churn detected (True Negatives):  794\n",
      "Churn Incorrectly Detected (False Positives):  41\n",
      "Churn Missed (False Negatives):  29\n",
      "Churn Detected (True Positives):  136\n",
      "Total Churns:  165\n",
      "Model precision:  0.768361581920904\n",
      "Model recall:  0.8242424242424242\n",
      "Model accuracy:  0.93\n"
     ]
    }
   ],
   "source": [
    "y_pred_1 = model_1.predict(X_test)\n",
    "plot_cm(y_test, y_pred_1)"
   ]
  },
  {
   "cell_type": "markdown",
   "metadata": {},
   "source": [
    "### Brief commentary on this part\n",
    "\n",
    "So as I suspected the NN does not have enough data to push the threshold on this task a little further. However, the hyperband algorithm works quite well, the only thing to take care of is the plethora of callbacks and the right objective of them (if I feed EarlyStopping a val_recall as a monitored metric, I should make sure the callback tries to max it, not minimize it)\n",
    "\n",
    "For the next step I will try to bring in the synthesized data using SMOTE. Let's see about its performance."
   ]
  },
  {
   "cell_type": "code",
   "execution_count": 23,
   "metadata": {},
   "outputs": [],
   "source": [
    "from imblearn.over_sampling import SMOTE\n",
    "from imblearn.under_sampling import RandomUnderSampler\n",
    "from imblearn.pipeline import Pipeline\n",
    "from collections import Counter"
   ]
  },
  {
   "cell_type": "code",
   "execution_count": 24,
   "metadata": {},
   "outputs": [
    {
     "name": "stdout",
     "output_type": "stream",
     "text": [
      "Training size: 6830\n",
      "Train positives 3415\n",
      "Valid size: 834\n",
      "Valid positives 417\n"
     ]
    }
   ],
   "source": [
    "over = SMOTE(sampling_strategy = 0.5, random_state = 42)\n",
    "under = RandomUnderSampler(sampling_strategy = 1, random_state = 42)\n",
    "seq = [('over',over),('under',under)]\n",
    "pipeline = Pipeline(steps=seq)\n",
    "\n",
    "X_train_bal, y_train_bal = pipeline.fit_resample(X_train, y_train)\n",
    "X_valid_bal, y_valid_bal = pipeline.fit_resample(X_valid, y_valid)\n",
    "\n",
    "print('Training size:',len(X_train_bal))\n",
    "print('Train positives', Counter(y_train_bal)[1])\n",
    "print('Valid size:', len(X_valid_bal))\n",
    "print('Valid positives', Counter(y_valid_bal)[1])"
   ]
  },
  {
   "cell_type": "code",
   "execution_count": 25,
   "metadata": {},
   "outputs": [],
   "source": [
    "tuner = kt.Hyperband(model_builder, objective = kt.Objective(\"val_recall\", direction=\"max\"),\n",
    "                     max_epochs = 50, factor = 3, directory = 'kt', project_name = 'kt_bal_1')"
   ]
  },
  {
   "cell_type": "code",
   "execution_count": 26,
   "metadata": {},
   "outputs": [
    {
     "name": "stdout",
     "output_type": "stream",
     "text": [
      "Trial 90 Complete [00h 00m 12s]\n",
      "val_recall: 0.8992805480957031\n",
      "\n",
      "Best val_recall So Far: 0.9520383477210999\n",
      "Total elapsed time: 00h 06m 18s\n",
      "INFO:tensorflow:Oracle triggered exit\n",
      "\n",
      "The hyperparameter search is complete. The optimal number of units in the first densely-connected\n",
      "layer is 416, the optimal number of units in the second densely-connected layer\n",
      "is 448 and the optimal learning rate for the optimizer\n",
      "is 0.003.\n",
      "\n"
     ]
    }
   ],
   "source": [
    "tuner.search(X_train_bal, y_train_bal, epochs = 100, validation_data = (X_valid_bal, y_valid_bal), callbacks = [ClearTrainingOutput()])\n",
    "\n",
    "best_hps = tuner.get_best_hyperparameters(num_trials = 1)[0]\n",
    "\n",
    "print(f\"\"\"\n",
    "The hyperparameter search is complete. The optimal number of units in the first densely-connected\n",
    "layer is {best_hps.get('units')}, the optimal number of units in the second densely-connected layer\n",
    "is {best_hps.get('units1')} and the optimal learning rate for the optimizer\n",
    "is {best_hps.get('learning_rate')}.\n",
    "\"\"\")"
   ]
  },
  {
   "cell_type": "code",
   "execution_count": 30,
   "metadata": {},
   "outputs": [],
   "source": [
    "def train_model_bal(lr, units, units1, epochs, X = X_train_bal, y = y_train_bal, Xv = X_valid_bal, yv = y_valid_bal):\n",
    "    model = keras.Sequential()\n",
    "    model.add(keras.layers.Dense(units = units, activation = 'relu'))\n",
    "    model.add(keras.layers.Dense(units = units1, activation = 'relu'))\n",
    "    model.add(keras.layers.Dense(1, activation = 'sigmoid'))\n",
    "    adam = keras.optimizers.Adam(learning_rate = lr)\n",
    "    recall = keras.metrics.Recall()\n",
    "    auc = keras.metrics.AUC()\n",
    "    model.compile(optimizer = adam, loss = 'binary_crossentropy', metrics = [recall, auc])\n",
    "    ES = keras.callbacks.EarlyStopping(monitor = 'val_recall_2', restore_best_weights = True, patience = 3, mode = 'max')\n",
    "    history = model.fit(X, y, epochs = epochs, validation_data = (Xv, yv), callbacks = [ES])\n",
    "    \n",
    "    plt.plot(history.history['val_recall_2'], 'r', label = 'val_recall')\n",
    "    plt.legend()\n",
    "    plt.title('Training loss and recall')\n",
    "    plt.show()\n",
    "    \n",
    "    return model"
   ]
  },
  {
   "cell_type": "code",
   "execution_count": 31,
   "metadata": {},
   "outputs": [
    {
     "name": "stdout",
     "output_type": "stream",
     "text": [
      "Epoch 1/50\n",
      "214/214 [==============================] - 1s 3ms/step - loss: 0.4030 - recall_2: 0.8152 - auc_2: 0.8975 - val_loss: 0.3879 - val_recall_2: 0.8633 - val_auc_2: 0.9095\n",
      "Epoch 2/50\n",
      "214/214 [==============================] - 0s 2ms/step - loss: 0.2984 - recall_2: 0.8878 - auc_2: 0.9458 - val_loss: 0.3780 - val_recall_2: 0.8969 - val_auc_2: 0.9254\n",
      "Epoch 3/50\n",
      "214/214 [==============================] - 0s 2ms/step - loss: 0.2355 - recall_2: 0.9089 - auc_2: 0.9658 - val_loss: 0.3009 - val_recall_2: 0.8729 - val_auc_2: 0.9473\n",
      "Epoch 4/50\n",
      "214/214 [==============================] - 0s 2ms/step - loss: 0.1970 - recall_2: 0.9288 - auc_2: 0.9758 - val_loss: 0.2450 - val_recall_2: 0.9209 - val_auc_2: 0.9627\n",
      "Epoch 5/50\n",
      "214/214 [==============================] - 0s 2ms/step - loss: 0.1743 - recall_2: 0.9406 - auc_2: 0.9805 - val_loss: 0.3040 - val_recall_2: 0.8705 - val_auc_2: 0.9502\n",
      "Epoch 6/50\n",
      "214/214 [==============================] - 0s 2ms/step - loss: 0.1460 - recall_2: 0.9488 - auc_2: 0.9863 - val_loss: 0.3018 - val_recall_2: 0.8705 - val_auc_2: 0.9520\n",
      "Epoch 7/50\n",
      "214/214 [==============================] - 0s 2ms/step - loss: 0.1327 - recall_2: 0.9552 - auc_2: 0.9884 - val_loss: 0.3242 - val_recall_2: 0.8801 - val_auc_2: 0.9491\n"
     ]
    },
    {
     "data": {
      "image/png": "[encoded data removed]",
      "text/plain": [
       "<Figure size 432x288 with 1 Axes>"
      ]
     },
     "metadata": {},
     "output_type": "display_data"
    }
   ],
   "source": [
    "model_bal_1 = train_model_bal(lr = 0.003, units = 416, units1 = 448, epochs = 50)"
   ]
  },
  {
   "cell_type": "code",
   "execution_count": 33,
   "metadata": {},
   "outputs": [
    {
     "data": {
      "image/png": "[encoded data removed]",
      "text/plain": [
       "<Figure size 360x360 with 2 Axes>"
      ]
     },
     "metadata": {},
     "output_type": "display_data"
    },
    {
     "name": "stdout",
     "output_type": "stream",
     "text": [
      "No churn detected (True Negatives):  740\n",
      "Churn Incorrectly Detected (False Positives):  95\n",
      "Churn Missed (False Negatives):  17\n",
      "Churn Detected (True Positives):  148\n",
      "Total Churns:  165\n",
      "Model precision:  0.6090534979423868\n",
      "Model recall:  0.896969696969697\n",
      "Model accuracy:  0.888\n"
     ]
    }
   ],
   "source": [
    "y_pred_bal_1 = model_bal_1.predict(X_test)\n",
    "plot_cm(y_test, y_pred_bal_1)"
   ]
  },
  {
   "cell_type": "markdown",
   "metadata": {},
   "source": [
    "### Brief commentary on this part\n",
    "\n",
    "Balancing apparently helps but focusing on recall only has taken its tax - the overall performance is very much FN-oriented and does not generalize very well, the precision rate has dropped, which was expected, the recall is close to 0.9, which is not bad.\n",
    "\n",
    "I have found that balancing in this case helps, so the next step will be re-reformatting the data using one-hot encoding on all categorical features. Let's see whether that pushes the general performance any further or not. After that I'll try to extract the feature importances using SHAP module."
   ]
  }
 ],
 "metadata": {
  "kernelspec": {
   "display_name": "Python 3",
   "language": "python",
   "name": "python3"
  },
  "language_info": {
   "codemirror_mode": {
    "name": "ipython",
    "version": 3
   },
   "file_extension": ".py",
   "mimetype": "text/x-python",
   "name": "python",
   "nbconvert_exporter": "python",
   "pygments_lexer": "ipython3",
   "version": "3.8.5"
  }
 },
 "nbformat": 4,
 "nbformat_minor": 4
}
