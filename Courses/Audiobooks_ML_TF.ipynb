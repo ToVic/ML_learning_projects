{
 "cells": [
  {
   "cell_type": "code",
   "execution_count": 1,
   "metadata": {},
   "outputs": [],
   "source": [
    "import numpy as np\n",
    "import tensorflow as tf\n",
    "\n",
    "npz = np.load('Audiobooks_data_train.npz')\n",
    "train_inputs = npz['inputs'].astype(np.float)\n",
    "train_targets = npz['targets'].astype(np.int)\n",
    "\n",
    "npz = np.load('Audiobooks_data_validation.npz')\n",
    "validation_inputs = npz['inputs'].astype(np.float)\n",
    "validation_targets = npz['targets'].astype(np.int)\n",
    "\n",
    "npz = np.load('Audiobooks_data_test.npz')\n",
    "test_inputs = npz['inputs'].astype(np.float)\n",
    "test_targets = npz['targets'].astype(np.int)"
   ]
  },
  {
   "cell_type": "code",
   "execution_count": 5,
   "metadata": {},
   "outputs": [
    {
     "name": "stdout",
     "output_type": "stream",
     "text": [
      "Epoch 1/100\n",
      "36/36 - 0s - loss: 0.5500 - accuracy: 0.7586 - val_loss: 0.4144 - val_accuracy: 0.8680\n",
      "Epoch 2/100\n",
      "36/36 - 0s - loss: 0.3655 - accuracy: 0.8773 - val_loss: 0.3150 - val_accuracy: 0.8814\n",
      "Epoch 3/100\n",
      "36/36 - 0s - loss: 0.3186 - accuracy: 0.8829 - val_loss: 0.2907 - val_accuracy: 0.8881\n",
      "Epoch 4/100\n",
      "36/36 - 0s - loss: 0.2987 - accuracy: 0.8888 - val_loss: 0.2814 - val_accuracy: 0.9038\n",
      "Epoch 5/100\n",
      "36/36 - 0s - loss: 0.2856 - accuracy: 0.8949 - val_loss: 0.2708 - val_accuracy: 0.9016\n",
      "Epoch 6/100\n",
      "36/36 - 0s - loss: 0.2768 - accuracy: 0.8949 - val_loss: 0.2650 - val_accuracy: 0.9016\n",
      "Epoch 7/100\n",
      "36/36 - 0s - loss: 0.2686 - accuracy: 0.8961 - val_loss: 0.2641 - val_accuracy: 0.9038\n",
      "Epoch 8/100\n",
      "36/36 - 0s - loss: 0.2629 - accuracy: 0.8991 - val_loss: 0.2558 - val_accuracy: 0.9016\n",
      "Epoch 9/100\n",
      "36/36 - 0s - loss: 0.2582 - accuracy: 0.8997 - val_loss: 0.2567 - val_accuracy: 0.9083\n",
      "Epoch 10/100\n",
      "36/36 - 0s - loss: 0.2553 - accuracy: 0.9016 - val_loss: 0.2592 - val_accuracy: 0.9038\n"
     ]
    },
    {
     "data": {
      "text/plain": [
       "<tensorflow.python.keras.callbacks.History at 0x285540e5250>"
      ]
     },
     "execution_count": 5,
     "metadata": {},
     "output_type": "execute_result"
    }
   ],
   "source": [
    "input_size = 10 #we have 10 predictors\n",
    "output_size = 2 #zero or one\n",
    "hidden_layer_size = 50\n",
    "\n",
    "model = tf.keras.Sequential([\n",
    "                            \n",
    "                            tf.keras.layers.Dense(hidden_layer_size, activation = 'relu'),\n",
    "                            # dot product of the inputs and the weights and adds bias\n",
    "                            tf.keras.layers.Dense(hidden_layer_size, activation = 'relu'),\n",
    "                            #we can insert more layers, but whats the right depth?\n",
    "                            tf.keras.layers.Dense(output_size, activation = 'softmax')\n",
    "                            #final layer must transform output into probabilities\n",
    "                            ])\n",
    "# optimizer and loss function\n",
    "model.compile(optimizer='adam', loss='sparse_categorical_crossentropy', metrics = ['accuracy'])\n",
    "\n",
    "BATCH_SIZE = 100\n",
    "MAX_EPOCHS = 100\n",
    "early_stopping = tf.keras.callbacks.EarlyStopping(patience=2)\n",
    "#against overfitting, look below\n",
    "#patience - it won't stop after first random val_loss increase\n",
    "\n",
    "model.fit(train_inputs, train_targets,batch_size = BATCH_SIZE, epochs = MAX_EPOCHS, callbacks = [early_stopping], validation_data =(validation_inputs,validation_targets), verbose = 2)"
   ]
  },
  {
   "cell_type": "code",
   "execution_count": 6,
   "metadata": {},
   "outputs": [
    {
     "name": "stdout",
     "output_type": "stream",
     "text": [
      "14/14 [==============================] - 0s 997us/step - loss: 0.2568 - accuracy: 0.9129\n"
     ]
    }
   ],
   "source": [
    "###EARLY STOPPING MECHANISM###\n",
    "#apparently we have too large number of epochs, since the val_accuracy keeps oscillating coming closer to the end\n",
    "#look above\n",
    "#instead of 100 epochs the process stopped after 7-13 epochs\n",
    "test_loss, test_accuracy = model.evaluate(test_inputs, test_targets)"
   ]
  },
  {
   "cell_type": "code",
   "execution_count": 7,
   "metadata": {},
   "outputs": [
    {
     "name": "stdout",
     "output_type": "stream",
     "text": [
      "\n",
      "Test loss: 0.26. Test accuracy: 91.29%\n"
     ]
    }
   ],
   "source": [
    "print('\\nTest loss: {0:.2f}. Test accuracy: {1:.2f}%'.format(test_loss,test_accuracy*100.))\n",
    "# 0.26, 91.29%, pure luck"
   ]
  }
 ],
 "metadata": {
  "kernelspec": {
   "display_name": "Python 3",
   "language": "python",
   "name": "python3"
  },
  "language_info": {
   "codemirror_mode": {
    "name": "ipython",
    "version": 3
   },
   "file_extension": ".py",
   "mimetype": "text/x-python",
   "name": "python",
   "nbconvert_exporter": "python",
   "pygments_lexer": "ipython3",
   "version": "3.8.5"
  }
 },
 "nbformat": 4,
 "nbformat_minor": 4
}
